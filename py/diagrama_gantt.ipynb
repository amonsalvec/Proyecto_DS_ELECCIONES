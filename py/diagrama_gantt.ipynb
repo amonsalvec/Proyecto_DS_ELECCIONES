{
 "cells": [
  {
   "cell_type": "code",
   "execution_count": null,
   "id": "3081d060",
   "metadata": {},
   "outputs": [],
   "source": [
    "# Diagrama de Gantt - Proyecto Final de 4 días.\n",
    "# Team: Silvia, Rafa, Roberto, Velaz and Abelardo\n",
    "import pandas as pd\n",
    "import plotly.express as px\n",
    "\n",
    "# Definimos las tareas repartidas en los 4 días. \n",
    "# Usamos fechas y horas (formato \"YYYY-MM-DD HH:MM:SS\") para indicar el comienzo y fin de cada tarea.\n",
    "tasks = [\n",
    "    # Día 1: Data Engineering\n",
    "     {\n",
    "        \"Task\": \"-\",\n",
    "        \"Start\": \"2025-06-01 18:00:00\",\n",
    "        \"Finish\": \"2025-06-01 18:10:00\",\n",
    "        \"Resource\": \"Data Engineering\"\n",
    "    },\n",
    "    {\n",
    "        \"Task\": \"Asignación de roles\",\n",
    "        \"Start\": \"2025-06-02 18:00:00\",\n",
    "        \"Finish\": \"2025-06-02 18:10:00\",\n",
    "        \"Resource\": \"Data Engineering\"\n",
    "    },\n",
    "    {\n",
    "        \"Task\": \"Recolección de datos (Webscraping y APIs)\",\n",
    "        \"Start\": \"2025-06-02 18:15:00\",\n",
    "        \"Finish\": \"2025-06-02 19:00:00\",\n",
    "        \"Resource\": \"Data Engineering\"\n",
    "    },\n",
    "    {\n",
    "        \"Task\": \"Modelado y organización de los datos (SQL, Diseño de tablas)\",\n",
    "        \"Start\": \"2025-06-02 19:00:00\",\n",
    "        \"Finish\": \"2025-06-02 20:00:00\",\n",
    "        \"Resource\": \"Data Engineering\"\n",
    "    },\n",
    "    # Día 2: Data Scientist\n",
    "    {\n",
    "        \"Task\": \"Limpieza y exploración inicial de datos\",\n",
    "        \"Start\": \"2025-06-03 00:00:00\",\n",
    "        \"Finish\": \"2025-06-03 20:00:00\",\n",
    "        \"Resource\": \"Data Scientist\"\n",
    "    },\n",
    "    {\n",
    "        \"Task\": \"Análisis estadístico y detección de sesgos\",\n",
    "        \"Start\": \"2025-06-03 00:00:00\",\n",
    "        \"Finish\": \"2025-06-03 20:00:00\",\n",
    "        \"Resource\": \"Data Scientist\"\n",
    "    },\n",
    "    # Día 3: Data Analyst\n",
    "    {\n",
    "        \"Task\": \"Creación de visualizaciones y dashboards\",\n",
    "        \"Start\": \"2025-06-04 00:00:00\",\n",
    "        \"Finish\": \"2025-06-04 20:00:00\",\n",
    "        \"Resource\": \"Data Analyst\"\n",
    "    },\n",
    "    {\n",
    "        \"Task\": \"Elaboración del informe final y síntesis de insights\",\n",
    "        \"Start\": \"2025-06-04 18:00:00\",\n",
    "        \"Finish\": \"2025-06-04 21:00:00\",\n",
    "        \"Resource\": \"Data Analyst\"\n",
    "    },\n",
    "    # Día 4: Integración y presentación final\n",
    "    {\n",
    "        \"Task\": \"Revisión final, feedback interno y ajustes\",\n",
    "        \"Start\": \"2025-06-05 18:00:00\",\n",
    "        \"Finish\": \"2025-06-05 20:00:00\",\n",
    "        \"Resource\": \"Todos\"\n",
    "    },\n",
    "    {\n",
    "        \"Task\": \"Ensayo de Presentación final del modelo y conclusiones\",\n",
    "        \"Start\": \"2025-06-05 20:00:00\",\n",
    "        \"Finish\": \"2025-06-05 21:00:00\",\n",
    "        \"Resource\": \"Todos\"\n",
    "    }\n",
    "]"
   ]
  },
  {
   "cell_type": "code",
   "execution_count": 4,
   "id": "0573d1e7",
   "metadata": {},
   "outputs": [
    {
     "name": "stdout",
     "output_type": "stream",
     "text": [
      "[{'Task': '-', 'Start': '2025-06-01 18:00:00', 'Finish': '2025-06-01 18:10:00', 'Resource': 'Data Engineering'}, {'Task': 'Asignación de roles', 'Start': '2025-06-02 18:00:00', 'Finish': '2025-06-02 18:10:00', 'Resource': 'Data Engineering'}, {'Task': 'Recolección de datos (Webscraping y APIs)', 'Start': '2025-06-02 18:15:00', 'Finish': '2025-06-02 19:00:00', 'Resource': 'Data Engineering'}, {'Task': 'Modelado y organización de los datos (SQL, Diseño de tablas)', 'Start': '2025-06-02 19:00:00', 'Finish': '2025-06-02 20:00:00', 'Resource': 'Data Engineering'}, {'Task': 'Limpieza y exploración inicial de datos', 'Start': '2025-06-03 00:00:00', 'Finish': '2025-06-03 20:00:00', 'Resource': 'Data Scientist'}, {'Task': 'Análisis estadístico y detección de sesgos', 'Start': '2025-06-03 00:00:00', 'Finish': '2025-06-03 20:00:00', 'Resource': 'Data Scientist'}, {'Task': 'Creación de visualizaciones y dashboards', 'Start': '2025-06-04 00:00:00', 'Finish': '2025-06-04 20:00:00', 'Resource': 'Data Analyst'}, {'Task': 'Elaboración del informe final y síntesis de insights', 'Start': '2025-06-04 18:00:00', 'Finish': '2025-06-04 21:00:00', 'Resource': 'Data Analyst'}, {'Task': 'Revisión final, feedback interno y ajustes', 'Start': '2025-06-05 18:00:00', 'Finish': '2025-06-05 20:00:00', 'Resource': 'Todos'}, {'Task': 'Ensayo de Presentación final del modelo y conclusiones', 'Start': '2025-06-05 20:00:00', 'Finish': '2025-06-05 21:00:00', 'Resource': 'Todos'}]\n",
      "                                                Task                Start  \\\n",
      "0                                                  -  2025-06-01 18:00:00   \n",
      "1                                Asignación de roles  2025-06-02 18:00:00   \n",
      "2          Recolección de datos (Webscraping y APIs)  2025-06-02 18:15:00   \n",
      "3  Modelado y organización de los datos (SQL, Dis...  2025-06-02 19:00:00   \n",
      "4            Limpieza y exploración inicial de datos  2025-06-03 00:00:00   \n",
      "5         Análisis estadístico y detección de sesgos  2025-06-03 00:00:00   \n",
      "6           Creación de visualizaciones y dashboards  2025-06-04 00:00:00   \n",
      "7  Elaboración del informe final y síntesis de in...  2025-06-04 18:00:00   \n",
      "8         Revisión final, feedback interno y ajustes  2025-06-05 18:00:00   \n",
      "9  Ensayo de Presentación final del modelo y conc...  2025-06-05 20:00:00   \n",
      "\n",
      "                Finish          Resource  \n",
      "0  2025-06-01 18:10:00  Data Engineering  \n",
      "1  2025-06-02 18:10:00  Data Engineering  \n",
      "2  2025-06-02 19:00:00  Data Engineering  \n",
      "3  2025-06-02 20:00:00  Data Engineering  \n",
      "4  2025-06-03 20:00:00    Data Scientist  \n",
      "5  2025-06-03 20:00:00    Data Scientist  \n",
      "6  2025-06-04 20:00:00      Data Analyst  \n",
      "7  2025-06-04 21:00:00      Data Analyst  \n",
      "8  2025-06-05 20:00:00             Todos  \n",
      "9  2025-06-05 21:00:00             Todos  \n"
     ]
    }
   ],
   "source": [
    "print(tasks)\n",
    "# Creamos un DataFrame con la información de las tareas\n",
    "df = pd.DataFrame(tasks)\n",
    "\n",
    "print(df)"
   ]
  },
  {
   "cell_type": "code",
   "execution_count": 5,
   "id": "c7fd562a",
   "metadata": {},
   "outputs": [
    {
     "data": {
      "application/vnd.plotly.v1+json": {
       "config": {
        "plotlyServerURL": "https://plot.ly"
       },
       "data": [
        {
         "base": [
          "2025-06-01T18:00:00.000000000",
          "2025-06-02T18:00:00.000000000",
          "2025-06-02T18:15:00.000000000",
          "2025-06-02T19:00:00.000000000"
         ],
         "hovertemplate": "Resource=Data Engineering<br>Start=%{base}<br>Finish=%{x}<br>Task=%{y}<extra></extra>",
         "legendgroup": "Data Engineering",
         "marker": {
          "color": "#636efa",
          "pattern": {
           "shape": ""
          }
         },
         "name": "Data Engineering",
         "orientation": "h",
         "showlegend": true,
         "textposition": "auto",
         "type": "bar",
         "x": {
          "bdata": "wCcJAMAnCQDgMikAgO42AA==",
          "dtype": "i4"
         },
         "xaxis": "x",
         "y": [
          "-",
          "Asignación de roles",
          "Recolección de datos (Webscraping y APIs)",
          "Modelado y organización de los datos (SQL, Diseño de tablas)"
         ],
         "yaxis": "y"
        },
        {
         "base": [
          "2025-06-03T00:00:00.000000000",
          "2025-06-03T00:00:00.000000000"
         ],
         "hovertemplate": "Resource=Data Scientist<br>Start=%{base}<br>Finish=%{x}<br>Task=%{y}<extra></extra>",
         "legendgroup": "Data Scientist",
         "marker": {
          "color": "#EF553B",
          "pattern": {
           "shape": ""
          }
         },
         "name": "Data Scientist",
         "orientation": "h",
         "showlegend": true,
         "textposition": "auto",
         "type": "bar",
         "x": {
          "bdata": "AKJKBACiSgQ=",
          "dtype": "i4"
         },
         "xaxis": "x",
         "y": [
          "Limpieza y exploración inicial de datos",
          "Análisis estadístico y detección de sesgos"
         ],
         "yaxis": "y"
        },
        {
         "base": [
          "2025-06-04T00:00:00.000000000",
          "2025-06-04T18:00:00.000000000"
         ],
         "hovertemplate": "Resource=Data Analyst<br>Start=%{base}<br>Finish=%{x}<br>Task=%{y}<extra></extra>",
         "legendgroup": "Data Analyst",
         "marker": {
          "color": "#00cc96",
          "pattern": {
           "shape": ""
          }
         },
         "name": "Data Analyst",
         "orientation": "h",
         "showlegend": true,
         "textposition": "auto",
         "type": "bar",
         "x": {
          "bdata": "AKJKBIDLpAA=",
          "dtype": "i4"
         },
         "xaxis": "x",
         "y": [
          "Creación de visualizaciones y dashboards",
          "Elaboración del informe final y síntesis de insights"
         ],
         "yaxis": "y"
        },
        {
         "base": [
          "2025-06-05T18:00:00.000000000",
          "2025-06-05T20:00:00.000000000"
         ],
         "hovertemplate": "Resource=Todos<br>Start=%{base}<br>Finish=%{x}<br>Task=%{y}<extra></extra>",
         "legendgroup": "Todos",
         "marker": {
          "color": "#ab63fa",
          "pattern": {
           "shape": ""
          }
         },
         "name": "Todos",
         "orientation": "h",
         "showlegend": true,
         "textposition": "auto",
         "type": "bar",
         "x": {
          "bdata": "AN1tAIDuNgA=",
          "dtype": "i4"
         },
         "xaxis": "x",
         "y": [
          "Revisión final, feedback interno y ajustes",
          "Ensayo de Presentación final del modelo y conclusiones"
         ],
         "yaxis": "y"
        }
       ],
       "layout": {
        "barmode": "overlay",
        "legend": {
         "title": {
          "text": "Resource"
         },
         "tracegroupgap": 0
        },
        "template": {
         "data": {
          "bar": [
           {
            "error_x": {
             "color": "#2a3f5f"
            },
            "error_y": {
             "color": "#2a3f5f"
            },
            "marker": {
             "line": {
              "color": "#E5ECF6",
              "width": 0.5
             },
             "pattern": {
              "fillmode": "overlay",
              "size": 10,
              "solidity": 0.2
             }
            },
            "type": "bar"
           }
          ],
          "barpolar": [
           {
            "marker": {
             "line": {
              "color": "#E5ECF6",
              "width": 0.5
             },
             "pattern": {
              "fillmode": "overlay",
              "size": 10,
              "solidity": 0.2
             }
            },
            "type": "barpolar"
           }
          ],
          "carpet": [
           {
            "aaxis": {
             "endlinecolor": "#2a3f5f",
             "gridcolor": "white",
             "linecolor": "white",
             "minorgridcolor": "white",
             "startlinecolor": "#2a3f5f"
            },
            "baxis": {
             "endlinecolor": "#2a3f5f",
             "gridcolor": "white",
             "linecolor": "white",
             "minorgridcolor": "white",
             "startlinecolor": "#2a3f5f"
            },
            "type": "carpet"
           }
          ],
          "choropleth": [
           {
            "colorbar": {
             "outlinewidth": 0,
             "ticks": ""
            },
            "type": "choropleth"
           }
          ],
          "contour": [
           {
            "colorbar": {
             "outlinewidth": 0,
             "ticks": ""
            },
            "colorscale": [
             [
              0,
              "#0d0887"
             ],
             [
              0.1111111111111111,
              "#46039f"
             ],
             [
              0.2222222222222222,
              "#7201a8"
             ],
             [
              0.3333333333333333,
              "#9c179e"
             ],
             [
              0.4444444444444444,
              "#bd3786"
             ],
             [
              0.5555555555555556,
              "#d8576b"
             ],
             [
              0.6666666666666666,
              "#ed7953"
             ],
             [
              0.7777777777777778,
              "#fb9f3a"
             ],
             [
              0.8888888888888888,
              "#fdca26"
             ],
             [
              1,
              "#f0f921"
             ]
            ],
            "type": "contour"
           }
          ],
          "contourcarpet": [
           {
            "colorbar": {
             "outlinewidth": 0,
             "ticks": ""
            },
            "type": "contourcarpet"
           }
          ],
          "heatmap": [
           {
            "colorbar": {
             "outlinewidth": 0,
             "ticks": ""
            },
            "colorscale": [
             [
              0,
              "#0d0887"
             ],
             [
              0.1111111111111111,
              "#46039f"
             ],
             [
              0.2222222222222222,
              "#7201a8"
             ],
             [
              0.3333333333333333,
              "#9c179e"
             ],
             [
              0.4444444444444444,
              "#bd3786"
             ],
             [
              0.5555555555555556,
              "#d8576b"
             ],
             [
              0.6666666666666666,
              "#ed7953"
             ],
             [
              0.7777777777777778,
              "#fb9f3a"
             ],
             [
              0.8888888888888888,
              "#fdca26"
             ],
             [
              1,
              "#f0f921"
             ]
            ],
            "type": "heatmap"
           }
          ],
          "histogram": [
           {
            "marker": {
             "pattern": {
              "fillmode": "overlay",
              "size": 10,
              "solidity": 0.2
             }
            },
            "type": "histogram"
           }
          ],
          "histogram2d": [
           {
            "colorbar": {
             "outlinewidth": 0,
             "ticks": ""
            },
            "colorscale": [
             [
              0,
              "#0d0887"
             ],
             [
              0.1111111111111111,
              "#46039f"
             ],
             [
              0.2222222222222222,
              "#7201a8"
             ],
             [
              0.3333333333333333,
              "#9c179e"
             ],
             [
              0.4444444444444444,
              "#bd3786"
             ],
             [
              0.5555555555555556,
              "#d8576b"
             ],
             [
              0.6666666666666666,
              "#ed7953"
             ],
             [
              0.7777777777777778,
              "#fb9f3a"
             ],
             [
              0.8888888888888888,
              "#fdca26"
             ],
             [
              1,
              "#f0f921"
             ]
            ],
            "type": "histogram2d"
           }
          ],
          "histogram2dcontour": [
           {
            "colorbar": {
             "outlinewidth": 0,
             "ticks": ""
            },
            "colorscale": [
             [
              0,
              "#0d0887"
             ],
             [
              0.1111111111111111,
              "#46039f"
             ],
             [
              0.2222222222222222,
              "#7201a8"
             ],
             [
              0.3333333333333333,
              "#9c179e"
             ],
             [
              0.4444444444444444,
              "#bd3786"
             ],
             [
              0.5555555555555556,
              "#d8576b"
             ],
             [
              0.6666666666666666,
              "#ed7953"
             ],
             [
              0.7777777777777778,
              "#fb9f3a"
             ],
             [
              0.8888888888888888,
              "#fdca26"
             ],
             [
              1,
              "#f0f921"
             ]
            ],
            "type": "histogram2dcontour"
           }
          ],
          "mesh3d": [
           {
            "colorbar": {
             "outlinewidth": 0,
             "ticks": ""
            },
            "type": "mesh3d"
           }
          ],
          "parcoords": [
           {
            "line": {
             "colorbar": {
              "outlinewidth": 0,
              "ticks": ""
             }
            },
            "type": "parcoords"
           }
          ],
          "pie": [
           {
            "automargin": true,
            "type": "pie"
           }
          ],
          "scatter": [
           {
            "fillpattern": {
             "fillmode": "overlay",
             "size": 10,
             "solidity": 0.2
            },
            "type": "scatter"
           }
          ],
          "scatter3d": [
           {
            "line": {
             "colorbar": {
              "outlinewidth": 0,
              "ticks": ""
             }
            },
            "marker": {
             "colorbar": {
              "outlinewidth": 0,
              "ticks": ""
             }
            },
            "type": "scatter3d"
           }
          ],
          "scattercarpet": [
           {
            "marker": {
             "colorbar": {
              "outlinewidth": 0,
              "ticks": ""
             }
            },
            "type": "scattercarpet"
           }
          ],
          "scattergeo": [
           {
            "marker": {
             "colorbar": {
              "outlinewidth": 0,
              "ticks": ""
             }
            },
            "type": "scattergeo"
           }
          ],
          "scattergl": [
           {
            "marker": {
             "colorbar": {
              "outlinewidth": 0,
              "ticks": ""
             }
            },
            "type": "scattergl"
           }
          ],
          "scattermap": [
           {
            "marker": {
             "colorbar": {
              "outlinewidth": 0,
              "ticks": ""
             }
            },
            "type": "scattermap"
           }
          ],
          "scattermapbox": [
           {
            "marker": {
             "colorbar": {
              "outlinewidth": 0,
              "ticks": ""
             }
            },
            "type": "scattermapbox"
           }
          ],
          "scatterpolar": [
           {
            "marker": {
             "colorbar": {
              "outlinewidth": 0,
              "ticks": ""
             }
            },
            "type": "scatterpolar"
           }
          ],
          "scatterpolargl": [
           {
            "marker": {
             "colorbar": {
              "outlinewidth": 0,
              "ticks": ""
             }
            },
            "type": "scatterpolargl"
           }
          ],
          "scatterternary": [
           {
            "marker": {
             "colorbar": {
              "outlinewidth": 0,
              "ticks": ""
             }
            },
            "type": "scatterternary"
           }
          ],
          "surface": [
           {
            "colorbar": {
             "outlinewidth": 0,
             "ticks": ""
            },
            "colorscale": [
             [
              0,
              "#0d0887"
             ],
             [
              0.1111111111111111,
              "#46039f"
             ],
             [
              0.2222222222222222,
              "#7201a8"
             ],
             [
              0.3333333333333333,
              "#9c179e"
             ],
             [
              0.4444444444444444,
              "#bd3786"
             ],
             [
              0.5555555555555556,
              "#d8576b"
             ],
             [
              0.6666666666666666,
              "#ed7953"
             ],
             [
              0.7777777777777778,
              "#fb9f3a"
             ],
             [
              0.8888888888888888,
              "#fdca26"
             ],
             [
              1,
              "#f0f921"
             ]
            ],
            "type": "surface"
           }
          ],
          "table": [
           {
            "cells": {
             "fill": {
              "color": "#EBF0F8"
             },
             "line": {
              "color": "white"
             }
            },
            "header": {
             "fill": {
              "color": "#C8D4E3"
             },
             "line": {
              "color": "white"
             }
            },
            "type": "table"
           }
          ]
         },
         "layout": {
          "annotationdefaults": {
           "arrowcolor": "#2a3f5f",
           "arrowhead": 0,
           "arrowwidth": 1
          },
          "autotypenumbers": "strict",
          "coloraxis": {
           "colorbar": {
            "outlinewidth": 0,
            "ticks": ""
           }
          },
          "colorscale": {
           "diverging": [
            [
             0,
             "#8e0152"
            ],
            [
             0.1,
             "#c51b7d"
            ],
            [
             0.2,
             "#de77ae"
            ],
            [
             0.3,
             "#f1b6da"
            ],
            [
             0.4,
             "#fde0ef"
            ],
            [
             0.5,
             "#f7f7f7"
            ],
            [
             0.6,
             "#e6f5d0"
            ],
            [
             0.7,
             "#b8e186"
            ],
            [
             0.8,
             "#7fbc41"
            ],
            [
             0.9,
             "#4d9221"
            ],
            [
             1,
             "#276419"
            ]
           ],
           "sequential": [
            [
             0,
             "#0d0887"
            ],
            [
             0.1111111111111111,
             "#46039f"
            ],
            [
             0.2222222222222222,
             "#7201a8"
            ],
            [
             0.3333333333333333,
             "#9c179e"
            ],
            [
             0.4444444444444444,
             "#bd3786"
            ],
            [
             0.5555555555555556,
             "#d8576b"
            ],
            [
             0.6666666666666666,
             "#ed7953"
            ],
            [
             0.7777777777777778,
             "#fb9f3a"
            ],
            [
             0.8888888888888888,
             "#fdca26"
            ],
            [
             1,
             "#f0f921"
            ]
           ],
           "sequentialminus": [
            [
             0,
             "#0d0887"
            ],
            [
             0.1111111111111111,
             "#46039f"
            ],
            [
             0.2222222222222222,
             "#7201a8"
            ],
            [
             0.3333333333333333,
             "#9c179e"
            ],
            [
             0.4444444444444444,
             "#bd3786"
            ],
            [
             0.5555555555555556,
             "#d8576b"
            ],
            [
             0.6666666666666666,
             "#ed7953"
            ],
            [
             0.7777777777777778,
             "#fb9f3a"
            ],
            [
             0.8888888888888888,
             "#fdca26"
            ],
            [
             1,
             "#f0f921"
            ]
           ]
          },
          "colorway": [
           "#636efa",
           "#EF553B",
           "#00cc96",
           "#ab63fa",
           "#FFA15A",
           "#19d3f3",
           "#FF6692",
           "#B6E880",
           "#FF97FF",
           "#FECB52"
          ],
          "font": {
           "color": "#2a3f5f"
          },
          "geo": {
           "bgcolor": "white",
           "lakecolor": "white",
           "landcolor": "#E5ECF6",
           "showlakes": true,
           "showland": true,
           "subunitcolor": "white"
          },
          "hoverlabel": {
           "align": "left"
          },
          "hovermode": "closest",
          "mapbox": {
           "style": "light"
          },
          "paper_bgcolor": "white",
          "plot_bgcolor": "#E5ECF6",
          "polar": {
           "angularaxis": {
            "gridcolor": "white",
            "linecolor": "white",
            "ticks": ""
           },
           "bgcolor": "#E5ECF6",
           "radialaxis": {
            "gridcolor": "white",
            "linecolor": "white",
            "ticks": ""
           }
          },
          "scene": {
           "xaxis": {
            "backgroundcolor": "#E5ECF6",
            "gridcolor": "white",
            "gridwidth": 2,
            "linecolor": "white",
            "showbackground": true,
            "ticks": "",
            "zerolinecolor": "white"
           },
           "yaxis": {
            "backgroundcolor": "#E5ECF6",
            "gridcolor": "white",
            "gridwidth": 2,
            "linecolor": "white",
            "showbackground": true,
            "ticks": "",
            "zerolinecolor": "white"
           },
           "zaxis": {
            "backgroundcolor": "#E5ECF6",
            "gridcolor": "white",
            "gridwidth": 2,
            "linecolor": "white",
            "showbackground": true,
            "ticks": "",
            "zerolinecolor": "white"
           }
          },
          "shapedefaults": {
           "line": {
            "color": "#2a3f5f"
           }
          },
          "ternary": {
           "aaxis": {
            "gridcolor": "white",
            "linecolor": "white",
            "ticks": ""
           },
           "baxis": {
            "gridcolor": "white",
            "linecolor": "white",
            "ticks": ""
           },
           "bgcolor": "#E5ECF6",
           "caxis": {
            "gridcolor": "white",
            "linecolor": "white",
            "ticks": ""
           }
          },
          "title": {
           "x": 0.05
          },
          "xaxis": {
           "automargin": true,
           "gridcolor": "white",
           "linecolor": "white",
           "ticks": "",
           "title": {
            "standoff": 15
           },
           "zerolinecolor": "white",
           "zerolinewidth": 2
          },
          "yaxis": {
           "automargin": true,
           "gridcolor": "white",
           "linecolor": "white",
           "ticks": "",
           "title": {
            "standoff": 15
           },
           "zerolinecolor": "white",
           "zerolinewidth": 2
          }
         }
        },
        "title": {
         "text": "Diagrama de Gantt - Proyecto Final de 4 días",
         "x": 0.5
        },
        "xaxis": {
         "anchor": "y",
         "domain": [
          0,
          1
         ],
         "title": {
          "text": "Tiempo"
         },
         "type": "date"
        },
        "yaxis": {
         "anchor": "x",
         "autorange": "reversed",
         "domain": [
          0,
          1
         ],
         "title": {
          "text": "Tareas"
         }
        }
       }
      }
     },
     "metadata": {},
     "output_type": "display_data"
    }
   ],
   "source": [
    "# Usamos la función timeline de Plotly Express para generar el diagrama de Gantt.\n",
    "fig = px.timeline(\n",
    "    df, \n",
    "    x_start=\"Start\", \n",
    "    x_end=\"Finish\", \n",
    "    y=\"Task\", \n",
    "    color=\"Resource\",   # Permite diferenciar por roles o áreas\n",
    "    title=\"Diagrama de Gantt - Proyecto Final de 4 días\"\n",
    ")\n",
    "\n",
    "# Invertimos el orden del eje y para que la primera tarea aparezca en la parte superior\n",
    "fig.update_yaxes(autorange=\"reversed\")\n",
    "\n",
    "# Ajustamos etiquetas de ejes para mayor claridad\n",
    "fig.update_layout(\n",
    "    xaxis_title=\"Tiempo\", \n",
    "    yaxis_title=\"Tareas\", \n",
    "    title_x=0.5\n",
    ")\n",
    "\n",
    "fig.show()"
   ]
  }
 ],
 "metadata": {
  "kernelspec": {
   "display_name": "base",
   "language": "python",
   "name": "python3"
  },
  "language_info": {
   "codemirror_mode": {
    "name": "ipython",
    "version": 3
   },
   "file_extension": ".py",
   "mimetype": "text/x-python",
   "name": "python",
   "nbconvert_exporter": "python",
   "pygments_lexer": "ipython3",
   "version": "3.12.7"
  }
 },
 "nbformat": 4,
 "nbformat_minor": 5
}
