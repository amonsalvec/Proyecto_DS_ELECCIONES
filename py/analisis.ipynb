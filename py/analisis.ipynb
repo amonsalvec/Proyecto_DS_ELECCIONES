{
 "cells": [
  {
   "cell_type": "code",
   "execution_count": null,
   "id": "de0ead29",
   "metadata": {},
   "outputs": [
    {
     "name": "stdout",
     "output_type": "stream",
     "text": [
      "Requirement already satisfied: fake-useragent in c:\\users\\abela\\appdata\\local\\programs\\python\\python313\\lib\\site-packages (2.2.0)\n"
     ]
    },
    {
     "name": "stderr",
     "output_type": "stream",
     "text": [
      "\n",
      "[notice] A new release of pip is available: 25.1 -> 25.1.1\n",
      "[notice] To update, run: python.exe -m pip install --upgrade pip\n"
     ]
    }
   ],
   "source": [
    "#!pip install fake-useragent"
   ]
  },
  {
   "cell_type": "markdown",
   "id": "0285384a",
   "metadata": {},
   "source": [
    "## DATA SCIENTIST\n",
    "\n",
    "\n"
   ]
  },
  {
   "cell_type": "markdown",
   "id": "a7e90a3b",
   "metadata": {},
   "source": [
    "### 1. Obtención de datos mediante url\n",
    "\n",
    "Una de las opciones para la obtención de datos a traves de internet es hacer peticiones directamente a los repositorios\n",
    "que alojan los datos. En este caso, vamos a obtener los datos de la elección europea de 2009, 2014 y 2019 en la Comunidad de valencia a través de [la plataforma centralizadora del gobierno](https://datos.gob.es/es/catalogo?q=elecciones+europeas&sort=score+desc%2C+metadata_created+desc). Hacemos uso de la librería requests para realizar las peticiones y la librería pandas para manipular los datos obtenidos. Obviamente esta es una de las distintas maneras que dispone un Data Scientist de obtener los datos de la web. En la próxima sección mostraremos como obtenerlas a partir de una base de datos que hemos creado previamente siguiendo el proceso de un Data Engineer."
   ]
  },
  {
   "cell_type": "code",
   "execution_count": 1,
   "id": "5a568cdf",
   "metadata": {},
   "outputs": [],
   "source": [
    "# DATA from API's\n",
    "import requests\n",
    "import json\n",
    "import pandas as pd\n",
    "import numpy as np\n",
    "import matplotlib.pyplot as plt\n",
    "import seaborn as sns\n",
    "import statistics\n",
    "from bs4 import BeautifulSoup as bs\n",
    "import zipfile\n",
    "import scipy.stats as stats\n",
    "#from scipy import stats\n",
    "import plotly.express as px\n",
    "import plotly.graph_objects as go"
   ]
  },
  {
   "cell_type": "code",
   "execution_count": 2,
   "id": "38070494",
   "metadata": {},
   "outputs": [],
   "source": [
    "# Esto es para indicar al dominio web que estamos haciendo la peticion desde una dirección fiable.\n",
    "from fake_useragent import UserAgent\n",
    "ua = UserAgent()\n",
    "headers = {'User-Agent': ua.random}"
   ]
  },
  {
   "cell_type": "code",
   "execution_count": 3,
   "id": "df9aad56",
   "metadata": {},
   "outputs": [],
   "source": [
    "# Cargamos los datos desde el repositorio original:\n",
    "# https://datos.gob.es/es/catalogo?q=elecciones+europeas&sort=score+desc,+metadata_created+desc\n",
    "# Para ello, creamos un diccionario con las url de los datasets\n",
    "# Y creamos un diccionario con los dataframes\n",
    "anyos = [\"2009\",\"2014\",\"2019\"]\n",
    "p_url = {\"2009\":\"https://dadesobertes.gva.es/dataset/46630eb4-0457-421c-b4d2-64a80130143e/resource/a0a8e5b0-efe9-4a70-bcf3-6c1cfecc309c/download/resultados-elecciones-europeas-1-2009.csv\",\n",
    "         \"2014\":\"https://dadesobertes.gva.es/dataset/7e333a8e-3119-4e7c-9cc3-c4b3d239dbbb/resource/3d6e04ad-3c03-4f99-9959-64a35f34daf4/download/resultados-elecciones-europeas-1-2014.csv\",\n",
    "         \"2019\":\"https://dadesobertes.gva.es/dataset/3dc860d0-4427-4cc4-a616-8d71c1f6c106/resource/0581a6fe-88bb-4770-8f5d-46194d21a586/download/resultados-elecciones-europeas-1-2019.csv\"\n",
    "         }\n",
    "\n",
    "df_ElecUE ={}\n",
    "\n",
    "for anyo in anyos:\n",
    "  url = p_url[anyo]\n",
    "  df_ElecUE[anyo] = pd.read_csv(url,sep=\";\")\n",
    "  \n"
   ]
  },
  {
   "cell_type": "code",
   "execution_count": 4,
   "id": "7023dd5f",
   "metadata": {},
   "outputs": [
    {
     "data": {
      "text/html": [
       "<div>\n",
       "<style scoped>\n",
       "    .dataframe tbody tr th:only-of-type {\n",
       "        vertical-align: middle;\n",
       "    }\n",
       "\n",
       "    .dataframe tbody tr th {\n",
       "        vertical-align: top;\n",
       "    }\n",
       "\n",
       "    .dataframe thead th {\n",
       "        text-align: right;\n",
       "    }\n",
       "</style>\n",
       "<table border=\"1\" class=\"dataframe\">\n",
       "  <thead>\n",
       "    <tr style=\"text-align: right;\">\n",
       "      <th></th>\n",
       "      <th>ANYO</th>\n",
       "      <th>NUM_ELEC</th>\n",
       "      <th>COD_PROV</th>\n",
       "      <th>PROVINCIA</th>\n",
       "      <th>COD_COMARCA</th>\n",
       "      <th>COMARCA</th>\n",
       "      <th>COD_MUNICIPIO</th>\n",
       "      <th>MUNICIPIO</th>\n",
       "      <th>DISTRITO</th>\n",
       "      <th>SECCION</th>\n",
       "      <th>...</th>\n",
       "      <th>CENSO</th>\n",
       "      <th>VOTANTES</th>\n",
       "      <th>VALIDOS</th>\n",
       "      <th>BLANCOS</th>\n",
       "      <th>ABSTENCIONES</th>\n",
       "      <th>NULOS</th>\n",
       "      <th>CANDIDATO_COD</th>\n",
       "      <th>CANDIDATO_SIGLAS</th>\n",
       "      <th>CANDIDATO_DESC</th>\n",
       "      <th>VOTOS</th>\n",
       "    </tr>\n",
       "  </thead>\n",
       "  <tbody>\n",
       "    <tr>\n",
       "      <th>0</th>\n",
       "      <td>2009</td>\n",
       "      <td>1</td>\n",
       "      <td>3</td>\n",
       "      <td>Alicante</td>\n",
       "      <td>30</td>\n",
       "      <td>La Marina Alta</td>\n",
       "      <td>3001</td>\n",
       "      <td>Atzúbia, l'</td>\n",
       "      <td>1</td>\n",
       "      <td>1</td>\n",
       "      <td>...</td>\n",
       "      <td>392</td>\n",
       "      <td>262</td>\n",
       "      <td>262</td>\n",
       "      <td>1</td>\n",
       "      <td>130</td>\n",
       "      <td>0</td>\n",
       "      <td>14</td>\n",
       "      <td>RC</td>\n",
       "      <td>Partit Republicà Català</td>\n",
       "      <td>0</td>\n",
       "    </tr>\n",
       "    <tr>\n",
       "      <th>1</th>\n",
       "      <td>2009</td>\n",
       "      <td>1</td>\n",
       "      <td>3</td>\n",
       "      <td>Alicante</td>\n",
       "      <td>30</td>\n",
       "      <td>La Marina Alta</td>\n",
       "      <td>3001</td>\n",
       "      <td>Atzúbia, l'</td>\n",
       "      <td>1</td>\n",
       "      <td>1</td>\n",
       "      <td>...</td>\n",
       "      <td>392</td>\n",
       "      <td>262</td>\n",
       "      <td>262</td>\n",
       "      <td>1</td>\n",
       "      <td>130</td>\n",
       "      <td>0</td>\n",
       "      <td>15</td>\n",
       "      <td>PCPE</td>\n",
       "      <td>Partido Comunista de los Pueblos de España</td>\n",
       "      <td>1</td>\n",
       "    </tr>\n",
       "    <tr>\n",
       "      <th>2</th>\n",
       "      <td>2009</td>\n",
       "      <td>1</td>\n",
       "      <td>3</td>\n",
       "      <td>Alicante</td>\n",
       "      <td>30</td>\n",
       "      <td>La Marina Alta</td>\n",
       "      <td>3001</td>\n",
       "      <td>Atzúbia, l'</td>\n",
       "      <td>1</td>\n",
       "      <td>1</td>\n",
       "      <td>...</td>\n",
       "      <td>392</td>\n",
       "      <td>262</td>\n",
       "      <td>262</td>\n",
       "      <td>1</td>\n",
       "      <td>130</td>\n",
       "      <td>0</td>\n",
       "      <td>17</td>\n",
       "      <td>UPyD</td>\n",
       "      <td>Unión Progreso y Democracia</td>\n",
       "      <td>1</td>\n",
       "    </tr>\n",
       "    <tr>\n",
       "      <th>3</th>\n",
       "      <td>2009</td>\n",
       "      <td>1</td>\n",
       "      <td>3</td>\n",
       "      <td>Alicante</td>\n",
       "      <td>30</td>\n",
       "      <td>La Marina Alta</td>\n",
       "      <td>3001</td>\n",
       "      <td>Atzúbia, l'</td>\n",
       "      <td>1</td>\n",
       "      <td>1</td>\n",
       "      <td>...</td>\n",
       "      <td>392</td>\n",
       "      <td>262</td>\n",
       "      <td>262</td>\n",
       "      <td>1</td>\n",
       "      <td>130</td>\n",
       "      <td>0</td>\n",
       "      <td>18</td>\n",
       "      <td>AES</td>\n",
       "      <td>Alternativa Española</td>\n",
       "      <td>0</td>\n",
       "    </tr>\n",
       "    <tr>\n",
       "      <th>4</th>\n",
       "      <td>2009</td>\n",
       "      <td>1</td>\n",
       "      <td>3</td>\n",
       "      <td>Alicante</td>\n",
       "      <td>30</td>\n",
       "      <td>La Marina Alta</td>\n",
       "      <td>3001</td>\n",
       "      <td>Atzúbia, l'</td>\n",
       "      <td>1</td>\n",
       "      <td>1</td>\n",
       "      <td>...</td>\n",
       "      <td>392</td>\n",
       "      <td>262</td>\n",
       "      <td>262</td>\n",
       "      <td>1</td>\n",
       "      <td>130</td>\n",
       "      <td>0</td>\n",
       "      <td>19</td>\n",
       "      <td>FA</td>\n",
       "      <td>Falange Auténtica</td>\n",
       "      <td>0</td>\n",
       "    </tr>\n",
       "  </tbody>\n",
       "</table>\n",
       "<p>5 rows × 22 columns</p>\n",
       "</div>"
      ],
      "text/plain": [
       "   ANYO  NUM_ELEC  COD_PROV PROVINCIA  COD_COMARCA         COMARCA  \\\n",
       "0  2009         1         3  Alicante           30  La Marina Alta   \n",
       "1  2009         1         3  Alicante           30  La Marina Alta   \n",
       "2  2009         1         3  Alicante           30  La Marina Alta   \n",
       "3  2009         1         3  Alicante           30  La Marina Alta   \n",
       "4  2009         1         3  Alicante           30  La Marina Alta   \n",
       "\n",
       "   COD_MUNICIPIO    MUNICIPIO  DISTRITO  SECCION  ... CENSO  VOTANTES  \\\n",
       "0           3001  Atzúbia, l'         1        1  ...   392       262   \n",
       "1           3001  Atzúbia, l'         1        1  ...   392       262   \n",
       "2           3001  Atzúbia, l'         1        1  ...   392       262   \n",
       "3           3001  Atzúbia, l'         1        1  ...   392       262   \n",
       "4           3001  Atzúbia, l'         1        1  ...   392       262   \n",
       "\n",
       "   VALIDOS  BLANCOS  ABSTENCIONES  NULOS  CANDIDATO_COD  CANDIDATO_SIGLAS  \\\n",
       "0      262        1           130      0             14                RC   \n",
       "1      262        1           130      0             15              PCPE   \n",
       "2      262        1           130      0             17              UPyD   \n",
       "3      262        1           130      0             18               AES   \n",
       "4      262        1           130      0             19                FA   \n",
       "\n",
       "                               CANDIDATO_DESC VOTOS  \n",
       "0                     Partit Republicà Català     0  \n",
       "1  Partido Comunista de los Pueblos de España     1  \n",
       "2                 Unión Progreso y Democracia     1  \n",
       "3                        Alternativa Española     0  \n",
       "4                           Falange Auténtica     0  \n",
       "\n",
       "[5 rows x 22 columns]"
      ]
     },
     "execution_count": 4,
     "metadata": {},
     "output_type": "execute_result"
    }
   ],
   "source": [
    "# Mostramos los primeros 5 registros de nuestros dataframes, los cuales corresponden a cada elemento dentro del diccionario \n",
    "# df_ElecUE, y que está compuesto por un dataframe para cada año, 2009, 2014, y 2015 respectivamente. \n",
    "df_ElecUE[\"2009\"].head(5)\n"
   ]
  },
  {
   "cell_type": "code",
   "execution_count": 7,
   "id": "89b2b4c6",
   "metadata": {},
   "outputs": [
    {
     "data": {
      "image/png": "[encoded data removed]",
      "text/plain": [
       "<Figure size 640x480 with 1 Axes>"
      ]
     },
     "metadata": {},
     "output_type": "display_data"
    }
   ],
   "source": [
    "# Hacemos un gráfico de la distribución de los datos de las elecciones por año\n",
    "sns.histplot(df_ElecUE[\"2009\"][\"VOTANTES\"], kde=True)\n",
    "plt.title('Distribución de Ingresos')\n",
    "plt.show()\n"
   ]
  },
  {
   "cell_type": "code",
   "execution_count": 9,
   "id": "ec7185c4",
   "metadata": {},
   "outputs": [
    {
     "data": {
      "image/png": "[encoded data removed]",
      "text/plain": [
       "<Figure size 640x480 with 1 Axes>"
      ]
     },
     "metadata": {},
     "output_type": "display_data"
    }
   ],
   "source": [
    "sns.histplot(df_ElecUE[\"2014\"][\"VOTANTES\"], kde=True)\n",
    "plt.title('Distribución de Ingresos')\n",
    "plt.show()"
   ]
  },
  {
   "cell_type": "code",
   "execution_count": 11,
   "id": "e53a94cc",
   "metadata": {},
   "outputs": [
    {
     "data": {
      "image/png": "[encoded data removed]",
      "text/plain": [
       "<Figure size 640x480 with 1 Axes>"
      ]
     },
     "metadata": {},
     "output_type": "display_data"
    }
   ],
   "source": [
    "sns.histplot(df_ElecUE[\"2019\"][\"VOTANTES\"], kde=True)\n",
    "plt.title('Distribución de Ingresos')\n",
    "plt.show()"
   ]
  },
  {
   "cell_type": "code",
   "execution_count": 12,
   "id": "9cd8b43e",
   "metadata": {},
   "outputs": [
    {
     "name": "stdout",
     "output_type": "stream",
     "text": [
      "   ANYO  NUM_ELEC  COD_PROV PROVINCIA  COD_COMARCA         COMARCA  \\\n",
      "0  2009         1         3  Alicante           30  La Marina Alta   \n",
      "1  2009         1         3  Alicante           30  La Marina Alta   \n",
      "2  2009         1         3  Alicante           30  La Marina Alta   \n",
      "3  2009         1         3  Alicante           30  La Marina Alta   \n",
      "4  2009         1         3  Alicante           30  La Marina Alta   \n",
      "\n",
      "   COD_MUNICIPIO    MUNICIPIO  DISTRITO  SECCION  ... CENSO  VOTANTES  \\\n",
      "0           3001  Atzúbia, l'         1        1  ...   392       262   \n",
      "1           3001  Atzúbia, l'         1        1  ...   392       262   \n",
      "2           3001  Atzúbia, l'         1        1  ...   392       262   \n",
      "3           3001  Atzúbia, l'         1        1  ...   392       262   \n",
      "4           3001  Atzúbia, l'         1        1  ...   392       262   \n",
      "\n",
      "   VALIDOS  BLANCOS  ABSTENCIONES  NULOS  CANDIDATO_COD  CANDIDATO_SIGLAS  \\\n",
      "0      262        1           130      0             14                RC   \n",
      "1      262        1           130      0             15              PCPE   \n",
      "2      262        1           130      0             17              UPyD   \n",
      "3      262        1           130      0             18               AES   \n",
      "4      262        1           130      0             19                FA   \n",
      "\n",
      "                               CANDIDATO_DESC VOTOS  \n",
      "0                     Partit Republicà Català     0  \n",
      "1  Partido Comunista de los Pueblos de España     1  \n",
      "2                 Unión Progreso y Democracia     1  \n",
      "3                        Alternativa Española     0  \n",
      "4                           Falange Auténtica     0  \n",
      "\n",
      "[5 rows x 22 columns]\n",
      "Total de filas combinadas: 635890\n"
     ]
    }
   ],
   "source": [
    "# Ahora bien, necesitamos analizar los datos en conjunto, es decir, intentaremos hacer una análisis comparativo \n",
    "# entre los años de las elecciones y mostrar la evolución de los votantes y los partidos.\n",
    "# Para ello, vamos a integrar los tres dataframe en uno solo, al que llamaremos df_final. \n",
    "df_final = pd.DataFrame()\n",
    "for anyo in anyos:\n",
    "    #df_final = pd.concat([df_ElecUE[2009], df_ElecUE[2014], df_ElecUE[2019]], ignore_index=True)\n",
    "    df_final = pd.concat([df_final,df_ElecUE[anyo]], ignore_index=True)\n",
    "\n",
    "# Guardamos el resultado en un nuevo CSV\n",
    "df_final.to_csv(\"datos_combinados.csv\", index=False)\n",
    "\n",
    "# Verificar que la unión se hizo correctamente\n",
    "print(df_final.head())\n",
    "print(f\"Total de filas combinadas: {df_final.shape[0]}\")\n"
   ]
  },
  {
   "cell_type": "code",
   "execution_count": 13,
   "id": "415196bf",
   "metadata": {},
   "outputs": [
    {
     "name": "stdout",
     "output_type": "stream",
     "text": [
      "<class 'pandas.core.frame.DataFrame'>\n",
      "RangeIndex: 635890 entries, 0 to 635889\n",
      "Data columns (total 23 columns):\n",
      " #   Column            Non-Null Count   Dtype \n",
      "---  ------            --------------   ----- \n",
      " 0   ANYO              635890 non-null  int64 \n",
      " 1   NUM_ELEC          635890 non-null  int64 \n",
      " 2   COD_PROV          635890 non-null  int64 \n",
      " 3   PROVINCIA         635890 non-null  object\n",
      " 4   COD_COMARCA       635890 non-null  int64 \n",
      " 5   COMARCA           635890 non-null  object\n",
      " 6   COD_MUNICIPIO     635890 non-null  int64 \n",
      " 7   MUNICIPIO         635890 non-null  object\n",
      " 8   DISTRITO          635890 non-null  int64 \n",
      " 9   SECCION           635890 non-null  int64 \n",
      " 10  MESA              635890 non-null  object\n",
      " 11  CANDIDATURAS      635890 non-null  int64 \n",
      " 12  CENSO             635890 non-null  int64 \n",
      " 13  VOTANTES          635890 non-null  int64 \n",
      " 14  VALIDOS           635890 non-null  int64 \n",
      " 15  BLANCOS           635890 non-null  int64 \n",
      " 16  ABSTENCIONES      635890 non-null  int64 \n",
      " 17  NULOS             635890 non-null  int64 \n",
      " 18  CANDIDATO_COD     635890 non-null  int64 \n",
      " 19  CANDIDATO_SIGLAS  635890 non-null  object\n",
      " 20  CANDIDATO_DESC    635890 non-null  object\n",
      " 21  VOTOS             635890 non-null  int64 \n",
      " 22  Año               635890 non-null  int64 \n",
      "dtypes: int64(17), object(6)\n",
      "memory usage: 111.6+ MB\n",
      "None\n",
      "ANYO                0\n",
      "NUM_ELEC            0\n",
      "COD_PROV            0\n",
      "PROVINCIA           0\n",
      "COD_COMARCA         0\n",
      "COMARCA             0\n",
      "COD_MUNICIPIO       0\n",
      "MUNICIPIO           0\n",
      "DISTRITO            0\n",
      "SECCION             0\n",
      "MESA                0\n",
      "CANDIDATURAS        0\n",
      "CENSO               0\n",
      "VOTANTES            0\n",
      "VALIDOS             0\n",
      "BLANCOS             0\n",
      "ABSTENCIONES        0\n",
      "NULOS               0\n",
      "CANDIDATO_COD       0\n",
      "CANDIDATO_SIGLAS    0\n",
      "CANDIDATO_DESC      0\n",
      "VOTOS               0\n",
      "Año                 0\n",
      "dtype: int64\n"
     ]
    }
   ],
   "source": [
    "# Cambiamos el tipo de dato de la columna ANYO a entero\n",
    "df_final[\"Año\"] = df_final[\"ANYO\"].astype(int)\n",
    "\n",
    "# Revisar estructura de los datos\n",
    "print(df_final.info())\n",
    "\n",
    "# Revisar valores nulos\n",
    "print(df_final.isnull().sum())\n"
   ]
  },
  {
   "cell_type": "code",
   "execution_count": 14,
   "id": "f5bbfae0",
   "metadata": {},
   "outputs": [
    {
     "name": "stdout",
     "output_type": "stream",
     "text": [
      "Estadístico KS: 0.9997483841544921\n",
      "p-valor: 0.0\n",
      "Los datos no se distribuyen como una normal\n"
     ]
    }
   ],
   "source": [
    "# Realizamos el test KS comparando con la distribución normal ('norm')\n",
    "#filtramos los datos para el año 2009\n",
    "data = df_final[\"VOTANTES\"]\n",
    "ks_stat, p_value = stats.kstest(data, 'norm')\n",
    "print(\"Estadístico KS:\", ks_stat)\n",
    "print(\"p-valor:\", p_value)\n",
    "\n",
    "if p_value < 0.05:\n",
    "    print(\"Los datos no se distribuyen como una normal\")\n",
    "else:\n",
    "    print(\"Los datos se distribuyen como una normal\")"
   ]
  },
  {
   "cell_type": "markdown",
   "id": "dfce1281",
   "metadata": {},
   "source": [
    "Una ves revisados los datos, podemos ver que no hay datos nulos, lo cual es una buena noticia."
   ]
  },
  {
   "cell_type": "code",
   "execution_count": 15,
   "id": "a9285ce4",
   "metadata": {},
   "outputs": [],
   "source": [
    "import plotly.graph_objects as go"
   ]
  },
  {
   "cell_type": "code",
   "execution_count": 16,
   "id": "1ae323fc",
   "metadata": {},
   "outputs": [
    {
     "name": "stdout",
     "output_type": "stream",
     "text": [
      "      ABSTENCIONES  BLANCOS      CENSO    NULOS   VALIDOS  VOTANTES  \\\n",
      "Año                                                                   \n",
      "2009      57651265   714420  123767665   436695  65679705  66116400   \n",
      "2014      69841980  1404390  139891596  1721733  68327883  70049616   \n",
      "2019      41428128   580800  115982432   567552  73986752  74554304   \n",
      "\n",
      "      % Votantes  % Votos Validos  % Abstenciones  % Votos Nulos  \\\n",
      "Año                                                                \n",
      "2009       53.42            53.07           46.58           0.35   \n",
      "2014       50.07            48.84           49.93           1.23   \n",
      "2019       64.28            63.79           35.72           0.49   \n",
      "\n",
      "      % Votos Blanco  \n",
      "Año                   \n",
      "2009            0.58  \n",
      "2014            1.00  \n",
      "2019            0.50  \n"
     ]
    }
   ],
   "source": [
    "# Crear una tabla pivotada para ver los totales de votos, abstención, nulos y blancos por año\n",
    "stats_pivot = df_final.pivot_table(index=\"Año\", values=[\"CENSO\",\"VOTANTES\", \"VALIDOS\", \"ABSTENCIONES\", \"NULOS\", \"BLANCOS\"], aggfunc=\"sum\")\n",
    "\n",
    "# Calcular porcentajes sobre el total de votos\n",
    "stats_pivot[\"% Votantes\"] = ((stats_pivot[\"VOTANTES\"] / stats_pivot[\"CENSO\"]) * 100).round(2)\n",
    "stats_pivot[\"% Votos Validos\"] = ((stats_pivot[\"VALIDOS\"] / stats_pivot[\"CENSO\"]) * 100).round(2)\n",
    "\n",
    "stats_pivot[\"% Abstenciones\"] = ((stats_pivot[\"ABSTENCIONES\"] / stats_pivot[\"CENSO\"]) * 100).round(2)\n",
    "\n",
    "stats_pivot[\"% Votos Nulos\"] = ((stats_pivot[\"NULOS\"] / stats_pivot[\"CENSO\"]) * 100).round(2)\n",
    "\n",
    "stats_pivot[\"% Votos Blanco\"] = ((stats_pivot[\"BLANCOS\"] / stats_pivot[\"CENSO\"]) * 100).round(2)\n",
    "\n",
    "\n",
    "# Mostrar tabla con porcentajes\n",
    "print(stats_pivot)\n"
   ]
  },
  {
   "cell_type": "code",
   "execution_count": 17,
   "id": "132fb5f8",
   "metadata": {},
   "outputs": [
    {
     "data": {
      "application/vnd.plotly.v1+json": {
       "config": {
        "plotlyServerURL": "https://plot.ly"
       },
       "data": [
        {
         "alignmentgroup": "True",
         "hovertemplate": "Tipo de voto=VOTANTES<br>Año=%{x}<br>Cantidad=%{y}<extra></extra>",
         "legendgroup": "VOTANTES",
         "marker": {
          "color": "#636efa",
          "pattern": {
           "shape": ""
          }
         },
         "name": "VOTANTES",
         "offsetgroup": "VOTANTES",
         "orientation": "v",
         "showlegend": true,
         "textposition": "auto",
         "type": "bar",
         "x": {
          "bdata": "2QfeB+MH",
          "dtype": "i2"
         },
         "xaxis": "x",
         "y": {
          "bdata": "MNvwA1DfLATAm3EE",
          "dtype": "i4"
         },
         "yaxis": "y"
        },
        {
         "alignmentgroup": "True",
         "hovertemplate": "Tipo de voto=VALIDOS<br>Año=%{x}<br>Cantidad=%{y}<extra></extra>",
         "legendgroup": "VALIDOS",
         "marker": {
          "color": "#EF553B",
          "pattern": {
           "shape": ""
          }
         },
         "name": "VALIDOS",
         "offsetgroup": "VALIDOS",
         "orientation": "v",
         "showlegend": true,
         "textposition": "auto",
         "type": "bar",
         "x": {
          "bdata": "2QfeB+MH",
          "dtype": "i2"
         },
         "xaxis": "x",
         "y": {
          "bdata": "WTHqA8uZEgTA8mgE",
          "dtype": "i4"
         },
         "yaxis": "y"
        },
        {
         "alignmentgroup": "True",
         "hovertemplate": "Tipo de voto=ABSTENCIONES<br>Año=%{x}<br>Cantidad=%{y}<extra></extra>",
         "legendgroup": "ABSTENCIONES",
         "marker": {
          "color": "#00cc96",
          "pattern": {
           "shape": ""
          }
         },
         "name": "ABSTENCIONES",
         "offsetgroup": "ABSTENCIONES",
         "orientation": "v",
         "showlegend": true,
         "textposition": "auto",
         "type": "bar",
         "x": {
          "bdata": "2QfeB+MH",
          "dtype": "i2"
         },
         "xaxis": "x",
         "y": {
          "bdata": "QbBvAzy0KQSgJHgC",
          "dtype": "i4"
         },
         "yaxis": "y"
        },
        {
         "alignmentgroup": "True",
         "hovertemplate": "Tipo de voto=NULOS<br>Año=%{x}<br>Cantidad=%{y}<extra></extra>",
         "legendgroup": "NULOS",
         "marker": {
          "color": "#ab63fa",
          "pattern": {
           "shape": ""
          }
         },
         "name": "NULOS",
         "offsetgroup": "NULOS",
         "orientation": "v",
         "showlegend": true,
         "textposition": "auto",
         "type": "bar",
         "x": {
          "bdata": "2QfeB+MH",
          "dtype": "i2"
         },
         "xaxis": "x",
         "y": {
          "bdata": "16kGAIVFGgAAqQgA",
          "dtype": "i4"
         },
         "yaxis": "y"
        },
        {
         "alignmentgroup": "True",
         "hovertemplate": "Tipo de voto=BLANCOS<br>Año=%{x}<br>Cantidad=%{y}<extra></extra>",
         "legendgroup": "BLANCOS",
         "marker": {
          "color": "#FFA15A",
          "pattern": {
           "shape": ""
          }
         },
         "name": "BLANCOS",
         "offsetgroup": "BLANCOS",
         "orientation": "v",
         "showlegend": true,
         "textposition": "auto",
         "type": "bar",
         "x": {
          "bdata": "2QfeB+MH",
          "dtype": "i2"
         },
         "xaxis": "x",
         "y": {
          "bdata": "tOYKAOZtFQDA3AgA",
          "dtype": "i4"
         },
         "yaxis": "y"
        }
       ],
       "layout": {
        "barmode": "group",
        "legend": {
         "title": {
          "text": "Tipo de voto"
         },
         "tracegroupgap": 0
        },
        "template": {
         "data": {
          "bar": [
           {
            "error_x": {
             "color": "#2a3f5f"
            },
            "error_y": {
             "color": "#2a3f5f"
            },
            "marker": {
             "line": {
              "color": "#E5ECF6",
              "width": 0.5
             },
             "pattern": {
              "fillmode": "overlay",
              "size": 10,
              "solidity": 0.2
             }
            },
            "type": "bar"
           }
          ],
          "barpolar": [
           {
            "marker": {
             "line": {
              "color": "#E5ECF6",
              "width": 0.5
             },
             "pattern": {
              "fillmode": "overlay",
              "size": 10,
              "solidity": 0.2
             }
            },
            "type": "barpolar"
           }
          ],
          "carpet": [
           {
            "aaxis": {
             "endlinecolor": "#2a3f5f",
             "gridcolor": "white",
             "linecolor": "white",
             "minorgridcolor": "white",
             "startlinecolor": "#2a3f5f"
            },
            "baxis": {
             "endlinecolor": "#2a3f5f",
             "gridcolor": "white",
             "linecolor": "white",
             "minorgridcolor": "white",
             "startlinecolor": "#2a3f5f"
            },
            "type": "carpet"
           }
          ],
          "choropleth": [
           {
            "colorbar": {
             "outlinewidth": 0,
             "ticks": ""
            },
            "type": "choropleth"
           }
          ],
          "contour": [
           {
            "colorbar": {
             "outlinewidth": 0,
             "ticks": ""
            },
            "colorscale": [
             [
              0,
              "#0d0887"
             ],
             [
              0.1111111111111111,
              "#46039f"
             ],
             [
              0.2222222222222222,
              "#7201a8"
             ],
             [
              0.3333333333333333,
              "#9c179e"
             ],
             [
              0.4444444444444444,
              "#bd3786"
             ],
             [
              0.5555555555555556,
              "#d8576b"
             ],
             [
              0.6666666666666666,
              "#ed7953"
             ],
             [
              0.7777777777777778,
              "#fb9f3a"
             ],
             [
              0.8888888888888888,
              "#fdca26"
             ],
             [
              1,
              "#f0f921"
             ]
            ],
            "type": "contour"
           }
          ],
          "contourcarpet": [
           {
            "colorbar": {
             "outlinewidth": 0,
             "ticks": ""
            },
            "type": "contourcarpet"
           }
          ],
          "heatmap": [
           {
            "colorbar": {
             "outlinewidth": 0,
             "ticks": ""
            },
            "colorscale": [
             [
              0,
              "#0d0887"
             ],
             [
              0.1111111111111111,
              "#46039f"
             ],
             [
              0.2222222222222222,
              "#7201a8"
             ],
             [
              0.3333333333333333,
              "#9c179e"
             ],
             [
              0.4444444444444444,
              "#bd3786"
             ],
             [
              0.5555555555555556,
              "#d8576b"
             ],
             [
              0.6666666666666666,
              "#ed7953"
             ],
             [
              0.7777777777777778,
              "#fb9f3a"
             ],
             [
              0.8888888888888888,
              "#fdca26"
             ],
             [
              1,
              "#f0f921"
             ]
            ],
            "type": "heatmap"
           }
          ],
          "histogram": [
           {
            "marker": {
             "pattern": {
              "fillmode": "overlay",
              "size": 10,
              "solidity": 0.2
             }
            },
            "type": "histogram"
           }
          ],
          "histogram2d": [
           {
            "colorbar": {
             "outlinewidth": 0,
             "ticks": ""
            },
            "colorscale": [
             [
              0,
              "#0d0887"
             ],
             [
              0.1111111111111111,
              "#46039f"
             ],
             [
              0.2222222222222222,
              "#7201a8"
             ],
             [
              0.3333333333333333,
              "#9c179e"
             ],
             [
              0.4444444444444444,
              "#bd3786"
             ],
             [
              0.5555555555555556,
              "#d8576b"
             ],
             [
              0.6666666666666666,
              "#ed7953"
             ],
             [
              0.7777777777777778,
              "#fb9f3a"
             ],
             [
              0.8888888888888888,
              "#fdca26"
             ],
             [
              1,
              "#f0f921"
             ]
            ],
            "type": "histogram2d"
           }
          ],
          "histogram2dcontour": [
           {
            "colorbar": {
             "outlinewidth": 0,
             "ticks": ""
            },
            "colorscale": [
             [
              0,
              "#0d0887"
             ],
             [
              0.1111111111111111,
              "#46039f"
             ],
             [
              0.2222222222222222,
              "#7201a8"
             ],
             [
              0.3333333333333333,
              "#9c179e"
             ],
             [
              0.4444444444444444,
              "#bd3786"
             ],
             [
              0.5555555555555556,
              "#d8576b"
             ],
             [
              0.6666666666666666,
              "#ed7953"
             ],
             [
              0.7777777777777778,
              "#fb9f3a"
             ],
             [
              0.8888888888888888,
              "#fdca26"
             ],
             [
              1,
              "#f0f921"
             ]
            ],
            "type": "histogram2dcontour"
           }
          ],
          "mesh3d": [
           {
            "colorbar": {
             "outlinewidth": 0,
             "ticks": ""
            },
            "type": "mesh3d"
           }
          ],
          "parcoords": [
           {
            "line": {
             "colorbar": {
              "outlinewidth": 0,
              "ticks": ""
             }
            },
            "type": "parcoords"
           }
          ],
          "pie": [
           {
            "automargin": true,
            "type": "pie"
           }
          ],
          "scatter": [
           {
            "fillpattern": {
             "fillmode": "overlay",
             "size": 10,
             "solidity": 0.2
            },
            "type": "scatter"
           }
          ],
          "scatter3d": [
           {
            "line": {
             "colorbar": {
              "outlinewidth": 0,
              "ticks": ""
             }
            },
            "marker": {
             "colorbar": {
              "outlinewidth": 0,
              "ticks": ""
             }
            },
            "type": "scatter3d"
           }
          ],
          "scattercarpet": [
           {
            "marker": {
             "colorbar": {
              "outlinewidth": 0,
              "ticks": ""
             }
            },
            "type": "scattercarpet"
           }
          ],
          "scattergeo": [
           {
            "marker": {
             "colorbar": {
              "outlinewidth": 0,
              "ticks": ""
             }
            },
            "type": "scattergeo"
           }
          ],
          "scattergl": [
           {
            "marker": {
             "colorbar": {
              "outlinewidth": 0,
              "ticks": ""
             }
            },
            "type": "scattergl"
           }
          ],
          "scattermap": [
           {
            "marker": {
             "colorbar": {
              "outlinewidth": 0,
              "ticks": ""
             }
            },
            "type": "scattermap"
           }
          ],
          "scattermapbox": [
           {
            "marker": {
             "colorbar": {
              "outlinewidth": 0,
              "ticks": ""
             }
            },
            "type": "scattermapbox"
           }
          ],
          "scatterpolar": [
           {
            "marker": {
             "colorbar": {
              "outlinewidth": 0,
              "ticks": ""
             }
            },
            "type": "scatterpolar"
           }
          ],
          "scatterpolargl": [
           {
            "marker": {
             "colorbar": {
              "outlinewidth": 0,
              "ticks": ""
             }
            },
            "type": "scatterpolargl"
           }
          ],
          "scatterternary": [
           {
            "marker": {
             "colorbar": {
              "outlinewidth": 0,
              "ticks": ""
             }
            },
            "type": "scatterternary"
           }
          ],
          "surface": [
           {
            "colorbar": {
             "outlinewidth": 0,
             "ticks": ""
            },
            "colorscale": [
             [
              0,
              "#0d0887"
             ],
             [
              0.1111111111111111,
              "#46039f"
             ],
             [
              0.2222222222222222,
              "#7201a8"
             ],
             [
              0.3333333333333333,
              "#9c179e"
             ],
             [
              0.4444444444444444,
              "#bd3786"
             ],
             [
              0.5555555555555556,
              "#d8576b"
             ],
             [
              0.6666666666666666,
              "#ed7953"
             ],
             [
              0.7777777777777778,
              "#fb9f3a"
             ],
             [
              0.8888888888888888,
              "#fdca26"
             ],
             [
              1,
              "#f0f921"
             ]
            ],
            "type": "surface"
           }
          ],
          "table": [
           {
            "cells": {
             "fill": {
              "color": "#EBF0F8"
             },
             "line": {
              "color": "white"
             }
            },
            "header": {
             "fill": {
              "color": "#C8D4E3"
             },
             "line": {
              "color": "white"
             }
            },
            "type": "table"
           }
          ]
         },
         "layout": {
          "annotationdefaults": {
           "arrowcolor": "#2a3f5f",
           "arrowhead": 0,
           "arrowwidth": 1
          },
          "autotypenumbers": "strict",
          "coloraxis": {
           "colorbar": {
            "outlinewidth": 0,
            "ticks": ""
           }
          },
          "colorscale": {
           "diverging": [
            [
             0,
             "#8e0152"
            ],
            [
             0.1,
             "#c51b7d"
            ],
            [
             0.2,
             "#de77ae"
            ],
            [
             0.3,
             "#f1b6da"
            ],
            [
             0.4,
             "#fde0ef"
            ],
            [
             0.5,
             "#f7f7f7"
            ],
            [
             0.6,
             "#e6f5d0"
            ],
            [
             0.7,
             "#b8e186"
            ],
            [
             0.8,
             "#7fbc41"
            ],
            [
             0.9,
             "#4d9221"
            ],
            [
             1,
             "#276419"
            ]
           ],
           "sequential": [
            [
             0,
             "#0d0887"
            ],
            [
             0.1111111111111111,
             "#46039f"
            ],
            [
             0.2222222222222222,
             "#7201a8"
            ],
            [
             0.3333333333333333,
             "#9c179e"
            ],
            [
             0.4444444444444444,
             "#bd3786"
            ],
            [
             0.5555555555555556,
             "#d8576b"
            ],
            [
             0.6666666666666666,
             "#ed7953"
            ],
            [
             0.7777777777777778,
             "#fb9f3a"
            ],
            [
             0.8888888888888888,
             "#fdca26"
            ],
            [
             1,
             "#f0f921"
            ]
           ],
           "sequentialminus": [
            [
             0,
             "#0d0887"
            ],
            [
             0.1111111111111111,
             "#46039f"
            ],
            [
             0.2222222222222222,
             "#7201a8"
            ],
            [
             0.3333333333333333,
             "#9c179e"
            ],
            [
             0.4444444444444444,
             "#bd3786"
            ],
            [
             0.5555555555555556,
             "#d8576b"
            ],
            [
             0.6666666666666666,
             "#ed7953"
            ],
            [
             0.7777777777777778,
             "#fb9f3a"
            ],
            [
             0.8888888888888888,
             "#fdca26"
            ],
            [
             1,
             "#f0f921"
            ]
           ]
          },
          "colorway": [
           "#636efa",
           "#EF553B",
           "#00cc96",
           "#ab63fa",
           "#FFA15A",
           "#19d3f3",
           "#FF6692",
           "#B6E880",
           "#FF97FF",
           "#FECB52"
          ],
          "font": {
           "color": "#2a3f5f"
          },
          "geo": {
           "bgcolor": "white",
           "lakecolor": "white",
           "landcolor": "#E5ECF6",
           "showlakes": true,
           "showland": true,
           "subunitcolor": "white"
          },
          "hoverlabel": {
           "align": "left"
          },
          "hovermode": "closest",
          "mapbox": {
           "style": "light"
          },
          "paper_bgcolor": "white",
          "plot_bgcolor": "#E5ECF6",
          "polar": {
           "angularaxis": {
            "gridcolor": "white",
            "linecolor": "white",
            "ticks": ""
           },
           "bgcolor": "#E5ECF6",
           "radialaxis": {
            "gridcolor": "white",
            "linecolor": "white",
            "ticks": ""
           }
          },
          "scene": {
           "xaxis": {
            "backgroundcolor": "#E5ECF6",
            "gridcolor": "white",
            "gridwidth": 2,
            "linecolor": "white",
            "showbackground": true,
            "ticks": "",
            "zerolinecolor": "white"
           },
           "yaxis": {
            "backgroundcolor": "#E5ECF6",
            "gridcolor": "white",
            "gridwidth": 2,
            "linecolor": "white",
            "showbackground": true,
            "ticks": "",
            "zerolinecolor": "white"
           },
           "zaxis": {
            "backgroundcolor": "#E5ECF6",
            "gridcolor": "white",
            "gridwidth": 2,
            "linecolor": "white",
            "showbackground": true,
            "ticks": "",
            "zerolinecolor": "white"
           }
          },
          "shapedefaults": {
           "line": {
            "color": "#2a3f5f"
           }
          },
          "ternary": {
           "aaxis": {
            "gridcolor": "white",
            "linecolor": "white",
            "ticks": ""
           },
           "baxis": {
            "gridcolor": "white",
            "linecolor": "white",
            "ticks": ""
           },
           "bgcolor": "#E5ECF6",
           "caxis": {
            "gridcolor": "white",
            "linecolor": "white",
            "ticks": ""
           }
          },
          "title": {
           "x": 0.05
          },
          "xaxis": {
           "automargin": true,
           "gridcolor": "white",
           "linecolor": "white",
           "ticks": "",
           "title": {
            "standoff": 15
           },
           "zerolinecolor": "white",
           "zerolinewidth": 2
          },
          "yaxis": {
           "automargin": true,
           "gridcolor": "white",
           "linecolor": "white",
           "ticks": "",
           "title": {
            "standoff": 15
           },
           "zerolinecolor": "white",
           "zerolinewidth": 2
          }
         }
        },
        "title": {
         "text": "Totales de votos y abstención por año"
        },
        "xaxis": {
         "anchor": "y",
         "domain": [
          0,
          1
         ],
         "title": {
          "text": "Año"
         }
        },
        "yaxis": {
         "anchor": "x",
         "domain": [
          0,
          1
         ],
         "title": {
          "text": "Cantidad"
         }
        }
       }
      }
     },
     "metadata": {},
     "output_type": "display_data"
    }
   ],
   "source": [
    "# Resetear índice para que el año sea columna y no índice\n",
    "stats_pivot = stats_pivot.reset_index()\n",
    "\n",
    "# Gráfico de barras usando la versión pivotada\n",
    "fig1 = px.bar(stats_pivot, x=\"Año\", y=[\"VOTANTES\", \"VALIDOS\", \"ABSTENCIONES\", \"NULOS\", \"BLANCOS\"],\n",
    "              barmode='group',\n",
    "              title=\"Totales de votos y abstención por año\",\n",
    "              labels={\"value\": \"Cantidad\", \"variable\": \"Tipo de voto\"})\n",
    "\n",
    "fig1.show()"
   ]
  },
  {
   "cell_type": "code",
   "execution_count": 18,
   "id": "7684af65",
   "metadata": {},
   "outputs": [
    {
     "name": "stdout",
     "output_type": "stream",
     "text": [
      "    Año  PROVINCIA  ABSTENCIONES  BLANCOS     CENSO   NULOS   VALIDOS  \\\n",
      "0  2009   Alicante      21460565   226765  43264935  138950  21665420   \n",
      "1  2009  Castellón       6894195    98525  14576170   59500   7622475   \n",
      "2  2009   Valencia      29296505   389130  65926560  238245  36391810   \n",
      "3  2014   Alicante      26819325   443625  49394358  642564  21932469   \n",
      "4  2014  Castellón       8175609   182988  16327272  281814   7869849   \n",
      "5  2014   Valencia      34847046   777777  74169966  797355  38525565   \n",
      "6  2019   Alicante      16390048   190752  41148672  204096  24554528   \n",
      "7  2019  Castellón       4501248    87616  13412608   90272   8821088   \n",
      "8  2019   Valencia      20536832   302432  61421152  273184  40611136   \n",
      "\n",
      "   VOTANTES  % Votantes  % Votos Validos  % Abstenciones  % Votos Nulos  \\\n",
      "0  21804370       50.40            50.08           49.60           0.32   \n",
      "1   7681975       52.70            52.29           47.30           0.41   \n",
      "2  36630055       55.56            55.20           44.44           0.36   \n",
      "3  22575033       45.70            44.40           54.30           1.30   \n",
      "4   8151663       49.93            48.20           50.07           1.73   \n",
      "5  39322920       53.02            51.94           46.98           1.08   \n",
      "6  24758624       60.17            59.67           39.83           0.50   \n",
      "7   8911360       66.44            65.77           33.56           0.67   \n",
      "8  40884320       66.56            66.12           33.44           0.44   \n",
      "\n",
      "   % Votos Blanco  \n",
      "0            0.52  \n",
      "1            0.68  \n",
      "2            0.59  \n",
      "3            0.90  \n",
      "4            1.12  \n",
      "5            1.05  \n",
      "6            0.46  \n",
      "7            0.65  \n",
      "8            0.49  \n"
     ]
    }
   ],
   "source": [
    "#stats_provincia_pivot = df_final.pivot_table(index=[\"PROVINCIA\", \"Año\"], values=[\"CENSO\",\"VOTANTES\", \"VALIDOS\", \"ABSTENCIONES\",\"NULOS\" ,\"BLANCOS\"], aggfunc=\"sum\").reset_index()\n",
    "\n",
    "# Crear tabla pivotada por provincia y año\n",
    "stats_provincia_pivot = df_final.pivot_table(index=[\"Año\", \"PROVINCIA\"], values=[\"CENSO\",\"VOTANTES\",\"VALIDOS\" ,\"ABSTENCIONES\", \"NULOS\", \"BLANCOS\"], aggfunc=\"sum\").reset_index()\n",
    "\n",
    "# Calcular porcentajes\n",
    "stats_provincia_pivot[\"% Votantes\"] = ((stats_provincia_pivot[\"VOTANTES\"] / stats_provincia_pivot[\"CENSO\"]) * 100).round(2)\n",
    "stats_provincia_pivot[\"% Votos Validos\"] = ((stats_provincia_pivot[\"VALIDOS\"] / stats_provincia_pivot[\"CENSO\"]) * 100).round(2)\n",
    "stats_provincia_pivot[\"% Abstenciones\"] = ((stats_provincia_pivot[\"ABSTENCIONES\"] / stats_provincia_pivot[\"CENSO\"]) * 100).round(2)\n",
    "stats_provincia_pivot[\"% Votos Nulos\"] = ((stats_provincia_pivot[\"NULOS\"] / stats_provincia_pivot[\"CENSO\"]) * 100).round(2)\n",
    "stats_provincia_pivot[\"% Votos Blanco\"] = ((stats_provincia_pivot[\"BLANCOS\"] / stats_provincia_pivot[\"CENSO\"]) * 100).round(2)\n",
    "\n",
    "# Mostrar tabla con porcentajes\n",
    "print(stats_provincia_pivot)\n",
    "\n"
   ]
  },
  {
   "cell_type": "code",
   "execution_count": 19,
   "id": "fbee774b",
   "metadata": {},
   "outputs": [
    {
     "data": {
      "application/vnd.plotly.v1+json": {
       "config": {
        "plotlyServerURL": "https://plot.ly"
       },
       "data": [
        {
         "alignmentgroup": "True",
         "hovertemplate": "Tipo de voto=VOTANTES<br>Año=2009<br>PROVINCIA=%{x}<br>Cantidad=%{y}<extra></extra>",
         "legendgroup": "VOTANTES",
         "marker": {
          "color": "#636efa",
          "pattern": {
           "shape": ""
          }
         },
         "name": "VOTANTES",
         "offsetgroup": "VOTANTES",
         "orientation": "v",
         "showlegend": true,
         "textposition": "auto",
         "type": "bar",
         "x": [
          "Alicante",
          "Castellón",
          "Valencia"
         ],
         "xaxis": "x3",
         "y": {
          "bdata": "UrVMAbc3dQAn7i4C",
          "dtype": "i4"
         },
         "yaxis": "y3"
        },
        {
         "alignmentgroup": "True",
         "hovertemplate": "Tipo de voto=VOTANTES<br>Año=2014<br>PROVINCIA=%{x}<br>Cantidad=%{y}<extra></extra>",
         "legendgroup": "VOTANTES",
         "marker": {
          "color": "#636efa",
          "pattern": {
           "shape": ""
          }
         },
         "name": "VOTANTES",
         "offsetgroup": "VOTANTES",
         "orientation": "v",
         "showlegend": false,
         "textposition": "auto",
         "type": "bar",
         "x": [
          "Alicante",
          "Castellón",
          "Valencia"
         ],
         "xaxis": "x2",
         "y": {
          "bdata": "uXdYAW9ifAAoBVgC",
          "dtype": "i4"
         },
         "yaxis": "y2"
        },
        {
         "alignmentgroup": "True",
         "hovertemplate": "Tipo de voto=VOTANTES<br>Año=2019<br>PROVINCIA=%{x}<br>Cantidad=%{y}<extra></extra>",
         "legendgroup": "VOTANTES",
         "marker": {
          "color": "#636efa",
          "pattern": {
           "shape": ""
          }
         },
         "name": "VOTANTES",
         "offsetgroup": "VOTANTES",
         "orientation": "v",
         "showlegend": false,
         "textposition": "auto",
         "type": "bar",
         "x": [
          "Alicante",
          "Castellón",
          "Valencia"
         ],
         "xaxis": "x",
         "y": {
          "bdata": "YMl5AQD6hwBg2G8C",
          "dtype": "i4"
         },
         "yaxis": "y"
        },
        {
         "alignmentgroup": "True",
         "hovertemplate": "Tipo de voto=VALIDOS<br>Año=2009<br>PROVINCIA=%{x}<br>Cantidad=%{y}<extra></extra>",
         "legendgroup": "VALIDOS",
         "marker": {
          "color": "#EF553B",
          "pattern": {
           "shape": ""
          }
         },
         "name": "VALIDOS",
         "offsetgroup": "VALIDOS",
         "orientation": "v",
         "showlegend": true,
         "textposition": "auto",
         "type": "bar",
         "x": [
          "Alicante",
          "Castellón",
          "Valencia"
         ],
         "xaxis": "x3",
         "y": {
          "bdata": "jJZKAUtPdACCSysC",
          "dtype": "i4"
         },
         "yaxis": "y3"
        },
        {
         "alignmentgroup": "True",
         "hovertemplate": "Tipo de voto=VALIDOS<br>Año=2014<br>PROVINCIA=%{x}<br>Cantidad=%{y}<extra></extra>",
         "legendgroup": "VALIDOS",
         "marker": {
          "color": "#EF553B",
          "pattern": {
           "shape": ""
          }
         },
         "name": "VALIDOS",
         "offsetgroup": "VALIDOS",
         "orientation": "v",
         "showlegend": false,
         "textposition": "auto",
         "type": "bar",
         "x": [
          "Alicante",
          "Castellón",
          "Valencia"
         ],
         "xaxis": "x2",
         "y": {
          "bdata": "talOAZkVeAB92ksC",
          "dtype": "i4"
         },
         "yaxis": "y2"
        },
        {
         "alignmentgroup": "True",
         "hovertemplate": "Tipo de voto=VALIDOS<br>Año=2019<br>PROVINCIA=%{x}<br>Cantidad=%{y}<extra></extra>",
         "legendgroup": "VALIDOS",
         "marker": {
          "color": "#EF553B",
          "pattern": {
           "shape": ""
          }
         },
         "name": "VALIDOS",
         "offsetgroup": "VALIDOS",
         "orientation": "v",
         "showlegend": false,
         "textposition": "auto",
         "type": "bar",
         "x": [
          "Alicante",
          "Castellón",
          "Valencia"
         ],
         "xaxis": "x",
         "y": {
          "bdata": "IKx2AWCZhgBArWsC",
          "dtype": "i4"
         },
         "yaxis": "y"
        },
        {
         "alignmentgroup": "True",
         "hovertemplate": "Tipo de voto=ABSTENCIONES<br>Año=2009<br>PROVINCIA=%{x}<br>Cantidad=%{y}<extra></extra>",
         "legendgroup": "ABSTENCIONES",
         "marker": {
          "color": "#00cc96",
          "pattern": {
           "shape": ""
          }
         },
         "name": "ABSTENCIONES",
         "offsetgroup": "ABSTENCIONES",
         "orientation": "v",
         "showlegend": true,
         "textposition": "auto",
         "type": "bar",
         "x": [
          "Alicante",
          "Castellón",
          "Valencia"
         ],
         "xaxis": "x3",
         "y": {
          "bdata": "VXZHAXMyaQB5B78B",
          "dtype": "i4"
         },
         "yaxis": "y3"
        },
        {
         "alignmentgroup": "True",
         "hovertemplate": "Tipo de voto=ABSTENCIONES<br>Año=2014<br>PROVINCIA=%{x}<br>Cantidad=%{y}<extra></extra>",
         "legendgroup": "ABSTENCIONES",
         "marker": {
          "color": "#00cc96",
          "pattern": {
           "shape": ""
          }
         },
         "name": "ABSTENCIONES",
         "offsetgroup": "ABSTENCIONES",
         "orientation": "v",
         "showlegend": false,
         "textposition": "auto",
         "type": "bar",
         "x": [
          "Alicante",
          "Castellón",
          "Valencia"
         ],
         "xaxis": "x2",
         "y": {
          "bdata": "/TqZAfm/fABGuRMC",
          "dtype": "i4"
         },
         "yaxis": "y2"
        },
        {
         "alignmentgroup": "True",
         "hovertemplate": "Tipo de voto=ABSTENCIONES<br>Año=2019<br>PROVINCIA=%{x}<br>Cantidad=%{y}<extra></extra>",
         "legendgroup": "ABSTENCIONES",
         "marker": {
          "color": "#00cc96",
          "pattern": {
           "shape": ""
          }
         },
         "name": "ABSTENCIONES",
         "offsetgroup": "ABSTENCIONES",
         "orientation": "v",
         "showlegend": false,
         "textposition": "auto",
         "type": "bar",
         "x": [
          "Alicante",
          "Castellón",
          "Valencia"
         ],
         "xaxis": "x",
         "y": {
          "bdata": "oBf6AACvRAAAXjkB",
          "dtype": "i4"
         },
         "yaxis": "y"
        },
        {
         "alignmentgroup": "True",
         "hovertemplate": "Tipo de voto=NULOS<br>Año=2009<br>PROVINCIA=%{x}<br>Cantidad=%{y}<extra></extra>",
         "legendgroup": "NULOS",
         "marker": {
          "color": "#ab63fa",
          "pattern": {
           "shape": ""
          }
         },
         "name": "NULOS",
         "offsetgroup": "NULOS",
         "orientation": "v",
         "showlegend": true,
         "textposition": "auto",
         "type": "bar",
         "x": [
          "Alicante",
          "Castellón",
          "Valencia"
         ],
         "xaxis": "x3",
         "y": {
          "bdata": "xh4CAGzoAAClogMA",
          "dtype": "i4"
         },
         "yaxis": "y3"
        },
        {
         "alignmentgroup": "True",
         "hovertemplate": "Tipo de voto=NULOS<br>Año=2014<br>PROVINCIA=%{x}<br>Cantidad=%{y}<extra></extra>",
         "legendgroup": "NULOS",
         "marker": {
          "color": "#ab63fa",
          "pattern": {
           "shape": ""
          }
         },
         "name": "NULOS",
         "offsetgroup": "NULOS",
         "orientation": "v",
         "showlegend": false,
         "textposition": "auto",
         "type": "bar",
         "x": [
          "Alicante",
          "Castellón",
          "Valencia"
         ],
         "xaxis": "x2",
         "y": {
          "bdata": "BM4JANZMBACrKgwA",
          "dtype": "i4"
         },
         "yaxis": "y2"
        },
        {
         "alignmentgroup": "True",
         "hovertemplate": "Tipo de voto=NULOS<br>Año=2019<br>PROVINCIA=%{x}<br>Cantidad=%{y}<extra></extra>",
         "legendgroup": "NULOS",
         "marker": {
          "color": "#ab63fa",
          "pattern": {
           "shape": ""
          }
         },
         "name": "NULOS",
         "offsetgroup": "NULOS",
         "orientation": "v",
         "showlegend": false,
         "textposition": "auto",
         "type": "bar",
         "x": [
          "Alicante",
          "Castellón",
          "Valencia"
         ],
         "xaxis": "x",
         "y": {
          "bdata": "QB0DAKBgAQAgKwQA",
          "dtype": "i4"
         },
         "yaxis": "y"
        },
        {
         "alignmentgroup": "True",
         "hovertemplate": "Tipo de voto=BLANCOS<br>Año=2009<br>PROVINCIA=%{x}<br>Cantidad=%{y}<extra></extra>",
         "legendgroup": "BLANCOS",
         "marker": {
          "color": "#FFA15A",
          "pattern": {
           "shape": ""
          }
         },
         "name": "BLANCOS",
         "offsetgroup": "BLANCOS",
         "orientation": "v",
         "showlegend": true,
         "textposition": "auto",
         "type": "bar",
         "x": [
          "Alicante",
          "Castellón",
          "Valencia"
         ],
         "xaxis": "x3",
         "y": {
          "bdata": "zXUDAN2AAQAK8AUA",
          "dtype": "i4"
         },
         "yaxis": "y3"
        },
        {
         "alignmentgroup": "True",
         "hovertemplate": "Tipo de voto=BLANCOS<br>Año=2014<br>PROVINCIA=%{x}<br>Cantidad=%{y}<extra></extra>",
         "legendgroup": "BLANCOS",
         "marker": {
          "color": "#FFA15A",
          "pattern": {
           "shape": ""
          }
         },
         "name": "BLANCOS",
         "offsetgroup": "BLANCOS",
         "orientation": "v",
         "showlegend": false,
         "textposition": "auto",
         "type": "bar",
         "x": [
          "Alicante",
          "Castellón",
          "Valencia"
         ],
         "xaxis": "x2",
         "y": {
          "bdata": "6cQGAMzKAgAx3gsA",
          "dtype": "i4"
         },
         "yaxis": "y2"
        },
        {
         "alignmentgroup": "True",
         "hovertemplate": "Tipo de voto=BLANCOS<br>Año=2019<br>PROVINCIA=%{x}<br>Cantidad=%{y}<extra></extra>",
         "legendgroup": "BLANCOS",
         "marker": {
          "color": "#FFA15A",
          "pattern": {
           "shape": ""
          }
         },
         "name": "BLANCOS",
         "offsetgroup": "BLANCOS",
         "orientation": "v",
         "showlegend": false,
         "textposition": "auto",
         "type": "bar",
         "x": [
          "Alicante",
          "Castellón",
          "Valencia"
         ],
         "xaxis": "x",
         "y": {
          "bdata": "IOkCAEBWAQBgnQQA",
          "dtype": "i4"
         },
         "yaxis": "y"
        }
       ],
       "layout": {
        "annotations": [
         {
          "font": {},
          "showarrow": false,
          "text": "Año=2019",
          "textangle": 90,
          "x": 0.98,
          "xanchor": "left",
          "xref": "paper",
          "y": 0.15666666666666665,
          "yanchor": "middle",
          "yref": "paper"
         },
         {
          "font": {},
          "showarrow": false,
          "text": "Año=2014",
          "textangle": 90,
          "x": 0.98,
          "xanchor": "left",
          "xref": "paper",
          "y": 0.4999999999999999,
          "yanchor": "middle",
          "yref": "paper"
         },
         {
          "font": {},
          "showarrow": false,
          "text": "Año=2009",
          "textangle": 90,
          "x": 0.98,
          "xanchor": "left",
          "xref": "paper",
          "y": 0.8433333333333332,
          "yanchor": "middle",
          "yref": "paper"
         }
        ],
        "barmode": "group",
        "height": 900,
        "legend": {
         "title": {
          "text": "Tipo de voto"
         },
         "tracegroupgap": 0
        },
        "template": {
         "data": {
          "bar": [
           {
            "error_x": {
             "color": "#2a3f5f"
            },
            "error_y": {
             "color": "#2a3f5f"
            },
            "marker": {
             "line": {
              "color": "#E5ECF6",
              "width": 0.5
             },
             "pattern": {
              "fillmode": "overlay",
              "size": 10,
              "solidity": 0.2
             }
            },
            "type": "bar"
           }
          ],
          "barpolar": [
           {
            "marker": {
             "line": {
              "color": "#E5ECF6",
              "width": 0.5
             },
             "pattern": {
              "fillmode": "overlay",
              "size": 10,
              "solidity": 0.2
             }
            },
            "type": "barpolar"
           }
          ],
          "carpet": [
           {
            "aaxis": {
             "endlinecolor": "#2a3f5f",
             "gridcolor": "white",
             "linecolor": "white",
             "minorgridcolor": "white",
             "startlinecolor": "#2a3f5f"
            },
            "baxis": {
             "endlinecolor": "#2a3f5f",
             "gridcolor": "white",
             "linecolor": "white",
             "minorgridcolor": "white",
             "startlinecolor": "#2a3f5f"
            },
            "type": "carpet"
           }
          ],
          "choropleth": [
           {
            "colorbar": {
             "outlinewidth": 0,
             "ticks": ""
            },
            "type": "choropleth"
           }
          ],
          "contour": [
           {
            "colorbar": {
             "outlinewidth": 0,
             "ticks": ""
            },
            "colorscale": [
             [
              0,
              "#0d0887"
             ],
             [
              0.1111111111111111,
              "#46039f"
             ],
             [
              0.2222222222222222,
              "#7201a8"
             ],
             [
              0.3333333333333333,
              "#9c179e"
             ],
             [
              0.4444444444444444,
              "#bd3786"
             ],
             [
              0.5555555555555556,
              "#d8576b"
             ],
             [
              0.6666666666666666,
              "#ed7953"
             ],
             [
              0.7777777777777778,
              "#fb9f3a"
             ],
             [
              0.8888888888888888,
              "#fdca26"
             ],
             [
              1,
              "#f0f921"
             ]
            ],
            "type": "contour"
           }
          ],
          "contourcarpet": [
           {
            "colorbar": {
             "outlinewidth": 0,
             "ticks": ""
            },
            "type": "contourcarpet"
           }
          ],
          "heatmap": [
           {
            "colorbar": {
             "outlinewidth": 0,
             "ticks": ""
            },
            "colorscale": [
             [
              0,
              "#0d0887"
             ],
             [
              0.1111111111111111,
              "#46039f"
             ],
             [
              0.2222222222222222,
              "#7201a8"
             ],
             [
              0.3333333333333333,
              "#9c179e"
             ],
             [
              0.4444444444444444,
              "#bd3786"
             ],
             [
              0.5555555555555556,
              "#d8576b"
             ],
             [
              0.6666666666666666,
              "#ed7953"
             ],
             [
              0.7777777777777778,
              "#fb9f3a"
             ],
             [
              0.8888888888888888,
              "#fdca26"
             ],
             [
              1,
              "#f0f921"
             ]
            ],
            "type": "heatmap"
           }
          ],
          "histogram": [
           {
            "marker": {
             "pattern": {
              "fillmode": "overlay",
              "size": 10,
              "solidity": 0.2
             }
            },
            "type": "histogram"
           }
          ],
          "histogram2d": [
           {
            "colorbar": {
             "outlinewidth": 0,
             "ticks": ""
            },
            "colorscale": [
             [
              0,
              "#0d0887"
             ],
             [
              0.1111111111111111,
              "#46039f"
             ],
             [
              0.2222222222222222,
              "#7201a8"
             ],
             [
              0.3333333333333333,
              "#9c179e"
             ],
             [
              0.4444444444444444,
              "#bd3786"
             ],
             [
              0.5555555555555556,
              "#d8576b"
             ],
             [
              0.6666666666666666,
              "#ed7953"
             ],
             [
              0.7777777777777778,
              "#fb9f3a"
             ],
             [
              0.8888888888888888,
              "#fdca26"
             ],
             [
              1,
              "#f0f921"
             ]
            ],
            "type": "histogram2d"
           }
          ],
          "histogram2dcontour": [
           {
            "colorbar": {
             "outlinewidth": 0,
             "ticks": ""
            },
            "colorscale": [
             [
              0,
              "#0d0887"
             ],
             [
              0.1111111111111111,
              "#46039f"
             ],
             [
              0.2222222222222222,
              "#7201a8"
             ],
             [
              0.3333333333333333,
              "#9c179e"
             ],
             [
              0.4444444444444444,
              "#bd3786"
             ],
             [
              0.5555555555555556,
              "#d8576b"
             ],
             [
              0.6666666666666666,
              "#ed7953"
             ],
             [
              0.7777777777777778,
              "#fb9f3a"
             ],
             [
              0.8888888888888888,
              "#fdca26"
             ],
             [
              1,
              "#f0f921"
             ]
            ],
            "type": "histogram2dcontour"
           }
          ],
          "mesh3d": [
           {
            "colorbar": {
             "outlinewidth": 0,
             "ticks": ""
            },
            "type": "mesh3d"
           }
          ],
          "parcoords": [
           {
            "line": {
             "colorbar": {
              "outlinewidth": 0,
              "ticks": ""
             }
            },
            "type": "parcoords"
           }
          ],
          "pie": [
           {
            "automargin": true,
            "type": "pie"
           }
          ],
          "scatter": [
           {
            "fillpattern": {
             "fillmode": "overlay",
             "size": 10,
             "solidity": 0.2
            },
            "type": "scatter"
           }
          ],
          "scatter3d": [
           {
            "line": {
             "colorbar": {
              "outlinewidth": 0,
              "ticks": ""
             }
            },
            "marker": {
             "colorbar": {
              "outlinewidth": 0,
              "ticks": ""
             }
            },
            "type": "scatter3d"
           }
          ],
          "scattercarpet": [
           {
            "marker": {
             "colorbar": {
              "outlinewidth": 0,
              "ticks": ""
             }
            },
            "type": "scattercarpet"
           }
          ],
          "scattergeo": [
           {
            "marker": {
             "colorbar": {
              "outlinewidth": 0,
              "ticks": ""
             }
            },
            "type": "scattergeo"
           }
          ],
          "scattergl": [
           {
            "marker": {
             "colorbar": {
              "outlinewidth": 0,
              "ticks": ""
             }
            },
            "type": "scattergl"
           }
          ],
          "scattermap": [
           {
            "marker": {
             "colorbar": {
              "outlinewidth": 0,
              "ticks": ""
             }
            },
            "type": "scattermap"
           }
          ],
          "scattermapbox": [
           {
            "marker": {
             "colorbar": {
              "outlinewidth": 0,
              "ticks": ""
             }
            },
            "type": "scattermapbox"
           }
          ],
          "scatterpolar": [
           {
            "marker": {
             "colorbar": {
              "outlinewidth": 0,
              "ticks": ""
             }
            },
            "type": "scatterpolar"
           }
          ],
          "scatterpolargl": [
           {
            "marker": {
             "colorbar": {
              "outlinewidth": 0,
              "ticks": ""
             }
            },
            "type": "scatterpolargl"
           }
          ],
          "scatterternary": [
           {
            "marker": {
             "colorbar": {
              "outlinewidth": 0,
              "ticks": ""
             }
            },
            "type": "scatterternary"
           }
          ],
          "surface": [
           {
            "colorbar": {
             "outlinewidth": 0,
             "ticks": ""
            },
            "colorscale": [
             [
              0,
              "#0d0887"
             ],
             [
              0.1111111111111111,
              "#46039f"
             ],
             [
              0.2222222222222222,
              "#7201a8"
             ],
             [
              0.3333333333333333,
              "#9c179e"
             ],
             [
              0.4444444444444444,
              "#bd3786"
             ],
             [
              0.5555555555555556,
              "#d8576b"
             ],
             [
              0.6666666666666666,
              "#ed7953"
             ],
             [
              0.7777777777777778,
              "#fb9f3a"
             ],
             [
              0.8888888888888888,
              "#fdca26"
             ],
             [
              1,
              "#f0f921"
             ]
            ],
            "type": "surface"
           }
          ],
          "table": [
           {
            "cells": {
             "fill": {
              "color": "#EBF0F8"
             },
             "line": {
              "color": "white"
             }
            },
            "header": {
             "fill": {
              "color": "#C8D4E3"
             },
             "line": {
              "color": "white"
             }
            },
            "type": "table"
           }
          ]
         },
         "layout": {
          "annotationdefaults": {
           "arrowcolor": "#2a3f5f",
           "arrowhead": 0,
           "arrowwidth": 1
          },
          "autotypenumbers": "strict",
          "coloraxis": {
           "colorbar": {
            "outlinewidth": 0,
            "ticks": ""
           }
          },
          "colorscale": {
           "diverging": [
            [
             0,
             "#8e0152"
            ],
            [
             0.1,
             "#c51b7d"
            ],
            [
             0.2,
             "#de77ae"
            ],
            [
             0.3,
             "#f1b6da"
            ],
            [
             0.4,
             "#fde0ef"
            ],
            [
             0.5,
             "#f7f7f7"
            ],
            [
             0.6,
             "#e6f5d0"
            ],
            [
             0.7,
             "#b8e186"
            ],
            [
             0.8,
             "#7fbc41"
            ],
            [
             0.9,
             "#4d9221"
            ],
            [
             1,
             "#276419"
            ]
           ],
           "sequential": [
            [
             0,
             "#0d0887"
            ],
            [
             0.1111111111111111,
             "#46039f"
            ],
            [
             0.2222222222222222,
             "#7201a8"
            ],
            [
             0.3333333333333333,
             "#9c179e"
            ],
            [
             0.4444444444444444,
             "#bd3786"
            ],
            [
             0.5555555555555556,
             "#d8576b"
            ],
            [
             0.6666666666666666,
             "#ed7953"
            ],
            [
             0.7777777777777778,
             "#fb9f3a"
            ],
            [
             0.8888888888888888,
             "#fdca26"
            ],
            [
             1,
             "#f0f921"
            ]
           ],
           "sequentialminus": [
            [
             0,
             "#0d0887"
            ],
            [
             0.1111111111111111,
             "#46039f"
            ],
            [
             0.2222222222222222,
             "#7201a8"
            ],
            [
             0.3333333333333333,
             "#9c179e"
            ],
            [
             0.4444444444444444,
             "#bd3786"
            ],
            [
             0.5555555555555556,
             "#d8576b"
            ],
            [
             0.6666666666666666,
             "#ed7953"
            ],
            [
             0.7777777777777778,
             "#fb9f3a"
            ],
            [
             0.8888888888888888,
             "#fdca26"
            ],
            [
             1,
             "#f0f921"
            ]
           ]
          },
          "colorway": [
           "#636efa",
           "#EF553B",
           "#00cc96",
           "#ab63fa",
           "#FFA15A",
           "#19d3f3",
           "#FF6692",
           "#B6E880",
           "#FF97FF",
           "#FECB52"
          ],
          "font": {
           "color": "#2a3f5f"
          },
          "geo": {
           "bgcolor": "white",
           "lakecolor": "white",
           "landcolor": "#E5ECF6",
           "showlakes": true,
           "showland": true,
           "subunitcolor": "white"
          },
          "hoverlabel": {
           "align": "left"
          },
          "hovermode": "closest",
          "mapbox": {
           "style": "light"
          },
          "paper_bgcolor": "white",
          "plot_bgcolor": "#E5ECF6",
          "polar": {
           "angularaxis": {
            "gridcolor": "white",
            "linecolor": "white",
            "ticks": ""
           },
           "bgcolor": "#E5ECF6",
           "radialaxis": {
            "gridcolor": "white",
            "linecolor": "white",
            "ticks": ""
           }
          },
          "scene": {
           "xaxis": {
            "backgroundcolor": "#E5ECF6",
            "gridcolor": "white",
            "gridwidth": 2,
            "linecolor": "white",
            "showbackground": true,
            "ticks": "",
            "zerolinecolor": "white"
           },
           "yaxis": {
            "backgroundcolor": "#E5ECF6",
            "gridcolor": "white",
            "gridwidth": 2,
            "linecolor": "white",
            "showbackground": true,
            "ticks": "",
            "zerolinecolor": "white"
           },
           "zaxis": {
            "backgroundcolor": "#E5ECF6",
            "gridcolor": "white",
            "gridwidth": 2,
            "linecolor": "white",
            "showbackground": true,
            "ticks": "",
            "zerolinecolor": "white"
           }
          },
          "shapedefaults": {
           "line": {
            "color": "#2a3f5f"
           }
          },
          "ternary": {
           "aaxis": {
            "gridcolor": "white",
            "linecolor": "white",
            "ticks": ""
           },
           "baxis": {
            "gridcolor": "white",
            "linecolor": "white",
            "ticks": ""
           },
           "bgcolor": "#E5ECF6",
           "caxis": {
            "gridcolor": "white",
            "linecolor": "white",
            "ticks": ""
           }
          },
          "title": {
           "x": 0.05
          },
          "xaxis": {
           "automargin": true,
           "gridcolor": "white",
           "linecolor": "white",
           "ticks": "",
           "title": {
            "standoff": 15
           },
           "zerolinecolor": "white",
           "zerolinewidth": 2
          },
          "yaxis": {
           "automargin": true,
           "gridcolor": "white",
           "linecolor": "white",
           "ticks": "",
           "title": {
            "standoff": 15
           },
           "zerolinecolor": "white",
           "zerolinewidth": 2
          }
         }
        },
        "title": {
         "text": "Totales de votos, validos, nulos y abstención por provincia"
        },
        "xaxis": {
         "anchor": "y",
         "domain": [
          0,
          0.98
         ],
         "title": {
          "text": "PROVINCIA"
         }
        },
        "xaxis2": {
         "anchor": "y2",
         "domain": [
          0,
          0.98
         ],
         "matches": "x",
         "showticklabels": false
        },
        "xaxis3": {
         "anchor": "y3",
         "domain": [
          0,
          0.98
         ],
         "matches": "x",
         "showticklabels": false
        },
        "yaxis": {
         "anchor": "x",
         "domain": [
          0,
          0.3133333333333333
         ],
         "title": {
          "text": "Cantidad"
         }
        },
        "yaxis2": {
         "anchor": "x2",
         "domain": [
          0.34333333333333327,
          0.6566666666666665
         ],
         "matches": "y",
         "title": {
          "text": "Cantidad"
         }
        },
        "yaxis3": {
         "anchor": "x3",
         "domain": [
          0.6866666666666665,
          0.9999999999999998
         ],
         "matches": "y",
         "title": {
          "text": "Cantidad"
         }
        }
       }
      }
     },
     "metadata": {},
     "output_type": "display_data"
    }
   ],
   "source": [
    "# Gráfico de barras por provincia\n",
    "fig2 = px.bar(stats_provincia_pivot, x=\"PROVINCIA\", y=[\"VOTANTES\", \"VALIDOS\", \"ABSTENCIONES\",\"NULOS\",\"BLANCOS\"],\n",
    "              barmode='group',\n",
    "              facet_row=\"Año\", #facet_col=\"Año\",\n",
    "              title=\"Totales de votos, validos, nulos y abstención por provincia\",\n",
    "              labels={\"value\": \"Cantidad\", \"variable\": \"Tipo de voto\"},height=900)\n",
    "\n",
    "fig2.show()\n"
   ]
  },
  {
   "cell_type": "code",
   "execution_count": 20,
   "id": "84457f2e",
   "metadata": {},
   "outputs": [
    {
     "data": {
      "application/vnd.plotly.v1+json": {
       "config": {
        "plotlyServerURL": "https://plot.ly"
       },
       "data": [
        {
         "hovertemplate": "Tipo de voto=VOTANTES<br>Año=%{x}<br>Cantidad=%{y}<extra></extra>",
         "legendgroup": "VOTANTES",
         "line": {
          "color": "#636efa",
          "dash": "solid"
         },
         "marker": {
          "symbol": "circle"
         },
         "mode": "lines+markers",
         "name": "VOTANTES",
         "orientation": "v",
         "showlegend": true,
         "type": "scatter",
         "x": {
          "bdata": "2QfeB+MH",
          "dtype": "i2"
         },
         "xaxis": "x",
         "y": {
          "bdata": "MNvwA1DfLATAm3EE",
          "dtype": "i4"
         },
         "yaxis": "y"
        },
        {
         "hovertemplate": "Tipo de voto=VALIDOS<br>Año=%{x}<br>Cantidad=%{y}<extra></extra>",
         "legendgroup": "VALIDOS",
         "line": {
          "color": "#EF553B",
          "dash": "solid"
         },
         "marker": {
          "symbol": "circle"
         },
         "mode": "lines+markers",
         "name": "VALIDOS",
         "orientation": "v",
         "showlegend": true,
         "type": "scatter",
         "x": {
          "bdata": "2QfeB+MH",
          "dtype": "i2"
         },
         "xaxis": "x",
         "y": {
          "bdata": "WTHqA8uZEgTA8mgE",
          "dtype": "i4"
         },
         "yaxis": "y"
        },
        {
         "hovertemplate": "Tipo de voto=ABSTENCIONES<br>Año=%{x}<br>Cantidad=%{y}<extra></extra>",
         "legendgroup": "ABSTENCIONES",
         "line": {
          "color": "#00cc96",
          "dash": "solid"
         },
         "marker": {
          "symbol": "circle"
         },
         "mode": "lines+markers",
         "name": "ABSTENCIONES",
         "orientation": "v",
         "showlegend": true,
         "type": "scatter",
         "x": {
          "bdata": "2QfeB+MH",
          "dtype": "i2"
         },
         "xaxis": "x",
         "y": {
          "bdata": "QbBvAzy0KQSgJHgC",
          "dtype": "i4"
         },
         "yaxis": "y"
        },
        {
         "hovertemplate": "Tipo de voto=NULOS<br>Año=%{x}<br>Cantidad=%{y}<extra></extra>",
         "legendgroup": "NULOS",
         "line": {
          "color": "#ab63fa",
          "dash": "solid"
         },
         "marker": {
          "symbol": "circle"
         },
         "mode": "lines+markers",
         "name": "NULOS",
         "orientation": "v",
         "showlegend": true,
         "type": "scatter",
         "x": {
          "bdata": "2QfeB+MH",
          "dtype": "i2"
         },
         "xaxis": "x",
         "y": {
          "bdata": "16kGAIVFGgAAqQgA",
          "dtype": "i4"
         },
         "yaxis": "y"
        },
        {
         "hovertemplate": "Tipo de voto=BLANCOS<br>Año=%{x}<br>Cantidad=%{y}<extra></extra>",
         "legendgroup": "BLANCOS",
         "line": {
          "color": "#FFA15A",
          "dash": "solid"
         },
         "marker": {
          "symbol": "circle"
         },
         "mode": "lines+markers",
         "name": "BLANCOS",
         "orientation": "v",
         "showlegend": true,
         "type": "scatter",
         "x": {
          "bdata": "2QfeB+MH",
          "dtype": "i2"
         },
         "xaxis": "x",
         "y": {
          "bdata": "tOYKAOZtFQDA3AgA",
          "dtype": "i4"
         },
         "yaxis": "y"
        }
       ],
       "layout": {
        "legend": {
         "title": {
          "text": "Tipo de voto"
         },
         "tracegroupgap": 0
        },
        "template": {
         "data": {
          "bar": [
           {
            "error_x": {
             "color": "#2a3f5f"
            },
            "error_y": {
             "color": "#2a3f5f"
            },
            "marker": {
             "line": {
              "color": "#E5ECF6",
              "width": 0.5
             },
             "pattern": {
              "fillmode": "overlay",
              "size": 10,
              "solidity": 0.2
             }
            },
            "type": "bar"
           }
          ],
          "barpolar": [
           {
            "marker": {
             "line": {
              "color": "#E5ECF6",
              "width": 0.5
             },
             "pattern": {
              "fillmode": "overlay",
              "size": 10,
              "solidity": 0.2
             }
            },
            "type": "barpolar"
           }
          ],
          "carpet": [
           {
            "aaxis": {
             "endlinecolor": "#2a3f5f",
             "gridcolor": "white",
             "linecolor": "white",
             "minorgridcolor": "white",
             "startlinecolor": "#2a3f5f"
            },
            "baxis": {
             "endlinecolor": "#2a3f5f",
             "gridcolor": "white",
             "linecolor": "white",
             "minorgridcolor": "white",
             "startlinecolor": "#2a3f5f"
            },
            "type": "carpet"
           }
          ],
          "choropleth": [
           {
            "colorbar": {
             "outlinewidth": 0,
             "ticks": ""
            },
            "type": "choropleth"
           }
          ],
          "contour": [
           {
            "colorbar": {
             "outlinewidth": 0,
             "ticks": ""
            },
            "colorscale": [
             [
              0,
              "#0d0887"
             ],
             [
              0.1111111111111111,
              "#46039f"
             ],
             [
              0.2222222222222222,
              "#7201a8"
             ],
             [
              0.3333333333333333,
              "#9c179e"
             ],
             [
              0.4444444444444444,
              "#bd3786"
             ],
             [
              0.5555555555555556,
              "#d8576b"
             ],
             [
              0.6666666666666666,
              "#ed7953"
             ],
             [
              0.7777777777777778,
              "#fb9f3a"
             ],
             [
              0.8888888888888888,
              "#fdca26"
             ],
             [
              1,
              "#f0f921"
             ]
            ],
            "type": "contour"
           }
          ],
          "contourcarpet": [
           {
            "colorbar": {
             "outlinewidth": 0,
             "ticks": ""
            },
            "type": "contourcarpet"
           }
          ],
          "heatmap": [
           {
            "colorbar": {
             "outlinewidth": 0,
             "ticks": ""
            },
            "colorscale": [
             [
              0,
              "#0d0887"
             ],
             [
              0.1111111111111111,
              "#46039f"
             ],
             [
              0.2222222222222222,
              "#7201a8"
             ],
             [
              0.3333333333333333,
              "#9c179e"
             ],
             [
              0.4444444444444444,
              "#bd3786"
             ],
             [
              0.5555555555555556,
              "#d8576b"
             ],
             [
              0.6666666666666666,
              "#ed7953"
             ],
             [
              0.7777777777777778,
              "#fb9f3a"
             ],
             [
              0.8888888888888888,
              "#fdca26"
             ],
             [
              1,
              "#f0f921"
             ]
            ],
            "type": "heatmap"
           }
          ],
          "histogram": [
           {
            "marker": {
             "pattern": {
              "fillmode": "overlay",
              "size": 10,
              "solidity": 0.2
             }
            },
            "type": "histogram"
           }
          ],
          "histogram2d": [
           {
            "colorbar": {
             "outlinewidth": 0,
             "ticks": ""
            },
            "colorscale": [
             [
              0,
              "#0d0887"
             ],
             [
              0.1111111111111111,
              "#46039f"
             ],
             [
              0.2222222222222222,
              "#7201a8"
             ],
             [
              0.3333333333333333,
              "#9c179e"
             ],
             [
              0.4444444444444444,
              "#bd3786"
             ],
             [
              0.5555555555555556,
              "#d8576b"
             ],
             [
              0.6666666666666666,
              "#ed7953"
             ],
             [
              0.7777777777777778,
              "#fb9f3a"
             ],
             [
              0.8888888888888888,
              "#fdca26"
             ],
             [
              1,
              "#f0f921"
             ]
            ],
            "type": "histogram2d"
           }
          ],
          "histogram2dcontour": [
           {
            "colorbar": {
             "outlinewidth": 0,
             "ticks": ""
            },
            "colorscale": [
             [
              0,
              "#0d0887"
             ],
             [
              0.1111111111111111,
              "#46039f"
             ],
             [
              0.2222222222222222,
              "#7201a8"
             ],
             [
              0.3333333333333333,
              "#9c179e"
             ],
             [
              0.4444444444444444,
              "#bd3786"
             ],
             [
              0.5555555555555556,
              "#d8576b"
             ],
             [
              0.6666666666666666,
              "#ed7953"
             ],
             [
              0.7777777777777778,
              "#fb9f3a"
             ],
             [
              0.8888888888888888,
              "#fdca26"
             ],
             [
              1,
              "#f0f921"
             ]
            ],
            "type": "histogram2dcontour"
           }
          ],
          "mesh3d": [
           {
            "colorbar": {
             "outlinewidth": 0,
             "ticks": ""
            },
            "type": "mesh3d"
           }
          ],
          "parcoords": [
           {
            "line": {
             "colorbar": {
              "outlinewidth": 0,
              "ticks": ""
             }
            },
            "type": "parcoords"
           }
          ],
          "pie": [
           {
            "automargin": true,
            "type": "pie"
           }
          ],
          "scatter": [
           {
            "fillpattern": {
             "fillmode": "overlay",
             "size": 10,
             "solidity": 0.2
            },
            "type": "scatter"
           }
          ],
          "scatter3d": [
           {
            "line": {
             "colorbar": {
              "outlinewidth": 0,
              "ticks": ""
             }
            },
            "marker": {
             "colorbar": {
              "outlinewidth": 0,
              "ticks": ""
             }
            },
            "type": "scatter3d"
           }
          ],
          "scattercarpet": [
           {
            "marker": {
             "colorbar": {
              "outlinewidth": 0,
              "ticks": ""
             }
            },
            "type": "scattercarpet"
           }
          ],
          "scattergeo": [
           {
            "marker": {
             "colorbar": {
              "outlinewidth": 0,
              "ticks": ""
             }
            },
            "type": "scattergeo"
           }
          ],
          "scattergl": [
           {
            "marker": {
             "colorbar": {
              "outlinewidth": 0,
              "ticks": ""
             }
            },
            "type": "scattergl"
           }
          ],
          "scattermap": [
           {
            "marker": {
             "colorbar": {
              "outlinewidth": 0,
              "ticks": ""
             }
            },
            "type": "scattermap"
           }
          ],
          "scattermapbox": [
           {
            "marker": {
             "colorbar": {
              "outlinewidth": 0,
              "ticks": ""
             }
            },
            "type": "scattermapbox"
           }
          ],
          "scatterpolar": [
           {
            "marker": {
             "colorbar": {
              "outlinewidth": 0,
              "ticks": ""
             }
            },
            "type": "scatterpolar"
           }
          ],
          "scatterpolargl": [
           {
            "marker": {
             "colorbar": {
              "outlinewidth": 0,
              "ticks": ""
             }
            },
            "type": "scatterpolargl"
           }
          ],
          "scatterternary": [
           {
            "marker": {
             "colorbar": {
              "outlinewidth": 0,
              "ticks": ""
             }
            },
            "type": "scatterternary"
           }
          ],
          "surface": [
           {
            "colorbar": {
             "outlinewidth": 0,
             "ticks": ""
            },
            "colorscale": [
             [
              0,
              "#0d0887"
             ],
             [
              0.1111111111111111,
              "#46039f"
             ],
             [
              0.2222222222222222,
              "#7201a8"
             ],
             [
              0.3333333333333333,
              "#9c179e"
             ],
             [
              0.4444444444444444,
              "#bd3786"
             ],
             [
              0.5555555555555556,
              "#d8576b"
             ],
             [
              0.6666666666666666,
              "#ed7953"
             ],
             [
              0.7777777777777778,
              "#fb9f3a"
             ],
             [
              0.8888888888888888,
              "#fdca26"
             ],
             [
              1,
              "#f0f921"
             ]
            ],
            "type": "surface"
           }
          ],
          "table": [
           {
            "cells": {
             "fill": {
              "color": "#EBF0F8"
             },
             "line": {
              "color": "white"
             }
            },
            "header": {
             "fill": {
              "color": "#C8D4E3"
             },
             "line": {
              "color": "white"
             }
            },
            "type": "table"
           }
          ]
         },
         "layout": {
          "annotationdefaults": {
           "arrowcolor": "#2a3f5f",
           "arrowhead": 0,
           "arrowwidth": 1
          },
          "autotypenumbers": "strict",
          "coloraxis": {
           "colorbar": {
            "outlinewidth": 0,
            "ticks": ""
           }
          },
          "colorscale": {
           "diverging": [
            [
             0,
             "#8e0152"
            ],
            [
             0.1,
             "#c51b7d"
            ],
            [
             0.2,
             "#de77ae"
            ],
            [
             0.3,
             "#f1b6da"
            ],
            [
             0.4,
             "#fde0ef"
            ],
            [
             0.5,
             "#f7f7f7"
            ],
            [
             0.6,
             "#e6f5d0"
            ],
            [
             0.7,
             "#b8e186"
            ],
            [
             0.8,
             "#7fbc41"
            ],
            [
             0.9,
             "#4d9221"
            ],
            [
             1,
             "#276419"
            ]
           ],
           "sequential": [
            [
             0,
             "#0d0887"
            ],
            [
             0.1111111111111111,
             "#46039f"
            ],
            [
             0.2222222222222222,
             "#7201a8"
            ],
            [
             0.3333333333333333,
             "#9c179e"
            ],
            [
             0.4444444444444444,
             "#bd3786"
            ],
            [
             0.5555555555555556,
             "#d8576b"
            ],
            [
             0.6666666666666666,
             "#ed7953"
            ],
            [
             0.7777777777777778,
             "#fb9f3a"
            ],
            [
             0.8888888888888888,
             "#fdca26"
            ],
            [
             1,
             "#f0f921"
            ]
           ],
           "sequentialminus": [
            [
             0,
             "#0d0887"
            ],
            [
             0.1111111111111111,
             "#46039f"
            ],
            [
             0.2222222222222222,
             "#7201a8"
            ],
            [
             0.3333333333333333,
             "#9c179e"
            ],
            [
             0.4444444444444444,
             "#bd3786"
            ],
            [
             0.5555555555555556,
             "#d8576b"
            ],
            [
             0.6666666666666666,
             "#ed7953"
            ],
            [
             0.7777777777777778,
             "#fb9f3a"
            ],
            [
             0.8888888888888888,
             "#fdca26"
            ],
            [
             1,
             "#f0f921"
            ]
           ]
          },
          "colorway": [
           "#636efa",
           "#EF553B",
           "#00cc96",
           "#ab63fa",
           "#FFA15A",
           "#19d3f3",
           "#FF6692",
           "#B6E880",
           "#FF97FF",
           "#FECB52"
          ],
          "font": {
           "color": "#2a3f5f"
          },
          "geo": {
           "bgcolor": "white",
           "lakecolor": "white",
           "landcolor": "#E5ECF6",
           "showlakes": true,
           "showland": true,
           "subunitcolor": "white"
          },
          "hoverlabel": {
           "align": "left"
          },
          "hovermode": "closest",
          "mapbox": {
           "style": "light"
          },
          "paper_bgcolor": "white",
          "plot_bgcolor": "#E5ECF6",
          "polar": {
           "angularaxis": {
            "gridcolor": "white",
            "linecolor": "white",
            "ticks": ""
           },
           "bgcolor": "#E5ECF6",
           "radialaxis": {
            "gridcolor": "white",
            "linecolor": "white",
            "ticks": ""
           }
          },
          "scene": {
           "xaxis": {
            "backgroundcolor": "#E5ECF6",
            "gridcolor": "white",
            "gridwidth": 2,
            "linecolor": "white",
            "showbackground": true,
            "ticks": "",
            "zerolinecolor": "white"
           },
           "yaxis": {
            "backgroundcolor": "#E5ECF6",
            "gridcolor": "white",
            "gridwidth": 2,
            "linecolor": "white",
            "showbackground": true,
            "ticks": "",
            "zerolinecolor": "white"
           },
           "zaxis": {
            "backgroundcolor": "#E5ECF6",
            "gridcolor": "white",
            "gridwidth": 2,
            "linecolor": "white",
            "showbackground": true,
            "ticks": "",
            "zerolinecolor": "white"
           }
          },
          "shapedefaults": {
           "line": {
            "color": "#2a3f5f"
           }
          },
          "ternary": {
           "aaxis": {
            "gridcolor": "white",
            "linecolor": "white",
            "ticks": ""
           },
           "baxis": {
            "gridcolor": "white",
            "linecolor": "white",
            "ticks": ""
           },
           "bgcolor": "#E5ECF6",
           "caxis": {
            "gridcolor": "white",
            "linecolor": "white",
            "ticks": ""
           }
          },
          "title": {
           "x": 0.05
          },
          "xaxis": {
           "automargin": true,
           "gridcolor": "white",
           "linecolor": "white",
           "ticks": "",
           "title": {
            "standoff": 15
           },
           "zerolinecolor": "white",
           "zerolinewidth": 2
          },
          "yaxis": {
           "automargin": true,
           "gridcolor": "white",
           "linecolor": "white",
           "ticks": "",
           "title": {
            "standoff": 15
           },
           "zerolinecolor": "white",
           "zerolinewidth": 2
          }
         }
        },
        "title": {
         "text": "Tendencia de votos y abstención por año"
        },
        "xaxis": {
         "anchor": "y",
         "domain": [
          0,
          1
         ],
         "title": {
          "text": "Año"
         }
        },
        "yaxis": {
         "anchor": "x",
         "domain": [
          0,
          1
         ],
         "title": {
          "text": "Cantidad"
         }
        }
       }
      }
     },
     "metadata": {},
     "output_type": "display_data"
    }
   ],
   "source": [
    "# Gráfico de líneas para mostrar tendencia\n",
    "fig1 = px.line(stats_pivot, x=\"Año\", y=[\"VOTANTES\", \"VALIDOS\", \"ABSTENCIONES\", \"NULOS\", \"BLANCOS\"],\n",
    "               title=\"Tendencia de votos y abstención por año\",\n",
    "               labels={\"value\": \"Cantidad\", \"variable\": \"Tipo de voto\"},\n",
    "               markers=True)\n",
    "\n",
    "fig1.show()\n"
   ]
  },
  {
   "cell_type": "code",
   "execution_count": 21,
   "id": "ae0f8dee",
   "metadata": {},
   "outputs": [
    {
     "data": {
      "application/vnd.plotly.v1+json": {
       "config": {
        "plotlyServerURL": "https://plot.ly"
       },
       "data": [
        {
         "hovertemplate": "Tipo de voto=VOTANTES<br>PROVINCIA=Alicante<br>Año=%{x}<br>Cantidad=%{y}<extra></extra>",
         "legendgroup": "VOTANTES",
         "line": {
          "color": "#636efa",
          "dash": "solid"
         },
         "marker": {
          "symbol": "circle"
         },
         "mode": "lines+markers",
         "name": "VOTANTES",
         "orientation": "v",
         "showlegend": true,
         "type": "scatter",
         "x": {
          "bdata": "2QfeB+MH",
          "dtype": "i2"
         },
         "xaxis": "x",
         "y": {
          "bdata": "UrVMAbl3WAFgyXkB",
          "dtype": "i4"
         },
         "yaxis": "y"
        },
        {
         "hovertemplate": "Tipo de voto=VOTANTES<br>PROVINCIA=Castellón<br>Año=%{x}<br>Cantidad=%{y}<extra></extra>",
         "legendgroup": "VOTANTES",
         "line": {
          "color": "#636efa",
          "dash": "solid"
         },
         "marker": {
          "symbol": "circle"
         },
         "mode": "lines+markers",
         "name": "VOTANTES",
         "orientation": "v",
         "showlegend": false,
         "type": "scatter",
         "x": {
          "bdata": "2QfeB+MH",
          "dtype": "i2"
         },
         "xaxis": "x2",
         "y": {
          "bdata": "tzd1AG9ifAAA+ocA",
          "dtype": "i4"
         },
         "yaxis": "y2"
        },
        {
         "hovertemplate": "Tipo de voto=VOTANTES<br>PROVINCIA=Valencia<br>Año=%{x}<br>Cantidad=%{y}<extra></extra>",
         "legendgroup": "VOTANTES",
         "line": {
          "color": "#636efa",
          "dash": "solid"
         },
         "marker": {
          "symbol": "circle"
         },
         "mode": "lines+markers",
         "name": "VOTANTES",
         "orientation": "v",
         "showlegend": false,
         "type": "scatter",
         "x": {
          "bdata": "2QfeB+MH",
          "dtype": "i2"
         },
         "xaxis": "x3",
         "y": {
          "bdata": "J+4uAigFWAJg2G8C",
          "dtype": "i4"
         },
         "yaxis": "y3"
        },
        {
         "hovertemplate": "Tipo de voto=VALIDOS<br>PROVINCIA=Alicante<br>Año=%{x}<br>Cantidad=%{y}<extra></extra>",
         "legendgroup": "VALIDOS",
         "line": {
          "color": "#EF553B",
          "dash": "solid"
         },
         "marker": {
          "symbol": "circle"
         },
         "mode": "lines+markers",
         "name": "VALIDOS",
         "orientation": "v",
         "showlegend": true,
         "type": "scatter",
         "x": {
          "bdata": "2QfeB+MH",
          "dtype": "i2"
         },
         "xaxis": "x",
         "y": {
          "bdata": "jJZKAbWpTgEgrHYB",
          "dtype": "i4"
         },
         "yaxis": "y"
        },
        {
         "hovertemplate": "Tipo de voto=VALIDOS<br>PROVINCIA=Castellón<br>Año=%{x}<br>Cantidad=%{y}<extra></extra>",
         "legendgroup": "VALIDOS",
         "line": {
          "color": "#EF553B",
          "dash": "solid"
         },
         "marker": {
          "symbol": "circle"
         },
         "mode": "lines+markers",
         "name": "VALIDOS",
         "orientation": "v",
         "showlegend": false,
         "type": "scatter",
         "x": {
          "bdata": "2QfeB+MH",
          "dtype": "i2"
         },
         "xaxis": "x2",
         "y": {
          "bdata": "S090AJkVeABgmYYA",
          "dtype": "i4"
         },
         "yaxis": "y2"
        },
        {
         "hovertemplate": "Tipo de voto=VALIDOS<br>PROVINCIA=Valencia<br>Año=%{x}<br>Cantidad=%{y}<extra></extra>",
         "legendgroup": "VALIDOS",
         "line": {
          "color": "#EF553B",
          "dash": "solid"
         },
         "marker": {
          "symbol": "circle"
         },
         "mode": "lines+markers",
         "name": "VALIDOS",
         "orientation": "v",
         "showlegend": false,
         "type": "scatter",
         "x": {
          "bdata": "2QfeB+MH",
          "dtype": "i2"
         },
         "xaxis": "x3",
         "y": {
          "bdata": "gksrAn3aSwJArWsC",
          "dtype": "i4"
         },
         "yaxis": "y3"
        },
        {
         "hovertemplate": "Tipo de voto=ABSTENCIONES<br>PROVINCIA=Alicante<br>Año=%{x}<br>Cantidad=%{y}<extra></extra>",
         "legendgroup": "ABSTENCIONES",
         "line": {
          "color": "#00cc96",
          "dash": "solid"
         },
         "marker": {
          "symbol": "circle"
         },
         "mode": "lines+markers",
         "name": "ABSTENCIONES",
         "orientation": "v",
         "showlegend": true,
         "type": "scatter",
         "x": {
          "bdata": "2QfeB+MH",
          "dtype": "i2"
         },
         "xaxis": "x",
         "y": {
          "bdata": "VXZHAf06mQGgF/oA",
          "dtype": "i4"
         },
         "yaxis": "y"
        },
        {
         "hovertemplate": "Tipo de voto=ABSTENCIONES<br>PROVINCIA=Castellón<br>Año=%{x}<br>Cantidad=%{y}<extra></extra>",
         "legendgroup": "ABSTENCIONES",
         "line": {
          "color": "#00cc96",
          "dash": "solid"
         },
         "marker": {
          "symbol": "circle"
         },
         "mode": "lines+markers",
         "name": "ABSTENCIONES",
         "orientation": "v",
         "showlegend": false,
         "type": "scatter",
         "x": {
          "bdata": "2QfeB+MH",
          "dtype": "i2"
         },
         "xaxis": "x2",
         "y": {
          "bdata": "czJpAPm/fAAAr0QA",
          "dtype": "i4"
         },
         "yaxis": "y2"
        },
        {
         "hovertemplate": "Tipo de voto=ABSTENCIONES<br>PROVINCIA=Valencia<br>Año=%{x}<br>Cantidad=%{y}<extra></extra>",
         "legendgroup": "ABSTENCIONES",
         "line": {
          "color": "#00cc96",
          "dash": "solid"
         },
         "marker": {
          "symbol": "circle"
         },
         "mode": "lines+markers",
         "name": "ABSTENCIONES",
         "orientation": "v",
         "showlegend": false,
         "type": "scatter",
         "x": {
          "bdata": "2QfeB+MH",
          "dtype": "i2"
         },
         "xaxis": "x3",
         "y": {
          "bdata": "eQe/AUa5EwIAXjkB",
          "dtype": "i4"
         },
         "yaxis": "y3"
        },
        {
         "hovertemplate": "Tipo de voto=NULOS<br>PROVINCIA=Alicante<br>Año=%{x}<br>Cantidad=%{y}<extra></extra>",
         "legendgroup": "NULOS",
         "line": {
          "color": "#ab63fa",
          "dash": "solid"
         },
         "marker": {
          "symbol": "circle"
         },
         "mode": "lines+markers",
         "name": "NULOS",
         "orientation": "v",
         "showlegend": true,
         "type": "scatter",
         "x": {
          "bdata": "2QfeB+MH",
          "dtype": "i2"
         },
         "xaxis": "x",
         "y": {
          "bdata": "xh4CAATOCQBAHQMA",
          "dtype": "i4"
         },
         "yaxis": "y"
        },
        {
         "hovertemplate": "Tipo de voto=NULOS<br>PROVINCIA=Castellón<br>Año=%{x}<br>Cantidad=%{y}<extra></extra>",
         "legendgroup": "NULOS",
         "line": {
          "color": "#ab63fa",
          "dash": "solid"
         },
         "marker": {
          "symbol": "circle"
         },
         "mode": "lines+markers",
         "name": "NULOS",
         "orientation": "v",
         "showlegend": false,
         "type": "scatter",
         "x": {
          "bdata": "2QfeB+MH",
          "dtype": "i2"
         },
         "xaxis": "x2",
         "y": {
          "bdata": "bOgAANZMBACgYAEA",
          "dtype": "i4"
         },
         "yaxis": "y2"
        },
        {
         "hovertemplate": "Tipo de voto=NULOS<br>PROVINCIA=Valencia<br>Año=%{x}<br>Cantidad=%{y}<extra></extra>",
         "legendgroup": "NULOS",
         "line": {
          "color": "#ab63fa",
          "dash": "solid"
         },
         "marker": {
          "symbol": "circle"
         },
         "mode": "lines+markers",
         "name": "NULOS",
         "orientation": "v",
         "showlegend": false,
         "type": "scatter",
         "x": {
          "bdata": "2QfeB+MH",
          "dtype": "i2"
         },
         "xaxis": "x3",
         "y": {
          "bdata": "paIDAKsqDAAgKwQA",
          "dtype": "i4"
         },
         "yaxis": "y3"
        },
        {
         "hovertemplate": "Tipo de voto=BLANCOS<br>PROVINCIA=Alicante<br>Año=%{x}<br>Cantidad=%{y}<extra></extra>",
         "legendgroup": "BLANCOS",
         "line": {
          "color": "#FFA15A",
          "dash": "solid"
         },
         "marker": {
          "symbol": "circle"
         },
         "mode": "lines+markers",
         "name": "BLANCOS",
         "orientation": "v",
         "showlegend": true,
         "type": "scatter",
         "x": {
          "bdata": "2QfeB+MH",
          "dtype": "i2"
         },
         "xaxis": "x",
         "y": {
          "bdata": "zXUDAOnEBgAg6QIA",
          "dtype": "i4"
         },
         "yaxis": "y"
        },
        {
         "hovertemplate": "Tipo de voto=BLANCOS<br>PROVINCIA=Castellón<br>Año=%{x}<br>Cantidad=%{y}<extra></extra>",
         "legendgroup": "BLANCOS",
         "line": {
          "color": "#FFA15A",
          "dash": "solid"
         },
         "marker": {
          "symbol": "circle"
         },
         "mode": "lines+markers",
         "name": "BLANCOS",
         "orientation": "v",
         "showlegend": false,
         "type": "scatter",
         "x": {
          "bdata": "2QfeB+MH",
          "dtype": "i2"
         },
         "xaxis": "x2",
         "y": {
          "bdata": "3YABAMzKAgBAVgEA",
          "dtype": "i4"
         },
         "yaxis": "y2"
        },
        {
         "hovertemplate": "Tipo de voto=BLANCOS<br>PROVINCIA=Valencia<br>Año=%{x}<br>Cantidad=%{y}<extra></extra>",
         "legendgroup": "BLANCOS",
         "line": {
          "color": "#FFA15A",
          "dash": "solid"
         },
         "marker": {
          "symbol": "circle"
         },
         "mode": "lines+markers",
         "name": "BLANCOS",
         "orientation": "v",
         "showlegend": false,
         "type": "scatter",
         "x": {
          "bdata": "2QfeB+MH",
          "dtype": "i2"
         },
         "xaxis": "x3",
         "y": {
          "bdata": "CvAFADHeCwBgnQQA",
          "dtype": "i4"
         },
         "yaxis": "y3"
        }
       ],
       "layout": {
        "annotations": [
         {
          "font": {},
          "showarrow": false,
          "text": "PROVINCIA=Alicante",
          "x": 0.15999999999999998,
          "xanchor": "center",
          "xref": "paper",
          "y": 1,
          "yanchor": "bottom",
          "yref": "paper"
         },
         {
          "font": {},
          "showarrow": false,
          "text": "PROVINCIA=Castellón",
          "x": 0.49999999999999994,
          "xanchor": "center",
          "xref": "paper",
          "y": 1,
          "yanchor": "bottom",
          "yref": "paper"
         },
         {
          "font": {},
          "showarrow": false,
          "text": "PROVINCIA=Valencia",
          "x": 0.8399999999999999,
          "xanchor": "center",
          "xref": "paper",
          "y": 1,
          "yanchor": "bottom",
          "yref": "paper"
         }
        ],
        "legend": {
         "title": {
          "text": "Tipo de voto"
         },
         "tracegroupgap": 0
        },
        "template": {
         "data": {
          "bar": [
           {
            "error_x": {
             "color": "#2a3f5f"
            },
            "error_y": {
             "color": "#2a3f5f"
            },
            "marker": {
             "line": {
              "color": "#E5ECF6",
              "width": 0.5
             },
             "pattern": {
              "fillmode": "overlay",
              "size": 10,
              "solidity": 0.2
             }
            },
            "type": "bar"
           }
          ],
          "barpolar": [
           {
            "marker": {
             "line": {
              "color": "#E5ECF6",
              "width": 0.5
             },
             "pattern": {
              "fillmode": "overlay",
              "size": 10,
              "solidity": 0.2
             }
            },
            "type": "barpolar"
           }
          ],
          "carpet": [
           {
            "aaxis": {
             "endlinecolor": "#2a3f5f",
             "gridcolor": "white",
             "linecolor": "white",
             "minorgridcolor": "white",
             "startlinecolor": "#2a3f5f"
            },
            "baxis": {
             "endlinecolor": "#2a3f5f",
             "gridcolor": "white",
             "linecolor": "white",
             "minorgridcolor": "white",
             "startlinecolor": "#2a3f5f"
            },
            "type": "carpet"
           }
          ],
          "choropleth": [
           {
            "colorbar": {
             "outlinewidth": 0,
             "ticks": ""
            },
            "type": "choropleth"
           }
          ],
          "contour": [
           {
            "colorbar": {
             "outlinewidth": 0,
             "ticks": ""
            },
            "colorscale": [
             [
              0,
              "#0d0887"
             ],
             [
              0.1111111111111111,
              "#46039f"
             ],
             [
              0.2222222222222222,
              "#7201a8"
             ],
             [
              0.3333333333333333,
              "#9c179e"
             ],
             [
              0.4444444444444444,
              "#bd3786"
             ],
             [
              0.5555555555555556,
              "#d8576b"
             ],
             [
              0.6666666666666666,
              "#ed7953"
             ],
             [
              0.7777777777777778,
              "#fb9f3a"
             ],
             [
              0.8888888888888888,
              "#fdca26"
             ],
             [
              1,
              "#f0f921"
             ]
            ],
            "type": "contour"
           }
          ],
          "contourcarpet": [
           {
            "colorbar": {
             "outlinewidth": 0,
             "ticks": ""
            },
            "type": "contourcarpet"
           }
          ],
          "heatmap": [
           {
            "colorbar": {
             "outlinewidth": 0,
             "ticks": ""
            },
            "colorscale": [
             [
              0,
              "#0d0887"
             ],
             [
              0.1111111111111111,
              "#46039f"
             ],
             [
              0.2222222222222222,
              "#7201a8"
             ],
             [
              0.3333333333333333,
              "#9c179e"
             ],
             [
              0.4444444444444444,
              "#bd3786"
             ],
             [
              0.5555555555555556,
              "#d8576b"
             ],
             [
              0.6666666666666666,
              "#ed7953"
             ],
             [
              0.7777777777777778,
              "#fb9f3a"
             ],
             [
              0.8888888888888888,
              "#fdca26"
             ],
             [
              1,
              "#f0f921"
             ]
            ],
            "type": "heatmap"
           }
          ],
          "histogram": [
           {
            "marker": {
             "pattern": {
              "fillmode": "overlay",
              "size": 10,
              "solidity": 0.2
             }
            },
            "type": "histogram"
           }
          ],
          "histogram2d": [
           {
            "colorbar": {
             "outlinewidth": 0,
             "ticks": ""
            },
            "colorscale": [
             [
              0,
              "#0d0887"
             ],
             [
              0.1111111111111111,
              "#46039f"
             ],
             [
              0.2222222222222222,
              "#7201a8"
             ],
             [
              0.3333333333333333,
              "#9c179e"
             ],
             [
              0.4444444444444444,
              "#bd3786"
             ],
             [
              0.5555555555555556,
              "#d8576b"
             ],
             [
              0.6666666666666666,
              "#ed7953"
             ],
             [
              0.7777777777777778,
              "#fb9f3a"
             ],
             [
              0.8888888888888888,
              "#fdca26"
             ],
             [
              1,
              "#f0f921"
             ]
            ],
            "type": "histogram2d"
           }
          ],
          "histogram2dcontour": [
           {
            "colorbar": {
             "outlinewidth": 0,
             "ticks": ""
            },
            "colorscale": [
             [
              0,
              "#0d0887"
             ],
             [
              0.1111111111111111,
              "#46039f"
             ],
             [
              0.2222222222222222,
              "#7201a8"
             ],
             [
              0.3333333333333333,
              "#9c179e"
             ],
             [
              0.4444444444444444,
              "#bd3786"
             ],
             [
              0.5555555555555556,
              "#d8576b"
             ],
             [
              0.6666666666666666,
              "#ed7953"
             ],
             [
              0.7777777777777778,
              "#fb9f3a"
             ],
             [
              0.8888888888888888,
              "#fdca26"
             ],
             [
              1,
              "#f0f921"
             ]
            ],
            "type": "histogram2dcontour"
           }
          ],
          "mesh3d": [
           {
            "colorbar": {
             "outlinewidth": 0,
             "ticks": ""
            },
            "type": "mesh3d"
           }
          ],
          "parcoords": [
           {
            "line": {
             "colorbar": {
              "outlinewidth": 0,
              "ticks": ""
             }
            },
            "type": "parcoords"
           }
          ],
          "pie": [
           {
            "automargin": true,
            "type": "pie"
           }
          ],
          "scatter": [
           {
            "fillpattern": {
             "fillmode": "overlay",
             "size": 10,
             "solidity": 0.2
            },
            "type": "scatter"
           }
          ],
          "scatter3d": [
           {
            "line": {
             "colorbar": {
              "outlinewidth": 0,
              "ticks": ""
             }
            },
            "marker": {
             "colorbar": {
              "outlinewidth": 0,
              "ticks": ""
             }
            },
            "type": "scatter3d"
           }
          ],
          "scattercarpet": [
           {
            "marker": {
             "colorbar": {
              "outlinewidth": 0,
              "ticks": ""
             }
            },
            "type": "scattercarpet"
           }
          ],
          "scattergeo": [
           {
            "marker": {
             "colorbar": {
              "outlinewidth": 0,
              "ticks": ""
             }
            },
            "type": "scattergeo"
           }
          ],
          "scattergl": [
           {
            "marker": {
             "colorbar": {
              "outlinewidth": 0,
              "ticks": ""
             }
            },
            "type": "scattergl"
           }
          ],
          "scattermap": [
           {
            "marker": {
             "colorbar": {
              "outlinewidth": 0,
              "ticks": ""
             }
            },
            "type": "scattermap"
           }
          ],
          "scattermapbox": [
           {
            "marker": {
             "colorbar": {
              "outlinewidth": 0,
              "ticks": ""
             }
            },
            "type": "scattermapbox"
           }
          ],
          "scatterpolar": [
           {
            "marker": {
             "colorbar": {
              "outlinewidth": 0,
              "ticks": ""
             }
            },
            "type": "scatterpolar"
           }
          ],
          "scatterpolargl": [
           {
            "marker": {
             "colorbar": {
              "outlinewidth": 0,
              "ticks": ""
             }
            },
            "type": "scatterpolargl"
           }
          ],
          "scatterternary": [
           {
            "marker": {
             "colorbar": {
              "outlinewidth": 0,
              "ticks": ""
             }
            },
            "type": "scatterternary"
           }
          ],
          "surface": [
           {
            "colorbar": {
             "outlinewidth": 0,
             "ticks": ""
            },
            "colorscale": [
             [
              0,
              "#0d0887"
             ],
             [
              0.1111111111111111,
              "#46039f"
             ],
             [
              0.2222222222222222,
              "#7201a8"
             ],
             [
              0.3333333333333333,
              "#9c179e"
             ],
             [
              0.4444444444444444,
              "#bd3786"
             ],
             [
              0.5555555555555556,
              "#d8576b"
             ],
             [
              0.6666666666666666,
              "#ed7953"
             ],
             [
              0.7777777777777778,
              "#fb9f3a"
             ],
             [
              0.8888888888888888,
              "#fdca26"
             ],
             [
              1,
              "#f0f921"
             ]
            ],
            "type": "surface"
           }
          ],
          "table": [
           {
            "cells": {
             "fill": {
              "color": "#EBF0F8"
             },
             "line": {
              "color": "white"
             }
            },
            "header": {
             "fill": {
              "color": "#C8D4E3"
             },
             "line": {
              "color": "white"
             }
            },
            "type": "table"
           }
          ]
         },
         "layout": {
          "annotationdefaults": {
           "arrowcolor": "#2a3f5f",
           "arrowhead": 0,
           "arrowwidth": 1
          },
          "autotypenumbers": "strict",
          "coloraxis": {
           "colorbar": {
            "outlinewidth": 0,
            "ticks": ""
           }
          },
          "colorscale": {
           "diverging": [
            [
             0,
             "#8e0152"
            ],
            [
             0.1,
             "#c51b7d"
            ],
            [
             0.2,
             "#de77ae"
            ],
            [
             0.3,
             "#f1b6da"
            ],
            [
             0.4,
             "#fde0ef"
            ],
            [
             0.5,
             "#f7f7f7"
            ],
            [
             0.6,
             "#e6f5d0"
            ],
            [
             0.7,
             "#b8e186"
            ],
            [
             0.8,
             "#7fbc41"
            ],
            [
             0.9,
             "#4d9221"
            ],
            [
             1,
             "#276419"
            ]
           ],
           "sequential": [
            [
             0,
             "#0d0887"
            ],
            [
             0.1111111111111111,
             "#46039f"
            ],
            [
             0.2222222222222222,
             "#7201a8"
            ],
            [
             0.3333333333333333,
             "#9c179e"
            ],
            [
             0.4444444444444444,
             "#bd3786"
            ],
            [
             0.5555555555555556,
             "#d8576b"
            ],
            [
             0.6666666666666666,
             "#ed7953"
            ],
            [
             0.7777777777777778,
             "#fb9f3a"
            ],
            [
             0.8888888888888888,
             "#fdca26"
            ],
            [
             1,
             "#f0f921"
            ]
           ],
           "sequentialminus": [
            [
             0,
             "#0d0887"
            ],
            [
             0.1111111111111111,
             "#46039f"
            ],
            [
             0.2222222222222222,
             "#7201a8"
            ],
            [
             0.3333333333333333,
             "#9c179e"
            ],
            [
             0.4444444444444444,
             "#bd3786"
            ],
            [
             0.5555555555555556,
             "#d8576b"
            ],
            [
             0.6666666666666666,
             "#ed7953"
            ],
            [
             0.7777777777777778,
             "#fb9f3a"
            ],
            [
             0.8888888888888888,
             "#fdca26"
            ],
            [
             1,
             "#f0f921"
            ]
           ]
          },
          "colorway": [
           "#636efa",
           "#EF553B",
           "#00cc96",
           "#ab63fa",
           "#FFA15A",
           "#19d3f3",
           "#FF6692",
           "#B6E880",
           "#FF97FF",
           "#FECB52"
          ],
          "font": {
           "color": "#2a3f5f"
          },
          "geo": {
           "bgcolor": "white",
           "lakecolor": "white",
           "landcolor": "#E5ECF6",
           "showlakes": true,
           "showland": true,
           "subunitcolor": "white"
          },
          "hoverlabel": {
           "align": "left"
          },
          "hovermode": "closest",
          "mapbox": {
           "style": "light"
          },
          "paper_bgcolor": "white",
          "plot_bgcolor": "#E5ECF6",
          "polar": {
           "angularaxis": {
            "gridcolor": "white",
            "linecolor": "white",
            "ticks": ""
           },
           "bgcolor": "#E5ECF6",
           "radialaxis": {
            "gridcolor": "white",
            "linecolor": "white",
            "ticks": ""
           }
          },
          "scene": {
           "xaxis": {
            "backgroundcolor": "#E5ECF6",
            "gridcolor": "white",
            "gridwidth": 2,
            "linecolor": "white",
            "showbackground": true,
            "ticks": "",
            "zerolinecolor": "white"
           },
           "yaxis": {
            "backgroundcolor": "#E5ECF6",
            "gridcolor": "white",
            "gridwidth": 2,
            "linecolor": "white",
            "showbackground": true,
            "ticks": "",
            "zerolinecolor": "white"
           },
           "zaxis": {
            "backgroundcolor": "#E5ECF6",
            "gridcolor": "white",
            "gridwidth": 2,
            "linecolor": "white",
            "showbackground": true,
            "ticks": "",
            "zerolinecolor": "white"
           }
          },
          "shapedefaults": {
           "line": {
            "color": "#2a3f5f"
           }
          },
          "ternary": {
           "aaxis": {
            "gridcolor": "white",
            "linecolor": "white",
            "ticks": ""
           },
           "baxis": {
            "gridcolor": "white",
            "linecolor": "white",
            "ticks": ""
           },
           "bgcolor": "#E5ECF6",
           "caxis": {
            "gridcolor": "white",
            "linecolor": "white",
            "ticks": ""
           }
          },
          "title": {
           "x": 0.05
          },
          "xaxis": {
           "automargin": true,
           "gridcolor": "white",
           "linecolor": "white",
           "ticks": "",
           "title": {
            "standoff": 15
           },
           "zerolinecolor": "white",
           "zerolinewidth": 2
          },
          "yaxis": {
           "automargin": true,
           "gridcolor": "white",
           "linecolor": "white",
           "ticks": "",
           "title": {
            "standoff": 15
           },
           "zerolinecolor": "white",
           "zerolinewidth": 2
          }
         }
        },
        "title": {
         "text": "Tendencia de votos y abstención por provincia"
        },
        "xaxis": {
         "anchor": "y",
         "domain": [
          0,
          0.31999999999999995
         ],
         "title": {
          "text": "Año"
         }
        },
        "xaxis2": {
         "anchor": "y2",
         "domain": [
          0.33999999999999997,
          0.6599999999999999
         ],
         "matches": "x",
         "title": {
          "text": "Año"
         }
        },
        "xaxis3": {
         "anchor": "y3",
         "domain": [
          0.6799999999999999,
          0.9999999999999999
         ],
         "matches": "x",
         "title": {
          "text": "Año"
         }
        },
        "yaxis": {
         "anchor": "x",
         "domain": [
          0,
          1
         ],
         "title": {
          "text": "Cantidad"
         }
        },
        "yaxis2": {
         "anchor": "x2",
         "domain": [
          0,
          1
         ],
         "matches": "y",
         "showticklabels": false
        },
        "yaxis3": {
         "anchor": "x3",
         "domain": [
          0,
          1
         ],
         "matches": "y",
         "showticklabels": false
        }
       }
      }
     },
     "metadata": {},
     "output_type": "display_data"
    }
   ],
   "source": [
    "# Gráfico de líneas con facetas por provincia\n",
    "fig2 = px.line(stats_provincia_pivot, x=\"Año\", y=[\"VOTANTES\", \"VALIDOS\", \"ABSTENCIONES\", \"NULOS\", \"BLANCOS\"],\n",
    "               facet_col=\"PROVINCIA\", title=\"Tendencia de votos y abstención por provincia\",\n",
    "               labels={\"value\": \"Cantidad\", \"variable\": \"Tipo de voto\"},\n",
    "               markers=True)\n",
    "\n",
    "fig2.show()\n"
   ]
  },
  {
   "cell_type": "code",
   "execution_count": 22,
   "id": "8e23bc7b",
   "metadata": {},
   "outputs": [
    {
     "data": {
      "application/vnd.plotly.v1+json": {
       "config": {
        "plotlyServerURL": "https://plot.ly"
       },
       "data": [
        {
         "hovertemplate": "Tipo de voto=% Votantes<br>Año=%{x}<br>Porcentaje=%{y}<extra></extra>",
         "legendgroup": "% Votantes",
         "line": {
          "color": "#636efa",
          "dash": "solid"
         },
         "marker": {
          "symbol": "circle"
         },
         "mode": "lines+markers",
         "name": "% Votantes",
         "orientation": "v",
         "showlegend": true,
         "type": "scatter",
         "x": {
          "bdata": "2QfeB+MH",
          "dtype": "i2"
         },
         "xaxis": "x",
         "y": {
          "bdata": "9ihcj8K1SkApXI/C9QhJQFK4HoXrEVBA",
          "dtype": "f8"
         },
         "yaxis": "y"
        },
        {
         "hovertemplate": "Tipo de voto=% Votos Validos<br>Año=%{x}<br>Porcentaje=%{y}<extra></extra>",
         "legendgroup": "% Votos Validos",
         "line": {
          "color": "#EF553B",
          "dash": "solid"
         },
         "marker": {
          "symbol": "circle"
         },
         "mode": "lines+markers",
         "name": "% Votos Validos",
         "orientation": "v",
         "showlegend": true,
         "type": "scatter",
         "x": {
          "bdata": "2QfeB+MH",
          "dtype": "i2"
         },
         "xaxis": "x",
         "y": {
          "bdata": "KVyPwvWISkDsUbgehWtIQIXrUbge5U9A",
          "dtype": "f8"
         },
         "yaxis": "y"
        },
        {
         "hovertemplate": "Tipo de voto=% Abstenciones<br>Año=%{x}<br>Porcentaje=%{y}<extra></extra>",
         "legendgroup": "% Abstenciones",
         "line": {
          "color": "#00cc96",
          "dash": "solid"
         },
         "marker": {
          "symbol": "circle"
         },
         "mode": "lines+markers",
         "name": "% Abstenciones",
         "orientation": "v",
         "showlegend": true,
         "type": "scatter",
         "x": {
          "bdata": "2QfeB+MH",
          "dtype": "i2"
         },
         "xaxis": "x",
         "y": {
          "bdata": "CtejcD1KR0DXo3A9CvdIQFyPwvUo3EFA",
          "dtype": "f8"
         },
         "yaxis": "y"
        },
        {
         "hovertemplate": "Tipo de voto=% Votos Nulos<br>Año=%{x}<br>Porcentaje=%{y}<extra></extra>",
         "legendgroup": "% Votos Nulos",
         "line": {
          "color": "#ab63fa",
          "dash": "solid"
         },
         "marker": {
          "symbol": "circle"
         },
         "mode": "lines+markers",
         "name": "% Votos Nulos",
         "orientation": "v",
         "showlegend": true,
         "type": "scatter",
         "x": {
          "bdata": "2QfeB+MH",
          "dtype": "i2"
         },
         "xaxis": "x",
         "y": {
          "bdata": "ZmZmZmZm1j+uR+F6FK7zP1yPwvUoXN8/",
          "dtype": "f8"
         },
         "yaxis": "y"
        },
        {
         "hovertemplate": "Tipo de voto=% Votos Blanco<br>Año=%{x}<br>Porcentaje=%{y}<extra></extra>",
         "legendgroup": "% Votos Blanco",
         "line": {
          "color": "#FFA15A",
          "dash": "solid"
         },
         "marker": {
          "symbol": "circle"
         },
         "mode": "lines+markers",
         "name": "% Votos Blanco",
         "orientation": "v",
         "showlegend": true,
         "type": "scatter",
         "x": {
          "bdata": "2QfeB+MH",
          "dtype": "i2"
         },
         "xaxis": "x",
         "y": {
          "bdata": "j8L1KFyP4j8AAAAAAADwPwAAAAAAAOA/",
          "dtype": "f8"
         },
         "yaxis": "y"
        }
       ],
       "layout": {
        "legend": {
         "title": {
          "text": "Tipo de voto"
         },
         "tracegroupgap": 0
        },
        "template": {
         "data": {
          "bar": [
           {
            "error_x": {
             "color": "#2a3f5f"
            },
            "error_y": {
             "color": "#2a3f5f"
            },
            "marker": {
             "line": {
              "color": "#E5ECF6",
              "width": 0.5
             },
             "pattern": {
              "fillmode": "overlay",
              "size": 10,
              "solidity": 0.2
             }
            },
            "type": "bar"
           }
          ],
          "barpolar": [
           {
            "marker": {
             "line": {
              "color": "#E5ECF6",
              "width": 0.5
             },
             "pattern": {
              "fillmode": "overlay",
              "size": 10,
              "solidity": 0.2
             }
            },
            "type": "barpolar"
           }
          ],
          "carpet": [
           {
            "aaxis": {
             "endlinecolor": "#2a3f5f",
             "gridcolor": "white",
             "linecolor": "white",
             "minorgridcolor": "white",
             "startlinecolor": "#2a3f5f"
            },
            "baxis": {
             "endlinecolor": "#2a3f5f",
             "gridcolor": "white",
             "linecolor": "white",
             "minorgridcolor": "white",
             "startlinecolor": "#2a3f5f"
            },
            "type": "carpet"
           }
          ],
          "choropleth": [
           {
            "colorbar": {
             "outlinewidth": 0,
             "ticks": ""
            },
            "type": "choropleth"
           }
          ],
          "contour": [
           {
            "colorbar": {
             "outlinewidth": 0,
             "ticks": ""
            },
            "colorscale": [
             [
              0,
              "#0d0887"
             ],
             [
              0.1111111111111111,
              "#46039f"
             ],
             [
              0.2222222222222222,
              "#7201a8"
             ],
             [
              0.3333333333333333,
              "#9c179e"
             ],
             [
              0.4444444444444444,
              "#bd3786"
             ],
             [
              0.5555555555555556,
              "#d8576b"
             ],
             [
              0.6666666666666666,
              "#ed7953"
             ],
             [
              0.7777777777777778,
              "#fb9f3a"
             ],
             [
              0.8888888888888888,
              "#fdca26"
             ],
             [
              1,
              "#f0f921"
             ]
            ],
            "type": "contour"
           }
          ],
          "contourcarpet": [
           {
            "colorbar": {
             "outlinewidth": 0,
             "ticks": ""
            },
            "type": "contourcarpet"
           }
          ],
          "heatmap": [
           {
            "colorbar": {
             "outlinewidth": 0,
             "ticks": ""
            },
            "colorscale": [
             [
              0,
              "#0d0887"
             ],
             [
              0.1111111111111111,
              "#46039f"
             ],
             [
              0.2222222222222222,
              "#7201a8"
             ],
             [
              0.3333333333333333,
              "#9c179e"
             ],
             [
              0.4444444444444444,
              "#bd3786"
             ],
             [
              0.5555555555555556,
              "#d8576b"
             ],
             [
              0.6666666666666666,
              "#ed7953"
             ],
             [
              0.7777777777777778,
              "#fb9f3a"
             ],
             [
              0.8888888888888888,
              "#fdca26"
             ],
             [
              1,
              "#f0f921"
             ]
            ],
            "type": "heatmap"
           }
          ],
          "histogram": [
           {
            "marker": {
             "pattern": {
              "fillmode": "overlay",
              "size": 10,
              "solidity": 0.2
             }
            },
            "type": "histogram"
           }
          ],
          "histogram2d": [
           {
            "colorbar": {
             "outlinewidth": 0,
             "ticks": ""
            },
            "colorscale": [
             [
              0,
              "#0d0887"
             ],
             [
              0.1111111111111111,
              "#46039f"
             ],
             [
              0.2222222222222222,
              "#7201a8"
             ],
             [
              0.3333333333333333,
              "#9c179e"
             ],
             [
              0.4444444444444444,
              "#bd3786"
             ],
             [
              0.5555555555555556,
              "#d8576b"
             ],
             [
              0.6666666666666666,
              "#ed7953"
             ],
             [
              0.7777777777777778,
              "#fb9f3a"
             ],
             [
              0.8888888888888888,
              "#fdca26"
             ],
             [
              1,
              "#f0f921"
             ]
            ],
            "type": "histogram2d"
           }
          ],
          "histogram2dcontour": [
           {
            "colorbar": {
             "outlinewidth": 0,
             "ticks": ""
            },
            "colorscale": [
             [
              0,
              "#0d0887"
             ],
             [
              0.1111111111111111,
              "#46039f"
             ],
             [
              0.2222222222222222,
              "#7201a8"
             ],
             [
              0.3333333333333333,
              "#9c179e"
             ],
             [
              0.4444444444444444,
              "#bd3786"
             ],
             [
              0.5555555555555556,
              "#d8576b"
             ],
             [
              0.6666666666666666,
              "#ed7953"
             ],
             [
              0.7777777777777778,
              "#fb9f3a"
             ],
             [
              0.8888888888888888,
              "#fdca26"
             ],
             [
              1,
              "#f0f921"
             ]
            ],
            "type": "histogram2dcontour"
           }
          ],
          "mesh3d": [
           {
            "colorbar": {
             "outlinewidth": 0,
             "ticks": ""
            },
            "type": "mesh3d"
           }
          ],
          "parcoords": [
           {
            "line": {
             "colorbar": {
              "outlinewidth": 0,
              "ticks": ""
             }
            },
            "type": "parcoords"
           }
          ],
          "pie": [
           {
            "automargin": true,
            "type": "pie"
           }
          ],
          "scatter": [
           {
            "fillpattern": {
             "fillmode": "overlay",
             "size": 10,
             "solidity": 0.2
            },
            "type": "scatter"
           }
          ],
          "scatter3d": [
           {
            "line": {
             "colorbar": {
              "outlinewidth": 0,
              "ticks": ""
             }
            },
            "marker": {
             "colorbar": {
              "outlinewidth": 0,
              "ticks": ""
             }
            },
            "type": "scatter3d"
           }
          ],
          "scattercarpet": [
           {
            "marker": {
             "colorbar": {
              "outlinewidth": 0,
              "ticks": ""
             }
            },
            "type": "scattercarpet"
           }
          ],
          "scattergeo": [
           {
            "marker": {
             "colorbar": {
              "outlinewidth": 0,
              "ticks": ""
             }
            },
            "type": "scattergeo"
           }
          ],
          "scattergl": [
           {
            "marker": {
             "colorbar": {
              "outlinewidth": 0,
              "ticks": ""
             }
            },
            "type": "scattergl"
           }
          ],
          "scattermap": [
           {
            "marker": {
             "colorbar": {
              "outlinewidth": 0,
              "ticks": ""
             }
            },
            "type": "scattermap"
           }
          ],
          "scattermapbox": [
           {
            "marker": {
             "colorbar": {
              "outlinewidth": 0,
              "ticks": ""
             }
            },
            "type": "scattermapbox"
           }
          ],
          "scatterpolar": [
           {
            "marker": {
             "colorbar": {
              "outlinewidth": 0,
              "ticks": ""
             }
            },
            "type": "scatterpolar"
           }
          ],
          "scatterpolargl": [
           {
            "marker": {
             "colorbar": {
              "outlinewidth": 0,
              "ticks": ""
             }
            },
            "type": "scatterpolargl"
           }
          ],
          "scatterternary": [
           {
            "marker": {
             "colorbar": {
              "outlinewidth": 0,
              "ticks": ""
             }
            },
            "type": "scatterternary"
           }
          ],
          "surface": [
           {
            "colorbar": {
             "outlinewidth": 0,
             "ticks": ""
            },
            "colorscale": [
             [
              0,
              "#0d0887"
             ],
             [
              0.1111111111111111,
              "#46039f"
             ],
             [
              0.2222222222222222,
              "#7201a8"
             ],
             [
              0.3333333333333333,
              "#9c179e"
             ],
             [
              0.4444444444444444,
              "#bd3786"
             ],
             [
              0.5555555555555556,
              "#d8576b"
             ],
             [
              0.6666666666666666,
              "#ed7953"
             ],
             [
              0.7777777777777778,
              "#fb9f3a"
             ],
             [
              0.8888888888888888,
              "#fdca26"
             ],
             [
              1,
              "#f0f921"
             ]
            ],
            "type": "surface"
           }
          ],
          "table": [
           {
            "cells": {
             "fill": {
              "color": "#EBF0F8"
             },
             "line": {
              "color": "white"
             }
            },
            "header": {
             "fill": {
              "color": "#C8D4E3"
             },
             "line": {
              "color": "white"
             }
            },
            "type": "table"
           }
          ]
         },
         "layout": {
          "annotationdefaults": {
           "arrowcolor": "#2a3f5f",
           "arrowhead": 0,
           "arrowwidth": 1
          },
          "autotypenumbers": "strict",
          "coloraxis": {
           "colorbar": {
            "outlinewidth": 0,
            "ticks": ""
           }
          },
          "colorscale": {
           "diverging": [
            [
             0,
             "#8e0152"
            ],
            [
             0.1,
             "#c51b7d"
            ],
            [
             0.2,
             "#de77ae"
            ],
            [
             0.3,
             "#f1b6da"
            ],
            [
             0.4,
             "#fde0ef"
            ],
            [
             0.5,
             "#f7f7f7"
            ],
            [
             0.6,
             "#e6f5d0"
            ],
            [
             0.7,
             "#b8e186"
            ],
            [
             0.8,
             "#7fbc41"
            ],
            [
             0.9,
             "#4d9221"
            ],
            [
             1,
             "#276419"
            ]
           ],
           "sequential": [
            [
             0,
             "#0d0887"
            ],
            [
             0.1111111111111111,
             "#46039f"
            ],
            [
             0.2222222222222222,
             "#7201a8"
            ],
            [
             0.3333333333333333,
             "#9c179e"
            ],
            [
             0.4444444444444444,
             "#bd3786"
            ],
            [
             0.5555555555555556,
             "#d8576b"
            ],
            [
             0.6666666666666666,
             "#ed7953"
            ],
            [
             0.7777777777777778,
             "#fb9f3a"
            ],
            [
             0.8888888888888888,
             "#fdca26"
            ],
            [
             1,
             "#f0f921"
            ]
           ],
           "sequentialminus": [
            [
             0,
             "#0d0887"
            ],
            [
             0.1111111111111111,
             "#46039f"
            ],
            [
             0.2222222222222222,
             "#7201a8"
            ],
            [
             0.3333333333333333,
             "#9c179e"
            ],
            [
             0.4444444444444444,
             "#bd3786"
            ],
            [
             0.5555555555555556,
             "#d8576b"
            ],
            [
             0.6666666666666666,
             "#ed7953"
            ],
            [
             0.7777777777777778,
             "#fb9f3a"
            ],
            [
             0.8888888888888888,
             "#fdca26"
            ],
            [
             1,
             "#f0f921"
            ]
           ]
          },
          "colorway": [
           "#636efa",
           "#EF553B",
           "#00cc96",
           "#ab63fa",
           "#FFA15A",
           "#19d3f3",
           "#FF6692",
           "#B6E880",
           "#FF97FF",
           "#FECB52"
          ],
          "font": {
           "color": "#2a3f5f"
          },
          "geo": {
           "bgcolor": "white",
           "lakecolor": "white",
           "landcolor": "#E5ECF6",
           "showlakes": true,
           "showland": true,
           "subunitcolor": "white"
          },
          "hoverlabel": {
           "align": "left"
          },
          "hovermode": "closest",
          "mapbox": {
           "style": "light"
          },
          "paper_bgcolor": "white",
          "plot_bgcolor": "#E5ECF6",
          "polar": {
           "angularaxis": {
            "gridcolor": "white",
            "linecolor": "white",
            "ticks": ""
           },
           "bgcolor": "#E5ECF6",
           "radialaxis": {
            "gridcolor": "white",
            "linecolor": "white",
            "ticks": ""
           }
          },
          "scene": {
           "xaxis": {
            "backgroundcolor": "#E5ECF6",
            "gridcolor": "white",
            "gridwidth": 2,
            "linecolor": "white",
            "showbackground": true,
            "ticks": "",
            "zerolinecolor": "white"
           },
           "yaxis": {
            "backgroundcolor": "#E5ECF6",
            "gridcolor": "white",
            "gridwidth": 2,
            "linecolor": "white",
            "showbackground": true,
            "ticks": "",
            "zerolinecolor": "white"
           },
           "zaxis": {
            "backgroundcolor": "#E5ECF6",
            "gridcolor": "white",
            "gridwidth": 2,
            "linecolor": "white",
            "showbackground": true,
            "ticks": "",
            "zerolinecolor": "white"
           }
          },
          "shapedefaults": {
           "line": {
            "color": "#2a3f5f"
           }
          },
          "ternary": {
           "aaxis": {
            "gridcolor": "white",
            "linecolor": "white",
            "ticks": ""
           },
           "baxis": {
            "gridcolor": "white",
            "linecolor": "white",
            "ticks": ""
           },
           "bgcolor": "#E5ECF6",
           "caxis": {
            "gridcolor": "white",
            "linecolor": "white",
            "ticks": ""
           }
          },
          "title": {
           "x": 0.05
          },
          "xaxis": {
           "automargin": true,
           "gridcolor": "white",
           "linecolor": "white",
           "ticks": "",
           "title": {
            "standoff": 15
           },
           "zerolinecolor": "white",
           "zerolinewidth": 2
          },
          "yaxis": {
           "automargin": true,
           "gridcolor": "white",
           "linecolor": "white",
           "ticks": "",
           "title": {
            "standoff": 15
           },
           "zerolinecolor": "white",
           "zerolinewidth": 2
          }
         }
        },
        "title": {
         "text": "Tendencia de porcentajes de votos por año"
        },
        "xaxis": {
         "anchor": "y",
         "domain": [
          0,
          1
         ],
         "title": {
          "text": "Año"
         }
        },
        "yaxis": {
         "anchor": "x",
         "domain": [
          0,
          1
         ],
         "title": {
          "text": "Porcentaje"
         }
        }
       }
      }
     },
     "metadata": {},
     "output_type": "display_data"
    }
   ],
   "source": [
    "# Gráfico de líneas con porcentajes en lugar de totales\n",
    "fig = px.line(stats_pivot, x=\"Año\", y=[\"% Votantes\",\"% Votos Validos\",\"% Abstenciones\", \"% Votos Nulos\", \"% Votos Blanco\"],\n",
    "               title=\"Tendencia de porcentajes de votos por año\",\n",
    "               labels={\"value\": \"Porcentaje\", \"variable\": \"Tipo de voto\"},\n",
    "               markers=True)\n",
    "\n",
    "fig.show()\n"
   ]
  },
  {
   "cell_type": "code",
   "execution_count": 23,
   "id": "ed92c63d",
   "metadata": {},
   "outputs": [
    {
     "data": {
      "application/vnd.plotly.v1+json": {
       "config": {
        "plotlyServerURL": "https://plot.ly"
       },
       "data": [
        {
         "hovertemplate": "Tipo de voto=% Votantes<br>Año=%{x}<br>Porcentaje=%{y}<extra></extra>",
         "legendgroup": "% Votantes",
         "line": {
          "color": "#636efa",
          "dash": "solid"
         },
         "marker": {
          "symbol": "circle"
         },
         "mode": "lines+markers",
         "name": "% Votantes",
         "orientation": "v",
         "showlegend": true,
         "type": "scatter",
         "x": {
          "bdata": "2QfeB+MH",
          "dtype": "i2"
         },
         "xaxis": "x",
         "y": {
          "bdata": "9ihcj8K1SkApXI/C9QhJQFK4HoXrEVBA",
          "dtype": "f8"
         },
         "yaxis": "y"
        },
        {
         "hovertemplate": "Tipo de voto=% Votos Validos<br>Año=%{x}<br>Porcentaje=%{y}<extra></extra>",
         "legendgroup": "% Votos Validos",
         "line": {
          "color": "#EF553B",
          "dash": "solid"
         },
         "marker": {
          "symbol": "circle"
         },
         "mode": "lines+markers",
         "name": "% Votos Validos",
         "orientation": "v",
         "showlegend": true,
         "type": "scatter",
         "x": {
          "bdata": "2QfeB+MH",
          "dtype": "i2"
         },
         "xaxis": "x",
         "y": {
          "bdata": "KVyPwvWISkDsUbgehWtIQIXrUbge5U9A",
          "dtype": "f8"
         },
         "yaxis": "y"
        },
        {
         "hovertemplate": "Tipo de voto=% Abstenciones<br>Año=%{x}<br>Porcentaje=%{y}<extra></extra>",
         "legendgroup": "% Abstenciones",
         "line": {
          "color": "#00cc96",
          "dash": "solid"
         },
         "marker": {
          "symbol": "circle"
         },
         "mode": "lines+markers",
         "name": "% Abstenciones",
         "orientation": "v",
         "showlegend": true,
         "type": "scatter",
         "x": {
          "bdata": "2QfeB+MH",
          "dtype": "i2"
         },
         "xaxis": "x",
         "y": {
          "bdata": "CtejcD1KR0DXo3A9CvdIQFyPwvUo3EFA",
          "dtype": "f8"
         },
         "yaxis": "y"
        },
        {
         "hovertemplate": "Tipo de voto=% Votos Nulos<br>Año=%{x}<br>Porcentaje=%{y}<extra></extra>",
         "legendgroup": "% Votos Nulos",
         "line": {
          "color": "#ab63fa",
          "dash": "solid"
         },
         "marker": {
          "symbol": "circle"
         },
         "mode": "lines+markers",
         "name": "% Votos Nulos",
         "orientation": "v",
         "showlegend": true,
         "type": "scatter",
         "x": {
          "bdata": "2QfeB+MH",
          "dtype": "i2"
         },
         "xaxis": "x",
         "y": {
          "bdata": "ZmZmZmZm1j+uR+F6FK7zP1yPwvUoXN8/",
          "dtype": "f8"
         },
         "yaxis": "y"
        },
        {
         "hovertemplate": "Tipo de voto=% Votos Blanco<br>Año=%{x}<br>Porcentaje=%{y}<extra></extra>",
         "legendgroup": "% Votos Blanco",
         "line": {
          "color": "#FFA15A",
          "dash": "solid"
         },
         "marker": {
          "symbol": "circle"
         },
         "mode": "lines+markers",
         "name": "% Votos Blanco",
         "orientation": "v",
         "showlegend": true,
         "type": "scatter",
         "x": {
          "bdata": "2QfeB+MH",
          "dtype": "i2"
         },
         "xaxis": "x",
         "y": {
          "bdata": "j8L1KFyP4j8AAAAAAADwPwAAAAAAAOA/",
          "dtype": "f8"
         },
         "yaxis": "y"
        }
       ],
       "layout": {
        "legend": {
         "title": {
          "text": "Tipo de voto"
         },
         "tracegroupgap": 0
        },
        "template": {
         "data": {
          "bar": [
           {
            "error_x": {
             "color": "#2a3f5f"
            },
            "error_y": {
             "color": "#2a3f5f"
            },
            "marker": {
             "line": {
              "color": "#E5ECF6",
              "width": 0.5
             },
             "pattern": {
              "fillmode": "overlay",
              "size": 10,
              "solidity": 0.2
             }
            },
            "type": "bar"
           }
          ],
          "barpolar": [
           {
            "marker": {
             "line": {
              "color": "#E5ECF6",
              "width": 0.5
             },
             "pattern": {
              "fillmode": "overlay",
              "size": 10,
              "solidity": 0.2
             }
            },
            "type": "barpolar"
           }
          ],
          "carpet": [
           {
            "aaxis": {
             "endlinecolor": "#2a3f5f",
             "gridcolor": "white",
             "linecolor": "white",
             "minorgridcolor": "white",
             "startlinecolor": "#2a3f5f"
            },
            "baxis": {
             "endlinecolor": "#2a3f5f",
             "gridcolor": "white",
             "linecolor": "white",
             "minorgridcolor": "white",
             "startlinecolor": "#2a3f5f"
            },
            "type": "carpet"
           }
          ],
          "choropleth": [
           {
            "colorbar": {
             "outlinewidth": 0,
             "ticks": ""
            },
            "type": "choropleth"
           }
          ],
          "contour": [
           {
            "colorbar": {
             "outlinewidth": 0,
             "ticks": ""
            },
            "colorscale": [
             [
              0,
              "#0d0887"
             ],
             [
              0.1111111111111111,
              "#46039f"
             ],
             [
              0.2222222222222222,
              "#7201a8"
             ],
             [
              0.3333333333333333,
              "#9c179e"
             ],
             [
              0.4444444444444444,
              "#bd3786"
             ],
             [
              0.5555555555555556,
              "#d8576b"
             ],
             [
              0.6666666666666666,
              "#ed7953"
             ],
             [
              0.7777777777777778,
              "#fb9f3a"
             ],
             [
              0.8888888888888888,
              "#fdca26"
             ],
             [
              1,
              "#f0f921"
             ]
            ],
            "type": "contour"
           }
          ],
          "contourcarpet": [
           {
            "colorbar": {
             "outlinewidth": 0,
             "ticks": ""
            },
            "type": "contourcarpet"
           }
          ],
          "heatmap": [
           {
            "colorbar": {
             "outlinewidth": 0,
             "ticks": ""
            },
            "colorscale": [
             [
              0,
              "#0d0887"
             ],
             [
              0.1111111111111111,
              "#46039f"
             ],
             [
              0.2222222222222222,
              "#7201a8"
             ],
             [
              0.3333333333333333,
              "#9c179e"
             ],
             [
              0.4444444444444444,
              "#bd3786"
             ],
             [
              0.5555555555555556,
              "#d8576b"
             ],
             [
              0.6666666666666666,
              "#ed7953"
             ],
             [
              0.7777777777777778,
              "#fb9f3a"
             ],
             [
              0.8888888888888888,
              "#fdca26"
             ],
             [
              1,
              "#f0f921"
             ]
            ],
            "type": "heatmap"
           }
          ],
          "histogram": [
           {
            "marker": {
             "pattern": {
              "fillmode": "overlay",
              "size": 10,
              "solidity": 0.2
             }
            },
            "type": "histogram"
           }
          ],
          "histogram2d": [
           {
            "colorbar": {
             "outlinewidth": 0,
             "ticks": ""
            },
            "colorscale": [
             [
              0,
              "#0d0887"
             ],
             [
              0.1111111111111111,
              "#46039f"
             ],
             [
              0.2222222222222222,
              "#7201a8"
             ],
             [
              0.3333333333333333,
              "#9c179e"
             ],
             [
              0.4444444444444444,
              "#bd3786"
             ],
             [
              0.5555555555555556,
              "#d8576b"
             ],
             [
              0.6666666666666666,
              "#ed7953"
             ],
             [
              0.7777777777777778,
              "#fb9f3a"
             ],
             [
              0.8888888888888888,
              "#fdca26"
             ],
             [
              1,
              "#f0f921"
             ]
            ],
            "type": "histogram2d"
           }
          ],
          "histogram2dcontour": [
           {
            "colorbar": {
             "outlinewidth": 0,
             "ticks": ""
            },
            "colorscale": [
             [
              0,
              "#0d0887"
             ],
             [
              0.1111111111111111,
              "#46039f"
             ],
             [
              0.2222222222222222,
              "#7201a8"
             ],
             [
              0.3333333333333333,
              "#9c179e"
             ],
             [
              0.4444444444444444,
              "#bd3786"
             ],
             [
              0.5555555555555556,
              "#d8576b"
             ],
             [
              0.6666666666666666,
              "#ed7953"
             ],
             [
              0.7777777777777778,
              "#fb9f3a"
             ],
             [
              0.8888888888888888,
              "#fdca26"
             ],
             [
              1,
              "#f0f921"
             ]
            ],
            "type": "histogram2dcontour"
           }
          ],
          "mesh3d": [
           {
            "colorbar": {
             "outlinewidth": 0,
             "ticks": ""
            },
            "type": "mesh3d"
           }
          ],
          "parcoords": [
           {
            "line": {
             "colorbar": {
              "outlinewidth": 0,
              "ticks": ""
             }
            },
            "type": "parcoords"
           }
          ],
          "pie": [
           {
            "automargin": true,
            "type": "pie"
           }
          ],
          "scatter": [
           {
            "fillpattern": {
             "fillmode": "overlay",
             "size": 10,
             "solidity": 0.2
            },
            "type": "scatter"
           }
          ],
          "scatter3d": [
           {
            "line": {
             "colorbar": {
              "outlinewidth": 0,
              "ticks": ""
             }
            },
            "marker": {
             "colorbar": {
              "outlinewidth": 0,
              "ticks": ""
             }
            },
            "type": "scatter3d"
           }
          ],
          "scattercarpet": [
           {
            "marker": {
             "colorbar": {
              "outlinewidth": 0,
              "ticks": ""
             }
            },
            "type": "scattercarpet"
           }
          ],
          "scattergeo": [
           {
            "marker": {
             "colorbar": {
              "outlinewidth": 0,
              "ticks": ""
             }
            },
            "type": "scattergeo"
           }
          ],
          "scattergl": [
           {
            "marker": {
             "colorbar": {
              "outlinewidth": 0,
              "ticks": ""
             }
            },
            "type": "scattergl"
           }
          ],
          "scattermap": [
           {
            "marker": {
             "colorbar": {
              "outlinewidth": 0,
              "ticks": ""
             }
            },
            "type": "scattermap"
           }
          ],
          "scattermapbox": [
           {
            "marker": {
             "colorbar": {
              "outlinewidth": 0,
              "ticks": ""
             }
            },
            "type": "scattermapbox"
           }
          ],
          "scatterpolar": [
           {
            "marker": {
             "colorbar": {
              "outlinewidth": 0,
              "ticks": ""
             }
            },
            "type": "scatterpolar"
           }
          ],
          "scatterpolargl": [
           {
            "marker": {
             "colorbar": {
              "outlinewidth": 0,
              "ticks": ""
             }
            },
            "type": "scatterpolargl"
           }
          ],
          "scatterternary": [
           {
            "marker": {
             "colorbar": {
              "outlinewidth": 0,
              "ticks": ""
             }
            },
            "type": "scatterternary"
           }
          ],
          "surface": [
           {
            "colorbar": {
             "outlinewidth": 0,
             "ticks": ""
            },
            "colorscale": [
             [
              0,
              "#0d0887"
             ],
             [
              0.1111111111111111,
              "#46039f"
             ],
             [
              0.2222222222222222,
              "#7201a8"
             ],
             [
              0.3333333333333333,
              "#9c179e"
             ],
             [
              0.4444444444444444,
              "#bd3786"
             ],
             [
              0.5555555555555556,
              "#d8576b"
             ],
             [
              0.6666666666666666,
              "#ed7953"
             ],
             [
              0.7777777777777778,
              "#fb9f3a"
             ],
             [
              0.8888888888888888,
              "#fdca26"
             ],
             [
              1,
              "#f0f921"
             ]
            ],
            "type": "surface"
           }
          ],
          "table": [
           {
            "cells": {
             "fill": {
              "color": "#EBF0F8"
             },
             "line": {
              "color": "white"
             }
            },
            "header": {
             "fill": {
              "color": "#C8D4E3"
             },
             "line": {
              "color": "white"
             }
            },
            "type": "table"
           }
          ]
         },
         "layout": {
          "annotationdefaults": {
           "arrowcolor": "#2a3f5f",
           "arrowhead": 0,
           "arrowwidth": 1
          },
          "autotypenumbers": "strict",
          "coloraxis": {
           "colorbar": {
            "outlinewidth": 0,
            "ticks": ""
           }
          },
          "colorscale": {
           "diverging": [
            [
             0,
             "#8e0152"
            ],
            [
             0.1,
             "#c51b7d"
            ],
            [
             0.2,
             "#de77ae"
            ],
            [
             0.3,
             "#f1b6da"
            ],
            [
             0.4,
             "#fde0ef"
            ],
            [
             0.5,
             "#f7f7f7"
            ],
            [
             0.6,
             "#e6f5d0"
            ],
            [
             0.7,
             "#b8e186"
            ],
            [
             0.8,
             "#7fbc41"
            ],
            [
             0.9,
             "#4d9221"
            ],
            [
             1,
             "#276419"
            ]
           ],
           "sequential": [
            [
             0,
             "#0d0887"
            ],
            [
             0.1111111111111111,
             "#46039f"
            ],
            [
             0.2222222222222222,
             "#7201a8"
            ],
            [
             0.3333333333333333,
             "#9c179e"
            ],
            [
             0.4444444444444444,
             "#bd3786"
            ],
            [
             0.5555555555555556,
             "#d8576b"
            ],
            [
             0.6666666666666666,
             "#ed7953"
            ],
            [
             0.7777777777777778,
             "#fb9f3a"
            ],
            [
             0.8888888888888888,
             "#fdca26"
            ],
            [
             1,
             "#f0f921"
            ]
           ],
           "sequentialminus": [
            [
             0,
             "#0d0887"
            ],
            [
             0.1111111111111111,
             "#46039f"
            ],
            [
             0.2222222222222222,
             "#7201a8"
            ],
            [
             0.3333333333333333,
             "#9c179e"
            ],
            [
             0.4444444444444444,
             "#bd3786"
            ],
            [
             0.5555555555555556,
             "#d8576b"
            ],
            [
             0.6666666666666666,
             "#ed7953"
            ],
            [
             0.7777777777777778,
             "#fb9f3a"
            ],
            [
             0.8888888888888888,
             "#fdca26"
            ],
            [
             1,
             "#f0f921"
            ]
           ]
          },
          "colorway": [
           "#636efa",
           "#EF553B",
           "#00cc96",
           "#ab63fa",
           "#FFA15A",
           "#19d3f3",
           "#FF6692",
           "#B6E880",
           "#FF97FF",
           "#FECB52"
          ],
          "font": {
           "color": "#2a3f5f"
          },
          "geo": {
           "bgcolor": "white",
           "lakecolor": "white",
           "landcolor": "#E5ECF6",
           "showlakes": true,
           "showland": true,
           "subunitcolor": "white"
          },
          "hoverlabel": {
           "align": "left"
          },
          "hovermode": "closest",
          "mapbox": {
           "style": "light"
          },
          "paper_bgcolor": "white",
          "plot_bgcolor": "#E5ECF6",
          "polar": {
           "angularaxis": {
            "gridcolor": "white",
            "linecolor": "white",
            "ticks": ""
           },
           "bgcolor": "#E5ECF6",
           "radialaxis": {
            "gridcolor": "white",
            "linecolor": "white",
            "ticks": ""
           }
          },
          "scene": {
           "xaxis": {
            "backgroundcolor": "#E5ECF6",
            "gridcolor": "white",
            "gridwidth": 2,
            "linecolor": "white",
            "showbackground": true,
            "ticks": "",
            "zerolinecolor": "white"
           },
           "yaxis": {
            "backgroundcolor": "#E5ECF6",
            "gridcolor": "white",
            "gridwidth": 2,
            "linecolor": "white",
            "showbackground": true,
            "ticks": "",
            "zerolinecolor": "white"
           },
           "zaxis": {
            "backgroundcolor": "#E5ECF6",
            "gridcolor": "white",
            "gridwidth": 2,
            "linecolor": "white",
            "showbackground": true,
            "ticks": "",
            "zerolinecolor": "white"
           }
          },
          "shapedefaults": {
           "line": {
            "color": "#2a3f5f"
           }
          },
          "ternary": {
           "aaxis": {
            "gridcolor": "white",
            "linecolor": "white",
            "ticks": ""
           },
           "baxis": {
            "gridcolor": "white",
            "linecolor": "white",
            "ticks": ""
           },
           "bgcolor": "#E5ECF6",
           "caxis": {
            "gridcolor": "white",
            "linecolor": "white",
            "ticks": ""
           }
          },
          "title": {
           "x": 0.05
          },
          "xaxis": {
           "automargin": true,
           "gridcolor": "white",
           "linecolor": "white",
           "ticks": "",
           "title": {
            "standoff": 15
           },
           "zerolinecolor": "white",
           "zerolinewidth": 2
          },
          "yaxis": {
           "automargin": true,
           "gridcolor": "white",
           "linecolor": "white",
           "ticks": "",
           "title": {
            "standoff": 15
           },
           "zerolinecolor": "white",
           "zerolinewidth": 2
          }
         }
        },
        "title": {
         "text": "Tendencia de porcentajes de votos por año"
        },
        "xaxis": {
         "anchor": "y",
         "domain": [
          0,
          1
         ],
         "title": {
          "text": "Año"
         }
        },
        "yaxis": {
         "anchor": "x",
         "domain": [
          0,
          1
         ],
         "title": {
          "text": "Porcentaje"
         }
        }
       }
      }
     },
     "metadata": {},
     "output_type": "display_data"
    }
   ],
   "source": [
    "px.line(stats_provincia_pivot, x=\"Año\", y=[\"% Votantes\",\"% Votos Validos\",\"% Abstenciones\", \"% Votos Nulos\", \"% Votos Blanco\"],\n",
    "               facet_col=\"PROVINCIA\", title=\"Tendencia de votos y abstención por provincia\",\n",
    "               labels={\"value\": \"Cantidad\", \"variable\": \"Tipo de voto\"},\n",
    "               markers=True)\n",
    "\n",
    "fig.show()"
   ]
  },
  {
   "cell_type": "code",
   "execution_count": 24,
   "id": "e2d30930",
   "metadata": {},
   "outputs": [
    {
     "data": {
      "text/html": [
       "<div>\n",
       "<style scoped>\n",
       "    .dataframe tbody tr th:only-of-type {\n",
       "        vertical-align: middle;\n",
       "    }\n",
       "\n",
       "    .dataframe tbody tr th {\n",
       "        vertical-align: top;\n",
       "    }\n",
       "\n",
       "    .dataframe thead tr th {\n",
       "        text-align: left;\n",
       "    }\n",
       "</style>\n",
       "<table border=\"1\" class=\"dataframe\">\n",
       "  <thead>\n",
       "    <tr>\n",
       "      <th></th>\n",
       "      <th>ANYO</th>\n",
       "      <th colspan=\"3\" halign=\"left\">VOTANTES</th>\n",
       "      <th colspan=\"3\" halign=\"left\">ABSTENCIONES</th>\n",
       "      <th>NULOS</th>\n",
       "      <th>BLANCOS</th>\n",
       "    </tr>\n",
       "    <tr>\n",
       "      <th></th>\n",
       "      <th></th>\n",
       "      <th>sum</th>\n",
       "      <th>mean</th>\n",
       "      <th>std</th>\n",
       "      <th>sum</th>\n",
       "      <th>mean</th>\n",
       "      <th>std</th>\n",
       "      <th>sum</th>\n",
       "      <th>sum</th>\n",
       "    </tr>\n",
       "  </thead>\n",
       "  <tbody>\n",
       "    <tr>\n",
       "      <th>0</th>\n",
       "      <td>2009</td>\n",
       "      <td>66116400</td>\n",
       "      <td>293.420317</td>\n",
       "      <td>92.689799</td>\n",
       "      <td>57651265</td>\n",
       "      <td>255.852594</td>\n",
       "      <td>87.161420</td>\n",
       "      <td>436695</td>\n",
       "      <td>714420</td>\n",
       "    </tr>\n",
       "    <tr>\n",
       "      <th>1</th>\n",
       "      <td>2014</td>\n",
       "      <td>70049616</td>\n",
       "      <td>322.583333</td>\n",
       "      <td>101.282211</td>\n",
       "      <td>69841980</td>\n",
       "      <td>321.627155</td>\n",
       "      <td>102.862376</td>\n",
       "      <td>1721733</td>\n",
       "      <td>1404390</td>\n",
       "    </tr>\n",
       "    <tr>\n",
       "      <th>2</th>\n",
       "      <td>2019</td>\n",
       "      <td>74554304</td>\n",
       "      <td>385.476837</td>\n",
       "      <td>107.856491</td>\n",
       "      <td>41428128</td>\n",
       "      <td>214.200695</td>\n",
       "      <td>81.739547</td>\n",
       "      <td>567552</td>\n",
       "      <td>580800</td>\n",
       "    </tr>\n",
       "  </tbody>\n",
       "</table>\n",
       "</div>"
      ],
      "text/plain": [
       "   ANYO  VOTANTES                         ABSTENCIONES              \\\n",
       "              sum        mean         std          sum        mean   \n",
       "0  2009  66116400  293.420317   92.689799     57651265  255.852594   \n",
       "1  2014  70049616  322.583333  101.282211     69841980  321.627155   \n",
       "2  2019  74554304  385.476837  107.856491     41428128  214.200695   \n",
       "\n",
       "                 NULOS  BLANCOS  \n",
       "          std      sum      sum  \n",
       "0   87.161420   436695   714420  \n",
       "1  102.862376  1721733  1404390  \n",
       "2   81.739547   567552   580800  "
      ]
     },
     "metadata": {},
     "output_type": "display_data"
    },
    {
     "data": {
      "text/plain": [
       "<bound method DataFrameGroupBy.aggregate of <pandas.core.groupby.generic.DataFrameGroupBy object at 0x00000196E7938F50>>"
      ]
     },
     "execution_count": 24,
     "metadata": {},
     "output_type": "execute_result"
    }
   ],
   "source": [
    "# Resumen de estadísticas claves:\n",
    "# Hacemos una resumen de los votos, validos, abstenciones, nulos y blancos\n",
    "stats = df_final.groupby(\"ANYO\").agg({\n",
    "    \"VOTANTES\": [\"sum\", \"mean\", \"std\"],\n",
    "    \"ABSTENCIONES\": [\"sum\", \"mean\", \"std\"],\n",
    "    \"NULOS\": [\"sum\"],\n",
    "    \"BLANCOS\": [\"sum\"]\n",
    "}).reset_index()\n",
    "\n",
    "# Mostrar tabla estadística ( dos niveles)\n",
    "#print(stats)\n",
    "display(stats)\n",
    "stats\n",
    "\n",
    "df_final.groupby(\"ANYO\").agg"
   ]
  },
  {
   "cell_type": "code",
   "execution_count": 25,
   "id": "6991e53b",
   "metadata": {},
   "outputs": [
    {
     "data": {
      "text/html": [
       "<div>\n",
       "<style scoped>\n",
       "    .dataframe tbody tr th:only-of-type {\n",
       "        vertical-align: middle;\n",
       "    }\n",
       "\n",
       "    .dataframe tbody tr th {\n",
       "        vertical-align: top;\n",
       "    }\n",
       "\n",
       "    .dataframe thead th {\n",
       "        text-align: right;\n",
       "    }\n",
       "</style>\n",
       "<table border=\"1\" class=\"dataframe\">\n",
       "  <thead>\n",
       "    <tr style=\"text-align: right;\">\n",
       "      <th></th>\n",
       "      <th>ANYO</th>\n",
       "      <th>NUM_ELEC</th>\n",
       "      <th>COD_PROV</th>\n",
       "      <th>PROVINCIA</th>\n",
       "      <th>COD_COMARCA</th>\n",
       "      <th>COMARCA</th>\n",
       "      <th>COD_MUNICIPIO</th>\n",
       "      <th>MUNICIPIO</th>\n",
       "      <th>DISTRITO</th>\n",
       "      <th>SECCION</th>\n",
       "      <th>...</th>\n",
       "      <th>VOTANTES</th>\n",
       "      <th>VALIDOS</th>\n",
       "      <th>BLANCOS</th>\n",
       "      <th>ABSTENCIONES</th>\n",
       "      <th>NULOS</th>\n",
       "      <th>CANDIDATO_COD</th>\n",
       "      <th>CANDIDATO_SIGLAS</th>\n",
       "      <th>CANDIDATO_DESC</th>\n",
       "      <th>VOTOS</th>\n",
       "      <th>Año</th>\n",
       "    </tr>\n",
       "  </thead>\n",
       "  <tbody>\n",
       "    <tr>\n",
       "      <th>190330</th>\n",
       "      <td>2009</td>\n",
       "      <td>1</td>\n",
       "      <td>46</td>\n",
       "      <td>Valencia</td>\n",
       "      <td>20</td>\n",
       "      <td>La Ribera Alta</td>\n",
       "      <td>46246</td>\n",
       "      <td>Tous</td>\n",
       "      <td>1</td>\n",
       "      <td>1</td>\n",
       "      <td>...</td>\n",
       "      <td>783</td>\n",
       "      <td>775</td>\n",
       "      <td>6</td>\n",
       "      <td>271</td>\n",
       "      <td>8</td>\n",
       "      <td>14</td>\n",
       "      <td>RC</td>\n",
       "      <td>Partit Republicà Català</td>\n",
       "      <td>0</td>\n",
       "      <td>2009</td>\n",
       "    </tr>\n",
       "    <tr>\n",
       "      <th>190331</th>\n",
       "      <td>2009</td>\n",
       "      <td>1</td>\n",
       "      <td>46</td>\n",
       "      <td>Valencia</td>\n",
       "      <td>20</td>\n",
       "      <td>La Ribera Alta</td>\n",
       "      <td>46246</td>\n",
       "      <td>Tous</td>\n",
       "      <td>1</td>\n",
       "      <td>1</td>\n",
       "      <td>...</td>\n",
       "      <td>783</td>\n",
       "      <td>775</td>\n",
       "      <td>6</td>\n",
       "      <td>271</td>\n",
       "      <td>8</td>\n",
       "      <td>13</td>\n",
       "      <td>UCL</td>\n",
       "      <td>Unión Centrista Liberal</td>\n",
       "      <td>0</td>\n",
       "      <td>2009</td>\n",
       "    </tr>\n",
       "    <tr>\n",
       "      <th>190332</th>\n",
       "      <td>2009</td>\n",
       "      <td>1</td>\n",
       "      <td>46</td>\n",
       "      <td>Valencia</td>\n",
       "      <td>20</td>\n",
       "      <td>La Ribera Alta</td>\n",
       "      <td>46246</td>\n",
       "      <td>Tous</td>\n",
       "      <td>1</td>\n",
       "      <td>1</td>\n",
       "      <td>...</td>\n",
       "      <td>783</td>\n",
       "      <td>775</td>\n",
       "      <td>6</td>\n",
       "      <td>271</td>\n",
       "      <td>8</td>\n",
       "      <td>17</td>\n",
       "      <td>UPyD</td>\n",
       "      <td>Unión Progreso y Democracia</td>\n",
       "      <td>6</td>\n",
       "      <td>2009</td>\n",
       "    </tr>\n",
       "    <tr>\n",
       "      <th>190333</th>\n",
       "      <td>2009</td>\n",
       "      <td>1</td>\n",
       "      <td>46</td>\n",
       "      <td>Valencia</td>\n",
       "      <td>20</td>\n",
       "      <td>La Ribera Alta</td>\n",
       "      <td>46246</td>\n",
       "      <td>Tous</td>\n",
       "      <td>1</td>\n",
       "      <td>1</td>\n",
       "      <td>...</td>\n",
       "      <td>783</td>\n",
       "      <td>775</td>\n",
       "      <td>6</td>\n",
       "      <td>271</td>\n",
       "      <td>8</td>\n",
       "      <td>18</td>\n",
       "      <td>AES</td>\n",
       "      <td>Alternativa Española</td>\n",
       "      <td>1</td>\n",
       "      <td>2009</td>\n",
       "    </tr>\n",
       "    <tr>\n",
       "      <th>190334</th>\n",
       "      <td>2009</td>\n",
       "      <td>1</td>\n",
       "      <td>46</td>\n",
       "      <td>Valencia</td>\n",
       "      <td>20</td>\n",
       "      <td>La Ribera Alta</td>\n",
       "      <td>46246</td>\n",
       "      <td>Tous</td>\n",
       "      <td>1</td>\n",
       "      <td>1</td>\n",
       "      <td>...</td>\n",
       "      <td>783</td>\n",
       "      <td>775</td>\n",
       "      <td>6</td>\n",
       "      <td>271</td>\n",
       "      <td>8</td>\n",
       "      <td>19</td>\n",
       "      <td>FA</td>\n",
       "      <td>Falange Auténtica</td>\n",
       "      <td>0</td>\n",
       "      <td>2009</td>\n",
       "    </tr>\n",
       "    <tr>\n",
       "      <th>190335</th>\n",
       "      <td>2009</td>\n",
       "      <td>1</td>\n",
       "      <td>46</td>\n",
       "      <td>Valencia</td>\n",
       "      <td>20</td>\n",
       "      <td>La Ribera Alta</td>\n",
       "      <td>46246</td>\n",
       "      <td>Tous</td>\n",
       "      <td>1</td>\n",
       "      <td>1</td>\n",
       "      <td>...</td>\n",
       "      <td>783</td>\n",
       "      <td>775</td>\n",
       "      <td>6</td>\n",
       "      <td>271</td>\n",
       "      <td>8</td>\n",
       "      <td>20</td>\n",
       "      <td>PUM+J</td>\n",
       "      <td>Por un Mundo más Justo</td>\n",
       "      <td>0</td>\n",
       "      <td>2009</td>\n",
       "    </tr>\n",
       "    <tr>\n",
       "      <th>190336</th>\n",
       "      <td>2009</td>\n",
       "      <td>1</td>\n",
       "      <td>46</td>\n",
       "      <td>Valencia</td>\n",
       "      <td>20</td>\n",
       "      <td>La Ribera Alta</td>\n",
       "      <td>46246</td>\n",
       "      <td>Tous</td>\n",
       "      <td>1</td>\n",
       "      <td>1</td>\n",
       "      <td>...</td>\n",
       "      <td>783</td>\n",
       "      <td>775</td>\n",
       "      <td>6</td>\n",
       "      <td>271</td>\n",
       "      <td>8</td>\n",
       "      <td>22</td>\n",
       "      <td>PREPAL</td>\n",
       "      <td>Salamanca-Zamora-León</td>\n",
       "      <td>0</td>\n",
       "      <td>2009</td>\n",
       "    </tr>\n",
       "    <tr>\n",
       "      <th>190337</th>\n",
       "      <td>2009</td>\n",
       "      <td>1</td>\n",
       "      <td>46</td>\n",
       "      <td>Valencia</td>\n",
       "      <td>20</td>\n",
       "      <td>La Ribera Alta</td>\n",
       "      <td>46246</td>\n",
       "      <td>Tous</td>\n",
       "      <td>1</td>\n",
       "      <td>1</td>\n",
       "      <td>...</td>\n",
       "      <td>783</td>\n",
       "      <td>775</td>\n",
       "      <td>6</td>\n",
       "      <td>271</td>\n",
       "      <td>8</td>\n",
       "      <td>23</td>\n",
       "      <td>CDS</td>\n",
       "      <td>Centro Democrático y Social</td>\n",
       "      <td>0</td>\n",
       "      <td>2009</td>\n",
       "    </tr>\n",
       "    <tr>\n",
       "      <th>190338</th>\n",
       "      <td>2009</td>\n",
       "      <td>1</td>\n",
       "      <td>46</td>\n",
       "      <td>Valencia</td>\n",
       "      <td>20</td>\n",
       "      <td>La Ribera Alta</td>\n",
       "      <td>46246</td>\n",
       "      <td>Tous</td>\n",
       "      <td>1</td>\n",
       "      <td>1</td>\n",
       "      <td>...</td>\n",
       "      <td>783</td>\n",
       "      <td>775</td>\n",
       "      <td>6</td>\n",
       "      <td>271</td>\n",
       "      <td>8</td>\n",
       "      <td>24</td>\n",
       "      <td>LIBERTAS</td>\n",
       "      <td>Libertas-Ciudadanos de España</td>\n",
       "      <td>0</td>\n",
       "      <td>2009</td>\n",
       "    </tr>\n",
       "    <tr>\n",
       "      <th>190339</th>\n",
       "      <td>2009</td>\n",
       "      <td>1</td>\n",
       "      <td>46</td>\n",
       "      <td>Valencia</td>\n",
       "      <td>20</td>\n",
       "      <td>La Ribera Alta</td>\n",
       "      <td>46246</td>\n",
       "      <td>Tous</td>\n",
       "      <td>1</td>\n",
       "      <td>1</td>\n",
       "      <td>...</td>\n",
       "      <td>783</td>\n",
       "      <td>775</td>\n",
       "      <td>6</td>\n",
       "      <td>271</td>\n",
       "      <td>8</td>\n",
       "      <td>26</td>\n",
       "      <td>FN</td>\n",
       "      <td>Frente Nacional</td>\n",
       "      <td>0</td>\n",
       "      <td>2009</td>\n",
       "    </tr>\n",
       "    <tr>\n",
       "      <th>331308</th>\n",
       "      <td>2014</td>\n",
       "      <td>1</td>\n",
       "      <td>12</td>\n",
       "      <td>Castellón</td>\n",
       "      <td>6</td>\n",
       "      <td>La Plana Baixa</td>\n",
       "      <td>12136</td>\n",
       "      <td>Vilavella, la</td>\n",
       "      <td>2</td>\n",
       "      <td>1</td>\n",
       "      <td>...</td>\n",
       "      <td>781</td>\n",
       "      <td>742</td>\n",
       "      <td>14</td>\n",
       "      <td>358</td>\n",
       "      <td>39</td>\n",
       "      <td>1</td>\n",
       "      <td>I.FEM</td>\n",
       "      <td>Iniciativa Feminista</td>\n",
       "      <td>2</td>\n",
       "      <td>2014</td>\n",
       "    </tr>\n",
       "    <tr>\n",
       "      <th>331309</th>\n",
       "      <td>2014</td>\n",
       "      <td>1</td>\n",
       "      <td>12</td>\n",
       "      <td>Castellón</td>\n",
       "      <td>6</td>\n",
       "      <td>La Plana Baixa</td>\n",
       "      <td>12136</td>\n",
       "      <td>Vilavella, la</td>\n",
       "      <td>2</td>\n",
       "      <td>1</td>\n",
       "      <td>...</td>\n",
       "      <td>781</td>\n",
       "      <td>742</td>\n",
       "      <td>14</td>\n",
       "      <td>358</td>\n",
       "      <td>39</td>\n",
       "      <td>2</td>\n",
       "      <td>PSOE</td>\n",
       "      <td>Partido Socialista Obrero Español</td>\n",
       "      <td>177</td>\n",
       "      <td>2014</td>\n",
       "    </tr>\n",
       "    <tr>\n",
       "      <th>331310</th>\n",
       "      <td>2014</td>\n",
       "      <td>1</td>\n",
       "      <td>12</td>\n",
       "      <td>Castellón</td>\n",
       "      <td>6</td>\n",
       "      <td>La Plana Baixa</td>\n",
       "      <td>12136</td>\n",
       "      <td>Vilavella, la</td>\n",
       "      <td>2</td>\n",
       "      <td>1</td>\n",
       "      <td>...</td>\n",
       "      <td>781</td>\n",
       "      <td>742</td>\n",
       "      <td>14</td>\n",
       "      <td>358</td>\n",
       "      <td>39</td>\n",
       "      <td>4</td>\n",
       "      <td>PP</td>\n",
       "      <td>Partido Popular</td>\n",
       "      <td>384</td>\n",
       "      <td>2014</td>\n",
       "    </tr>\n",
       "    <tr>\n",
       "      <th>331311</th>\n",
       "      <td>2014</td>\n",
       "      <td>1</td>\n",
       "      <td>12</td>\n",
       "      <td>Castellón</td>\n",
       "      <td>6</td>\n",
       "      <td>La Plana Baixa</td>\n",
       "      <td>12136</td>\n",
       "      <td>Vilavella, la</td>\n",
       "      <td>2</td>\n",
       "      <td>1</td>\n",
       "      <td>...</td>\n",
       "      <td>781</td>\n",
       "      <td>742</td>\n",
       "      <td>14</td>\n",
       "      <td>358</td>\n",
       "      <td>39</td>\n",
       "      <td>5</td>\n",
       "      <td>CEU</td>\n",
       "      <td>Coalición por Europa</td>\n",
       "      <td>1</td>\n",
       "      <td>2014</td>\n",
       "    </tr>\n",
       "    <tr>\n",
       "      <th>331312</th>\n",
       "      <td>2014</td>\n",
       "      <td>1</td>\n",
       "      <td>12</td>\n",
       "      <td>Castellón</td>\n",
       "      <td>6</td>\n",
       "      <td>La Plana Baixa</td>\n",
       "      <td>12136</td>\n",
       "      <td>Vilavella, la</td>\n",
       "      <td>2</td>\n",
       "      <td>1</td>\n",
       "      <td>...</td>\n",
       "      <td>781</td>\n",
       "      <td>742</td>\n",
       "      <td>14</td>\n",
       "      <td>358</td>\n",
       "      <td>39</td>\n",
       "      <td>10</td>\n",
       "      <td>FAC</td>\n",
       "      <td>Foro de Ciudadanos</td>\n",
       "      <td>0</td>\n",
       "      <td>2014</td>\n",
       "    </tr>\n",
       "    <tr>\n",
       "      <th>331313</th>\n",
       "      <td>2014</td>\n",
       "      <td>1</td>\n",
       "      <td>12</td>\n",
       "      <td>Castellón</td>\n",
       "      <td>6</td>\n",
       "      <td>La Plana Baixa</td>\n",
       "      <td>12136</td>\n",
       "      <td>Vilavella, la</td>\n",
       "      <td>2</td>\n",
       "      <td>1</td>\n",
       "      <td>...</td>\n",
       "      <td>781</td>\n",
       "      <td>742</td>\n",
       "      <td>14</td>\n",
       "      <td>358</td>\n",
       "      <td>39</td>\n",
       "      <td>11</td>\n",
       "      <td>UPYD</td>\n",
       "      <td>Unión Progreso y Democracia</td>\n",
       "      <td>29</td>\n",
       "      <td>2014</td>\n",
       "    </tr>\n",
       "    <tr>\n",
       "      <th>331314</th>\n",
       "      <td>2014</td>\n",
       "      <td>1</td>\n",
       "      <td>12</td>\n",
       "      <td>Castellón</td>\n",
       "      <td>6</td>\n",
       "      <td>La Plana Baixa</td>\n",
       "      <td>12136</td>\n",
       "      <td>Vilavella, la</td>\n",
       "      <td>2</td>\n",
       "      <td>1</td>\n",
       "      <td>...</td>\n",
       "      <td>781</td>\n",
       "      <td>742</td>\n",
       "      <td>14</td>\n",
       "      <td>358</td>\n",
       "      <td>39</td>\n",
       "      <td>14</td>\n",
       "      <td>PACMA</td>\n",
       "      <td>Partido animalista contra el maltrato animal/P...</td>\n",
       "      <td>1</td>\n",
       "      <td>2014</td>\n",
       "    </tr>\n",
       "    <tr>\n",
       "      <th>331315</th>\n",
       "      <td>2014</td>\n",
       "      <td>1</td>\n",
       "      <td>12</td>\n",
       "      <td>Castellón</td>\n",
       "      <td>6</td>\n",
       "      <td>La Plana Baixa</td>\n",
       "      <td>12136</td>\n",
       "      <td>Vilavella, la</td>\n",
       "      <td>2</td>\n",
       "      <td>1</td>\n",
       "      <td>...</td>\n",
       "      <td>781</td>\n",
       "      <td>742</td>\n",
       "      <td>14</td>\n",
       "      <td>358</td>\n",
       "      <td>39</td>\n",
       "      <td>20</td>\n",
       "      <td>EPDD</td>\n",
       "      <td>Esquerra Republicana-L'Esquerra pel dret a dec...</td>\n",
       "      <td>2</td>\n",
       "      <td>2014</td>\n",
       "    </tr>\n",
       "    <tr>\n",
       "      <th>331316</th>\n",
       "      <td>2014</td>\n",
       "      <td>1</td>\n",
       "      <td>12</td>\n",
       "      <td>Castellón</td>\n",
       "      <td>6</td>\n",
       "      <td>La Plana Baixa</td>\n",
       "      <td>12136</td>\n",
       "      <td>Vilavella, la</td>\n",
       "      <td>2</td>\n",
       "      <td>1</td>\n",
       "      <td>...</td>\n",
       "      <td>781</td>\n",
       "      <td>742</td>\n",
       "      <td>14</td>\n",
       "      <td>358</td>\n",
       "      <td>39</td>\n",
       "      <td>25</td>\n",
       "      <td>C'S</td>\n",
       "      <td>Ciudadanos-Partido de la Ciudadanía</td>\n",
       "      <td>34</td>\n",
       "      <td>2014</td>\n",
       "    </tr>\n",
       "    <tr>\n",
       "      <th>331317</th>\n",
       "      <td>2014</td>\n",
       "      <td>1</td>\n",
       "      <td>12</td>\n",
       "      <td>Castellón</td>\n",
       "      <td>6</td>\n",
       "      <td>La Plana Baixa</td>\n",
       "      <td>12136</td>\n",
       "      <td>Vilavella, la</td>\n",
       "      <td>2</td>\n",
       "      <td>1</td>\n",
       "      <td>...</td>\n",
       "      <td>781</td>\n",
       "      <td>742</td>\n",
       "      <td>14</td>\n",
       "      <td>358</td>\n",
       "      <td>39</td>\n",
       "      <td>27</td>\n",
       "      <td>IMPULSOCIAL</td>\n",
       "      <td>Impulso Social</td>\n",
       "      <td>9</td>\n",
       "      <td>2014</td>\n",
       "    </tr>\n",
       "    <tr>\n",
       "      <th>559378</th>\n",
       "      <td>2019</td>\n",
       "      <td>1</td>\n",
       "      <td>46</td>\n",
       "      <td>Valencia</td>\n",
       "      <td>19</td>\n",
       "      <td>El Valle de Cofrentes-Ayora</td>\n",
       "      <td>46097</td>\n",
       "      <td>Cofrentes</td>\n",
       "      <td>1</td>\n",
       "      <td>1</td>\n",
       "      <td>...</td>\n",
       "      <td>852</td>\n",
       "      <td>835</td>\n",
       "      <td>11</td>\n",
       "      <td>112</td>\n",
       "      <td>17</td>\n",
       "      <td>15</td>\n",
       "      <td>ARA REPÚBLIQUES-ERPV</td>\n",
       "      <td>Ara Repúbliques-Esquerra Republicana del País ...</td>\n",
       "      <td>1</td>\n",
       "      <td>2019</td>\n",
       "    </tr>\n",
       "    <tr>\n",
       "      <th>559379</th>\n",
       "      <td>2019</td>\n",
       "      <td>1</td>\n",
       "      <td>46</td>\n",
       "      <td>Valencia</td>\n",
       "      <td>19</td>\n",
       "      <td>El Valle de Cofrentes-Ayora</td>\n",
       "      <td>46097</td>\n",
       "      <td>Cofrentes</td>\n",
       "      <td>1</td>\n",
       "      <td>1</td>\n",
       "      <td>...</td>\n",
       "      <td>852</td>\n",
       "      <td>835</td>\n",
       "      <td>11</td>\n",
       "      <td>112</td>\n",
       "      <td>17</td>\n",
       "      <td>24</td>\n",
       "      <td>CONTIGO</td>\n",
       "      <td>Contigo somos Democracia</td>\n",
       "      <td>1</td>\n",
       "      <td>2019</td>\n",
       "    </tr>\n",
       "    <tr>\n",
       "      <th>559380</th>\n",
       "      <td>2019</td>\n",
       "      <td>1</td>\n",
       "      <td>46</td>\n",
       "      <td>Valencia</td>\n",
       "      <td>19</td>\n",
       "      <td>El Valle de Cofrentes-Ayora</td>\n",
       "      <td>46097</td>\n",
       "      <td>Cofrentes</td>\n",
       "      <td>1</td>\n",
       "      <td>1</td>\n",
       "      <td>...</td>\n",
       "      <td>852</td>\n",
       "      <td>835</td>\n",
       "      <td>11</td>\n",
       "      <td>112</td>\n",
       "      <td>17</td>\n",
       "      <td>25</td>\n",
       "      <td>ADÑ</td>\n",
       "      <td>Fe de las JONS, Alternativa Española, la Falan...</td>\n",
       "      <td>0</td>\n",
       "      <td>2019</td>\n",
       "    </tr>\n",
       "    <tr>\n",
       "      <th>559381</th>\n",
       "      <td>2019</td>\n",
       "      <td>1</td>\n",
       "      <td>46</td>\n",
       "      <td>Valencia</td>\n",
       "      <td>19</td>\n",
       "      <td>El Valle de Cofrentes-Ayora</td>\n",
       "      <td>46097</td>\n",
       "      <td>Cofrentes</td>\n",
       "      <td>1</td>\n",
       "      <td>1</td>\n",
       "      <td>...</td>\n",
       "      <td>852</td>\n",
       "      <td>835</td>\n",
       "      <td>11</td>\n",
       "      <td>112</td>\n",
       "      <td>17</td>\n",
       "      <td>26</td>\n",
       "      <td>PACMA</td>\n",
       "      <td>Partido Animalista contra el Maltrato Animal</td>\n",
       "      <td>16</td>\n",
       "      <td>2019</td>\n",
       "    </tr>\n",
       "    <tr>\n",
       "      <th>559382</th>\n",
       "      <td>2019</td>\n",
       "      <td>1</td>\n",
       "      <td>46</td>\n",
       "      <td>Valencia</td>\n",
       "      <td>19</td>\n",
       "      <td>El Valle de Cofrentes-Ayora</td>\n",
       "      <td>46097</td>\n",
       "      <td>Cofrentes</td>\n",
       "      <td>1</td>\n",
       "      <td>1</td>\n",
       "      <td>...</td>\n",
       "      <td>852</td>\n",
       "      <td>835</td>\n",
       "      <td>11</td>\n",
       "      <td>112</td>\n",
       "      <td>17</td>\n",
       "      <td>27</td>\n",
       "      <td>SAIn</td>\n",
       "      <td>Solidaridad y Autogestión Internacionalista</td>\n",
       "      <td>0</td>\n",
       "      <td>2019</td>\n",
       "    </tr>\n",
       "    <tr>\n",
       "      <th>559383</th>\n",
       "      <td>2019</td>\n",
       "      <td>1</td>\n",
       "      <td>46</td>\n",
       "      <td>Valencia</td>\n",
       "      <td>19</td>\n",
       "      <td>El Valle de Cofrentes-Ayora</td>\n",
       "      <td>46097</td>\n",
       "      <td>Cofrentes</td>\n",
       "      <td>1</td>\n",
       "      <td>1</td>\n",
       "      <td>...</td>\n",
       "      <td>852</td>\n",
       "      <td>835</td>\n",
       "      <td>11</td>\n",
       "      <td>112</td>\n",
       "      <td>17</td>\n",
       "      <td>29</td>\n",
       "      <td>PCTE</td>\n",
       "      <td>Partit Comunista dels Treballadors d'Espanya</td>\n",
       "      <td>1</td>\n",
       "      <td>2019</td>\n",
       "    </tr>\n",
       "    <tr>\n",
       "      <th>559384</th>\n",
       "      <td>2019</td>\n",
       "      <td>1</td>\n",
       "      <td>46</td>\n",
       "      <td>Valencia</td>\n",
       "      <td>19</td>\n",
       "      <td>El Valle de Cofrentes-Ayora</td>\n",
       "      <td>46097</td>\n",
       "      <td>Cofrentes</td>\n",
       "      <td>1</td>\n",
       "      <td>1</td>\n",
       "      <td>...</td>\n",
       "      <td>852</td>\n",
       "      <td>835</td>\n",
       "      <td>11</td>\n",
       "      <td>112</td>\n",
       "      <td>17</td>\n",
       "      <td>35</td>\n",
       "      <td>FAC</td>\n",
       "      <td>Foro de Ciudadanos</td>\n",
       "      <td>1</td>\n",
       "      <td>2019</td>\n",
       "    </tr>\n",
       "    <tr>\n",
       "      <th>559385</th>\n",
       "      <td>2019</td>\n",
       "      <td>1</td>\n",
       "      <td>46</td>\n",
       "      <td>Valencia</td>\n",
       "      <td>19</td>\n",
       "      <td>El Valle de Cofrentes-Ayora</td>\n",
       "      <td>46097</td>\n",
       "      <td>Cofrentes</td>\n",
       "      <td>1</td>\n",
       "      <td>1</td>\n",
       "      <td>...</td>\n",
       "      <td>852</td>\n",
       "      <td>835</td>\n",
       "      <td>11</td>\n",
       "      <td>112</td>\n",
       "      <td>17</td>\n",
       "      <td>36</td>\n",
       "      <td>PH</td>\n",
       "      <td>Partido Humanista</td>\n",
       "      <td>0</td>\n",
       "      <td>2019</td>\n",
       "    </tr>\n",
       "    <tr>\n",
       "      <th>559386</th>\n",
       "      <td>2019</td>\n",
       "      <td>1</td>\n",
       "      <td>46</td>\n",
       "      <td>Valencia</td>\n",
       "      <td>19</td>\n",
       "      <td>El Valle de Cofrentes-Ayora</td>\n",
       "      <td>46097</td>\n",
       "      <td>Cofrentes</td>\n",
       "      <td>1</td>\n",
       "      <td>1</td>\n",
       "      <td>...</td>\n",
       "      <td>852</td>\n",
       "      <td>835</td>\n",
       "      <td>11</td>\n",
       "      <td>112</td>\n",
       "      <td>17</td>\n",
       "      <td>37</td>\n",
       "      <td>AxSÍ</td>\n",
       "      <td>Andalucía por Sí</td>\n",
       "      <td>0</td>\n",
       "      <td>2019</td>\n",
       "    </tr>\n",
       "    <tr>\n",
       "      <th>559387</th>\n",
       "      <td>2019</td>\n",
       "      <td>1</td>\n",
       "      <td>46</td>\n",
       "      <td>Valencia</td>\n",
       "      <td>19</td>\n",
       "      <td>El Valle de Cofrentes-Ayora</td>\n",
       "      <td>46097</td>\n",
       "      <td>Cofrentes</td>\n",
       "      <td>1</td>\n",
       "      <td>1</td>\n",
       "      <td>...</td>\n",
       "      <td>852</td>\n",
       "      <td>835</td>\n",
       "      <td>11</td>\n",
       "      <td>112</td>\n",
       "      <td>17</td>\n",
       "      <td>38</td>\n",
       "      <td>PACT</td>\n",
       "      <td>Actúa</td>\n",
       "      <td>1</td>\n",
       "      <td>2019</td>\n",
       "    </tr>\n",
       "  </tbody>\n",
       "</table>\n",
       "<p>30 rows × 23 columns</p>\n",
       "</div>"
      ],
      "text/plain": [
       "        ANYO  NUM_ELEC  COD_PROV  PROVINCIA  COD_COMARCA  \\\n",
       "190330  2009         1        46   Valencia           20   \n",
       "190331  2009         1        46   Valencia           20   \n",
       "190332  2009         1        46   Valencia           20   \n",
       "190333  2009         1        46   Valencia           20   \n",
       "190334  2009         1        46   Valencia           20   \n",
       "190335  2009         1        46   Valencia           20   \n",
       "190336  2009         1        46   Valencia           20   \n",
       "190337  2009         1        46   Valencia           20   \n",
       "190338  2009         1        46   Valencia           20   \n",
       "190339  2009         1        46   Valencia           20   \n",
       "331308  2014         1        12  Castellón            6   \n",
       "331309  2014         1        12  Castellón            6   \n",
       "331310  2014         1        12  Castellón            6   \n",
       "331311  2014         1        12  Castellón            6   \n",
       "331312  2014         1        12  Castellón            6   \n",
       "331313  2014         1        12  Castellón            6   \n",
       "331314  2014         1        12  Castellón            6   \n",
       "331315  2014         1        12  Castellón            6   \n",
       "331316  2014         1        12  Castellón            6   \n",
       "331317  2014         1        12  Castellón            6   \n",
       "559378  2019         1        46   Valencia           19   \n",
       "559379  2019         1        46   Valencia           19   \n",
       "559380  2019         1        46   Valencia           19   \n",
       "559381  2019         1        46   Valencia           19   \n",
       "559382  2019         1        46   Valencia           19   \n",
       "559383  2019         1        46   Valencia           19   \n",
       "559384  2019         1        46   Valencia           19   \n",
       "559385  2019         1        46   Valencia           19   \n",
       "559386  2019         1        46   Valencia           19   \n",
       "559387  2019         1        46   Valencia           19   \n",
       "\n",
       "                            COMARCA  COD_MUNICIPIO      MUNICIPIO  DISTRITO  \\\n",
       "190330               La Ribera Alta          46246           Tous         1   \n",
       "190331               La Ribera Alta          46246           Tous         1   \n",
       "190332               La Ribera Alta          46246           Tous         1   \n",
       "190333               La Ribera Alta          46246           Tous         1   \n",
       "190334               La Ribera Alta          46246           Tous         1   \n",
       "190335               La Ribera Alta          46246           Tous         1   \n",
       "190336               La Ribera Alta          46246           Tous         1   \n",
       "190337               La Ribera Alta          46246           Tous         1   \n",
       "190338               La Ribera Alta          46246           Tous         1   \n",
       "190339               La Ribera Alta          46246           Tous         1   \n",
       "331308               La Plana Baixa          12136  Vilavella, la         2   \n",
       "331309               La Plana Baixa          12136  Vilavella, la         2   \n",
       "331310               La Plana Baixa          12136  Vilavella, la         2   \n",
       "331311               La Plana Baixa          12136  Vilavella, la         2   \n",
       "331312               La Plana Baixa          12136  Vilavella, la         2   \n",
       "331313               La Plana Baixa          12136  Vilavella, la         2   \n",
       "331314               La Plana Baixa          12136  Vilavella, la         2   \n",
       "331315               La Plana Baixa          12136  Vilavella, la         2   \n",
       "331316               La Plana Baixa          12136  Vilavella, la         2   \n",
       "331317               La Plana Baixa          12136  Vilavella, la         2   \n",
       "559378  El Valle de Cofrentes-Ayora          46097      Cofrentes         1   \n",
       "559379  El Valle de Cofrentes-Ayora          46097      Cofrentes         1   \n",
       "559380  El Valle de Cofrentes-Ayora          46097      Cofrentes         1   \n",
       "559381  El Valle de Cofrentes-Ayora          46097      Cofrentes         1   \n",
       "559382  El Valle de Cofrentes-Ayora          46097      Cofrentes         1   \n",
       "559383  El Valle de Cofrentes-Ayora          46097      Cofrentes         1   \n",
       "559384  El Valle de Cofrentes-Ayora          46097      Cofrentes         1   \n",
       "559385  El Valle de Cofrentes-Ayora          46097      Cofrentes         1   \n",
       "559386  El Valle de Cofrentes-Ayora          46097      Cofrentes         1   \n",
       "559387  El Valle de Cofrentes-Ayora          46097      Cofrentes         1   \n",
       "\n",
       "        SECCION  ... VOTANTES  VALIDOS  BLANCOS  ABSTENCIONES  NULOS  \\\n",
       "190330        1  ...      783      775        6           271      8   \n",
       "190331        1  ...      783      775        6           271      8   \n",
       "190332        1  ...      783      775        6           271      8   \n",
       "190333        1  ...      783      775        6           271      8   \n",
       "190334        1  ...      783      775        6           271      8   \n",
       "190335        1  ...      783      775        6           271      8   \n",
       "190336        1  ...      783      775        6           271      8   \n",
       "190337        1  ...      783      775        6           271      8   \n",
       "190338        1  ...      783      775        6           271      8   \n",
       "190339        1  ...      783      775        6           271      8   \n",
       "331308        1  ...      781      742       14           358     39   \n",
       "331309        1  ...      781      742       14           358     39   \n",
       "331310        1  ...      781      742       14           358     39   \n",
       "331311        1  ...      781      742       14           358     39   \n",
       "331312        1  ...      781      742       14           358     39   \n",
       "331313        1  ...      781      742       14           358     39   \n",
       "331314        1  ...      781      742       14           358     39   \n",
       "331315        1  ...      781      742       14           358     39   \n",
       "331316        1  ...      781      742       14           358     39   \n",
       "331317        1  ...      781      742       14           358     39   \n",
       "559378        1  ...      852      835       11           112     17   \n",
       "559379        1  ...      852      835       11           112     17   \n",
       "559380        1  ...      852      835       11           112     17   \n",
       "559381        1  ...      852      835       11           112     17   \n",
       "559382        1  ...      852      835       11           112     17   \n",
       "559383        1  ...      852      835       11           112     17   \n",
       "559384        1  ...      852      835       11           112     17   \n",
       "559385        1  ...      852      835       11           112     17   \n",
       "559386        1  ...      852      835       11           112     17   \n",
       "559387        1  ...      852      835       11           112     17   \n",
       "\n",
       "        CANDIDATO_COD      CANDIDATO_SIGLAS  \\\n",
       "190330             14                    RC   \n",
       "190331             13                   UCL   \n",
       "190332             17                  UPyD   \n",
       "190333             18                   AES   \n",
       "190334             19                    FA   \n",
       "190335             20                 PUM+J   \n",
       "190336             22                PREPAL   \n",
       "190337             23                   CDS   \n",
       "190338             24              LIBERTAS   \n",
       "190339             26                    FN   \n",
       "331308              1                 I.FEM   \n",
       "331309              2                  PSOE   \n",
       "331310              4                    PP   \n",
       "331311              5                   CEU   \n",
       "331312             10                   FAC   \n",
       "331313             11                  UPYD   \n",
       "331314             14                 PACMA   \n",
       "331315             20                  EPDD   \n",
       "331316             25                   C'S   \n",
       "331317             27           IMPULSOCIAL   \n",
       "559378             15  ARA REPÚBLIQUES-ERPV   \n",
       "559379             24               CONTIGO   \n",
       "559380             25                   ADÑ   \n",
       "559381             26                 PACMA   \n",
       "559382             27                  SAIn   \n",
       "559383             29                  PCTE   \n",
       "559384             35                   FAC   \n",
       "559385             36                    PH   \n",
       "559386             37                  AxSÍ   \n",
       "559387             38                  PACT   \n",
       "\n",
       "                                           CANDIDATO_DESC  VOTOS   Año  \n",
       "190330                            Partit Republicà Català      0  2009  \n",
       "190331                            Unión Centrista Liberal      0  2009  \n",
       "190332                        Unión Progreso y Democracia      6  2009  \n",
       "190333                               Alternativa Española      1  2009  \n",
       "190334                                  Falange Auténtica      0  2009  \n",
       "190335                             Por un Mundo más Justo      0  2009  \n",
       "190336                              Salamanca-Zamora-León      0  2009  \n",
       "190337                        Centro Democrático y Social      0  2009  \n",
       "190338                      Libertas-Ciudadanos de España      0  2009  \n",
       "190339                                    Frente Nacional      0  2009  \n",
       "331308                               Iniciativa Feminista      2  2014  \n",
       "331309                  Partido Socialista Obrero Español    177  2014  \n",
       "331310                                    Partido Popular    384  2014  \n",
       "331311                               Coalición por Europa      1  2014  \n",
       "331312                                 Foro de Ciudadanos      0  2014  \n",
       "331313                        Unión Progreso y Democracia     29  2014  \n",
       "331314  Partido animalista contra el maltrato animal/P...      1  2014  \n",
       "331315  Esquerra Republicana-L'Esquerra pel dret a dec...      2  2014  \n",
       "331316                Ciudadanos-Partido de la Ciudadanía     34  2014  \n",
       "331317                                     Impulso Social      9  2014  \n",
       "559378  Ara Repúbliques-Esquerra Republicana del País ...      1  2019  \n",
       "559379                           Contigo somos Democracia      1  2019  \n",
       "559380  Fe de las JONS, Alternativa Española, la Falan...      0  2019  \n",
       "559381       Partido Animalista contra el Maltrato Animal     16  2019  \n",
       "559382        Solidaridad y Autogestión Internacionalista      0  2019  \n",
       "559383       Partit Comunista dels Treballadors d'Espanya      1  2019  \n",
       "559384                                 Foro de Ciudadanos      1  2019  \n",
       "559385                                  Partido Humanista      0  2019  \n",
       "559386                                   Andalucía por Sí      0  2019  \n",
       "559387                                              Actúa      1  2019  \n",
       "\n",
       "[30 rows x 23 columns]"
      ]
     },
     "execution_count": 25,
     "metadata": {},
     "output_type": "execute_result"
    }
   ],
   "source": [
    "# Ordenar los datos por año y número de votos en orden descendente\n",
    "df_final_ordenado = df_final.sort_values([\"ANYO\", \"VALIDOS\"], ascending=[True, False])\n",
    "\n",
    "# Seleccionar los 10 partidos con más votos en cada año\n",
    "top_partidos = df_final_ordenado.groupby(\"ANYO\").head(10)\n",
    "\n",
    "# Mostrar los resultados\n",
    "top_partidos\n"
   ]
  },
  {
   "cell_type": "code",
   "execution_count": 26,
   "id": "b092f5b7",
   "metadata": {},
   "outputs": [
    {
     "data": {
      "text/html": [
       "<div>\n",
       "<style scoped>\n",
       "    .dataframe tbody tr th:only-of-type {\n",
       "        vertical-align: middle;\n",
       "    }\n",
       "\n",
       "    .dataframe tbody tr th {\n",
       "        vertical-align: top;\n",
       "    }\n",
       "\n",
       "    .dataframe thead th {\n",
       "        text-align: right;\n",
       "    }\n",
       "</style>\n",
       "<table border=\"1\" class=\"dataframe\">\n",
       "  <thead>\n",
       "    <tr style=\"text-align: right;\">\n",
       "      <th>PROVINCIA</th>\n",
       "      <th>Alicante</th>\n",
       "      <th>Castellón</th>\n",
       "      <th>Valencia</th>\n",
       "    </tr>\n",
       "    <tr>\n",
       "      <th>ANYO</th>\n",
       "      <th></th>\n",
       "      <th></th>\n",
       "      <th></th>\n",
       "    </tr>\n",
       "  </thead>\n",
       "  <tbody>\n",
       "    <tr>\n",
       "      <th>2009</th>\n",
       "      <td>21665420</td>\n",
       "      <td>7622475</td>\n",
       "      <td>36391810</td>\n",
       "    </tr>\n",
       "    <tr>\n",
       "      <th>2014</th>\n",
       "      <td>21932469</td>\n",
       "      <td>7869849</td>\n",
       "      <td>38525565</td>\n",
       "    </tr>\n",
       "    <tr>\n",
       "      <th>2019</th>\n",
       "      <td>24554528</td>\n",
       "      <td>8821088</td>\n",
       "      <td>40611136</td>\n",
       "    </tr>\n",
       "  </tbody>\n",
       "</table>\n",
       "</div>"
      ],
      "text/plain": [
       "PROVINCIA  Alicante  Castellón  Valencia\n",
       "ANYO                                    \n",
       "2009       21665420    7622475  36391810\n",
       "2014       21932469    7869849  38525565\n",
       "2019       24554528    8821088  40611136"
      ]
     },
     "execution_count": 26,
     "metadata": {},
     "output_type": "execute_result"
    }
   ],
   "source": [
    "df_final.pivot_table(index=\"ANYO\", columns=\"PROVINCIA\", values=\"VALIDOS\", aggfunc=\"sum\")"
   ]
  },
  {
   "cell_type": "code",
   "execution_count": 28,
   "id": "41aaedbd",
   "metadata": {},
   "outputs": [],
   "source": [
    "### 2. Obtención de datos mediante API\n",
    "from fake_useragent import UserAgent\n",
    "import json\n",
    "\n",
    "# Identificador de la Generalitat Valenciana\n",
    "gv_id = \"A10002983\"  # Puedes confirmar este identificador según los datos que extrajiste antes\n",
    "\n",
    "ua = UserAgent()\n",
    "headers = {'User-Agent': ua.random}"
   ]
  },
  {
   "cell_type": "code",
   "execution_count": 29,
   "id": "932ff0ab",
   "metadata": {},
   "outputs": [
    {
     "name": "stdout",
     "output_type": "stream",
     "text": [
      "Estructura de la respuesta:\n",
      "{\n",
      "  \"format\": \"linked-data-api\",\n",
      "  \"version\": \"0.2\",\n",
      "  \"result\": {\n",
      "    \"_about\": \"http://datos.gob.es/apidata/catalog/dataset.json?_pageSize=20&_sort=title\",\n",
      "    \"definition\": \"http://datos.gob.es/apidata/catalog/meta/dataset.json?_sort=title\",\n",
      "    \"extendedMetadataVersion\": \"http://datos.gob.es/apidata/catalog/dataset.json?_pageSize=20&_metadata=all&_sort=title\",\n",
      "    \"first\": \"http://datos.gob.es/apidata/catalog/dataset.json?_page=0&_sort=title\",\n",
      "    \"isPartOf\": {\n",
      "      \"_about\": \"http://datos.gob.es/apidata/catalog/dataset.json?_sort=title\",\n",
      "      \"definition\": \"http://datos.gob.es/apidata/catalog/meta/dataset.json?_sort=title\",\n",
      "      \"hasPart\": \"http://datos.gob.es/apidata/catalog/dataset.json?_pageSize=20&_sort=title\",\n",
      "      \"type\": \"http://purl.org/linked-data/api/vocab#ListEndpoint\"\n",
      "    },\n",
      "    \"items\": [\n",
      "      {\n",
      "        \"_about\": \"https://datos.gob.es/catalogo/l01431482-actividades\",\n",
      "        \"accrualPeriodicity\": {\n",
      "          \"_about\": \"https://datos.gob.es/catalogo/l01431482-actividades/Frequency\",\n",
      "          \"value\": {\n",
      "            \"_about\": \"https://datos.gob.es/catalogo/l01431482-actividades/DurationDescription\",\n",
      "            \"days\": 1.0\n",
      "          }\n",
      "        },\n",
      "        \"description\": [\n",
      "          {\n",
      "            \"_value\": \" Agenda d'Activitats Ciutat de Tarragona\",\n",
      "            \"_lang\": \"ca\"\n",
      "          },\n",
      "          {\n",
      "            \"_value\": \" Agenda of Activities City of Tarragona\",\n",
      "            \"_lang\": \"en\"\n",
      "          },\n",
      "          {\n",
      "            \"_value\": \" Axenda de Actividades Cidade de Tarragona\",\n",
      "            \"_lang\": \"gl\"\n",
      "          },\n",
      "          {\n",
      "            \"_value\": \"Agenda de Actividades Ciudad de Tarragona\",\n",
      "            \"_lang\": \"es\"\n",
      "          },\n",
      "          {\n",
      "            \"_value\": \"Jardueren agenda Tarragonako Udala\",\n",
      "            \"_lang\": \"eu\"\n",
      "          }\n",
      "        ],\n",
      "        \"distribution\": [\n",
      "          {\n",
      "            \"_about\": \"https://datos.gob.es/catalogo/l01431482-actividades/resource/16c04e07-30ce-4dfc-9345-b8939cce1923\",\n",
      "            \"accessURL\": \"http://dadesobertes.seu-e.cat/api/aoc/action/odata/5368e11e-cfe3-4a8d-b3e9-936df0550d5b?$format=json\",\n",
      "            \"format\": {\n",
      "              \"_about\": \"https://datos.gob.es/catalogo/l01431482-actividades/resource/16c04e07-30ce-4dfc-9345-b8939cce1923/format\",\n",
      "              \"type\": \"http://purl.org/dc/terms/IMT\",\n",
      "              \"value\": \"application/json\"\n",
      "            },\n",
      "            \"title\": [\n",
      "              {\n",
      "                \"_value\": \"Agenda Actividades\",\n",
      "                \"_lang\": \"es\"\n",
      "              },\n",
      "              {\n",
      "                \"_value\": \"Agenda d'Activitats\",\n",
      "                \"_lang\": \"en\"\n",
      "              }\n",
      "            ],\n",
      "            \"type\": \"http://www.w3.org/ns/dcat#Distribution\"\n",
      "          },\n",
      "          {\n",
      "            \"_about\": \"https://datos.gob.es/catalogo/l01431482-actividades/resource/7ffa51f5-594e-4c21-8849-58a2c2e0e76a\",\n",
      "            \"accessURL\": \"http://dadesobertes.seu-e.cat/csv/tarragona/00302.csv\",\n",
      "            \"format\": {\n",
      "              \"_about\": \"https://datos.gob.es/catalogo/l01431482-actividades/resource/7ffa51f5-594e-4c21-8849-58a2c2e0e76a/format\",\n",
      "              \"type\": \"http://purl.org/dc/terms/IMT\",\n",
      "              \"value\": \"text/csv\"\n",
      "            },\n",
      "            \"title\": [\n",
      "              {\n",
      "                \"_value\": \"Agenda Actividades\",\n",
      "                \"_lang\": \"es\"\n",
      "              },\n",
      "              {\n",
      "                \"_value\": \"Agenda d'Activitats\",\n",
      "                \"_lang\": \"ca\"\n",
      "              }\n",
      "            ],\n",
      "            \"type\": \"http://www.w3.org/ns/dcat#Distribution\"\n",
      "          }\n",
      "        ],\n",
      "        \"keyword\": [\n",
      "          {\n",
      "            \"_value\": \"Agenda\",\n",
      "            \"_lang\": \"es\"\n",
      "          },\n",
      "          {\n",
      "            \"_value\": \"actividades\",\n",
      "            \"_lang\": \"es\"\n",
      "          },\n",
      "          {\n",
      "            \"_value\": \"cultura\",\n",
      "            \"_lang\": \"es\"\n",
      "          }\n",
      "        ],\n",
      "        \"language\": [\n",
      "          \"ca\",\n",
      "          \"es\"\n",
      "        ],\n",
      "        \"license\": \"https://www.boe.es/diario_boe/txt.php?id=BOE-A-2011-17560\",\n",
      "        \"publisher\": \"http://datos.gob.es/recurso/sector-publico/org/Organismo/L01431482\",\n",
      "        \"spatial\": \"http://datos.gob.es/recurso/sector-publico/territorio/Provincia/Tarragona\",\n",
      "        \"theme\": \"http://datos.gob.es/kos/sector-publico/sector/cultura-ocio\",\n",
      "        \"title\": [\n",
      "          {\n",
      "            \"_value\": \" Agenda d'Activitats Ciutat de Tarragona\",\n",
      "            \"_lang\": \"ca\"\n",
      "          },\n",
      "          {\n",
      "            \"_value\": \" Agenda of Activities City of Tarragona\",\n",
      "            \"_lang\": \"en\"\n",
      "          },\n",
      "          {\n",
      "            \"_value\": \" Axenda de Actividades Cidade de Tarragona\",\n",
      "            \"_lang\": \"gl\"\n",
      "          },\n",
      "          {\n",
      "            \"_value\": \" Jardueren agenda Tarragonako Udala\",\n",
      "            \"_lang\": \"eu\"\n",
      "          },\n",
      "          {\n",
      "            \"_value\": \"Agenda de Actividades Ciudad de Tarragona\",\n",
      "            \"_lang\": \"es\"\n",
      "          }\n",
      "        ],\n",
      "        \"type\": \"http://www.w3.org/ns/dcat#Dataset\"\n",
      "      },\n",
      "      {\n",
      "        \"_about\": \"https://datos.gob.es/catalogo/a09002970-catala947-la-lengua-catalana-en-los-municipios-de-cataluna\",\n",
      "        \"description\": [\n",
      "          {\n",
      "            \"_value\": \"#catal\\u00e0947 \\u00e9s un projecte de la Secretaria de Pol\\u00edtica Ling\\u00fc\\u00edstica per posar a disposici\\u00f3 de les institucions, dels recercadors i de la ciutadania tota la informaci\\u00f3 socioling\\u00fc\\u00edstica i de pol\\u00edtica ling\\u00fc\\u00edstica disponible de cada municipi de Catalunya.\",\n",
      "            \"_lang\": \"es\"\n",
      "          },\n",
      "          {\n",
      "            \"_value\": \"#catal\\u00e0947 \\u00e9s un projecte de la Secretaria de Pol\\u00edtica Ling\\u00fc\\u00edstica per posar a disposici\\u00f3 de les institucions, dels recercadors i de la ciutadania tota la informaci\\u00f3 socioling\\u00fc\\u00edstica i de pol\\u00edtica ling\\u00fc\\u00edstica disponible de cada municipi de Catalunya.\",\n",
      "            \"_lang\": \"en\"\n",
      "          },\n",
      "          {\n",
      "            \"_value\": \"#catal\\u00e0947 \\u00e9s un projecte de la Secretaria de Pol\\u00edtica Ling\\u00fc\\u00edstica per posar a disposici\\u00f3 de les institucions, dels recercadors i de la ciutadania tota la informaci\\u00f3 socioling\\u00fc\\u00edstica i de pol\\u00edtica ling\\u00fc\\u00edstica disponible de cada municipi de Catalunya.\",\n",
      "            \"_lang\": \"ca\"\n",
      "          }\n",
      "        ],\n",
      "        \"distribution\": [\n",
      "          {\n",
      "            \"_about\": \"https://datos.gob.es/catalogo/a09002970-catala947-la-lengua-catalana-en-los-municipios-de-cataluna/resource/822f4185-4e8e-4716-b288-28dcf1fa311e\",\n",
      "            \"accessURL\": \"https://analisi.transparenciacatalunya.cat/api/views/374c-85cu/rows.rdf?accessType=DOWNLOAD\",\n",
      "            \"format\": {\n",
      "              \"_about\": \"https://datos.gob.es/catalogo/a09002970-catala947-la-lengua-catalana-en-los-municipios-de-cataluna/resource/822f4185-4e8e-4716-b288-28dcf1fa311e/format\",\n",
      "              \"type\": \"http://purl.org/dc/terms/IMT\",\n",
      "              \"value\": \"application/rdf+xml\"\n",
      "            },\n",
      "            \"identifier\": \"https://analisi.transparenciacatalunya.cat/d/374c-85cu\",\n",
      "            \"title\": [\n",
      "              {\n",
      "                \"_value\": \"#catal\\u00e0947. La lengua catalana en los municipios de Catalu\\u00f1a\",\n",
      "                \"_lang\": \"es\"\n",
      "              },\n",
      "              {\n",
      "                \"_value\": \"#catal\\u00e0947. La llengua catalana als municipis de Catalunya\",\n",
      "                \"_lang\": \"ca\"\n",
      "              },\n",
      "              {\n",
      "                \"_value\": \"#catal\\u00e0947. The Catalan language in the municipalities of Catalonia\",\n",
      "                \"_lang\": \"en\"\n",
      "              }\n",
      "            ],\n",
      "            \"type\": \"http://www.w3.org/ns/dcat#Distribution\"\n",
      "          },\n",
      "          {\n",
      "            \"_about\": \"https://datos.gob.es/catalogo/a09002970-catala947-la-lengua-catalana-en-los-municipios-de-cataluna/resource/92ad94e7-9a83-437f-badf-e022c4f01fc4\",\n",
      "            \"accessURL\": \"https://analisi.transparenciacatalunya.cat/api/views/374c-85cu/rows.csv?accessType=DOWNLOAD\",\n",
      "            \"format\": {\n",
      "              \"_about\": \"https://datos.gob.es/catalogo/a09002970-catala947-la-lengua-catalana-en-los-municipios-de-cataluna/resource/92ad94e7-9a83-437f-badf-e022c4f01fc4/format\",\n",
      "              \"type\": \"http://purl.org/dc/terms/IMT\",\n",
      "              \"value\": \"text/csv\"\n",
      "            },\n",
      "            \"identifier\": \"https://analisi.transparenciacatalunya.cat/d/374c-85cu\",\n",
      "            \"title\": [\n",
      "              {\n",
      "                \"_value\": \"#catal\\u00e0947. La lengua catalana en los municipios de Catalu\\u00f1a\",\n",
      "                \"_lang\": \"es\"\n",
      "              },\n",
      "              {\n",
      "                \"_value\": \"#catal\\u00e0947. La llengua catalana als municipis de Catalunya\",\n",
      "                \"_lang\": \"ca\"\n",
      "              },\n",
      "              {\n",
      "                \"_value\": \"#catal\\u00e0947. The Catalan language in the municipalities of Catalonia\",\n",
      "                \"_lang\": \"en\"\n",
      "              }\n",
      "            ],\n",
      "            \"type\": \"http://www.w3.org/ns/dcat#Distribution\"\n",
      "          },\n",
      "          {\n",
      "            \"_about\": \"https://datos.gob.es/catalogo/a09002970-catala947-la-lengua-catalana-en-los-municipios-de-cataluna/resource/b8947ebe-3bc2-45bb-9771-b98caf219eae\",\n",
      "            \"accessURL\": \"https://analisi.transparenciacatalunya.cat/api/views/374c-85cu/rows.json?accessType=DOWNLOAD\",\n",
      "            \"format\": {\n",
      "              \"_about\": \"https://datos.gob.es/catalogo/a09002970-catala947-la-lengua-catalana-en-los-municipios-de-cataluna/resource/b8947ebe-3bc2-45bb-9771-b98caf219eae/format\",\n",
      "              \"type\": \"http://purl.org/dc/terms/IMT\",\n",
      "              \"value\": \"application/json\"\n",
      "            },\n",
      "            \"identifier\": \"https://analisi.transparenciacatalunya.cat/d/374c-85cu\",\n",
      "            \"title\": [\n",
      "              {\n",
      "                \"_value\": \"#catal\\u00e0947. La lengua catalana en los municipios de Catalu\\u00f1a\",\n",
      "                \"_lang\": \"es\"\n",
      "              },\n",
      "              {\n",
      "                \"_value\": \"#catal\\u00e0947. La llengua catalana als municipis de Catalunya\",\n",
      "                \"_lang\": \"ca\"\n",
      "              },\n",
      "              {\n",
      "                \"_value\": \"#catal\\u00e0947. The Catalan language in the municipalities of Catalonia\",\n",
      "                \"_lang\": \"en\"\n",
      "              }\n",
      "            ],\n",
      "            \"type\": \"http://www.w3.org/ns/dcat#Distribution\"\n",
      "          },\n",
      "          {\n",
      "            \"_about\": \"https://datos.gob.es/catalogo/a09002970-catala947-la-lengua-catalana-en-los-municipios-de-cataluna/resource/d02fe445-8ae0-4d56-abf4-579c4c8bbb4c\",\n",
      "            \"accessURL\": \"https://analisi.transparenciacatalunya.cat/api/views/374c-85cu/rows.xml?accessType=DOWNLOAD\",\n",
      "            \"format\": {\n",
      "              \"_about\": \"https://datos.gob.es/catalogo/a09002970-catala947-la-lengua-catalana-en-los-municipios-de-cataluna/resource/d02fe445-8ae0-4d56-abf4-579c4c8bbb4c/format\",\n",
      "              \"type\": \"http://purl.org/dc/terms/IMT\",\n",
      "              \"value\": \"application/xml\"\n",
      "            },\n",
      "            \"identifier\": \"https://analisi.transparenciacatalunya.cat/d/374c-85cu\",\n",
      "            \"title\": [\n",
      "              {\n",
      "                \"_value\": \"#catal\\u00e0947. La lengua catalana en los municipios de Catalu\\u00f1a\",\n",
      "                \"_lang\": \"es\"\n",
      "              },\n",
      "              {\n",
      "                \"_value\": \"#catal\\u00e0947. La llengua catalana als municipis de Catalunya\",\n",
      "                \"_lang\": \"ca\"\n",
      "              },\n",
      "              {\n",
      "                \"_value\": \"#catal\\u00e0947. The Catalan language in the municipalities of Catalonia\",\n",
      "                \"_lang\": \"en\"\n",
      "              }\n",
      "            ],\n",
      "            \"type\": \"http://www.w3.org/ns/dcat#Distribution\"\n",
      "          }\n",
      "        ],\n",
      "        \"identifier\": \"https://analisi.transparenciacatalunya.cat/api/views/374c-85cu\",\n",
      "        \"issued\": \"mar, 30 may 2023 22:00:00 GMT+0000\",\n",
      "        \"keyword\": [\n",
      "          {\n",
      "            \"_value\": \"catal\\u00e0947\",\n",
      "            \"_lang\": \"es\"\n",
      "          },\n",
      "          {\n",
      "            \"_value\": \"coneixementsiusosling\\u00fc\\u00edstics\",\n",
      "            \"_lang\": \"es\"\n",
      "          },\n",
      "          {\n",
      "            \"_value\": \"llengua\",\n",
      "            \"_lang\": \"es\"\n",
      "          },\n",
      "          {\n",
      "            \"_value\": \"mapasocioling\\u00fc\\u00edstic\",\n",
      "            \"_lang\": \"es\"\n",
      "          },\n",
      "          {\n",
      "            \"_value\": \"municipis\",\n",
      "            \"_lang\": \"es\"\n",
      "          },\n",
      "          {\n",
      "            \"_value\": \"ods11_ciutats i comunitats sostenibles\",\n",
      "            \"_lang\": \"es\"\n",
      "          },\n",
      "          {\n",
      "            \"_value\": \"ods4_educaci\\u00f3 de qualitat\",\n",
      "            \"_lang\": \"es\"\n",
      "          },\n",
      "          {\n",
      "            \"_value\": \"situaci\\u00f3catal\\u00e0\",\n",
      "            \"_lang\": \"es\"\n",
      "          },\n",
      "          {\n",
      "            \"_value\": \"situaci\\u00f3socioling\\u00fc\\u00edstica\",\n",
      "            \"_lang\": \"es\"\n",
      "          },\n",
      "          {\n",
      "            \"_value\": \"territori\",\n",
      "            \"_lang\": \"es\"\n",
      "          }\n",
      "        ],\n",
      "        \"language\": \"ca\",\n",
      "        \"license\": \"https://administraciodigital.gencat.cat/ca/dades/dades-obertes/informacio-practica/llicencies/\",\n",
      "        \"modified\": \"dom, 06 abr 2025 22:00:00 GMT+0000\",\n",
      "        \"publisher\": \"http://datos.gob.es/recurso/sector-publico/org/Organismo/A09002970\",\n",
      "        \"references\": \"https://analisi.transparenciacatalunya.cat/d/374c-85cu\",\n",
      "        \"spatial\": \"http://datos.gob.es/recurso/sector-publico/territorio/Autonomia/Cataluna\",\n",
      "        \"theme\": \"http://datos.gob.es/kos/sector-publico/sector/sociedad-bienestar\",\n",
      "        \"title\": [\n",
      "          {\n",
      "            \"_value\": \"#catal\\u00e0947. La lengua catalana en los municipios de Catalu\\u00f1a\",\n",
      "            \"_lang\": \"es\"\n",
      "          },\n",
      "          {\n",
      "            \"_value\": \"#catal\\u00e0947. La llengua catalana als municipis de Catalunya\",\n",
      "            \"_lang\": \"ca\"\n",
      "          },\n",
      "          {\n",
      "            \"_value\": \"#catal\\u00e0947. The Catalan language in the municipalities of Catalonia\",\n",
      "            \"_lang\": \"en\"\n",
      "          }\n",
      "        ],\n",
      "        \"type\": \"http://www.w3.org/ns/dcat#Dataset\"\n",
      "      },\n",
      "      {\n",
      "        \"_about\": \"https://datos.gob.es/catalogo/a04003003-area-prevencion-riesgos-erosion\",\n",
      "        \"description\": [\n",
      "          {\n",
      "            \"_value\": \"Area Prevenci\\u00f3n Riesgos Erosi\\u00f3n\",\n",
      "            \"_lang\": \"es\"\n",
      "          },\n",
      "          {\n",
      "            \"_value\": \"Capa que delimita les \\u00e0rees de prevenci\\u00f3 de riscs d'erosi\\u00f3 d'acord amb les determinacions de la normativa territorial i urban\\u00edstica.\",\n",
      "            \"_lang\": \"ca\"\n",
      "          },\n",
      "          {\n",
      "            \"_value\": \"Erosion Risk Prevention Area\",\n",
      "            \"_lang\": \"en\"\n",
      "          }\n",
      "        ],\n",
      "        \"distribution\": [\n",
      "          {\n",
      "            \"_about\": \"https://datos.gob.es/catalogo/a04003003-area-prevencion-riesgos-erosion/resource/022bdff1-4ee0-456d-8788-11f9f69bcd57\",\n",
      "            \"accessURL\": \"https://catalegdades.caib.cat/api/views/74pf-baf9/rows.xml?accessType=DOWNLOAD\",\n",
      "            \"format\": {\n",
      "              \"_about\": \"https://datos.gob.es/catalogo/a04003003-area-prevencion-riesgos-erosion/resource/022bdff1-4ee0-456d-8788-11f9f69bcd57/format\",\n",
      "              \"type\": \"http://purl.org/dc/terms/IMT\",\n",
      "              \"value\": \"application/xml\"\n",
      "            },\n",
      "            \"identifier\": \"https://catalegdades.caib.cat/api/views/74pf-baf9/rows.xml?accessType=DOWNLOAD\",\n",
      "            \"title\": [\n",
      "              {\n",
      "                \"_value\": \"APR Erosi\\u00f3\",\n",
      "                \"_lang\": \"ca\"\n",
      "              },\n",
      "              {\n",
      "                \"_value\": \"Area Prevenci\\u00f3n Riesgos Erosi\\u00f3n\",\n",
      "                \"_lang\": \"es\"\n",
      "              },\n",
      "              {\n",
      "                \"_value\": \"Erosion Risk Prevention Area\",\n",
      "                \"_lang\": \"en\"\n",
      "              }\n",
      "            ],\n",
      "            \"type\": \"http://www.w3.org/ns/dcat#Distribution\"\n",
      "          },\n",
      "          {\n",
      "            \"_about\": \"https://datos.gob.es/catalogo/a04003003-area-prevencion-riesgos-erosion/resource/208fe17b-45dc-4bfa-b872-53ae7b3fa2eb\",\n",
      "            \"accessURL\": \"https://catalegdades.caib.cat/api/views/74pf-baf9/rows.csv?accessType=DOWNLOAD\",\n",
      "            \"format\": {\n",
      "              \"_about\": \"https://datos.gob.es/catalogo/a04003003-area-prevencion-riesgos-erosion/resource/208fe17b-45dc-4bfa-b872-53ae7b3fa2eb/format\",\n",
      "              \"type\": \"http://purl.org/dc/terms/IMT\",\n",
      "              \"value\": \"text/csv\"\n",
      "            },\n",
      "            \"identifier\": \"https://catalegdades.caib.cat/api/views/74pf-baf9/rows.csv?accessType=DOWNLOAD\",\n",
      "            \"title\": [\n",
      "              {\n",
      "                \"_value\": \"APR Erosi\\u00f3\",\n",
      "                \"_lang\": \"ca\"\n",
      "              },\n",
      "              {\n",
      "                \"_value\": \"Area Prevenci\\u00f3n Riesgos Erosi\\u00f3n\",\n",
      "                \"_lang\": \"es\"\n",
      "              },\n",
      "              {\n",
      "                \"_value\": \"Erosion Risk Prevention Area\",\n",
      "                \"_lang\": \"en\"\n",
      "              }\n",
      "            ],\n",
      "            \"type\": \"http://www.w3.org/ns/dcat#Distribution\"\n",
      "          },\n",
      "          {\n",
      "            \"_about\": \"https://datos.gob.es/catalogo/a04003003-area-prevencion-riesgos-erosion/resource/cd9e39a1-53b2-4bb4-a092-d67c30e9b52d\",\n",
      "            \"accessURL\": \"https://catalegdades.caib.cat/api/views/74pf-baf9/rows.json?accessType=DOWNLOAD\",\n",
      "            \"format\": {\n",
      "              \"_about\": \"https://datos.gob.es/catalogo/a04003003-area-prevencion-riesgos-erosion/resource/cd9e39a1-53b2-4bb4-a092-d67c30e9b52d/format\",\n",
      "              \"type\": \"http://purl.org/dc/terms/IMT\",\n",
      "              \"value\": \"application/json\"\n",
      "            },\n",
      "            \"identifier\": \"https://catalegdades.caib.cat/api/views/74pf-baf9/rows.json?accessType=DOWNLOAD\",\n",
      "            \"title\": [\n",
      "              {\n",
      "                \"_value\": \"APR Erosi\\u00f3\",\n",
      "                \"_lang\": \"ca\"\n",
      "              },\n",
      "              {\n",
      "                \"_value\": \"Area Prevenci\\u00f3n Riesgos Erosi\\u00f3n\",\n",
      "                \"_lang\": \"es\"\n",
      "              },\n",
      "              {\n",
      "                \"_value\": \"Erosion Risk Prevention Area\",\n",
      "                \"_lang\": \"en\"\n",
      "              }\n",
      "            ],\n",
      "            \"type\": \"http://www.w3.org/ns/dcat#Distribution\"\n",
      "          },\n",
      "          {\n",
      "            \"_about\": \"https://datos.gob.es/catalogo/a04003003-area-prevencion-riesgos-erosion/resource/e6f0312c-4e36-4703-9a32-4b36d5656ec2\",\n",
      "            \"accessURL\": \"https://catalegdades.caib.cat/api/views/74pf-baf9/rows.rdf?accessType=DOWNLOAD\",\n",
      "            \"format\": {\n",
      "              \"_about\": \"https://datos.gob.es/catalogo/a04003003-area-prevencion-riesgos-erosion/resource/e6f0312c-4e36-4703-9a32-4b36d5656ec2/format\",\n",
      "              \"type\": \"http://purl.org/dc/terms/IMT\",\n",
      "              \"value\": \"application/rdf+xml\"\n",
      "            },\n",
      "            \"identifier\": \"https://catalegdades.caib.cat/api/views/74pf-baf9/rows.rdf?accessType=DOWNLOAD\",\n",
      "            \"title\": [\n",
      "              {\n",
      "                \"_value\": \"APR Erosi\\u00f3\",\n",
      "                \"_lang\": \"ca\"\n",
      "              },\n",
      "              {\n",
      "                \"_value\": \"Area Prevenci\\u00f3n Riesgos Erosi\\u00f3n\",\n",
      "                \"_lang\": \"es\"\n",
      "              },\n",
      "              {\n",
      "                \"_value\": \"Erosion Risk Prevention Area\",\n",
      "                \"_lang\": \"en\"\n",
      "              }\n",
      "            ],\n",
      "            \"type\": \"http://www.w3.org/ns/dcat#Distribution\"\n",
      "          }\n",
      "        ],\n",
      "        \"identifier\": \"https://catalegdades.caib.cat/d/74pf-baf9\",\n",
      "        \"issued\": \"mi\\u00e9, 13 abr 2022 22:00:00 GMT+0000\",\n",
      "        \"keyword\": [\n",
      "          {\n",
      "            \"_value\": \"erosion\",\n",
      "            \"_lang\": \"es\"\n",
      "          },\n",
      "          {\n",
      "            \"_value\": \"erosi\\u00f3\",\n",
      "            \"_lang\": \"es\"\n",
      "          },\n",
      "          {\n",
      "            \"_value\": \"erosi\\u00f3n\",\n",
      "            \"_lang\": \"es\"\n",
      "          },\n",
      "          {\n",
      "            \"_value\": \"illes balears\",\n",
      "            \"_lang\": \"es\"\n",
      "          },\n",
      "          {\n",
      "            \"_value\": \"risk prevention areas\",\n",
      "            \"_lang\": \"es\"\n",
      "          },\n",
      "          {\n",
      "            \"_value\": \"\\u00e1rea prevenci\\u00f3 riscs\",\n",
      "            \"_lang\": \"es\"\n",
      "          },\n",
      "          {\n",
      "            \"_value\": \"\\u00e1reas prevenci\\u00f3n riesgos\",\n",
      "            \"_lang\": \"es\"\n",
      "          }\n",
      "        ],\n",
      "        \"language\": [\n",
      "          \"ca\",\n",
      "          \"en\",\n",
      "          \"es\"\n",
      "        ],\n",
      "        \"license\": \"http://creativecommons.org/licenses/by/4.0/legalcode\",\n",
      "        \"modified\": \"vie, 14 jun 2024 22:00:00 GMT+0000\",\n",
      "        \"publisher\": \"http://datos.gob.es/recurso/sector-publico/org/Organismo/A04003003\",\n",
      "        \"spatial\": \"http://datos.gob.es/recurso/sector-publico/territorio/Autonomia/Illes-Balears\",\n",
      "        \"theme\": \"http://datos.gob.es/kos/sector-publico/sector/medio-ambiente\",\n",
      "        \"title\": [\n",
      "          {\n",
      "            \"_value\": \"APR Erosi\\u00f3\",\n",
      "            \"_lang\": \"ca\"\n",
      "          },\n",
      "          {\n",
      "            \"_value\": \"Area Prevenci\\u00f3n Riesgos Erosi\\u00f3n\",\n",
      "            \"_lang\": \"es\"\n",
      "          },\n",
      "          {\n",
      "            \"_value\": \"Erosion Risk Prevention Area\",\n",
      "            \"_lang\": \"en\"\n",
      "          }\n",
      "        ],\n",
      "        \"type\": \"http://www.w3.org/ns/dcat#Dataset\"\n",
      "      },\n",
      "      {\n",
      "        \"_about\": \"https://datos.gob.es/catalogo/a04003003-areas-prevencion-riesgos-desprendimientos\",\n",
      "        \"description\": [\n",
      "          {\n",
      "            \"_value\": \"Capa que delimita les \\u00e0rees de prevenci\\u00f3 de riscs d'esllavissaments d'acord amb les determinacions de la normativa territorial i urban\\u00edstica.\",\n",
      "            \"_lang\": \"ca\"\n",
      "          },\n",
      "          {\n",
      "            \"_value\": \"Landslide risk prevention areas\",\n",
      "            \"_lang\": \"en\"\n",
      "          },\n",
      "          {\n",
      "            \"_value\": \"\\u00c1reas Prevenci\\u00f3n Riesgos Desprendimientos\",\n",
      "            \"_lang\": \"es\"\n",
      "          }\n",
      "        ],\n",
      "        \"distribution\": [\n",
      "          {\n",
      "            \"_about\": \"https://datos.gob.es/catalogo/a04003003-areas-prevencion-riesgos-desprendimientos/resource/15d65cb1-d65a-483f-bb9a-662944f439ec\",\n",
      "            \"accessURL\": \"https://catalegdades.caib.cat/api/views/mr7i-5p69/rows.csv?accessType=DOWNLOAD\",\n",
      "            \"format\": {\n",
      "              \"_about\": \"https://datos.gob.es/catalogo/a04003003-areas-prevencion-riesgos-desprendimientos/resource/15d65cb1-d65a-483f-bb9a-662944f439ec/format\",\n",
      "              \"type\": \"http://purl.org/dc/terms/IMT\",\n",
      "              \"value\": \"text/csv\"\n",
      "            },\n",
      "            \"identifier\": \"https://catalegdades.caib.cat/api/views/mr7i-5p69/rows.csv?accessType=DOWNLOAD\",\n",
      "            \"title\": [\n",
      "              {\n",
      "                \"_value\": \"APR Esllevissaments\",\n",
      "                \"_lang\": \"ca\"\n",
      "              },\n",
      "              {\n",
      "                \"_value\": \"Landslide risk prevention areas\",\n",
      "                \"_lang\": \"en\"\n",
      "              },\n",
      "              {\n",
      "                \"_value\": \"\\u00c1reas Prevenci\\u00f3n Riesgos Desprendimientos\",\n",
      "                \"_lang\": \"es\"\n",
      "              }\n",
      "            ],\n",
      "            \"type\": \"http://www.w3.org/ns/dcat#Distribution\"\n",
      "          },\n",
      "          {\n",
      "            \"_about\": \"https://datos.gob.es/catalogo/a04003003-areas-prevencion-riesgos-desprendimientos/resource/3a898275-2f36-431d-b699-fc1a0f8653b2\",\n",
      "            \"accessURL\": \"https://catalegdades.caib.cat/api/views/mr7i-5p69/rows.json?accessType=DOWNLOAD\",\n",
      "            \"format\": {\n",
      "              \"_about\": \"https://datos.gob.es/catalogo/a04003003-areas-prevencion-riesgos-desprendimientos/resource/3a898275-2f36-431d-b699-fc1a0f8653b2/format\",\n",
      "              \"type\": \"http://purl.org/dc/terms/IMT\",\n",
      "              \"value\": \"application/json\"\n",
      "            },\n",
      "            \"identifier\": \"https://catalegdades.caib.cat/api/views/mr7i-5p69/rows.json?accessType=DOWNLOAD\",\n",
      "            \"title\": [\n",
      "              {\n",
      "                \"_value\": \"APR Esllevissaments\",\n",
      "                \"_lang\": \"ca\"\n",
      "              },\n",
      "              {\n",
      "                \"_value\": \"Landslide risk prevention areas\",\n",
      "                \"_lang\": \"en\"\n",
      "              },\n",
      "              {\n",
      "                \"_value\": \"\\u00c1reas Prevenci\\u00f3n Riesgos Desprendimientos\",\n",
      "                \"_lang\": \"es\"\n",
      "              }\n",
      "            ],\n",
      "            \"type\": \"http://www.w3.org/ns/dcat#Distribution\"\n",
      "          },\n",
      "          {\n",
      "            \"_about\": \"https://datos.gob.es/catalogo/a04003003-areas-prevencion-riesgos-desprendimientos/resource/3ec7c2b1-5fcb-4337-b6b0-8c7422ec91c1\",\n",
      "            \"accessURL\": \"https://catalegdades.caib.cat/api/views/mr7i-5p69/rows.rdf?accessType=DOWNLOAD\",\n",
      "            \"format\": {\n",
      "              \"_about\": \"https://datos.gob.es/catalogo/a04003003-areas-prevencion-riesgos-desprendimientos/resource/3ec7c2b1-5fcb-4337-b6b0-8c7422ec91c1/format\",\n",
      "              \"type\": \"http://purl.org/dc/terms/IMT\",\n",
      "              \"value\": \"application/rdf+xml\"\n",
      "            },\n",
      "            \"identifier\": \"https://catalegdades.caib.cat/api/views/mr7i-5p69/rows.rdf?accessType=DOWNLOAD\",\n",
      "            \"title\": [\n",
      "              {\n",
      "                \"_value\": \"APR Esllevissaments\",\n",
      "                \"_lang\": \"ca\"\n",
      "              },\n",
      "              {\n",
      "                \"_value\": \"Landslide risk prevention areas\",\n",
      "                \"_lang\": \"en\"\n",
      "              },\n",
      "              {\n",
      "                \"_value\": \"\\u00c1reas Prevenci\\u00f3n Riesgos Desprendimientos\",\n",
      "                \"_lang\": \"es\"\n",
      "              }\n",
      "            ],\n",
      "            \"type\": \"http://www.w3.org/ns/dcat#Distribution\"\n",
      "          },\n",
      "          {\n",
      "            \"_about\": \"https://datos.gob.es/catalogo/a04003003-areas-prevencion-riesgos-desprendimientos/resource/595bdd5d-bc43-4ca0-9bbd-57fcf3f31400\",\n",
      "            \"accessURL\": \"https://catalegdades.caib.cat/api/views/mr7i-5p69/rows.xml?accessType=DOWNLOAD\",\n",
      "            \"format\": {\n",
      "              \"_about\": \"https://datos.gob.es/catalogo/a04003003-areas-prevencion-riesgos-desprendimientos/resource/595bdd5d-bc43-4ca0-9bbd-57fcf3f31400/format\",\n",
      "              \"type\": \"http://purl.org/dc/terms/IMT\",\n",
      "              \"value\": \"application/xml\"\n",
      "            },\n",
      "            \"identifier\": \"https://catalegdades.caib.cat/api/views/mr7i-5p69/rows.xml?accessType=DOWNLOAD\",\n",
      "            \"title\": [\n",
      "              {\n",
      "                \"_value\": \"APR Esllevissaments\",\n",
      "                \"_lang\": \"ca\"\n",
      "              },\n",
      "              {\n",
      "                \"_value\": \"Landslide risk prevention areas\",\n",
      "                \"_lang\": \"en\"\n",
      "              },\n",
      "              {\n",
      "                \"_value\": \"\\u00c1reas Prevenci\\u00f3n Riesgos Desprendimientos\",\n",
      "                \"_lang\": \"es\"\n",
      "              }\n",
      "            ],\n",
      "            \"type\": \"http://www.w3.org/ns/dcat#Distribution\"\n",
      "          }\n",
      "        ],\n",
      "        \"identifier\": \"https://catalegdades.caib.cat/d/mr7i-5p69\",\n",
      "        \"issued\": \"mi\\u00e9, 13 abr 2022 22:00:00 GMT+0000\",\n",
      "        \"keyword\": [\n",
      "          {\n",
      "            \"_value\": \"desprendimientos\",\n",
      "            \"_lang\": \"es\"\n",
      "          },\n",
      "          {\n",
      "            \"_value\": \"esllevissaments\",\n",
      "            \"_lang\": \"es\"\n",
      "          },\n",
      "          {\n",
      "            \"_value\": \"illes balears\",\n",
      "            \"_lang\": \"es\"\n",
      "          },\n",
      "          {\n",
      "            \"_value\": \"landslide\",\n",
      "            \"_lang\": \"es\"\n",
      "          },\n",
      "          {\n",
      "            \"_value\": \"risk prevention areas\",\n",
      "            \"_lang\": \"es\"\n",
      "          },\n",
      "          {\n",
      "            \"_value\": \"\\u00e1rea prevenci\\u00f3 riscs\",\n",
      "            \"_lang\": \"es\"\n",
      "          },\n",
      "          {\n",
      "            \"_value\": \"\\u00e1reas prevenci\\u00f3n riesgos\",\n",
      "            \"_lang\": \"es\"\n",
      "          }\n",
      "        ],\n",
      "        \"language\": [\n",
      "          \"ca\",\n",
      "          \"en\",\n",
      "          \"es\"\n",
      "        ],\n",
      "        \"license\": \"http://creativecommons.org/licenses/by/4.0/legalcode\",\n",
      "        \"modified\": \"vie, 14 jun 2024 22:00:00 GMT+0000\",\n",
      "        \"publisher\": \"http://datos.gob.es/recurso/sector-publico/org/Organismo/A04003003\",\n",
      "        \"spatial\": \"http://datos.gob.es/recurso/sector-publico/territorio/Autonomia/Illes-Balears\",\n",
      "        \"theme\": \"http://datos.gob.es/kos/sector-publico/sector/medio-ambiente\",\n",
      "        \"title\": [\n",
      "          {\n",
      "            \"_value\": \"APR Esllevissaments\",\n",
      "            \"_lang\": \"ca\"\n",
      "          },\n",
      "          {\n",
      "            \"_value\": \"Landslide risk prevention areas\",\n",
      "            \"_lang\": \"en\"\n",
      "          },\n",
      "          {\n",
      "            \"_value\": \"\\u00c1reas Prevenci\\u00f3n Riesgos Desprendimientos\",\n",
      "            \"_lang\": \"es\"\n",
      "          }\n",
      "        ],\n",
      "        \"type\": \"http://www.w3.org/ns/dcat#Dataset\"\n",
      "      },\n",
      "      {\n",
      "        \"_about\": \"https://datos.gob.es/catalogo/a04003003-area-prevencion-riesgos-inundaciones\",\n",
      "        \"description\": [\n",
      "          {\n",
      "            \"_value\": \"Area Prevenci\\u00f3n Riesgos Inundaciones\",\n",
      "            \"_lang\": \"es\"\n",
      "          },\n",
      "          {\n",
      "            \"_value\": \"Capa que delimita les \\u00e0rees de prevenci\\u00f3 de riscs d'inundaci\\u00f3 d'acord amb les determinacions de la normativa territorial i urban\\u00edstica.\",\n",
      "            \"_lang\": \"ca\"\n",
      "          },\n",
      "          {\n",
      "            \"_value\": \"Flood Risk Prevention Area\",\n",
      "            \"_lang\": \"en\"\n",
      "          }\n",
      "        ],\n",
      "        \"distribution\": [\n",
      "          {\n",
      "            \"_about\": \"https://datos.gob.es/catalogo/a04003003-area-prevencion-riesgos-inundaciones/resource/43c55844-1538-4696-9367-29d6384abde3\",\n",
      "            \"accessURL\": \"https://catalegdades.caib.cat/api/views/ngdb-fd8p/rows.csv?accessType=DOWNLOAD\",\n",
      "            \"format\": {\n",
      "              \"_about\": \"https://datos.gob.es/catalogo/a04003003-area-prevencion-riesgos-inundaciones/resource/43c55844-1538-4696-9367-29d6384abde3/format\",\n",
      "              \"type\": \"http://purl.org/dc/terms/IMT\",\n",
      "              \"value\": \"text/csv\"\n",
      "            },\n",
      "            \"identifier\": \"https://catalegdades.caib.cat/api/views/ngdb-fd8p/rows.csv?accessType=DOWNLOAD\",\n",
      "            \"title\": [\n",
      "              {\n",
      "                \"_value\": \"APR Inundaci\\u00f3\",\n",
      "                \"_lang\": \"ca\"\n",
      "              },\n",
      "              {\n",
      "                \"_value\": \"Area Prevenci\\u00f3n Riesgos Inundaciones\",\n",
      "                \"_lang\": \"es\"\n",
      "              },\n",
      "              {\n",
      "                \"_value\": \"Flood Risk Prevention Area\",\n",
      "                \"_lang\": \"en\"\n",
      "              }\n",
      "            ],\n",
      "            \"type\": \"http://www.w3.org/ns/dcat#Distribution\"\n",
      "          },\n",
      "          {\n",
      "            \"_about\": \"https://datos.gob.es/catalogo/a04003003-area-prevencion-riesgos-inundaciones/resource/83951dd8-da20-4583-a38f-d5361bb1f2d5\",\n",
      "            \"accessURL\": \"https://catalegdades.caib.cat/api/views/ngdb-fd8p/rows.json?accessType=DOWNLOAD\",\n",
      "            \"format\": {\n",
      "              \"_about\": \"https://datos.gob.es/catalogo/a04003003-area-prevencion-riesgos-inundaciones/resource/83951dd8-da20-4583-a38f-d5361bb1f2d5/format\",\n",
      "              \"type\": \"http://purl.org/dc/terms/IMT\",\n",
      "              \"value\": \"application/json\"\n",
      "            },\n",
      "            \"identifier\": \"https://catalegdades.caib.cat/api/views/ngdb-fd8p/rows.json?accessType=DOWNLOAD\",\n",
      "            \"title\": [\n",
      "              {\n",
      "                \"_value\": \"APR Inundaci\\u00f3\",\n",
      "                \"_lang\": \"ca\"\n",
      "              },\n",
      "              {\n",
      "                \"_value\": \"Area Prevenci\\u00f3n Riesgos Inundaciones\",\n",
      "                \"_lang\": \"es\"\n",
      "              },\n",
      "              {\n",
      "                \"_value\": \"Flood Risk Prevention Area\",\n",
      "                \"_lang\": \"en\"\n",
      "              }\n",
      "            ],\n",
      "            \"type\": \"http://www.w3.org/ns/dcat#Distribution\"\n",
      "          },\n",
      "          {\n",
      "            \"_about\": \"https://datos.gob.es/catalogo/a04003003-area-prevencion-riesgos-inundaciones/resource/8f39b1f8-07a4-4274-8606-ebddbf6c2418\",\n",
      "            \"accessURL\": \"https://catalegdades.caib.cat/api/views/ngdb-fd8p/rows.xml?accessType=DOWNLOAD\",\n",
      "            \"format\": {\n",
      "              \"_about\": \"https://datos.gob.es/catalogo/a04003003-area-prevencion-riesgos-inundaciones/resource/8f39b1f8-07a4-4274-8606-ebddbf6c2418/format\",\n",
      "              \"type\": \"http://purl.org/dc/terms/IMT\",\n",
      "              \"value\": \"application/xml\"\n",
      "            },\n",
      "            \"identifier\": \"https://catalegdades.caib.cat/api/views/ngdb-fd8p/rows.xml?accessType=DOWNLOAD\",\n",
      "            \"title\": [\n",
      "              {\n",
      "                \"_value\": \"APR Inundaci\\u00f3\",\n",
      "                \"_lang\": \"ca\"\n",
      "              },\n",
      "              {\n",
      "                \"_value\": \"Area Prevenci\\u00f3n Riesgos Inundaciones\",\n",
      "                \"_lang\": \"es\"\n",
      "              },\n",
      "              {\n",
      "                \"_value\": \"Flood Risk Prevention Area\",\n",
      "                \"_lang\": \"en\"\n",
      "              }\n",
      "            ],\n",
      "            \"type\": \"http://www.w3.org/ns/dcat#Distribution\"\n",
      "          },\n",
      "          {\n",
      "            \"_about\": \"https://datos.gob.es/catalogo/a04003003-area-prevencion-riesgos-inundaciones/resource/f2054054-40a4-49c3-ad0d-48e53c81b1ae\",\n",
      "            \"accessURL\": \"https://catalegdades.caib.cat/api/views/ngdb-fd8p/rows.rdf?accessType=DOWNLOAD\",\n",
      "            \"format\": {\n",
      "              \"_about\": \"https://datos.gob.es/catalogo/a04003003-area-prevencion-riesgos-inundaciones/resource/f2054054-40a4-49c3-ad0d-48e53c81b1ae/format\",\n",
      "              \"type\": \"http://purl.org/dc/terms/IMT\",\n",
      "              \"value\": \"application/rdf+xml\"\n",
      "            },\n",
      "            \"identifier\": \"https://catalegdades.caib.cat/api/views/ngdb-fd8p/rows.rdf?accessType=DOWNLOAD\",\n",
      "            \"title\": [\n",
      "              {\n",
      "                \"_value\": \"APR Inundaci\\u00f3\",\n",
      "                \"_lang\": \"ca\"\n",
      "              },\n",
      "              {\n",
      "                \"_value\": \"Area Prevenci\\u00f3n Riesgos Inundaciones\",\n",
      "                \"_lang\": \"es\"\n",
      "              },\n",
      "              {\n",
      "                \"_value\": \"Flood Risk Prevention Area\",\n",
      "                \"_lang\": \"en\"\n",
      "              }\n",
      "            ],\n",
      "            \"type\": \"http://www.w3.org/ns/dcat#Distribution\"\n",
      "          }\n",
      "        ],\n",
      "        \"identifier\": \"https://catalegdades.caib.cat/d/ngdb-fd8p\",\n",
      "        \"issued\": \"mi\\u00e9, 13 abr 2022 22:00:00 GMT+0000\",\n",
      "        \"keyword\": [\n",
      "          {\n",
      "            \"_value\": \"flood\",\n",
      "            \"_lang\": \"es\"\n",
      "          },\n",
      "          {\n",
      "            \"_value\": \"illes balears\",\n",
      "            \"_lang\": \"es\"\n",
      "          },\n",
      "          {\n",
      "            \"_value\": \"inundaci\\u00f3\",\n",
      "            \"_lang\": \"es\"\n",
      "          },\n",
      "          {\n",
      "            \"_value\": \"inundaci\\u00f3n\",\n",
      "            \"_lang\": \"es\"\n",
      "          },\n",
      "          {\n",
      "            \"_value\": \"risk prevention areas\",\n",
      "            \"_lang\": \"es\"\n",
      "          },\n",
      "          {\n",
      "            \"_value\": \"\\u00e1rea prevenci\\u00f3 riscs\",\n",
      "            \"_lang\": \"es\"\n",
      "          },\n",
      "          {\n",
      "            \"_value\": \"\\u00e1reas prevenci\\u00f3n riesgos\",\n",
      "            \"_lang\": \"es\"\n",
      "          }\n",
      "        ],\n",
      "        \"language\": [\n",
      "          \"ca\",\n",
      "          \"en\",\n",
      "          \"es\"\n",
      "        ],\n",
      "        \"license\": \"http://creativecommons.org/licenses/by/4.0/legalcode\",\n",
      "        \"modified\": \"vie, 14 jun 2024 22:00:00 GMT+0000\",\n",
      "        \"publisher\": \"http://datos.gob.es/recurso/sector-publico/org/Organismo/A04003003\",\n",
      "        \"spatial\": \"http://datos.gob.es/recurso/sector-publico/territorio/Autonomia/Illes-Balears\",\n",
      "        \"theme\": \"http://datos.gob.es/kos/sector-publico/sector/medio-ambiente\",\n",
      "        \"title\": [\n",
      "          {\n",
      "            \"_value\": \"APR Inundaci\\u00f3\",\n",
      "            \"_lang\": \"ca\"\n",
      "          },\n",
      "          {\n",
      "            \"_value\": \"Area Prevenci\\u00f3n Riesgos Inundaciones\",\n",
      "            \"_lang\": \"es\"\n",
      "          },\n",
      "          {\n",
      "            \"_value\": \"Flood Risk Prevention Area\",\n",
      "            \"_lang\": \"en\"\n",
      "          }\n",
      "        ],\n",
      "        \"type\": \"http://www.w3.org/ns/dcat#Dataset\"\n",
      "      },\n",
      "      {\n",
      "        \"_about\": \"https://datos.gob.es/catalogo/a04003003-apt\",\n",
      "        \"description\": [\n",
      "          {\n",
      "            \"_value\": \"APT\",\n",
      "            \"_lang\": \"en\"\n",
      "          },\n",
      "          {\n",
      "            \"_value\": \"APT\",\n",
      "            \"_lang\": \"es\"\n",
      "          },\n",
      "          {\n",
      "            \"_value\": \"Capa que delimita les \\u00e0rees de protecci\\u00f3 territorial d'acord amb les determinacions de la normativa territorial i urban\\u00edstica\",\n",
      "            \"_lang\": \"ca\"\n",
      "          }\n",
      "        ],\n",
      "        \"distribution\": [\n",
      "          {\n",
      "            \"_about\": \"https://datos.gob.es/catalogo/a04003003-apt/resource/00c270c1-9d0f-47c0-9b52-c483a3ae7acf\",\n",
      "            \"accessURL\": \"https://catalegdades.caib.cat/api/views/nsmi-29dr/rows.json?accessType=DOWNLOAD\",\n",
      "            \"format\": {\n",
      "              \"_about\": \"https://datos.gob.es/catalogo/a04003003-apt/resource/00c270c1-9d0f-47c0-9b52-c483a3ae7acf/format\",\n",
      "              \"type\": \"http://purl.org/dc/terms/IMT\",\n",
      "              \"value\": \"application/json\"\n",
      "            },\n",
      "            \"identifier\": \"https://catalegdades.caib.cat/api/views/nsmi-29dr/rows.json?accessType=DOWNLOAD\",\n",
      "            \"title\": [\n",
      "              {\n",
      "                \"_value\": \"APT\",\n",
      "                \"_lang\": \"ca\"\n",
      "              },\n",
      "              {\n",
      "                \"_value\": \"APT\",\n",
      "                \"_lang\": \"en\"\n",
      "              },\n",
      "              {\n",
      "                \"_value\": \"APT\",\n",
      "                \"_lang\": \"es\"\n",
      "              }\n",
      "            ],\n",
      "            \"type\": \"http://www.w3.org/ns/dcat#Distribution\"\n",
      "          },\n",
      "          {\n",
      "            \"_about\": \"https://datos.gob.es/catalogo/a04003003-apt/resource/1cbfba66-4f77-4bfc-b436-bafcc229a9d0\",\n",
      "            \"accessURL\": \"https://catalegdades.caib.cat/api/views/nsmi-29dr/rows.xml?accessType=DOWNLOAD\",\n",
      "            \"format\": {\n",
      "              \"_about\": \"https://datos.gob.es/catalogo/a04003003-apt/resource/1cbfba66-4f77-4bfc-b436-bafcc229a9d0/format\",\n",
      "              \"type\": \"http://purl.org/dc/terms/IMT\",\n",
      "              \"value\": \"application/xml\"\n",
      "            },\n",
      "            \"identifier\": \"https://catalegdades.caib.cat/api/views/nsmi-29dr/rows.xml?accessType=DOWNLOAD\",\n",
      "            \"title\": [\n",
      "              {\n",
      "                \"_value\": \"APT\",\n",
      "                \"_lang\": \"ca\"\n",
      "              },\n",
      "              {\n",
      "                \"_value\": \"APT\",\n",
      "                \"_lang\": \"en\"\n",
      "              },\n",
      "              {\n",
      "                \"_value\": \"APT\",\n",
      "                \"_lang\": \"es\"\n",
      "              }\n",
      "            ],\n",
      "            \"type\": \"http://www.w3.org/ns/dcat#Distribution\"\n",
      "          },\n",
      "          {\n",
      "            \"_about\": \"https://datos.gob.es/catalogo/a04003003-apt/resource/bb1b3a68-6b21-4681-b80d-5bbb43c90cff\",\n",
      "            \"accessURL\": \"https://catalegdades.caib.cat/api/views/nsmi-29dr/rows.rdf?accessType=DOWNLOAD\",\n",
      "            \"format\": {\n",
      "              \"_about\": \"https://datos.gob.es/catalogo/a04003003-apt/resource/bb1b3a68-6b21-4681-b80d-5bbb43c90cff/format\",\n",
      "              \"type\": \"http://purl.org/dc/terms/IMT\",\n",
      "              \"value\": \"application/rdf+xml\"\n",
      "            },\n",
      "            \"identifier\": \"https://catalegdades.caib.cat/api/views/nsmi-29dr/rows.rdf?accessType=DOWNLOAD\",\n",
      "            \"title\": [\n",
      "              {\n",
      "                \"_value\": \"APT\",\n",
      "                \"_lang\": \"ca\"\n",
      "              },\n",
      "              {\n",
      "                \"_value\": \"APT\",\n",
      "                \"_lang\": \"en\"\n",
      "              },\n",
      "              {\n",
      "                \"_value\": \"APT\",\n",
      "                \"_lang\": \"es\"\n",
      "              }\n",
      "            ],\n",
      "            \"type\": \"http://www.w3.org/ns/dcat#Distribution\"\n",
      "          },\n",
      "          {\n",
      "            \"_about\": \"https://datos.gob.es/catalogo/a04003003-apt/resource/d9b07d28-bb6e-4755-8cea-1faf1f7a482d\",\n",
      "            \"accessURL\": \"https://catalegdades.caib.cat/api/views/nsmi-29dr/rows.csv?accessType=DOWNLOAD\",\n",
      "            \"format\": {\n",
      "              \"_about\": \"https://datos.gob.es/catalogo/a04003003-apt/resource/d9b07d28-bb6e-4755-8cea-1faf1f7a482d/format\",\n",
      "              \"type\": \"http://purl.org/dc/terms/IMT\",\n",
      "              \"value\": \"text/csv\"\n",
      "            },\n",
      "            \"identifier\": \"https://catalegdades.caib.cat/api/views/nsmi-29dr/rows.csv?accessType=DOWNLOAD\",\n",
      "            \"title\": [\n",
      "              {\n",
      "                \"_value\": \"APT\",\n",
      "                \"_lang\": \"ca\"\n",
      "              },\n",
      "              {\n",
      "                \"_value\": \"APT\",\n",
      "                \"_lang\": \"en\"\n",
      "              },\n",
      "              {\n",
      "                \"_value\": \"APT\",\n",
      "                \"_lang\": \"es\"\n",
      "              }\n",
      "            ],\n",
      "            \"type\": \"http://www.w3.org/ns/dcat#Distribution\"\n",
      "          }\n",
      "        ],\n",
      "        \"identifier\": \"https://catalegdades.caib.cat/d/nsmi-29dr\",\n",
      "        \"issued\": \"mi\\u00e9, 13 abr 2022 22:00:00 GMT+0000\",\n",
      "        \"language\": [\n",
      "          \"ca\",\n",
      "          \"en\",\n",
      "          \"es\"\n",
      "        ],\n",
      "        \"license\": \"http://creativecommons.org/licenses/by/4.0/legalcode\",\n",
      "        \"modified\": \"vie, 14 jun 2024 22:00:00 GMT+0000\",\n",
      "        \"publisher\": \"http://datos.gob.es/recurso/sector-publico/org/Organismo/A04003003\",\n",
      "        \"spatial\": \"http://datos.gob.es/recurso/sector-publico/territorio/Autonomia/Illes-Balears\",\n",
      "        \"theme\": \"http://datos.gob.es/kos/sector-publico/sector/urbanismo-infraestructuras\",\n",
      "        \"title\": [\n",
      "          {\n",
      "            \"_value\": \"APT\",\n",
      "            \"_lang\": \"en\"\n",
      "          },\n",
      "          {\n",
      "            \"_value\": \"APT\",\n",
      "            \"_lang\": \"es\"\n",
      "          },\n",
      "          {\n",
      "            \"_value\": \"APT\",\n",
      "            \"_lang\": \"ca\"\n",
      "          }\n",
      "        ],\n",
      "        \"type\": \"http://www.w3.org/ns/dcat#Dataset\"\n",
      "      },\n",
      "      {\n",
      "        \"_about\": \"https://datos.gob.es/catalogo/a04003003-arpsi-avinguda-10-anys\",\n",
      "        \"description\": [\n",
      "          {\n",
      "            \"_value\": \"<DIV STYLE=\\\"text-align:Left;font-size:12pt\\\"><P><SPAN>Avinguda 10 anys de la delimitaci\\u00f3 gr\\u00e0fica de la superf\\u00edcie negada per les aig\\u00fces per l'ocurr\\u00e8ncia d'avingudes amb per\\u00edodes de retorn de 10, 100 i 500 anys, valors que s'han convingut com a refer\\u00e8ncia per als esdeveniments d'alta, mitja i baixa probabilitat, respectivament (en aplicaci\\u00f3 de l'article 8.1 del Reial Decret 903/2010). Aquesta informaci\\u00f3, acompanyada de l'estimaci\\u00f3 de les variables que caracteritzen l'efecte potencial advers de les crescudes, permet establir el grau d'exposici\\u00f3 al fen\\u00f2men de les diferents parts del territori.Aquest CDE est\\u00e0 format perles zones d'avinguda i els calats per avinguda. Els 11 trams ARPSI s\\u00f3n dels torrents de Na B\\u00e0rbara (Palma), Gros (Palma), Coanegre (Palma/Marratx\\u00ed), Campos, Es Riuet (Manacor/Sant Lloren\\u00e7 des Cardassar), ses Planes (Sant Lloren\\u00e7 des Cardassar), Vall den Marc/Sant Jordi (Pollen\\u00e7a), Major de S\\u00f3ller, Peguera (Calvi\\u00e0), Santa Pon\\u00e7a (Calvi\\u00e0) i Llavanera (Eivissa/Santa Eul\\u00e0ria del Riu).</SPAN></P></DIV>\",\n",
      "            \"_lang\": \"es\"\n",
      "          },\n",
      "          {\n",
      "            \"_value\": \"<DIV STYLE=\\\"text-align:Left;font-size:12pt\\\"><P><SPAN>Avinguda 10 anys de la delimitaci\\u00f3 gr\\u00e0fica de la superf\\u00edcie negada per les aig\\u00fces per l'ocurr\\u00e8ncia d'avingudes amb per\\u00edodes de retorn de 10, 100 i 500 anys, valors que s'han convingut com a refer\\u00e8ncia per als esdeveniments d'alta, mitja i baixa probabilitat, respectivament (en aplicaci\\u00f3 de l'article 8.1 del Reial Decret 903/2010). Aquesta informaci\\u00f3, acompanyada de l'estimaci\\u00f3 de les variables que caracteritzen l'efecte potencial advers de les crescudes, permet establir el grau d'exposici\\u00f3 al fen\\u00f2men de les diferents parts del territori.Aquest CDE est\\u00e0 format perles zones d'avinguda i els calats per avinguda. Els 11 trams ARPSI s\\u00f3n dels torrents de Na B\\u00e0rbara (Palma), Gros (Palma), Coanegre (Palma/Marratx\\u00ed), Campos, Es Riuet (Manacor/Sant Lloren\\u00e7 des Cardassar), ses Planes (Sant Lloren\\u00e7 des Cardassar), Vall den Marc/Sant Jordi (Pollen\\u00e7a), Major de S\\u00f3ller, Peguera (Calvi\\u00e0), Santa Pon\\u00e7a (Calvi\\u00e0) i Llavanera (Eivissa/Santa Eul\\u00e0ria del Riu).</SPAN></P></DIV>\",\n",
      "            \"_lang\": \"ca\"\n",
      "          },\n",
      "          {\n",
      "            \"_value\": \"<DIV STYLE=\\\"text-align:Left;font-size:12pt\\\"><P><SPAN>Avinguda 10 anys de la delimitaci\\u00f3 gr\\u00e0fica de la superf\\u00edcie negada per les aig\\u00fces per l'ocurr\\u00e8ncia d'avingudes amb per\\u00edodes de retorn de 10, 100 i 500 anys, valors que s'han convingut com a refer\\u00e8ncia per als esdeveniments d'alta, mitja i baixa probabilitat, respectivament (en aplicaci\\u00f3 de l'article 8.1 del Reial Decret 903/2010). Aquesta informaci\\u00f3, acompanyada de l'estimaci\\u00f3 de les variables que caracteritzen l'efecte potencial advers de les crescudes, permet establir el grau d'exposici\\u00f3 al fen\\u00f2men de les diferents parts del territori.Aquest CDE est\\u00e0 format perles zones d'avinguda i els calats per avinguda. Els 11 trams ARPSI s\\u00f3n dels torrents de Na B\\u00e0rbara (Palma), Gros (Palma), Coanegre (Palma/Marratx\\u00ed), Campos, Es Riuet (Manacor/Sant Lloren\\u00e7 des Cardassar), ses Planes (Sant Lloren\\u00e7 des Cardassar), Vall den Marc/Sant Jordi (Pollen\\u00e7a), Major de S\\u00f3ller, Peguera (Calvi\\u00e0), Santa Pon\\u00e7a (Calvi\\u00e0) i Llavanera (Eivissa/Santa Eul\\u00e0ria del Riu).</SPAN></P></DIV>\",\n",
      "            \"_lang\": \"en\"\n",
      "          }\n",
      "        ],\n",
      "        \"distribution\": [\n",
      "          {\n",
      "            \"_about\": \"https://datos.gob.es/catalogo/a04003003-arpsi-avinguda-10-anys/resource/22f7444e-a107-4a88-8d4a-999ba253b4e1\",\n",
      "            \"accessURL\": \"https://catalegdades.caib.cat/api/views/8zk4-j2w5/rows.xml?accessType=DOWNLOAD\",\n",
      "            \"format\": {\n",
      "              \"_about\": \"https://datos.gob.es/catalogo/a04003003-arpsi-avinguda-10-anys/resource/22f7444e-a107-4a88-8d4a-999ba253b4e1/format\",\n",
      "              \"type\": \"http://purl.org/dc/terms/IMT\",\n",
      "              \"value\": \"application/xml\"\n",
      "            },\n",
      "            \"identifier\": \"https://catalegdades.caib.cat/api/views/8zk4-j2w5/rows.xml?accessType=DOWNLOAD\",\n",
      "            \"title\": [\n",
      "              {\n",
      "                \"_value\": \"ARPSI Avinguda 10 anys\",\n",
      "                \"_lang\": \"en\"\n",
      "              },\n",
      "              {\n",
      "                \"_value\": \"ARPSI Avinguda 10 anys\",\n",
      "                \"_lang\": \"es\"\n",
      "              },\n",
      "              {\n",
      "                \"_value\": \"ARPSI Avinguda 10 anys\",\n",
      "                \"_lang\": \"ca\"\n",
      "              }\n",
      "            ],\n",
      "            \"type\": \"http://www.w3.org/ns/dcat#Distribution\"\n",
      "          },\n",
      "          {\n",
      "            \"_about\": \"https://datos.gob.es/catalogo/a04003003-arpsi-avinguda-10-anys/resource/523cffcb-851f-4bce-bab0-82f15aaeb9a3\",\n",
      "            \"accessURL\": \"https://catalegdades.caib.cat/api/views/8zk4-j2w5/rows.csv?accessType=DOWNLOAD\",\n",
      "            \"format\": {\n",
      "              \"_about\": \"https://datos.gob.es/catalogo/a04003003-arpsi-avinguda-10-anys/resource/523cffcb-851f-4bce-bab0-82f15aaeb9a3/format\",\n",
      "              \"type\": \"http://purl.org/dc/terms/IMT\",\n",
      "              \"value\": \"text/csv\"\n",
      "            },\n",
      "            \"identifier\": \"https://catalegdades.caib.cat/api/views/8zk4-j2w5/rows.csv?accessType=DOWNLOAD\",\n",
      "            \"title\": [\n",
      "              {\n",
      "                \"_value\": \"ARPSI Avinguda 10 anys\",\n",
      "                \"_lang\": \"en\"\n",
      "              },\n",
      "              {\n",
      "                \"_value\": \"ARPSI Avinguda 10 anys\",\n",
      "                \"_lang\": \"es\"\n",
      "              },\n",
      "              {\n",
      "                \"_value\": \"ARPSI Avinguda 10 anys\",\n",
      "                \"_lang\": \"ca\"\n",
      "              }\n",
      "            ],\n",
      "            \"type\": \"http://www.w3.org/ns/dcat#Distribution\"\n",
      "          },\n",
      "          {\n",
      "            \"_about\": \"https://datos.gob.es/catalogo/a04003003-arpsi-avinguda-10-anys/resource/6bea5f58-6201-4998-93ec-84b99e3f5cde\",\n",
      "            \"accessURL\": \"https://catalegdades.caib.cat/api/views/8zk4-j2w5/rows.json?accessType=DOWNLOAD\",\n",
      "            \"format\": {\n",
      "              \"_about\": \"https://datos.gob.es/catalogo/a04003003-arpsi-avinguda-10-anys/resource/6bea5f58-6201-4998-93ec-84b99e3f5cde/format\",\n",
      "              \"type\": \"http://purl.org/dc/terms/IMT\",\n",
      "              \"value\": \"application/json\"\n",
      "            },\n",
      "            \"identifier\": \"https://catalegdades.caib.cat/api/views/8zk4-j2w5/rows.json?accessType=DOWNLOAD\",\n",
      "            \"title\": [\n",
      "              {\n",
      "                \"_value\": \"ARPSI Avinguda 10 anys\",\n",
      "                \"_lang\": \"en\"\n",
      "              },\n",
      "              {\n",
      "                \"_value\": \"ARPSI Avinguda 10 anys\",\n",
      "                \"_lang\": \"es\"\n",
      "              },\n",
      "              {\n",
      "                \"_value\": \"ARPSI Avinguda 10 anys\",\n",
      "                \"_lang\": \"ca\"\n",
      "              }\n",
      "            ],\n",
      "            \"type\": \"http://www.w3.org/ns/dcat#Distribution\"\n",
      "          },\n",
      "          {\n",
      "            \"_about\": \"https://datos.gob.es/catalogo/a04003003-arpsi-avinguda-10-anys/resource/d93a3474-ea8e-4958-a078-c5899ba72c99\",\n",
      "            \"accessURL\": \"https://catalegdades.caib.cat/api/views/8zk4-j2w5/rows.rdf?accessType=DOWNLOAD\",\n",
      "            \"format\": {\n",
      "              \"_about\": \"https://datos.gob.es/catalogo/a04003003-arpsi-avinguda-10-anys/resource/d93a3474-ea8e-4958-a078-c5899ba72c99/format\",\n",
      "              \"type\": \"http://purl.org/dc/terms/IMT\",\n",
      "              \"value\": \"application/rdf+xml\"\n",
      "            },\n",
      "            \"identifier\": \"https://catalegdades.caib.cat/api/views/8zk4-j2w5/rows.rdf?accessType=DOWNLOAD\",\n",
      "            \"title\": [\n",
      "              {\n",
      "                \"_value\": \"ARPSI Avinguda 10 anys\",\n",
      "                \"_lang\": \"en\"\n",
      "              },\n",
      "              {\n",
      "                \"_value\": \"ARPSI Avinguda 10 anys\",\n",
      "                \"_lang\": \"es\"\n",
      "              },\n",
      "              {\n",
      "                \"_value\": \"ARPSI Avinguda 10 anys\",\n",
      "                \"_lang\": \"ca\"\n",
      "              }\n",
      "            ],\n",
      "            \"type\": \"http://www.w3.org/ns/dcat#Distribution\"\n",
      "          }\n",
      "        ],\n",
      "        \"identifier\": \"https://catalegdades.caib.cat/d/8zk4-j2w5\",\n",
      "        \"issued\": \"mar, 27 jun 2023 22:00:00 GMT+0000\",\n",
      "        \"keyword\": [\n",
      "          {\n",
      "            \"_value\": \"illes balears\",\n",
      "            \"_lang\": \"es\"\n",
      "          },\n",
      "          {\n",
      "            \"_value\": \"recursos h\\u00eddrics\",\n",
      "            \"_lang\": \"es\"\n",
      "          }\n",
      "        ],\n",
      "        \"language\": [\n",
      "          \"ca\",\n",
      "          \"en\",\n",
      "          \"es\"\n",
      "        ],\n",
      "        \"license\": \"http://creativecommons.org/licenses/by/4.0/legalcode\",\n",
      "        \"modified\": \"mar, 27 jun 2023 22:00:00 GMT+0000\",\n",
      "        \"publisher\": \"http://datos.gob.es/recurso/sector-publico/org/Organismo/A04003003\",\n",
      "        \"spatial\": \"http://datos.gob.es/recurso/sector-publico/territorio/Autonomia/Illes-Balears\",\n",
      "        \"theme\": \"http://datos.gob.es/kos/sector-publico/sector/medio-ambiente\",\n",
      "        \"title\": [\n",
      "          {\n",
      "            \"_value\": \"ARPSI Avinguda 10 anys\",\n",
      "            \"_lang\": \"ca\"\n",
      "          },\n",
      "          {\n",
      "            \"_value\": \"ARPSI Avinguda 10 anys\",\n",
      "            \"_lang\": \"en\"\n",
      "          },\n",
      "          {\n",
      "            \"_value\": \"ARPSI Avinguda 10 anys\",\n",
      "            \"_lang\": \"es\"\n",
      "          }\n",
      "        ],\n",
      "        \"type\": \"http://www.w3.org/ns/dcat#Dataset\"\n",
      "      },\n",
      "      {\n",
      "        \"_about\": \"https://datos.gob.es/catalogo/a04003003-arpsi-avinguda-100-anys\",\n",
      "        \"description\": [\n",
      "          {\n",
      "            \"_value\": \"<DIV STYLE=\\\"text-align:Left;font-size:12pt\\\"><P><SPAN>Avinguda 100 anys de la delimitaci\\u00f3 gr\\u00e0fica de la superf\\u00edcie negada per les aig\\u00fces per l'ocurr\\u00e8ncia d'avingudes amb per\\u00edodes de retorn de 10, 100 i 500 anys, valors que s'han convingut com a refer\\u00e8ncia per als esdeveniments d'alta, mitja i baixa probabilitat, respectivament (en aplicaci\\u00f3 de l'article 8.1 del Reial Decret 903/2010). Aquesta informaci\\u00f3, acompanyada de l'estimaci\\u00f3 de les variables que caracteritzen l'efecte potencial advers de les crescudes, permet establir el grau d'exposici\\u00f3 al fen\\u00f2men de les diferents parts del territori.Aquest CDE est\\u00e0 format perles zones d'avinguda i els calats per avinguda. Els 11 trams ARPSI s\\u00f3n dels torrents de Na B\\u00e0rbara (Palma), Gros (Palma), Coanegre (Palma/Marratx\\u00ed), Campos, Es Riuet (Manacor/Sant Lloren\\u00e7 des Cardassar), ses Planes (Sant Lloren\\u00e7 des Cardassar), Vall den Marc/Sant Jordi (Pollen\\u00e7a), Major de S\\u00f3ller, Peguera (Calvi\\u00e0), Santa Pon\\u00e7a (Calvi\\u00e0) i Llavanera (Eivissa/Santa Eul\\u00e0ria del Riu).</SPAN></P></DIV>\",\n",
      "            \"_lang\": \"ca\"\n",
      "          },\n",
      "          {\n",
      "            \"_value\": \"<DIV STYLE=\\\"text-align:Left;font-size:12pt\\\"><P><SPAN>Avinguda 100 anys de la delimitaci\\u00f3 gr\\u00e0fica de la superf\\u00edcie negada per les aig\\u00fces per l'ocurr\\u00e8ncia d'avingudes amb per\\u00edodes de retorn de 10, 100 i 500 anys, valors que s'han convingut com a refer\\u00e8ncia per als esdeveniments d'alta, mitja i baixa probabilitat, respectivament (en aplicaci\\u00f3 de l'article 8.1 del Reial Decret 903/2010). Aquesta informaci\\u00f3, acompanyada de l'estimaci\\u00f3 de les variables que caracteritzen l'efecte potencial advers de les crescudes, permet establir el grau d'exposici\\u00f3 al fen\\u00f2men de les diferents parts del territori.Aquest CDE est\\u00e0 format perles zones d'avinguda i els calats per avinguda. Els 11 trams ARPSI s\\u00f3n dels torrents de Na B\\u00e0rbara (Palma), Gros (Palma), Coanegre (Palma/Marratx\\u00ed), Campos, Es Riuet (Manacor/Sant Lloren\\u00e7 des Cardassar), ses Planes (Sant Lloren\\u00e7 des Cardassar), Vall den Marc/Sant Jordi (Pollen\\u00e7a), Major de S\\u00f3ller, Peguera (Calvi\\u00e0), Santa Pon\\u00e7a (Calvi\\u00e0) i Llavanera (Eivissa/Santa Eul\\u00e0ria del Riu).</SPAN></P></DIV>\",\n",
      "            \"_lang\": \"en\"\n",
      "          },\n",
      "          {\n",
      "            \"_value\": \"<DIV STYLE=\\\"text-align:Left;font-size:12pt\\\"><P><SPAN>Avinguda 100 anys de la delimitaci\\u00f3 gr\\u00e0fica de la superf\\u00edcie negada per les aig\\u00fces per l'ocurr\\u00e8ncia d'avingudes amb per\\u00edodes de retorn de 10, 100 i 500 anys, valors que s'han convingut com a refer\\u00e8ncia per als esdeveniments d'alta, mitja i baixa probabilitat, respectivament (en aplicaci\\u00f3 de l'article 8.1 del Reial Decret 903/2010). Aquesta informaci\\u00f3, acompanyada de l'estimaci\\u00f3 de les variables que caracteritzen l'efecte potencial advers de les crescudes, permet establir el grau d'exposici\\u00f3 al fen\\u00f2men de les diferents parts del territori.Aquest CDE est\\u00e0 format perles zones d'avinguda i els calats per avinguda. Els 11 trams ARPSI s\\u00f3n dels torrents de Na B\\u00e0rbara (Palma), Gros (Palma), Coanegre (Palma/Marratx\\u00ed), Campos, Es Riuet (Manacor/Sant Lloren\\u00e7 des Cardassar), ses Planes (Sant Lloren\\u00e7 des Cardassar), Vall den Marc/Sant Jordi (Pollen\\u00e7a), Major de S\\u00f3ller, Peguera (Calvi\\u00e0), Santa Pon\\u00e7a (Calvi\\u00e0) i Llavanera (Eivissa/Santa Eul\\u00e0ria del Riu).</SPAN></P></DIV>\",\n",
      "            \"_lang\": \"es\"\n",
      "          }\n",
      "        ],\n",
      "        \"distribution\": [\n",
      "          {\n",
      "            \"_about\": \"https://datos.gob.es/catalogo/a04003003-arpsi-avinguda-100-anys/resource/6616ab04-c042-4ea4-8e13-c5b367502fd7\",\n",
      "            \"accessURL\": \"https://catalegdades.caib.cat/api/views/9bsd-2732/rows.xml?accessType=DOWNLOAD\",\n",
      "            \"format\": {\n",
      "              \"_about\": \"https://datos.gob.es/catalogo/a04003003-arpsi-avinguda-100-anys/resource/6616ab04-c042-4ea4-8e13-c5b367502fd7/format\",\n",
      "              \"type\": \"http://purl.org/dc/terms/IMT\",\n",
      "              \"value\": \"application/xml\"\n",
      "            },\n",
      "            \"identifier\": \"https://catalegdades.caib.cat/api/views/9bsd-2732/rows.xml?accessType=DOWNLOAD\",\n",
      "            \"title\": [\n",
      "              {\n",
      "                \"_value\": \"ARPSI Avinguda 100 anys\",\n",
      "                \"_lang\": \"es\"\n",
      "              },\n",
      "              {\n",
      "                \"_value\": \"ARPSI Avinguda 100 anys\",\n",
      "                \"_lang\": \"en\"\n",
      "              },\n",
      "              {\n",
      "                \"_value\": \"ARPSI Avinguda 100 anys\",\n",
      "                \"_lang\": \"ca\"\n",
      "              }\n",
      "            ],\n",
      "            \"type\": \"http://www.w3.org/ns/dcat#Distribution\"\n",
      "          },\n",
      "          {\n",
      "            \"_about\": \"https://datos.gob.es/catalogo/a04003003-arpsi-avinguda-100-anys/resource/916eb83c-69d1-402e-8a01-5ccff334ec27\",\n",
      "            \"accessURL\": \"https://catalegdades.caib.cat/api/views/9bsd-2732/rows.csv?accessType=DOWNLOAD\",\n",
      "            \"format\": {\n",
      "              \"_about\": \"https://datos.gob.es/catalogo/a04003003-arpsi-avinguda-100-anys/resource/916eb83c-69d1-402e-8a01-5ccff334ec27/format\",\n",
      "              \"type\": \"http://purl.org/dc/terms/IMT\",\n",
      "              \"value\": \"text/csv\"\n",
      "            },\n",
      "            \"identifier\": \"https://catalegdades.caib.cat/api/views/9bsd-2732/rows.csv?accessType=DOWNLOAD\",\n",
      "            \"title\": [\n",
      "              {\n",
      "                \"_value\": \"ARPSI Avinguda 100 anys\",\n",
      "                \"_lang\": \"es\"\n",
      "              },\n",
      "              {\n",
      "                \"_value\": \"ARPSI Avinguda 100 anys\",\n",
      "                \"_lang\": \"en\"\n",
      "              },\n",
      "              {\n",
      "                \"_value\": \"ARPSI Avinguda 100 anys\",\n",
      "                \"_lang\": \"ca\"\n",
      "              }\n",
      "            ],\n",
      "            \"type\": \"http://www.w3.org/ns/dcat#Distribution\"\n",
      "          },\n",
      "          {\n",
      "            \"_about\": \"https://datos.gob.es/catalogo/a04003003-arpsi-avinguda-100-anys/resource/d308335e-6b44-49ec-9d60-b0215b9efae9\",\n",
      "            \"accessURL\": \"https://catalegdades.caib.cat/api/views/9bsd-2732/rows.rdf?accessType=DOWNLOAD\",\n",
      "            \"format\": {\n",
      "              \"_about\": \"https://datos.gob.es/catalogo/a04003003-arpsi-avinguda-100-anys/resource/d308335e-6b44-49ec-9d60-b0215b9efae9/format\",\n",
      "              \"type\": \"http://purl.org/dc/terms/IMT\",\n",
      "              \"value\": \"application/rdf+xml\"\n",
      "            },\n",
      "            \"identifier\": \"https://catalegdades.caib.cat/api/views/9bsd-2732/rows.rdf?accessType=DOWNLOAD\",\n",
      "            \"title\": [\n",
      "              {\n",
      "                \"_value\": \"ARPSI Avinguda 100 anys\",\n",
      "                \"_lang\": \"es\"\n",
      "              },\n",
      "              {\n",
      "                \"_value\": \"ARPSI Avinguda 100 anys\",\n",
      "                \"_lang\": \"en\"\n",
      "              },\n",
      "              {\n",
      "                \"_value\": \"ARPSI Avinguda 100 anys\",\n",
      "                \"_lang\": \"ca\"\n",
      "              }\n",
      "            ],\n",
      "            \"type\": \"http://www.w3.org/ns/dcat#Distribution\"\n",
      "          },\n",
      "          {\n",
      "            \"_about\": \"https://datos.gob.es/catalogo/a04003003-arpsi-avinguda-100-anys/resource/db5c4a51-888c-4f59-ad45-06a3c1891ec8\",\n",
      "            \"accessURL\": \"https://catalegdades.caib.cat/api/views/9bsd-2732/rows.json?accessType=DOWNLOAD\",\n",
      "            \"format\": {\n",
      "              \"_about\": \"https://datos.gob.es/catalogo/a04003003-arpsi-avinguda-100-anys/resource/db5c4a51-888c-4f59-ad45-06a3c1891ec8/format\",\n",
      "              \"type\": \"http://purl.org/dc/terms/IMT\",\n",
      "              \"value\": \"application/json\"\n",
      "            },\n",
      "            \"identifier\": \"https://catalegdades.caib.cat/api/views/9bsd-2732/rows.json?accessType=DOWNLOAD\",\n",
      "            \"title\": [\n",
      "              {\n",
      "                \"_value\": \"ARPSI Avinguda 100 anys\",\n",
      "                \"_lang\": \"es\"\n",
      "              },\n",
      "              {\n",
      "                \"_value\": \"ARPSI Avinguda 100 anys\",\n",
      "                \"_lang\": \"en\"\n",
      "              },\n",
      "              {\n",
      "                \"_value\": \"ARPSI Avinguda 100 anys\",\n",
      "                \"_lang\": \"ca\"\n",
      "              }\n",
      "            ],\n",
      "            \"type\": \"http://www.w3.org/ns/dcat#Distribution\"\n",
      "          }\n",
      "        ],\n",
      "        \"identifier\": \"https://catalegdades.caib.cat/d/9bsd-2732\",\n",
      "        \"issued\": \"mar, 27 jun 2023 22:00:00 GMT+0000\",\n",
      "        \"language\": [\n",
      "          \"ca\",\n",
      "          \"en\",\n",
      "          \"es\"\n",
      "        ],\n",
      "        \"license\": \"http://creativecommons.org/licenses/by/4.0/legalcode\",\n",
      "        \"modified\": \"mar, 27 jun 2023 22:00:00 GMT+0000\",\n",
      "        \"publisher\": \"http://datos.gob.es/recurso/sector-publico/org/Organismo/A04003003\",\n",
      "        \"spatial\": \"http://datos.gob.es/recurso/sector-publico/territorio/Autonomia/Illes-Balears\",\n",
      "        \"theme\": \"http://datos.gob.es/kos/sector-publico/sector/medio-ambiente\",\n",
      "        \"title\": [\n",
      "          {\n",
      "            \"_value\": \"ARPSI Avinguda 100 anys\",\n",
      "            \"_lang\": \"es\"\n",
      "          },\n",
      "          {\n",
      "            \"_value\": \"ARPSI Avinguda 100 anys\",\n",
      "            \"_lang\": \"en\"\n",
      "          },\n",
      "          {\n",
      "            \"_value\": \"ARPSI Avinguda 100 anys\",\n",
      "            \"_lang\": \"ca\"\n",
      "          }\n",
      "        ],\n",
      "        \"type\": \"http://www.w3.org/ns/dcat#Dataset\"\n",
      "      },\n",
      "      {\n",
      "        \"_about\": \"https://datos.gob.es/catalogo/a04003003-arpsi-avinguda-500-anys\",\n",
      "        \"description\": [\n",
      "          {\n",
      "            \"_value\": \"<DIV STYLE=\\\"text-align:Left;font-size:12pt\\\"><P><SPAN>Avinguda 500 anys de la delimitaci\\u00f3 gr\\u00e0fica de la superf\\u00edcie negada per les aig\\u00fces per l'ocurr\\u00e8ncia d'avingudes amb per\\u00edodes de retorn de 10, 100 i 500 anys, valors que s'han convingut com a refer\\u00e8ncia per als esdeveniments d'alta, mitja i baixa probabilitat, respectivament (en aplicaci\\u00f3 de l'article 8.1 del Reial Decret 903/2010). Aquesta informaci\\u00f3, acompanyada de l'estimaci\\u00f3 de les variables que caracteritzen l'efecte potencial advers de les crescudes, permet establir el grau d'exposici\\u00f3 al fen\\u00f2men de les diferents parts del territori.Aquest CDE est\\u00e0 format perles zones d'avinguda i els calats per avinguda. Els 11 trams ARPSI s\\u00f3n dels torrents de Na B\\u00e0rbara (Palma), Gros (Palma), Coanegre (Palma/Marratx\\u00ed), Campos, Es Riuet (Manacor/Sant Lloren\\u00e7 des Cardassar), ses Planes (Sant Lloren\\u00e7 des Cardassar), Vall den Marc/Sant Jordi (Pollen\\u00e7a), Major de S\\u00f3ller, Peguera (Calvi\\u00e0), Santa Pon\\u00e7a (Calvi\\u00e0) i Llavanera (Eivissa/Santa Eul\\u00e0ria del Riu).</SPAN></P></DIV>\",\n",
      "            \"_lang\": \"es\"\n",
      "          },\n",
      "          {\n",
      "            \"_value\": \"<DIV STYLE=\\\"text-align:Left;font-size:12pt\\\"><P><SPAN>Avinguda 500 anys de la delimitaci\\u00f3 gr\\u00e0fica de la superf\\u00edcie negada per les aig\\u00fces per l'ocurr\\u00e8ncia d'avingudes amb per\\u00edodes de retorn de 10, 100 i 500 anys, valors que s'han convingut com a refer\\u00e8ncia per als esdeveniments d'alta, mitja i baixa probabilitat, respectivament (en aplicaci\\u00f3 de l'article 8.1 del Reial Decret 903/2010). Aquesta informaci\\u00f3, acompanyada de l'estimaci\\u00f3 de les variables que caracteritzen l'efecte potencial advers de les crescudes, permet establir el grau d'exposici\\u00f3 al fen\\u00f2men de les diferents parts del territori.Aquest CDE est\\u00e0 format perles zones d'avinguda i els calats per avinguda. Els 11 trams ARPSI s\\u00f3n dels torrents de Na B\\u00e0rbara (Palma), Gros (Palma), Coanegre (Palma/Marratx\\u00ed), Campos, Es Riuet (Manacor/Sant Lloren\\u00e7 des Cardassar), ses Planes (Sant Lloren\\u00e7 des Cardassar), Vall den Marc/Sant Jordi (Pollen\\u00e7a), Major de S\\u00f3ller, Peguera (Calvi\\u00e0), Santa Pon\\u00e7a (Calvi\\u00e0) i Llavanera (Eivissa/Santa Eul\\u00e0ria del Riu).</SPAN></P></DIV>\",\n",
      "            \"_lang\": \"ca\"\n",
      "          },\n",
      "          {\n",
      "            \"_value\": \"<DIV STYLE=\\\"text-align:Left;font-size:12pt\\\"><P><SPAN>Avinguda 500 anys de la delimitaci\\u00f3 gr\\u00e0fica de la superf\\u00edcie negada per les aig\\u00fces per l'ocurr\\u00e8ncia d'avingudes amb per\\u00edodes de retorn de 10, 100 i 500 anys, valors que s'han convingut com a refer\\u00e8ncia per als esdeveniments d'alta, mitja i baixa probabilitat, respectivament (en aplicaci\\u00f3 de l'article 8.1 del Reial Decret 903/2010). Aquesta informaci\\u00f3, acompanyada de l'estimaci\\u00f3 de les variables que caracteritzen l'efecte potencial advers de les crescudes, permet establir el grau d'exposici\\u00f3 al fen\\u00f2men de les diferents parts del territori.Aquest CDE est\\u00e0 format perles zones d'avinguda i els calats per avinguda. Els 11 trams ARPSI s\\u00f3n dels torrents de Na B\\u00e0rbara (Palma), Gros (Palma), Coanegre (Palma/Marratx\\u00ed), Campos, Es Riuet (Manacor/Sant Lloren\\u00e7 des Cardassar), ses Planes (Sant Lloren\\u00e7 des Cardassar), Vall den Marc/Sant Jordi (Pollen\\u00e7a), Major de S\\u00f3ller, Peguera (Calvi\\u00e0), Santa Pon\\u00e7a (Calvi\\u00e0) i Llavanera (Eivissa/Santa Eul\\u00e0ria del Riu).</SPAN></P></DIV>\",\n",
      "            \"_lang\": \"en\"\n",
      "          }\n",
      "        ],\n",
      "        \"distribution\": [\n",
      "          {\n",
      "            \"_about\": \"https://datos.gob.es/catalogo/a04003003-arpsi-avinguda-500-anys/resource/299afd86-9324-4a42-8151-cd6b70d414e9\",\n",
      "            \"accessURL\": \"https://catalegdades.caib.cat/api/views/8tqv-3caf/rows.xml?accessType=DOWNLOAD\",\n",
      "            \"format\": {\n",
      "              \"_about\": \"https://datos.gob.es/catalogo/a04003003-arpsi-avinguda-500-anys/resource/299afd86-9324-4a42-8151-cd6b70d414e9/format\",\n",
      "              \"type\": \"http://purl.org/dc/terms/IMT\",\n",
      "              \"value\": \"application/xml\"\n",
      "            },\n",
      "            \"identifier\": \"https://catalegdades.caib.cat/api/views/8tqv-3caf/rows.xml?accessType=DOWNLOAD\",\n",
      "            \"title\": [\n",
      "              {\n",
      "                \"_value\": \"ARPSI Avinguda 500 anys\",\n",
      "                \"_lang\": \"en\"\n",
      "              },\n",
      "              {\n",
      "                \"_value\": \"ARPSI Avinguda 500 anys\",\n",
      "                \"_lang\": \"es\"\n",
      "              },\n",
      "              {\n",
      "                \"_value\": \"ARPSI Avinguda 500 anys\",\n",
      "                \"_lang\": \"ca\"\n",
      "              }\n",
      "            ],\n",
      "            \"type\": \"http://www.w3.org/ns/dcat#Distribution\"\n",
      "          },\n",
      "          {\n",
      "            \"_about\": \"https://datos.gob.es/catalogo/a04003003-arpsi-avinguda-500-anys/resource/46e39495-4304-4c7a-b5ba-9207971adf24\",\n",
      "            \"accessURL\": \"https://catalegdades.caib.cat/api/views/8tqv-3caf/rows.csv?accessType=DOWNLOAD\",\n",
      "            \"format\": {\n",
      "              \"_about\": \"https://datos.gob.es/catalogo/a04003003-arpsi-avinguda-500-anys/resource/46e39495-4304-4c7a-b5ba-9207971adf24/format\",\n",
      "              \"type\": \"http://purl.org/dc/terms/IMT\",\n",
      "              \"value\": \"text/csv\"\n",
      "            },\n",
      "            \"identifier\": \"https://catalegdades.caib.cat/api/views/8tqv-3caf/rows.csv?accessType=DOWNLOAD\",\n",
      "            \"title\": [\n",
      "              {\n",
      "                \"_value\": \"ARPSI Avinguda 500 anys\",\n",
      "                \"_lang\": \"en\"\n",
      "              },\n",
      "              {\n",
      "                \"_value\": \"ARPSI Avinguda 500 anys\",\n",
      "                \"_lang\": \"es\"\n",
      "              },\n",
      "              {\n",
      "                \"_value\": \"ARPSI Avinguda 500 anys\",\n",
      "                \"_lang\": \"ca\"\n",
      "              }\n",
      "            ],\n",
      "            \"type\": \"http://www.w3.org/ns/dcat#Distribution\"\n",
      "          },\n",
      "          {\n",
      "            \"_about\": \"https://datos.gob.es/catalogo/a04003003-arpsi-avinguda-500-anys/resource/c30615ac-6924-4267-ac1e-ac7d93155c5c\",\n",
      "            \"accessURL\": \"https://catalegdades.caib.cat/api/views/8tqv-3caf/rows.json?accessType=DOWNLOAD\",\n",
      "            \"format\": {\n",
      "              \"_about\": \"https://datos.gob.es/catalogo/a04003003-arpsi-avinguda-500-anys/resource/c30615ac-6924-4267-ac1e-ac7d93155c5c/format\",\n",
      "              \"type\": \"http://purl.org/dc/terms/IMT\",\n",
      "              \"value\": \"application/json\"\n",
      "            },\n",
      "            \"identifier\": \"https://catalegdades.caib.cat/api/views/8tqv-3caf/rows.json?accessType=DOWNLOAD\",\n",
      "            \"title\": [\n",
      "              {\n",
      "                \"_value\": \"ARPSI Avinguda 500 anys\",\n",
      "                \"_lang\": \"en\"\n",
      "              },\n",
      "              {\n",
      "                \"_value\": \"ARPSI Avinguda 500 anys\",\n",
      "                \"_lang\": \"es\"\n",
      "              },\n",
      "              {\n",
      "                \"_value\": \"ARPSI Avinguda 500 anys\",\n",
      "                \"_lang\": \"ca\"\n",
      "              }\n",
      "            ],\n",
      "            \"type\": \"http://www.w3.org/ns/dcat#Distribution\"\n",
      "          },\n",
      "          {\n",
      "            \"_about\": \"https://datos.gob.es/catalogo/a04003003-arpsi-avinguda-500-anys/resource/f5a9b2d9-a7f0-47fb-bb63-503cc5c48dd3\",\n",
      "            \"accessURL\": \"https://catalegdades.caib.cat/api/views/8tqv-3caf/rows.rdf?accessType=DOWNLOAD\",\n",
      "            \"format\": {\n",
      "              \"_about\": \"https://datos.gob.es/catalogo/a04003003-arpsi-avinguda-500-anys/resource/f5a9b2d9-a7f0-47fb-bb63-503cc5c48dd3/format\",\n",
      "              \"type\": \"http://purl.org/dc/terms/IMT\",\n",
      "              \"value\": \"application/rdf+xml\"\n",
      "            },\n",
      "            \"identifier\": \"https://catalegdades.caib.cat/api/views/8tqv-3caf/rows.rdf?accessType=DOWNLOAD\",\n",
      "            \"title\": [\n",
      "              {\n",
      "                \"_value\": \"ARPSI Avinguda 500 anys\",\n",
      "                \"_lang\": \"en\"\n",
      "              },\n",
      "              {\n",
      "                \"_value\": \"ARPSI Avinguda 500 anys\",\n",
      "                \"_lang\": \"es\"\n",
      "              },\n",
      "              {\n",
      "                \"_value\": \"ARPSI Avinguda 500 anys\",\n",
      "                \"_lang\": \"ca\"\n",
      "              }\n",
      "            ],\n",
      "            \"type\": \"http://www.w3.org/ns/dcat#Distribution\"\n",
      "          }\n",
      "        ],\n",
      "        \"identifier\": \"https://catalegdades.caib.cat/d/8tqv-3caf\",\n",
      "        \"issued\": \"mar, 27 jun 2023 22:00:00 GMT+0000\",\n",
      "        \"keyword\": [\n",
      "          {\n",
      "            \"_value\": \"illes balears\",\n",
      "            \"_lang\": \"es\"\n",
      "          },\n",
      "          {\n",
      "            \"_value\": \"recursos h\\u00eddrics\",\n",
      "            \"_lang\": \"es\"\n",
      "          }\n",
      "        ],\n",
      "        \"language\": [\n",
      "          \"ca\",\n",
      "          \"en\",\n",
      "          \"es\"\n",
      "        ],\n",
      "        \"license\": \"http://creativecommons.org/licenses/by/4.0/legalcode\",\n",
      "        \"modified\": \"mar, 27 jun 2023 22:00:00 GMT+0000\",\n",
      "        \"publisher\": \"http://datos.gob.es/recurso/sector-publico/org/Organismo/A04003003\",\n",
      "        \"spatial\": \"http://datos.gob.es/recurso/sector-publico/territorio/Autonomia/Illes-Balears\",\n",
      "        \"theme\": \"http://datos.gob.es/kos/sector-publico/sector/medio-ambiente\",\n",
      "        \"title\": [\n",
      "          {\n",
      "            \"_value\": \"ARPSI Avinguda 500 anys\",\n",
      "            \"_lang\": \"en\"\n",
      "          },\n",
      "          {\n",
      "            \"_value\": \"ARPSI Avinguda 500 anys\",\n",
      "            \"_lang\": \"es\"\n",
      "          },\n",
      "          {\n",
      "            \"_value\": \"ARPSI Avinguda 500 anys\",\n",
      "            \"_lang\": \"ca\"\n",
      "          }\n",
      "        ],\n",
      "        \"type\": \"http://www.w3.org/ns/dcat#Dataset\"\n",
      "      },\n",
      "      {\n",
      "        \"_about\": \"https://datos.gob.es/catalogo/a04003003-arpsi-domini-public-hidraulic-cartografic\",\n",
      "        \"description\": [\n",
      "          {\n",
      "            \"_value\": \"<DIV STYLE=\\\"text-align:Left;font-size:12pt\\\"><P><SPAN>Domini p\\u00fablic hidr\\u00e0ulic cartogr\\u00e0fic de la delimitaci\\u00f3 gr\\u00e0fica de la superf\\u00edcie negada per les aig\\u00fces per l'ocurr\\u00e8ncia d'avingudes amb per\\u00edodes de retorn de 10, 100 i 500 anys, valors que s'han convingut com a refer\\u00e8ncia per als esdeveniments d'alta, mitja i baixa probabilitat, respectivament (en aplicaci\\u00f3 de l'article 8.1 del Reial Decret 903/2010). Aquesta informaci\\u00f3, acompanyada de l'estimaci\\u00f3 de les variables que caracteritzen l'efecte potencial advers de les crescudes, permet establir el grau d'exposici\\u00f3 al fen\\u00f2men de les diferents parts del territori.Aquest CDE est\\u00e0 format perles zones d'avinguda i els calats per avinguda. Els 11 trams ARPSI s\\u00f3n dels torrents de Na B\\u00e0rbara (Palma), Gros (Palma), Coanegre (Palma/Marratx\\u00ed), Campos, Es Riuet (Manacor/Sant Lloren\\u00e7 des Cardassar), ses Planes (Sant Lloren\\u00e7 des Cardassar), Vall den Marc/Sant Jordi (Pollen\\u00e7a), Major de S\\u00f3ller, Peguera (Calvi\\u00e0), Santa Pon\\u00e7a (Calvi\\u00e0) i Llavanera (Eivissa/Santa Eul\\u00e0ria del Riu).</SPAN></P></DIV>\",\n",
      "            \"_lang\": \"es\"\n",
      "          },\n",
      "          {\n",
      "            \"_value\": \"<DIV STYLE=\\\"text-align:Left;font-size:12pt\\\"><P><SPAN>Domini p\\u00fablic hidr\\u00e0ulic cartogr\\u00e0fic de la delimitaci\\u00f3 gr\\u00e0fica de la superf\\u00edcie negada per les aig\\u00fces per l'ocurr\\u00e8ncia d'avingudes amb per\\u00edodes de retorn de 10, 100 i 500 anys, valors que s'han convingut com a refer\\u00e8ncia per als esdeveniments d'alta, mitja i baixa probabilitat, respectivament (en aplicaci\\u00f3 de l'article 8.1 del Reial Decret 903/2010). Aquesta informaci\\u00f3, acompanyada de l'estimaci\\u00f3 de les variables que caracteritzen l'efecte potencial advers de les crescudes, permet establir el grau d'exposici\\u00f3 al fen\\u00f2men de les diferents parts del territori.Aquest CDE est\\u00e0 format perles zones d'avinguda i els calats per avinguda. Els 11 trams ARPSI s\\u00f3n dels torrents de Na B\\u00e0rbara (Palma), Gros (Palma), Coanegre (Palma/Marratx\\u00ed), Campos, Es Riuet (Manacor/Sant Lloren\\u00e7 des Cardassar), ses Planes (Sant Lloren\\u00e7 des Cardassar), Vall den Marc/Sant Jordi (Pollen\\u00e7a), Major de S\\u00f3ller, Peguera (Calvi\\u00e0), Santa Pon\\u00e7a (Calvi\\u00e0) i Llavanera (Eivissa/Santa Eul\\u00e0ria del Riu).</SPAN></P></DIV>\",\n",
      "            \"_lang\": \"ca\"\n",
      "          },\n",
      "          {\n",
      "            \"_value\": \"<DIV STYLE=\\\"text-align:Left;font-size:12pt\\\"><P><SPAN>Domini p\\u00fablic hidr\\u00e0ulic cartogr\\u00e0fic de la delimitaci\\u00f3 gr\\u00e0fica de la superf\\u00edcie negada per les aig\\u00fces per l'ocurr\\u00e8ncia d'avingudes amb per\\u00edodes de retorn de 10, 100 i 500 anys, valors que s'han convingut com a refer\\u00e8ncia per als esdeveniments d'alta, mitja i baixa probabilitat, respectivament (en aplicaci\\u00f3 de l'article 8.1 del Reial Decret 903/2010). Aquesta informaci\\u00f3, acompanyada de l'estimaci\\u00f3 de les variables que caracteritzen l'efecte potencial advers de les crescudes, permet establir el grau d'exposici\\u00f3 al fen\\u00f2men de les diferents parts del territori.Aquest CDE est\\u00e0 format perles zones d'avinguda i els calats per avinguda. Els 11 trams ARPSI s\\u00f3n dels torrents de Na B\\u00e0rbara (Palma), Gros (Palma), Coanegre (Palma/Marratx\\u00ed), Campos, Es Riuet (Manacor/Sant Lloren\\u00e7 des Cardassar), ses Planes (Sant Lloren\\u00e7 des Cardassar), Vall den Marc/Sant Jordi (Pollen\\u00e7a), Major de S\\u00f3ller, Peguera (Calvi\\u00e0), Santa Pon\\u00e7a (Calvi\\u00e0) i Llavanera (Eivissa/Santa Eul\\u00e0ria del Riu).</SPAN></P></DIV>\",\n",
      "            \"_lang\": \"en\"\n",
      "          }\n",
      "        ],\n",
      "        \"distribution\": [\n",
      "          {\n",
      "            \"_about\": \"https://datos.gob.es/catalogo/a04003003-arpsi-domini-public-hidraulic-cartografic/resource/0e024903-913c-49b9-b7a5-ea9cedb97efb\",\n",
      "            \"accessURL\": \"https://catalegdades.caib.cat/api/views/5vcb-psjt/rows.csv?accessType=DOWNLOAD\",\n",
      "            \"format\": {\n",
      "              \"_about\": \"https://datos.gob.es/catalogo/a04003003-arpsi-domini-public-hidraulic-cartografic/resource/0e024903-913c-49b9-b7a5-ea9cedb97efb/format\",\n",
      "              \"type\": \"http://purl.org/dc/terms/IMT\",\n",
      "              \"value\": \"text/csv\"\n",
      "            },\n",
      "            \"identifier\": \"https://catalegdades.caib.cat/api/views/5vcb-psjt/rows.csv?accessType=DOWNLOAD\",\n",
      "            \"title\": [\n",
      "              {\n",
      "                \"_value\": \"ARPSI Domini P\\u00fablic Hidr\\u00e0ulic Cartogr\\u00e0fic\",\n",
      "                \"_lang\": \"es\"\n",
      "              },\n",
      "              {\n",
      "                \"_value\": \"ARPSI Domini P\\u00fablic Hidr\\u00e0ulic Cartogr\\u00e0fic\",\n",
      "                \"_lang\": \"ca\"\n",
      "              },\n",
      "              {\n",
      "                \"_value\": \"ARPSI Domini P\\u00fablic Hidr\\u00e0ulic Cartogr\\u00e0fic\",\n",
      "                \"_lang\": \"en\"\n",
      "              }\n",
      "            ],\n",
      "            \"type\": \"http://www.w3.org/ns/dcat#Distribution\"\n",
      "          },\n",
      "          {\n",
      "            \"_about\": \"https://datos.gob.es/catalogo/a04003003-arpsi-domini-public-hidraulic-cartografic/resource/21f98ad5-95f4-40b3-890e-c35c6039e5cc\",\n",
      "            \"accessURL\": \"https://catalegdades.caib.cat/api/views/5vcb-psjt/rows.xml?accessType=DOWNLOAD\",\n",
      "            \"format\": {\n",
      "              \"_about\": \"https://datos.gob.es/catalogo/a04003003-arpsi-domini-public-hidraulic-cartografic/resource/21f98ad5-95f4-40b3-890e-c35c6039e5cc/format\",\n",
      "              \"type\": \"http://purl.org/dc/terms/IMT\",\n",
      "              \"value\": \"application/xml\"\n",
      "            },\n",
      "            \"identifier\": \"https://catalegdades.caib.cat/api/views/5vcb-psjt/rows.xml?accessType=DOWNLOAD\",\n",
      "            \"title\": [\n",
      "              {\n",
      "                \"_value\": \"ARPSI Domini P\\u00fablic Hidr\\u00e0ulic Cartogr\\u00e0fic\",\n",
      "                \"_lang\": \"es\"\n",
      "              },\n",
      "              {\n",
      "                \"_value\": \"ARPSI Domini P\\u00fablic Hidr\\u00e0ulic Cartogr\\u00e0fic\",\n",
      "                \"_lang\": \"ca\"\n",
      "              },\n",
      "              {\n",
      "                \"_value\": \"ARPSI Domini P\\u00fablic Hidr\\u00e0ulic Cartogr\\u00e0fic\",\n",
      "                \"_lang\": \"en\"\n",
      "              }\n",
      "            ],\n",
      "            \"type\": \"http://www.w3.org/ns/dcat#Distribution\"\n",
      "          },\n",
      "          {\n",
      "            \"_about\": \"https://datos.gob.es/catalogo/a04003003-arpsi-domini-public-hidraulic-cartografic/resource/3fb88d05-4d41-4229-915c-33683f5fab02\",\n",
      "            \"accessURL\": \"https://catalegdades.caib.cat/api/views/5vcb-psjt/rows.rdf?accessType=DOWNLOAD\",\n",
      "            \"format\": {\n",
      "              \"_about\": \"https://datos.gob.es/catalogo/a04003003-arpsi-domini-public-hidraulic-cartografic/resource/3fb88d05-4d41-4229-915c-33683f5fab02/format\",\n",
      "              \"type\": \"http://purl.org/dc/terms/IMT\",\n",
      "              \"value\": \"application/rdf+xml\"\n",
      "            },\n",
      "            \"identifier\": \"https://catalegdades.caib.cat/api/views/5vcb-psjt/rows.rdf?accessType=DOWNLOAD\",\n",
      "            \"title\": [\n",
      "              {\n",
      "                \"_value\": \"ARPSI Domini P\\u00fablic Hidr\\u00e0ulic Cartogr\\u00e0fic\",\n",
      "                \"_lang\": \"es\"\n",
      "              },\n",
      "              {\n",
      "                \"_value\": \"ARPSI Domini P\\u00fablic Hidr\\u00e0ulic Cartogr\\u00e0fic\",\n",
      "                \"_lang\": \"ca\"\n",
      "              },\n",
      "              {\n",
      "                \"_value\": \"ARPSI Domini P\\u00fablic Hidr\\u00e0ulic Cartogr\\u00e0fic\",\n",
      "                \"_lang\": \"en\"\n",
      "              }\n",
      "            ],\n",
      "            \"type\": \"http://www.w3.org/ns/dcat#Distribution\"\n",
      "          },\n",
      "          {\n",
      "            \"_about\": \"https://datos.gob.es/catalogo/a04003003-arpsi-domini-public-hidraulic-cartografic/resource/8fc1e1fd-4f52-46bd-b0ab-0f6008b1ef4d\",\n",
      "            \"accessURL\": \"https://catalegdades.caib.cat/api/views/5vcb-psjt/rows.json?accessType=DOWNLOAD\",\n",
      "            \"format\": {\n",
      "              \"_about\": \"https://datos.gob.es/catalogo/a04003003-arpsi-domini-public-hidraulic-cartografic/resource/8fc1e1fd-4f52-46bd-b0ab-0f6008b1ef4d/format\",\n",
      "              \"type\": \"http://purl.org/dc/terms/IMT\",\n",
      "              \"value\": \"application/json\"\n",
      "            },\n",
      "            \"identifier\": \"https://catalegdades.caib.cat/api/views/5vcb-psjt/rows.json?accessType=DOWNLOAD\",\n",
      "            \"title\": [\n",
      "              {\n",
      "                \"_value\": \"ARPSI Domini P\\u00fablic Hidr\\u00e0ulic Cartogr\\u00e0fic\",\n",
      "                \"_lang\": \"es\"\n",
      "              },\n",
      "              {\n",
      "                \"_value\": \"ARPSI Domini P\\u00fablic Hidr\\u00e0ulic Cartogr\\u00e0fic\",\n",
      "                \"_lang\": \"ca\"\n",
      "              },\n",
      "              {\n",
      "                \"_value\": \"ARPSI Domini P\\u00fablic Hidr\\u00e0ulic Cartogr\\u00e0fic\",\n",
      "                \"_lang\": \"en\"\n",
      "              }\n",
      "            ],\n",
      "            \"type\": \"http://www.w3.org/ns/dcat#Distribution\"\n",
      "          }\n",
      "        ],\n",
      "        \"identifier\": \"https://catalegdades.caib.cat/d/5vcb-psjt\",\n",
      "        \"issued\": \"mar, 27 jun 2023 22:00:00 GMT+0000\",\n",
      "        \"keyword\": [\n",
      "          {\n",
      "            \"_value\": \"illes balears\",\n",
      "            \"_lang\": \"es\"\n",
      "          },\n",
      "          {\n",
      "            \"_value\": \"recursos h\\u00eddrics\",\n",
      "            \"_lang\": \"es\"\n",
      "          }\n",
      "        ],\n",
      "        \"language\": [\n",
      "          \"ca\",\n",
      "          \"en\",\n",
      "          \"es\"\n",
      "        ],\n",
      "        \"license\": \"http://creativecommons.org/licenses/by/4.0/legalcode\",\n",
      "        \"modified\": \"mar, 27 jun 2023 22:00:00 GMT+0000\",\n",
      "        \"publisher\": \"http://datos.gob.es/recurso/sector-publico/org/Organismo/A04003003\",\n",
      "        \"spatial\": \"http://datos.gob.es/recurso/sector-publico/territorio/Autonomia/Illes-Balears\",\n",
      "        \"theme\": \"http://datos.gob.es/kos/sector-publico/sector/medio-ambiente\",\n",
      "        \"title\": [\n",
      "          {\n",
      "            \"_value\": \"ARPSI Domini P\\u00fablic Hidr\\u00e0ulic Cartogr\\u00e0fic\",\n",
      "            \"_lang\": \"ca\"\n",
      "          },\n",
      "          {\n",
      "            \"_value\": \"ARPSI Domini P\\u00fablic Hidr\\u00e0ulic Cartogr\\u00e0fic\",\n",
      "            \"_lang\": \"en\"\n",
      "          },\n",
      "          {\n",
      "            \"_value\": \"ARPSI Domini P\\u00fablic Hidr\\u00e0ulic Cartogr\\u00e0fic\",\n",
      "            \"_lang\": \"es\"\n",
      "          }\n",
      "        ],\n",
      "        \"type\": \"http://www.w3.org/ns/dcat#Dataset\"\n",
      "      },\n",
      "      {\n",
      "        \"_about\": \"https://datos.gob.es/catalogo/a04003003-arpsi-trams-illes-balears\",\n",
      "        \"description\": [\n",
      "          {\n",
      "            \"_value\": \"<DIV STYLE=\\\"text-align:Left;font-size:12pt\\\"><DIV><DIV><P><SPAN>Trams emprats per la delimitaci\\u00f3 gr\\u00e0fica de la superf\\u00edcie negada per les aig\\u00fces per l'ocurr\\u00e8ncia d'avingudes amb per\\u00edodes de retorn de 10, 100 i 500 anys, valors que s'han convingut com a refer\\u00e8ncia per als esdeveniments d'alta, mitja i baixa probabilitat, respectivament (en aplicaci\\u00f3 de l'article 8.1 del Reial Decret 903/2010). Aquesta informaci\\u00f3, acompanyada de l'estimaci\\u00f3 de les variables que caracteritzen l'efecte potencial advers de les crescudes, permet establir el grau d'exposici\\u00f3 al fen\\u00f2men de les diferents parts del territori.Aquest CDE est\\u00e0 format perles zones d'avinguda i els calats per avinguda. Els 11 trams ARPSI s\\u00f3n dels torrents de Na B\\u00e0rbara (Palma), Gros (Palma), Coanegre (Palma/Marratx\\u00ed), Campos, Es Riuet (Manacor/Sant Lloren\\u00e7 des Cardassar), ses Planes (Sant Lloren\\u00e7 des Cardassar), Vall den Marc/Sant Jordi (Pollen\\u00e7a), Major de S\\u00f3ller, Peguera (Calvi\\u00e0), Santa Pon\\u00e7a (Calvi\\u00e0) i Llavanera (Eivissa/Santa Eul\\u00e0ria del Riu).</SPAN></P></DIV></DIV></DIV>\",\n",
      "            \"_lang\": \"es\"\n",
      "          },\n",
      "          {\n",
      "            \"_value\": \"<DIV STYLE=\\\"text-align:Left;font-size:12pt\\\"><DIV><DIV><P><SPAN>Trams emprats per la delimitaci\\u00f3 gr\\u00e0fica de la superf\\u00edcie negada per les aig\\u00fces per l'ocurr\\u00e8ncia d'avingudes amb per\\u00edodes de retorn de 10, 100 i 500 anys, valors que s'han convingut com a refer\\u00e8ncia per als esdeveniments d'alta, mitja i baixa probabilitat, respectivament (en aplicaci\\u00f3 de l'article 8.1 del Reial Decret 903/2010). Aquesta informaci\\u00f3, acompanyada de l'estimaci\\u00f3 de les variables que caracteritzen l'efecte potencial advers de les crescudes, permet establir el grau d'exposici\\u00f3 al fen\\u00f2men de les diferents parts del territori.Aquest CDE est\\u00e0 format perles zones d'avinguda i els calats per avinguda. Els 11 trams ARPSI s\\u00f3n dels torrents de Na B\\u00e0rbara (Palma), Gros (Palma), Coanegre (Palma/Marratx\\u00ed), Campos, Es Riuet (Manacor/Sant Lloren\\u00e7 des Cardassar), ses Planes (Sant Lloren\\u00e7 des Cardassar), Vall den Marc/Sant Jordi (Pollen\\u00e7a), Major de S\\u00f3ller, Peguera (Calvi\\u00e0), Santa Pon\\u00e7a (Calvi\\u00e0) i Llavanera (Eivissa/Santa Eul\\u00e0ria del Riu).</SPAN></P></DIV></DIV></DIV>\",\n",
      "            \"_lang\": \"ca\"\n",
      "          },\n",
      "          {\n",
      "            \"_value\": \"<DIV STYLE=\\\"text-align:Left;font-size:12pt\\\"><DIV><DIV><P><SPAN>Trams emprats per la delimitaci\\u00f3 gr\\u00e0fica de la superf\\u00edcie negada per les aig\\u00fces per l'ocurr\\u00e8ncia d'avingudes amb per\\u00edodes de retorn de 10, 100 i 500 anys, valors que s'han convingut com a refer\\u00e8ncia per als esdeveniments d'alta, mitja i baixa probabilitat, respectivament (en aplicaci\\u00f3 de l'article 8.1 del Reial Decret 903/2010). Aquesta informaci\\u00f3, acompanyada de l'estimaci\\u00f3 de les variables que caracteritzen l'efecte potencial advers de les crescudes, permet establir el grau d'exposici\\u00f3 al fen\\u00f2men de les diferents parts del territori.Aquest CDE est\\u00e0 format perles zones d'avinguda i els calats per avinguda. Els 11 trams ARPSI s\\u00f3n dels torrents de Na B\\u00e0rbara (Palma), Gros (Palma), Coanegre (Palma/Marratx\\u00ed), Campos, Es Riuet (Manacor/Sant Lloren\\u00e7 des Cardassar), ses Planes (Sant Lloren\\u00e7 des Cardassar), Vall den Marc/Sant Jordi (Pollen\\u00e7a), Major de S\\u00f3ller, Peguera (Calvi\\u00e0), Santa Pon\\u00e7a (Calvi\\u00e0) i Llavanera (Eivissa/Santa Eul\\u00e0ria del Riu).</SPAN></P></DIV></DIV></DIV>\",\n",
      "            \"_lang\": \"en\"\n",
      "          }\n",
      "        ],\n",
      "        \"distribution\": [\n",
      "          {\n",
      "            \"_about\": \"https://datos.gob.es/catalogo/a04003003-arpsi-trams-illes-balears/resource/5f0f6e87-8361-4758-8c7e-e368bbc5b532\",\n",
      "            \"accessURL\": \"https://catalegdades.caib.cat/api/views/2r6b-bpib/rows.csv?accessType=DOWNLOAD\",\n",
      "            \"format\": {\n",
      "              \"_about\": \"https://datos.gob.es/catalogo/a04003003-arpsi-trams-illes-balears/resource/5f0f6e87-8361-4758-8c7e-e368bbc5b532/format\",\n",
      "              \"type\": \"http://purl.org/dc/terms/IMT\",\n",
      "              \"value\": \"text/csv\"\n",
      "            },\n",
      "            \"identifier\": \"https://catalegdades.caib.cat/api/views/2r6b-bpib/rows.csv?accessType=DOWNLOAD\",\n",
      "            \"title\": [\n",
      "              {\n",
      "                \"_value\": \"ARPSI Trams Illes Balears\",\n",
      "                \"_lang\": \"en\"\n",
      "              },\n",
      "              {\n",
      "                \"_value\": \"ARPSI Trams Illes Balears\",\n",
      "                \"_lang\": \"es\"\n",
      "              },\n",
      "              {\n",
      "                \"_value\": \"ARPSI Trams Illes Balears\",\n",
      "                \"_lang\": \"ca\"\n",
      "              }\n",
      "            ],\n",
      "            \"type\": \"http://www.w3.org/ns/dcat#Distribution\"\n",
      "          },\n",
      "          {\n",
      "            \"_about\": \"https://datos.gob.es/catalogo/a04003003-arpsi-trams-illes-balears/resource/abccaa9b-fd98-4140-b46d-3a84c93696d7\",\n",
      "            \"accessURL\": \"https://catalegdades.caib.cat/api/views/2r6b-bpib/rows.json?accessType=DOWNLOAD\",\n",
      "            \"format\": {\n",
      "              \"_about\": \"https://datos.gob.es/catalogo/a04003003-arpsi-trams-illes-balears/resource/abccaa9b-fd98-4140-b46d-3a84c93696d7/format\",\n",
      "              \"type\": \"http://purl.org/dc/terms/IMT\",\n",
      "              \"value\": \"application/json\"\n",
      "            },\n",
      "            \"identifier\": \"https://catalegdades.caib.cat/api/views/2r6b-bpib/rows.json?accessType=DOWNLOAD\",\n",
      "            \"title\": [\n",
      "              {\n",
      "                \"_value\": \"ARPSI Trams Illes Balears\",\n",
      "                \"_lang\": \"en\"\n",
      "              },\n",
      "              {\n",
      "                \"_value\": \"ARPSI Trams Illes Balears\",\n",
      "                \"_lang\": \"es\"\n",
      "              },\n",
      "              {\n",
      "                \"_value\": \"ARPSI Trams Illes Balears\",\n",
      "                \"_lang\": \"ca\"\n",
      "              }\n",
      "            ],\n",
      "            \"type\": \"http://www.w3.org/ns/dcat#Distribution\"\n",
      "          },\n",
      "          {\n",
      "            \"_about\": \"https://datos.gob.es/catalogo/a04003003-arpsi-trams-illes-balears/resource/d78a5b25-3308-4b37-b70b-a61005021f1b\",\n",
      "            \"accessURL\": \"https://catalegdades.caib.cat/api/views/2r6b-bpib/rows.xml?accessType=DOWNLOAD\",\n",
      "            \"format\": {\n",
      "              \"_about\": \"https://datos.gob.es/catalogo/a04003003-arpsi-trams-illes-balears/resource/d78a5b25-3308-4b37-b70b-a61005021f1b/format\",\n",
      "              \"type\": \"http://purl.org/dc/terms/IMT\",\n",
      "              \"value\": \"application/xml\"\n",
      "            },\n",
      "            \"identifier\": \"https://catalegdades.caib.cat/api/views/2r6b-bpib/rows.xml?accessType=DOWNLOAD\",\n",
      "            \"title\": [\n",
      "              {\n",
      "                \"_value\": \"ARPSI Trams Illes Balears\",\n",
      "                \"_lang\": \"en\"\n",
      "              },\n",
      "              {\n",
      "                \"_value\": \"ARPSI Trams Illes Balears\",\n",
      "                \"_lang\": \"es\"\n",
      "              },\n",
      "              {\n",
      "                \"_value\": \"ARPSI Trams Illes Balears\",\n",
      "                \"_lang\": \"ca\"\n",
      "              }\n",
      "            ],\n",
      "            \"type\": \"http://www.w3.org/ns/dcat#Distribution\"\n",
      "          },\n",
      "          {\n",
      "            \"_about\": \"https://datos.gob.es/catalogo/a04003003-arpsi-trams-illes-balears/resource/f4db2c18-fa87-49dd-a139-15c218a78a55\",\n",
      "            \"accessURL\": \"https://catalegdades.caib.cat/api/views/2r6b-bpib/rows.rdf?accessType=DOWNLOAD\",\n",
      "            \"format\": {\n",
      "              \"_about\": \"https://datos.gob.es/catalogo/a04003003-arpsi-trams-illes-balears/resource/f4db2c18-fa87-49dd-a139-15c218a78a55/format\",\n",
      "              \"type\": \"http://purl.org/dc/terms/IMT\",\n",
      "              \"value\": \"application/rdf+xml\"\n",
      "            },\n",
      "            \"identifier\": \"https://catalegdades.caib.cat/api/views/2r6b-bpib/rows.rdf?accessType=DOWNLOAD\",\n",
      "            \"title\": [\n",
      "              {\n",
      "                \"_value\": \"ARPSI Trams Illes Balears\",\n",
      "                \"_lang\": \"en\"\n",
      "              },\n",
      "              {\n",
      "                \"_value\": \"ARPSI Trams Illes Balears\",\n",
      "                \"_lang\": \"es\"\n",
      "              },\n",
      "              {\n",
      "                \"_value\": \"ARPSI Trams Illes Balears\",\n",
      "                \"_lang\": \"ca\"\n",
      "              }\n",
      "            ],\n",
      "            \"type\": \"http://www.w3.org/ns/dcat#Distribution\"\n",
      "          }\n",
      "        ],\n",
      "        \"identifier\": \"https://catalegdades.caib.cat/d/2r6b-bpib\",\n",
      "        \"issued\": \"mar, 27 jun 2023 22:00:00 GMT+0000\",\n",
      "        \"keyword\": [\n",
      "          {\n",
      "            \"_value\": \"illes balears\",\n",
      "            \"_lang\": \"es\"\n",
      "          },\n",
      "          {\n",
      "            \"_value\": \"recursos h\\u00eddrics\",\n",
      "            \"_lang\": \"es\"\n",
      "          }\n",
      "        ],\n",
      "        \"language\": [\n",
      "          \"ca\",\n",
      "          \"en\",\n",
      "          \"es\"\n",
      "        ],\n",
      "        \"license\": \"http://creativecommons.org/licenses/by/4.0/legalcode\",\n",
      "        \"modified\": \"mar, 27 jun 2023 22:00:00 GMT+0000\",\n",
      "        \"publisher\": \"http://datos.gob.es/recurso/sector-publico/org/Organismo/A04003003\",\n",
      "        \"spatial\": \"http://datos.gob.es/recurso/sector-publico/territorio/Autonomia/Illes-Balears\",\n",
      "        \"theme\": \"http://datos.gob.es/kos/sector-publico/sector/medio-ambiente\",\n",
      "        \"title\": [\n",
      "          {\n",
      "            \"_value\": \"ARPSI Trams Illes Balears\",\n",
      "            \"_lang\": \"ca\"\n",
      "          },\n",
      "          {\n",
      "            \"_value\": \"ARPSI Trams Illes Balears\",\n",
      "            \"_lang\": \"en\"\n",
      "          },\n",
      "          {\n",
      "            \"_value\": \"ARPSI Trams Illes Balears\",\n",
      "            \"_lang\": \"es\"\n",
      "          }\n",
      "        ],\n",
      "        \"type\": \"http://www.w3.org/ns/dcat#Dataset\"\n",
      "      },\n",
      "      {\n",
      "        \"_about\": \"https://datos.gob.es/catalogo/a04003003-arpsi-zona-fluxe-preferent\",\n",
      "        \"description\": [\n",
      "          {\n",
      "            \"_value\": \"<DIV STYLE=\\\"text-align:Left;font-size:12pt\\\"><P><SPAN>Zona de fluxe preferent de la delimitaci\\u00f3 gr\\u00e0fica de la superf\\u00edcie negada per les aig\\u00fces per l'ocurr\\u00e8ncia d'avingudes amb per\\u00edodes de retorn de 10, 100 i 500 anys, valors que s'han convingut com a refer\\u00e8ncia per als esdeveniments d'alta, mitja i baixa probabilitat, respectivament (en aplicaci\\u00f3 de l'article 8.1 del Reial Decret 903/2010). Aquesta informaci\\u00f3, acompanyada de l'estimaci\\u00f3 de les variables que caracteritzen l'efecte potencial advers de les crescudes, permet establir el grau d'exposici\\u00f3 al fen\\u00f2men de les diferents parts del territori.Aquest CDE est\\u00e0 format perles zones d'avinguda i els calats per avinguda. Els 11 trams ARPSI s\\u00f3n dels torrents de Na B\\u00e0rbara (Palma), Gros (Palma), Coanegre (Palma/Marratx\\u00ed), Campos, Es Riuet (Manacor/Sant Lloren\\u00e7 des Cardassar), ses Planes (Sant Lloren\\u00e7 des Cardassar), Vall den Marc/Sant Jordi (Pollen\\u00e7a), Major de S\\u00f3ller, Peguera (Calvi\\u00e0), Santa Pon\\u00e7a (Calvi\\u00e0) i Llavanera (Eivissa/Santa Eul\\u00e0ria del Riu).</SPAN></P></DIV>\",\n",
      "            \"_lang\": \"ca\"\n",
      "          },\n",
      "          {\n",
      "            \"_value\": \"<DIV STYLE=\\\"text-align:Left;font-size:12pt\\\"><P><SPAN>Zona de fluxe preferent de la delimitaci\\u00f3 gr\\u00e0fica de la superf\\u00edcie negada per les aig\\u00fces per l'ocurr\\u00e8ncia d'avingudes amb per\\u00edodes de retorn de 10, 100 i 500 anys, valors que s'han convingut com a refer\\u00e8ncia per als esdeveniments d'alta, mitja i baixa probabilitat, respectivament (en aplicaci\\u00f3 de l'article 8.1 del Reial Decret 903/2010). Aquesta informaci\\u00f3, acompanyada de l'estimaci\\u00f3 de les variables que caracteritzen l'efecte potencial advers de les crescudes, permet establir el grau d'exposici\\u00f3 al fen\\u00f2men de les diferents parts del territori.Aquest CDE est\\u00e0 format perles zones d'avinguda i els calats per avinguda. Els 11 trams ARPSI s\\u00f3n dels torrents de Na B\\u00e0rbara (Palma), Gros (Palma), Coanegre (Palma/Marratx\\u00ed), Campos, Es Riuet (Manacor/Sant Lloren\\u00e7 des Cardassar), ses Planes (Sant Lloren\\u00e7 des Cardassar), Vall den Marc/Sant Jordi (Pollen\\u00e7a), Major de S\\u00f3ller, Peguera (Calvi\\u00e0), Santa Pon\\u00e7a (Calvi\\u00e0) i Llavanera (Eivissa/Santa Eul\\u00e0ria del Riu).</SPAN></P></DIV>\",\n",
      "            \"_lang\": \"en\"\n",
      "          },\n",
      "          {\n",
      "            \"_value\": \"<DIV STYLE=\\\"text-align:Left;font-size:12pt\\\"><P><SPAN>Zona de fluxe preferent de la delimitaci\\u00f3 gr\\u00e0fica de la superf\\u00edcie negada per les aig\\u00fces per l'ocurr\\u00e8ncia d'avingudes amb per\\u00edodes de retorn de 10, 100 i 500 anys, valors que s'han convingut com a refer\\u00e8ncia per als esdeveniments d'alta, mitja i baixa probabilitat, respectivament (en aplicaci\\u00f3 de l'article 8.1 del Reial Decret 903/2010). Aquesta informaci\\u00f3, acompanyada de l'estimaci\\u00f3 de les variables que caracteritzen l'efecte potencial advers de les crescudes, permet establir el grau d'exposici\\u00f3 al fen\\u00f2men de les diferents parts del territori.Aquest CDE est\\u00e0 format perles zones d'avinguda i els calats per avinguda. Els 11 trams ARPSI s\\u00f3n dels torrents de Na B\\u00e0rbara (Palma), Gros (Palma), Coanegre (Palma/Marratx\\u00ed), Campos, Es Riuet (Manacor/Sant Lloren\\u00e7 des Cardassar), ses Planes (Sant Lloren\\u00e7 des Cardassar), Vall den Marc/Sant Jordi (Pollen\\u00e7a), Major de S\\u00f3ller, Peguera (Calvi\\u00e0), Santa Pon\\u00e7a (Calvi\\u00e0) i Llavanera (Eivissa/Santa Eul\\u00e0ria del Riu).</SPAN></P></DIV>\",\n",
      "            \"_lang\": \"es\"\n",
      "          }\n",
      "        ],\n",
      "        \"distribution\": [\n",
      "          {\n",
      "            \"_about\": \"https://datos.gob.es/catalogo/a04003003-arpsi-zona-fluxe-preferent/resource/26868e9e-dae9-4005-9b59-8597c9130096\",\n",
      "            \"accessURL\": \"https://catalegdades.caib.cat/api/views/vinp-zcu3/rows.json?accessType=DOWNLOAD\",\n",
      "            \"format\": {\n",
      "              \"_about\": \"https://datos.gob.es/catalogo/a04003003-arpsi-zona-fluxe-preferent/resource/26868e9e-dae9-4005-9b59-8597c9130096/format\",\n",
      "              \"type\": \"http://purl.org/dc/terms/IMT\",\n",
      "              \"value\": \"application/json\"\n",
      "            },\n",
      "            \"identifier\": \"https://catalegdades.caib.cat/api/views/vinp-zcu3/rows.json?accessType=DOWNLOAD\",\n",
      "            \"title\": [\n",
      "              {\n",
      "                \"_value\": \"ARPSI Zona Fluxe Preferent\",\n",
      "                \"_lang\": \"es\"\n",
      "              },\n",
      "              {\n",
      "                \"_value\": \"ARPSI Zona Fluxe Preferent\",\n",
      "                \"_lang\": \"ca\"\n",
      "              },\n",
      "              {\n",
      "                \"_value\": \"ARPSI Zona Fluxe Preferent\",\n",
      "                \"_lang\": \"en\"\n",
      "              }\n",
      "            ],\n",
      "            \"type\": \"http://www.w3.org/ns/dcat#Distribution\"\n",
      "          },\n",
      "          {\n",
      "            \"_about\": \"https://datos.gob.es/catalogo/a04003003-arpsi-zona-fluxe-preferent/resource/4178bdd5-6cee-48f3-b383-8fa9ff4d5430\",\n",
      "            \"accessURL\": \"https://catalegdades.caib.cat/api/views/vinp-zcu3/rows.xml?accessType=DOWNLOAD\",\n",
      "            \"format\": {\n",
      "              \"_about\": \"https://datos.gob.es/catalogo/a04003003-arpsi-zona-fluxe-preferent/resource/4178bdd5-6cee-48f3-b383-8fa9ff4d5430/format\",\n",
      "              \"type\": \"http://purl.org/dc/terms/IMT\",\n",
      "              \"value\": \"application/xml\"\n",
      "            },\n",
      "            \"identifier\": \"https://catalegdades.caib.cat/api/views/vinp-zcu3/rows.xml?accessType=DOWNLOAD\",\n",
      "            \"title\": [\n",
      "              {\n",
      "                \"_value\": \"ARPSI Zona Fluxe Preferent\",\n",
      "                \"_lang\": \"es\"\n",
      "              },\n",
      "              {\n",
      "                \"_value\": \"ARPSI Zona Fluxe Preferent\",\n",
      "                \"_lang\": \"ca\"\n",
      "              },\n",
      "              {\n",
      "                \"_value\": \"ARPSI Zona Fluxe Preferent\",\n",
      "                \"_lang\": \"en\"\n",
      "              }\n",
      "            ],\n",
      "            \"type\": \"http://www.w3.org/ns/dcat#Distribution\"\n",
      "          },\n",
      "          {\n",
      "            \"_about\": \"https://datos.gob.es/catalogo/a04003003-arpsi-zona-fluxe-preferent/resource/d3e7be5d-9a85-4563-9ee5-0d56ab83a842\",\n",
      "            \"accessURL\": \"https://catalegdades.caib.cat/api/views/vinp-zcu3/rows.rdf?accessType=DOWNLOAD\",\n",
      "            \"format\": {\n",
      "              \"_about\": \"https://datos.gob.es/catalogo/a04003003-arpsi-zona-fluxe-preferent/resource/d3e7be5d-9a85-4563-9ee5-0d56ab83a842/format\",\n",
      "              \"type\": \"http://purl.org/dc/terms/IMT\",\n",
      "              \"value\": \"application/rdf+xml\"\n",
      "            },\n",
      "            \"identifier\": \"https://catalegdades.caib.cat/api/views/vinp-zcu3/rows.rdf?accessType=DOWNLOAD\",\n",
      "            \"title\": [\n",
      "              {\n",
      "                \"_value\": \"ARPSI Zona Fluxe Preferent\",\n",
      "                \"_lang\": \"es\"\n",
      "              },\n",
      "              {\n",
      "                \"_value\": \"ARPSI Zona Fluxe Preferent\",\n",
      "                \"_lang\": \"ca\"\n",
      "              },\n",
      "              {\n",
      "                \"_value\": \"ARPSI Zona Fluxe Preferent\",\n",
      "                \"_lang\": \"en\"\n",
      "              }\n",
      "            ],\n",
      "            \"type\": \"http://www.w3.org/ns/dcat#Distribution\"\n",
      "          },\n",
      "          {\n",
      "            \"_about\": \"https://datos.gob.es/catalogo/a04003003-arpsi-zona-fluxe-preferent/resource/f63a1bb1-e1e7-424a-a97e-739445189b2c\",\n",
      "            \"accessURL\": \"https://catalegdades.caib.cat/api/views/vinp-zcu3/rows.csv?accessType=DOWNLOAD\",\n",
      "            \"format\": {\n",
      "              \"_about\": \"https://datos.gob.es/catalogo/a04003003-arpsi-zona-fluxe-preferent/resource/f63a1bb1-e1e7-424a-a97e-739445189b2c/format\",\n",
      "              \"type\": \"http://purl.org/dc/terms/IMT\",\n",
      "              \"value\": \"text/csv\"\n",
      "            },\n",
      "            \"identifier\": \"https://catalegdades.caib.cat/api/views/vinp-zcu3/rows.csv?accessType=DOWNLOAD\",\n",
      "            \"title\": [\n",
      "              {\n",
      "                \"_value\": \"ARPSI Zona Fluxe Preferent\",\n",
      "                \"_lang\": \"es\"\n",
      "              },\n",
      "              {\n",
      "                \"_value\": \"ARPSI Zona Fluxe Preferent\",\n",
      "                \"_lang\": \"ca\"\n",
      "              },\n",
      "              {\n",
      "                \"_value\": \"ARPSI Zona Fluxe Preferent\",\n",
      "                \"_lang\": \"en\"\n",
      "              }\n",
      "            ],\n",
      "            \"type\": \"http://www.w3.org/ns/dcat#Distribution\"\n",
      "          }\n",
      "        ],\n",
      "        \"identifier\": \"https://catalegdades.caib.cat/d/vinp-zcu3\",\n",
      "        \"issued\": \"mar, 27 jun 2023 22:00:00 GMT+0000\",\n",
      "        \"keyword\": [\n",
      "          {\n",
      "            \"_value\": \"illes balears\",\n",
      "            \"_lang\": \"es\"\n",
      "          },\n",
      "          {\n",
      "            \"_value\": \"recursos h\\u00eddrics\",\n",
      "            \"_lang\": \"es\"\n",
      "          }\n",
      "        ],\n",
      "        \"language\": [\n",
      "          \"ca\",\n",
      "          \"en\",\n",
      "          \"es\"\n",
      "        ],\n",
      "        \"license\": \"http://creativecommons.org/licenses/by/4.0/legalcode\",\n",
      "        \"modified\": \"mar, 27 jun 2023 22:00:00 GMT+0000\",\n",
      "        \"publisher\": \"http://datos.gob.es/recurso/sector-publico/org/Organismo/A04003003\",\n",
      "        \"spatial\": \"http://datos.gob.es/recurso/sector-publico/territorio/Autonomia/Illes-Balears\",\n",
      "        \"theme\": \"http://datos.gob.es/kos/sector-publico/sector/medio-ambiente\",\n",
      "        \"title\": [\n",
      "          {\n",
      "            \"_value\": \"ARPSI Zona Fluxe Preferent\",\n",
      "            \"_lang\": \"ca\"\n",
      "          },\n",
      "          {\n",
      "            \"_value\": \"ARPSI Zona Fluxe Preferent\",\n",
      "            \"_lang\": \"en\"\n",
      "          },\n",
      "          {\n",
      "            \"_value\": \"ARPSI Zona Fluxe Preferent\",\n",
      "            \"_lang\": \"es\"\n",
      "          }\n",
      "        ],\n",
      "        \"type\": \"http://www.w3.org/ns/dcat#Dataset\"\n",
      "      },\n",
      "      {\n",
      "        \"_about\": \"https://datos.gob.es/catalogo/l01080193-accidentes-segun-causa-conductor-gestionados-por-la-guardia-urbana-a-la-ciutat-de-barcelona\",\n",
      "        \"accrualPeriodicity\": {\n",
      "          \"_about\": \"https://datos.gob.es/catalogo/l01080193-accidentes-segun-causa-conductor-gestionados-por-la-guardia-urbana-a-la-ciutat-de-barcelona/Frequency\",\n",
      "          \"value\": {\n",
      "            \"_about\": \"https://datos.gob.es/catalogo/l01080193-accidentes-segun-causa-conductor-gestionados-por-la-guardia-urbana-a-la-ciutat-de-barcelona/DurationDescription\",\n",
      "            \"years\": 1.0\n",
      "          }\n",
      "        },\n",
      "        \"description\": [\n",
      "          {\n",
      "            \"_value\": \"Accidentes  seg\\u00fan causa conductor gestionados por la Gu\\u00e0rdia Urbana a la ciutat de Barcelona\",\n",
      "            \"_lang\": \"es\"\n",
      "          },\n",
      "          {\n",
      "            \"_value\": \"Accidents by driver cause managed by the Gu\\u00e0rdia Urbana in the city of Barcelona\",\n",
      "            \"_lang\": \"en\"\n",
      "          },\n",
      "          {\n",
      "            \"_value\": \"Accidents segons causa conductor  gestionats per la Gu\\u00e0rdia Urbana a la ciutat de Barcelona\",\n",
      "            \"_lang\": \"ca\"\n",
      "          }\n",
      "        ],\n",
      "        \"distribution\": [\n",
      "          {\n",
      "            \"_about\": \"https://datos.gob.es/catalogo/l01080193-accidentes-segun-causa-conductor-gestionados-por-la-guardia-urbana-a-la-ciutat-de-barcelona/resource/1fa7d507-d111-4927-ac00-93f5b89067a2\",\n",
      "            \"accessURL\": \"https://opendata-ajuntament.barcelona.cat/data/dataset/29d1b774-a83e-4c1e-91f7-1b9ad042ea83/resource/1a05cdd4-4844-41a5-872d-a0824d11b517/download\",\n",
      "            \"format\": {\n",
      "              \"_about\": \"https://datos.gob.es/catalogo/l01080193-accidentes-segun-causa-conductor-gestionados-por-la-guardia-urbana-a-la-ciutat-de-barcelona/resource/1fa7d507-d111-4927-ac00-93f5b89067a2/format\",\n",
      "              \"type\": \"http://purl.org/dc/terms/IMT\",\n",
      "              \"value\": \"text/csv\"\n",
      "            },\n",
      "            \"identifier\": \"https://opendata-ajuntament.barcelona.cat/data/dataset/accidents_causa_conductor_gu_bcn/resource/1a05cdd4-4844-41a5-872d-a0824d11b517\",\n",
      "            \"title\": [\n",
      "              {\n",
      "                \"_value\": \"2017_ACCIDENTS_CAUSA_CONDUCTOR_GU_BCN_.csv\",\n",
      "                \"_lang\": \"es\"\n",
      "              },\n",
      "              {\n",
      "                \"_value\": \"2017_ACCIDENTS_CAUSA_CONDUCTOR_GU_BCN_.csv\",\n",
      "                \"_lang\": \"en\"\n",
      "              },\n",
      "              {\n",
      "                \"_value\": \"2017_ACCIDENTS_CAUSA_CONDUCTOR_GU_BCN_.csv\",\n",
      "                \"_lang\": \"ca\"\n",
      "              }\n",
      "            ],\n",
      "            \"type\": \"http://www.w3.org/ns/dcat#Distribution\"\n",
      "          },\n",
      "          {\n",
      "            \"_about\": \"https://datos.gob.es/catalogo/l01080193-accidentes-segun-causa-conductor-gestionados-por-la-guardia-urbana-a-la-ciutat-de-barcelona/resource/6f1e23ca-2d07-42c3-adf3-91158ea2b55a\",\n",
      "            \"accessURL\": \"https://opendata-ajuntament.barcelona.cat/data/dataset/29d1b774-a83e-4c1e-91f7-1b9ad042ea83/resource/3d856a5d-30e8-494c-8390-c039e5c8919b/download\",\n",
      "            \"format\": {\n",
      "              \"_about\": \"https://datos.gob.es/catalogo/l01080193-accidentes-segun-causa-conductor-gestionados-por-la-guardia-urbana-a-la-ciutat-de-barcelona/resource/6f1e23ca-2d07-42c3-adf3-91158ea2b55a/format\",\n",
      "              \"type\": \"http://purl.org/dc/terms/IMT\",\n",
      "              \"value\": \"text/csv\"\n",
      "            },\n",
      "            \"identifier\": \"https://opendata-ajuntament.barcelona.cat/data/dataset/accidents_causa_conductor_gu_bcn/resource/3d856a5d-30e8-494c-8390-c039e5c8919b\",\n",
      "            \"title\": [\n",
      "              {\n",
      "                \"_value\": \"2018_ACCIDENTS_CAUSA_CONDUCTOR_GU_BCN_.csv\",\n",
      "                \"_lang\": \"es\"\n",
      "              },\n",
      "              {\n",
      "                \"_value\": \"2018_ACCIDENTS_CAUSA_CONDUCTOR_GU_BCN_.csv\",\n",
      "                \"_lang\": \"en\"\n",
      "              },\n",
      "              {\n",
      "                \"_value\": \"2018_ACCIDENTS_CAUSA_CONDUCTOR_GU_BCN_.csv\",\n",
      "                \"_lang\": \"ca\"\n",
      "              }\n",
      "            ],\n",
      "            \"type\": \"http://www.w3.org/ns/dcat#Distribution\"\n",
      "          },\n",
      "          {\n",
      "            \"_about\": \"https://datos.gob.es/catalogo/l01080193-accidentes-segun-causa-conductor-gestionados-por-la-guardia-urbana-a-la-ciutat-de-barcelona/resource/82748073-6c21-4662-a21c-c9ea8f7239bd\",\n",
      "            \"accessURL\": \"https://opendata-ajuntament.barcelona.cat/data/dataset/29d1b774-a83e-4c1e-91f7-1b9ad042ea83/resource/b384d295-5aec-49b1-86de-c3096ee39209/download\",\n",
      "            \"format\": {\n",
      "              \"_about\": \"https://datos.gob.es/catalogo/l01080193-accidentes-segun-causa-conductor-gestionados-por-la-guardia-urbana-a-la-ciutat-de-barcelona/resource/82748073-6c21-4662-a21c-c9ea8f7239bd/format\",\n",
      "              \"type\": \"http://purl.org/dc/terms/IMT\",\n",
      "              \"value\": \"text/csv\"\n",
      "            },\n",
      "            \"identifier\": \"https://opendata-ajuntament.barcelona.cat/data/dataset/accidents_causa_conductor_gu_bcn/resource/b384d295-5aec-49b1-86de-c3096ee39209\",\n",
      "            \"title\": [\n",
      "              {\n",
      "                \"_value\": \"2021_ACCIDENTS_CAUSA_CONDUCTOR_GU_BCN_.csv\",\n",
      "                \"_lang\": \"es\"\n",
      "              },\n",
      "              {\n",
      "                \"_value\": \"2021_ACCIDENTS_CAUSA_CONDUCTOR_GU_BCN_.csv\",\n",
      "                \"_lang\": \"en\"\n",
      "              },\n",
      "              {\n",
      "                \"_value\": \"2021_ACCIDENTS_CAUSA_CONDUCTOR_GU_BCN_.csv\",\n",
      "                \"_lang\": \"ca\"\n",
      "              }\n",
      "            ],\n",
      "            \"type\": \"http://www.w3.org/ns/dcat#Distribution\"\n",
      "          },\n",
      "          {\n",
      "            \"_about\": \"https://datos.gob.es/catalogo/l01080193-accidentes-segun-causa-conductor-gestionados-por-la-guardia-urbana-a-la-ciutat-de-barcelona/resource/85b5010d-7722-4fca-b10c-8ef627bc7473\",\n",
      "            \"accessURL\": \"https://opendata-ajuntament.barcelona.cat/data/dataset/29d1b774-a83e-4c1e-91f7-1b9ad042ea83/resource/87a8aeda-d3eb-4ba5-bcad-b9ab0c296df5/download\",\n",
      "            \"format\": {\n",
      "              \"_about\": \"https://datos.gob.es/catalogo/l01080193-accidentes-segun-causa-conductor-gestionados-por-la-guardia-urbana-a-la-ciutat-de-barcelona/resource/85b5010d-7722-4fca-b10c-8ef627bc7473/format\",\n",
      "              \"type\": \"http://purl.org/dc/terms/IMT\",\n",
      "              \"value\": \"text/csv\"\n",
      "            },\n",
      "            \"identifier\": \"https://opendata-ajuntament.barcelona.cat/data/dataset/accidents_causa_conductor_gu_bcn/resource/87a8aeda-d3eb-4ba5-bcad-b9ab0c296df5\",\n",
      "            \"title\": [\n",
      "              {\n",
      "                \"_value\": \"2022_ACCIDENTS_CAUSA_CONDUCTOR_GU_BCN_.csv\",\n",
      "                \"_lang\": \"en\"\n",
      "              },\n",
      "              {\n",
      "                \"_value\": \"2022_ACCIDENTS_CAUSA_CONDUCTOR_GU_BCN_.csv\",\n",
      "                \"_lang\": \"ca\"\n",
      "              },\n",
      "              {\n",
      "                \"_value\": \"2022_ACCIDENTS_CAUSA_CONDUCTOR_GU_BCN_.csv\",\n",
      "                \"_lang\": \"es\"\n",
      "              }\n",
      "            ],\n",
      "            \"type\": \"http://www.w3.org/ns/dcat#Distribution\"\n",
      "          },\n",
      "          {\n",
      "            \"_about\": \"https://datos.gob.es/catalogo/l01080193-accidentes-segun-causa-conductor-gestionados-por-la-guardia-urbana-a-la-ciutat-de-barcelona/resource/89fc71fb-27d4-4b09-99d6-2280a76a2c19\",\n",
      "            \"accessURL\": \"https://opendata-ajuntament.barcelona.cat/data/dataset/29d1b774-a83e-4c1e-91f7-1b9ad042ea83/resource/f464ffc3-b6c0-4bce-9749-a8ed53bcc9fa/download\",\n",
      "            \"format\": {\n",
      "              \"_about\": \"https://datos.gob.es/catalogo/l01080193-accidentes-segun-causa-conductor-gestionados-por-la-guardia-urbana-a-la-ciutat-de-barcelona/resource/89fc71fb-27d4-4b09-99d6-2280a76a2c19/format\",\n",
      "              \"type\": \"http://purl.org/dc/terms/IMT\",\n",
      "              \"value\": \"text/csv\"\n",
      "            },\n",
      "            \"identifier\": \"https://opendata-ajuntament.barcelona.cat/data/dataset/accidents_causa_conductor_gu_bcn/resource/f464ffc3-b6c0-4bce-9749-a8ed53bcc9fa\",\n",
      "            \"title\": [\n",
      "              {\n",
      "                \"_value\": \"2016_ACCIDENTS_CAUSA_CONDUCTOR_GU_BCN_.csv\",\n",
      "                \"_lang\": \"es\"\n",
      "              },\n",
      "              {\n",
      "                \"_value\": \"2016_ACCIDENTS_CAUSA_CONDUCTOR_GU_BCN_.csv\",\n",
      "                \"_lang\": \"en\"\n",
      "              },\n",
      "              {\n",
      "                \"_value\": \"2016_ACCIDENTS_CAUSA_CONDUCTOR_GU_BCN_.csv\",\n",
      "                \"_lang\": \"ca\"\n",
      "              }\n",
      "            ],\n",
      "            \"type\": \"http://www.w3.org/ns/dcat#Distribution\"\n",
      "          },\n",
      "          {\n",
      "            \"_about\": \"https://datos.gob.es/catalogo/l01080193-accidentes-segun-causa-conductor-gestionados-por-la-guardia-urbana-a-la-ciutat-de-barcelona/resource/9ec951f8-c84b-4c1d-98fd-e228c031c987\",\n",
      "            \"accessURL\": \"https://opendata-ajuntament.barcelona.cat/data/dataset/29d1b774-a83e-4c1e-91f7-1b9ad042ea83/resource/5a040155-38b3-4b19-a4b0-c84a0618d363/download\",\n",
      "            \"format\": {\n",
      "              \"_about\": \"https://datos.gob.es/catalogo/l01080193-accidentes-segun-causa-conductor-gestionados-por-la-guardia-urbana-a-la-ciutat-de-barcelona/resource/9ec951f8-c84b-4c1d-98fd-e228c031c987/format\",\n",
      "              \"type\": \"http://purl.org/dc/terms/IMT\",\n",
      "              \"value\": \"text/csv\"\n",
      "            },\n",
      "            \"identifier\": \"https://opendata-ajuntament.barcelona.cat/data/dataset/accidents_causa_conductor_gu_bcn/resource/5a040155-38b3-4b19-a4b0-c84a0618d363\",\n",
      "            \"title\": [\n",
      "              {\n",
      "                \"_value\": \"2023_ACCIDENTS_CAUSA_CONDUCTOR_GU_BCN_.csv\",\n",
      "                \"_lang\": \"en\"\n",
      "              },\n",
      "              {\n",
      "                \"_value\": \"2023_ACCIDENTS_CAUSA_CONDUCTOR_GU_BCN_.csv\",\n",
      "                \"_lang\": \"ca\"\n",
      "              },\n",
      "              {\n",
      "                \"_value\": \"2023_ACCIDENTS_CAUSA_CONDUCTOR_GU_BCN_.csv\",\n",
      "                \"_lang\": \"es\"\n",
      "              }\n",
      "            ],\n",
      "            \"type\": \"http://www.w3.org/ns/dcat#Distribution\"\n",
      "          },\n",
      "          {\n",
      "            \"_about\": \"https://datos.gob.es/catalogo/l01080193-accidentes-segun-causa-conductor-gestionados-por-la-guardia-urbana-a-la-ciutat-de-barcelona/resource/b603bda3-8d5d-4413-b40c-33c23b4a936c\",\n",
      "            \"accessURL\": \"https://opendata-ajuntament.barcelona.cat/data/dataset/29d1b774-a83e-4c1e-91f7-1b9ad042ea83/resource/240bbe6f-b01e-4c7c-8f5f-69ce317a1d01/download\",\n",
      "            \"format\": {\n",
      "              \"_about\": \"https://datos.gob.es/catalogo/l01080193-accidentes-segun-causa-conductor-gestionados-por-la-guardia-urbana-a-la-ciutat-de-barcelona/resource/b603bda3-8d5d-4413-b40c-33c23b4a936c/format\",\n",
      "              \"type\": \"http://purl.org/dc/terms/IMT\",\n",
      "              \"value\": \"text/csv\"\n",
      "            },\n",
      "            \"identifier\": \"https://opendata-ajuntament.barcelona.cat/data/dataset/accidents_causa_conductor_gu_bcn/resource/240bbe6f-b01e-4c7c-8f5f-69ce317a1d01\",\n",
      "            \"title\": [\n",
      "              {\n",
      "                \"_value\": \"2019_ACCIDENTS_CAUSA_CONDUCTOR_GU_BCN_.csv\",\n",
      "                \"_lang\": \"es\"\n",
      "              },\n",
      "              {\n",
      "                \"_value\": \"2019_ACCIDENTS_CAUSA_CONDUCTOR_GU_BCN_.csv\",\n",
      "                \"_lang\": \"ca\"\n",
      "              },\n",
      "              {\n",
      "                \"_value\": \"2019_ACCIDENTS_CAUSA_CONDUCTOR_GU_BCN_.csv\",\n",
      "                \"_lang\": \"en\"\n",
      "              }\n",
      "            ],\n",
      "            \"type\": \"http://www.w3.org/ns/dcat#Distribution\"\n",
      "          },\n",
      "          {\n",
      "            \"_about\": \"https://datos.gob.es/catalogo/l01080193-accidentes-segun-causa-conductor-gestionados-por-la-guardia-urbana-a-la-ciutat-de-barcelona/resource/d68712cf-76db-426d-b16c-dec67639d76a\",\n",
      "            \"accessURL\": \"https://opendata-ajuntament.barcelona.cat/data/dataset/29d1b774-a83e-4c1e-91f7-1b9ad042ea83/resource/8cfddcbe-3403-4a6c-8897-c13238da900e/download\",\n",
      "            \"format\": {\n",
      "              \"_about\": \"https://datos.gob.es/catalogo/l01080193-accidentes-segun-causa-conductor-gestionados-por-la-guardia-urbana-a-la-ciutat-de-barcelona/resource/d68712cf-76db-426d-b16c-dec67639d76a/format\",\n",
      "              \"type\": \"http://purl.org/dc/terms/IMT\",\n",
      "              \"value\": \"text/csv\"\n",
      "            },\n",
      "            \"identifier\": \"https://opendata-ajuntament.barcelona.cat/data/dataset/accidents_causa_conductor_gu_bcn/resource/8cfddcbe-3403-4a6c-8897-c13238da900e\",\n",
      "            \"title\": [\n",
      "              {\n",
      "                \"_value\": \"2024_accidents_causa_conductor_gu_bcn.csv\",\n",
      "                \"_lang\": \"en\"\n",
      "              },\n",
      "              {\n",
      "                \"_value\": \"2024_accidents_causa_conductor_gu_bcn.csv\",\n",
      "                \"_lang\": \"es\"\n",
      "              },\n",
      "              {\n",
      "                \"_value\": \"2024_accidents_causa_conductor_gu_bcn.csv\",\n",
      "                \"_lang\": \"ca\"\n",
      "              }\n",
      "            ],\n",
      "            \"type\": \"http://www.w3.org/ns/dcat#Distribution\"\n",
      "          },\n",
      "          {\n",
      "            \"_about\": \"https://datos.gob.es/catalogo/l01080193-accidentes-segun-causa-conductor-gestionados-por-la-guardia-urbana-a-la-ciutat-de-barcelona/resource/dc731b03-8b36-4950-b6a0-44b116816050\",\n",
      "            \"accessURL\": \"https://opendata-ajuntament.barcelona.cat/data/dataset/29d1b774-a83e-4c1e-91f7-1b9ad042ea83/resource/ab22b7f9-a780-4c8b-8605-eb0e35b4094c/download\",\n",
      "            \"format\": {\n",
      "              \"_about\": \"https://datos.gob.es/catalogo/l01080193-accidentes-segun-causa-conductor-gestionados-por-la-guardia-urbana-a-la-ciutat-de-barcelona/resource/dc731b03-8b36-4950-b6a0-44b116816050/format\",\n",
      "              \"type\": \"http://purl.org/dc/terms/IMT\",\n",
      "              \"value\": \"text/csv\"\n",
      "            },\n",
      "            \"identifier\": \"https://opendata-ajuntament.barcelona.cat/data/dataset/accidents_causa_conductor_gu_bcn/resource/ab22b7f9-a780-4c8b-8605-eb0e35b4094c\",\n",
      "            \"title\": [\n",
      "              {\n",
      "                \"_value\": \"2020_ACCIDENTS_CAUSA_CONDUCTOR_GU_BCN_.csv\",\n",
      "                \"_lang\": \"en\"\n",
      "              },\n",
      "              {\n",
      "                \"_value\": \"2020_ACCIDENTS_CAUSA_CONDUCTOR_GU_BCN_.csv\",\n",
      "                \"_lang\": \"ca\"\n",
      "              },\n",
      "              {\n",
      "                \"_value\": \"2020_ACCIDENTS_CAUSA_CONDUCTOR_GU_BCN_.csv\",\n",
      "                \"_lang\": \"es\"\n",
      "              }\n",
      "            ],\n",
      "            \"type\": \"http://www.w3.org/ns/dcat#Distribution\"\n",
      "          }\n",
      "        ],\n",
      "        \"identifier\": \"https://opendata-ajuntament.barcelona.cat/data/dataset/accidents_causa_conductor_gu_bcn\",\n",
      "        \"issued\": \"lun, 13 feb 2023 23:00:00 GMT+0000\",\n",
      "        \"keyword\": [\n",
      "          {\n",
      "            \"_value\": \"Accidentalidad\",\n",
      "            \"_lang\": \"es\"\n",
      "          },\n",
      "          {\n",
      "            \"_value\": \"A\\u00f1o 2016\",\n",
      "            \"_lang\": \"es\"\n",
      "          },\n",
      "          {\n",
      "            \"_value\": \"A\\u00f1o 2017\",\n",
      "            \"_lang\": \"es\"\n",
      "          },\n",
      "          {\n",
      "            \"_value\": \"A\\u00f1o 2018\",\n",
      "            \"_lang\": \"es\"\n",
      "          },\n",
      "          {\n",
      "            \"_value\": \"A\\u00f1o 2019\",\n",
      "            \"_lang\": \"es\"\n",
      "          },\n",
      "          {\n",
      "            \"_value\": \"A\\u00f1o 2020\",\n",
      "            \"_lang\": \"es\"\n",
      "          },\n",
      "          {\n",
      "            \"_value\": \"A\\u00f1o 2021\",\n",
      "            \"_lang\": \"es\"\n",
      "          },\n",
      "          {\n",
      "            \"_value\": \"A\\u00f1o 2022\",\n",
      "            \"_lang\": \"es\"\n",
      "          },\n",
      "          {\n",
      "            \"_value\": \"A\\u00f1o 2023\",\n",
      "            \"_lang\": \"es\"\n",
      "          },\n",
      "          {\n",
      "            \"_value\": \"A\\u00f1o 2024\",\n",
      "            \"_lang\": \"es\"\n",
      "          },\n",
      "          {\n",
      "            \"_value\": \"Causa conductor\",\n",
      "            \"_lang\": \"es\"\n",
      "          },\n",
      "          {\n",
      "            \"_value\": \"Guardia Urbana\",\n",
      "            \"_lang\": \"es\"\n",
      "          }\n",
      "        ],\n",
      "        \"language\": [\n",
      "          \"ca\",\n",
      "          \"en\",\n",
      "          \"es\"\n",
      "        ],\n",
      "        \"license\": \"https://creativecommons.org/licenses/by/4.0/deed.es_ES\",\n",
      "        \"publisher\": \"http://datos.gob.es/recurso/sector-publico/org/Organismo/L01080193\",\n",
      "        \"references\": [\n",
      "          \"https://opendata-ajuntament.barcelona.cat/data/ca/dataset/accidents_causa_conductor_gu_bcn\",\n",
      "          \"https://opendata-ajuntament.barcelona.cat/data/en/dataset/accidents_causa_conductor_gu_bcn\",\n",
      "          \"https://opendata-ajuntament.barcelona.cat/data/es/dataset/accidents_causa_conductor_gu_bcn\"\n",
      "        ],\n",
      "        \"theme\": \"http://datos.gob.es/kos/sector-publico/sector/seguridad\",\n",
      "        \"title\": [\n",
      "          {\n",
      "            \"_value\": \"Accidentes  seg\\u00fan causa conductor gestionados por la Gu\\u00e0rdia Urbana a la ciutat de Barcelona\",\n",
      "            \"_lang\": \"es\"\n",
      "          },\n",
      "          {\n",
      "            \"_value\": \"Accidents by driver cause managed by the Gu\\u00e0rdia Urbana in the city of Barcelona\",\n",
      "            \"_lang\": \"en\"\n",
      "          },\n",
      "          {\n",
      "            \"_value\": \"Accidents segons causa conductor  gestionats per la Gu\\u00e0rdia Urbana a la ciutat de Barcelona\",\n",
      "            \"_lang\": \"ca\"\n",
      "          }\n",
      "        ],\n",
      "        \"type\": \"http://www.w3.org/ns/dcat#Dataset\"\n",
      "      },\n",
      "      {\n",
      "        \"_about\": \"https://datos.gob.es/catalogo/a09002970-acuerdos-del-gobierno\",\n",
      "        \"accrualPeriodicity\": {\n",
      "          \"_about\": \"https://datos.gob.es/catalogo/a09002970-acuerdos-del-gobierno/Frequency\",\n",
      "          \"value\": {\n",
      "            \"_about\": \"https://datos.gob.es/catalogo/a09002970-acuerdos-del-gobierno/DurationDescription\",\n",
      "            \"weeks\": 1.0\n",
      "          }\n",
      "        },\n",
      "        \"description\": [\n",
      "          {\n",
      "            \"_value\": \"La publicaci\\u00f3 dels Acords del Govern permet veure l'acci\\u00f3 completa del Govern, i es poden visualitzar tots els acords que el Govern pren a les reunions setmanals del Consell Executiu. En aquest dataset podeu consultar els acords del Govern des de l'any 2014 fins a l'actualitat.\",\n",
      "            \"_lang\": \"en\"\n",
      "          },\n",
      "          {\n",
      "            \"_value\": \"La publicaci\\u00f3 dels Acords del Govern permet veure l'acci\\u00f3 completa del Govern, i es poden visualitzar tots els acords que el Govern pren a les reunions setmanals del Consell Executiu. En aquest dataset podeu consultar els acords del Govern des de l'any 2014 fins a l'actualitat.\",\n",
      "            \"_lang\": \"ca\"\n",
      "          },\n",
      "          {\n",
      "            \"_value\": \"La publicaci\\u00f3 dels Acords del Govern permet veure l'acci\\u00f3 completa del Govern, i es poden visualitzar tots els acords que el Govern pren a les reunions setmanals del Consell Executiu. En aquest dataset podeu consultar els acords del Govern des de l'any 2014 fins a l'actualitat.\",\n",
      "            \"_lang\": \"es\"\n",
      "          }\n",
      "        ],\n",
      "        \"distribution\": [\n",
      "          {\n",
      "            \"_about\": \"https://datos.gob.es/catalogo/a09002970-acuerdos-del-gobierno/resource/4cd5b92f-9ac8-4f02-9bdc-2e4db0ad5096\",\n",
      "            \"accessURL\": \"https://analisi.transparenciacatalunya.cat/api/views/ub8p-uqwj/rows.csv?accessType=DOWNLOAD\",\n",
      "            \"format\": {\n",
      "              \"_about\": \"https://datos.gob.es/catalogo/a09002970-acuerdos-del-gobierno/resource/4cd5b92f-9ac8-4f02-9bdc-2e4db0ad5096/format\",\n",
      "              \"type\": \"http://purl.org/dc/terms/IMT\",\n",
      "              \"value\": \"text/csv\"\n",
      "            },\n",
      "            \"identifier\": \"https://analisi.transparenciacatalunya.cat/d/ub8p-uqwj\",\n",
      "            \"title\": [\n",
      "              {\n",
      "                \"_value\": \"Acords del Govern\",\n",
      "                \"_lang\": \"ca\"\n",
      "              },\n",
      "              {\n",
      "                \"_value\": \"Acuerdos del Gobierno\",\n",
      "                \"_lang\": \"es\"\n",
      "              },\n",
      "              {\n",
      "                \"_value\": \"Government Agreements\",\n",
      "                \"_lang\": \"en\"\n",
      "              }\n",
      "            ],\n",
      "            \"type\": \"http://www.w3.org/ns/dcat#Distribution\"\n",
      "          },\n",
      "          {\n",
      "            \"_about\": \"https://datos.gob.es/catalogo/a09002970-acuerdos-del-gobierno/resource/5e71871a-545e-4cce-95c5-51d30408e859\",\n",
      "            \"accessURL\": \"https://analisi.transparenciacatalunya.cat/api/views/ub8p-uqwj/rows.rdf?accessType=DOWNLOAD\",\n",
      "            \"format\": {\n",
      "              \"_about\": \"https://datos.gob.es/catalogo/a09002970-acuerdos-del-gobierno/resource/5e71871a-545e-4cce-95c5-51d30408e859/format\",\n",
      "              \"type\": \"http://purl.org/dc/terms/IMT\",\n",
      "              \"value\": \"application/rdf+xml\"\n",
      "            },\n",
      "            \"identifier\": \"https://analisi.transparenciacatalunya.cat/d/ub8p-uqwj\",\n",
      "            \"title\": [\n",
      "              {\n",
      "                \"_value\": \"Acords del Govern\",\n",
      "                \"_lang\": \"ca\"\n",
      "              },\n",
      "              {\n",
      "                \"_value\": \"Acuerdos del Gobierno\",\n",
      "                \"_lang\": \"es\"\n",
      "              },\n",
      "              {\n",
      "                \"_value\": \"Government Agreements\",\n",
      "                \"_lang\": \"en\"\n",
      "              }\n",
      "            ],\n",
      "            \"type\": \"http://www.w3.org/ns/dcat#Distribution\"\n",
      "          },\n",
      "          {\n",
      "            \"_about\": \"https://datos.gob.es/catalogo/a09002970-acuerdos-del-gobierno/resource/c2c44370-71ef-4fa0-9c84-48311d9de89a\",\n",
      "            \"accessURL\": \"https://analisi.transparenciacatalunya.cat/api/views/ub8p-uqwj/rows.json?accessType=DOWNLOAD\",\n",
      "            \"format\": {\n",
      "              \"_about\": \"https://datos.gob.es/catalogo/a09002970-acuerdos-del-gobierno/resource/c2c44370-71ef-4fa0-9c84-48311d9de89a/format\",\n",
      "              \"type\": \"http://purl.org/dc/terms/IMT\",\n",
      "              \"value\": \"application/json\"\n",
      "            },\n",
      "            \"identifier\": \"https://analisi.transparenciacatalunya.cat/d/ub8p-uqwj\",\n",
      "            \"title\": [\n",
      "              {\n",
      "                \"_value\": \"Acords del Govern\",\n",
      "                \"_lang\": \"ca\"\n",
      "              },\n",
      "              {\n",
      "                \"_value\": \"Acuerdos del Gobierno\",\n",
      "                \"_lang\": \"es\"\n",
      "              },\n",
      "              {\n",
      "                \"_value\": \"Government Agreements\",\n",
      "                \"_lang\": \"en\"\n",
      "              }\n",
      "            ],\n",
      "            \"type\": \"http://www.w3.org/ns/dcat#Distribution\"\n",
      "          },\n",
      "          {\n",
      "            \"_about\": \"https://datos.gob.es/catalogo/a09002970-acuerdos-del-gobierno/resource/ebc1bc48-e204-428f-8732-f865ffe1ebb2\",\n",
      "            \"accessURL\": \"https://analisi.transparenciacatalunya.cat/api/views/ub8p-uqwj/rows.xml?accessType=DOWNLOAD\",\n",
      "            \"format\": {\n",
      "              \"_about\": \"https://datos.gob.es/catalogo/a09002970-acuerdos-del-gobierno/resource/ebc1bc48-e204-428f-8732-f865ffe1ebb2/format\",\n",
      "              \"type\": \"http://purl.org/dc/terms/IMT\",\n",
      "              \"value\": \"application/xml\"\n",
      "            },\n",
      "            \"identifier\": \"https://analisi.transparenciacatalunya.cat/d/ub8p-uqwj\",\n",
      "            \"title\": [\n",
      "              {\n",
      "                \"_value\": \"Acords del Govern\",\n",
      "                \"_lang\": \"ca\"\n",
      "              },\n",
      "              {\n",
      "                \"_value\": \"Acuerdos del Gobierno\",\n",
      "                \"_lang\": \"es\"\n",
      "              },\n",
      "              {\n",
      "                \"_value\": \"Government Agreements\",\n",
      "                \"_lang\": \"en\"\n",
      "              }\n",
      "            ],\n",
      "            \"type\": \"http://www.w3.org/ns/dcat#Distribution\"\n",
      "          }\n",
      "        ],\n",
      "        \"identifier\": \"https://analisi.transparenciacatalunya.cat/api/views/ub8p-uqwj\",\n",
      "        \"issued\": \"dom, 26 abr 2020 22:00:00 GMT+0000\",\n",
      "        \"keyword\": [\n",
      "          {\n",
      "            \"_value\": \"acord\",\n",
      "            \"_lang\": \"es\"\n",
      "          },\n",
      "          {\n",
      "            \"_value\": \"consell executiu\",\n",
      "            \"_lang\": \"es\"\n",
      "          },\n",
      "          {\n",
      "            \"_value\": \"govern\",\n",
      "            \"_lang\": \"es\"\n",
      "          },\n",
      "          {\n",
      "            \"_value\": \"ods16_pau just\\u00edcies i institucions s\\u00f2lides\",\n",
      "            \"_lang\": \"es\"\n",
      "          }\n",
      "        ],\n",
      "        \"language\": \"ca\",\n",
      "        \"license\": \"https://administraciodigital.gencat.cat/ca/dades/dades-obertes/informacio-practica/llicencies/\",\n",
      "        \"modified\": \"mi\\u00e9, 21 may 2025 22:00:00 GMT+0000\",\n",
      "        \"publisher\": \"http://datos.gob.es/recurso/sector-publico/org/Organismo/A09002970\",\n",
      "        \"references\": \"https://analisi.transparenciacatalunya.cat/d/ub8p-uqwj\",\n",
      "        \"spatial\": \"http://datos.gob.es/recurso/sector-publico/territorio/Autonomia/Cataluna\",\n",
      "        \"theme\": \"http://datos.gob.es/kos/sector-publico/sector/legislacion-justicia\",\n",
      "        \"title\": [\n",
      "          {\n",
      "            \"_value\": \"Acords del Govern\",\n",
      "            \"_lang\": \"ca\"\n",
      "          },\n",
      "          {\n",
      "            \"_value\": \"Acuerdos del Gobierno\",\n",
      "            \"_lang\": \"es\"\n",
      "          },\n",
      "          {\n",
      "            \"_value\": \"Government Agreements\",\n",
      "            \"_lang\": \"en\"\n",
      "          }\n",
      "        ],\n",
      "        \"type\": \"http://www.w3.org/ns/dcat#Dataset\"\n",
      "      },\n",
      "      {\n",
      "        \"_about\": \"https://datos.gob.es/catalogo/a09002970-acuerdos-de-los-organos-bilaterales-generalitat-estado\",\n",
      "        \"description\": [\n",
      "          {\n",
      "            \"_value\": \"Aquest dataset recull informaci\\u00f3 sobre els acords presos adoptats pels \\u00f2rgans bilaterals que actuen com a espais de relaci\\u00f3 paritaris entre la Generalitat de Catalunya i l'Estat espanyol.\\n\\nAquests \\u00f2rgans, establerts en el marc de l'Estatut d'autonomia de Catalunya, es caracteritzen per una composici\\u00f3 i un \\u00e0mbit funcional espec\\u00edfic, adaptats a les mat\\u00e8ries que tracten. Es poden estructurar en subcomissions o grups de treball per abordar temes concrets amb major profunditat i efic\\u00e0cia\",\n",
      "            \"_lang\": \"ca\"\n",
      "          },\n",
      "          {\n",
      "            \"_value\": \"Aquest dataset recull informaci\\u00f3 sobre els acords presos adoptats pels \\u00f2rgans bilaterals que actuen com a espais de relaci\\u00f3 paritaris entre la Generalitat de Catalunya i l'Estat espanyol.\\n\\nAquests \\u00f2rgans, establerts en el marc de l'Estatut d'autonomia de Catalunya, es caracteritzen per una composici\\u00f3 i un \\u00e0mbit funcional espec\\u00edfic, adaptats a les mat\\u00e8ries que tracten. Es poden estructurar en subcomissions o grups de treball per abordar temes concrets amb major profunditat i efic\\u00e0cia\",\n",
      "            \"_lang\": \"es\"\n",
      "          },\n",
      "          {\n",
      "            \"_value\": \"Aquest dataset recull informaci\\u00f3 sobre els acords presos adoptats pels \\u00f2rgans bilaterals que actuen com a espais de relaci\\u00f3 paritaris entre la Generalitat de Catalunya i l'Estat espanyol.\\n\\nAquests \\u00f2rgans, establerts en el marc de l'Estatut d'autonomia de Catalunya, es caracteritzen per una composici\\u00f3 i un \\u00e0mbit funcional espec\\u00edfic, adaptats a les mat\\u00e8ries que tracten. Es poden estructurar en subcomissions o grups de treball per abordar temes concrets amb major profunditat i efic\\u00e0cia\",\n",
      "            \"_lang\": \"en\"\n",
      "          }\n",
      "        ],\n",
      "        \"distribution\": [\n",
      "          {\n",
      "            \"_about\": \"https://datos.gob.es/catalogo/a09002970-acuerdos-de-los-organos-bilaterales-generalitat-estado/resource/001d7e4c-190c-43bb-9a82-529c9ffb3052\",\n",
      "            \"accessURL\": \"https://analisi.transparenciacatalunya.cat/api/views/7e6e-u9wr/rows.csv?accessType=DOWNLOAD\",\n",
      "            \"format\": {\n",
      "              \"_about\": \"https://datos.gob.es/catalogo/a09002970-acuerdos-de-los-organos-bilaterales-generalitat-estado/resource/001d7e4c-190c-43bb-9a82-529c9ffb3052/format\",\n",
      "              \"type\": \"http://purl.org/dc/terms/IMT\",\n",
      "              \"value\": \"text/csv\"\n",
      "            },\n",
      "            \"identifier\": \"https://analisi.transparenciacatalunya.cat/d/7e6e-u9wr\",\n",
      "            \"title\": [\n",
      "              {\n",
      "                \"_value\": \"Acords dels \\u00f2rgans bilaterals Generalitat-Estat\",\n",
      "                \"_lang\": \"ca\"\n",
      "              },\n",
      "              {\n",
      "                \"_value\": \"Acuerdos de los \\u00d3rganos Bilaterales Generalitat-Estado\",\n",
      "                \"_lang\": \"es\"\n",
      "              },\n",
      "              {\n",
      "                \"_value\": \"Agreements of the Bilateral Comissions between de Catalan Government and the Spanish Government\",\n",
      "                \"_lang\": \"en\"\n",
      "              }\n",
      "            ],\n",
      "            \"type\": \"http://www.w3.org/ns/dcat#Distribution\"\n",
      "          },\n",
      "          {\n",
      "            \"_about\": \"https://datos.gob.es/catalogo/a09002970-acuerdos-de-los-organos-bilaterales-generalitat-estado/resource/d39b92e3-98ec-49ad-980c-6979a755592b\",\n",
      "            \"accessURL\": \"https://analisi.transparenciacatalunya.cat/api/views/7e6e-u9wr/rows.xml?accessType=DOWNLOAD\",\n",
      "            \"format\": {\n",
      "              \"_about\": \"https://datos.gob.es/catalogo/a09002970-acuerdos-de-los-organos-bilaterales-generalitat-estado/resource/d39b92e3-98ec-49ad-980c-6979a755592b/format\",\n",
      "              \"type\": \"http://purl.org/dc/terms/IMT\",\n",
      "              \"value\": \"application/xml\"\n",
      "            },\n",
      "            \"identifier\": \"https://analisi.transparenciacatalunya.cat/d/7e6e-u9wr\",\n",
      "            \"title\": [\n",
      "              {\n",
      "                \"_value\": \"Acords dels \\u00f2rgans bilaterals Generalitat-Estat\",\n",
      "                \"_lang\": \"ca\"\n",
      "              },\n",
      "              {\n",
      "                \"_value\": \"Acuerdos de los \\u00d3rganos Bilaterales Generalitat-Estado\",\n",
      "                \"_lang\": \"es\"\n",
      "              },\n",
      "              {\n",
      "                \"_value\": \"Agreements of the Bilateral Comissions between de Catalan Government and the Spanish Government\",\n",
      "                \"_lang\": \"en\"\n",
      "              }\n",
      "            ],\n",
      "            \"type\": \"http://www.w3.org/ns/dcat#Distribution\"\n",
      "          },\n",
      "          {\n",
      "            \"_about\": \"https://datos.gob.es/catalogo/a09002970-acuerdos-de-los-organos-bilaterales-generalitat-estado/resource/d7160d58-3779-4814-bc8d-88a15f152284\",\n",
      "            \"accessURL\": \"https://analisi.transparenciacatalunya.cat/api/views/7e6e-u9wr/rows.json?accessType=DOWNLOAD\",\n",
      "            \"format\": {\n",
      "              \"_about\": \"https://datos.gob.es/catalogo/a09002970-acuerdos-de-los-organos-bilaterales-generalitat-estado/resource/d7160d58-3779-4814-bc8d-88a15f152284/format\",\n",
      "              \"type\": \"http://purl.org/dc/terms/IMT\",\n",
      "              \"value\": \"application/json\"\n",
      "            },\n",
      "            \"identifier\": \"https://analisi.transparenciacatalunya.cat/d/7e6e-u9wr\",\n",
      "            \"title\": [\n",
      "              {\n",
      "                \"_value\": \"Acords dels \\u00f2rgans bilaterals Generalitat-Estat\",\n",
      "                \"_lang\": \"ca\"\n",
      "              },\n",
      "              {\n",
      "                \"_value\": \"Acuerdos de los \\u00d3rganos Bilaterales Generalitat-Estado\",\n",
      "                \"_lang\": \"es\"\n",
      "              },\n",
      "              {\n",
      "                \"_value\": \"Agreements of the Bilateral Comissions between de Catalan Government and the Spanish Government\",\n",
      "                \"_lang\": \"en\"\n",
      "              }\n",
      "            ],\n",
      "            \"type\": \"http://www.w3.org/ns/dcat#Distribution\"\n",
      "          },\n",
      "          {\n",
      "            \"_about\": \"https://datos.gob.es/catalogo/a09002970-acuerdos-de-los-organos-bilaterales-generalitat-estado/resource/f84ffb42-d846-40e3-93db-7f54e1404db3\",\n",
      "            \"accessURL\": \"https://analisi.transparenciacatalunya.cat/api/views/7e6e-u9wr/rows.rdf?accessType=DOWNLOAD\",\n",
      "            \"format\": {\n",
      "              \"_about\": \"https://datos.gob.es/catalogo/a09002970-acuerdos-de-los-organos-bilaterales-generalitat-estado/resource/f84ffb42-d846-40e3-93db-7f54e1404db3/format\",\n",
      "              \"type\": \"http://purl.org/dc/terms/IMT\",\n",
      "              \"value\": \"application/rdf+xml\"\n",
      "            },\n",
      "            \"identifier\": \"https://analisi.transparenciacatalunya.cat/d/7e6e-u9wr\",\n",
      "            \"title\": [\n",
      "              {\n",
      "                \"_value\": \"Acords dels \\u00f2rgans bilaterals Generalitat-Estat\",\n",
      "                \"_lang\": \"ca\"\n",
      "              },\n",
      "              {\n",
      "                \"_value\": \"Acuerdos de los \\u00d3rganos Bilaterales Generalitat-Estado\",\n",
      "                \"_lang\": \"es\"\n",
      "              },\n",
      "              {\n",
      "                \"_value\": \"Agreements of the Bilateral Comissions between de Catalan Government and the Spanish Government\",\n",
      "                \"_lang\": \"en\"\n",
      "              }\n",
      "            ],\n",
      "            \"type\": \"http://www.w3.org/ns/dcat#Distribution\"\n",
      "          }\n",
      "        ],\n",
      "        \"identifier\": \"https://analisi.transparenciacatalunya.cat/api/views/7e6e-u9wr\",\n",
      "        \"issued\": \"dom, 29 dic 2024 23:00:00 GMT+0000\",\n",
      "        \"keyword\": [\n",
      "          {\n",
      "            \"_value\": \"comissions bilaterals\",\n",
      "            \"_lang\": \"es\"\n",
      "          },\n",
      "          {\n",
      "            \"_value\": \"comissi\\u00f3 bilateral d'infraestructures\",\n",
      "            \"_lang\": \"es\"\n",
      "          },\n",
      "          {\n",
      "            \"_value\": \"comissi\\u00f3 bilateral generalitat-estat\",\n",
      "            \"_lang\": \"es\"\n",
      "          },\n",
      "          {\n",
      "            \"_value\": \"comissi\\u00f3 mixta d'afers econ\\u00f2mics i fiscals estat-generalitat de catalunya\",\n",
      "            \"_lang\": \"es\"\n",
      "          },\n",
      "          {\n",
      "            \"_value\": \"comissi\\u00f3 mixta de transfer\\u00e8ncies\",\n",
      "            \"_lang\": \"es\"\n",
      "          },\n",
      "          {\n",
      "            \"_value\": \"ods16_pau just\\u00edcies i institucions s\\u00f2lides\",\n",
      "            \"_lang\": \"es\"\n",
      "          },\n",
      "          {\n",
      "            \"_value\": \"subcomissions\",\n",
      "            \"_lang\": \"es\"\n",
      "          }\n",
      "        ],\n",
      "        \"language\": \"ca\",\n",
      "        \"license\": \"https://administraciodigital.gencat.cat/ca/dades/dades-obertes/informacio-practica/llicencies/\",\n",
      "        \"modified\": \"dom, 06 abr 2025 22:00:00 GMT+0000\",\n",
      "        \"publisher\": \"http://datos.gob.es/recurso/sector-publico/org/Organismo/A09002970\",\n",
      "        \"references\": \"https://analisi.transparenciacatalunya.cat/d/7e6e-u9wr\",\n",
      "        \"spatial\": \"http://datos.gob.es/recurso/sector-publico/territorio/Autonomia/Cataluna\",\n",
      "        \"theme\": \"http://datos.gob.es/kos/sector-publico/sector/sector-publico\",\n",
      "        \"title\": [\n",
      "          {\n",
      "            \"_value\": \"Acords dels \\u00f2rgans bilaterals Generalitat-Estat\",\n",
      "            \"_lang\": \"ca\"\n",
      "          },\n",
      "          {\n",
      "            \"_value\": \"Acuerdos de los \\u00d3rganos Bilaterales Generalitat-Estado\",\n",
      "            \"_lang\": \"es\"\n",
      "          },\n",
      "          {\n",
      "            \"_value\": \"Agreements of the Bilateral Comissions between de Catalan Government and the Spanish Government\",\n",
      "            \"_lang\": \"en\"\n",
      "          }\n",
      "        ],\n",
      "        \"type\": \"http://www.w3.org/ns/dcat#Dataset\"\n",
      "      },\n",
      "      {\n",
      "        \"_about\": \"https://datos.gob.es/catalogo/a09002970-actos-del-govierno\",\n",
      "        \"accrualPeriodicity\": {\n",
      "          \"_about\": \"https://datos.gob.es/catalogo/a09002970-actos-del-govierno/Frequency\",\n",
      "          \"value\": {\n",
      "            \"_about\": \"https://datos.gob.es/catalogo/a09002970-actos-del-govierno/DurationDescription\",\n",
      "            \"days\": 1.0\n",
      "          }\n",
      "        },\n",
      "        \"description\": [\n",
      "          {\n",
      "            \"_value\": \"Agenda dels actes del Govern de la Generalitat de Catalunya\",\n",
      "            \"_lang\": \"ca\"\n",
      "          },\n",
      "          {\n",
      "            \"_value\": \"Agenda dels actes del Govern de la Generalitat de Catalunya\",\n",
      "            \"_lang\": \"es\"\n",
      "          },\n",
      "          {\n",
      "            \"_value\": \"Agenda dels actes del Govern de la Generalitat de Catalunya\",\n",
      "            \"_lang\": \"en\"\n",
      "          }\n",
      "        ],\n",
      "        \"distribution\": [\n",
      "          {\n",
      "            \"_about\": \"https://datos.gob.es/catalogo/a09002970-actos-del-govierno/resource/2a19b11f-65f5-4f91-ad9d-7d99124ad9a1\",\n",
      "            \"accessURL\": \"https://analisi.transparenciacatalunya.cat/api/views/wf87-e34n/rows.csv?accessType=DOWNLOAD\",\n",
      "            \"format\": {\n",
      "              \"_about\": \"https://datos.gob.es/catalogo/a09002970-actos-del-govierno/resource/2a19b11f-65f5-4f91-ad9d-7d99124ad9a1/format\",\n",
      "              \"type\": \"http://purl.org/dc/terms/IMT\",\n",
      "              \"value\": \"text/csv\"\n",
      "            },\n",
      "            \"identifier\": \"https://analisi.transparenciacatalunya.cat/d/wf87-e34n\",\n",
      "            \"title\": [\n",
      "              {\n",
      "                \"_value\": \"Actes del Govern\",\n",
      "                \"_lang\": \"ca\"\n",
      "              },\n",
      "              {\n",
      "                \"_value\": \"Actos del Govierno\",\n",
      "                \"_lang\": \"es\"\n",
      "              },\n",
      "              {\n",
      "                \"_value\": \"Government Acts\",\n",
      "                \"_lang\": \"en\"\n",
      "              }\n",
      "            ],\n",
      "            \"type\": \"http://www.w3.org/ns/dcat#Distribution\"\n",
      "          },\n",
      "          {\n",
      "            \"_about\": \"https://datos.gob.es/catalogo/a09002970-actos-del-govierno/resource/5fbce62e-7deb-4120-9f29-cae2f8072aa5\",\n",
      "            \"accessURL\": \"https://analisi.transparenciacatalunya.cat/api/views/wf87-e34n/rows.xml?accessType=DOWNLOAD\",\n",
      "            \"format\": {\n",
      "              \"_about\": \"https://datos.gob.es/catalogo/a09002970-actos-del-govierno/resource/5fbce62e-7deb-4120-9f29-cae2f8072aa5/format\",\n",
      "              \"type\": \"http://purl.org/dc/terms/IMT\",\n",
      "              \"value\": \"application/xml\"\n",
      "            },\n",
      "            \"identifier\": \"https://analisi.transparenciacatalunya.cat/d/wf87-e34n\",\n",
      "            \"title\": [\n",
      "              {\n",
      "                \"_value\": \"Actes del Govern\",\n",
      "                \"_lang\": \"ca\"\n",
      "              },\n",
      "              {\n",
      "                \"_value\": \"Actos del Govierno\",\n",
      "                \"_lang\": \"es\"\n",
      "              },\n",
      "              {\n",
      "                \"_value\": \"Government Acts\",\n",
      "                \"_lang\": \"en\"\n",
      "              }\n",
      "            ],\n",
      "            \"type\": \"http://www.w3.org/ns/dcat#Distribution\"\n",
      "          },\n",
      "          {\n",
      "            \"_about\": \"https://datos.gob.es/catalogo/a09002970-actos-del-govierno/resource/dde0e624-07ed-489d-8525-aa55fdb17d87\",\n",
      "            \"accessURL\": \"https://analisi.transparenciacatalunya.cat/api/views/wf87-e34n/rows.rdf?accessType=DOWNLOAD\",\n",
      "            \"format\": {\n",
      "              \"_about\": \"https://datos.gob.es/catalogo/a09002970-actos-del-govierno/resource/dde0e624-07ed-489d-8525-aa55fdb17d87/format\",\n",
      "              \"type\": \"http://purl.org/dc/terms/IMT\",\n",
      "              \"value\": \"application/rdf+xml\"\n",
      "            },\n",
      "            \"identifier\": \"https://analisi.transparenciacatalunya.cat/d/wf87-e34n\",\n",
      "            \"title\": [\n",
      "              {\n",
      "                \"_value\": \"Actes del Govern\",\n",
      "                \"_lang\": \"ca\"\n",
      "              },\n",
      "              {\n",
      "                \"_value\": \"Actos del Govierno\",\n",
      "                \"_lang\": \"es\"\n",
      "              },\n",
      "              {\n",
      "                \"_value\": \"Government Acts\",\n",
      "                \"_lang\": \"en\"\n",
      "              }\n",
      "            ],\n",
      "            \"type\": \"http://www.w3.org/ns/dcat#Distribution\"\n",
      "          },\n",
      "          {\n",
      "            \"_about\": \"https://datos.gob.es/catalogo/a09002970-actos-del-govierno/resource/f4411845-b3c7-47e7-9f37-68de6b36f62c\",\n",
      "            \"accessURL\": \"https://analisi.transparenciacatalunya.cat/api/views/wf87-e34n/rows.json?accessType=DOWNLOAD\",\n",
      "            \"format\": {\n",
      "              \"_about\": \"https://datos.gob.es/catalogo/a09002970-actos-del-govierno/resource/f4411845-b3c7-47e7-9f37-68de6b36f62c/format\",\n",
      "              \"type\": \"http://purl.org/dc/terms/IMT\",\n",
      "              \"value\": \"application/json\"\n",
      "            },\n",
      "            \"identifier\": \"https://analisi.transparenciacatalunya.cat/d/wf87-e34n\",\n",
      "            \"title\": [\n",
      "              {\n",
      "                \"_value\": \"Actes del Govern\",\n",
      "                \"_lang\": \"ca\"\n",
      "              },\n",
      "              {\n",
      "                \"_value\": \"Actos del Govierno\",\n",
      "                \"_lang\": \"es\"\n",
      "              },\n",
      "              {\n",
      "                \"_value\": \"Government Acts\",\n",
      "                \"_lang\": \"en\"\n",
      "              }\n",
      "            ],\n",
      "            \"type\": \"http://www.w3.org/ns/dcat#Distribution\"\n",
      "          }\n",
      "        ],\n",
      "        \"identifier\": \"https://analisi.transparenciacatalunya.cat/api/views/wf87-e34n\",\n",
      "        \"issued\": \"mar, 13 jun 2023 22:00:00 GMT+0000\",\n",
      "        \"keyword\": [\n",
      "          {\n",
      "            \"_value\": \"actes\",\n",
      "            \"_lang\": \"es\"\n",
      "          },\n",
      "          {\n",
      "            \"_value\": \"agenda\",\n",
      "            \"_lang\": \"es\"\n",
      "          },\n",
      "          {\n",
      "            \"_value\": \"govern\",\n",
      "            \"_lang\": \"es\"\n",
      "          },\n",
      "          {\n",
      "            \"_value\": \"ods16_pau just\\u00edcies i institucions s\\u00f2lides\",\n",
      "            \"_lang\": \"es\"\n",
      "          },\n",
      "          {\n",
      "            \"_value\": \"president\",\n",
      "            \"_lang\": \"es\"\n",
      "          }\n",
      "        ],\n",
      "        \"language\": \"ca\",\n",
      "        \"license\": \"https://administraciodigital.gencat.cat/ca/dades/dades-obertes/informacio-practica/llicencies/\",\n",
      "        \"modified\": \"jue, 22 may 2025 22:00:00 GMT+0000\",\n",
      "        \"publisher\": \"http://datos.gob.es/recurso/sector-publico/org/Organismo/A09002970\",\n",
      "        \"references\": \"https://analisi.transparenciacatalunya.cat/d/wf87-e34n\",\n",
      "        \"spatial\": \"http://datos.gob.es/recurso/sector-publico/territorio/Autonomia/Cataluna\",\n",
      "        \"theme\": \"http://datos.gob.es/kos/sector-publico/sector/sector-publico\",\n",
      "        \"title\": [\n",
      "          {\n",
      "            \"_value\": \"Actes del Govern\",\n",
      "            \"_lang\": \"ca\"\n",
      "          },\n",
      "          {\n",
      "            \"_value\": \"Actos del Govierno\",\n",
      "            \"_lang\": \"es\"\n",
      "          },\n",
      "          {\n",
      "            \"_value\": \"Government Acts\",\n",
      "            \"_lang\": \"en\"\n",
      "          }\n",
      "        ],\n",
      "        \"type\": \"http://www.w3.org/ns/dcat#Dataset\"\n",
      "      },\n",
      "      {\n",
      "        \"_about\": \"https://datos.gob.es/catalogo/l01080193-actividades-de-difusion-de-los-centros-civicos-de-la-ciutat-de-barcelona\",\n",
      "        \"accrualPeriodicity\": {\n",
      "          \"_about\": \"https://datos.gob.es/catalogo/l01080193-actividades-de-difusion-de-los-centros-civicos-de-la-ciutat-de-barcelona/Frequency\",\n",
      "          \"value\": {\n",
      "            \"_about\": \"https://datos.gob.es/catalogo/l01080193-actividades-de-difusion-de-los-centros-civicos-de-la-ciutat-de-barcelona/DurationDescription\",\n",
      "            \"years\": 1.0\n",
      "          }\n",
      "        },\n",
      "        \"description\": [\n",
      "          {\n",
      "            \"_value\": \"Actividades de difusi\\u00f3n de los centros c\\u00edvicos de la ciutat de Barcelona\",\n",
      "            \"_lang\": \"es\"\n",
      "          },\n",
      "          {\n",
      "            \"_value\": \"Activitats de difusi\\u00f3 dels centres c\\u00edvics de la ciutat de Barcelona\",\n",
      "            \"_lang\": \"ca\"\n",
      "          },\n",
      "          {\n",
      "            \"_value\": \"Diffusion activities at civic centres in the city of Barcelona\",\n",
      "            \"_lang\": \"en\"\n",
      "          }\n",
      "        ],\n",
      "        \"distribution\": [\n",
      "          {\n",
      "            \"_about\": \"https://datos.gob.es/catalogo/l01080193-actividades-de-difusion-de-los-centros-civicos-de-la-ciutat-de-barcelona/resource/02188e6a-fe1b-4450-be38-1cf2ca370ca0\",\n",
      "            \"accessURL\": \"https://opendata-ajuntament.barcelona.cat/data/dataset/c3574255-c2bf-47fd-b83e-147d73614c2d/resource/182e5122-adad-41ab-8fe6-fe3c9d7468d6/download\",\n",
      "            \"format\": {\n",
      "              \"_about\": \"https://datos.gob.es/catalogo/l01080193-actividades-de-difusion-de-los-centros-civicos-de-la-ciutat-de-barcelona/resource/02188e6a-fe1b-4450-be38-1cf2ca370ca0/format\",\n",
      "              \"type\": \"http://purl.org/dc/terms/IMT\",\n",
      "              \"value\": \"text/csv\"\n",
      "            },\n",
      "            \"identifier\": \"https://opendata-ajuntament.barcelona.cat/data/dataset/centres-civics-activitatsdifusio/resource/182e5122-adad-41ab-8fe6-fe3c9d7468d6\",\n",
      "            \"title\": [\n",
      "              {\n",
      "                \"_value\": \"2023_centres_civics_activitats_difusio.csv\",\n",
      "                \"_lang\": \"ca\"\n",
      "              },\n",
      "              {\n",
      "                \"_value\": \"2023_centres_civics_activitats_difusio.csv\",\n",
      "                \"_lang\": \"es\"\n",
      "              },\n",
      "              {\n",
      "                \"_value\": \"2023_centres_civics_activitats_difusio.csv\",\n",
      "                \"_lang\": \"en\"\n",
      "              }\n",
      "            ],\n",
      "            \"type\": \"http://www.w3.org/ns/dcat#Distribution\"\n",
      "          },\n",
      "          {\n",
      "            \"_about\": \"https://datos.gob.es/catalogo/l01080193-actividades-de-difusion-de-los-centros-civicos-de-la-ciutat-de-barcelona/resource/152510bb-0879-4108-a386-22eaa3318d67\",\n",
      "            \"accessURL\": \"https://opendata-ajuntament.barcelona.cat/data/dataset/c3574255-c2bf-47fd-b83e-147d73614c2d/resource/ea029cb2-5df3-4309-95e3-c872d714c322/download\",\n",
      "            \"format\": {\n",
      "              \"_about\": \"https://datos.gob.es/catalogo/l01080193-actividades-de-difusion-de-los-centros-civicos-de-la-ciutat-de-barcelona/resource/152510bb-0879-4108-a386-22eaa3318d67/format\",\n",
      "              \"type\": \"http://purl.org/dc/terms/IMT\",\n",
      "              \"value\": \"application/xml\"\n",
      "            },\n",
      "            \"identifier\": \"https://opendata-ajuntament.barcelona.cat/data/dataset/centres-civics-activitatsdifusio/resource/ea029cb2-5df3-4309-95e3-c872d714c322\",\n",
      "            \"title\": [\n",
      "              {\n",
      "                \"_value\": \"2020_centres_civics_activitats_difusio.xml\",\n",
      "                \"_lang\": \"es\"\n",
      "              },\n",
      "              {\n",
      "                \"_value\": \"2020_centres_civics_activitats_difusio.xml\",\n",
      "                \"_lang\": \"en\"\n",
      "              },\n",
      "              {\n",
      "                \"_value\": \"2020_centres_civics_activitats_difusio.xml\",\n",
      "                \"_lang\": \"ca\"\n",
      "              }\n",
      "            ],\n",
      "            \"type\": \"http://www.w3.org/ns/dcat#Distribution\"\n",
      "          },\n",
      "          {\n",
      "            \"_about\": \"https://datos.gob.es/catalogo/l01080193-actividades-de-difusion-de-los-centros-civicos-de-la-ciutat-de-barcelona/resource/1ae17822-dc40-42b5-ba71-33f470d1f53a\",\n",
      "            \"accessURL\": \"https://opendata-ajuntament.barcelona.cat/data/dataset/c3574255-c2bf-47fd-b83e-147d73614c2d/resource/33151b18-e486-4869-a3ce-28ba87a11942/download\",\n",
      "            \"format\": {\n",
      "              \"_about\": \"https://datos.gob.es/catalogo/l01080193-actividades-de-difusion-de-los-centros-civicos-de-la-ciutat-de-barcelona/resource/1ae17822-dc40-42b5-ba71-33f470d1f53a/format\",\n",
      "              \"type\": \"http://purl.org/dc/terms/IMT\",\n",
      "              \"value\": \"text/csv\"\n",
      "            },\n",
      "            \"identifier\": \"https://opendata-ajuntament.barcelona.cat/data/dataset/centres-civics-activitatsdifusio/resource/33151b18-e486-4869-a3ce-28ba87a11942\",\n",
      "            \"title\": [\n",
      "              {\n",
      "                \"_value\": \"2014_centrescivics-activitatsdifusio.csv\",\n",
      "                \"_lang\": \"es\"\n",
      "              },\n",
      "              {\n",
      "                \"_value\": \"2014_centrescivics-activitatsdifusio.csv\",\n",
      "                \"_lang\": \"en\"\n",
      "              },\n",
      "              {\n",
      "                \"_value\": \"2014_centrescivics-activitatsdifusio.csv\",\n",
      "                \"_lang\": \"ca\"\n",
      "              }\n",
      "            ],\n",
      "            \"type\": \"http://www.w3.org/ns/dcat#Distribution\"\n",
      "          },\n",
      "          {\n",
      "            \"_about\": \"https://datos.gob.es/catalogo/l01080193-actividades-de-difusion-de-los-centros-civicos-de-la-ciutat-de-barcelona/resource/308d1f87-bffe-4bae-8d31-8e9df9e6c4a7\",\n",
      "            \"accessURL\": \"https://opendata-ajuntament.barcelona.cat/data/dataset/c3574255-c2bf-47fd-b83e-147d73614c2d/resource/7310b758-7f1a-471b-8a03-5f5e679262d8/download\",\n",
      "            \"format\": {\n",
      "              \"_about\": \"https://datos.gob.es/catalogo/l01080193-actividades-de-difusion-de-los-centros-civicos-de-la-ciutat-de-barcelona/resource/308d1f87-bffe-4bae-8d31-8e9df9e6c4a7/format\",\n",
      "              \"type\": \"http://purl.org/dc/terms/IMT\",\n",
      "              \"value\": \"application/xml\"\n",
      "            },\n",
      "            \"identifier\": \"https://opendata-ajuntament.barcelona.cat/data/dataset/centres-civics-activitatsdifusio/resource/7310b758-7f1a-471b-8a03-5f5e679262d8\",\n",
      "            \"title\": [\n",
      "              {\n",
      "                \"_value\": \"2021_centres_civics_activitats_difusio.xml\",\n",
      "                \"_lang\": \"en\"\n",
      "              },\n",
      "              {\n",
      "                \"_value\": \"2021_centres_civics_activitats_difusio.xml\",\n",
      "                \"_lang\": \"ca\"\n",
      "              },\n",
      "              {\n",
      "                \"_value\": \"2021_centres_civics_activitats_difusio.xml\",\n",
      "                \"_lang\": \"es\"\n",
      "              }\n",
      "            ],\n",
      "            \"type\": \"http://www.w3.org/ns/dcat#Distribution\"\n",
      "          },\n",
      "          {\n",
      "            \"_about\": \"https://datos.gob.es/catalogo/l01080193-actividades-de-difusion-de-los-centros-civicos-de-la-ciutat-de-barcelona/resource/609409b5-6020-4ecb-a6b2-7dc642357beb\",\n",
      "            \"accessURL\": \"https://opendata-ajuntament.barcelona.cat/data/dataset/c3574255-c2bf-47fd-b83e-147d73614c2d/resource/85b02bc4-593c-4fd2-9508-ceb706868a64/download\",\n",
      "            \"format\": {\n",
      "              \"_about\": \"https://datos.gob.es/catalogo/l01080193-actividades-de-difusion-de-los-centros-civicos-de-la-ciutat-de-barcelona/resource/609409b5-6020-4ecb-a6b2-7dc642357beb/format\",\n",
      "              \"type\": \"http://purl.org/dc/terms/IMT\",\n",
      "              \"value\": \"text/csv\"\n",
      "            },\n",
      "            \"identifier\": \"https://opendata-ajuntament.barcelona.cat/data/dataset/centres-civics-activitatsdifusio/resource/85b02bc4-593c-4fd2-9508-ceb706868a64\",\n",
      "            \"title\": [\n",
      "              {\n",
      "                \"_value\": \"2019_centres_civics_activitats_difusio.csv\",\n",
      "                \"_lang\": \"en\"\n",
      "              },\n",
      "              {\n",
      "                \"_value\": \"2019_centres_civics_activitats_difusio.csv\",\n",
      "                \"_lang\": \"es\"\n",
      "              },\n",
      "              {\n",
      "                \"_value\": \"2019_centres_civics_activitats_difusio.csv\",\n",
      "                \"_lang\": \"ca\"\n",
      "              }\n",
      "            ],\n",
      "            \"type\": \"http://www.w3.org/ns/dcat#Distribution\"\n",
      "          },\n",
      "          {\n",
      "            \"_about\": \"https://datos.gob.es/catalogo/l01080193-actividades-de-difusion-de-los-centros-civicos-de-la-ciutat-de-barcelona/resource/62e145f1-7034-4913-b34b-46e2d4ef2759\",\n",
      "            \"accessURL\": \"https://opendata-ajuntament.barcelona.cat/data/dataset/c3574255-c2bf-47fd-b83e-147d73614c2d/resource/dad79d4a-aa22-484d-9c16-3b4d60b2c1e9/download\",\n",
      "            \"format\": {\n",
      "              \"_about\": \"https://datos.gob.es/catalogo/l01080193-actividades-de-difusion-de-los-centros-civicos-de-la-ciutat-de-barcelona/resource/62e145f1-7034-4913-b34b-46e2d4ef2759/format\",\n",
      "              \"type\": \"http://purl.org/dc/terms/IMT\",\n",
      "              \"value\": \"text/csv\"\n",
      "            },\n",
      "            \"identifier\": \"https://opendata-ajuntament.barcelona.cat/data/dataset/centres-civics-activitatsdifusio/resource/dad79d4a-aa22-484d-9c16-3b4d60b2c1e9\",\n",
      "            \"title\": [\n",
      "              {\n",
      "                \"_value\": \"2021_centres_civics_activitats_difusio.csv\",\n",
      "                \"_lang\": \"en\"\n",
      "              },\n",
      "              {\n",
      "                \"_value\": \"2021_centres_civics_activitats_difusio.csv\",\n",
      "                \"_lang\": \"ca\"\n",
      "              },\n",
      "              {\n",
      "                \"_value\": \"2021_centres_civics_activitats_difusio.csv\",\n",
      "                \"_lang\": \"es\"\n",
      "              }\n",
      "            ],\n",
      "            \"type\": \"http://www.w3.org/ns/dcat#Distribution\"\n",
      "          },\n",
      "          {\n",
      "            \"_about\": \"https://datos.gob.es/catalogo/l01080193-actividades-de-difusion-de-los-centros-civicos-de-la-ciutat-de-barcelona/resource/653d9587-cf8c-4400-8ae1-86f0cdb83938\",\n",
      "            \"accessURL\": \"https://opendata-ajuntament.barcelona.cat/data/dataset/c3574255-c2bf-47fd-b83e-147d73614c2d/resource/852d8fe9-7b3d-40ae-8f16-0d50662c809a/download\",\n",
      "            \"format\": {\n",
      "              \"_about\": \"https://datos.gob.es/catalogo/l01080193-actividades-de-difusion-de-los-centros-civicos-de-la-ciutat-de-barcelona/resource/653d9587-cf8c-4400-8ae1-86f0cdb83938/format\",\n",
      "              \"type\": \"http://purl.org/dc/terms/IMT\",\n",
      "              \"value\": \"text/csv\"\n",
      "            },\n",
      "            \"identifier\": \"https://opendata-ajuntament.barcelona.cat/data/dataset/centres-civics-activitatsdifusio/resource/852d8fe9-7b3d-40ae-8f16-0d50662c809a\",\n",
      "            \"title\": [\n",
      "              {\n",
      "                \"_value\": \"2022_centres_civics_activitats_difusio.csv\",\n",
      "                \"_lang\": \"ca\"\n",
      "              },\n",
      "              {\n",
      "                \"_value\": \"2022_centres_civics_activitats_difusio.csv\",\n",
      "                \"_lang\": \"es\"\n",
      "              },\n",
      "              {\n",
      "                \"_value\": \"2022_centres_civics_activitats_difusio.csv\",\n",
      "                \"_lang\": \"en\"\n",
      "              }\n",
      "            ],\n",
      "            \"type\": \"http://www.w3.org/ns/dcat#Distribution\"\n",
      "          },\n",
      "          {\n",
      "            \"_about\": \"https://datos.gob.es/catalogo/l01080193-actividades-de-difusion-de-los-centros-civicos-de-la-ciutat-de-barcelona/resource/6e8a1d84-d2af-4eba-b44b-c3aefd6bc359\",\n",
      "            \"accessURL\": \"https://opendata-ajuntament.barcelona.cat/data/dataset/c3574255-c2bf-47fd-b83e-147d73614c2d/resource/9e9c675a-b15c-453d-8640-27e6ba1c9a5f/download\",\n",
      "            \"format\": {\n",
      "              \"_about\": \"https://datos.gob.es/catalogo/l01080193-actividades-de-difusion-de-los-centros-civicos-de-la-ciutat-de-barcelona/resource/6e8a1d84-d2af-4eba-b44b-c3aefd6bc359/format\",\n",
      "              \"type\": \"http://purl.org/dc/terms/IMT\",\n",
      "              \"value\": \"application/xml\"\n",
      "            },\n",
      "            \"identifier\": \"https://opendata-ajuntament.barcelona.cat/data/dataset/centres-civics-activitatsdifusio/resource/9e9c675a-b15c-453d-8640-27e6ba1c9a5f\",\n",
      "            \"title\": [\n",
      "              {\n",
      "                \"_value\": \"2023_centres_civics_activitats_difusio.xml\",\n",
      "                \"_lang\": \"es\"\n",
      "              },\n",
      "              {\n",
      "                \"_value\": \"2023_centres_civics_activitats_difusio.xml\",\n",
      "                \"_lang\": \"en\"\n",
      "              },\n",
      "              {\n",
      "                \"_value\": \"2023_centres_civics_activitats_difusio.xml\",\n",
      "                \"_lang\": \"ca\"\n",
      "              }\n",
      "            ],\n",
      "            \"type\": \"http://www.w3.org/ns/dcat#Distribution\"\n",
      "          },\n",
      "          {\n",
      "            \"_about\": \"https://datos.gob.es/catalogo/l01080193-actividades-de-difusion-de-los-centros-civicos-de-la-ciutat-de-barcelona/resource/8a7d5b7f-6c00-4c68-b0fd-f006ccc41967\",\n",
      "            \"accessURL\": \"https://opendata-ajuntament.barcelona.cat/data/dataset/c3574255-c2bf-47fd-b83e-147d73614c2d/resource/8c5e3ba7-4ee0-431e-9072-03dacf6f1773/download\",\n",
      "            \"format\": {\n",
      "              \"_about\": \"https://datos.gob.es/catalogo/l01080193-actividades-de-difusion-de-los-centros-civicos-de-la-ciutat-de-barcelona/resource/8a7d5b7f-6c00-4c68-b0fd-f006ccc41967/format\",\n",
      "              \"type\": \"http://purl.org/dc/terms/IMT\",\n",
      "              \"value\": \"text/csv\"\n",
      "            },\n",
      "            \"identifier\": \"https://opendata-ajuntament.barcelona.cat/data/dataset/centres-civics-activitatsdifusio/resource/8c5e3ba7-4ee0-431e-9072-03dacf6f1773\",\n",
      "            \"title\": [\n",
      "              {\n",
      "                \"_value\": \"2017_centrescivics-activitatsdifusio.csv\",\n",
      "                \"_lang\": \"en\"\n",
      "              },\n",
      "              {\n",
      "                \"_value\": \"2017_centrescivics-activitatsdifusio.csv\",\n",
      "                \"_lang\": \"es\"\n",
      "              },\n",
      "              {\n",
      "                \"_value\": \"2017_centrescivics-activitatsdifusio.csv\",\n",
      "                \"_lang\": \"ca\"\n",
      "              }\n",
      "            ],\n",
      "            \"type\": \"http://www.w3.org/ns/dcat#Distribution\"\n",
      "          },\n",
      "          {\n",
      "            \"_about\": \"https://datos.gob.es/catalogo/l01080193-actividades-de-difusion-de-los-centros-civicos-de-la-ciutat-de-barcelona/resource/8da3ab34-356e-4034-a493-bff511419a83\",\n",
      "            \"accessURL\": \"https://opendata-ajuntament.barcelona.cat/data/dataset/c3574255-c2bf-47fd-b83e-147d73614c2d/resource/2ffecd42-fb6e-427c-b5a3-2ba0a59bfc2f/download\",\n",
      "            \"format\": {\n",
      "              \"_about\": \"https://datos.gob.es/catalogo/l01080193-actividades-de-difusion-de-los-centros-civicos-de-la-ciutat-de-barcelona/resource/8da3ab34-356e-4034-a493-bff511419a83/format\",\n",
      "              \"type\": \"http://purl.org/dc/terms/IMT\",\n",
      "              \"value\": \"text/csv\"\n",
      "            },\n",
      "            \"identifier\": \"https://opendata-ajuntament.barcelona.cat/data/dataset/centres-civics-activitatsdifusio/resource/2ffecd42-fb6e-427c-b5a3-2ba0a59bfc2f\",\n",
      "            \"title\": [\n",
      "              {\n",
      "                \"_value\": \"2020_centres_civics_activitats_difusio.csv\",\n",
      "                \"_lang\": \"es\"\n",
      "              },\n",
      "              {\n",
      "                \"_value\": \"2020_centres_civics_activitats_difusio.csv\",\n",
      "                \"_lang\": \"ca\"\n",
      "              },\n",
      "              {\n",
      "                \"_value\": \"2020_centres_civics_activitats_difusio.csv\",\n",
      "                \"_lang\": \"en\"\n",
      "              }\n",
      "            ],\n",
      "            \"type\": \"http://www.w3.org/ns/dcat#Distribution\"\n",
      "          },\n",
      "          {\n",
      "            \"_about\": \"https://datos.gob.es/catalogo/l01080193-actividades-de-difusion-de-los-centros-civicos-de-la-ciutat-de-barcelona/resource/8ebf80b2-f2e0-4686-bfc6-d386ebd9cdb9\",\n",
      "            \"accessURL\": \"https://opendata-ajuntament.barcelona.cat/data/dataset/c3574255-c2bf-47fd-b83e-147d73614c2d/resource/076100c2-cdd3-4cd4-a43e-a1828a820a3a/download\",\n",
      "            \"format\": {\n",
      "              \"_about\": \"https://datos.gob.es/catalogo/l01080193-actividades-de-difusion-de-los-centros-civicos-de-la-ciutat-de-barcelona/resource/8ebf80b2-f2e0-4686-bfc6-d386ebd9cdb9/format\",\n",
      "              \"type\": \"http://purl.org/dc/terms/IMT\",\n",
      "              \"value\": \"text/csv\"\n",
      "            },\n",
      "            \"identifier\": \"https://opendata-ajuntament.barcelona.cat/data/dataset/centres-civics-activitatsdifusio/resource/076100c2-cdd3-4cd4-a43e-a1828a820a3a\",\n",
      "            \"title\": [\n",
      "              {\n",
      "                \"_value\": \"2016_centrescivics-activitatsdifusio.csv\",\n",
      "                \"_lang\": \"ca\"\n",
      "              },\n",
      "              {\n",
      "                \"_value\": \"2016_centrescivics-activitatsdifusio.csv\",\n",
      "                \"_lang\": \"es\"\n",
      "              },\n",
      "              {\n",
      "                \"_value\": \"2016_centrescivics-activitatsdifusio.csv\",\n",
      "                \"_lang\": \"en\"\n",
      "              }\n",
      "            ],\n",
      "            \"type\": \"http://www.w3.org/ns/dcat#Distribution\"\n",
      "          },\n",
      "          {\n",
      "            \"_about\": \"https://datos.gob.es/catalogo/l01080193-actividades-de-difusion-de-los-centros-civicos-de-la-ciutat-de-barcelona/resource/903a8a19-a9aa-4098-8e16-707f79129496\",\n",
      "            \"accessURL\": \"https://opendata-ajuntament.barcelona.cat/data/dataset/c3574255-c2bf-47fd-b83e-147d73614c2d/resource/2616eee2-6689-4bee-9ee8-7e0deb8a782e/download\",\n",
      "            \"format\": {\n",
      "              \"_about\": \"https://datos.gob.es/catalogo/l01080193-actividades-de-difusion-de-los-centros-civicos-de-la-ciutat-de-barcelona/resource/903a8a19-a9aa-4098-8e16-707f79129496/format\",\n",
      "              \"type\": \"http://purl.org/dc/terms/IMT\",\n",
      "              \"value\": \"application/xml\"\n",
      "            },\n",
      "            \"identifier\": \"https://opendata-ajuntament.barcelona.cat/data/dataset/centres-civics-activitatsdifusio/resource/2616eee2-6689-4bee-9ee8-7e0deb8a782e\",\n",
      "            \"title\": [\n",
      "              {\n",
      "                \"_value\": \"2014_centrescivics-activitatsdifusio.xml\",\n",
      "                \"_lang\": \"en\"\n",
      "              },\n",
      "              {\n",
      "                \"_value\": \"2014_centrescivics-activitatsdifusio.xml\",\n",
      "                \"_lang\": \"ca\"\n",
      "              },\n",
      "              {\n",
      "                \"_value\": \"2014_centrescivics-activitatsdifusio.xml\",\n",
      "                \"_lang\": \"es\"\n",
      "              }\n",
      "            ],\n",
      "            \"type\": \"http://www.w3.org/ns/dcat#Distribution\"\n",
      "          },\n",
      "          {\n",
      "            \"_about\": \"https://datos.gob.es/catalogo/l01080193-actividades-de-difusion-de-los-centros-civicos-de-la-ciutat-de-barcelona/resource/91849ed8-f52d-4d2a-83c3-c89f29c4cd02\",\n",
      "            \"accessURL\": \"https://opendata-ajuntament.barcelona.cat/data/dataset/c3574255-c2bf-47fd-b83e-147d73614c2d/resource/6a57d729-7341-404f-afa6-1bca7dc0d331/download\",\n",
      "            \"format\": {\n",
      "              \"_about\": \"https://datos.gob.es/catalogo/l01080193-actividades-de-difusion-de-los-centros-civicos-de-la-ciutat-de-barcelona/resource/91849ed8-f52d-4d2a-83c3-c89f29c4cd02/format\",\n",
      "              \"type\": \"http://purl.org/dc/terms/IMT\",\n",
      "              \"value\": \"text/csv\"\n",
      "            },\n",
      "            \"identifier\": \"https://opendata-ajuntament.barcelona.cat/data/dataset/centres-civics-activitatsdifusio/resource/6a57d729-7341-404f-afa6-1bca7dc0d331\",\n",
      "            \"title\": [\n",
      "              {\n",
      "                \"_value\": \"2018_centrescivics-activitatsdifusio.csv\",\n",
      "                \"_lang\": \"ca\"\n",
      "              },\n",
      "              {\n",
      "                \"_value\": \"2018_centrescivics-activitatsdifusio.csv\",\n",
      "                \"_lang\": \"es\"\n",
      "              },\n",
      "              {\n",
      "                \"_value\": \"2018_centrescivics-activitatsdifusio.csv\",\n",
      "                \"_lang\": \"en\"\n",
      "              }\n",
      "            ],\n",
      "            \"type\": \"http://www.w3.org/ns/dcat#Distribution\"\n",
      "          },\n",
      "          {\n",
      "            \"_about\": \"https://datos.gob.es/catalogo/l01080193-actividades-de-difusion-de-los-centros-civicos-de-la-ciutat-de-barcelona/resource/95d8891c-0bec-4114-89f5-f04eb7d941f6\",\n",
      "            \"accessURL\": \"https://opendata-ajuntament.barcelona.cat/data/dataset/c3574255-c2bf-47fd-b83e-147d73614c2d/resource/da3fb11c-76f7-41c7-97aa-22169f6fec32/download\",\n",
      "            \"format\": {\n",
      "              \"_about\": \"https://datos.gob.es/catalogo/l01080193-actividades-de-difusion-de-los-centros-civicos-de-la-ciutat-de-barcelona/resource/95d8891c-0bec-4114-89f5-f04eb7d941f6/format\",\n",
      "              \"type\": \"http://purl.org/dc/terms/IMT\",\n",
      "              \"value\": \"application/xml\"\n",
      "            },\n",
      "            \"identifier\": \"https://opendata-ajuntament.barcelona.cat/data/dataset/centres-civics-activitatsdifusio/resource/da3fb11c-76f7-41c7-97aa-22169f6fec32\",\n",
      "            \"title\": [\n",
      "              {\n",
      "                \"_value\": \"2018_centrescivics-activitatsdifusio.xml\",\n",
      "                \"_lang\": \"ca\"\n",
      "              },\n",
      "              {\n",
      "                \"_value\": \"2018_centrescivics-activitatsdifusio.xml\",\n",
      "                \"_lang\": \"es\"\n",
      "              },\n",
      "              {\n",
      "                \"_value\": \"2018_centrescivics-activitatsdifusio.xml\",\n",
      "                \"_lang\": \"en\"\n",
      "              }\n",
      "            ],\n",
      "            \"type\": \"http://www.w3.org/ns/dcat#Distribution\"\n",
      "          },\n",
      "          {\n",
      "            \"_about\": \"https://datos.gob.es/catalogo/l01080193-actividades-de-difusion-de-los-centros-civicos-de-la-ciutat-de-barcelona/resource/a7098da0-8f3f-49da-a581-791cb11b25fd\",\n",
      "            \"accessURL\": \"https://opendata-ajuntament.barcelona.cat/data/dataset/c3574255-c2bf-47fd-b83e-147d73614c2d/resource/61d71320-a32a-4749-954c-268554cea585/download\",\n",
      "            \"format\": {\n",
      "              \"_about\": \"https://datos.gob.es/catalogo/l01080193-actividades-de-difusion-de-los-centros-civicos-de-la-ciutat-de-barcelona/resource/a7098da0-8f3f-49da-a581-791cb11b25fd/format\",\n",
      "              \"type\": \"http://purl.org/dc/terms/IMT\",\n",
      "              \"value\": \"application/xml\"\n",
      "            },\n",
      "            \"identifier\": \"https://opendata-ajuntament.barcelona.cat/data/dataset/centres-civics-activitatsdifusio/resource/61d71320-a32a-4749-954c-268554cea585\",\n",
      "            \"title\": [\n",
      "              {\n",
      "                \"_value\": \"2019_centres_civics_activitats_difusio.xml\",\n",
      "                \"_lang\": \"ca\"\n",
      "              },\n",
      "              {\n",
      "                \"_value\": \"2019_centres_civics_activitats_difusio.xml\",\n",
      "                \"_lang\": \"es\"\n",
      "              },\n",
      "              {\n",
      "                \"_value\": \"2019_centres_civics_activitats_difusio.xml\",\n",
      "                \"_lang\": \"en\"\n",
      "              }\n",
      "            ],\n",
      "            \"type\": \"http://www.w3.org/ns/dcat#Distribution\"\n",
      "          },\n",
      "          {\n",
      "            \"_about\": \"https://datos.gob.es/catalogo/l01080193-actividades-de-difusion-de-los-centros-civicos-de-la-ciutat-de-barcelona/resource/b0ff459d-5727-4474-877e-f4706dfc11a2\",\n",
      "            \"accessURL\": \"https://opendata-ajuntament.barcelona.cat/data/dataset/c3574255-c2bf-47fd-b83e-147d73614c2d/resource/936563e6-3c66-4a0d-9826-89671c5a04a8/download\",\n",
      "            \"format\": {\n",
      "              \"_about\": \"https://datos.gob.es/catalogo/l01080193-actividades-de-difusion-de-los-centros-civicos-de-la-ciutat-de-barcelona/resource/b0ff459d-5727-4474-877e-f4706dfc11a2/format\",\n",
      "              \"type\": \"http://purl.org/dc/terms/IMT\",\n",
      "              \"value\": \"text/csv\"\n",
      "            },\n",
      "            \"identifier\": \"https://opendata-ajuntament.barcelona.cat/data/dataset/centres-civics-activitatsdifusio/resource/936563e6-3c66-4a0d-9826-89671c5a04a8\",\n",
      "            \"title\": [\n",
      "              {\n",
      "                \"_value\": \"2015_centrescivics-activitatsdifusio.csv\",\n",
      "                \"_lang\": \"en\"\n",
      "              },\n",
      "              {\n",
      "                \"_value\": \"2015_centrescivics-activitatsdifusio.csv\",\n",
      "                \"_lang\": \"ca\"\n",
      "              },\n",
      "              {\n",
      "                \"_value\": \"2015_centrescivics-activitatsdifusio.csv\",\n",
      "                \"_lang\": \"es\"\n",
      "              }\n",
      "            ],\n",
      "            \"type\": \"http://www.w3.org/ns/dcat#Distribution\"\n",
      "          },\n",
      "          {\n",
      "            \"_about\": \"https://datos.gob.es/catalogo/l01080193-actividades-de-difusion-de-los-centros-civicos-de-la-ciutat-de-barcelona/resource/c6022ccb-bf0a-4374-a808-1ecd62fcb7e2\",\n",
      "            \"accessURL\": \"https://opendata-ajuntament.barcelona.cat/data/dataset/c3574255-c2bf-47fd-b83e-147d73614c2d/resource/02da6581-40ca-4a91-b3e7-679a8befc8fb/download\",\n",
      "            \"format\": {\n",
      "              \"_about\": \"https://datos.gob.es/catalogo/l01080193-actividades-de-difusion-de-los-centros-civicos-de-la-ciutat-de-barcelona/resource/c6022ccb-bf0a-4374-a808-1ecd62fcb7e2/format\",\n",
      "              \"type\": \"http://purl.org/dc/terms/IMT\",\n",
      "              \"value\": \"application/xml\"\n",
      "            },\n",
      "            \"identifier\": \"https://opendata-ajuntament.barcelona.cat/data/dataset/centres-civics-activitatsdifusio/resource/02da6581-40ca-4a91-b3e7-679a8befc8fb\",\n",
      "            \"title\": [\n",
      "              {\n",
      "                \"_value\": \"2022_centres_civics_activitats_difusio.xml\",\n",
      "                \"_lang\": \"es\"\n",
      "              },\n",
      "              {\n",
      "                \"_value\": \"2022_centres_civics_activitats_difusio.xml\",\n",
      "                \"_lang\": \"en\"\n",
      "              },\n",
      "              {\n",
      "                \"_value\": \"2022_centres_civics_activitats_difusio.xml\",\n",
      "                \"_lang\": \"ca\"\n",
      "              }\n",
      "            ],\n",
      "            \"type\": \"http://www.w3.org/ns/dcat#Distribution\"\n",
      "          },\n",
      "          {\n",
      "            \"_about\": \"https://datos.gob.es/catalogo/l01080193-actividades-de-difusion-de-los-centros-civicos-de-la-ciutat-de-barcelona/resource/c69fcb0a-cdc6-42bd-ae4f-dab5c2730a71\",\n",
      "            \"accessURL\": \"https://opendata-ajuntament.barcelona.cat/data/dataset/c3574255-c2bf-47fd-b83e-147d73614c2d/resource/99067c00-a043-4f02-814f-d4cb833eea8e/download\",\n",
      "            \"format\": {\n",
      "              \"_about\": \"https://datos.gob.es/catalogo/l01080193-actividades-de-difusion-de-los-centros-civicos-de-la-ciutat-de-barcelona/resource/c69fcb0a-cdc6-42bd-ae4f-dab5c2730a71/format\",\n",
      "              \"type\": \"http://purl.org/dc/terms/IMT\",\n",
      "              \"value\": \"application/xml\"\n",
      "            },\n",
      "            \"identifier\": \"https://opendata-ajuntament.barcelona.cat/data/dataset/centres-civics-activitatsdifusio/resource/99067c00-a043-4f02-814f-d4cb833eea8e\",\n",
      "            \"title\": [\n",
      "              {\n",
      "                \"_value\": \"2015_centrescivics-activitatsdifusio.xml\",\n",
      "                \"_lang\": \"en\"\n",
      "              },\n",
      "              {\n",
      "                \"_value\": \"2015_centrescivics-activitatsdifusio.xml\",\n",
      "                \"_lang\": \"ca\"\n",
      "              },\n",
      "              {\n",
      "                \"_value\": \"2015_centrescivics-activitatsdifusio.xml\",\n",
      "                \"_lang\": \"es\"\n",
      "              }\n",
      "            ],\n",
      "            \"type\": \"http://www.w3.org/ns/dcat#Distribution\"\n",
      "          },\n",
      "          {\n",
      "            \"_about\": \"https://datos.gob.es/catalogo/l01080193-actividades-de-difusion-de-los-centros-civicos-de-la-ciutat-de-barcelona/resource/f4ea73f9-02a1-4f33-9413-c7b8f9397e03\",\n",
      "            \"accessURL\": \"https://opendata-ajuntament.barcelona.cat/data/dataset/c3574255-c2bf-47fd-b83e-147d73614c2d/resource/ac18797d-d1bd-461b-8ac9-4b823cc7c045/download\",\n",
      "            \"format\": {\n",
      "              \"_about\": \"https://datos.gob.es/catalogo/l01080193-actividades-de-difusion-de-los-centros-civicos-de-la-ciutat-de-barcelona/resource/f4ea73f9-02a1-4f33-9413-c7b8f9397e03/format\",\n",
      "              \"type\": \"http://purl.org/dc/terms/IMT\",\n",
      "              \"value\": \"application/xml\"\n",
      "            },\n",
      "            \"identifier\": \"https://opendata-ajuntament.barcelona.cat/data/dataset/centres-civics-activitatsdifusio/resource/ac18797d-d1bd-461b-8ac9-4b823cc7c045\",\n",
      "            \"title\": [\n",
      "              {\n",
      "                \"_value\": \"2016_centrescivics-activitatsdifusio.xml\",\n",
      "                \"_lang\": \"en\"\n",
      "              },\n",
      "              {\n",
      "                \"_value\": \"2016_centrescivics-activitatsdifusio.xml\",\n",
      "                \"_lang\": \"ca\"\n",
      "              },\n",
      "              {\n",
      "                \"_value\": \"2016_centrescivics-activitatsdifusio.xml\",\n",
      "                \"_lang\": \"es\"\n",
      "              }\n",
      "            ],\n",
      "            \"type\": \"http://www.w3.org/ns/dcat#Distribution\"\n",
      "          },\n",
      "          {\n",
      "            \"_about\": \"https://datos.gob.es/catalogo/l01080193-actividades-de-difusion-de-los-centros-civicos-de-la-ciutat-de-barcelona/resource/fc845293-6ae8-485e-8b99-4c5d63cf135e\",\n",
      "            \"accessURL\": \"https://opendata-ajuntament.barcelona.cat/data/dataset/c3574255-c2bf-47fd-b83e-147d73614c2d/resource/c0cc1ced-ca2f-42d6-bd84-f1a418fc5804/download\",\n",
      "            \"format\": {\n",
      "              \"_about\": \"https://datos.gob.es/catalogo/l01080193-actividades-de-difusion-de-los-centros-civicos-de-la-ciutat-de-barcelona/resource/fc845293-6ae8-485e-8b99-4c5d63cf135e/format\",\n",
      "              \"type\": \"http://purl.org/dc/terms/IMT\",\n",
      "              \"value\": \"application/xml\"\n",
      "            },\n",
      "            \"identifier\": \"https://opendata-ajuntament.barcelona.cat/data/dataset/centres-civics-activitatsdifusio/resource/c0cc1ced-ca2f-42d6-bd84-f1a418fc5804\",\n",
      "            \"title\": [\n",
      "              {\n",
      "                \"_value\": \"2017_centrescivics-activitatsdifusio.xml\",\n",
      "                \"_lang\": \"ca\"\n",
      "              },\n",
      "              {\n",
      "                \"_value\": \"2017_centrescivics-activitatsdifusio.xml\",\n",
      "                \"_lang\": \"es\"\n",
      "              },\n",
      "              {\n",
      "                \"_value\": \"2017_centrescivics-activitatsdifusio.xml\",\n",
      "                \"_lang\": \"en\"\n",
      "              }\n",
      "            ],\n",
      "            \"type\": \"http://www.w3.org/ns/dcat#Distribution\"\n",
      "          }\n",
      "        ],\n",
      "        \"identifier\": \"https://opendata-ajuntament.barcelona.cat/data/dataset/centres-civics-activitatsdifusio\",\n",
      "        \"issued\": \"dom, 12 jun 2016 22:00:00 GMT+0000\",\n",
      "        \"keyword\": [\n",
      "          {\n",
      "            \"_value\": \"A\\u00f1o 2014\",\n",
      "            \"_lang\": \"es\"\n",
      "          },\n",
      "          {\n",
      "            \"_value\": \"A\\u00f1o 2015\",\n",
      "            \"_lang\": \"es\"\n",
      "          },\n",
      "          {\n",
      "            \"_value\": \"A\\u00f1o 2016\",\n",
      "            \"_lang\": \"es\"\n",
      "          },\n",
      "          {\n",
      "            \"_value\": \"A\\u00f1o 2017\",\n",
      "            \"_lang\": \"es\"\n",
      "          },\n",
      "          {\n",
      "            \"_value\": \"A\\u00f1o 2018\",\n",
      "            \"_lang\": \"es\"\n",
      "          },\n",
      "          {\n",
      "            \"_value\": \"A\\u00f1o 2019\",\n",
      "            \"_lang\": \"es\"\n",
      "          },\n",
      "          {\n",
      "            \"_value\": \"A\\u00f1o 2020\",\n",
      "            \"_lang\": \"es\"\n",
      "          },\n",
      "          {\n",
      "            \"_value\": \"A\\u00f1o 2021\",\n",
      "            \"_lang\": \"es\"\n",
      "          },\n",
      "          {\n",
      "            \"_value\": \"A\\u00f1o 2022\",\n",
      "            \"_lang\": \"es\"\n",
      "          },\n",
      "          {\n",
      "            \"_value\": \"A\\u00f1o 2023\",\n",
      "            \"_lang\": \"es\"\n",
      "          },\n",
      "          {\n",
      "            \"_value\": \"Centros c\\u00edvicos\",\n",
      "            \"_lang\": \"es\"\n",
      "          },\n",
      "          {\n",
      "            \"_value\": \"Cultura\",\n",
      "            \"_lang\": \"es\"\n",
      "          },\n",
      "          {\n",
      "            \"_value\": \"Difusi\\u00f3n\",\n",
      "            \"_lang\": \"es\"\n",
      "          }\n",
      "        ],\n",
      "        \"language\": [\n",
      "          \"ca\",\n",
      "          \"en\",\n",
      "          \"es\"\n",
      "        ],\n",
      "        \"license\": \"https://creativecommons.org/licenses/by/4.0/deed.es_ES\",\n",
      "        \"publisher\": \"http://datos.gob.es/recurso/sector-publico/org/Organismo/L01080193\",\n",
      "        \"references\": [\n",
      "          \"https://opendata-ajuntament.barcelona.cat/data/ca/dataset/centres-civics-activitatsdifusio\",\n",
      "          \"https://opendata-ajuntament.barcelona.cat/data/en/dataset/centres-civics-activitatsdifusio\",\n",
      "          \"https://opendata-ajuntament.barcelona.cat/data/es/dataset/centres-civics-activitatsdifusio\"\n",
      "        ],\n",
      "        \"theme\": \"http://datos.gob.es/kos/sector-publico/sector/cultura-ocio\",\n",
      "        \"title\": [\n",
      "          {\n",
      "            \"_value\": \"Actividades de difusi\\u00f3n de los centros c\\u00edvicos de la ciutat de Barcelona\",\n",
      "            \"_lang\": \"es\"\n",
      "          },\n",
      "          {\n",
      "            \"_value\": \"Activitats de difusi\\u00f3 dels centres c\\u00edvics de la ciutat de Barcelona\",\n",
      "            \"_lang\": \"ca\"\n",
      "          },\n",
      "          {\n",
      "            \"_value\": \"Diffusion activities at civic centres in the city of Barcelona\",\n",
      "            \"_lang\": \"en\"\n",
      "          }\n",
      "        ],\n",
      "        \"type\": \"http://www.w3.org/ns/dcat#Dataset\"\n",
      "      },\n",
      "      {\n",
      "        \"_about\": \"https://datos.gob.es/catalogo/l01080193-actividades-de-formacion-para-profesionales-en-las-fabricas-de-creacion-de-la-ciudad-de-barcelona\",\n",
      "        \"accrualPeriodicity\": {\n",
      "          \"_about\": \"https://datos.gob.es/catalogo/l01080193-actividades-de-formacion-para-profesionales-en-las-fabricas-de-creacion-de-la-ciudad-de-barcelona/Frequency\",\n",
      "          \"value\": {\n",
      "            \"_about\": \"https://datos.gob.es/catalogo/l01080193-actividades-de-formacion-para-profesionales-en-las-fabricas-de-creacion-de-la-ciudad-de-barcelona/DurationDescription\",\n",
      "            \"years\": 1.0\n",
      "          }\n",
      "        },\n",
      "        \"description\": [\n",
      "          {\n",
      "            \"_value\": \"Actividades de formaci\\u00f3n para profesionales en las F\\u00e1bricas de Creaci\\u00f3n de la ciudad de Barcelona\",\n",
      "            \"_lang\": \"es\"\n",
      "          },\n",
      "          {\n",
      "            \"_value\": \"Activitats de formaci\\u00f3 per a professionals a les F\\u00e0briques de Creaci\\u00f3 de la ciutat de Barcelona\",\n",
      "            \"_lang\": \"ca\"\n",
      "          },\n",
      "          {\n",
      "            \"_value\": \"Training activities for professionals at Creation Factories in the city of Barcelona\",\n",
      "            \"_lang\": \"en\"\n",
      "          }\n",
      "        ],\n",
      "        \"distribution\": [\n",
      "          {\n",
      "            \"_about\": \"https://datos.gob.es/catalogo/l01080193-actividades-de-formacion-para-profesionales-en-las-fabricas-de-creacion-de-la-ciudad-de-barcelona/resource/2aa48205-9944-45a6-abb2-a1067d059e19\",\n",
      "            \"accessURL\": \"https://opendata-ajuntament.barcelona.cat/data/dataset/a604e3f7-c0ce-4477-8e7d-cbe4c39743f6/resource/89709c4b-07f0-4416-b5ab-76a113f5f0e1/download\",\n",
      "            \"format\": {\n",
      "              \"_about\": \"https://datos.gob.es/catalogo/l01080193-actividades-de-formacion-para-profesionales-en-las-fabricas-de-creacion-de-la-ciudad-de-barcelona/resource/2aa48205-9944-45a6-abb2-a1067d059e19/format\",\n",
      "              \"type\": \"http://purl.org/dc/terms/IMT\",\n",
      "              \"value\": \"text/csv\"\n",
      "            },\n",
      "            \"identifier\": \"https://opendata-ajuntament.barcelona.cat/data/dataset/espais-creacio-formacio-professionals/resource/89709c4b-07f0-4416-b5ab-76a113f5f0e1\",\n",
      "            \"title\": [\n",
      "              {\n",
      "                \"_value\": \"2021_fabriques_creacio_formacio.csv\",\n",
      "                \"_lang\": \"ca\"\n",
      "              },\n",
      "              {\n",
      "                \"_value\": \"2021_fabriques_creacio_formacio.csv\",\n",
      "                \"_lang\": \"es\"\n",
      "              },\n",
      "              {\n",
      "                \"_value\": \"2021_fabriques_creacio_formacio.csv\",\n",
      "                \"_lang\": \"en\"\n",
      "              }\n",
      "            ],\n",
      "            \"type\": \"http://www.w3.org/ns/dcat#Distribution\"\n",
      "          },\n",
      "          {\n",
      "            \"_about\": \"https://datos.gob.es/catalogo/l01080193-actividades-de-formacion-para-profesionales-en-las-fabricas-de-creacion-de-la-ciudad-de-barcelona/resource/359d9def-f3e1-4032-a9b0-a875003f5786\",\n",
      "            \"accessURL\": \"https://opendata-ajuntament.barcelona.cat/data/dataset/a604e3f7-c0ce-4477-8e7d-cbe4c39743f6/resource/3339b765-8cba-43ab-bd80-b12ca0560664/download\",\n",
      "            \"format\": {\n",
      "              \"_about\": \"https://datos.gob.es/catalogo/l01080193-actividades-de-formacion-para-profesionales-en-las-fabricas-de-creacion-de-la-ciudad-de-barcelona/resource/359d9def-f3e1-4032-a9b0-a875003f5786/format\",\n",
      "              \"type\": \"http://purl.org/dc/terms/IMT\",\n",
      "              \"value\": \"application/xml\"\n",
      "            },\n",
      "            \"identifier\": \"https://opendata-ajuntament.barcelona.cat/data/dataset/espais-creacio-formacio-professionals/resource/3339b765-8cba-43ab-bd80-b12ca0560664\",\n",
      "            \"title\": [\n",
      "              {\n",
      "                \"_value\": \"2016_fabriquescreacio-formaci\\u00f3.xml\",\n",
      "                \"_lang\": \"ca\"\n",
      "              },\n",
      "              {\n",
      "                \"_value\": \"2016_fabriquescreacio-formaci\\u00f3.xml\",\n",
      "                \"_lang\": \"es\"\n",
      "              },\n",
      "              {\n",
      "                \"_value\": \"2016_fabriquescreacio-formaci\\u00f3.xml\",\n",
      "                \"_lang\": \"en\"\n",
      "              }\n",
      "            ],\n",
      "            \"type\": \"http://www.w3.org/ns/dcat#Distribution\"\n",
      "          },\n",
      "          {\n",
      "            \"_about\": \"https://datos.gob.es/catalogo/l01080193-actividades-de-formacion-para-profesionales-en-las-fabricas-de-creacion-de-la-ciudad-de-barcelona/resource/380089a0-28d4-42df-b4fd-95c73acfc417\",\n",
      "            \"accessURL\": \"https://opendata-ajuntament.barcelona.cat/data/dataset/a604e3f7-c0ce-4477-8e7d-cbe4c39743f6/resource/5fc55fce-5f49-4e2f-925a-ec27f9ac66ab/download\",\n",
      "            \"format\": {\n",
      "              \"_about\": \"https://datos.gob.es/catalogo/l01080193-actividades-de-formacion-para-profesionales-en-las-fabricas-de-creacion-de-la-ciudad-de-barcelona/resource/380089a0-28d4-42df-b4fd-95c73acfc417/format\",\n",
      "              \"type\": \"http://purl.org/dc/terms/IMT\",\n",
      "              \"value\": \"text/csv\"\n",
      "            },\n",
      "            \"identifier\": \"https://opendata-ajuntament.barcelona.cat/data/dataset/espais-creacio-formacio-professionals/resource/5fc55fce-5f49-4e2f-925a-ec27f9ac66ab\",\n",
      "            \"title\": [\n",
      "              {\n",
      "                \"_value\": \"2023_fabriques_creacio_formacio.csv\",\n",
      "                \"_lang\": \"es\"\n",
      "              },\n",
      "              {\n",
      "                \"_value\": \"2023_fabriques_creacio_formacio.csv\",\n",
      "                \"_lang\": \"en\"\n",
      "              },\n",
      "              {\n",
      "                \"_value\": \"2023_fabriques_creacio_formacio.csv\",\n",
      "                \"_lang\": \"ca\"\n",
      "              }\n",
      "            ],\n",
      "            \"type\": \"http://www.w3.org/ns/dcat#Distribution\"\n",
      "          },\n",
      "          {\n",
      "            \"_about\": \"https://datos.gob.es/catalogo/l01080193-actividades-de-formacion-para-profesionales-en-las-fabricas-de-creacion-de-la-ciudad-de-barcelona/resource/388771af-6b05-4801-b6f1-198d26662124\",\n",
      "            \"accessURL\": \"https://opendata-ajuntament.barcelona.cat/data/dataset/a604e3f7-c0ce-4477-8e7d-cbe4c39743f6/resource/b21d8acb-803d-40f8-86f3-25a26f8942b1/download\",\n",
      "            \"format\": {\n",
      "              \"_about\": \"https://datos.gob.es/catalogo/l01080193-actividades-de-formacion-para-profesionales-en-las-fabricas-de-creacion-de-la-ciudad-de-barcelona/resource/388771af-6b05-4801-b6f1-198d26662124/format\",\n",
      "              \"type\": \"http://purl.org/dc/terms/IMT\",\n",
      "              \"value\": \"application/xml\"\n",
      "            },\n",
      "            \"identifier\": \"https://opendata-ajuntament.barcelona.cat/data/dataset/espais-creacio-formacio-professionals/resource/b21d8acb-803d-40f8-86f3-25a26f8942b1\",\n",
      "            \"title\": [\n",
      "              {\n",
      "                \"_value\": \"2019_fabriques_creacio_formacio.xml\",\n",
      "                \"_lang\": \"ca\"\n",
      "              },\n",
      "              {\n",
      "                \"_value\": \"2019_fabriques_creacio_formacio.xml\",\n",
      "                \"_lang\": \"es\"\n",
      "              },\n",
      "              {\n",
      "                \"_value\": \"2019_fabriques_creacio_formacio.xml\",\n",
      "                \"_lang\": \"en\"\n",
      "              }\n",
      "            ],\n",
      "            \"type\": \"http://www.w3.org/ns/dcat#Distribution\"\n",
      "          },\n",
      "          {\n",
      "            \"_about\": \"https://datos.gob.es/catalogo/l01080193-actividades-de-formacion-para-profesionales-en-las-fabricas-de-creacion-de-la-ciudad-de-barcelona/resource/4393a144-b006-49a1-b954-15c2d6e5a22c\",\n",
      "            \"accessURL\": \"https://opendata-ajuntament.barcelona.cat/data/dataset/a604e3f7-c0ce-4477-8e7d-cbe4c39743f6/resource/5542153c-a6a2-4bf7-af0b-ac0e7abf2156/download\",\n",
      "            \"format\": {\n",
      "              \"_about\": \"https://datos.gob.es/catalogo/l01080193-actividades-de-formacion-para-profesionales-en-las-fabricas-de-creacion-de-la-ciudad-de-barcelona/resource/4393a144-b006-49a1-b954-15c2d6e5a22c/format\",\n",
      "              \"type\": \"http://purl.org/dc/terms/IMT\",\n",
      "              \"value\": \"text/csv\"\n",
      "            },\n",
      "            \"identifier\": \"https://opendata-ajuntament.barcelona.cat/data/dataset/espais-creacio-formacio-professionals/resource/5542153c-a6a2-4bf7-af0b-ac0e7abf2156\",\n",
      "            \"title\": [\n",
      "              {\n",
      "                \"_value\": \"2020_fabriques_creacio_formacio.csv\",\n",
      "                \"_lang\": \"es\"\n",
      "              },\n",
      "              {\n",
      "                \"_value\": \"2020_fabriques_creacio_formacio.csv\",\n",
      "                \"_lang\": \"en\"\n",
      "              },\n",
      "              {\n",
      "                \"_value\": \"2020_fabriques_creacio_formacio.csv\",\n",
      "                \"_lang\": \"ca\"\n",
      "              }\n",
      "            ],\n",
      "            \"type\": \"http://www.w3.org/ns/dcat#Distribution\"\n",
      "          },\n",
      "          {\n",
      "            \"_about\": \"https://datos.gob.es/catalogo/l01080193-actividades-de-formacion-para-profesionales-en-las-fabricas-de-creacion-de-la-ciudad-de-barcelona/resource/43c4f2c4-3927-4bb8-8d32-fe5ce6199fcc\",\n",
      "            \"accessURL\": \"https://opendata-ajuntament.barcelona.cat/data/dataset/a604e3f7-c0ce-4477-8e7d-cbe4c39743f6/resource/2d0540a2-28a4-4444-9806-e02e568f1c91/download\",\n",
      "            \"format\": {\n",
      "              \"_about\": \"https://datos.gob.es/catalogo/l01080193-actividades-de-formacion-para-profesionales-en-las-fabricas-de-creacion-de-la-ciudad-de-barcelona/resource/43c4f2c4-3927-4bb8-8d32-fe5ce6199fcc/format\",\n",
      "              \"type\": \"http://purl.org/dc/terms/IMT\",\n",
      "              \"value\": \"application/xml\"\n",
      "            },\n",
      "            \"identifier\": \"https://opendata-ajuntament.barcelona.cat/data/dataset/espais-creacio-formacio-professionals/resource/2d0540a2-28a4-4444-9806-e02e568f1c91\",\n",
      "            \"title\": [\n",
      "              {\n",
      "                \"_value\": \"2015_fabriquescreacio-formaci\\u00f3.xml\",\n",
      "                \"_lang\": \"en\"\n",
      "              },\n",
      "              {\n",
      "                \"_value\": \"2015_fabriquescreacio-formaci\\u00f3.xml\",\n",
      "                \"_lang\": \"ca\"\n",
      "              },\n",
      "              {\n",
      "                \"_value\": \"2015_fabriquescreacio-formaci\\u00f3.xml\",\n",
      "                \"_lang\": \"es\"\n",
      "              }\n",
      "            ],\n",
      "            \"type\": \"http://www.w3.org/ns/dcat#Distribution\"\n",
      "          },\n",
      "          {\n",
      "            \"_about\": \"https://datos.gob.es/catalogo/l01080193-actividades-de-formacion-para-profesionales-en-las-fabricas-de-creacion-de-la-ciudad-de-barcelona/resource/6576caf6-492f-4221-a469-6f9e1e107253\",\n",
      "            \"accessURL\": \"https://opendata-ajuntament.barcelona.cat/data/dataset/a604e3f7-c0ce-4477-8e7d-cbe4c39743f6/resource/6e79c454-3295-48c9-a39c-e1ce1657b1d2/download\",\n",
      "            \"format\": {\n",
      "              \"_about\": \"https://datos.gob.es/catalogo/l01080193-actividades-de-formacion-para-profesionales-en-las-fabricas-de-creacion-de-la-ciudad-de-barcelona/resource/6576caf6-492f-4221-a469-6f9e1e107253/format\",\n",
      "              \"type\": \"http://purl.org/dc/terms/IMT\",\n",
      "              \"value\": \"text/csv\"\n",
      "            },\n",
      "            \"identifier\": \"https://opendata-ajuntament.barcelona.cat/data/dataset/espais-creacio-formacio-professionals/resource/6e79c454-3295-48c9-a39c-e1ce1657b1d2\",\n",
      "            \"title\": [\n",
      "              {\n",
      "                \"_value\": \"2017_fabriquescreacio-formaci\\u00f3.csv\",\n",
      "                \"_lang\": \"es\"\n",
      "              },\n",
      "              {\n",
      "                \"_value\": \"2017_fabriquescreacio-formaci\\u00f3.csv\",\n",
      "                \"_lang\": \"en\"\n",
      "              },\n",
      "              {\n",
      "                \"_value\": \"2017_fabriquescreacio-formaci\\u00f3.csv\",\n",
      "                \"_lang\": \"ca\"\n",
      "              }\n",
      "            ],\n",
      "            \"type\": \"http://www.w3.org/ns/dcat#Distribution\"\n",
      "          },\n",
      "          {\n",
      "            \"_about\": \"https://datos.gob.es/catalogo/l01080193-actividades-de-formacion-para-profesionales-en-las-fabricas-de-creacion-de-la-ciudad-de-barcelona/resource/6bff4a97-0c90-47f4-a4e0-bdcb53bfa2d2\",\n",
      "            \"accessURL\": \"https://opendata-ajuntament.barcelona.cat/data/dataset/a604e3f7-c0ce-4477-8e7d-cbe4c39743f6/resource/8d4a6645-fe09-4fa6-b196-1c93acc29ff1/download\",\n",
      "            \"format\": {\n",
      "              \"_about\": \"https://datos.gob.es/catalogo/l01080193-actividades-de-formacion-para-profesionales-en-las-fabricas-de-creacion-de-la-ciudad-de-barcelona/resource/6bff4a97-0c90-47f4-a4e0-bdcb53bfa2d2/format\",\n",
      "              \"type\": \"http://purl.org/dc/terms/IMT\",\n",
      "              \"value\": \"text/csv\"\n",
      "            },\n",
      "            \"identifier\": \"https://opendata-ajuntament.barcelona.cat/data/dataset/espais-creacio-formacio-professionals/resource/8d4a6645-fe09-4fa6-b196-1c93acc29ff1\",\n",
      "            \"title\": [\n",
      "              {\n",
      "                \"_value\": \"2019_fabriques_creacio_formacio.csv\",\n",
      "                \"_lang\": \"ca\"\n",
      "              },\n",
      "              {\n",
      "                \"_value\": \"2019_fabriques_creacio_formacio.csv\",\n",
      "                \"_lang\": \"es\"\n",
      "              },\n",
      "              {\n",
      "                \"_value\": \"2019_fabriques_creacio_formacio.csv\",\n",
      "                \"_lang\": \"en\"\n",
      "              }\n",
      "            ],\n",
      "            \"type\": \"http://www.w3.org/ns/dcat#Distribution\"\n",
      "          },\n",
      "          {\n",
      "            \"_about\": \"https://datos.gob.es/catalogo/l01080193-actividades-de-formacion-para-profesionales-en-las-fabricas-de-creacion-de-la-ciudad-de-barcelona/resource/6d600c49-40dd-4590-a4f3-a7f0b6a2cd94\",\n",
      "            \"accessURL\": \"https://opendata-ajuntament.barcelona.cat/data/dataset/a604e3f7-c0ce-4477-8e7d-cbe4c39743f6/resource/164c0031-317f-444a-910b-250010574fcf/download\",\n",
      "            \"format\": {\n",
      "              \"_about\": \"https://datos.gob.es/catalogo/l01080193-actividades-de-formacion-para-profesionales-en-las-fabricas-de-creacion-de-la-ciudad-de-barcelona/resource/6d600c49-40dd-4590-a4f3-a7f0b6a2cd94/format\",\n",
      "              \"type\": \"http://purl.org/dc/terms/IMT\",\n",
      "              \"value\": \"application/xml\"\n",
      "            },\n",
      "            \"identifier\": \"https://opendata-ajuntament.barcelona.cat/data/dataset/espais-creacio-formacio-professionals/resource/164c0031-317f-444a-910b-250010574fcf\",\n",
      "            \"title\": [\n",
      "              {\n",
      "                \"_value\": \"2017_fabriquescreacio-formaci\\u00f3.xml\",\n",
      "                \"_lang\": \"es\"\n",
      "              },\n",
      "              {\n",
      "                \"_value\": \"2017_fabriquescreacio-formaci\\u00f3.xml\",\n",
      "                \"_lang\": \"ca\"\n",
      "              },\n",
      "              {\n",
      "                \"_value\": \"2017_fabriquescreacio-formaci\\u00f3.xml\",\n",
      "                \"_lang\": \"en\"\n",
      "              }\n",
      "            ],\n",
      "            \"type\": \"http://www.w3.org/ns/dcat#Distribution\"\n",
      "          },\n",
      "          {\n",
      "            \"_about\": \"https://datos.gob.es/catalogo/l01080193-actividades-de-formacion-para-profesionales-en-las-fabricas-de-creacion-de-la-ciudad-de-barcelona/resource/79a840b6-73c3-4dd3-a01b-534879c87e2a\",\n",
      "            \"accessURL\": \"https://opendata-ajuntament.barcelona.cat/data/dataset/a604e3f7-c0ce-4477-8e7d-cbe4c39743f6/resource/aa5dc78d-2bff-4dba-8ef2-ce87e5b2a4bf/download\",\n",
      "            \"format\": {\n",
      "              \"_about\": \"https://datos.gob.es/catalogo/l01080193-actividades-de-formacion-para-profesionales-en-las-fabricas-de-creacion-de-la-ciudad-de-barcelona/resource/79a840b6-73c3-4dd3-a01b-534879c87e2a/format\",\n",
      "              \"type\": \"http://purl.org/dc/terms/IMT\",\n",
      "              \"value\": \"text/csv\"\n",
      "            },\n",
      "            \"identifier\": \"https://opendata-ajuntament.barcelona.cat/data/dataset/espais-creacio-formacio-professionals/resource/aa5dc78d-2bff-4dba-8ef2-ce87e5b2a4bf\",\n",
      "            \"title\": [\n",
      "              {\n",
      "                \"_value\": \"2016_fabriquescreacio-formaci\\u00f3.csv\",\n",
      "                \"_lang\": \"es\"\n",
      "              },\n",
      "              {\n",
      "                \"_value\": \"2016_fabriquescreacio-formaci\\u00f3.csv\",\n",
      "                \"_lang\": \"ca\"\n",
      "              },\n",
      "              {\n",
      "                \"_value\": \"2016_fabriquescreacio-formaci\\u00f3.csv\",\n",
      "                \"_lang\": \"en\"\n",
      "              }\n",
      "            ],\n",
      "            \"type\": \"http://www.w3.org/ns/dcat#Distribution\"\n",
      "          },\n",
      "          {\n",
      "            \"_about\": \"https://datos.gob.es/catalogo/l01080193-actividades-de-formacion-para-profesionales-en-las-fabricas-de-creacion-de-la-ciudad-de-barcelona/resource/912a70a6-82df-4aef-9a1e-78b8d7c000d8\",\n",
      "            \"accessURL\": \"https://opendata-ajuntament.barcelona.cat/data/dataset/a604e3f7-c0ce-4477-8e7d-cbe4c39743f6/resource/9ddb5f18-243b-492c-ae5e-1fb436e5f35d/download\",\n",
      "            \"format\": {\n",
      "              \"_about\": \"https://datos.gob.es/catalogo/l01080193-actividades-de-formacion-para-profesionales-en-las-fabricas-de-creacion-de-la-ciudad-de-barcelona/resource/912a70a6-82df-4aef-9a1e-78b8d7c000d8/format\",\n",
      "              \"type\": \"http://purl.org/dc/terms/IMT\",\n",
      "              \"value\": \"text/csv\"\n",
      "            },\n",
      "            \"identifier\": \"https://opendata-ajuntament.barcelona.cat/data/dataset/espais-creacio-formacio-professionals/resource/9ddb5f18-243b-492c-ae5e-1fb436e5f35d\",\n",
      "            \"title\": [\n",
      "              {\n",
      "                \"_value\": \"2022_fabriques_creacio_formacio.csv\",\n",
      "                \"_lang\": \"en\"\n",
      "              },\n",
      "              {\n",
      "                \"_value\": \"2022_fabriques_creacio_formacio.csv\",\n",
      "                \"_lang\": \"es\"\n",
      "              },\n",
      "              {\n",
      "                \"_value\": \"2022_fabriques_creacio_formacio.csv\",\n",
      "                \"_lang\": \"ca\"\n",
      "              }\n",
      "            ],\n",
      "            \"type\": \"http://www.w3.org/ns/dcat#Distribution\"\n",
      "          },\n",
      "          {\n",
      "            \"_about\": \"https://datos.gob.es/catalogo/l01080193-actividades-de-formacion-para-profesionales-en-las-fabricas-de-creacion-de-la-ciudad-de-barcelona/resource/96a4d285-86d9-486d-9fd3-01eee7d9a4f9\",\n",
      "            \"accessURL\": \"https://opendata-ajuntament.barcelona.cat/data/dataset/a604e3f7-c0ce-4477-8e7d-cbe4c39743f6/resource/3edfc4f1-a4ad-477f-9184-644566a46c4f/download\",\n",
      "            \"format\": {\n",
      "              \"_about\": \"https://datos.gob.es/catalogo/l01080193-actividades-de-formacion-para-profesionales-en-las-fabricas-de-creacion-de-la-ciudad-de-barcelona/resource/96a4d285-86d9-486d-9fd3-01eee7d9a4f9/format\",\n",
      "              \"type\": \"http://purl.org/dc/terms/IMT\",\n",
      "              \"value\": \"application/xml\"\n",
      "            },\n",
      "            \"identifier\": \"https://opendata-ajuntament.barcelona.cat/data/dataset/espais-creacio-formacio-professionals/resource/3edfc4f1-a4ad-477f-9184-644566a46c4f\",\n",
      "            \"title\": [\n",
      "              {\n",
      "                \"_value\": \"2014_fabriquescreacio-formaci\\u00f3.xml\",\n",
      "                \"_lang\": \"ca\"\n",
      "              },\n",
      "              {\n",
      "                \"_value\": \"2014_fabriquescreacio-formaci\\u00f3.xml\",\n",
      "                \"_lang\": \"en\"\n",
      "              },\n",
      "              {\n",
      "                \"_value\": \"2014_fabriquescreacio-formaci\\u00f3.xml\",\n",
      "                \"_lang\": \"es\"\n",
      "              }\n",
      "            ],\n",
      "            \"type\": \"http://www.w3.org/ns/dcat#Distribution\"\n",
      "          },\n",
      "          {\n",
      "            \"_about\": \"https://datos.gob.es/catalogo/l01080193-actividades-de-formacion-para-profesionales-en-las-fabricas-de-creacion-de-la-ciudad-de-barcelona/resource/b48cac04-85f9-43e3-a8ec-c47c1979380b\",\n",
      "            \"accessURL\": \"https://opendata-ajuntament.barcelona.cat/data/dataset/a604e3f7-c0ce-4477-8e7d-cbe4c39743f6/resource/8e1e00b6-fc7b-4e91-b42c-3a333ffa71c7/download\",\n",
      "            \"format\": {\n",
      "              \"_about\": \"https://datos.gob.es/catalogo/l01080193-actividades-de-formacion-para-profesionales-en-las-fabricas-de-creacion-de-la-ciudad-de-barcelona/resource/b48cac04-85f9-43e3-a8ec-c47c1979380b/format\",\n",
      "              \"type\": \"http://purl.org/dc/terms/IMT\",\n",
      "              \"value\": \"text/csv\"\n",
      "            },\n",
      "            \"identifier\": \"https://opendata-ajuntament.barcelona.cat/data/dataset/espais-creacio-formacio-professionals/resource/8e1e00b6-fc7b-4e91-b42c-3a333ffa71c7\",\n",
      "            \"title\": [\n",
      "              {\n",
      "                \"_value\": \"2014_fabriquescreacio-formaci\\u00f3.csv\",\n",
      "                \"_lang\": \"ca\"\n",
      "              },\n",
      "              {\n",
      "                \"_value\": \"2014_fabriquescreacio-formaci\\u00f3.csv\",\n",
      "                \"_lang\": \"es\"\n",
      "              },\n",
      "              {\n",
      "                \"_value\": \"2014_fabriquescreacio-formaci\\u00f3.csv\",\n",
      "                \"_lang\": \"en\"\n",
      "              }\n",
      "            ],\n",
      "            \"type\": \"http://www.w3.org/ns/dcat#Distribution\"\n",
      "          },\n",
      "          {\n",
      "            \"_about\": \"https://datos.gob.es/catalogo/l01080193-actividades-de-formacion-para-profesionales-en-las-fabricas-de-creacion-de-la-ciudad-de-barcelona/resource/c4585091-25d5-4c95-b207-dacd2f82c0a3\",\n",
      "            \"accessURL\": \"https://opendata-ajuntament.barcelona.cat/data/dataset/a604e3f7-c0ce-4477-8e7d-cbe4c39743f6/resource/842e63c7-8b0d-4e29-ba15-08e989a6082d/download\",\n",
      "            \"format\": {\n",
      "              \"_about\": \"https://datos.gob.es/catalogo/l01080193-actividades-de-formacion-para-profesionales-en-las-fabricas-de-creacion-de-la-ciudad-de-barcelona/resource/c4585091-25d5-4c95-b207-dacd2f82c0a3/format\",\n",
      "              \"type\": \"http://purl.org/dc/terms/IMT\",\n",
      "              \"value\": \"text/csv\"\n",
      "            },\n",
      "            \"identifier\": \"https://opendata-ajuntament.barcelona.cat/data/dataset/espais-creacio-formacio-professionals/resource/842e63c7-8b0d-4e29-ba15-08e989a6082d\",\n",
      "            \"title\": [\n",
      "              {\n",
      "                \"_value\": \"2018_fabriquescreacio-formaci\\u00f3.csv\",\n",
      "                \"_lang\": \"ca\"\n",
      "              },\n",
      "              {\n",
      "                \"_value\": \"2018_fabriquescreacio-formaci\\u00f3.csv\",\n",
      "                \"_lang\": \"es\"\n",
      "              },\n",
      "              {\n",
      "                \"_value\": \"2018_fabriquescreacio-formaci\\u00f3.csv\",\n",
      "                \"_lang\": \"en\"\n",
      "              }\n",
      "            ],\n",
      "            \"type\": \"http://www.w3.org/ns/dcat#Distribution\"\n",
      "          },\n",
      "          {\n",
      "            \"_about\": \"https://datos.gob.es/catalogo/l01080193-actividades-de-formacion-para-profesionales-en-las-fabricas-de-creacion-de-la-ciudad-de-barcelona/resource/c55f5735-9ab5-431f-8dc9-16f1b54b79e6\",\n",
      "            \"accessURL\": \"https://opendata-ajuntament.barcelona.cat/data/dataset/a604e3f7-c0ce-4477-8e7d-cbe4c39743f6/resource/0e1de139-cf56-4f2b-9d72-b56c0bae8959/download\",\n",
      "            \"format\": {\n",
      "              \"_about\": \"https://datos.gob.es/catalogo/l01080193-actividades-de-formacion-para-profesionales-en-las-fabricas-de-creacion-de-la-ciudad-de-barcelona/resource/c55f5735-9ab5-431f-8dc9-16f1b54b79e6/format\",\n",
      "              \"type\": \"http://purl.org/dc/terms/IMT\",\n",
      "              \"value\": \"application/xml\"\n",
      "            },\n",
      "            \"identifier\": \"https://opendata-ajuntament.barcelona.cat/data/dataset/espais-creacio-formacio-professionals/resource/0e1de139-cf56-4f2b-9d72-b56c0bae8959\",\n",
      "            \"title\": [\n",
      "              {\n",
      "                \"_value\": \"2023_fabriques_creacio_formacio.xml\",\n",
      "                \"_lang\": \"en\"\n",
      "              },\n",
      "              {\n",
      "                \"_value\": \"2023_fabriques_creacio_formacio.xml\",\n",
      "                \"_lang\": \"ca\"\n",
      "              },\n",
      "              {\n",
      "                \"_value\": \"2023_fabriques_creacio_formacio.xml\",\n",
      "                \"_lang\": \"es\"\n",
      "              }\n",
      "            ],\n",
      "            \"type\": \"http://www.w3.org/ns/dcat#Distribution\"\n",
      "          },\n",
      "          {\n",
      "            \"_about\": \"https://datos.gob.es/catalogo/l01080193-actividades-de-formacion-para-profesionales-en-las-fabricas-de-creacion-de-la-ciudad-de-barcelona/resource/ce5ed0f3-7482-4182-a4e1-7bdff9100952\",\n",
      "            \"accessURL\": \"https://opendata-ajuntament.barcelona.cat/data/dataset/a604e3f7-c0ce-4477-8e7d-cbe4c39743f6/resource/fd8a2dd7-f395-421a-99e5-4f421b4ea7d9/download\",\n",
      "            \"format\": {\n",
      "              \"_about\": \"https://datos.gob.es/catalogo/l01080193-actividades-de-formacion-para-profesionales-en-las-fabricas-de-creacion-de-la-ciudad-de-barcelona/resource/ce5ed0f3-7482-4182-a4e1-7bdff9100952/format\",\n",
      "              \"type\": \"http://purl.org/dc/terms/IMT\",\n",
      "              \"value\": \"text/csv\"\n",
      "            },\n",
      "            \"identifier\": \"https://opendata-ajuntament.barcelona.cat/data/dataset/espais-creacio-formacio-professionals/resource/fd8a2dd7-f395-421a-99e5-4f421b4ea7d9\",\n",
      "            \"title\": [\n",
      "              {\n",
      "                \"_value\": \"2015_fabriquescreacio-formaci\\u00f3.csv\",\n",
      "                \"_lang\": \"en\"\n",
      "              },\n",
      "              {\n",
      "                \"_value\": \"2015_fabriquescreacio-formaci\\u00f3.csv\",\n",
      "                \"_lang\": \"es\"\n",
      "              },\n",
      "              {\n",
      "                \"_value\": \"2015_fabriquescreacio-formaci\\u00f3.csv\",\n",
      "                \"_lang\": \"ca\"\n",
      "              }\n",
      "            ],\n",
      "            \"type\": \"http://www.w3.org/ns/dcat#Distribution\"\n",
      "          },\n",
      "          {\n",
      "            \"_about\": \"https://datos.gob.es/catalogo/l01080193-actividades-de-formacion-para-profesionales-en-las-fabricas-de-creacion-de-la-ciudad-de-barcelona/resource/e71ae67a-62c2-4cf5-b362-aa1cbdf5a946\",\n",
      "            \"accessURL\": \"https://opendata-ajuntament.barcelona.cat/data/dataset/a604e3f7-c0ce-4477-8e7d-cbe4c39743f6/resource/8683de1d-b395-4d5f-b02f-3840aec27ea6/download\",\n",
      "            \"format\": {\n",
      "              \"_about\": \"https://datos.gob.es/catalogo/l01080193-actividades-de-formacion-para-profesionales-en-las-fabricas-de-creacion-de-la-ciudad-de-barcelona/resource/e71ae67a-62c2-4cf5-b362-aa1cbdf5a946/format\",\n",
      "              \"type\": \"http://purl.org/dc/terms/IMT\",\n",
      "              \"value\": \"application/xml\"\n",
      "            },\n",
      "            \"identifier\": \"https://opendata-ajuntament.barcelona.cat/data/dataset/espais-creacio-formacio-professionals/resource/8683de1d-b395-4d5f-b02f-3840aec27ea6\",\n",
      "            \"title\": [\n",
      "              {\n",
      "                \"_value\": \"2022_fabriques_creacio_formacio.xml\",\n",
      "                \"_lang\": \"ca\"\n",
      "              },\n",
      "              {\n",
      "                \"_value\": \"2022_fabriques_creacio_formacio.xml\",\n",
      "                \"_lang\": \"es\"\n",
      "              },\n",
      "              {\n",
      "                \"_value\": \"2022_fabriques_creacio_formacio.xml\",\n",
      "                \"_lang\": \"en\"\n",
      "              }\n",
      "            ],\n",
      "            \"type\": \"http://www.w3.org/ns/dcat#Distribution\"\n",
      "          },\n",
      "          {\n",
      "            \"_about\": \"https://datos.gob.es/catalogo/l01080193-actividades-de-formacion-para-profesionales-en-las-fabricas-de-creacion-de-la-ciudad-de-barcelona/resource/f4932653-5205-4f81-b343-b401c9f1b7e7\",\n",
      "            \"accessURL\": \"https://opendata-ajuntament.barcelona.cat/data/dataset/a604e3f7-c0ce-4477-8e7d-cbe4c39743f6/resource/c8f9f832-c7bb-4536-a537-8c65dfea74e2/download\",\n",
      "            \"format\": {\n",
      "              \"_about\": \"https://datos.gob.es/catalogo/l01080193-actividades-de-formacion-para-profesionales-en-las-fabricas-de-creacion-de-la-ciudad-de-barcelona/resource/f4932653-5205-4f81-b343-b401c9f1b7e7/format\",\n",
      "              \"type\": \"http://purl.org/dc/terms/IMT\",\n",
      "              \"value\": \"application/xml\"\n",
      "            },\n",
      "            \"identifier\": \"https://opendata-ajuntament.barcelona.cat/data/dataset/espais-creacio-formacio-professionals/resource/c8f9f832-c7bb-4536-a537-8c65dfea74e2\",\n",
      "            \"title\": [\n",
      "              {\n",
      "                \"_value\": \"2021_fabriques_creacio_formacio.xml\",\n",
      "                \"_lang\": \"en\"\n",
      "              },\n",
      "              {\n",
      "                \"_value\": \"2021_fabriques_creacio_formacio.xml\",\n",
      "                \"_lang\": \"ca\"\n",
      "              },\n",
      "              {\n",
      "                \"_value\": \"2021_fabriques_creacio_formacio.xml\",\n",
      "                \"_lang\": \"es\"\n",
      "              }\n",
      "            ],\n",
      "            \"type\": \"http://www.w3.org/ns/dcat#Distribution\"\n",
      "          },\n",
      "          {\n",
      "            \"_about\": \"https://datos.gob.es/catalogo/l01080193-actividades-de-formacion-para-profesionales-en-las-fabricas-de-creacion-de-la-ciudad-de-barcelona/resource/f4a61568-1a42-435b-8a39-2bc5b8da5319\",\n",
      "            \"accessURL\": \"https://opendata-ajuntament.barcelona.cat/data/dataset/a604e3f7-c0ce-4477-8e7d-cbe4c39743f6/resource/54125240-dfb8-43b6-8215-830ab5e5c7ae/download\",\n",
      "            \"format\": {\n",
      "              \"_about\": \"https://datos.gob.es/catalogo/l01080193-actividades-de-formacion-para-profesionales-en-las-fabricas-de-creacion-de-la-ciudad-de-barcelona/resource/f4a61568-1a42-435b-8a39-2bc5b8da5319/format\",\n",
      "              \"type\": \"http://purl.org/dc/terms/IMT\",\n",
      "              \"value\": \"application/xml\"\n",
      "            },\n",
      "            \"identifier\": \"https://opendata-ajuntament.barcelona.cat/data/dataset/espais-creacio-formacio-professionals/resource/54125240-dfb8-43b6-8215-830ab5e5c7ae\",\n",
      "            \"title\": [\n",
      "              {\n",
      "                \"_value\": \"2020_fabriques_creacio_formacio.xml\",\n",
      "                \"_lang\": \"en\"\n",
      "              },\n",
      "              {\n",
      "                \"_value\": \"2020_fabriques_creacio_formacio.xml\",\n",
      "                \"_lang\": \"ca\"\n",
      "              },\n",
      "              {\n",
      "                \"_value\": \"2020_fabriques_creacio_formacio.xml\",\n",
      "                \"_lang\": \"es\"\n",
      "              }\n",
      "            ],\n",
      "            \"type\": \"http://www.w3.org/ns/dcat#Distribution\"\n",
      "          },\n",
      "          {\n",
      "            \"_about\": \"https://datos.gob.es/catalogo/l01080193-actividades-de-formacion-para-profesionales-en-las-fabricas-de-creacion-de-la-ciudad-de-barcelona/resource/fc59f72c-a503-45d0-973b-fccaa3bc70cb\",\n",
      "            \"accessURL\": \"https://opendata-ajuntament.barcelona.cat/data/dataset/a604e3f7-c0ce-4477-8e7d-cbe4c39743f6/resource/3d645219-51d8-4eda-8b30-004b6e56bba6/download\",\n",
      "            \"format\": {\n",
      "              \"_about\": \"https://datos.gob.es/catalogo/l01080193-actividades-de-formacion-para-profesionales-en-las-fabricas-de-creacion-de-la-ciudad-de-barcelona/resource/fc59f72c-a503-45d0-973b-fccaa3bc70cb/format\",\n",
      "              \"type\": \"http://purl.org/dc/terms/IMT\",\n",
      "              \"value\": \"application/xml\"\n",
      "            },\n",
      "            \"identifier\": \"https://opendata-ajuntament.barcelona.cat/data/dataset/espais-creacio-formacio-professionals/resource/3d645219-51d8-4eda-8b30-004b6e56bba6\",\n",
      "            \"title\": [\n",
      "              {\n",
      "                \"_value\": \"2018_fabriquescreacio-formaci\\u00f3.xml\",\n",
      "                \"_lang\": \"en\"\n",
      "              },\n",
      "              {\n",
      "                \"_value\": \"2018_fabriquescreacio-formaci\\u00f3.xml\",\n",
      "                \"_lang\": \"es\"\n",
      "              },\n",
      "              {\n",
      "                \"_value\": \"2018_fabriquescreacio-formaci\\u00f3.xml\",\n",
      "                \"_lang\": \"ca\"\n",
      "              }\n",
      "            ],\n",
      "            \"type\": \"http://www.w3.org/ns/dcat#Distribution\"\n",
      "          }\n",
      "        ],\n",
      "        \"identifier\": \"https://opendata-ajuntament.barcelona.cat/data/dataset/espais-creacio-formacio-professionals\",\n",
      "        \"issued\": \"mi\\u00e9, 08 jun 2016 22:00:00 GMT+0000\",\n",
      "        \"keyword\": [\n",
      "          {\n",
      "            \"_value\": \"A\\u00f1o 2014\",\n",
      "            \"_lang\": \"es\"\n",
      "          },\n",
      "          {\n",
      "            \"_value\": \"A\\u00f1o 2015\",\n",
      "            \"_lang\": \"es\"\n",
      "          },\n",
      "          {\n",
      "            \"_value\": \"A\\u00f1o 2016\",\n",
      "            \"_lang\": \"es\"\n",
      "          },\n",
      "          {\n",
      "            \"_value\": \"A\\u00f1o 2017\",\n",
      "            \"_lang\": \"es\"\n",
      "          },\n",
      "          {\n",
      "            \"_value\": \"A\\u00f1o 2018\",\n",
      "            \"_lang\": \"es\"\n",
      "          },\n",
      "          {\n",
      "            \"_value\": \"A\\u00f1o 2019\",\n",
      "            \"_lang\": \"es\"\n",
      "          },\n",
      "          {\n",
      "            \"_value\": \"A\\u00f1o 2020\",\n",
      "            \"_lang\": \"es\"\n",
      "          },\n",
      "          {\n",
      "            \"_value\": \"A\\u00f1o 2021\",\n",
      "            \"_lang\": \"es\"\n",
      "          },\n",
      "          {\n",
      "            \"_value\": \"A\\u00f1o 2022\",\n",
      "            \"_lang\": \"es\"\n",
      "          },\n",
      "          {\n",
      "            \"_value\": \"A\\u00f1o 2023\",\n",
      "            \"_lang\": \"es\"\n",
      "          },\n",
      "          {\n",
      "            \"_value\": \"Formaci\\u00f3n\",\n",
      "            \"_lang\": \"es\"\n",
      "          },\n",
      "          {\n",
      "            \"_value\": \"F\\u00e1bricas Creaci\\u00f3n\",\n",
      "            \"_lang\": \"es\"\n",
      "          }\n",
      "        ],\n",
      "        \"language\": [\n",
      "          \"ca\",\n",
      "          \"en\",\n",
      "          \"es\"\n",
      "        ],\n",
      "        \"license\": \"https://creativecommons.org/licenses/by/4.0/deed.es_ES\",\n",
      "        \"publisher\": \"http://datos.gob.es/recurso/sector-publico/org/Organismo/L01080193\",\n",
      "        \"references\": [\n",
      "          \"https://opendata-ajuntament.barcelona.cat/data/ca/dataset/espais-creacio-formacio-professionals\",\n",
      "          \"https://opendata-ajuntament.barcelona.cat/data/en/dataset/espais-creacio-formacio-professionals\",\n",
      "          \"https://opendata-ajuntament.barcelona.cat/data/es/dataset/espais-creacio-formacio-professionals\"\n",
      "        ],\n",
      "        \"theme\": \"http://datos.gob.es/kos/sector-publico/sector/cultura-ocio\",\n",
      "        \"title\": [\n",
      "          {\n",
      "            \"_value\": \"Actividades de formaci\\u00f3n para profesionales en las F\\u00e1bricas de Creaci\\u00f3n de la ciudad de Barcelona\",\n",
      "            \"_lang\": \"es\"\n",
      "          },\n",
      "          {\n",
      "            \"_value\": \"Activitats de formaci\\u00f3 per a professionals a les F\\u00e0briques de Creaci\\u00f3 de la ciutat de Barcelona\",\n",
      "            \"_lang\": \"ca\"\n",
      "          },\n",
      "          {\n",
      "            \"_value\": \"Training activities for professionals at Creation factories in the city of Barcelona\",\n",
      "            \"_lang\": \"en\"\n",
      "          }\n",
      "        ],\n",
      "        \"type\": \"http://www.w3.org/ns/dcat#Dataset\"\n",
      "      },\n",
      "      {\n",
      "        \"_about\": \"https://datos.gob.es/catalogo/a04003003-actuaciones-de-conservacion-y-mantenimiento-de-cauces\",\n",
      "        \"description\": [\n",
      "          {\n",
      "            \"_value\": \"<DIV STYLE=\\\"text-align:Left;\\\"><DIV><DIV><P STYLE=\\\"font-size:12pt\\\"><SPAN>(CA) Trams de torrents als que s' han fet treballs de conservaci\\u00f3 (treballs executats que han consistit en el desbrossament, neteja i retirada de materials diversos en les lleres dels torrents de les Illes Balears) extreta del Sistema d'Informaci\\u00f3 Geogr\\u00e0fica de gesti\\u00f3 dels treballs de conservaci\\u00f3 de la xarxa hidrol\\u00f2gica de les Illes Balears realitzats per la Direcci\\u00f3 General de Recursos H\\u00eddrics del Govern de les Illes Balears</SPAN></P><P STYLE=\\\"font-size:12pt\\\"><SPAN /></P><P STYLE=\\\"font-size:12pt\\\"><SPAN>(ES) Tramos de torrentes a los que se han hecho trabajos de conservaci\\u00f3n (trabajos ejecutados que han consistido en el desbroce, limpieza y retirada de materiales diversos en los cauces de los torrentes de las Islas Baleares) extra\\u00edda del Sistema de Informaci\\u00f3n Geogr\\u00e1fica de gesti\\u00f3n de los trabajos de conservaci\\u00f3n de la red hidrol\\u00f3gica de las Islas Baleares realizados por la Direcci\\u00f3 General de Recursos H\\u00eddrics del Govern de les Illes Balears</SPAN></P><P STYLE=\\\"font-size:12pt\\\"><SPAN /></P><P STYLE=\\\"font-size:12pt\\\"><SPAN>(EN) Conservation works on water courses (Executed works that have consisted of the clearing, cleaning and removal of various materials in the channels of the torrents of the Balearic Islands) extracted from the Geographic Information System of management of the conservation works of the hydrological network of the Balearic Islands carried out by the Direcci\\u00f3 General de Recursos H\\u00eddrics del Govern de les Illes Balears</SPAN></P></DIV></DIV></DIV>\",\n",
      "            \"_lang\": \"ca\"\n",
      "          },\n",
      "          {\n",
      "            \"_value\": \"Actuaciones de Conservaci\\u00f3n y Mantenimiento de Cauces\",\n",
      "            \"_lang\": \"es\"\n",
      "          },\n",
      "          {\n",
      "            \"_value\": \"Conservation and Maintenance Actions of Watercourses\",\n",
      "            \"_lang\": \"en\"\n",
      "          }\n",
      "        ],\n",
      "        \"distribution\": [\n",
      "          {\n",
      "            \"_about\": \"https://datos.gob.es/catalogo/a04003003-actuaciones-de-conservacion-y-mantenimiento-de-cauces/resource/7a768c9d-dba2-4ac9-b78a-88d17dfb3144\",\n",
      "            \"accessURL\": \"https://catalegdades.caib.cat/api/views/i4m5-f48c/rows.rdf?accessType=DOWNLOAD\",\n",
      "            \"format\": {\n",
      "              \"_about\": \"https://datos.gob.es/catalogo/a04003003-actuaciones-de-conservacion-y-mantenimiento-de-cauces/resource/7a768c9d-dba2-4ac9-b78a-88d17dfb3144/format\",\n",
      "              \"type\": \"http://purl.org/dc/terms/IMT\",\n",
      "              \"value\": \"application/rdf+xml\"\n",
      "            },\n",
      "            \"identifier\": \"https://catalegdades.caib.cat/api/views/i4m5-f48c/rows.rdf?accessType=DOWNLOAD\",\n",
      "            \"title\": [\n",
      "              {\n",
      "                \"_value\": \"Actuaciones de Conservaci\\u00f3n y Mantenimiento de Cauces\",\n",
      "                \"_lang\": \"es\"\n",
      "              },\n",
      "              {\n",
      "                \"_value\": \"Actuacions de Conservaci\\u00f3 i Manteniment de Lleres\",\n",
      "                \"_lang\": \"ca\"\n",
      "              },\n",
      "              {\n",
      "                \"_value\": \"Conservation and Maintenance Actions of Watercourses\",\n",
      "                \"_lang\": \"en\"\n",
      "              }\n",
      "            ],\n",
      "            \"type\": \"http://www.w3.org/ns/dcat#Distribution\"\n",
      "          },\n",
      "          {\n",
      "            \"_about\": \"https://datos.gob.es/catalogo/a04003003-actuaciones-de-conservacion-y-mantenimiento-de-cauces/resource/89d88910-4a92-4593-ab14-23282e505036\",\n",
      "            \"accessURL\": \"https://catalegdades.caib.cat/api/views/i4m5-f48c/rows.csv?accessType=DOWNLOAD\",\n",
      "            \"format\": {\n",
      "              \"_about\": \"https://datos.gob.es/catalogo/a04003003-actuaciones-de-conservacion-y-mantenimiento-de-cauces/resource/89d88910-4a92-4593-ab14-23282e505036/format\",\n",
      "              \"type\": \"http://purl.org/dc/terms/IMT\",\n",
      "              \"value\": \"text/csv\"\n",
      "            },\n",
      "            \"identifier\": \"https://catalegdades.caib.cat/api/views/i4m5-f48c/rows.csv?accessType=DOWNLOAD\",\n",
      "            \"title\": [\n",
      "              {\n",
      "                \"_value\": \"Actuaciones de Conservaci\\u00f3n y Mantenimiento de Cauces\",\n",
      "                \"_lang\": \"es\"\n",
      "              },\n",
      "              {\n",
      "                \"_value\": \"Actuacions de Conservaci\\u00f3 i Manteniment de Lleres\",\n",
      "                \"_lang\": \"ca\"\n",
      "              },\n",
      "              {\n",
      "                \"_value\": \"Conservation and Maintenance Actions of Watercourses\",\n",
      "                \"_lang\": \"en\"\n",
      "              }\n",
      "            ],\n",
      "            \"type\": \"http://www.w3.org/ns/dcat#Distribution\"\n",
      "          },\n",
      "          {\n",
      "            \"_about\": \"https://datos.gob.es/catalogo/a04003003-actuaciones-de-conservacion-y-mantenimiento-de-cauces/resource/968b64ec-f72d-4051-a9d7-79b52a49d97b\",\n",
      "            \"accessURL\": \"https://catalegdades.caib.cat/api/views/i4m5-f48c/rows.xml?accessType=DOWNLOAD\",\n",
      "            \"format\": {\n",
      "              \"_about\": \"https://datos.gob.es/catalogo/a04003003-actuaciones-de-conservacion-y-mantenimiento-de-cauces/resource/968b64ec-f72d-4051-a9d7-79b52a49d97b/format\",\n",
      "              \"type\": \"http://purl.org/dc/terms/IMT\",\n",
      "              \"value\": \"application/xml\"\n",
      "            },\n",
      "            \"identifier\": \"https://catalegdades.caib.cat/api/views/i4m5-f48c/rows.xml?accessType=DOWNLOAD\",\n",
      "            \"title\": [\n",
      "              {\n",
      "                \"_value\": \"Actuaciones de Conservaci\\u00f3n y Mantenimiento de Cauces\",\n",
      "                \"_lang\": \"es\"\n",
      "              },\n",
      "              {\n",
      "                \"_value\": \"Actuacions de Conservaci\\u00f3 i Manteniment de Lleres\",\n",
      "                \"_lang\": \"ca\"\n",
      "              },\n",
      "              {\n",
      "                \"_value\": \"Conservation and Maintenance Actions of Watercourses\",\n",
      "                \"_lang\": \"en\"\n",
      "              }\n",
      "            ],\n",
      "            \"type\": \"http://www.w3.org/ns/dcat#Distribution\"\n",
      "          },\n",
      "          {\n",
      "            \"_about\": \"https://datos.gob.es/catalogo/a04003003-actuaciones-de-conservacion-y-mantenimiento-de-cauces/resource/cd85c120-f070-43bd-bbd0-e3ba2b20ff82\",\n",
      "            \"accessURL\": \"https://catalegdades.caib.cat/api/views/i4m5-f48c/rows.json?accessType=DOWNLOAD\",\n",
      "            \"format\": {\n",
      "              \"_about\": \"https://datos.gob.es/catalogo/a04003003-actuaciones-de-conservacion-y-mantenimiento-de-cauces/resource/cd85c120-f070-43bd-bbd0-e3ba2b20ff82/format\",\n",
      "              \"type\": \"http://purl.org/dc/terms/IMT\",\n",
      "              \"value\": \"application/json\"\n",
      "            },\n",
      "            \"identifier\": \"https://catalegdades.caib.cat/api/views/i4m5-f48c/rows.json?accessType=DOWNLOAD\",\n",
      "            \"title\": [\n",
      "              {\n",
      "                \"_value\": \"Actuaciones de Conservaci\\u00f3n y Mantenimiento de Cauces\",\n",
      "                \"_lang\": \"es\"\n",
      "              },\n",
      "              {\n",
      "                \"_value\": \"Actuacions de Conservaci\\u00f3 i Manteniment de Lleres\",\n",
      "                \"_lang\": \"ca\"\n",
      "              },\n",
      "              {\n",
      "                \"_value\": \"Conservation and Maintenance Actions of Watercourses\",\n",
      "                \"_lang\": \"en\"\n",
      "              }\n",
      "            ],\n",
      "            \"type\": \"http://www.w3.org/ns/dcat#Distribution\"\n",
      "          }\n",
      "        ],\n",
      "        \"identifier\": \"https://catalegdades.caib.cat/d/i4m5-f48c\",\n",
      "        \"issued\": \"dom, 12 jun 2022 22:00:00 GMT+0000\",\n",
      "        \"keyword\": [\n",
      "          {\n",
      "            \"_value\": \"illes balears\",\n",
      "            \"_lang\": \"es\"\n",
      "          },\n",
      "          {\n",
      "            \"_value\": \"recursos h\\u00eddrics\",\n",
      "            \"_lang\": \"es\"\n",
      "          }\n",
      "        ],\n",
      "        \"language\": [\n",
      "          \"ca\",\n",
      "          \"en\",\n",
      "          \"es\"\n",
      "        ],\n",
      "        \"license\": \"http://creativecommons.org/licenses/by/4.0/legalcode\",\n",
      "        \"modified\": \"mar, 08 oct 2024 22:00:00 GMT+0000\",\n",
      "        \"publisher\": \"http://datos.gob.es/recurso/sector-publico/org/Organismo/A04003003\",\n",
      "        \"spatial\": \"http://datos.gob.es/recurso/sector-publico/territorio/Autonomia/Illes-Balears\",\n",
      "        \"theme\": \"http://datos.gob.es/kos/sector-publico/sector/medio-ambiente\",\n",
      "        \"title\": [\n",
      "          {\n",
      "            \"_value\": \"Actuaciones de Conservaci\\u00f3n y Mantenimiento de Cauces\",\n",
      "            \"_lang\": \"es\"\n",
      "          },\n",
      "          {\n",
      "            \"_value\": \"Actuacions de Conservaci\\u00f3 i Manteniment de Lleres\",\n",
      "            \"_lang\": \"ca\"\n",
      "          },\n",
      "          {\n",
      "            \"_value\": \"Conservation and Maintenance Actions of Watercourses\",\n",
      "            \"_lang\": \"en\"\n",
      "          }\n",
      "        ],\n",
      "        \"type\": \"http://www.w3.org/ns/dcat#Dataset\"\n",
      "      },\n",
      "      {\n",
      "        \"_about\": \"https://datos.gob.es/catalogo/a09002970-actualidad-del-departamento-de-agricultura-ganaderia-pesca-y-alimentacion\",\n",
      "        \"accrualPeriodicity\": {\n",
      "          \"_about\": \"https://datos.gob.es/catalogo/a09002970-actualidad-del-departamento-de-agricultura-ganaderia-pesca-y-alimentacion/Frequency\",\n",
      "          \"value\": {\n",
      "            \"_about\": \"https://datos.gob.es/catalogo/a09002970-actualidad-del-departamento-de-agricultura-ganaderia-pesca-y-alimentacion/DurationDescription\",\n",
      "            \"days\": 1.0\n",
      "          }\n",
      "        },\n",
      "        \"description\": [\n",
      "          {\n",
      "            \"_value\": \"Darreres not\\u00edcies que es publiquen a la p\\u00e0gina d'inici del portal del Departament d'Agricultura.\",\n",
      "            \"_lang\": \"es\"\n",
      "          },\n",
      "          {\n",
      "            \"_value\": \"Darreres not\\u00edcies que es publiquen a la p\\u00e0gina d'inici del portal del Departament d'Agricultura.\",\n",
      "            \"_lang\": \"en\"\n",
      "          },\n",
      "          {\n",
      "            \"_value\": \"Darreres not\\u00edcies que es publiquen a la p\\u00e0gina d'inici del portal del Departament d'Agricultura.\",\n",
      "            \"_lang\": \"ca\"\n",
      "          }\n",
      "        ],\n",
      "        \"distribution\": {\n",
      "          \"_about\": \"https://datos.gob.es/catalogo/a09002970-actualidad-del-departamento-de-agricultura-ganaderia-pesca-y-alimentacion/resource/ea3be287-d3cf-45f3-9815-eabbd6bfa347\",\n",
      "          \"accessURL\": \"http://agricultura.gencat.cat/ca/rss/\",\n",
      "          \"format\": {\n",
      "            \"_about\": \"https://datos.gob.es/catalogo/a09002970-actualidad-del-departamento-de-agricultura-ganaderia-pesca-y-alimentacion/resource/ea3be287-d3cf-45f3-9815-eabbd6bfa347/format\",\n",
      "            \"type\": \"http://purl.org/dc/terms/IMT\",\n",
      "            \"value\": \"text/html\"\n",
      "          },\n",
      "          \"identifier\": \"https://analisi.transparenciacatalunya.cat/d/9n3i-z5mw\",\n",
      "          \"title\": [\n",
      "            {\n",
      "              \"_value\": \"Actualidad del Departamento de Agricultura, Ganader\\u00eda, Pesca y Alimentaci\\u00f3n\",\n",
      "              \"_lang\": \"es\"\n",
      "            },\n",
      "            {\n",
      "              \"_value\": \"Actualitat del Departament d'Agricultura, Ramaderia, Pesca i Alimentaci\\u00f3\",\n",
      "              \"_lang\": \"ca\"\n",
      "            },\n",
      "            {\n",
      "              \"_value\": \"News from the Department of Agriculture, Livestock, Fisheries and Food\",\n",
      "              \"_lang\": \"en\"\n",
      "            }\n",
      "          ],\n",
      "          \"type\": \"http://www.w3.org/ns/dcat#Distribution\"\n",
      "        },\n",
      "        \"identifier\": \"https://analisi.transparenciacatalunya.cat/api/views/9n3i-z5mw\",\n",
      "        \"issued\": \"mi\\u00e9, 22 feb 2017 23:00:00 GMT+0000\",\n",
      "        \"keyword\": [\n",
      "          {\n",
      "            \"_value\": \"agricultura\",\n",
      "            \"_lang\": \"es\"\n",
      "          },\n",
      "          {\n",
      "            \"_value\": \"not\\u00edcies\",\n",
      "            \"_lang\": \"es\"\n",
      "          },\n",
      "          {\n",
      "            \"_value\": \"ods12_producci\\u00f3 i consum responsable\",\n",
      "            \"_lang\": \"es\"\n",
      "          },\n",
      "          {\n",
      "            \"_value\": \"ods13_acci\\u00f3 pel clima\",\n",
      "            \"_lang\": \"es\"\n",
      "          },\n",
      "          {\n",
      "            \"_value\": \"ods4_educaci\\u00f3 de qualitat\",\n",
      "            \"_lang\": \"es\"\n",
      "          }\n",
      "        ],\n",
      "        \"language\": \"ca\",\n",
      "        \"license\": \"https://administraciodigital.gencat.cat/ca/dades/dades-obertes/informacio-practica/llicencies/\",\n",
      "        \"modified\": \"dom, 06 abr 2025 22:00:00 GMT+0000\",\n",
      "        \"publisher\": \"http://datos.gob.es/recurso/sector-publico/org/Organismo/A09002970\",\n",
      "        \"references\": \"https://analisi.transparenciacatalunya.cat/d/9n3i-z5mw\",\n",
      "        \"spatial\": \"http://datos.gob.es/recurso/sector-publico/territorio/Autonomia/Cataluna\",\n",
      "        \"theme\": \"http://datos.gob.es/kos/sector-publico/sector/medio-rural-pesca\",\n",
      "        \"title\": [\n",
      "          {\n",
      "            \"_value\": \"Actualidad del Departamento de Agricultura, Ganader\\u00eda, Pesca y Alimentaci\\u00f3n\",\n",
      "            \"_lang\": \"es\"\n",
      "          },\n",
      "          {\n",
      "            \"_value\": \"Actualitat del Departament d'Agricultura, Ramaderia, Pesca i Alimentaci\\u00f3\",\n",
      "            \"_lang\": \"ca\"\n",
      "          },\n",
      "          {\n",
      "            \"_value\": \"News from the Department of Agriculture, Livestock, Fisheries and Food\",\n",
      "            \"_lang\": \"en\"\n",
      "          }\n",
      "        ],\n",
      "        \"type\": \"http://www.w3.org/ns/dcat#Dataset\"\n",
      "      }\n",
      "    ],\n",
      "    \"itemsPerPage\": 20,\n",
      "    \"next\": \"http://datos.gob.es/apidata/catalog/dataset.json?_page=1&_sort=title\",\n",
      "    \"page\": 0,\n",
      "    \"startIndex\": 1,\n",
      "    \"type\": \"http://purl.org/linked-data/api/vocab#Page\"\n",
      "  }\n",
      "}\n"
     ]
    }
   ],
   "source": [
    "#url = \"https://datos.gob.es/apidata/catalog/dataset/a10002983-resultados-de-elecciones-europeas?\"\n",
    "#/a10002983\n",
    "#url = \"https://datos.gob.es/apidata/catalog/publisher?_sort=notation&_pageSize=10&_page=1\"\n",
    "#url = f\"https://datos.gob.es/apidata/catalog/dataset?_sort=title&_publisher={gv_id}\"\n",
    "url = \"https://datos.gob.es/apidata/catalog/dataset?_sort=title&_pageSize=10\"\n",
    "url = \"https://datos.gob.es/apidata/catalog/dataset?_sort=title&_pageSize=20\"\n",
    "\n",
    "\n",
    "ua = UserAgent()\n",
    "headers = {'User-Agent': ua.random}\n",
    "response = requests.get(url, headers=headers)\n",
    "\n",
    "\n",
    "if response.status_code == 200:\n",
    "    data = response.json()\n",
    "\n",
    "    # Imprimir toda la estructura del JSON para inspección manual\n",
    "    print(\"Estructura de la respuesta:\")\n",
    "    print(json.dumps(data, indent=2))\n",
    "\n",
    "else:\n",
    "    print(\"Error al obtener los datasets:\", response.status_code)\n",
    "\n",
    "\n"
   ]
  },
  {
   "cell_type": "code",
   "execution_count": 30,
   "id": "9f030268",
   "metadata": {},
   "outputs": [
    {
     "ename": "KeyError",
     "evalue": "'prefLabel'",
     "output_type": "error",
     "traceback": [
      "\u001b[1;31m---------------------------------------------------------------------------\u001b[0m",
      "\u001b[1;31mKeyError\u001b[0m                                  Traceback (most recent call last)",
      "Cell \u001b[1;32mIn[30], line 5\u001b[0m\n\u001b[0;32m      2\u001b[0m data \u001b[38;5;241m=\u001b[39m response\u001b[38;5;241m.\u001b[39mjson()\n\u001b[0;32m      4\u001b[0m \u001b[38;5;66;03m# Filtrar los resultados para encontrar la Generalitat Valenciana\u001b[39;00m\n\u001b[1;32m----> 5\u001b[0m gv_publisher \u001b[38;5;241m=\u001b[39m [item \u001b[38;5;28;01mfor\u001b[39;00m item \u001b[38;5;129;01min\u001b[39;00m data[\u001b[38;5;124m\"\u001b[39m\u001b[38;5;124mresult\u001b[39m\u001b[38;5;124m\"\u001b[39m][\u001b[38;5;124m\"\u001b[39m\u001b[38;5;124mitems\u001b[39m\u001b[38;5;124m\"\u001b[39m] \u001b[38;5;28;01mif\u001b[39;00m \u001b[38;5;124m\"\u001b[39m\u001b[38;5;124mGeneralitat Valenciana\u001b[39m\u001b[38;5;124m\"\u001b[39m \u001b[38;5;129;01min\u001b[39;00m \u001b[43mitem\u001b[49m\u001b[43m[\u001b[49m\u001b[38;5;124;43m\"\u001b[39;49m\u001b[38;5;124;43mprefLabel\u001b[39;49m\u001b[38;5;124;43m\"\u001b[39;49m\u001b[43m]\u001b[49m]\n\u001b[0;32m      7\u001b[0m \u001b[38;5;28;01mif\u001b[39;00m gv_publisher:\n\u001b[0;32m      8\u001b[0m     \u001b[38;5;28mprint\u001b[39m(\u001b[38;5;124m\"\u001b[39m\u001b[38;5;124mPublicador encontrado:\u001b[39m\u001b[38;5;124m\"\u001b[39m)\n",
      "\u001b[1;31mKeyError\u001b[0m: 'prefLabel'"
     ]
    }
   ],
   "source": [
    "if response.status_code == 200:\n",
    "    data = response.json()\n",
    "\n",
    "    # Filtrar los resultados para encontrar la Generalitat Valenciana\n",
    "    gv_publisher = [item for item in data[\"result\"][\"items\"] if \"Generalitat Valenciana\" in item[\"prefLabel\"]]\n",
    "\n",
    "    if gv_publisher:\n",
    "        print(\"Publicador encontrado:\")\n",
    "        print(gv_publisher)\n",
    "    else:\n",
    "        print(\"No se encontraron resultados para la Generalitat Valenciana.\")\n",
    "else:\n",
    "    print(\"Error al obtener los datos:\", response.status_code)\n"
   ]
  },
  {
   "cell_type": "code",
   "execution_count": 31,
   "id": "aa94018a",
   "metadata": {},
   "outputs": [
    {
     "ename": "KeyError",
     "evalue": "'prefLabel'",
     "output_type": "error",
     "traceback": [
      "\u001b[1;31m---------------------------------------------------------------------------\u001b[0m",
      "\u001b[1;31mKeyError\u001b[0m                                  Traceback (most recent call last)",
      "Cell \u001b[1;32mIn[31], line 5\u001b[0m\n\u001b[0;32m      2\u001b[0m data \u001b[38;5;241m=\u001b[39m response\u001b[38;5;241m.\u001b[39mjson()\n\u001b[0;32m      4\u001b[0m \u001b[38;5;66;03m# Filtrar los resultados para encontrar la Generalitat Valenciana\u001b[39;00m\n\u001b[1;32m----> 5\u001b[0m gv_publisher \u001b[38;5;241m=\u001b[39m [item \u001b[38;5;28;01mfor\u001b[39;00m item \u001b[38;5;129;01min\u001b[39;00m data[\u001b[38;5;124m\"\u001b[39m\u001b[38;5;124mresult\u001b[39m\u001b[38;5;124m\"\u001b[39m][\u001b[38;5;124m\"\u001b[39m\u001b[38;5;124mitems\u001b[39m\u001b[38;5;124m\"\u001b[39m] \u001b[38;5;28;01mif\u001b[39;00m \u001b[38;5;124m\"\u001b[39m\u001b[38;5;124mGeneralitat Valenciana\u001b[39m\u001b[38;5;124m\"\u001b[39m \u001b[38;5;129;01min\u001b[39;00m \u001b[43mitem\u001b[49m\u001b[43m[\u001b[49m\u001b[38;5;124;43m\"\u001b[39;49m\u001b[38;5;124;43mprefLabel\u001b[39;49m\u001b[38;5;124;43m\"\u001b[39;49m\u001b[43m]\u001b[49m]\n\u001b[0;32m      7\u001b[0m \u001b[38;5;28;01mif\u001b[39;00m gv_publisher:\n\u001b[0;32m      8\u001b[0m     \u001b[38;5;66;03m# Obtener el identificador de la Generalitat Valenciana\u001b[39;00m\n\u001b[0;32m      9\u001b[0m     gv_id \u001b[38;5;241m=\u001b[39m gv_publisher[\u001b[38;5;241m0\u001b[39m][\u001b[38;5;124m\"\u001b[39m\u001b[38;5;124mnotation\u001b[39m\u001b[38;5;124m\"\u001b[39m]\n",
      "\u001b[1;31mKeyError\u001b[0m: 'prefLabel'"
     ]
    }
   ],
   "source": [
    "if response.status_code == 200:\n",
    "    data = response.json()\n",
    "    \n",
    "    # Filtrar los resultados para encontrar la Generalitat Valenciana\n",
    "    gv_publisher = [item for item in data[\"result\"][\"items\"] if \"Generalitat Valenciana\" in item[\"prefLabel\"]]\n",
    "\n",
    "    if gv_publisher:\n",
    "        # Obtener el identificador de la Generalitat Valenciana\n",
    "        gv_id = gv_publisher[0][\"notation\"]\n",
    "        print(\"Identificador de la Generalitat Valenciana:\", gv_id)\n",
    "\n",
    "        # Construir la URL para consultar los datasets de la Generalitat Valenciana\n",
    "        datasets_url = f\"https://datos.gob.es/apidata/catalog/dataset?_sort=title&_publisher={gv_id}\"\n",
    "\n",
    "        # Obtener los datasets\n",
    "        datasets_response = requests.get(datasets_url)\n",
    "\n",
    "        if datasets_response.status_code == 200:\n",
    "            datasets_data = datasets_response.json()\n",
    "            print(\"Datasets disponibles:\")\n",
    "            \n",
    "            for item in datasets_data[\"result\"][\"items\"]:\n",
    "                print(f\"Título: {item.get('title', 'No disponible')}\")\n",
    "                print(f\"Enlace al dataset: {item['_about']}\\n\")\n",
    "        else:\n",
    "            print(\"Error al obtener los datasets:\", datasets_response.status_code)\n",
    "    else:\n",
    "        print(\"No se encontraron resultados para la Generalitat Valenciana.\")\n",
    "else:\n",
    "    print(\"Error al obtener los datos:\", response.status_code)"
   ]
  },
  {
   "cell_type": "markdown",
   "id": "e07401a8",
   "metadata": {},
   "source": [
    "### 3. Obtención de datos mediante SQLALCHEMY"
   ]
  },
  {
   "cell_type": "code",
   "execution_count": 32,
   "id": "d0c3ed5e",
   "metadata": {},
   "outputs": [],
   "source": [
    "import sqlite3\n",
    "from sqlalchemy import create_engine\n"
   ]
  },
  {
   "cell_type": "code",
   "execution_count": 33,
   "id": "781ffd32",
   "metadata": {},
   "outputs": [],
   "source": [
    "# Datos de conexión (reemplaza con los tuyos)\n",
    "DB_USER = \"avnadmin\"\n",
    "DB_PASSWORD = \"AVNS_8o_RHfxOyLZsEQyiZVD\"\n",
    "DB_HOST = \"mysql-22b2af27-proyecto-456.g.aivencloud.com\"\n",
    "DB_PORT = \"11364\"\n",
    "DB_NAME = \"defaultdb\"\n",
    "\n",
    "# Crear la cadena de conexión\n",
    "bbdd_aiven_sql = f\"mysql+pymysql://{DB_USER}:{DB_PASSWORD}@{DB_HOST}:{DB_PORT}/{DB_NAME}\"\n",
    "engine = create_engine(bbdd_aiven_sql, echo=False)\n"
   ]
  },
  {
   "cell_type": "code",
   "execution_count": 34,
   "id": "16bb4d70",
   "metadata": {},
   "outputs": [
    {
     "data": {
      "text/html": [
       "<div>\n",
       "<style scoped>\n",
       "    .dataframe tbody tr th:only-of-type {\n",
       "        vertical-align: middle;\n",
       "    }\n",
       "\n",
       "    .dataframe tbody tr th {\n",
       "        vertical-align: top;\n",
       "    }\n",
       "\n",
       "    .dataframe thead th {\n",
       "        text-align: right;\n",
       "    }\n",
       "</style>\n",
       "<table border=\"1\" class=\"dataframe\">\n",
       "  <thead>\n",
       "    <tr style=\"text-align: right;\">\n",
       "      <th></th>\n",
       "      <th>AÑOSID</th>\n",
       "      <th>AÑO</th>\n",
       "    </tr>\n",
       "  </thead>\n",
       "  <tbody>\n",
       "    <tr>\n",
       "      <th>0</th>\n",
       "      <td>1</td>\n",
       "      <td>2019</td>\n",
       "    </tr>\n",
       "    <tr>\n",
       "      <th>1</th>\n",
       "      <td>2</td>\n",
       "      <td>2014</td>\n",
       "    </tr>\n",
       "    <tr>\n",
       "      <th>2</th>\n",
       "      <td>3</td>\n",
       "      <td>2009</td>\n",
       "    </tr>\n",
       "  </tbody>\n",
       "</table>\n",
       "</div>"
      ],
      "text/plain": [
       "   AÑOSID   AÑO\n",
       "0       1  2019\n",
       "1       2  2014\n",
       "2       3  2009"
      ]
     },
     "execution_count": 34,
     "metadata": {},
     "output_type": "execute_result"
    }
   ],
   "source": [
    "elecciones_df = pd.read_sql_table(\"AÑOS\", con=engine)\n",
    "elecciones_df"
   ]
  }
 ],
 "metadata": {
  "kernelspec": {
   "display_name": "Python 3",
   "language": "python",
   "name": "python3"
  },
  "language_info": {
   "codemirror_mode": {
    "name": "ipython",
    "version": 3
   },
   "file_extension": ".py",
   "mimetype": "text/x-python",
   "name": "python",
   "nbconvert_exporter": "python",
   "pygments_lexer": "ipython3",
   "version": "3.13.2"
  }
 },
 "nbformat": 4,
 "nbformat_minor": 5
}
