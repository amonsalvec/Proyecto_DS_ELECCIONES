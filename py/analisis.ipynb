{
 "cells": [
  {
   "cell_type": "markdown",
   "id": "0285384a",
   "metadata": {},
   "source": [
    "## DATA SCIENTIST\n",
    "\n",
    "\n"
   ]
  },
  {
   "cell_type": "markdown",
   "id": "a7e90a3b",
   "metadata": {},
   "source": [
    "### 1. Obtención de datos mediante url\n",
    "\n",
    "Una de las opciones para la obtención de datos a traves de internet es hacer peticiones directamente a los repositorios\n",
    "que alojan los datos. En este caso, vamos a obtener los datos de la elección europea de 2009, 2014 y 2019 en la Comunidad de valencia a través de [la plataforma centralizadora del gobierno](https://datos.gob.es/es/catalogo?q=elecciones+europeas&sort=score+desc%2C+metadata_created+desc). Hacemos uso de la librería requests para realizar las peticiones y la librería pandas para manipular los datos obtenidos. Obviamente esta es una de las distintas maneras que dispone un Data Scientist de obtener los datos de la web. En la próxima sección mostraremos como obtenerlas a partir de una base de datos que hemos creado previamente siguiendo el proceso de un Data Engineer."
   ]
  },
  {
   "cell_type": "code",
   "execution_count": 2,
   "id": "5a568cdf",
   "metadata": {},
   "outputs": [],
   "source": [
    "# DATA from API's\n",
    "import requests\n",
    "import json\n",
    "import pandas as pd\n",
    "import numpy as np\n",
    "import matplotlib.pyplot as plt\n",
    "import seaborn as sns\n",
    "import statistics\n",
    "from bs4 import BeautifulSoup as bs\n",
    "import zipfile\n",
    "import scipy.stats as stats\n",
    "#from scipy import stats\n",
    "import plotly.express as px\n",
    "import plotly.graph_objects as go"
   ]
  },
  {
   "cell_type": "code",
   "execution_count": 3,
   "id": "38070494",
   "metadata": {},
   "outputs": [],
   "source": [
    "# Esto es para indicar al dominio web que estamos haciendo la peticion desde una dirección fiable.\n",
    "from fake_useragent import UserAgent\n",
    "ua = UserAgent()\n",
    "headers = {'User-Agent': ua.random}"
   ]
  },
  {
   "cell_type": "code",
   "execution_count": 4,
   "id": "df9aad56",
   "metadata": {},
   "outputs": [],
   "source": [
    "# Cargamos los datos desde el repositorio original:\n",
    "# https://datos.gob.es/es/catalogo?q=elecciones+europeas&sort=score+desc,+metadata_created+desc\n",
    "# Para ello, creamos un diccionario con las url de los datasets\n",
    "# Y creamos un diccionario con los dataframes\n",
    "anyos = [\"2009\",\"2014\",\"2019\"]\n",
    "p_url = {\"2009\":\"https://dadesobertes.gva.es/dataset/46630eb4-0457-421c-b4d2-64a80130143e/resource/a0a8e5b0-efe9-4a70-bcf3-6c1cfecc309c/download/resultados-elecciones-europeas-1-2009.csv\",\n",
    "         \"2014\":\"https://dadesobertes.gva.es/dataset/7e333a8e-3119-4e7c-9cc3-c4b3d239dbbb/resource/3d6e04ad-3c03-4f99-9959-64a35f34daf4/download/resultados-elecciones-europeas-1-2014.csv\",\n",
    "         \"2019\":\"https://dadesobertes.gva.es/dataset/3dc860d0-4427-4cc4-a616-8d71c1f6c106/resource/0581a6fe-88bb-4770-8f5d-46194d21a586/download/resultados-elecciones-europeas-1-2019.csv\"\n",
    "         }\n",
    "\n",
    "df_ElecUE ={}\n",
    "\n",
    "for anyo in anyos:\n",
    "  url = p_url[anyo]\n",
    "  df_ElecUE[anyo] = pd.read_csv(url,sep=\";\")\n",
    "  \n"
   ]
  },
  {
   "cell_type": "code",
   "execution_count": 5,
   "id": "7023dd5f",
   "metadata": {},
   "outputs": [
    {
     "data": {
      "text/html": [
       "<div>\n",
       "<style scoped>\n",
       "    .dataframe tbody tr th:only-of-type {\n",
       "        vertical-align: middle;\n",
       "    }\n",
       "\n",
       "    .dataframe tbody tr th {\n",
       "        vertical-align: top;\n",
       "    }\n",
       "\n",
       "    .dataframe thead th {\n",
       "        text-align: right;\n",
       "    }\n",
       "</style>\n",
       "<table border=\"1\" class=\"dataframe\">\n",
       "  <thead>\n",
       "    <tr style=\"text-align: right;\">\n",
       "      <th></th>\n",
       "      <th>ANYO</th>\n",
       "      <th>NUM_ELEC</th>\n",
       "      <th>COD_PROV</th>\n",
       "      <th>PROVINCIA</th>\n",
       "      <th>COD_COMARCA</th>\n",
       "      <th>COMARCA</th>\n",
       "      <th>COD_MUNICIPIO</th>\n",
       "      <th>MUNICIPIO</th>\n",
       "      <th>DISTRITO</th>\n",
       "      <th>SECCION</th>\n",
       "      <th>...</th>\n",
       "      <th>CENSO</th>\n",
       "      <th>VOTANTES</th>\n",
       "      <th>VALIDOS</th>\n",
       "      <th>BLANCOS</th>\n",
       "      <th>ABSTENCIONES</th>\n",
       "      <th>NULOS</th>\n",
       "      <th>CANDIDATO_COD</th>\n",
       "      <th>CANDIDATO_SIGLAS</th>\n",
       "      <th>CANDIDATO_DESC</th>\n",
       "      <th>VOTOS</th>\n",
       "    </tr>\n",
       "  </thead>\n",
       "  <tbody>\n",
       "    <tr>\n",
       "      <th>0</th>\n",
       "      <td>2009</td>\n",
       "      <td>1</td>\n",
       "      <td>3</td>\n",
       "      <td>Alicante</td>\n",
       "      <td>30</td>\n",
       "      <td>La Marina Alta</td>\n",
       "      <td>3001</td>\n",
       "      <td>Atzúbia, l'</td>\n",
       "      <td>1</td>\n",
       "      <td>1</td>\n",
       "      <td>...</td>\n",
       "      <td>392</td>\n",
       "      <td>262</td>\n",
       "      <td>262</td>\n",
       "      <td>1</td>\n",
       "      <td>130</td>\n",
       "      <td>0</td>\n",
       "      <td>14</td>\n",
       "      <td>RC</td>\n",
       "      <td>Partit Republicà Català</td>\n",
       "      <td>0</td>\n",
       "    </tr>\n",
       "    <tr>\n",
       "      <th>1</th>\n",
       "      <td>2009</td>\n",
       "      <td>1</td>\n",
       "      <td>3</td>\n",
       "      <td>Alicante</td>\n",
       "      <td>30</td>\n",
       "      <td>La Marina Alta</td>\n",
       "      <td>3001</td>\n",
       "      <td>Atzúbia, l'</td>\n",
       "      <td>1</td>\n",
       "      <td>1</td>\n",
       "      <td>...</td>\n",
       "      <td>392</td>\n",
       "      <td>262</td>\n",
       "      <td>262</td>\n",
       "      <td>1</td>\n",
       "      <td>130</td>\n",
       "      <td>0</td>\n",
       "      <td>15</td>\n",
       "      <td>PCPE</td>\n",
       "      <td>Partido Comunista de los Pueblos de España</td>\n",
       "      <td>1</td>\n",
       "    </tr>\n",
       "    <tr>\n",
       "      <th>2</th>\n",
       "      <td>2009</td>\n",
       "      <td>1</td>\n",
       "      <td>3</td>\n",
       "      <td>Alicante</td>\n",
       "      <td>30</td>\n",
       "      <td>La Marina Alta</td>\n",
       "      <td>3001</td>\n",
       "      <td>Atzúbia, l'</td>\n",
       "      <td>1</td>\n",
       "      <td>1</td>\n",
       "      <td>...</td>\n",
       "      <td>392</td>\n",
       "      <td>262</td>\n",
       "      <td>262</td>\n",
       "      <td>1</td>\n",
       "      <td>130</td>\n",
       "      <td>0</td>\n",
       "      <td>17</td>\n",
       "      <td>UPyD</td>\n",
       "      <td>Unión Progreso y Democracia</td>\n",
       "      <td>1</td>\n",
       "    </tr>\n",
       "    <tr>\n",
       "      <th>3</th>\n",
       "      <td>2009</td>\n",
       "      <td>1</td>\n",
       "      <td>3</td>\n",
       "      <td>Alicante</td>\n",
       "      <td>30</td>\n",
       "      <td>La Marina Alta</td>\n",
       "      <td>3001</td>\n",
       "      <td>Atzúbia, l'</td>\n",
       "      <td>1</td>\n",
       "      <td>1</td>\n",
       "      <td>...</td>\n",
       "      <td>392</td>\n",
       "      <td>262</td>\n",
       "      <td>262</td>\n",
       "      <td>1</td>\n",
       "      <td>130</td>\n",
       "      <td>0</td>\n",
       "      <td>18</td>\n",
       "      <td>AES</td>\n",
       "      <td>Alternativa Española</td>\n",
       "      <td>0</td>\n",
       "    </tr>\n",
       "    <tr>\n",
       "      <th>4</th>\n",
       "      <td>2009</td>\n",
       "      <td>1</td>\n",
       "      <td>3</td>\n",
       "      <td>Alicante</td>\n",
       "      <td>30</td>\n",
       "      <td>La Marina Alta</td>\n",
       "      <td>3001</td>\n",
       "      <td>Atzúbia, l'</td>\n",
       "      <td>1</td>\n",
       "      <td>1</td>\n",
       "      <td>...</td>\n",
       "      <td>392</td>\n",
       "      <td>262</td>\n",
       "      <td>262</td>\n",
       "      <td>1</td>\n",
       "      <td>130</td>\n",
       "      <td>0</td>\n",
       "      <td>19</td>\n",
       "      <td>FA</td>\n",
       "      <td>Falange Auténtica</td>\n",
       "      <td>0</td>\n",
       "    </tr>\n",
       "  </tbody>\n",
       "</table>\n",
       "<p>5 rows × 22 columns</p>\n",
       "</div>"
      ],
      "text/plain": [
       "   ANYO  NUM_ELEC  COD_PROV PROVINCIA  COD_COMARCA         COMARCA  \\\n",
       "0  2009         1         3  Alicante           30  La Marina Alta   \n",
       "1  2009         1         3  Alicante           30  La Marina Alta   \n",
       "2  2009         1         3  Alicante           30  La Marina Alta   \n",
       "3  2009         1         3  Alicante           30  La Marina Alta   \n",
       "4  2009         1         3  Alicante           30  La Marina Alta   \n",
       "\n",
       "   COD_MUNICIPIO    MUNICIPIO  DISTRITO  SECCION  ... CENSO  VOTANTES  \\\n",
       "0           3001  Atzúbia, l'         1        1  ...   392       262   \n",
       "1           3001  Atzúbia, l'         1        1  ...   392       262   \n",
       "2           3001  Atzúbia, l'         1        1  ...   392       262   \n",
       "3           3001  Atzúbia, l'         1        1  ...   392       262   \n",
       "4           3001  Atzúbia, l'         1        1  ...   392       262   \n",
       "\n",
       "   VALIDOS  BLANCOS  ABSTENCIONES  NULOS  CANDIDATO_COD  CANDIDATO_SIGLAS  \\\n",
       "0      262        1           130      0             14                RC   \n",
       "1      262        1           130      0             15              PCPE   \n",
       "2      262        1           130      0             17              UPyD   \n",
       "3      262        1           130      0             18               AES   \n",
       "4      262        1           130      0             19                FA   \n",
       "\n",
       "                               CANDIDATO_DESC VOTOS  \n",
       "0                     Partit Republicà Català     0  \n",
       "1  Partido Comunista de los Pueblos de España     1  \n",
       "2                 Unión Progreso y Democracia     1  \n",
       "3                        Alternativa Española     0  \n",
       "4                           Falange Auténtica     0  \n",
       "\n",
       "[5 rows x 22 columns]"
      ]
     },
     "execution_count": 5,
     "metadata": {},
     "output_type": "execute_result"
    }
   ],
   "source": [
    "# Mostramos los primeros 5 registros de nuestros dataframes, los cuales corresponden a cada elemento dentro del diccionario \n",
    "# df_ElecUE, y que está compuesto por un dataframe para cada año, 2009, 2014, y 2015 respectivamente. \n",
    "df_ElecUE[\"2009\"].head(5)\n"
   ]
  },
  {
   "cell_type": "code",
   "execution_count": 6,
   "id": "89b2b4c6",
   "metadata": {},
   "outputs": [
    {
     "data": {
      "image/png": "[encoded data removed]",
      "text/plain": [
       "<Figure size 640x480 with 1 Axes>"
      ]
     },
     "metadata": {},
     "output_type": "display_data"
    }
   ],
   "source": [
    "# Hacemos un gráfico de la distribución de los datos de las elecciones por año\n",
    "sns.histplot(df_ElecUE[\"2009\"][\"VOTANTES\"], kde=True)\n",
    "plt.title('Distribución de Ingresos')\n",
    "plt.show()\n"
   ]
  },
  {
   "cell_type": "code",
   "execution_count": 7,
   "id": "ec7185c4",
   "metadata": {},
   "outputs": [
    {
     "data": {
      "image/png": "[encoded data removed]",
      "text/plain": [
       "<Figure size 640x480 with 1 Axes>"
      ]
     },
     "metadata": {},
     "output_type": "display_data"
    }
   ],
   "source": [
    "sns.histplot(df_ElecUE[\"2014\"][\"VOTANTES\"], kde=True)\n",
    "plt.title('Distribución de Ingresos')\n",
    "plt.show()"
   ]
  },
  {
   "cell_type": "code",
   "execution_count": 8,
   "id": "e53a94cc",
   "metadata": {},
   "outputs": [
    {
     "data": {
      "image/png": "[encoded data removed]",
      "text/plain": [
       "<Figure size 640x480 with 1 Axes>"
      ]
     },
     "metadata": {},
     "output_type": "display_data"
    }
   ],
   "source": [
    "sns.histplot(df_ElecUE[\"2019\"][\"VOTANTES\"], kde=True)\n",
    "plt.title('Distribución de Ingresos')\n",
    "plt.show()"
   ]
  },
  {
   "cell_type": "code",
   "execution_count": 9,
   "id": "9cd8b43e",
   "metadata": {},
   "outputs": [
    {
     "name": "stdout",
     "output_type": "stream",
     "text": [
      "   ANYO  NUM_ELEC  COD_PROV PROVINCIA  COD_COMARCA         COMARCA  \\\n",
      "0  2009         1         3  Alicante           30  La Marina Alta   \n",
      "1  2009         1         3  Alicante           30  La Marina Alta   \n",
      "2  2009         1         3  Alicante           30  La Marina Alta   \n",
      "3  2009         1         3  Alicante           30  La Marina Alta   \n",
      "4  2009         1         3  Alicante           30  La Marina Alta   \n",
      "\n",
      "   COD_MUNICIPIO    MUNICIPIO  DISTRITO  SECCION  ... CENSO  VOTANTES  \\\n",
      "0           3001  Atzúbia, l'         1        1  ...   392       262   \n",
      "1           3001  Atzúbia, l'         1        1  ...   392       262   \n",
      "2           3001  Atzúbia, l'         1        1  ...   392       262   \n",
      "3           3001  Atzúbia, l'         1        1  ...   392       262   \n",
      "4           3001  Atzúbia, l'         1        1  ...   392       262   \n",
      "\n",
      "   VALIDOS  BLANCOS  ABSTENCIONES  NULOS  CANDIDATO_COD  CANDIDATO_SIGLAS  \\\n",
      "0      262        1           130      0             14                RC   \n",
      "1      262        1           130      0             15              PCPE   \n",
      "2      262        1           130      0             17              UPyD   \n",
      "3      262        1           130      0             18               AES   \n",
      "4      262        1           130      0             19                FA   \n",
      "\n",
      "                               CANDIDATO_DESC VOTOS  \n",
      "0                     Partit Republicà Català     0  \n",
      "1  Partido Comunista de los Pueblos de España     1  \n",
      "2                 Unión Progreso y Democracia     1  \n",
      "3                        Alternativa Española     0  \n",
      "4                           Falange Auténtica     0  \n",
      "\n",
      "[5 rows x 22 columns]\n",
      "Total de filas combinadas: 635890\n"
     ]
    }
   ],
   "source": [
    "# Ahora bien, necesitamos analizar los datos en conjunto, es decir, intentaremos hacer una análisis comparativo \n",
    "# entre los años de las elecciones y mostrar la evolución de los votantes y los partidos.\n",
    "# Para ello, vamos a integrar los tres dataframe en uno solo, al que llamaremos df_final. \n",
    "df_final = pd.DataFrame()\n",
    "for anyo in anyos:\n",
    "    #df_final = pd.concat([df_ElecUE[2009], df_ElecUE[2014], df_ElecUE[2019]], ignore_index=True)\n",
    "    df_final = pd.concat([df_final,df_ElecUE[anyo]], ignore_index=True)\n",
    "\n",
    "# Guardamos el resultado en un nuevo CSV\n",
    "df_final.to_csv(\"datos_combinados.csv\", index=False)\n",
    "\n",
    "# Verificar que la unión se hizo correctamente\n",
    "print(df_final.head())\n",
    "print(f\"Total de filas combinadas: {df_final.shape[0]}\")\n"
   ]
  },
  {
   "cell_type": "code",
   "execution_count": 10,
   "id": "415196bf",
   "metadata": {},
   "outputs": [
    {
     "name": "stdout",
     "output_type": "stream",
     "text": [
      "<class 'pandas.core.frame.DataFrame'>\n",
      "RangeIndex: 635890 entries, 0 to 635889\n",
      "Data columns (total 23 columns):\n",
      " #   Column            Non-Null Count   Dtype \n",
      "---  ------            --------------   ----- \n",
      " 0   ANYO              635890 non-null  int64 \n",
      " 1   NUM_ELEC          635890 non-null  int64 \n",
      " 2   COD_PROV          635890 non-null  int64 \n",
      " 3   PROVINCIA         635890 non-null  object\n",
      " 4   COD_COMARCA       635890 non-null  int64 \n",
      " 5   COMARCA           635890 non-null  object\n",
      " 6   COD_MUNICIPIO     635890 non-null  int64 \n",
      " 7   MUNICIPIO         635890 non-null  object\n",
      " 8   DISTRITO          635890 non-null  int64 \n",
      " 9   SECCION           635890 non-null  int64 \n",
      " 10  MESA              635890 non-null  object\n",
      " 11  CANDIDATURAS      635890 non-null  int64 \n",
      " 12  CENSO             635890 non-null  int64 \n",
      " 13  VOTANTES          635890 non-null  int64 \n",
      " 14  VALIDOS           635890 non-null  int64 \n",
      " 15  BLANCOS           635890 non-null  int64 \n",
      " 16  ABSTENCIONES      635890 non-null  int64 \n",
      " 17  NULOS             635890 non-null  int64 \n",
      " 18  CANDIDATO_COD     635890 non-null  int64 \n",
      " 19  CANDIDATO_SIGLAS  635890 non-null  object\n",
      " 20  CANDIDATO_DESC    635890 non-null  object\n",
      " 21  VOTOS             635890 non-null  int64 \n",
      " 22  Año               635890 non-null  int64 \n",
      "dtypes: int64(17), object(6)\n",
      "memory usage: 111.6+ MB\n",
      "None\n",
      "ANYO                0\n",
      "NUM_ELEC            0\n",
      "COD_PROV            0\n",
      "PROVINCIA           0\n",
      "COD_COMARCA         0\n",
      "COMARCA             0\n",
      "COD_MUNICIPIO       0\n",
      "MUNICIPIO           0\n",
      "DISTRITO            0\n",
      "SECCION             0\n",
      "MESA                0\n",
      "CANDIDATURAS        0\n",
      "CENSO               0\n",
      "VOTANTES            0\n",
      "VALIDOS             0\n",
      "BLANCOS             0\n",
      "ABSTENCIONES        0\n",
      "NULOS               0\n",
      "CANDIDATO_COD       0\n",
      "CANDIDATO_SIGLAS    0\n",
      "CANDIDATO_DESC      0\n",
      "VOTOS               0\n",
      "Año                 0\n",
      "dtype: int64\n"
     ]
    }
   ],
   "source": [
    "# Cambiamos el tipo de dato de la columna ANYO a entero\n",
    "df_final[\"Año\"] = df_final[\"ANYO\"].astype(int)\n",
    "\n",
    "# Revisar estructura de los datos\n",
    "print(df_final.info())\n",
    "\n",
    "# Revisar valores nulos\n",
    "print(df_final.isnull().sum())\n"
   ]
  },
  {
   "cell_type": "code",
   "execution_count": 11,
   "id": "f5bbfae0",
   "metadata": {},
   "outputs": [
    {
     "name": "stdout",
     "output_type": "stream",
     "text": [
      "Estadístico KS: 0.9997483841544921\n",
      "p-valor: 0.0\n",
      "Los datos no se distribuyen como una normal\n"
     ]
    }
   ],
   "source": [
    "# Realizamos el test KS comparando con la distribución normal ('norm')\n",
    "#filtramos los datos para el año 2009\n",
    "data = df_final[\"VOTANTES\"]\n",
    "ks_stat, p_value = stats.kstest(data, 'norm')\n",
    "print(\"Estadístico KS:\", ks_stat)\n",
    "print(\"p-valor:\", p_value)\n",
    "\n",
    "if p_value < 0.05:\n",
    "    print(\"Los datos no se distribuyen como una normal\")\n",
    "else:\n",
    "    print(\"Los datos se distribuyen como una normal\")"
   ]
  },
  {
   "cell_type": "markdown",
   "id": "dfce1281",
   "metadata": {},
   "source": [
    "Como vemos, al llevar a cabo una prueba de normalidad de los datos podemos apreciar que, al menos para el caso de los votantes (dato que engloba casi la totalidad de los datos de interés del estudio) no presentan una distribución normal. Esto podría suponer algun sesgo en cuanto a las conclusiones. Esto mismo se puede observar en los gráficos de distribución de probabilidad que hemos mostrado, sin embargo, y tal como se aprecia en los mismos, la asimetría presente en ellos es relativamente débil, y por tanto, podemos suponer que esto no afecte en mayor proporción las conclusiones generales que podamos tener respecto de los resultados.\n",
    "\n",
    "Por otro lado, una vez revisados los datos, podemos ver que no hay datos nulos, lo cual es una buena noticia."
   ]
  },
  {
   "cell_type": "code",
   "execution_count": 12,
   "id": "a9285ce4",
   "metadata": {},
   "outputs": [],
   "source": [
    "import plotly.graph_objects as go"
   ]
  },
  {
   "cell_type": "code",
   "execution_count": 13,
   "id": "1ae323fc",
   "metadata": {},
   "outputs": [
    {
     "name": "stdout",
     "output_type": "stream",
     "text": [
      "      ABSTENCIONES  BLANCOS      CENSO    NULOS   VALIDOS  VOTANTES  \\\n",
      "Año                                                                   \n",
      "2009      57651265   714420  123767665   436695  65679705  66116400   \n",
      "2014      69841980  1404390  139891596  1721733  68327883  70049616   \n",
      "2019      41428128   580800  115982432   567552  73986752  74554304   \n",
      "\n",
      "      % Votantes  % Votos Validos  % Abstenciones  % Votos Nulos  \\\n",
      "Año                                                                \n",
      "2009       53.42            53.07           46.58           0.35   \n",
      "2014       50.07            48.84           49.93           1.23   \n",
      "2019       64.28            63.79           35.72           0.49   \n",
      "\n",
      "      % Votos Blanco  \n",
      "Año                   \n",
      "2009            0.58  \n",
      "2014            1.00  \n",
      "2019            0.50  \n"
     ]
    }
   ],
   "source": [
    "# Crear una tabla pivotada para ver los totales de votos, abstención, nulos y blancos por año\n",
    "stats_pivot = df_final.pivot_table(index=\"Año\", values=[\"CENSO\",\"VOTANTES\", \"VALIDOS\", \"ABSTENCIONES\", \"NULOS\", \"BLANCOS\"], aggfunc=\"sum\")\n",
    "\n",
    "# Calcular porcentajes sobre el total de votos\n",
    "stats_pivot[\"% Votantes\"] = ((stats_pivot[\"VOTANTES\"] / stats_pivot[\"CENSO\"]) * 100).round(2)\n",
    "stats_pivot[\"% Votos Validos\"] = ((stats_pivot[\"VALIDOS\"] / stats_pivot[\"CENSO\"]) * 100).round(2)\n",
    "\n",
    "stats_pivot[\"% Abstenciones\"] = ((stats_pivot[\"ABSTENCIONES\"] / stats_pivot[\"CENSO\"]) * 100).round(2)\n",
    "\n",
    "stats_pivot[\"% Votos Nulos\"] = ((stats_pivot[\"NULOS\"] / stats_pivot[\"CENSO\"]) * 100).round(2)\n",
    "\n",
    "stats_pivot[\"% Votos Blanco\"] = ((stats_pivot[\"BLANCOS\"] / stats_pivot[\"CENSO\"]) * 100).round(2)\n",
    "\n",
    "\n",
    "# Mostrar tabla con porcentajes\n",
    "print(stats_pivot)\n"
   ]
  },
  {
   "cell_type": "markdown",
   "id": "9efc2a86",
   "metadata": {},
   "source": [
    "Esta tabla nos permite ver el total de votantes, votos validos, abstenciones, votos nulos y votos blancos por cada año, y sus porcentajes respectivamente. Como podemos apreciar la abstención, los votos blancos y los votos nulos presentan una variación significativa en el año 2014. Los votos totales (VOTANTES) yLos votos validos por su parte se han mantenido en crecimiento en todos los casos. Lo más destacable es que la abstenciones han decaído significativamente en las últimas elecciones del año 2019."
   ]
  },
  {
   "cell_type": "code",
   "execution_count": 14,
   "id": "111339df",
   "metadata": {},
   "outputs": [
    {
     "data": {
      "text/html": [
       "<div>\n",
       "<style scoped>\n",
       "    .dataframe tbody tr th:only-of-type {\n",
       "        vertical-align: middle;\n",
       "    }\n",
       "\n",
       "    .dataframe tbody tr th {\n",
       "        vertical-align: top;\n",
       "    }\n",
       "\n",
       "    .dataframe thead th {\n",
       "        text-align: right;\n",
       "    }\n",
       "</style>\n",
       "<table border=\"1\" class=\"dataframe\">\n",
       "  <thead>\n",
       "    <tr style=\"text-align: right;\">\n",
       "      <th></th>\n",
       "      <th>ABSTENCIONES</th>\n",
       "      <th>BLANCOS</th>\n",
       "      <th>CENSO</th>\n",
       "      <th>NULOS</th>\n",
       "      <th>VALIDOS</th>\n",
       "      <th>VOTANTES</th>\n",
       "    </tr>\n",
       "    <tr>\n",
       "      <th>Año</th>\n",
       "      <th></th>\n",
       "      <th></th>\n",
       "      <th></th>\n",
       "      <th></th>\n",
       "      <th></th>\n",
       "      <th></th>\n",
       "    </tr>\n",
       "  </thead>\n",
       "  <tbody>\n",
       "    <tr>\n",
       "      <th>2009</th>\n",
       "      <td>255.852594</td>\n",
       "      <td>3.170550</td>\n",
       "      <td>549.272911</td>\n",
       "      <td>1.938024</td>\n",
       "      <td>291.482293</td>\n",
       "      <td>293.420317</td>\n",
       "    </tr>\n",
       "    <tr>\n",
       "      <th>2014</th>\n",
       "      <td>321.627155</td>\n",
       "      <td>6.467313</td>\n",
       "      <td>644.210489</td>\n",
       "      <td>7.928700</td>\n",
       "      <td>314.654634</td>\n",
       "      <td>322.583333</td>\n",
       "    </tr>\n",
       "    <tr>\n",
       "      <th>2019</th>\n",
       "      <td>214.200695</td>\n",
       "      <td>3.002978</td>\n",
       "      <td>599.677531</td>\n",
       "      <td>2.934480</td>\n",
       "      <td>382.542356</td>\n",
       "      <td>385.476837</td>\n",
       "    </tr>\n",
       "  </tbody>\n",
       "</table>\n",
       "</div>"
      ],
      "text/plain": [
       "      ABSTENCIONES   BLANCOS       CENSO     NULOS     VALIDOS    VOTANTES\n",
       "Año                                                                       \n",
       "2009    255.852594  3.170550  549.272911  1.938024  291.482293  293.420317\n",
       "2014    321.627155  6.467313  644.210489  7.928700  314.654634  322.583333\n",
       "2019    214.200695  3.002978  599.677531  2.934480  382.542356  385.476837"
      ]
     },
     "execution_count": 14,
     "metadata": {},
     "output_type": "execute_result"
    }
   ],
   "source": [
    "stats_pivot_mean = df_final.pivot_table(index=\"Año\", values=[\"CENSO\",\"VOTANTES\", \"VALIDOS\", \"ABSTENCIONES\", \"NULOS\", \"BLANCOS\"], aggfunc=\"mean\")\n",
    "\n",
    "stats_pivot_mean"
   ]
  },
  {
   "cell_type": "markdown",
   "id": "bb577c4f",
   "metadata": {},
   "source": [
    "El promedio de votantes, votos validos, abstenciones, votos nulos y votos blancos por cada año, y sus porcentajes respectivamente, mantiene el mismo comportamiento del total de los datos."
   ]
  },
  {
   "cell_type": "code",
   "execution_count": 15,
   "id": "132fb5f8",
   "metadata": {},
   "outputs": [
    {
     "data": {
      "application/vnd.plotly.v1+json": {
       "config": {
        "plotlyServerURL": "https://plot.ly"
       },
       "data": [
        {
         "alignmentgroup": "True",
         "hovertemplate": "Tipo de voto=VOTANTES<br>Año=%{x}<br>Cantidad=%{y}<extra></extra>",
         "legendgroup": "VOTANTES",
         "marker": {
          "color": "#636efa",
          "pattern": {
           "shape": ""
          }
         },
         "name": "VOTANTES",
         "offsetgroup": "VOTANTES",
         "orientation": "v",
         "showlegend": true,
         "textposition": "auto",
         "type": "bar",
         "x": {
          "bdata": "2QfeB+MH",
          "dtype": "i2"
         },
         "xaxis": "x",
         "y": {
          "bdata": "MNvwA1DfLATAm3EE",
          "dtype": "i4"
         },
         "yaxis": "y"
        },
        {
         "alignmentgroup": "True",
         "hovertemplate": "Tipo de voto=VALIDOS<br>Año=%{x}<br>Cantidad=%{y}<extra></extra>",
         "legendgroup": "VALIDOS",
         "marker": {
          "color": "#EF553B",
          "pattern": {
           "shape": ""
          }
         },
         "name": "VALIDOS",
         "offsetgroup": "VALIDOS",
         "orientation": "v",
         "showlegend": true,
         "textposition": "auto",
         "type": "bar",
         "x": {
          "bdata": "2QfeB+MH",
          "dtype": "i2"
         },
         "xaxis": "x",
         "y": {
          "bdata": "WTHqA8uZEgTA8mgE",
          "dtype": "i4"
         },
         "yaxis": "y"
        },
        {
         "alignmentgroup": "True",
         "hovertemplate": "Tipo de voto=ABSTENCIONES<br>Año=%{x}<br>Cantidad=%{y}<extra></extra>",
         "legendgroup": "ABSTENCIONES",
         "marker": {
          "color": "#00cc96",
          "pattern": {
           "shape": ""
          }
         },
         "name": "ABSTENCIONES",
         "offsetgroup": "ABSTENCIONES",
         "orientation": "v",
         "showlegend": true,
         "textposition": "auto",
         "type": "bar",
         "x": {
          "bdata": "2QfeB+MH",
          "dtype": "i2"
         },
         "xaxis": "x",
         "y": {
          "bdata": "QbBvAzy0KQSgJHgC",
          "dtype": "i4"
         },
         "yaxis": "y"
        },
        {
         "alignmentgroup": "True",
         "hovertemplate": "Tipo de voto=NULOS<br>Año=%{x}<br>Cantidad=%{y}<extra></extra>",
         "legendgroup": "NULOS",
         "marker": {
          "color": "#ab63fa",
          "pattern": {
           "shape": ""
          }
         },
         "name": "NULOS",
         "offsetgroup": "NULOS",
         "orientation": "v",
         "showlegend": true,
         "textposition": "auto",
         "type": "bar",
         "x": {
          "bdata": "2QfeB+MH",
          "dtype": "i2"
         },
         "xaxis": "x",
         "y": {
          "bdata": "16kGAIVFGgAAqQgA",
          "dtype": "i4"
         },
         "yaxis": "y"
        },
        {
         "alignmentgroup": "True",
         "hovertemplate": "Tipo de voto=BLANCOS<br>Año=%{x}<br>Cantidad=%{y}<extra></extra>",
         "legendgroup": "BLANCOS",
         "marker": {
          "color": "#FFA15A",
          "pattern": {
           "shape": ""
          }
         },
         "name": "BLANCOS",
         "offsetgroup": "BLANCOS",
         "orientation": "v",
         "showlegend": true,
         "textposition": "auto",
         "type": "bar",
         "x": {
          "bdata": "2QfeB+MH",
          "dtype": "i2"
         },
         "xaxis": "x",
         "y": {
          "bdata": "tOYKAOZtFQDA3AgA",
          "dtype": "i4"
         },
         "yaxis": "y"
        }
       ],
       "layout": {
        "barmode": "group",
        "legend": {
         "title": {
          "text": "Tipo de voto"
         },
         "tracegroupgap": 0
        },
        "template": {
         "data": {
          "bar": [
           {
            "error_x": {
             "color": "#2a3f5f"
            },
            "error_y": {
             "color": "#2a3f5f"
            },
            "marker": {
             "line": {
              "color": "#E5ECF6",
              "width": 0.5
             },
             "pattern": {
              "fillmode": "overlay",
              "size": 10,
              "solidity": 0.2
             }
            },
            "type": "bar"
           }
          ],
          "barpolar": [
           {
            "marker": {
             "line": {
              "color": "#E5ECF6",
              "width": 0.5
             },
             "pattern": {
              "fillmode": "overlay",
              "size": 10,
              "solidity": 0.2
             }
            },
            "type": "barpolar"
           }
          ],
          "carpet": [
           {
            "aaxis": {
             "endlinecolor": "#2a3f5f",
             "gridcolor": "white",
             "linecolor": "white",
             "minorgridcolor": "white",
             "startlinecolor": "#2a3f5f"
            },
            "baxis": {
             "endlinecolor": "#2a3f5f",
             "gridcolor": "white",
             "linecolor": "white",
             "minorgridcolor": "white",
             "startlinecolor": "#2a3f5f"
            },
            "type": "carpet"
           }
          ],
          "choropleth": [
           {
            "colorbar": {
             "outlinewidth": 0,
             "ticks": ""
            },
            "type": "choropleth"
           }
          ],
          "contour": [
           {
            "colorbar": {
             "outlinewidth": 0,
             "ticks": ""
            },
            "colorscale": [
             [
              0,
              "#0d0887"
             ],
             [
              0.1111111111111111,
              "#46039f"
             ],
             [
              0.2222222222222222,
              "#7201a8"
             ],
             [
              0.3333333333333333,
              "#9c179e"
             ],
             [
              0.4444444444444444,
              "#bd3786"
             ],
             [
              0.5555555555555556,
              "#d8576b"
             ],
             [
              0.6666666666666666,
              "#ed7953"
             ],
             [
              0.7777777777777778,
              "#fb9f3a"
             ],
             [
              0.8888888888888888,
              "#fdca26"
             ],
             [
              1,
              "#f0f921"
             ]
            ],
            "type": "contour"
           }
          ],
          "contourcarpet": [
           {
            "colorbar": {
             "outlinewidth": 0,
             "ticks": ""
            },
            "type": "contourcarpet"
           }
          ],
          "heatmap": [
           {
            "colorbar": {
             "outlinewidth": 0,
             "ticks": ""
            },
            "colorscale": [
             [
              0,
              "#0d0887"
             ],
             [
              0.1111111111111111,
              "#46039f"
             ],
             [
              0.2222222222222222,
              "#7201a8"
             ],
             [
              0.3333333333333333,
              "#9c179e"
             ],
             [
              0.4444444444444444,
              "#bd3786"
             ],
             [
              0.5555555555555556,
              "#d8576b"
             ],
             [
              0.6666666666666666,
              "#ed7953"
             ],
             [
              0.7777777777777778,
              "#fb9f3a"
             ],
             [
              0.8888888888888888,
              "#fdca26"
             ],
             [
              1,
              "#f0f921"
             ]
            ],
            "type": "heatmap"
           }
          ],
          "histogram": [
           {
            "marker": {
             "pattern": {
              "fillmode": "overlay",
              "size": 10,
              "solidity": 0.2
             }
            },
            "type": "histogram"
           }
          ],
          "histogram2d": [
           {
            "colorbar": {
             "outlinewidth": 0,
             "ticks": ""
            },
            "colorscale": [
             [
              0,
              "#0d0887"
             ],
             [
              0.1111111111111111,
              "#46039f"
             ],
             [
              0.2222222222222222,
              "#7201a8"
             ],
             [
              0.3333333333333333,
              "#9c179e"
             ],
             [
              0.4444444444444444,
              "#bd3786"
             ],
             [
              0.5555555555555556,
              "#d8576b"
             ],
             [
              0.6666666666666666,
              "#ed7953"
             ],
             [
              0.7777777777777778,
              "#fb9f3a"
             ],
             [
              0.8888888888888888,
              "#fdca26"
             ],
             [
              1,
              "#f0f921"
             ]
            ],
            "type": "histogram2d"
           }
          ],
          "histogram2dcontour": [
           {
            "colorbar": {
             "outlinewidth": 0,
             "ticks": ""
            },
            "colorscale": [
             [
              0,
              "#0d0887"
             ],
             [
              0.1111111111111111,
              "#46039f"
             ],
             [
              0.2222222222222222,
              "#7201a8"
             ],
             [
              0.3333333333333333,
              "#9c179e"
             ],
             [
              0.4444444444444444,
              "#bd3786"
             ],
             [
              0.5555555555555556,
              "#d8576b"
             ],
             [
              0.6666666666666666,
              "#ed7953"
             ],
             [
              0.7777777777777778,
              "#fb9f3a"
             ],
             [
              0.8888888888888888,
              "#fdca26"
             ],
             [
              1,
              "#f0f921"
             ]
            ],
            "type": "histogram2dcontour"
           }
          ],
          "mesh3d": [
           {
            "colorbar": {
             "outlinewidth": 0,
             "ticks": ""
            },
            "type": "mesh3d"
           }
          ],
          "parcoords": [
           {
            "line": {
             "colorbar": {
              "outlinewidth": 0,
              "ticks": ""
             }
            },
            "type": "parcoords"
           }
          ],
          "pie": [
           {
            "automargin": true,
            "type": "pie"
           }
          ],
          "scatter": [
           {
            "fillpattern": {
             "fillmode": "overlay",
             "size": 10,
             "solidity": 0.2
            },
            "type": "scatter"
           }
          ],
          "scatter3d": [
           {
            "line": {
             "colorbar": {
              "outlinewidth": 0,
              "ticks": ""
             }
            },
            "marker": {
             "colorbar": {
              "outlinewidth": 0,
              "ticks": ""
             }
            },
            "type": "scatter3d"
           }
          ],
          "scattercarpet": [
           {
            "marker": {
             "colorbar": {
              "outlinewidth": 0,
              "ticks": ""
             }
            },
            "type": "scattercarpet"
           }
          ],
          "scattergeo": [
           {
            "marker": {
             "colorbar": {
              "outlinewidth": 0,
              "ticks": ""
             }
            },
            "type": "scattergeo"
           }
          ],
          "scattergl": [
           {
            "marker": {
             "colorbar": {
              "outlinewidth": 0,
              "ticks": ""
             }
            },
            "type": "scattergl"
           }
          ],
          "scattermap": [
           {
            "marker": {
             "colorbar": {
              "outlinewidth": 0,
              "ticks": ""
             }
            },
            "type": "scattermap"
           }
          ],
          "scattermapbox": [
           {
            "marker": {
             "colorbar": {
              "outlinewidth": 0,
              "ticks": ""
             }
            },
            "type": "scattermapbox"
           }
          ],
          "scatterpolar": [
           {
            "marker": {
             "colorbar": {
              "outlinewidth": 0,
              "ticks": ""
             }
            },
            "type": "scatterpolar"
           }
          ],
          "scatterpolargl": [
           {
            "marker": {
             "colorbar": {
              "outlinewidth": 0,
              "ticks": ""
             }
            },
            "type": "scatterpolargl"
           }
          ],
          "scatterternary": [
           {
            "marker": {
             "colorbar": {
              "outlinewidth": 0,
              "ticks": ""
             }
            },
            "type": "scatterternary"
           }
          ],
          "surface": [
           {
            "colorbar": {
             "outlinewidth": 0,
             "ticks": ""
            },
            "colorscale": [
             [
              0,
              "#0d0887"
             ],
             [
              0.1111111111111111,
              "#46039f"
             ],
             [
              0.2222222222222222,
              "#7201a8"
             ],
             [
              0.3333333333333333,
              "#9c179e"
             ],
             [
              0.4444444444444444,
              "#bd3786"
             ],
             [
              0.5555555555555556,
              "#d8576b"
             ],
             [
              0.6666666666666666,
              "#ed7953"
             ],
             [
              0.7777777777777778,
              "#fb9f3a"
             ],
             [
              0.8888888888888888,
              "#fdca26"
             ],
             [
              1,
              "#f0f921"
             ]
            ],
            "type": "surface"
           }
          ],
          "table": [
           {
            "cells": {
             "fill": {
              "color": "#EBF0F8"
             },
             "line": {
              "color": "white"
             }
            },
            "header": {
             "fill": {
              "color": "#C8D4E3"
             },
             "line": {
              "color": "white"
             }
            },
            "type": "table"
           }
          ]
         },
         "layout": {
          "annotationdefaults": {
           "arrowcolor": "#2a3f5f",
           "arrowhead": 0,
           "arrowwidth": 1
          },
          "autotypenumbers": "strict",
          "coloraxis": {
           "colorbar": {
            "outlinewidth": 0,
            "ticks": ""
           }
          },
          "colorscale": {
           "diverging": [
            [
             0,
             "#8e0152"
            ],
            [
             0.1,
             "#c51b7d"
            ],
            [
             0.2,
             "#de77ae"
            ],
            [
             0.3,
             "#f1b6da"
            ],
            [
             0.4,
             "#fde0ef"
            ],
            [
             0.5,
             "#f7f7f7"
            ],
            [
             0.6,
             "#e6f5d0"
            ],
            [
             0.7,
             "#b8e186"
            ],
            [
             0.8,
             "#7fbc41"
            ],
            [
             0.9,
             "#4d9221"
            ],
            [
             1,
             "#276419"
            ]
           ],
           "sequential": [
            [
             0,
             "#0d0887"
            ],
            [
             0.1111111111111111,
             "#46039f"
            ],
            [
             0.2222222222222222,
             "#7201a8"
            ],
            [
             0.3333333333333333,
             "#9c179e"
            ],
            [
             0.4444444444444444,
             "#bd3786"
            ],
            [
             0.5555555555555556,
             "#d8576b"
            ],
            [
             0.6666666666666666,
             "#ed7953"
            ],
            [
             0.7777777777777778,
             "#fb9f3a"
            ],
            [
             0.8888888888888888,
             "#fdca26"
            ],
            [
             1,
             "#f0f921"
            ]
           ],
           "sequentialminus": [
            [
             0,
             "#0d0887"
            ],
            [
             0.1111111111111111,
             "#46039f"
            ],
            [
             0.2222222222222222,
             "#7201a8"
            ],
            [
             0.3333333333333333,
             "#9c179e"
            ],
            [
             0.4444444444444444,
             "#bd3786"
            ],
            [
             0.5555555555555556,
             "#d8576b"
            ],
            [
             0.6666666666666666,
             "#ed7953"
            ],
            [
             0.7777777777777778,
             "#fb9f3a"
            ],
            [
             0.8888888888888888,
             "#fdca26"
            ],
            [
             1,
             "#f0f921"
            ]
           ]
          },
          "colorway": [
           "#636efa",
           "#EF553B",
           "#00cc96",
           "#ab63fa",
           "#FFA15A",
           "#19d3f3",
           "#FF6692",
           "#B6E880",
           "#FF97FF",
           "#FECB52"
          ],
          "font": {
           "color": "#2a3f5f"
          },
          "geo": {
           "bgcolor": "white",
           "lakecolor": "white",
           "landcolor": "#E5ECF6",
           "showlakes": true,
           "showland": true,
           "subunitcolor": "white"
          },
          "hoverlabel": {
           "align": "left"
          },
          "hovermode": "closest",
          "mapbox": {
           "style": "light"
          },
          "paper_bgcolor": "white",
          "plot_bgcolor": "#E5ECF6",
          "polar": {
           "angularaxis": {
            "gridcolor": "white",
            "linecolor": "white",
            "ticks": ""
           },
           "bgcolor": "#E5ECF6",
           "radialaxis": {
            "gridcolor": "white",
            "linecolor": "white",
            "ticks": ""
           }
          },
          "scene": {
           "xaxis": {
            "backgroundcolor": "#E5ECF6",
            "gridcolor": "white",
            "gridwidth": 2,
            "linecolor": "white",
            "showbackground": true,
            "ticks": "",
            "zerolinecolor": "white"
           },
           "yaxis": {
            "backgroundcolor": "#E5ECF6",
            "gridcolor": "white",
            "gridwidth": 2,
            "linecolor": "white",
            "showbackground": true,
            "ticks": "",
            "zerolinecolor": "white"
           },
           "zaxis": {
            "backgroundcolor": "#E5ECF6",
            "gridcolor": "white",
            "gridwidth": 2,
            "linecolor": "white",
            "showbackground": true,
            "ticks": "",
            "zerolinecolor": "white"
           }
          },
          "shapedefaults": {
           "line": {
            "color": "#2a3f5f"
           }
          },
          "ternary": {
           "aaxis": {
            "gridcolor": "white",
            "linecolor": "white",
            "ticks": ""
           },
           "baxis": {
            "gridcolor": "white",
            "linecolor": "white",
            "ticks": ""
           },
           "bgcolor": "#E5ECF6",
           "caxis": {
            "gridcolor": "white",
            "linecolor": "white",
            "ticks": ""
           }
          },
          "title": {
           "x": 0.05
          },
          "xaxis": {
           "automargin": true,
           "gridcolor": "white",
           "linecolor": "white",
           "ticks": "",
           "title": {
            "standoff": 15
           },
           "zerolinecolor": "white",
           "zerolinewidth": 2
          },
          "yaxis": {
           "automargin": true,
           "gridcolor": "white",
           "linecolor": "white",
           "ticks": "",
           "title": {
            "standoff": 15
           },
           "zerolinecolor": "white",
           "zerolinewidth": 2
          }
         }
        },
        "title": {
         "text": "Totales de votos y abstención por año"
        },
        "xaxis": {
         "anchor": "y",
         "domain": [
          0,
          1
         ],
         "title": {
          "text": "Año"
         }
        },
        "yaxis": {
         "anchor": "x",
         "domain": [
          0,
          1
         ],
         "title": {
          "text": "Cantidad"
         }
        }
       }
      }
     },
     "metadata": {},
     "output_type": "display_data"
    }
   ],
   "source": [
    "# Resetear índice para que el año sea columna y no índice\n",
    "stats_pivot = stats_pivot.reset_index()\n",
    "\n",
    "# Gráfico de barras usando la versión pivotada\n",
    "fig1 = px.bar(stats_pivot, x=\"Año\", y=[\"VOTANTES\", \"VALIDOS\", \"ABSTENCIONES\", \"NULOS\", \"BLANCOS\"],\n",
    "              barmode='group',\n",
    "              title=\"Totales de votos y abstención por año\",\n",
    "              labels={\"value\": \"Cantidad\", \"variable\": \"Tipo de voto\"})\n",
    "\n",
    "fig1.show()"
   ]
  },
  {
   "cell_type": "code",
   "execution_count": 16,
   "id": "6a2fad5b",
   "metadata": {},
   "outputs": [
    {
     "data": {
      "application/vnd.plotly.v1+json": {
       "config": {
        "plotlyServerURL": "https://plot.ly"
       },
       "data": [
        {
         "alignmentgroup": "True",
         "hovertemplate": "Tipo de voto=VOTANTES<br>Año=%{x}<br>Cantidad=%{y}<extra></extra>",
         "legendgroup": "VOTANTES",
         "marker": {
          "color": "#636efa",
          "pattern": {
           "shape": ""
          }
         },
         "name": "VOTANTES",
         "offsetgroup": "VOTANTES",
         "orientation": "v",
         "showlegend": true,
         "textposition": "auto",
         "type": "bar",
         "x": {
          "bdata": "2QfeB+MH",
          "dtype": "i2"
         },
         "xaxis": "x",
         "y": {
          "bdata": "AkkunrlWckBVVVVVVSl0QGHuVx+hF3hA",
          "dtype": "f8"
         },
         "yaxis": "y"
        },
        {
         "alignmentgroup": "True",
         "hovertemplate": "Tipo de voto=VALIDOS<br>Año=%{x}<br>Cantidad=%{y}<extra></extra>",
         "legendgroup": "VALIDOS",
         "marker": {
          "color": "#EF553B",
          "pattern": {
           "shape": ""
          }
         },
         "name": "VALIDOS",
         "offsetgroup": "VALIDOS",
         "orientation": "v",
         "showlegend": true,
         "textposition": "auto",
         "type": "bar",
         "x": {
          "bdata": "2QfeB+MH",
          "dtype": "i2"
         },
         "xaxis": "x",
         "y": {
          "bdata": "ORB8eLc3ckCWexpheapzQOgYi32t6HdA",
          "dtype": "f8"
         },
         "yaxis": "y"
        },
        {
         "alignmentgroup": "True",
         "hovertemplate": "Tipo de voto=ABSTENCIONES<br>Año=%{x}<br>Cantidad=%{y}<extra></extra>",
         "legendgroup": "ABSTENCIONES",
         "marker": {
          "color": "#00cc96",
          "pattern": {
           "shape": ""
          }
         },
         "name": "ABSTENCIONES",
         "offsetgroup": "ABSTENCIONES",
         "orientation": "v",
         "showlegend": true,
         "textposition": "auto",
         "type": "bar",
         "x": {
          "bdata": "2QfeB+MH",
          "dtype": "i2"
         },
         "xaxis": "x",
         "y": {
          "bdata": "owAoc0j7b0CNsNzTCBp0QAQquBdsxmpA",
          "dtype": "f8"
         },
         "yaxis": "y"
        },
        {
         "alignmentgroup": "True",
         "hovertemplate": "Tipo de voto=NULOS<br>Año=%{x}<br>Cantidad=%{y}<extra></extra>",
         "legendgroup": "NULOS",
         "marker": {
          "color": "#ab63fa",
          "pattern": {
           "shape": ""
          }
         },
         "name": "NULOS",
         "offsetgroup": "NULOS",
         "orientation": "v",
         "showlegend": true,
         "textposition": "auto",
         "type": "bar",
         "x": {
          "bdata": "2QfeB+MH",
          "dtype": "i2"
         },
         "xaxis": "x",
         "y": {
          "bdata": "acg4siUC/z/Rb7YO/bYfQL28aubQeQdA",
          "dtype": "f8"
         },
         "yaxis": "y"
        },
        {
         "alignmentgroup": "True",
         "hovertemplate": "Tipo de voto=BLANCOS<br>Año=%{x}<br>Cantidad=%{y}<extra></extra>",
         "legendgroup": "BLANCOS",
         "marker": {
          "color": "#FFA15A",
          "pattern": {
           "shape": ""
          }
         },
         "name": "BLANCOS",
         "offsetgroup": "BLANCOS",
         "orientation": "v",
         "showlegend": true,
         "textposition": "auto",
         "type": "bar",
         "x": {
          "bdata": "2QfeB+MH",
          "dtype": "i2"
         },
         "xaxis": "x",
         "y": {
          "bdata": "Cli/PkldCUB26Ddbh94ZQCbg42kZBghA",
          "dtype": "f8"
         },
         "yaxis": "y"
        }
       ],
       "layout": {
        "barmode": "group",
        "legend": {
         "title": {
          "text": "Tipo de voto"
         },
         "tracegroupgap": 0
        },
        "template": {
         "data": {
          "bar": [
           {
            "error_x": {
             "color": "#2a3f5f"
            },
            "error_y": {
             "color": "#2a3f5f"
            },
            "marker": {
             "line": {
              "color": "#E5ECF6",
              "width": 0.5
             },
             "pattern": {
              "fillmode": "overlay",
              "size": 10,
              "solidity": 0.2
             }
            },
            "type": "bar"
           }
          ],
          "barpolar": [
           {
            "marker": {
             "line": {
              "color": "#E5ECF6",
              "width": 0.5
             },
             "pattern": {
              "fillmode": "overlay",
              "size": 10,
              "solidity": 0.2
             }
            },
            "type": "barpolar"
           }
          ],
          "carpet": [
           {
            "aaxis": {
             "endlinecolor": "#2a3f5f",
             "gridcolor": "white",
             "linecolor": "white",
             "minorgridcolor": "white",
             "startlinecolor": "#2a3f5f"
            },
            "baxis": {
             "endlinecolor": "#2a3f5f",
             "gridcolor": "white",
             "linecolor": "white",
             "minorgridcolor": "white",
             "startlinecolor": "#2a3f5f"
            },
            "type": "carpet"
           }
          ],
          "choropleth": [
           {
            "colorbar": {
             "outlinewidth": 0,
             "ticks": ""
            },
            "type": "choropleth"
           }
          ],
          "contour": [
           {
            "colorbar": {
             "outlinewidth": 0,
             "ticks": ""
            },
            "colorscale": [
             [
              0,
              "#0d0887"
             ],
             [
              0.1111111111111111,
              "#46039f"
             ],
             [
              0.2222222222222222,
              "#7201a8"
             ],
             [
              0.3333333333333333,
              "#9c179e"
             ],
             [
              0.4444444444444444,
              "#bd3786"
             ],
             [
              0.5555555555555556,
              "#d8576b"
             ],
             [
              0.6666666666666666,
              "#ed7953"
             ],
             [
              0.7777777777777778,
              "#fb9f3a"
             ],
             [
              0.8888888888888888,
              "#fdca26"
             ],
             [
              1,
              "#f0f921"
             ]
            ],
            "type": "contour"
           }
          ],
          "contourcarpet": [
           {
            "colorbar": {
             "outlinewidth": 0,
             "ticks": ""
            },
            "type": "contourcarpet"
           }
          ],
          "heatmap": [
           {
            "colorbar": {
             "outlinewidth": 0,
             "ticks": ""
            },
            "colorscale": [
             [
              0,
              "#0d0887"
             ],
             [
              0.1111111111111111,
              "#46039f"
             ],
             [
              0.2222222222222222,
              "#7201a8"
             ],
             [
              0.3333333333333333,
              "#9c179e"
             ],
             [
              0.4444444444444444,
              "#bd3786"
             ],
             [
              0.5555555555555556,
              "#d8576b"
             ],
             [
              0.6666666666666666,
              "#ed7953"
             ],
             [
              0.7777777777777778,
              "#fb9f3a"
             ],
             [
              0.8888888888888888,
              "#fdca26"
             ],
             [
              1,
              "#f0f921"
             ]
            ],
            "type": "heatmap"
           }
          ],
          "histogram": [
           {
            "marker": {
             "pattern": {
              "fillmode": "overlay",
              "size": 10,
              "solidity": 0.2
             }
            },
            "type": "histogram"
           }
          ],
          "histogram2d": [
           {
            "colorbar": {
             "outlinewidth": 0,
             "ticks": ""
            },
            "colorscale": [
             [
              0,
              "#0d0887"
             ],
             [
              0.1111111111111111,
              "#46039f"
             ],
             [
              0.2222222222222222,
              "#7201a8"
             ],
             [
              0.3333333333333333,
              "#9c179e"
             ],
             [
              0.4444444444444444,
              "#bd3786"
             ],
             [
              0.5555555555555556,
              "#d8576b"
             ],
             [
              0.6666666666666666,
              "#ed7953"
             ],
             [
              0.7777777777777778,
              "#fb9f3a"
             ],
             [
              0.8888888888888888,
              "#fdca26"
             ],
             [
              1,
              "#f0f921"
             ]
            ],
            "type": "histogram2d"
           }
          ],
          "histogram2dcontour": [
           {
            "colorbar": {
             "outlinewidth": 0,
             "ticks": ""
            },
            "colorscale": [
             [
              0,
              "#0d0887"
             ],
             [
              0.1111111111111111,
              "#46039f"
             ],
             [
              0.2222222222222222,
              "#7201a8"
             ],
             [
              0.3333333333333333,
              "#9c179e"
             ],
             [
              0.4444444444444444,
              "#bd3786"
             ],
             [
              0.5555555555555556,
              "#d8576b"
             ],
             [
              0.6666666666666666,
              "#ed7953"
             ],
             [
              0.7777777777777778,
              "#fb9f3a"
             ],
             [
              0.8888888888888888,
              "#fdca26"
             ],
             [
              1,
              "#f0f921"
             ]
            ],
            "type": "histogram2dcontour"
           }
          ],
          "mesh3d": [
           {
            "colorbar": {
             "outlinewidth": 0,
             "ticks": ""
            },
            "type": "mesh3d"
           }
          ],
          "parcoords": [
           {
            "line": {
             "colorbar": {
              "outlinewidth": 0,
              "ticks": ""
             }
            },
            "type": "parcoords"
           }
          ],
          "pie": [
           {
            "automargin": true,
            "type": "pie"
           }
          ],
          "scatter": [
           {
            "fillpattern": {
             "fillmode": "overlay",
             "size": 10,
             "solidity": 0.2
            },
            "type": "scatter"
           }
          ],
          "scatter3d": [
           {
            "line": {
             "colorbar": {
              "outlinewidth": 0,
              "ticks": ""
             }
            },
            "marker": {
             "colorbar": {
              "outlinewidth": 0,
              "ticks": ""
             }
            },
            "type": "scatter3d"
           }
          ],
          "scattercarpet": [
           {
            "marker": {
             "colorbar": {
              "outlinewidth": 0,
              "ticks": ""
             }
            },
            "type": "scattercarpet"
           }
          ],
          "scattergeo": [
           {
            "marker": {
             "colorbar": {
              "outlinewidth": 0,
              "ticks": ""
             }
            },
            "type": "scattergeo"
           }
          ],
          "scattergl": [
           {
            "marker": {
             "colorbar": {
              "outlinewidth": 0,
              "ticks": ""
             }
            },
            "type": "scattergl"
           }
          ],
          "scattermap": [
           {
            "marker": {
             "colorbar": {
              "outlinewidth": 0,
              "ticks": ""
             }
            },
            "type": "scattermap"
           }
          ],
          "scattermapbox": [
           {
            "marker": {
             "colorbar": {
              "outlinewidth": 0,
              "ticks": ""
             }
            },
            "type": "scattermapbox"
           }
          ],
          "scatterpolar": [
           {
            "marker": {
             "colorbar": {
              "outlinewidth": 0,
              "ticks": ""
             }
            },
            "type": "scatterpolar"
           }
          ],
          "scatterpolargl": [
           {
            "marker": {
             "colorbar": {
              "outlinewidth": 0,
              "ticks": ""
             }
            },
            "type": "scatterpolargl"
           }
          ],
          "scatterternary": [
           {
            "marker": {
             "colorbar": {
              "outlinewidth": 0,
              "ticks": ""
             }
            },
            "type": "scatterternary"
           }
          ],
          "surface": [
           {
            "colorbar": {
             "outlinewidth": 0,
             "ticks": ""
            },
            "colorscale": [
             [
              0,
              "#0d0887"
             ],
             [
              0.1111111111111111,
              "#46039f"
             ],
             [
              0.2222222222222222,
              "#7201a8"
             ],
             [
              0.3333333333333333,
              "#9c179e"
             ],
             [
              0.4444444444444444,
              "#bd3786"
             ],
             [
              0.5555555555555556,
              "#d8576b"
             ],
             [
              0.6666666666666666,
              "#ed7953"
             ],
             [
              0.7777777777777778,
              "#fb9f3a"
             ],
             [
              0.8888888888888888,
              "#fdca26"
             ],
             [
              1,
              "#f0f921"
             ]
            ],
            "type": "surface"
           }
          ],
          "table": [
           {
            "cells": {
             "fill": {
              "color": "#EBF0F8"
             },
             "line": {
              "color": "white"
             }
            },
            "header": {
             "fill": {
              "color": "#C8D4E3"
             },
             "line": {
              "color": "white"
             }
            },
            "type": "table"
           }
          ]
         },
         "layout": {
          "annotationdefaults": {
           "arrowcolor": "#2a3f5f",
           "arrowhead": 0,
           "arrowwidth": 1
          },
          "autotypenumbers": "strict",
          "coloraxis": {
           "colorbar": {
            "outlinewidth": 0,
            "ticks": ""
           }
          },
          "colorscale": {
           "diverging": [
            [
             0,
             "#8e0152"
            ],
            [
             0.1,
             "#c51b7d"
            ],
            [
             0.2,
             "#de77ae"
            ],
            [
             0.3,
             "#f1b6da"
            ],
            [
             0.4,
             "#fde0ef"
            ],
            [
             0.5,
             "#f7f7f7"
            ],
            [
             0.6,
             "#e6f5d0"
            ],
            [
             0.7,
             "#b8e186"
            ],
            [
             0.8,
             "#7fbc41"
            ],
            [
             0.9,
             "#4d9221"
            ],
            [
             1,
             "#276419"
            ]
           ],
           "sequential": [
            [
             0,
             "#0d0887"
            ],
            [
             0.1111111111111111,
             "#46039f"
            ],
            [
             0.2222222222222222,
             "#7201a8"
            ],
            [
             0.3333333333333333,
             "#9c179e"
            ],
            [
             0.4444444444444444,
             "#bd3786"
            ],
            [
             0.5555555555555556,
             "#d8576b"
            ],
            [
             0.6666666666666666,
             "#ed7953"
            ],
            [
             0.7777777777777778,
             "#fb9f3a"
            ],
            [
             0.8888888888888888,
             "#fdca26"
            ],
            [
             1,
             "#f0f921"
            ]
           ],
           "sequentialminus": [
            [
             0,
             "#0d0887"
            ],
            [
             0.1111111111111111,
             "#46039f"
            ],
            [
             0.2222222222222222,
             "#7201a8"
            ],
            [
             0.3333333333333333,
             "#9c179e"
            ],
            [
             0.4444444444444444,
             "#bd3786"
            ],
            [
             0.5555555555555556,
             "#d8576b"
            ],
            [
             0.6666666666666666,
             "#ed7953"
            ],
            [
             0.7777777777777778,
             "#fb9f3a"
            ],
            [
             0.8888888888888888,
             "#fdca26"
            ],
            [
             1,
             "#f0f921"
            ]
           ]
          },
          "colorway": [
           "#636efa",
           "#EF553B",
           "#00cc96",
           "#ab63fa",
           "#FFA15A",
           "#19d3f3",
           "#FF6692",
           "#B6E880",
           "#FF97FF",
           "#FECB52"
          ],
          "font": {
           "color": "#2a3f5f"
          },
          "geo": {
           "bgcolor": "white",
           "lakecolor": "white",
           "landcolor": "#E5ECF6",
           "showlakes": true,
           "showland": true,
           "subunitcolor": "white"
          },
          "hoverlabel": {
           "align": "left"
          },
          "hovermode": "closest",
          "mapbox": {
           "style": "light"
          },
          "paper_bgcolor": "white",
          "plot_bgcolor": "#E5ECF6",
          "polar": {
           "angularaxis": {
            "gridcolor": "white",
            "linecolor": "white",
            "ticks": ""
           },
           "bgcolor": "#E5ECF6",
           "radialaxis": {
            "gridcolor": "white",
            "linecolor": "white",
            "ticks": ""
           }
          },
          "scene": {
           "xaxis": {
            "backgroundcolor": "#E5ECF6",
            "gridcolor": "white",
            "gridwidth": 2,
            "linecolor": "white",
            "showbackground": true,
            "ticks": "",
            "zerolinecolor": "white"
           },
           "yaxis": {
            "backgroundcolor": "#E5ECF6",
            "gridcolor": "white",
            "gridwidth": 2,
            "linecolor": "white",
            "showbackground": true,
            "ticks": "",
            "zerolinecolor": "white"
           },
           "zaxis": {
            "backgroundcolor": "#E5ECF6",
            "gridcolor": "white",
            "gridwidth": 2,
            "linecolor": "white",
            "showbackground": true,
            "ticks": "",
            "zerolinecolor": "white"
           }
          },
          "shapedefaults": {
           "line": {
            "color": "#2a3f5f"
           }
          },
          "ternary": {
           "aaxis": {
            "gridcolor": "white",
            "linecolor": "white",
            "ticks": ""
           },
           "baxis": {
            "gridcolor": "white",
            "linecolor": "white",
            "ticks": ""
           },
           "bgcolor": "#E5ECF6",
           "caxis": {
            "gridcolor": "white",
            "linecolor": "white",
            "ticks": ""
           }
          },
          "title": {
           "x": 0.05
          },
          "xaxis": {
           "automargin": true,
           "gridcolor": "white",
           "linecolor": "white",
           "ticks": "",
           "title": {
            "standoff": 15
           },
           "zerolinecolor": "white",
           "zerolinewidth": 2
          },
          "yaxis": {
           "automargin": true,
           "gridcolor": "white",
           "linecolor": "white",
           "ticks": "",
           "title": {
            "standoff": 15
           },
           "zerolinecolor": "white",
           "zerolinewidth": 2
          }
         }
        },
        "title": {
         "text": "Totales de promedios de votos y abstención por año"
        },
        "xaxis": {
         "anchor": "y",
         "domain": [
          0,
          1
         ],
         "title": {
          "text": "Año"
         }
        },
        "yaxis": {
         "anchor": "x",
         "domain": [
          0,
          1
         ],
         "title": {
          "text": "Cantidad"
         }
        }
       }
      }
     },
     "metadata": {},
     "output_type": "display_data"
    }
   ],
   "source": [
    "stats_pivot_mean = stats_pivot_mean.reset_index()\n",
    "\n",
    "# Gráfico de barras usando la versión pivotada\n",
    "fig1 = px.bar(stats_pivot_mean, x=\"Año\", y=[\"VOTANTES\", \"VALIDOS\", \"ABSTENCIONES\", \"NULOS\", \"BLANCOS\"],\n",
    "              barmode='group',\n",
    "              title=\"Totales de promedios de votos y abstención por año\",\n",
    "              labels={\"value\": \"Cantidad\", \"variable\": \"Tipo de voto\"})\n",
    "\n",
    "fig1.show()"
   ]
  },
  {
   "cell_type": "code",
   "execution_count": 17,
   "id": "7684af65",
   "metadata": {},
   "outputs": [
    {
     "name": "stdout",
     "output_type": "stream",
     "text": [
      "    Año  PROVINCIA  ABSTENCIONES  BLANCOS     CENSO   NULOS   VALIDOS  \\\n",
      "0  2009   Alicante      21460565   226765  43264935  138950  21665420   \n",
      "1  2009  Castellón       6894195    98525  14576170   59500   7622475   \n",
      "2  2009   Valencia      29296505   389130  65926560  238245  36391810   \n",
      "3  2014   Alicante      26819325   443625  49394358  642564  21932469   \n",
      "4  2014  Castellón       8175609   182988  16327272  281814   7869849   \n",
      "5  2014   Valencia      34847046   777777  74169966  797355  38525565   \n",
      "6  2019   Alicante      16390048   190752  41148672  204096  24554528   \n",
      "7  2019  Castellón       4501248    87616  13412608   90272   8821088   \n",
      "8  2019   Valencia      20536832   302432  61421152  273184  40611136   \n",
      "\n",
      "   VOTANTES  % Votantes  % Votos Validos  % Abstenciones  % Votos Nulos  \\\n",
      "0  21804370       50.40            50.08           49.60           0.32   \n",
      "1   7681975       52.70            52.29           47.30           0.41   \n",
      "2  36630055       55.56            55.20           44.44           0.36   \n",
      "3  22575033       45.70            44.40           54.30           1.30   \n",
      "4   8151663       49.93            48.20           50.07           1.73   \n",
      "5  39322920       53.02            51.94           46.98           1.08   \n",
      "6  24758624       60.17            59.67           39.83           0.50   \n",
      "7   8911360       66.44            65.77           33.56           0.67   \n",
      "8  40884320       66.56            66.12           33.44           0.44   \n",
      "\n",
      "   % Votos Blanco  \n",
      "0            0.52  \n",
      "1            0.68  \n",
      "2            0.59  \n",
      "3            0.90  \n",
      "4            1.12  \n",
      "5            1.05  \n",
      "6            0.46  \n",
      "7            0.65  \n",
      "8            0.49  \n"
     ]
    }
   ],
   "source": [
    "#stats_provincia_pivot = df_final.pivot_table(index=[\"PROVINCIA\", \"Año\"], values=[\"CENSO\",\"VOTANTES\", \"VALIDOS\", \"ABSTENCIONES\",\"NULOS\" ,\"BLANCOS\"], aggfunc=\"sum\").reset_index()\n",
    "\n",
    "# Crear tabla pivotada por provincia y año\n",
    "stats_provincia_pivot = df_final.pivot_table(index=[\"Año\", \"PROVINCIA\"], values=[\"CENSO\",\"VOTANTES\",\"VALIDOS\" ,\"ABSTENCIONES\", \"NULOS\", \"BLANCOS\"], aggfunc=\"sum\").reset_index()\n",
    "\n",
    "# Calcular porcentajes\n",
    "stats_provincia_pivot[\"% Votantes\"] = ((stats_provincia_pivot[\"VOTANTES\"] / stats_provincia_pivot[\"CENSO\"]) * 100).round(2)\n",
    "stats_provincia_pivot[\"% Votos Validos\"] = ((stats_provincia_pivot[\"VALIDOS\"] / stats_provincia_pivot[\"CENSO\"]) * 100).round(2)\n",
    "stats_provincia_pivot[\"% Abstenciones\"] = ((stats_provincia_pivot[\"ABSTENCIONES\"] / stats_provincia_pivot[\"CENSO\"]) * 100).round(2)\n",
    "stats_provincia_pivot[\"% Votos Nulos\"] = ((stats_provincia_pivot[\"NULOS\"] / stats_provincia_pivot[\"CENSO\"]) * 100).round(2)\n",
    "stats_provincia_pivot[\"% Votos Blanco\"] = ((stats_provincia_pivot[\"BLANCOS\"] / stats_provincia_pivot[\"CENSO\"]) * 100).round(2)\n",
    "\n",
    "# Mostrar tabla con porcentajes\n",
    "print(stats_provincia_pivot)\n",
    "\n"
   ]
  },
  {
   "cell_type": "code",
   "execution_count": 18,
   "id": "fbee774b",
   "metadata": {},
   "outputs": [
    {
     "data": {
      "application/vnd.plotly.v1+json": {
       "config": {
        "plotlyServerURL": "https://plot.ly"
       },
       "data": [
        {
         "alignmentgroup": "True",
         "hovertemplate": "Tipo de voto=VOTANTES<br>Año=2009<br>PROVINCIA=%{x}<br>Cantidad=%{y}<extra></extra>",
         "legendgroup": "VOTANTES",
         "marker": {
          "color": "#636efa",
          "pattern": {
           "shape": ""
          }
         },
         "name": "VOTANTES",
         "offsetgroup": "VOTANTES",
         "orientation": "v",
         "showlegend": true,
         "textposition": "auto",
         "type": "bar",
         "x": [
          "Alicante",
          "Castellón",
          "Valencia"
         ],
         "xaxis": "x3",
         "y": {
          "bdata": "UrVMAbc3dQAn7i4C",
          "dtype": "i4"
         },
         "yaxis": "y3"
        },
        {
         "alignmentgroup": "True",
         "hovertemplate": "Tipo de voto=VOTANTES<br>Año=2014<br>PROVINCIA=%{x}<br>Cantidad=%{y}<extra></extra>",
         "legendgroup": "VOTANTES",
         "marker": {
          "color": "#636efa",
          "pattern": {
           "shape": ""
          }
         },
         "name": "VOTANTES",
         "offsetgroup": "VOTANTES",
         "orientation": "v",
         "showlegend": false,
         "textposition": "auto",
         "type": "bar",
         "x": [
          "Alicante",
          "Castellón",
          "Valencia"
         ],
         "xaxis": "x2",
         "y": {
          "bdata": "uXdYAW9ifAAoBVgC",
          "dtype": "i4"
         },
         "yaxis": "y2"
        },
        {
         "alignmentgroup": "True",
         "hovertemplate": "Tipo de voto=VOTANTES<br>Año=2019<br>PROVINCIA=%{x}<br>Cantidad=%{y}<extra></extra>",
         "legendgroup": "VOTANTES",
         "marker": {
          "color": "#636efa",
          "pattern": {
           "shape": ""
          }
         },
         "name": "VOTANTES",
         "offsetgroup": "VOTANTES",
         "orientation": "v",
         "showlegend": false,
         "textposition": "auto",
         "type": "bar",
         "x": [
          "Alicante",
          "Castellón",
          "Valencia"
         ],
         "xaxis": "x",
         "y": {
          "bdata": "YMl5AQD6hwBg2G8C",
          "dtype": "i4"
         },
         "yaxis": "y"
        },
        {
         "alignmentgroup": "True",
         "hovertemplate": "Tipo de voto=VALIDOS<br>Año=2009<br>PROVINCIA=%{x}<br>Cantidad=%{y}<extra></extra>",
         "legendgroup": "VALIDOS",
         "marker": {
          "color": "#EF553B",
          "pattern": {
           "shape": ""
          }
         },
         "name": "VALIDOS",
         "offsetgroup": "VALIDOS",
         "orientation": "v",
         "showlegend": true,
         "textposition": "auto",
         "type": "bar",
         "x": [
          "Alicante",
          "Castellón",
          "Valencia"
         ],
         "xaxis": "x3",
         "y": {
          "bdata": "jJZKAUtPdACCSysC",
          "dtype": "i4"
         },
         "yaxis": "y3"
        },
        {
         "alignmentgroup": "True",
         "hovertemplate": "Tipo de voto=VALIDOS<br>Año=2014<br>PROVINCIA=%{x}<br>Cantidad=%{y}<extra></extra>",
         "legendgroup": "VALIDOS",
         "marker": {
          "color": "#EF553B",
          "pattern": {
           "shape": ""
          }
         },
         "name": "VALIDOS",
         "offsetgroup": "VALIDOS",
         "orientation": "v",
         "showlegend": false,
         "textposition": "auto",
         "type": "bar",
         "x": [
          "Alicante",
          "Castellón",
          "Valencia"
         ],
         "xaxis": "x2",
         "y": {
          "bdata": "talOAZkVeAB92ksC",
          "dtype": "i4"
         },
         "yaxis": "y2"
        },
        {
         "alignmentgroup": "True",
         "hovertemplate": "Tipo de voto=VALIDOS<br>Año=2019<br>PROVINCIA=%{x}<br>Cantidad=%{y}<extra></extra>",
         "legendgroup": "VALIDOS",
         "marker": {
          "color": "#EF553B",
          "pattern": {
           "shape": ""
          }
         },
         "name": "VALIDOS",
         "offsetgroup": "VALIDOS",
         "orientation": "v",
         "showlegend": false,
         "textposition": "auto",
         "type": "bar",
         "x": [
          "Alicante",
          "Castellón",
          "Valencia"
         ],
         "xaxis": "x",
         "y": {
          "bdata": "IKx2AWCZhgBArWsC",
          "dtype": "i4"
         },
         "yaxis": "y"
        },
        {
         "alignmentgroup": "True",
         "hovertemplate": "Tipo de voto=ABSTENCIONES<br>Año=2009<br>PROVINCIA=%{x}<br>Cantidad=%{y}<extra></extra>",
         "legendgroup": "ABSTENCIONES",
         "marker": {
          "color": "#00cc96",
          "pattern": {
           "shape": ""
          }
         },
         "name": "ABSTENCIONES",
         "offsetgroup": "ABSTENCIONES",
         "orientation": "v",
         "showlegend": true,
         "textposition": "auto",
         "type": "bar",
         "x": [
          "Alicante",
          "Castellón",
          "Valencia"
         ],
         "xaxis": "x3",
         "y": {
          "bdata": "VXZHAXMyaQB5B78B",
          "dtype": "i4"
         },
         "yaxis": "y3"
        },
        {
         "alignmentgroup": "True",
         "hovertemplate": "Tipo de voto=ABSTENCIONES<br>Año=2014<br>PROVINCIA=%{x}<br>Cantidad=%{y}<extra></extra>",
         "legendgroup": "ABSTENCIONES",
         "marker": {
          "color": "#00cc96",
          "pattern": {
           "shape": ""
          }
         },
         "name": "ABSTENCIONES",
         "offsetgroup": "ABSTENCIONES",
         "orientation": "v",
         "showlegend": false,
         "textposition": "auto",
         "type": "bar",
         "x": [
          "Alicante",
          "Castellón",
          "Valencia"
         ],
         "xaxis": "x2",
         "y": {
          "bdata": "/TqZAfm/fABGuRMC",
          "dtype": "i4"
         },
         "yaxis": "y2"
        },
        {
         "alignmentgroup": "True",
         "hovertemplate": "Tipo de voto=ABSTENCIONES<br>Año=2019<br>PROVINCIA=%{x}<br>Cantidad=%{y}<extra></extra>",
         "legendgroup": "ABSTENCIONES",
         "marker": {
          "color": "#00cc96",
          "pattern": {
           "shape": ""
          }
         },
         "name": "ABSTENCIONES",
         "offsetgroup": "ABSTENCIONES",
         "orientation": "v",
         "showlegend": false,
         "textposition": "auto",
         "type": "bar",
         "x": [
          "Alicante",
          "Castellón",
          "Valencia"
         ],
         "xaxis": "x",
         "y": {
          "bdata": "oBf6AACvRAAAXjkB",
          "dtype": "i4"
         },
         "yaxis": "y"
        },
        {
         "alignmentgroup": "True",
         "hovertemplate": "Tipo de voto=NULOS<br>Año=2009<br>PROVINCIA=%{x}<br>Cantidad=%{y}<extra></extra>",
         "legendgroup": "NULOS",
         "marker": {
          "color": "#ab63fa",
          "pattern": {
           "shape": ""
          }
         },
         "name": "NULOS",
         "offsetgroup": "NULOS",
         "orientation": "v",
         "showlegend": true,
         "textposition": "auto",
         "type": "bar",
         "x": [
          "Alicante",
          "Castellón",
          "Valencia"
         ],
         "xaxis": "x3",
         "y": {
          "bdata": "xh4CAGzoAAClogMA",
          "dtype": "i4"
         },
         "yaxis": "y3"
        },
        {
         "alignmentgroup": "True",
         "hovertemplate": "Tipo de voto=NULOS<br>Año=2014<br>PROVINCIA=%{x}<br>Cantidad=%{y}<extra></extra>",
         "legendgroup": "NULOS",
         "marker": {
          "color": "#ab63fa",
          "pattern": {
           "shape": ""
          }
         },
         "name": "NULOS",
         "offsetgroup": "NULOS",
         "orientation": "v",
         "showlegend": false,
         "textposition": "auto",
         "type": "bar",
         "x": [
          "Alicante",
          "Castellón",
          "Valencia"
         ],
         "xaxis": "x2",
         "y": {
          "bdata": "BM4JANZMBACrKgwA",
          "dtype": "i4"
         },
         "yaxis": "y2"
        },
        {
         "alignmentgroup": "True",
         "hovertemplate": "Tipo de voto=NULOS<br>Año=2019<br>PROVINCIA=%{x}<br>Cantidad=%{y}<extra></extra>",
         "legendgroup": "NULOS",
         "marker": {
          "color": "#ab63fa",
          "pattern": {
           "shape": ""
          }
         },
         "name": "NULOS",
         "offsetgroup": "NULOS",
         "orientation": "v",
         "showlegend": false,
         "textposition": "auto",
         "type": "bar",
         "x": [
          "Alicante",
          "Castellón",
          "Valencia"
         ],
         "xaxis": "x",
         "y": {
          "bdata": "QB0DAKBgAQAgKwQA",
          "dtype": "i4"
         },
         "yaxis": "y"
        },
        {
         "alignmentgroup": "True",
         "hovertemplate": "Tipo de voto=BLANCOS<br>Año=2009<br>PROVINCIA=%{x}<br>Cantidad=%{y}<extra></extra>",
         "legendgroup": "BLANCOS",
         "marker": {
          "color": "#FFA15A",
          "pattern": {
           "shape": ""
          }
         },
         "name": "BLANCOS",
         "offsetgroup": "BLANCOS",
         "orientation": "v",
         "showlegend": true,
         "textposition": "auto",
         "type": "bar",
         "x": [
          "Alicante",
          "Castellón",
          "Valencia"
         ],
         "xaxis": "x3",
         "y": {
          "bdata": "zXUDAN2AAQAK8AUA",
          "dtype": "i4"
         },
         "yaxis": "y3"
        },
        {
         "alignmentgroup": "True",
         "hovertemplate": "Tipo de voto=BLANCOS<br>Año=2014<br>PROVINCIA=%{x}<br>Cantidad=%{y}<extra></extra>",
         "legendgroup": "BLANCOS",
         "marker": {
          "color": "#FFA15A",
          "pattern": {
           "shape": ""
          }
         },
         "name": "BLANCOS",
         "offsetgroup": "BLANCOS",
         "orientation": "v",
         "showlegend": false,
         "textposition": "auto",
         "type": "bar",
         "x": [
          "Alicante",
          "Castellón",
          "Valencia"
         ],
         "xaxis": "x2",
         "y": {
          "bdata": "6cQGAMzKAgAx3gsA",
          "dtype": "i4"
         },
         "yaxis": "y2"
        },
        {
         "alignmentgroup": "True",
         "hovertemplate": "Tipo de voto=BLANCOS<br>Año=2019<br>PROVINCIA=%{x}<br>Cantidad=%{y}<extra></extra>",
         "legendgroup": "BLANCOS",
         "marker": {
          "color": "#FFA15A",
          "pattern": {
           "shape": ""
          }
         },
         "name": "BLANCOS",
         "offsetgroup": "BLANCOS",
         "orientation": "v",
         "showlegend": false,
         "textposition": "auto",
         "type": "bar",
         "x": [
          "Alicante",
          "Castellón",
          "Valencia"
         ],
         "xaxis": "x",
         "y": {
          "bdata": "IOkCAEBWAQBgnQQA",
          "dtype": "i4"
         },
         "yaxis": "y"
        }
       ],
       "layout": {
        "annotations": [
         {
          "font": {},
          "showarrow": false,
          "text": "Año=2019",
          "textangle": 90,
          "x": 0.98,
          "xanchor": "left",
          "xref": "paper",
          "y": 0.15666666666666665,
          "yanchor": "middle",
          "yref": "paper"
         },
         {
          "font": {},
          "showarrow": false,
          "text": "Año=2014",
          "textangle": 90,
          "x": 0.98,
          "xanchor": "left",
          "xref": "paper",
          "y": 0.4999999999999999,
          "yanchor": "middle",
          "yref": "paper"
         },
         {
          "font": {},
          "showarrow": false,
          "text": "Año=2009",
          "textangle": 90,
          "x": 0.98,
          "xanchor": "left",
          "xref": "paper",
          "y": 0.8433333333333332,
          "yanchor": "middle",
          "yref": "paper"
         }
        ],
        "barmode": "group",
        "height": 900,
        "legend": {
         "title": {
          "text": "Tipo de voto"
         },
         "tracegroupgap": 0
        },
        "template": {
         "data": {
          "bar": [
           {
            "error_x": {
             "color": "#2a3f5f"
            },
            "error_y": {
             "color": "#2a3f5f"
            },
            "marker": {
             "line": {
              "color": "#E5ECF6",
              "width": 0.5
             },
             "pattern": {
              "fillmode": "overlay",
              "size": 10,
              "solidity": 0.2
             }
            },
            "type": "bar"
           }
          ],
          "barpolar": [
           {
            "marker": {
             "line": {
              "color": "#E5ECF6",
              "width": 0.5
             },
             "pattern": {
              "fillmode": "overlay",
              "size": 10,
              "solidity": 0.2
             }
            },
            "type": "barpolar"
           }
          ],
          "carpet": [
           {
            "aaxis": {
             "endlinecolor": "#2a3f5f",
             "gridcolor": "white",
             "linecolor": "white",
             "minorgridcolor": "white",
             "startlinecolor": "#2a3f5f"
            },
            "baxis": {
             "endlinecolor": "#2a3f5f",
             "gridcolor": "white",
             "linecolor": "white",
             "minorgridcolor": "white",
             "startlinecolor": "#2a3f5f"
            },
            "type": "carpet"
           }
          ],
          "choropleth": [
           {
            "colorbar": {
             "outlinewidth": 0,
             "ticks": ""
            },
            "type": "choropleth"
           }
          ],
          "contour": [
           {
            "colorbar": {
             "outlinewidth": 0,
             "ticks": ""
            },
            "colorscale": [
             [
              0,
              "#0d0887"
             ],
             [
              0.1111111111111111,
              "#46039f"
             ],
             [
              0.2222222222222222,
              "#7201a8"
             ],
             [
              0.3333333333333333,
              "#9c179e"
             ],
             [
              0.4444444444444444,
              "#bd3786"
             ],
             [
              0.5555555555555556,
              "#d8576b"
             ],
             [
              0.6666666666666666,
              "#ed7953"
             ],
             [
              0.7777777777777778,
              "#fb9f3a"
             ],
             [
              0.8888888888888888,
              "#fdca26"
             ],
             [
              1,
              "#f0f921"
             ]
            ],
            "type": "contour"
           }
          ],
          "contourcarpet": [
           {
            "colorbar": {
             "outlinewidth": 0,
             "ticks": ""
            },
            "type": "contourcarpet"
           }
          ],
          "heatmap": [
           {
            "colorbar": {
             "outlinewidth": 0,
             "ticks": ""
            },
            "colorscale": [
             [
              0,
              "#0d0887"
             ],
             [
              0.1111111111111111,
              "#46039f"
             ],
             [
              0.2222222222222222,
              "#7201a8"
             ],
             [
              0.3333333333333333,
              "#9c179e"
             ],
             [
              0.4444444444444444,
              "#bd3786"
             ],
             [
              0.5555555555555556,
              "#d8576b"
             ],
             [
              0.6666666666666666,
              "#ed7953"
             ],
             [
              0.7777777777777778,
              "#fb9f3a"
             ],
             [
              0.8888888888888888,
              "#fdca26"
             ],
             [
              1,
              "#f0f921"
             ]
            ],
            "type": "heatmap"
           }
          ],
          "histogram": [
           {
            "marker": {
             "pattern": {
              "fillmode": "overlay",
              "size": 10,
              "solidity": 0.2
             }
            },
            "type": "histogram"
           }
          ],
          "histogram2d": [
           {
            "colorbar": {
             "outlinewidth": 0,
             "ticks": ""
            },
            "colorscale": [
             [
              0,
              "#0d0887"
             ],
             [
              0.1111111111111111,
              "#46039f"
             ],
             [
              0.2222222222222222,
              "#7201a8"
             ],
             [
              0.3333333333333333,
              "#9c179e"
             ],
             [
              0.4444444444444444,
              "#bd3786"
             ],
             [
              0.5555555555555556,
              "#d8576b"
             ],
             [
              0.6666666666666666,
              "#ed7953"
             ],
             [
              0.7777777777777778,
              "#fb9f3a"
             ],
             [
              0.8888888888888888,
              "#fdca26"
             ],
             [
              1,
              "#f0f921"
             ]
            ],
            "type": "histogram2d"
           }
          ],
          "histogram2dcontour": [
           {
            "colorbar": {
             "outlinewidth": 0,
             "ticks": ""
            },
            "colorscale": [
             [
              0,
              "#0d0887"
             ],
             [
              0.1111111111111111,
              "#46039f"
             ],
             [
              0.2222222222222222,
              "#7201a8"
             ],
             [
              0.3333333333333333,
              "#9c179e"
             ],
             [
              0.4444444444444444,
              "#bd3786"
             ],
             [
              0.5555555555555556,
              "#d8576b"
             ],
             [
              0.6666666666666666,
              "#ed7953"
             ],
             [
              0.7777777777777778,
              "#fb9f3a"
             ],
             [
              0.8888888888888888,
              "#fdca26"
             ],
             [
              1,
              "#f0f921"
             ]
            ],
            "type": "histogram2dcontour"
           }
          ],
          "mesh3d": [
           {
            "colorbar": {
             "outlinewidth": 0,
             "ticks": ""
            },
            "type": "mesh3d"
           }
          ],
          "parcoords": [
           {
            "line": {
             "colorbar": {
              "outlinewidth": 0,
              "ticks": ""
             }
            },
            "type": "parcoords"
           }
          ],
          "pie": [
           {
            "automargin": true,
            "type": "pie"
           }
          ],
          "scatter": [
           {
            "fillpattern": {
             "fillmode": "overlay",
             "size": 10,
             "solidity": 0.2
            },
            "type": "scatter"
           }
          ],
          "scatter3d": [
           {
            "line": {
             "colorbar": {
              "outlinewidth": 0,
              "ticks": ""
             }
            },
            "marker": {
             "colorbar": {
              "outlinewidth": 0,
              "ticks": ""
             }
            },
            "type": "scatter3d"
           }
          ],
          "scattercarpet": [
           {
            "marker": {
             "colorbar": {
              "outlinewidth": 0,
              "ticks": ""
             }
            },
            "type": "scattercarpet"
           }
          ],
          "scattergeo": [
           {
            "marker": {
             "colorbar": {
              "outlinewidth": 0,
              "ticks": ""
             }
            },
            "type": "scattergeo"
           }
          ],
          "scattergl": [
           {
            "marker": {
             "colorbar": {
              "outlinewidth": 0,
              "ticks": ""
             }
            },
            "type": "scattergl"
           }
          ],
          "scattermap": [
           {
            "marker": {
             "colorbar": {
              "outlinewidth": 0,
              "ticks": ""
             }
            },
            "type": "scattermap"
           }
          ],
          "scattermapbox": [
           {
            "marker": {
             "colorbar": {
              "outlinewidth": 0,
              "ticks": ""
             }
            },
            "type": "scattermapbox"
           }
          ],
          "scatterpolar": [
           {
            "marker": {
             "colorbar": {
              "outlinewidth": 0,
              "ticks": ""
             }
            },
            "type": "scatterpolar"
           }
          ],
          "scatterpolargl": [
           {
            "marker": {
             "colorbar": {
              "outlinewidth": 0,
              "ticks": ""
             }
            },
            "type": "scatterpolargl"
           }
          ],
          "scatterternary": [
           {
            "marker": {
             "colorbar": {
              "outlinewidth": 0,
              "ticks": ""
             }
            },
            "type": "scatterternary"
           }
          ],
          "surface": [
           {
            "colorbar": {
             "outlinewidth": 0,
             "ticks": ""
            },
            "colorscale": [
             [
              0,
              "#0d0887"
             ],
             [
              0.1111111111111111,
              "#46039f"
             ],
             [
              0.2222222222222222,
              "#7201a8"
             ],
             [
              0.3333333333333333,
              "#9c179e"
             ],
             [
              0.4444444444444444,
              "#bd3786"
             ],
             [
              0.5555555555555556,
              "#d8576b"
             ],
             [
              0.6666666666666666,
              "#ed7953"
             ],
             [
              0.7777777777777778,
              "#fb9f3a"
             ],
             [
              0.8888888888888888,
              "#fdca26"
             ],
             [
              1,
              "#f0f921"
             ]
            ],
            "type": "surface"
           }
          ],
          "table": [
           {
            "cells": {
             "fill": {
              "color": "#EBF0F8"
             },
             "line": {
              "color": "white"
             }
            },
            "header": {
             "fill": {
              "color": "#C8D4E3"
             },
             "line": {
              "color": "white"
             }
            },
            "type": "table"
           }
          ]
         },
         "layout": {
          "annotationdefaults": {
           "arrowcolor": "#2a3f5f",
           "arrowhead": 0,
           "arrowwidth": 1
          },
          "autotypenumbers": "strict",
          "coloraxis": {
           "colorbar": {
            "outlinewidth": 0,
            "ticks": ""
           }
          },
          "colorscale": {
           "diverging": [
            [
             0,
             "#8e0152"
            ],
            [
             0.1,
             "#c51b7d"
            ],
            [
             0.2,
             "#de77ae"
            ],
            [
             0.3,
             "#f1b6da"
            ],
            [
             0.4,
             "#fde0ef"
            ],
            [
             0.5,
             "#f7f7f7"
            ],
            [
             0.6,
             "#e6f5d0"
            ],
            [
             0.7,
             "#b8e186"
            ],
            [
             0.8,
             "#7fbc41"
            ],
            [
             0.9,
             "#4d9221"
            ],
            [
             1,
             "#276419"
            ]
           ],
           "sequential": [
            [
             0,
             "#0d0887"
            ],
            [
             0.1111111111111111,
             "#46039f"
            ],
            [
             0.2222222222222222,
             "#7201a8"
            ],
            [
             0.3333333333333333,
             "#9c179e"
            ],
            [
             0.4444444444444444,
             "#bd3786"
            ],
            [
             0.5555555555555556,
             "#d8576b"
            ],
            [
             0.6666666666666666,
             "#ed7953"
            ],
            [
             0.7777777777777778,
             "#fb9f3a"
            ],
            [
             0.8888888888888888,
             "#fdca26"
            ],
            [
             1,
             "#f0f921"
            ]
           ],
           "sequentialminus": [
            [
             0,
             "#0d0887"
            ],
            [
             0.1111111111111111,
             "#46039f"
            ],
            [
             0.2222222222222222,
             "#7201a8"
            ],
            [
             0.3333333333333333,
             "#9c179e"
            ],
            [
             0.4444444444444444,
             "#bd3786"
            ],
            [
             0.5555555555555556,
             "#d8576b"
            ],
            [
             0.6666666666666666,
             "#ed7953"
            ],
            [
             0.7777777777777778,
             "#fb9f3a"
            ],
            [
             0.8888888888888888,
             "#fdca26"
            ],
            [
             1,
             "#f0f921"
            ]
           ]
          },
          "colorway": [
           "#636efa",
           "#EF553B",
           "#00cc96",
           "#ab63fa",
           "#FFA15A",
           "#19d3f3",
           "#FF6692",
           "#B6E880",
           "#FF97FF",
           "#FECB52"
          ],
          "font": {
           "color": "#2a3f5f"
          },
          "geo": {
           "bgcolor": "white",
           "lakecolor": "white",
           "landcolor": "#E5ECF6",
           "showlakes": true,
           "showland": true,
           "subunitcolor": "white"
          },
          "hoverlabel": {
           "align": "left"
          },
          "hovermode": "closest",
          "mapbox": {
           "style": "light"
          },
          "paper_bgcolor": "white",
          "plot_bgcolor": "#E5ECF6",
          "polar": {
           "angularaxis": {
            "gridcolor": "white",
            "linecolor": "white",
            "ticks": ""
           },
           "bgcolor": "#E5ECF6",
           "radialaxis": {
            "gridcolor": "white",
            "linecolor": "white",
            "ticks": ""
           }
          },
          "scene": {
           "xaxis": {
            "backgroundcolor": "#E5ECF6",
            "gridcolor": "white",
            "gridwidth": 2,
            "linecolor": "white",
            "showbackground": true,
            "ticks": "",
            "zerolinecolor": "white"
           },
           "yaxis": {
            "backgroundcolor": "#E5ECF6",
            "gridcolor": "white",
            "gridwidth": 2,
            "linecolor": "white",
            "showbackground": true,
            "ticks": "",
            "zerolinecolor": "white"
           },
           "zaxis": {
            "backgroundcolor": "#E5ECF6",
            "gridcolor": "white",
            "gridwidth": 2,
            "linecolor": "white",
            "showbackground": true,
            "ticks": "",
            "zerolinecolor": "white"
           }
          },
          "shapedefaults": {
           "line": {
            "color": "#2a3f5f"
           }
          },
          "ternary": {
           "aaxis": {
            "gridcolor": "white",
            "linecolor": "white",
            "ticks": ""
           },
           "baxis": {
            "gridcolor": "white",
            "linecolor": "white",
            "ticks": ""
           },
           "bgcolor": "#E5ECF6",
           "caxis": {
            "gridcolor": "white",
            "linecolor": "white",
            "ticks": ""
           }
          },
          "title": {
           "x": 0.05
          },
          "xaxis": {
           "automargin": true,
           "gridcolor": "white",
           "linecolor": "white",
           "ticks": "",
           "title": {
            "standoff": 15
           },
           "zerolinecolor": "white",
           "zerolinewidth": 2
          },
          "yaxis": {
           "automargin": true,
           "gridcolor": "white",
           "linecolor": "white",
           "ticks": "",
           "title": {
            "standoff": 15
           },
           "zerolinecolor": "white",
           "zerolinewidth": 2
          }
         }
        },
        "title": {
         "text": "Totales de votos, validos, nulos y abstención por provincia"
        },
        "xaxis": {
         "anchor": "y",
         "domain": [
          0,
          0.98
         ],
         "title": {
          "text": "PROVINCIA"
         }
        },
        "xaxis2": {
         "anchor": "y2",
         "domain": [
          0,
          0.98
         ],
         "matches": "x",
         "showticklabels": false
        },
        "xaxis3": {
         "anchor": "y3",
         "domain": [
          0,
          0.98
         ],
         "matches": "x",
         "showticklabels": false
        },
        "yaxis": {
         "anchor": "x",
         "domain": [
          0,
          0.3133333333333333
         ],
         "title": {
          "text": "Cantidad"
         }
        },
        "yaxis2": {
         "anchor": "x2",
         "domain": [
          0.34333333333333327,
          0.6566666666666665
         ],
         "matches": "y",
         "title": {
          "text": "Cantidad"
         }
        },
        "yaxis3": {
         "anchor": "x3",
         "domain": [
          0.6866666666666665,
          0.9999999999999998
         ],
         "matches": "y",
         "title": {
          "text": "Cantidad"
         }
        }
       }
      }
     },
     "metadata": {},
     "output_type": "display_data"
    }
   ],
   "source": [
    "# Gráfico de barras por provincia\n",
    "fig2 = px.bar(stats_provincia_pivot, x=\"PROVINCIA\", y=[\"VOTANTES\", \"VALIDOS\", \"ABSTENCIONES\",\"NULOS\",\"BLANCOS\"],\n",
    "              barmode='group',\n",
    "              facet_row=\"Año\", #facet_col=\"Año\",\n",
    "              title=\"Totales de votos, validos, nulos y abstención por provincia\",\n",
    "              labels={\"value\": \"Cantidad\", \"variable\": \"Tipo de voto\"},height=900)\n",
    "\n",
    "fig2.show()\n"
   ]
  },
  {
   "cell_type": "markdown",
   "id": "66ce9b79",
   "metadata": {},
   "source": [
    "Las conclusiones antes descritas se mantienen al hacer la agregación en las tres provincias. Se observa en cada caso el descenso de la abstención, y el aumento de votos validos."
   ]
  },
  {
   "cell_type": "code",
   "execution_count": 19,
   "id": "84457f2e",
   "metadata": {},
   "outputs": [
    {
     "data": {
      "application/vnd.plotly.v1+json": {
       "config": {
        "plotlyServerURL": "https://plot.ly"
       },
       "data": [
        {
         "hovertemplate": "Tipo de voto=VOTANTES<br>Año=%{x}<br>Cantidad=%{y}<extra></extra>",
         "legendgroup": "VOTANTES",
         "line": {
          "color": "#636efa",
          "dash": "solid"
         },
         "marker": {
          "symbol": "circle"
         },
         "mode": "lines+markers",
         "name": "VOTANTES",
         "orientation": "v",
         "showlegend": true,
         "type": "scatter",
         "x": {
          "bdata": "2QfeB+MH",
          "dtype": "i2"
         },
         "xaxis": "x",
         "y": {
          "bdata": "MNvwA1DfLATAm3EE",
          "dtype": "i4"
         },
         "yaxis": "y"
        },
        {
         "hovertemplate": "Tipo de voto=VALIDOS<br>Año=%{x}<br>Cantidad=%{y}<extra></extra>",
         "legendgroup": "VALIDOS",
         "line": {
          "color": "#EF553B",
          "dash": "solid"
         },
         "marker": {
          "symbol": "circle"
         },
         "mode": "lines+markers",
         "name": "VALIDOS",
         "orientation": "v",
         "showlegend": true,
         "type": "scatter",
         "x": {
          "bdata": "2QfeB+MH",
          "dtype": "i2"
         },
         "xaxis": "x",
         "y": {
          "bdata": "WTHqA8uZEgTA8mgE",
          "dtype": "i4"
         },
         "yaxis": "y"
        },
        {
         "hovertemplate": "Tipo de voto=ABSTENCIONES<br>Año=%{x}<br>Cantidad=%{y}<extra></extra>",
         "legendgroup": "ABSTENCIONES",
         "line": {
          "color": "#00cc96",
          "dash": "solid"
         },
         "marker": {
          "symbol": "circle"
         },
         "mode": "lines+markers",
         "name": "ABSTENCIONES",
         "orientation": "v",
         "showlegend": true,
         "type": "scatter",
         "x": {
          "bdata": "2QfeB+MH",
          "dtype": "i2"
         },
         "xaxis": "x",
         "y": {
          "bdata": "QbBvAzy0KQSgJHgC",
          "dtype": "i4"
         },
         "yaxis": "y"
        },
        {
         "hovertemplate": "Tipo de voto=NULOS<br>Año=%{x}<br>Cantidad=%{y}<extra></extra>",
         "legendgroup": "NULOS",
         "line": {
          "color": "#ab63fa",
          "dash": "solid"
         },
         "marker": {
          "symbol": "circle"
         },
         "mode": "lines+markers",
         "name": "NULOS",
         "orientation": "v",
         "showlegend": true,
         "type": "scatter",
         "x": {
          "bdata": "2QfeB+MH",
          "dtype": "i2"
         },
         "xaxis": "x",
         "y": {
          "bdata": "16kGAIVFGgAAqQgA",
          "dtype": "i4"
         },
         "yaxis": "y"
        },
        {
         "hovertemplate": "Tipo de voto=BLANCOS<br>Año=%{x}<br>Cantidad=%{y}<extra></extra>",
         "legendgroup": "BLANCOS",
         "line": {
          "color": "#FFA15A",
          "dash": "solid"
         },
         "marker": {
          "symbol": "circle"
         },
         "mode": "lines+markers",
         "name": "BLANCOS",
         "orientation": "v",
         "showlegend": true,
         "type": "scatter",
         "x": {
          "bdata": "2QfeB+MH",
          "dtype": "i2"
         },
         "xaxis": "x",
         "y": {
          "bdata": "tOYKAOZtFQDA3AgA",
          "dtype": "i4"
         },
         "yaxis": "y"
        }
       ],
       "layout": {
        "legend": {
         "title": {
          "text": "Tipo de voto"
         },
         "tracegroupgap": 0
        },
        "template": {
         "data": {
          "bar": [
           {
            "error_x": {
             "color": "#2a3f5f"
            },
            "error_y": {
             "color": "#2a3f5f"
            },
            "marker": {
             "line": {
              "color": "#E5ECF6",
              "width": 0.5
             },
             "pattern": {
              "fillmode": "overlay",
              "size": 10,
              "solidity": 0.2
             }
            },
            "type": "bar"
           }
          ],
          "barpolar": [
           {
            "marker": {
             "line": {
              "color": "#E5ECF6",
              "width": 0.5
             },
             "pattern": {
              "fillmode": "overlay",
              "size": 10,
              "solidity": 0.2
             }
            },
            "type": "barpolar"
           }
          ],
          "carpet": [
           {
            "aaxis": {
             "endlinecolor": "#2a3f5f",
             "gridcolor": "white",
             "linecolor": "white",
             "minorgridcolor": "white",
             "startlinecolor": "#2a3f5f"
            },
            "baxis": {
             "endlinecolor": "#2a3f5f",
             "gridcolor": "white",
             "linecolor": "white",
             "minorgridcolor": "white",
             "startlinecolor": "#2a3f5f"
            },
            "type": "carpet"
           }
          ],
          "choropleth": [
           {
            "colorbar": {
             "outlinewidth": 0,
             "ticks": ""
            },
            "type": "choropleth"
           }
          ],
          "contour": [
           {
            "colorbar": {
             "outlinewidth": 0,
             "ticks": ""
            },
            "colorscale": [
             [
              0,
              "#0d0887"
             ],
             [
              0.1111111111111111,
              "#46039f"
             ],
             [
              0.2222222222222222,
              "#7201a8"
             ],
             [
              0.3333333333333333,
              "#9c179e"
             ],
             [
              0.4444444444444444,
              "#bd3786"
             ],
             [
              0.5555555555555556,
              "#d8576b"
             ],
             [
              0.6666666666666666,
              "#ed7953"
             ],
             [
              0.7777777777777778,
              "#fb9f3a"
             ],
             [
              0.8888888888888888,
              "#fdca26"
             ],
             [
              1,
              "#f0f921"
             ]
            ],
            "type": "contour"
           }
          ],
          "contourcarpet": [
           {
            "colorbar": {
             "outlinewidth": 0,
             "ticks": ""
            },
            "type": "contourcarpet"
           }
          ],
          "heatmap": [
           {
            "colorbar": {
             "outlinewidth": 0,
             "ticks": ""
            },
            "colorscale": [
             [
              0,
              "#0d0887"
             ],
             [
              0.1111111111111111,
              "#46039f"
             ],
             [
              0.2222222222222222,
              "#7201a8"
             ],
             [
              0.3333333333333333,
              "#9c179e"
             ],
             [
              0.4444444444444444,
              "#bd3786"
             ],
             [
              0.5555555555555556,
              "#d8576b"
             ],
             [
              0.6666666666666666,
              "#ed7953"
             ],
             [
              0.7777777777777778,
              "#fb9f3a"
             ],
             [
              0.8888888888888888,
              "#fdca26"
             ],
             [
              1,
              "#f0f921"
             ]
            ],
            "type": "heatmap"
           }
          ],
          "histogram": [
           {
            "marker": {
             "pattern": {
              "fillmode": "overlay",
              "size": 10,
              "solidity": 0.2
             }
            },
            "type": "histogram"
           }
          ],
          "histogram2d": [
           {
            "colorbar": {
             "outlinewidth": 0,
             "ticks": ""
            },
            "colorscale": [
             [
              0,
              "#0d0887"
             ],
             [
              0.1111111111111111,
              "#46039f"
             ],
             [
              0.2222222222222222,
              "#7201a8"
             ],
             [
              0.3333333333333333,
              "#9c179e"
             ],
             [
              0.4444444444444444,
              "#bd3786"
             ],
             [
              0.5555555555555556,
              "#d8576b"
             ],
             [
              0.6666666666666666,
              "#ed7953"
             ],
             [
              0.7777777777777778,
              "#fb9f3a"
             ],
             [
              0.8888888888888888,
              "#fdca26"
             ],
             [
              1,
              "#f0f921"
             ]
            ],
            "type": "histogram2d"
           }
          ],
          "histogram2dcontour": [
           {
            "colorbar": {
             "outlinewidth": 0,
             "ticks": ""
            },
            "colorscale": [
             [
              0,
              "#0d0887"
             ],
             [
              0.1111111111111111,
              "#46039f"
             ],
             [
              0.2222222222222222,
              "#7201a8"
             ],
             [
              0.3333333333333333,
              "#9c179e"
             ],
             [
              0.4444444444444444,
              "#bd3786"
             ],
             [
              0.5555555555555556,
              "#d8576b"
             ],
             [
              0.6666666666666666,
              "#ed7953"
             ],
             [
              0.7777777777777778,
              "#fb9f3a"
             ],
             [
              0.8888888888888888,
              "#fdca26"
             ],
             [
              1,
              "#f0f921"
             ]
            ],
            "type": "histogram2dcontour"
           }
          ],
          "mesh3d": [
           {
            "colorbar": {
             "outlinewidth": 0,
             "ticks": ""
            },
            "type": "mesh3d"
           }
          ],
          "parcoords": [
           {
            "line": {
             "colorbar": {
              "outlinewidth": 0,
              "ticks": ""
             }
            },
            "type": "parcoords"
           }
          ],
          "pie": [
           {
            "automargin": true,
            "type": "pie"
           }
          ],
          "scatter": [
           {
            "fillpattern": {
             "fillmode": "overlay",
             "size": 10,
             "solidity": 0.2
            },
            "type": "scatter"
           }
          ],
          "scatter3d": [
           {
            "line": {
             "colorbar": {
              "outlinewidth": 0,
              "ticks": ""
             }
            },
            "marker": {
             "colorbar": {
              "outlinewidth": 0,
              "ticks": ""
             }
            },
            "type": "scatter3d"
           }
          ],
          "scattercarpet": [
           {
            "marker": {
             "colorbar": {
              "outlinewidth": 0,
              "ticks": ""
             }
            },
            "type": "scattercarpet"
           }
          ],
          "scattergeo": [
           {
            "marker": {
             "colorbar": {
              "outlinewidth": 0,
              "ticks": ""
             }
            },
            "type": "scattergeo"
           }
          ],
          "scattergl": [
           {
            "marker": {
             "colorbar": {
              "outlinewidth": 0,
              "ticks": ""
             }
            },
            "type": "scattergl"
           }
          ],
          "scattermap": [
           {
            "marker": {
             "colorbar": {
              "outlinewidth": 0,
              "ticks": ""
             }
            },
            "type": "scattermap"
           }
          ],
          "scattermapbox": [
           {
            "marker": {
             "colorbar": {
              "outlinewidth": 0,
              "ticks": ""
             }
            },
            "type": "scattermapbox"
           }
          ],
          "scatterpolar": [
           {
            "marker": {
             "colorbar": {
              "outlinewidth": 0,
              "ticks": ""
             }
            },
            "type": "scatterpolar"
           }
          ],
          "scatterpolargl": [
           {
            "marker": {
             "colorbar": {
              "outlinewidth": 0,
              "ticks": ""
             }
            },
            "type": "scatterpolargl"
           }
          ],
          "scatterternary": [
           {
            "marker": {
             "colorbar": {
              "outlinewidth": 0,
              "ticks": ""
             }
            },
            "type": "scatterternary"
           }
          ],
          "surface": [
           {
            "colorbar": {
             "outlinewidth": 0,
             "ticks": ""
            },
            "colorscale": [
             [
              0,
              "#0d0887"
             ],
             [
              0.1111111111111111,
              "#46039f"
             ],
             [
              0.2222222222222222,
              "#7201a8"
             ],
             [
              0.3333333333333333,
              "#9c179e"
             ],
             [
              0.4444444444444444,
              "#bd3786"
             ],
             [
              0.5555555555555556,
              "#d8576b"
             ],
             [
              0.6666666666666666,
              "#ed7953"
             ],
             [
              0.7777777777777778,
              "#fb9f3a"
             ],
             [
              0.8888888888888888,
              "#fdca26"
             ],
             [
              1,
              "#f0f921"
             ]
            ],
            "type": "surface"
           }
          ],
          "table": [
           {
            "cells": {
             "fill": {
              "color": "#EBF0F8"
             },
             "line": {
              "color": "white"
             }
            },
            "header": {
             "fill": {
              "color": "#C8D4E3"
             },
             "line": {
              "color": "white"
             }
            },
            "type": "table"
           }
          ]
         },
         "layout": {
          "annotationdefaults": {
           "arrowcolor": "#2a3f5f",
           "arrowhead": 0,
           "arrowwidth": 1
          },
          "autotypenumbers": "strict",
          "coloraxis": {
           "colorbar": {
            "outlinewidth": 0,
            "ticks": ""
           }
          },
          "colorscale": {
           "diverging": [
            [
             0,
             "#8e0152"
            ],
            [
             0.1,
             "#c51b7d"
            ],
            [
             0.2,
             "#de77ae"
            ],
            [
             0.3,
             "#f1b6da"
            ],
            [
             0.4,
             "#fde0ef"
            ],
            [
             0.5,
             "#f7f7f7"
            ],
            [
             0.6,
             "#e6f5d0"
            ],
            [
             0.7,
             "#b8e186"
            ],
            [
             0.8,
             "#7fbc41"
            ],
            [
             0.9,
             "#4d9221"
            ],
            [
             1,
             "#276419"
            ]
           ],
           "sequential": [
            [
             0,
             "#0d0887"
            ],
            [
             0.1111111111111111,
             "#46039f"
            ],
            [
             0.2222222222222222,
             "#7201a8"
            ],
            [
             0.3333333333333333,
             "#9c179e"
            ],
            [
             0.4444444444444444,
             "#bd3786"
            ],
            [
             0.5555555555555556,
             "#d8576b"
            ],
            [
             0.6666666666666666,
             "#ed7953"
            ],
            [
             0.7777777777777778,
             "#fb9f3a"
            ],
            [
             0.8888888888888888,
             "#fdca26"
            ],
            [
             1,
             "#f0f921"
            ]
           ],
           "sequentialminus": [
            [
             0,
             "#0d0887"
            ],
            [
             0.1111111111111111,
             "#46039f"
            ],
            [
             0.2222222222222222,
             "#7201a8"
            ],
            [
             0.3333333333333333,
             "#9c179e"
            ],
            [
             0.4444444444444444,
             "#bd3786"
            ],
            [
             0.5555555555555556,
             "#d8576b"
            ],
            [
             0.6666666666666666,
             "#ed7953"
            ],
            [
             0.7777777777777778,
             "#fb9f3a"
            ],
            [
             0.8888888888888888,
             "#fdca26"
            ],
            [
             1,
             "#f0f921"
            ]
           ]
          },
          "colorway": [
           "#636efa",
           "#EF553B",
           "#00cc96",
           "#ab63fa",
           "#FFA15A",
           "#19d3f3",
           "#FF6692",
           "#B6E880",
           "#FF97FF",
           "#FECB52"
          ],
          "font": {
           "color": "#2a3f5f"
          },
          "geo": {
           "bgcolor": "white",
           "lakecolor": "white",
           "landcolor": "#E5ECF6",
           "showlakes": true,
           "showland": true,
           "subunitcolor": "white"
          },
          "hoverlabel": {
           "align": "left"
          },
          "hovermode": "closest",
          "mapbox": {
           "style": "light"
          },
          "paper_bgcolor": "white",
          "plot_bgcolor": "#E5ECF6",
          "polar": {
           "angularaxis": {
            "gridcolor": "white",
            "linecolor": "white",
            "ticks": ""
           },
           "bgcolor": "#E5ECF6",
           "radialaxis": {
            "gridcolor": "white",
            "linecolor": "white",
            "ticks": ""
           }
          },
          "scene": {
           "xaxis": {
            "backgroundcolor": "#E5ECF6",
            "gridcolor": "white",
            "gridwidth": 2,
            "linecolor": "white",
            "showbackground": true,
            "ticks": "",
            "zerolinecolor": "white"
           },
           "yaxis": {
            "backgroundcolor": "#E5ECF6",
            "gridcolor": "white",
            "gridwidth": 2,
            "linecolor": "white",
            "showbackground": true,
            "ticks": "",
            "zerolinecolor": "white"
           },
           "zaxis": {
            "backgroundcolor": "#E5ECF6",
            "gridcolor": "white",
            "gridwidth": 2,
            "linecolor": "white",
            "showbackground": true,
            "ticks": "",
            "zerolinecolor": "white"
           }
          },
          "shapedefaults": {
           "line": {
            "color": "#2a3f5f"
           }
          },
          "ternary": {
           "aaxis": {
            "gridcolor": "white",
            "linecolor": "white",
            "ticks": ""
           },
           "baxis": {
            "gridcolor": "white",
            "linecolor": "white",
            "ticks": ""
           },
           "bgcolor": "#E5ECF6",
           "caxis": {
            "gridcolor": "white",
            "linecolor": "white",
            "ticks": ""
           }
          },
          "title": {
           "x": 0.05
          },
          "xaxis": {
           "automargin": true,
           "gridcolor": "white",
           "linecolor": "white",
           "ticks": "",
           "title": {
            "standoff": 15
           },
           "zerolinecolor": "white",
           "zerolinewidth": 2
          },
          "yaxis": {
           "automargin": true,
           "gridcolor": "white",
           "linecolor": "white",
           "ticks": "",
           "title": {
            "standoff": 15
           },
           "zerolinecolor": "white",
           "zerolinewidth": 2
          }
         }
        },
        "title": {
         "text": "Tendencia de votos y abstención por año"
        },
        "xaxis": {
         "anchor": "y",
         "domain": [
          0,
          1
         ],
         "title": {
          "text": "Año"
         }
        },
        "yaxis": {
         "anchor": "x",
         "domain": [
          0,
          1
         ],
         "title": {
          "text": "Cantidad"
         }
        }
       }
      }
     },
     "metadata": {},
     "output_type": "display_data"
    }
   ],
   "source": [
    "# Gráfico de líneas para mostrar tendencia\n",
    "fig1 = px.line(stats_pivot, x=\"Año\", y=[\"VOTANTES\", \"VALIDOS\", \"ABSTENCIONES\", \"NULOS\", \"BLANCOS\"],\n",
    "               title=\"Tendencia de votos y abstención por año\",\n",
    "               labels={\"value\": \"Cantidad\", \"variable\": \"Tipo de voto\"},\n",
    "               markers=True)\n",
    "\n",
    "fig1.show()\n"
   ]
  },
  {
   "cell_type": "markdown",
   "id": "cd597f24",
   "metadata": {},
   "source": [
    "A continuación se muestran gráficos de tendencia (lineales) que representan los datos anteriores."
   ]
  },
  {
   "cell_type": "code",
   "execution_count": 20,
   "id": "ae0f8dee",
   "metadata": {},
   "outputs": [
    {
     "data": {
      "application/vnd.plotly.v1+json": {
       "config": {
        "plotlyServerURL": "https://plot.ly"
       },
       "data": [
        {
         "hovertemplate": "Tipo de voto=VOTANTES<br>PROVINCIA=Alicante<br>Año=%{x}<br>Cantidad=%{y}<extra></extra>",
         "legendgroup": "VOTANTES",
         "line": {
          "color": "#636efa",
          "dash": "solid"
         },
         "marker": {
          "symbol": "circle"
         },
         "mode": "lines+markers",
         "name": "VOTANTES",
         "orientation": "v",
         "showlegend": true,
         "type": "scatter",
         "x": {
          "bdata": "2QfeB+MH",
          "dtype": "i2"
         },
         "xaxis": "x",
         "y": {
          "bdata": "UrVMAbl3WAFgyXkB",
          "dtype": "i4"
         },
         "yaxis": "y"
        },
        {
         "hovertemplate": "Tipo de voto=VOTANTES<br>PROVINCIA=Castellón<br>Año=%{x}<br>Cantidad=%{y}<extra></extra>",
         "legendgroup": "VOTANTES",
         "line": {
          "color": "#636efa",
          "dash": "solid"
         },
         "marker": {
          "symbol": "circle"
         },
         "mode": "lines+markers",
         "name": "VOTANTES",
         "orientation": "v",
         "showlegend": false,
         "type": "scatter",
         "x": {
          "bdata": "2QfeB+MH",
          "dtype": "i2"
         },
         "xaxis": "x2",
         "y": {
          "bdata": "tzd1AG9ifAAA+ocA",
          "dtype": "i4"
         },
         "yaxis": "y2"
        },
        {
         "hovertemplate": "Tipo de voto=VOTANTES<br>PROVINCIA=Valencia<br>Año=%{x}<br>Cantidad=%{y}<extra></extra>",
         "legendgroup": "VOTANTES",
         "line": {
          "color": "#636efa",
          "dash": "solid"
         },
         "marker": {
          "symbol": "circle"
         },
         "mode": "lines+markers",
         "name": "VOTANTES",
         "orientation": "v",
         "showlegend": false,
         "type": "scatter",
         "x": {
          "bdata": "2QfeB+MH",
          "dtype": "i2"
         },
         "xaxis": "x3",
         "y": {
          "bdata": "J+4uAigFWAJg2G8C",
          "dtype": "i4"
         },
         "yaxis": "y3"
        },
        {
         "hovertemplate": "Tipo de voto=VALIDOS<br>PROVINCIA=Alicante<br>Año=%{x}<br>Cantidad=%{y}<extra></extra>",
         "legendgroup": "VALIDOS",
         "line": {
          "color": "#EF553B",
          "dash": "solid"
         },
         "marker": {
          "symbol": "circle"
         },
         "mode": "lines+markers",
         "name": "VALIDOS",
         "orientation": "v",
         "showlegend": true,
         "type": "scatter",
         "x": {
          "bdata": "2QfeB+MH",
          "dtype": "i2"
         },
         "xaxis": "x",
         "y": {
          "bdata": "jJZKAbWpTgEgrHYB",
          "dtype": "i4"
         },
         "yaxis": "y"
        },
        {
         "hovertemplate": "Tipo de voto=VALIDOS<br>PROVINCIA=Castellón<br>Año=%{x}<br>Cantidad=%{y}<extra></extra>",
         "legendgroup": "VALIDOS",
         "line": {
          "color": "#EF553B",
          "dash": "solid"
         },
         "marker": {
          "symbol": "circle"
         },
         "mode": "lines+markers",
         "name": "VALIDOS",
         "orientation": "v",
         "showlegend": false,
         "type": "scatter",
         "x": {
          "bdata": "2QfeB+MH",
          "dtype": "i2"
         },
         "xaxis": "x2",
         "y": {
          "bdata": "S090AJkVeABgmYYA",
          "dtype": "i4"
         },
         "yaxis": "y2"
        },
        {
         "hovertemplate": "Tipo de voto=VALIDOS<br>PROVINCIA=Valencia<br>Año=%{x}<br>Cantidad=%{y}<extra></extra>",
         "legendgroup": "VALIDOS",
         "line": {
          "color": "#EF553B",
          "dash": "solid"
         },
         "marker": {
          "symbol": "circle"
         },
         "mode": "lines+markers",
         "name": "VALIDOS",
         "orientation": "v",
         "showlegend": false,
         "type": "scatter",
         "x": {
          "bdata": "2QfeB+MH",
          "dtype": "i2"
         },
         "xaxis": "x3",
         "y": {
          "bdata": "gksrAn3aSwJArWsC",
          "dtype": "i4"
         },
         "yaxis": "y3"
        },
        {
         "hovertemplate": "Tipo de voto=ABSTENCIONES<br>PROVINCIA=Alicante<br>Año=%{x}<br>Cantidad=%{y}<extra></extra>",
         "legendgroup": "ABSTENCIONES",
         "line": {
          "color": "#00cc96",
          "dash": "solid"
         },
         "marker": {
          "symbol": "circle"
         },
         "mode": "lines+markers",
         "name": "ABSTENCIONES",
         "orientation": "v",
         "showlegend": true,
         "type": "scatter",
         "x": {
          "bdata": "2QfeB+MH",
          "dtype": "i2"
         },
         "xaxis": "x",
         "y": {
          "bdata": "VXZHAf06mQGgF/oA",
          "dtype": "i4"
         },
         "yaxis": "y"
        },
        {
         "hovertemplate": "Tipo de voto=ABSTENCIONES<br>PROVINCIA=Castellón<br>Año=%{x}<br>Cantidad=%{y}<extra></extra>",
         "legendgroup": "ABSTENCIONES",
         "line": {
          "color": "#00cc96",
          "dash": "solid"
         },
         "marker": {
          "symbol": "circle"
         },
         "mode": "lines+markers",
         "name": "ABSTENCIONES",
         "orientation": "v",
         "showlegend": false,
         "type": "scatter",
         "x": {
          "bdata": "2QfeB+MH",
          "dtype": "i2"
         },
         "xaxis": "x2",
         "y": {
          "bdata": "czJpAPm/fAAAr0QA",
          "dtype": "i4"
         },
         "yaxis": "y2"
        },
        {
         "hovertemplate": "Tipo de voto=ABSTENCIONES<br>PROVINCIA=Valencia<br>Año=%{x}<br>Cantidad=%{y}<extra></extra>",
         "legendgroup": "ABSTENCIONES",
         "line": {
          "color": "#00cc96",
          "dash": "solid"
         },
         "marker": {
          "symbol": "circle"
         },
         "mode": "lines+markers",
         "name": "ABSTENCIONES",
         "orientation": "v",
         "showlegend": false,
         "type": "scatter",
         "x": {
          "bdata": "2QfeB+MH",
          "dtype": "i2"
         },
         "xaxis": "x3",
         "y": {
          "bdata": "eQe/AUa5EwIAXjkB",
          "dtype": "i4"
         },
         "yaxis": "y3"
        },
        {
         "hovertemplate": "Tipo de voto=NULOS<br>PROVINCIA=Alicante<br>Año=%{x}<br>Cantidad=%{y}<extra></extra>",
         "legendgroup": "NULOS",
         "line": {
          "color": "#ab63fa",
          "dash": "solid"
         },
         "marker": {
          "symbol": "circle"
         },
         "mode": "lines+markers",
         "name": "NULOS",
         "orientation": "v",
         "showlegend": true,
         "type": "scatter",
         "x": {
          "bdata": "2QfeB+MH",
          "dtype": "i2"
         },
         "xaxis": "x",
         "y": {
          "bdata": "xh4CAATOCQBAHQMA",
          "dtype": "i4"
         },
         "yaxis": "y"
        },
        {
         "hovertemplate": "Tipo de voto=NULOS<br>PROVINCIA=Castellón<br>Año=%{x}<br>Cantidad=%{y}<extra></extra>",
         "legendgroup": "NULOS",
         "line": {
          "color": "#ab63fa",
          "dash": "solid"
         },
         "marker": {
          "symbol": "circle"
         },
         "mode": "lines+markers",
         "name": "NULOS",
         "orientation": "v",
         "showlegend": false,
         "type": "scatter",
         "x": {
          "bdata": "2QfeB+MH",
          "dtype": "i2"
         },
         "xaxis": "x2",
         "y": {
          "bdata": "bOgAANZMBACgYAEA",
          "dtype": "i4"
         },
         "yaxis": "y2"
        },
        {
         "hovertemplate": "Tipo de voto=NULOS<br>PROVINCIA=Valencia<br>Año=%{x}<br>Cantidad=%{y}<extra></extra>",
         "legendgroup": "NULOS",
         "line": {
          "color": "#ab63fa",
          "dash": "solid"
         },
         "marker": {
          "symbol": "circle"
         },
         "mode": "lines+markers",
         "name": "NULOS",
         "orientation": "v",
         "showlegend": false,
         "type": "scatter",
         "x": {
          "bdata": "2QfeB+MH",
          "dtype": "i2"
         },
         "xaxis": "x3",
         "y": {
          "bdata": "paIDAKsqDAAgKwQA",
          "dtype": "i4"
         },
         "yaxis": "y3"
        },
        {
         "hovertemplate": "Tipo de voto=BLANCOS<br>PROVINCIA=Alicante<br>Año=%{x}<br>Cantidad=%{y}<extra></extra>",
         "legendgroup": "BLANCOS",
         "line": {
          "color": "#FFA15A",
          "dash": "solid"
         },
         "marker": {
          "symbol": "circle"
         },
         "mode": "lines+markers",
         "name": "BLANCOS",
         "orientation": "v",
         "showlegend": true,
         "type": "scatter",
         "x": {
          "bdata": "2QfeB+MH",
          "dtype": "i2"
         },
         "xaxis": "x",
         "y": {
          "bdata": "zXUDAOnEBgAg6QIA",
          "dtype": "i4"
         },
         "yaxis": "y"
        },
        {
         "hovertemplate": "Tipo de voto=BLANCOS<br>PROVINCIA=Castellón<br>Año=%{x}<br>Cantidad=%{y}<extra></extra>",
         "legendgroup": "BLANCOS",
         "line": {
          "color": "#FFA15A",
          "dash": "solid"
         },
         "marker": {
          "symbol": "circle"
         },
         "mode": "lines+markers",
         "name": "BLANCOS",
         "orientation": "v",
         "showlegend": false,
         "type": "scatter",
         "x": {
          "bdata": "2QfeB+MH",
          "dtype": "i2"
         },
         "xaxis": "x2",
         "y": {
          "bdata": "3YABAMzKAgBAVgEA",
          "dtype": "i4"
         },
         "yaxis": "y2"
        },
        {
         "hovertemplate": "Tipo de voto=BLANCOS<br>PROVINCIA=Valencia<br>Año=%{x}<br>Cantidad=%{y}<extra></extra>",
         "legendgroup": "BLANCOS",
         "line": {
          "color": "#FFA15A",
          "dash": "solid"
         },
         "marker": {
          "symbol": "circle"
         },
         "mode": "lines+markers",
         "name": "BLANCOS",
         "orientation": "v",
         "showlegend": false,
         "type": "scatter",
         "x": {
          "bdata": "2QfeB+MH",
          "dtype": "i2"
         },
         "xaxis": "x3",
         "y": {
          "bdata": "CvAFADHeCwBgnQQA",
          "dtype": "i4"
         },
         "yaxis": "y3"
        }
       ],
       "layout": {
        "annotations": [
         {
          "font": {},
          "showarrow": false,
          "text": "PROVINCIA=Alicante",
          "x": 0.15999999999999998,
          "xanchor": "center",
          "xref": "paper",
          "y": 1,
          "yanchor": "bottom",
          "yref": "paper"
         },
         {
          "font": {},
          "showarrow": false,
          "text": "PROVINCIA=Castellón",
          "x": 0.49999999999999994,
          "xanchor": "center",
          "xref": "paper",
          "y": 1,
          "yanchor": "bottom",
          "yref": "paper"
         },
         {
          "font": {},
          "showarrow": false,
          "text": "PROVINCIA=Valencia",
          "x": 0.8399999999999999,
          "xanchor": "center",
          "xref": "paper",
          "y": 1,
          "yanchor": "bottom",
          "yref": "paper"
         }
        ],
        "legend": {
         "title": {
          "text": "Tipo de voto"
         },
         "tracegroupgap": 0
        },
        "template": {
         "data": {
          "bar": [
           {
            "error_x": {
             "color": "#2a3f5f"
            },
            "error_y": {
             "color": "#2a3f5f"
            },
            "marker": {
             "line": {
              "color": "#E5ECF6",
              "width": 0.5
             },
             "pattern": {
              "fillmode": "overlay",
              "size": 10,
              "solidity": 0.2
             }
            },
            "type": "bar"
           }
          ],
          "barpolar": [
           {
            "marker": {
             "line": {
              "color": "#E5ECF6",
              "width": 0.5
             },
             "pattern": {
              "fillmode": "overlay",
              "size": 10,
              "solidity": 0.2
             }
            },
            "type": "barpolar"
           }
          ],
          "carpet": [
           {
            "aaxis": {
             "endlinecolor": "#2a3f5f",
             "gridcolor": "white",
             "linecolor": "white",
             "minorgridcolor": "white",
             "startlinecolor": "#2a3f5f"
            },
            "baxis": {
             "endlinecolor": "#2a3f5f",
             "gridcolor": "white",
             "linecolor": "white",
             "minorgridcolor": "white",
             "startlinecolor": "#2a3f5f"
            },
            "type": "carpet"
           }
          ],
          "choropleth": [
           {
            "colorbar": {
             "outlinewidth": 0,
             "ticks": ""
            },
            "type": "choropleth"
           }
          ],
          "contour": [
           {
            "colorbar": {
             "outlinewidth": 0,
             "ticks": ""
            },
            "colorscale": [
             [
              0,
              "#0d0887"
             ],
             [
              0.1111111111111111,
              "#46039f"
             ],
             [
              0.2222222222222222,
              "#7201a8"
             ],
             [
              0.3333333333333333,
              "#9c179e"
             ],
             [
              0.4444444444444444,
              "#bd3786"
             ],
             [
              0.5555555555555556,
              "#d8576b"
             ],
             [
              0.6666666666666666,
              "#ed7953"
             ],
             [
              0.7777777777777778,
              "#fb9f3a"
             ],
             [
              0.8888888888888888,
              "#fdca26"
             ],
             [
              1,
              "#f0f921"
             ]
            ],
            "type": "contour"
           }
          ],
          "contourcarpet": [
           {
            "colorbar": {
             "outlinewidth": 0,
             "ticks": ""
            },
            "type": "contourcarpet"
           }
          ],
          "heatmap": [
           {
            "colorbar": {
             "outlinewidth": 0,
             "ticks": ""
            },
            "colorscale": [
             [
              0,
              "#0d0887"
             ],
             [
              0.1111111111111111,
              "#46039f"
             ],
             [
              0.2222222222222222,
              "#7201a8"
             ],
             [
              0.3333333333333333,
              "#9c179e"
             ],
             [
              0.4444444444444444,
              "#bd3786"
             ],
             [
              0.5555555555555556,
              "#d8576b"
             ],
             [
              0.6666666666666666,
              "#ed7953"
             ],
             [
              0.7777777777777778,
              "#fb9f3a"
             ],
             [
              0.8888888888888888,
              "#fdca26"
             ],
             [
              1,
              "#f0f921"
             ]
            ],
            "type": "heatmap"
           }
          ],
          "histogram": [
           {
            "marker": {
             "pattern": {
              "fillmode": "overlay",
              "size": 10,
              "solidity": 0.2
             }
            },
            "type": "histogram"
           }
          ],
          "histogram2d": [
           {
            "colorbar": {
             "outlinewidth": 0,
             "ticks": ""
            },
            "colorscale": [
             [
              0,
              "#0d0887"
             ],
             [
              0.1111111111111111,
              "#46039f"
             ],
             [
              0.2222222222222222,
              "#7201a8"
             ],
             [
              0.3333333333333333,
              "#9c179e"
             ],
             [
              0.4444444444444444,
              "#bd3786"
             ],
             [
              0.5555555555555556,
              "#d8576b"
             ],
             [
              0.6666666666666666,
              "#ed7953"
             ],
             [
              0.7777777777777778,
              "#fb9f3a"
             ],
             [
              0.8888888888888888,
              "#fdca26"
             ],
             [
              1,
              "#f0f921"
             ]
            ],
            "type": "histogram2d"
           }
          ],
          "histogram2dcontour": [
           {
            "colorbar": {
             "outlinewidth": 0,
             "ticks": ""
            },
            "colorscale": [
             [
              0,
              "#0d0887"
             ],
             [
              0.1111111111111111,
              "#46039f"
             ],
             [
              0.2222222222222222,
              "#7201a8"
             ],
             [
              0.3333333333333333,
              "#9c179e"
             ],
             [
              0.4444444444444444,
              "#bd3786"
             ],
             [
              0.5555555555555556,
              "#d8576b"
             ],
             [
              0.6666666666666666,
              "#ed7953"
             ],
             [
              0.7777777777777778,
              "#fb9f3a"
             ],
             [
              0.8888888888888888,
              "#fdca26"
             ],
             [
              1,
              "#f0f921"
             ]
            ],
            "type": "histogram2dcontour"
           }
          ],
          "mesh3d": [
           {
            "colorbar": {
             "outlinewidth": 0,
             "ticks": ""
            },
            "type": "mesh3d"
           }
          ],
          "parcoords": [
           {
            "line": {
             "colorbar": {
              "outlinewidth": 0,
              "ticks": ""
             }
            },
            "type": "parcoords"
           }
          ],
          "pie": [
           {
            "automargin": true,
            "type": "pie"
           }
          ],
          "scatter": [
           {
            "fillpattern": {
             "fillmode": "overlay",
             "size": 10,
             "solidity": 0.2
            },
            "type": "scatter"
           }
          ],
          "scatter3d": [
           {
            "line": {
             "colorbar": {
              "outlinewidth": 0,
              "ticks": ""
             }
            },
            "marker": {
             "colorbar": {
              "outlinewidth": 0,
              "ticks": ""
             }
            },
            "type": "scatter3d"
           }
          ],
          "scattercarpet": [
           {
            "marker": {
             "colorbar": {
              "outlinewidth": 0,
              "ticks": ""
             }
            },
            "type": "scattercarpet"
           }
          ],
          "scattergeo": [
           {
            "marker": {
             "colorbar": {
              "outlinewidth": 0,
              "ticks": ""
             }
            },
            "type": "scattergeo"
           }
          ],
          "scattergl": [
           {
            "marker": {
             "colorbar": {
              "outlinewidth": 0,
              "ticks": ""
             }
            },
            "type": "scattergl"
           }
          ],
          "scattermap": [
           {
            "marker": {
             "colorbar": {
              "outlinewidth": 0,
              "ticks": ""
             }
            },
            "type": "scattermap"
           }
          ],
          "scattermapbox": [
           {
            "marker": {
             "colorbar": {
              "outlinewidth": 0,
              "ticks": ""
             }
            },
            "type": "scattermapbox"
           }
          ],
          "scatterpolar": [
           {
            "marker": {
             "colorbar": {
              "outlinewidth": 0,
              "ticks": ""
             }
            },
            "type": "scatterpolar"
           }
          ],
          "scatterpolargl": [
           {
            "marker": {
             "colorbar": {
              "outlinewidth": 0,
              "ticks": ""
             }
            },
            "type": "scatterpolargl"
           }
          ],
          "scatterternary": [
           {
            "marker": {
             "colorbar": {
              "outlinewidth": 0,
              "ticks": ""
             }
            },
            "type": "scatterternary"
           }
          ],
          "surface": [
           {
            "colorbar": {
             "outlinewidth": 0,
             "ticks": ""
            },
            "colorscale": [
             [
              0,
              "#0d0887"
             ],
             [
              0.1111111111111111,
              "#46039f"
             ],
             [
              0.2222222222222222,
              "#7201a8"
             ],
             [
              0.3333333333333333,
              "#9c179e"
             ],
             [
              0.4444444444444444,
              "#bd3786"
             ],
             [
              0.5555555555555556,
              "#d8576b"
             ],
             [
              0.6666666666666666,
              "#ed7953"
             ],
             [
              0.7777777777777778,
              "#fb9f3a"
             ],
             [
              0.8888888888888888,
              "#fdca26"
             ],
             [
              1,
              "#f0f921"
             ]
            ],
            "type": "surface"
           }
          ],
          "table": [
           {
            "cells": {
             "fill": {
              "color": "#EBF0F8"
             },
             "line": {
              "color": "white"
             }
            },
            "header": {
             "fill": {
              "color": "#C8D4E3"
             },
             "line": {
              "color": "white"
             }
            },
            "type": "table"
           }
          ]
         },
         "layout": {
          "annotationdefaults": {
           "arrowcolor": "#2a3f5f",
           "arrowhead": 0,
           "arrowwidth": 1
          },
          "autotypenumbers": "strict",
          "coloraxis": {
           "colorbar": {
            "outlinewidth": 0,
            "ticks": ""
           }
          },
          "colorscale": {
           "diverging": [
            [
             0,
             "#8e0152"
            ],
            [
             0.1,
             "#c51b7d"
            ],
            [
             0.2,
             "#de77ae"
            ],
            [
             0.3,
             "#f1b6da"
            ],
            [
             0.4,
             "#fde0ef"
            ],
            [
             0.5,
             "#f7f7f7"
            ],
            [
             0.6,
             "#e6f5d0"
            ],
            [
             0.7,
             "#b8e186"
            ],
            [
             0.8,
             "#7fbc41"
            ],
            [
             0.9,
             "#4d9221"
            ],
            [
             1,
             "#276419"
            ]
           ],
           "sequential": [
            [
             0,
             "#0d0887"
            ],
            [
             0.1111111111111111,
             "#46039f"
            ],
            [
             0.2222222222222222,
             "#7201a8"
            ],
            [
             0.3333333333333333,
             "#9c179e"
            ],
            [
             0.4444444444444444,
             "#bd3786"
            ],
            [
             0.5555555555555556,
             "#d8576b"
            ],
            [
             0.6666666666666666,
             "#ed7953"
            ],
            [
             0.7777777777777778,
             "#fb9f3a"
            ],
            [
             0.8888888888888888,
             "#fdca26"
            ],
            [
             1,
             "#f0f921"
            ]
           ],
           "sequentialminus": [
            [
             0,
             "#0d0887"
            ],
            [
             0.1111111111111111,
             "#46039f"
            ],
            [
             0.2222222222222222,
             "#7201a8"
            ],
            [
             0.3333333333333333,
             "#9c179e"
            ],
            [
             0.4444444444444444,
             "#bd3786"
            ],
            [
             0.5555555555555556,
             "#d8576b"
            ],
            [
             0.6666666666666666,
             "#ed7953"
            ],
            [
             0.7777777777777778,
             "#fb9f3a"
            ],
            [
             0.8888888888888888,
             "#fdca26"
            ],
            [
             1,
             "#f0f921"
            ]
           ]
          },
          "colorway": [
           "#636efa",
           "#EF553B",
           "#00cc96",
           "#ab63fa",
           "#FFA15A",
           "#19d3f3",
           "#FF6692",
           "#B6E880",
           "#FF97FF",
           "#FECB52"
          ],
          "font": {
           "color": "#2a3f5f"
          },
          "geo": {
           "bgcolor": "white",
           "lakecolor": "white",
           "landcolor": "#E5ECF6",
           "showlakes": true,
           "showland": true,
           "subunitcolor": "white"
          },
          "hoverlabel": {
           "align": "left"
          },
          "hovermode": "closest",
          "mapbox": {
           "style": "light"
          },
          "paper_bgcolor": "white",
          "plot_bgcolor": "#E5ECF6",
          "polar": {
           "angularaxis": {
            "gridcolor": "white",
            "linecolor": "white",
            "ticks": ""
           },
           "bgcolor": "#E5ECF6",
           "radialaxis": {
            "gridcolor": "white",
            "linecolor": "white",
            "ticks": ""
           }
          },
          "scene": {
           "xaxis": {
            "backgroundcolor": "#E5ECF6",
            "gridcolor": "white",
            "gridwidth": 2,
            "linecolor": "white",
            "showbackground": true,
            "ticks": "",
            "zerolinecolor": "white"
           },
           "yaxis": {
            "backgroundcolor": "#E5ECF6",
            "gridcolor": "white",
            "gridwidth": 2,
            "linecolor": "white",
            "showbackground": true,
            "ticks": "",
            "zerolinecolor": "white"
           },
           "zaxis": {
            "backgroundcolor": "#E5ECF6",
            "gridcolor": "white",
            "gridwidth": 2,
            "linecolor": "white",
            "showbackground": true,
            "ticks": "",
            "zerolinecolor": "white"
           }
          },
          "shapedefaults": {
           "line": {
            "color": "#2a3f5f"
           }
          },
          "ternary": {
           "aaxis": {
            "gridcolor": "white",
            "linecolor": "white",
            "ticks": ""
           },
           "baxis": {
            "gridcolor": "white",
            "linecolor": "white",
            "ticks": ""
           },
           "bgcolor": "#E5ECF6",
           "caxis": {
            "gridcolor": "white",
            "linecolor": "white",
            "ticks": ""
           }
          },
          "title": {
           "x": 0.05
          },
          "xaxis": {
           "automargin": true,
           "gridcolor": "white",
           "linecolor": "white",
           "ticks": "",
           "title": {
            "standoff": 15
           },
           "zerolinecolor": "white",
           "zerolinewidth": 2
          },
          "yaxis": {
           "automargin": true,
           "gridcolor": "white",
           "linecolor": "white",
           "ticks": "",
           "title": {
            "standoff": 15
           },
           "zerolinecolor": "white",
           "zerolinewidth": 2
          }
         }
        },
        "title": {
         "text": "Tendencia de votos y abstención por provincia"
        },
        "xaxis": {
         "anchor": "y",
         "domain": [
          0,
          0.31999999999999995
         ],
         "title": {
          "text": "Año"
         }
        },
        "xaxis2": {
         "anchor": "y2",
         "domain": [
          0.33999999999999997,
          0.6599999999999999
         ],
         "matches": "x",
         "title": {
          "text": "Año"
         }
        },
        "xaxis3": {
         "anchor": "y3",
         "domain": [
          0.6799999999999999,
          0.9999999999999999
         ],
         "matches": "x",
         "title": {
          "text": "Año"
         }
        },
        "yaxis": {
         "anchor": "x",
         "domain": [
          0,
          1
         ],
         "title": {
          "text": "Cantidad"
         }
        },
        "yaxis2": {
         "anchor": "x2",
         "domain": [
          0,
          1
         ],
         "matches": "y",
         "showticklabels": false
        },
        "yaxis3": {
         "anchor": "x3",
         "domain": [
          0,
          1
         ],
         "matches": "y",
         "showticklabels": false
        }
       }
      }
     },
     "metadata": {},
     "output_type": "display_data"
    }
   ],
   "source": [
    "# Gráfico de líneas con facetas por provincia\n",
    "fig2 = px.line(stats_provincia_pivot, x=\"Año\", y=[\"VOTANTES\", \"VALIDOS\", \"ABSTENCIONES\", \"NULOS\", \"BLANCOS\"],\n",
    "               facet_col=\"PROVINCIA\", title=\"Tendencia de votos y abstención por provincia\",\n",
    "               labels={\"value\": \"Cantidad\", \"variable\": \"Tipo de voto\"},\n",
    "               markers=True)\n",
    "\n",
    "fig2.show()\n"
   ]
  },
  {
   "cell_type": "code",
   "execution_count": 21,
   "id": "8e23bc7b",
   "metadata": {},
   "outputs": [
    {
     "data": {
      "application/vnd.plotly.v1+json": {
       "config": {
        "plotlyServerURL": "https://plot.ly"
       },
       "data": [
        {
         "hovertemplate": "Tipo de voto=% Votantes<br>Año=%{x}<br>Porcentaje=%{y}<extra></extra>",
         "legendgroup": "% Votantes",
         "line": {
          "color": "#636efa",
          "dash": "solid"
         },
         "marker": {
          "symbol": "circle"
         },
         "mode": "lines+markers",
         "name": "% Votantes",
         "orientation": "v",
         "showlegend": true,
         "type": "scatter",
         "x": {
          "bdata": "2QfeB+MH",
          "dtype": "i2"
         },
         "xaxis": "x",
         "y": {
          "bdata": "9ihcj8K1SkApXI/C9QhJQFK4HoXrEVBA",
          "dtype": "f8"
         },
         "yaxis": "y"
        },
        {
         "hovertemplate": "Tipo de voto=% Votos Validos<br>Año=%{x}<br>Porcentaje=%{y}<extra></extra>",
         "legendgroup": "% Votos Validos",
         "line": {
          "color": "#EF553B",
          "dash": "solid"
         },
         "marker": {
          "symbol": "circle"
         },
         "mode": "lines+markers",
         "name": "% Votos Validos",
         "orientation": "v",
         "showlegend": true,
         "type": "scatter",
         "x": {
          "bdata": "2QfeB+MH",
          "dtype": "i2"
         },
         "xaxis": "x",
         "y": {
          "bdata": "KVyPwvWISkDsUbgehWtIQIXrUbge5U9A",
          "dtype": "f8"
         },
         "yaxis": "y"
        },
        {
         "hovertemplate": "Tipo de voto=% Abstenciones<br>Año=%{x}<br>Porcentaje=%{y}<extra></extra>",
         "legendgroup": "% Abstenciones",
         "line": {
          "color": "#00cc96",
          "dash": "solid"
         },
         "marker": {
          "symbol": "circle"
         },
         "mode": "lines+markers",
         "name": "% Abstenciones",
         "orientation": "v",
         "showlegend": true,
         "type": "scatter",
         "x": {
          "bdata": "2QfeB+MH",
          "dtype": "i2"
         },
         "xaxis": "x",
         "y": {
          "bdata": "CtejcD1KR0DXo3A9CvdIQFyPwvUo3EFA",
          "dtype": "f8"
         },
         "yaxis": "y"
        },
        {
         "hovertemplate": "Tipo de voto=% Votos Nulos<br>Año=%{x}<br>Porcentaje=%{y}<extra></extra>",
         "legendgroup": "% Votos Nulos",
         "line": {
          "color": "#ab63fa",
          "dash": "solid"
         },
         "marker": {
          "symbol": "circle"
         },
         "mode": "lines+markers",
         "name": "% Votos Nulos",
         "orientation": "v",
         "showlegend": true,
         "type": "scatter",
         "x": {
          "bdata": "2QfeB+MH",
          "dtype": "i2"
         },
         "xaxis": "x",
         "y": {
          "bdata": "ZmZmZmZm1j+uR+F6FK7zP1yPwvUoXN8/",
          "dtype": "f8"
         },
         "yaxis": "y"
        },
        {
         "hovertemplate": "Tipo de voto=% Votos Blanco<br>Año=%{x}<br>Porcentaje=%{y}<extra></extra>",
         "legendgroup": "% Votos Blanco",
         "line": {
          "color": "#FFA15A",
          "dash": "solid"
         },
         "marker": {
          "symbol": "circle"
         },
         "mode": "lines+markers",
         "name": "% Votos Blanco",
         "orientation": "v",
         "showlegend": true,
         "type": "scatter",
         "x": {
          "bdata": "2QfeB+MH",
          "dtype": "i2"
         },
         "xaxis": "x",
         "y": {
          "bdata": "j8L1KFyP4j8AAAAAAADwPwAAAAAAAOA/",
          "dtype": "f8"
         },
         "yaxis": "y"
        }
       ],
       "layout": {
        "legend": {
         "title": {
          "text": "Tipo de voto"
         },
         "tracegroupgap": 0
        },
        "template": {
         "data": {
          "bar": [
           {
            "error_x": {
             "color": "#2a3f5f"
            },
            "error_y": {
             "color": "#2a3f5f"
            },
            "marker": {
             "line": {
              "color": "#E5ECF6",
              "width": 0.5
             },
             "pattern": {
              "fillmode": "overlay",
              "size": 10,
              "solidity": 0.2
             }
            },
            "type": "bar"
           }
          ],
          "barpolar": [
           {
            "marker": {
             "line": {
              "color": "#E5ECF6",
              "width": 0.5
             },
             "pattern": {
              "fillmode": "overlay",
              "size": 10,
              "solidity": 0.2
             }
            },
            "type": "barpolar"
           }
          ],
          "carpet": [
           {
            "aaxis": {
             "endlinecolor": "#2a3f5f",
             "gridcolor": "white",
             "linecolor": "white",
             "minorgridcolor": "white",
             "startlinecolor": "#2a3f5f"
            },
            "baxis": {
             "endlinecolor": "#2a3f5f",
             "gridcolor": "white",
             "linecolor": "white",
             "minorgridcolor": "white",
             "startlinecolor": "#2a3f5f"
            },
            "type": "carpet"
           }
          ],
          "choropleth": [
           {
            "colorbar": {
             "outlinewidth": 0,
             "ticks": ""
            },
            "type": "choropleth"
           }
          ],
          "contour": [
           {
            "colorbar": {
             "outlinewidth": 0,
             "ticks": ""
            },
            "colorscale": [
             [
              0,
              "#0d0887"
             ],
             [
              0.1111111111111111,
              "#46039f"
             ],
             [
              0.2222222222222222,
              "#7201a8"
             ],
             [
              0.3333333333333333,
              "#9c179e"
             ],
             [
              0.4444444444444444,
              "#bd3786"
             ],
             [
              0.5555555555555556,
              "#d8576b"
             ],
             [
              0.6666666666666666,
              "#ed7953"
             ],
             [
              0.7777777777777778,
              "#fb9f3a"
             ],
             [
              0.8888888888888888,
              "#fdca26"
             ],
             [
              1,
              "#f0f921"
             ]
            ],
            "type": "contour"
           }
          ],
          "contourcarpet": [
           {
            "colorbar": {
             "outlinewidth": 0,
             "ticks": ""
            },
            "type": "contourcarpet"
           }
          ],
          "heatmap": [
           {
            "colorbar": {
             "outlinewidth": 0,
             "ticks": ""
            },
            "colorscale": [
             [
              0,
              "#0d0887"
             ],
             [
              0.1111111111111111,
              "#46039f"
             ],
             [
              0.2222222222222222,
              "#7201a8"
             ],
             [
              0.3333333333333333,
              "#9c179e"
             ],
             [
              0.4444444444444444,
              "#bd3786"
             ],
             [
              0.5555555555555556,
              "#d8576b"
             ],
             [
              0.6666666666666666,
              "#ed7953"
             ],
             [
              0.7777777777777778,
              "#fb9f3a"
             ],
             [
              0.8888888888888888,
              "#fdca26"
             ],
             [
              1,
              "#f0f921"
             ]
            ],
            "type": "heatmap"
           }
          ],
          "histogram": [
           {
            "marker": {
             "pattern": {
              "fillmode": "overlay",
              "size": 10,
              "solidity": 0.2
             }
            },
            "type": "histogram"
           }
          ],
          "histogram2d": [
           {
            "colorbar": {
             "outlinewidth": 0,
             "ticks": ""
            },
            "colorscale": [
             [
              0,
              "#0d0887"
             ],
             [
              0.1111111111111111,
              "#46039f"
             ],
             [
              0.2222222222222222,
              "#7201a8"
             ],
             [
              0.3333333333333333,
              "#9c179e"
             ],
             [
              0.4444444444444444,
              "#bd3786"
             ],
             [
              0.5555555555555556,
              "#d8576b"
             ],
             [
              0.6666666666666666,
              "#ed7953"
             ],
             [
              0.7777777777777778,
              "#fb9f3a"
             ],
             [
              0.8888888888888888,
              "#fdca26"
             ],
             [
              1,
              "#f0f921"
             ]
            ],
            "type": "histogram2d"
           }
          ],
          "histogram2dcontour": [
           {
            "colorbar": {
             "outlinewidth": 0,
             "ticks": ""
            },
            "colorscale": [
             [
              0,
              "#0d0887"
             ],
             [
              0.1111111111111111,
              "#46039f"
             ],
             [
              0.2222222222222222,
              "#7201a8"
             ],
             [
              0.3333333333333333,
              "#9c179e"
             ],
             [
              0.4444444444444444,
              "#bd3786"
             ],
             [
              0.5555555555555556,
              "#d8576b"
             ],
             [
              0.6666666666666666,
              "#ed7953"
             ],
             [
              0.7777777777777778,
              "#fb9f3a"
             ],
             [
              0.8888888888888888,
              "#fdca26"
             ],
             [
              1,
              "#f0f921"
             ]
            ],
            "type": "histogram2dcontour"
           }
          ],
          "mesh3d": [
           {
            "colorbar": {
             "outlinewidth": 0,
             "ticks": ""
            },
            "type": "mesh3d"
           }
          ],
          "parcoords": [
           {
            "line": {
             "colorbar": {
              "outlinewidth": 0,
              "ticks": ""
             }
            },
            "type": "parcoords"
           }
          ],
          "pie": [
           {
            "automargin": true,
            "type": "pie"
           }
          ],
          "scatter": [
           {
            "fillpattern": {
             "fillmode": "overlay",
             "size": 10,
             "solidity": 0.2
            },
            "type": "scatter"
           }
          ],
          "scatter3d": [
           {
            "line": {
             "colorbar": {
              "outlinewidth": 0,
              "ticks": ""
             }
            },
            "marker": {
             "colorbar": {
              "outlinewidth": 0,
              "ticks": ""
             }
            },
            "type": "scatter3d"
           }
          ],
          "scattercarpet": [
           {
            "marker": {
             "colorbar": {
              "outlinewidth": 0,
              "ticks": ""
             }
            },
            "type": "scattercarpet"
           }
          ],
          "scattergeo": [
           {
            "marker": {
             "colorbar": {
              "outlinewidth": 0,
              "ticks": ""
             }
            },
            "type": "scattergeo"
           }
          ],
          "scattergl": [
           {
            "marker": {
             "colorbar": {
              "outlinewidth": 0,
              "ticks": ""
             }
            },
            "type": "scattergl"
           }
          ],
          "scattermap": [
           {
            "marker": {
             "colorbar": {
              "outlinewidth": 0,
              "ticks": ""
             }
            },
            "type": "scattermap"
           }
          ],
          "scattermapbox": [
           {
            "marker": {
             "colorbar": {
              "outlinewidth": 0,
              "ticks": ""
             }
            },
            "type": "scattermapbox"
           }
          ],
          "scatterpolar": [
           {
            "marker": {
             "colorbar": {
              "outlinewidth": 0,
              "ticks": ""
             }
            },
            "type": "scatterpolar"
           }
          ],
          "scatterpolargl": [
           {
            "marker": {
             "colorbar": {
              "outlinewidth": 0,
              "ticks": ""
             }
            },
            "type": "scatterpolargl"
           }
          ],
          "scatterternary": [
           {
            "marker": {
             "colorbar": {
              "outlinewidth": 0,
              "ticks": ""
             }
            },
            "type": "scatterternary"
           }
          ],
          "surface": [
           {
            "colorbar": {
             "outlinewidth": 0,
             "ticks": ""
            },
            "colorscale": [
             [
              0,
              "#0d0887"
             ],
             [
              0.1111111111111111,
              "#46039f"
             ],
             [
              0.2222222222222222,
              "#7201a8"
             ],
             [
              0.3333333333333333,
              "#9c179e"
             ],
             [
              0.4444444444444444,
              "#bd3786"
             ],
             [
              0.5555555555555556,
              "#d8576b"
             ],
             [
              0.6666666666666666,
              "#ed7953"
             ],
             [
              0.7777777777777778,
              "#fb9f3a"
             ],
             [
              0.8888888888888888,
              "#fdca26"
             ],
             [
              1,
              "#f0f921"
             ]
            ],
            "type": "surface"
           }
          ],
          "table": [
           {
            "cells": {
             "fill": {
              "color": "#EBF0F8"
             },
             "line": {
              "color": "white"
             }
            },
            "header": {
             "fill": {
              "color": "#C8D4E3"
             },
             "line": {
              "color": "white"
             }
            },
            "type": "table"
           }
          ]
         },
         "layout": {
          "annotationdefaults": {
           "arrowcolor": "#2a3f5f",
           "arrowhead": 0,
           "arrowwidth": 1
          },
          "autotypenumbers": "strict",
          "coloraxis": {
           "colorbar": {
            "outlinewidth": 0,
            "ticks": ""
           }
          },
          "colorscale": {
           "diverging": [
            [
             0,
             "#8e0152"
            ],
            [
             0.1,
             "#c51b7d"
            ],
            [
             0.2,
             "#de77ae"
            ],
            [
             0.3,
             "#f1b6da"
            ],
            [
             0.4,
             "#fde0ef"
            ],
            [
             0.5,
             "#f7f7f7"
            ],
            [
             0.6,
             "#e6f5d0"
            ],
            [
             0.7,
             "#b8e186"
            ],
            [
             0.8,
             "#7fbc41"
            ],
            [
             0.9,
             "#4d9221"
            ],
            [
             1,
             "#276419"
            ]
           ],
           "sequential": [
            [
             0,
             "#0d0887"
            ],
            [
             0.1111111111111111,
             "#46039f"
            ],
            [
             0.2222222222222222,
             "#7201a8"
            ],
            [
             0.3333333333333333,
             "#9c179e"
            ],
            [
             0.4444444444444444,
             "#bd3786"
            ],
            [
             0.5555555555555556,
             "#d8576b"
            ],
            [
             0.6666666666666666,
             "#ed7953"
            ],
            [
             0.7777777777777778,
             "#fb9f3a"
            ],
            [
             0.8888888888888888,
             "#fdca26"
            ],
            [
             1,
             "#f0f921"
            ]
           ],
           "sequentialminus": [
            [
             0,
             "#0d0887"
            ],
            [
             0.1111111111111111,
             "#46039f"
            ],
            [
             0.2222222222222222,
             "#7201a8"
            ],
            [
             0.3333333333333333,
             "#9c179e"
            ],
            [
             0.4444444444444444,
             "#bd3786"
            ],
            [
             0.5555555555555556,
             "#d8576b"
            ],
            [
             0.6666666666666666,
             "#ed7953"
            ],
            [
             0.7777777777777778,
             "#fb9f3a"
            ],
            [
             0.8888888888888888,
             "#fdca26"
            ],
            [
             1,
             "#f0f921"
            ]
           ]
          },
          "colorway": [
           "#636efa",
           "#EF553B",
           "#00cc96",
           "#ab63fa",
           "#FFA15A",
           "#19d3f3",
           "#FF6692",
           "#B6E880",
           "#FF97FF",
           "#FECB52"
          ],
          "font": {
           "color": "#2a3f5f"
          },
          "geo": {
           "bgcolor": "white",
           "lakecolor": "white",
           "landcolor": "#E5ECF6",
           "showlakes": true,
           "showland": true,
           "subunitcolor": "white"
          },
          "hoverlabel": {
           "align": "left"
          },
          "hovermode": "closest",
          "mapbox": {
           "style": "light"
          },
          "paper_bgcolor": "white",
          "plot_bgcolor": "#E5ECF6",
          "polar": {
           "angularaxis": {
            "gridcolor": "white",
            "linecolor": "white",
            "ticks": ""
           },
           "bgcolor": "#E5ECF6",
           "radialaxis": {
            "gridcolor": "white",
            "linecolor": "white",
            "ticks": ""
           }
          },
          "scene": {
           "xaxis": {
            "backgroundcolor": "#E5ECF6",
            "gridcolor": "white",
            "gridwidth": 2,
            "linecolor": "white",
            "showbackground": true,
            "ticks": "",
            "zerolinecolor": "white"
           },
           "yaxis": {
            "backgroundcolor": "#E5ECF6",
            "gridcolor": "white",
            "gridwidth": 2,
            "linecolor": "white",
            "showbackground": true,
            "ticks": "",
            "zerolinecolor": "white"
           },
           "zaxis": {
            "backgroundcolor": "#E5ECF6",
            "gridcolor": "white",
            "gridwidth": 2,
            "linecolor": "white",
            "showbackground": true,
            "ticks": "",
            "zerolinecolor": "white"
           }
          },
          "shapedefaults": {
           "line": {
            "color": "#2a3f5f"
           }
          },
          "ternary": {
           "aaxis": {
            "gridcolor": "white",
            "linecolor": "white",
            "ticks": ""
           },
           "baxis": {
            "gridcolor": "white",
            "linecolor": "white",
            "ticks": ""
           },
           "bgcolor": "#E5ECF6",
           "caxis": {
            "gridcolor": "white",
            "linecolor": "white",
            "ticks": ""
           }
          },
          "title": {
           "x": 0.05
          },
          "xaxis": {
           "automargin": true,
           "gridcolor": "white",
           "linecolor": "white",
           "ticks": "",
           "title": {
            "standoff": 15
           },
           "zerolinecolor": "white",
           "zerolinewidth": 2
          },
          "yaxis": {
           "automargin": true,
           "gridcolor": "white",
           "linecolor": "white",
           "ticks": "",
           "title": {
            "standoff": 15
           },
           "zerolinecolor": "white",
           "zerolinewidth": 2
          }
         }
        },
        "title": {
         "text": "Tendencia de porcentajes de votos por año"
        },
        "xaxis": {
         "anchor": "y",
         "domain": [
          0,
          1
         ],
         "title": {
          "text": "Año"
         }
        },
        "yaxis": {
         "anchor": "x",
         "domain": [
          0,
          1
         ],
         "title": {
          "text": "Porcentaje"
         }
        }
       }
      }
     },
     "metadata": {},
     "output_type": "display_data"
    }
   ],
   "source": [
    "# Gráfico de líneas con porcentajes en lugar de totales\n",
    "fig = px.line(stats_pivot, x=\"Año\", y=[\"% Votantes\",\"% Votos Validos\",\"% Abstenciones\", \"% Votos Nulos\", \"% Votos Blanco\"],\n",
    "               title=\"Tendencia de porcentajes de votos por año\",\n",
    "               labels={\"value\": \"Porcentaje\", \"variable\": \"Tipo de voto\"},\n",
    "               markers=True)\n",
    "\n",
    "fig.show()\n"
   ]
  },
  {
   "cell_type": "code",
   "execution_count": 22,
   "id": "ed92c63d",
   "metadata": {},
   "outputs": [
    {
     "data": {
      "application/vnd.plotly.v1+json": {
       "config": {
        "plotlyServerURL": "https://plot.ly"
       },
       "data": [
        {
         "hovertemplate": "Tipo de voto=% Votantes<br>Año=%{x}<br>Porcentaje=%{y}<extra></extra>",
         "legendgroup": "% Votantes",
         "line": {
          "color": "#636efa",
          "dash": "solid"
         },
         "marker": {
          "symbol": "circle"
         },
         "mode": "lines+markers",
         "name": "% Votantes",
         "orientation": "v",
         "showlegend": true,
         "type": "scatter",
         "x": {
          "bdata": "2QfeB+MH",
          "dtype": "i2"
         },
         "xaxis": "x",
         "y": {
          "bdata": "9ihcj8K1SkApXI/C9QhJQFK4HoXrEVBA",
          "dtype": "f8"
         },
         "yaxis": "y"
        },
        {
         "hovertemplate": "Tipo de voto=% Votos Validos<br>Año=%{x}<br>Porcentaje=%{y}<extra></extra>",
         "legendgroup": "% Votos Validos",
         "line": {
          "color": "#EF553B",
          "dash": "solid"
         },
         "marker": {
          "symbol": "circle"
         },
         "mode": "lines+markers",
         "name": "% Votos Validos",
         "orientation": "v",
         "showlegend": true,
         "type": "scatter",
         "x": {
          "bdata": "2QfeB+MH",
          "dtype": "i2"
         },
         "xaxis": "x",
         "y": {
          "bdata": "KVyPwvWISkDsUbgehWtIQIXrUbge5U9A",
          "dtype": "f8"
         },
         "yaxis": "y"
        },
        {
         "hovertemplate": "Tipo de voto=% Abstenciones<br>Año=%{x}<br>Porcentaje=%{y}<extra></extra>",
         "legendgroup": "% Abstenciones",
         "line": {
          "color": "#00cc96",
          "dash": "solid"
         },
         "marker": {
          "symbol": "circle"
         },
         "mode": "lines+markers",
         "name": "% Abstenciones",
         "orientation": "v",
         "showlegend": true,
         "type": "scatter",
         "x": {
          "bdata": "2QfeB+MH",
          "dtype": "i2"
         },
         "xaxis": "x",
         "y": {
          "bdata": "CtejcD1KR0DXo3A9CvdIQFyPwvUo3EFA",
          "dtype": "f8"
         },
         "yaxis": "y"
        },
        {
         "hovertemplate": "Tipo de voto=% Votos Nulos<br>Año=%{x}<br>Porcentaje=%{y}<extra></extra>",
         "legendgroup": "% Votos Nulos",
         "line": {
          "color": "#ab63fa",
          "dash": "solid"
         },
         "marker": {
          "symbol": "circle"
         },
         "mode": "lines+markers",
         "name": "% Votos Nulos",
         "orientation": "v",
         "showlegend": true,
         "type": "scatter",
         "x": {
          "bdata": "2QfeB+MH",
          "dtype": "i2"
         },
         "xaxis": "x",
         "y": {
          "bdata": "ZmZmZmZm1j+uR+F6FK7zP1yPwvUoXN8/",
          "dtype": "f8"
         },
         "yaxis": "y"
        },
        {
         "hovertemplate": "Tipo de voto=% Votos Blanco<br>Año=%{x}<br>Porcentaje=%{y}<extra></extra>",
         "legendgroup": "% Votos Blanco",
         "line": {
          "color": "#FFA15A",
          "dash": "solid"
         },
         "marker": {
          "symbol": "circle"
         },
         "mode": "lines+markers",
         "name": "% Votos Blanco",
         "orientation": "v",
         "showlegend": true,
         "type": "scatter",
         "x": {
          "bdata": "2QfeB+MH",
          "dtype": "i2"
         },
         "xaxis": "x",
         "y": {
          "bdata": "j8L1KFyP4j8AAAAAAADwPwAAAAAAAOA/",
          "dtype": "f8"
         },
         "yaxis": "y"
        }
       ],
       "layout": {
        "legend": {
         "title": {
          "text": "Tipo de voto"
         },
         "tracegroupgap": 0
        },
        "template": {
         "data": {
          "bar": [
           {
            "error_x": {
             "color": "#2a3f5f"
            },
            "error_y": {
             "color": "#2a3f5f"
            },
            "marker": {
             "line": {
              "color": "#E5ECF6",
              "width": 0.5
             },
             "pattern": {
              "fillmode": "overlay",
              "size": 10,
              "solidity": 0.2
             }
            },
            "type": "bar"
           }
          ],
          "barpolar": [
           {
            "marker": {
             "line": {
              "color": "#E5ECF6",
              "width": 0.5
             },
             "pattern": {
              "fillmode": "overlay",
              "size": 10,
              "solidity": 0.2
             }
            },
            "type": "barpolar"
           }
          ],
          "carpet": [
           {
            "aaxis": {
             "endlinecolor": "#2a3f5f",
             "gridcolor": "white",
             "linecolor": "white",
             "minorgridcolor": "white",
             "startlinecolor": "#2a3f5f"
            },
            "baxis": {
             "endlinecolor": "#2a3f5f",
             "gridcolor": "white",
             "linecolor": "white",
             "minorgridcolor": "white",
             "startlinecolor": "#2a3f5f"
            },
            "type": "carpet"
           }
          ],
          "choropleth": [
           {
            "colorbar": {
             "outlinewidth": 0,
             "ticks": ""
            },
            "type": "choropleth"
           }
          ],
          "contour": [
           {
            "colorbar": {
             "outlinewidth": 0,
             "ticks": ""
            },
            "colorscale": [
             [
              0,
              "#0d0887"
             ],
             [
              0.1111111111111111,
              "#46039f"
             ],
             [
              0.2222222222222222,
              "#7201a8"
             ],
             [
              0.3333333333333333,
              "#9c179e"
             ],
             [
              0.4444444444444444,
              "#bd3786"
             ],
             [
              0.5555555555555556,
              "#d8576b"
             ],
             [
              0.6666666666666666,
              "#ed7953"
             ],
             [
              0.7777777777777778,
              "#fb9f3a"
             ],
             [
              0.8888888888888888,
              "#fdca26"
             ],
             [
              1,
              "#f0f921"
             ]
            ],
            "type": "contour"
           }
          ],
          "contourcarpet": [
           {
            "colorbar": {
             "outlinewidth": 0,
             "ticks": ""
            },
            "type": "contourcarpet"
           }
          ],
          "heatmap": [
           {
            "colorbar": {
             "outlinewidth": 0,
             "ticks": ""
            },
            "colorscale": [
             [
              0,
              "#0d0887"
             ],
             [
              0.1111111111111111,
              "#46039f"
             ],
             [
              0.2222222222222222,
              "#7201a8"
             ],
             [
              0.3333333333333333,
              "#9c179e"
             ],
             [
              0.4444444444444444,
              "#bd3786"
             ],
             [
              0.5555555555555556,
              "#d8576b"
             ],
             [
              0.6666666666666666,
              "#ed7953"
             ],
             [
              0.7777777777777778,
              "#fb9f3a"
             ],
             [
              0.8888888888888888,
              "#fdca26"
             ],
             [
              1,
              "#f0f921"
             ]
            ],
            "type": "heatmap"
           }
          ],
          "histogram": [
           {
            "marker": {
             "pattern": {
              "fillmode": "overlay",
              "size": 10,
              "solidity": 0.2
             }
            },
            "type": "histogram"
           }
          ],
          "histogram2d": [
           {
            "colorbar": {
             "outlinewidth": 0,
             "ticks": ""
            },
            "colorscale": [
             [
              0,
              "#0d0887"
             ],
             [
              0.1111111111111111,
              "#46039f"
             ],
             [
              0.2222222222222222,
              "#7201a8"
             ],
             [
              0.3333333333333333,
              "#9c179e"
             ],
             [
              0.4444444444444444,
              "#bd3786"
             ],
             [
              0.5555555555555556,
              "#d8576b"
             ],
             [
              0.6666666666666666,
              "#ed7953"
             ],
             [
              0.7777777777777778,
              "#fb9f3a"
             ],
             [
              0.8888888888888888,
              "#fdca26"
             ],
             [
              1,
              "#f0f921"
             ]
            ],
            "type": "histogram2d"
           }
          ],
          "histogram2dcontour": [
           {
            "colorbar": {
             "outlinewidth": 0,
             "ticks": ""
            },
            "colorscale": [
             [
              0,
              "#0d0887"
             ],
             [
              0.1111111111111111,
              "#46039f"
             ],
             [
              0.2222222222222222,
              "#7201a8"
             ],
             [
              0.3333333333333333,
              "#9c179e"
             ],
             [
              0.4444444444444444,
              "#bd3786"
             ],
             [
              0.5555555555555556,
              "#d8576b"
             ],
             [
              0.6666666666666666,
              "#ed7953"
             ],
             [
              0.7777777777777778,
              "#fb9f3a"
             ],
             [
              0.8888888888888888,
              "#fdca26"
             ],
             [
              1,
              "#f0f921"
             ]
            ],
            "type": "histogram2dcontour"
           }
          ],
          "mesh3d": [
           {
            "colorbar": {
             "outlinewidth": 0,
             "ticks": ""
            },
            "type": "mesh3d"
           }
          ],
          "parcoords": [
           {
            "line": {
             "colorbar": {
              "outlinewidth": 0,
              "ticks": ""
             }
            },
            "type": "parcoords"
           }
          ],
          "pie": [
           {
            "automargin": true,
            "type": "pie"
           }
          ],
          "scatter": [
           {
            "fillpattern": {
             "fillmode": "overlay",
             "size": 10,
             "solidity": 0.2
            },
            "type": "scatter"
           }
          ],
          "scatter3d": [
           {
            "line": {
             "colorbar": {
              "outlinewidth": 0,
              "ticks": ""
             }
            },
            "marker": {
             "colorbar": {
              "outlinewidth": 0,
              "ticks": ""
             }
            },
            "type": "scatter3d"
           }
          ],
          "scattercarpet": [
           {
            "marker": {
             "colorbar": {
              "outlinewidth": 0,
              "ticks": ""
             }
            },
            "type": "scattercarpet"
           }
          ],
          "scattergeo": [
           {
            "marker": {
             "colorbar": {
              "outlinewidth": 0,
              "ticks": ""
             }
            },
            "type": "scattergeo"
           }
          ],
          "scattergl": [
           {
            "marker": {
             "colorbar": {
              "outlinewidth": 0,
              "ticks": ""
             }
            },
            "type": "scattergl"
           }
          ],
          "scattermap": [
           {
            "marker": {
             "colorbar": {
              "outlinewidth": 0,
              "ticks": ""
             }
            },
            "type": "scattermap"
           }
          ],
          "scattermapbox": [
           {
            "marker": {
             "colorbar": {
              "outlinewidth": 0,
              "ticks": ""
             }
            },
            "type": "scattermapbox"
           }
          ],
          "scatterpolar": [
           {
            "marker": {
             "colorbar": {
              "outlinewidth": 0,
              "ticks": ""
             }
            },
            "type": "scatterpolar"
           }
          ],
          "scatterpolargl": [
           {
            "marker": {
             "colorbar": {
              "outlinewidth": 0,
              "ticks": ""
             }
            },
            "type": "scatterpolargl"
           }
          ],
          "scatterternary": [
           {
            "marker": {
             "colorbar": {
              "outlinewidth": 0,
              "ticks": ""
             }
            },
            "type": "scatterternary"
           }
          ],
          "surface": [
           {
            "colorbar": {
             "outlinewidth": 0,
             "ticks": ""
            },
            "colorscale": [
             [
              0,
              "#0d0887"
             ],
             [
              0.1111111111111111,
              "#46039f"
             ],
             [
              0.2222222222222222,
              "#7201a8"
             ],
             [
              0.3333333333333333,
              "#9c179e"
             ],
             [
              0.4444444444444444,
              "#bd3786"
             ],
             [
              0.5555555555555556,
              "#d8576b"
             ],
             [
              0.6666666666666666,
              "#ed7953"
             ],
             [
              0.7777777777777778,
              "#fb9f3a"
             ],
             [
              0.8888888888888888,
              "#fdca26"
             ],
             [
              1,
              "#f0f921"
             ]
            ],
            "type": "surface"
           }
          ],
          "table": [
           {
            "cells": {
             "fill": {
              "color": "#EBF0F8"
             },
             "line": {
              "color": "white"
             }
            },
            "header": {
             "fill": {
              "color": "#C8D4E3"
             },
             "line": {
              "color": "white"
             }
            },
            "type": "table"
           }
          ]
         },
         "layout": {
          "annotationdefaults": {
           "arrowcolor": "#2a3f5f",
           "arrowhead": 0,
           "arrowwidth": 1
          },
          "autotypenumbers": "strict",
          "coloraxis": {
           "colorbar": {
            "outlinewidth": 0,
            "ticks": ""
           }
          },
          "colorscale": {
           "diverging": [
            [
             0,
             "#8e0152"
            ],
            [
             0.1,
             "#c51b7d"
            ],
            [
             0.2,
             "#de77ae"
            ],
            [
             0.3,
             "#f1b6da"
            ],
            [
             0.4,
             "#fde0ef"
            ],
            [
             0.5,
             "#f7f7f7"
            ],
            [
             0.6,
             "#e6f5d0"
            ],
            [
             0.7,
             "#b8e186"
            ],
            [
             0.8,
             "#7fbc41"
            ],
            [
             0.9,
             "#4d9221"
            ],
            [
             1,
             "#276419"
            ]
           ],
           "sequential": [
            [
             0,
             "#0d0887"
            ],
            [
             0.1111111111111111,
             "#46039f"
            ],
            [
             0.2222222222222222,
             "#7201a8"
            ],
            [
             0.3333333333333333,
             "#9c179e"
            ],
            [
             0.4444444444444444,
             "#bd3786"
            ],
            [
             0.5555555555555556,
             "#d8576b"
            ],
            [
             0.6666666666666666,
             "#ed7953"
            ],
            [
             0.7777777777777778,
             "#fb9f3a"
            ],
            [
             0.8888888888888888,
             "#fdca26"
            ],
            [
             1,
             "#f0f921"
            ]
           ],
           "sequentialminus": [
            [
             0,
             "#0d0887"
            ],
            [
             0.1111111111111111,
             "#46039f"
            ],
            [
             0.2222222222222222,
             "#7201a8"
            ],
            [
             0.3333333333333333,
             "#9c179e"
            ],
            [
             0.4444444444444444,
             "#bd3786"
            ],
            [
             0.5555555555555556,
             "#d8576b"
            ],
            [
             0.6666666666666666,
             "#ed7953"
            ],
            [
             0.7777777777777778,
             "#fb9f3a"
            ],
            [
             0.8888888888888888,
             "#fdca26"
            ],
            [
             1,
             "#f0f921"
            ]
           ]
          },
          "colorway": [
           "#636efa",
           "#EF553B",
           "#00cc96",
           "#ab63fa",
           "#FFA15A",
           "#19d3f3",
           "#FF6692",
           "#B6E880",
           "#FF97FF",
           "#FECB52"
          ],
          "font": {
           "color": "#2a3f5f"
          },
          "geo": {
           "bgcolor": "white",
           "lakecolor": "white",
           "landcolor": "#E5ECF6",
           "showlakes": true,
           "showland": true,
           "subunitcolor": "white"
          },
          "hoverlabel": {
           "align": "left"
          },
          "hovermode": "closest",
          "mapbox": {
           "style": "light"
          },
          "paper_bgcolor": "white",
          "plot_bgcolor": "#E5ECF6",
          "polar": {
           "angularaxis": {
            "gridcolor": "white",
            "linecolor": "white",
            "ticks": ""
           },
           "bgcolor": "#E5ECF6",
           "radialaxis": {
            "gridcolor": "white",
            "linecolor": "white",
            "ticks": ""
           }
          },
          "scene": {
           "xaxis": {
            "backgroundcolor": "#E5ECF6",
            "gridcolor": "white",
            "gridwidth": 2,
            "linecolor": "white",
            "showbackground": true,
            "ticks": "",
            "zerolinecolor": "white"
           },
           "yaxis": {
            "backgroundcolor": "#E5ECF6",
            "gridcolor": "white",
            "gridwidth": 2,
            "linecolor": "white",
            "showbackground": true,
            "ticks": "",
            "zerolinecolor": "white"
           },
           "zaxis": {
            "backgroundcolor": "#E5ECF6",
            "gridcolor": "white",
            "gridwidth": 2,
            "linecolor": "white",
            "showbackground": true,
            "ticks": "",
            "zerolinecolor": "white"
           }
          },
          "shapedefaults": {
           "line": {
            "color": "#2a3f5f"
           }
          },
          "ternary": {
           "aaxis": {
            "gridcolor": "white",
            "linecolor": "white",
            "ticks": ""
           },
           "baxis": {
            "gridcolor": "white",
            "linecolor": "white",
            "ticks": ""
           },
           "bgcolor": "#E5ECF6",
           "caxis": {
            "gridcolor": "white",
            "linecolor": "white",
            "ticks": ""
           }
          },
          "title": {
           "x": 0.05
          },
          "xaxis": {
           "automargin": true,
           "gridcolor": "white",
           "linecolor": "white",
           "ticks": "",
           "title": {
            "standoff": 15
           },
           "zerolinecolor": "white",
           "zerolinewidth": 2
          },
          "yaxis": {
           "automargin": true,
           "gridcolor": "white",
           "linecolor": "white",
           "ticks": "",
           "title": {
            "standoff": 15
           },
           "zerolinecolor": "white",
           "zerolinewidth": 2
          }
         }
        },
        "title": {
         "text": "Tendencia de porcentajes de votos por año"
        },
        "xaxis": {
         "anchor": "y",
         "domain": [
          0,
          1
         ],
         "title": {
          "text": "Año"
         }
        },
        "yaxis": {
         "anchor": "x",
         "domain": [
          0,
          1
         ],
         "title": {
          "text": "Porcentaje"
         }
        }
       }
      }
     },
     "metadata": {},
     "output_type": "display_data"
    }
   ],
   "source": [
    "px.line(stats_provincia_pivot, x=\"Año\", y=[\"% Votantes\",\"% Votos Validos\",\"% Abstenciones\", \"% Votos Nulos\", \"% Votos Blanco\"],\n",
    "               facet_col=\"PROVINCIA\", title=\"Tendencia de votos y abstención por provincia\",\n",
    "               labels={\"value\": \"Cantidad\", \"variable\": \"Tipo de voto\"},\n",
    "               markers=True)\n",
    "\n",
    "fig.show()"
   ]
  },
  {
   "cell_type": "code",
   "execution_count": 23,
   "id": "e2d30930",
   "metadata": {},
   "outputs": [
    {
     "data": {
      "text/html": [
       "<div>\n",
       "<style scoped>\n",
       "    .dataframe tbody tr th:only-of-type {\n",
       "        vertical-align: middle;\n",
       "    }\n",
       "\n",
       "    .dataframe tbody tr th {\n",
       "        vertical-align: top;\n",
       "    }\n",
       "\n",
       "    .dataframe thead tr th {\n",
       "        text-align: left;\n",
       "    }\n",
       "</style>\n",
       "<table border=\"1\" class=\"dataframe\">\n",
       "  <thead>\n",
       "    <tr>\n",
       "      <th></th>\n",
       "      <th>ANYO</th>\n",
       "      <th colspan=\"3\" halign=\"left\">VOTANTES</th>\n",
       "      <th colspan=\"3\" halign=\"left\">ABSTENCIONES</th>\n",
       "      <th>NULOS</th>\n",
       "      <th>BLANCOS</th>\n",
       "    </tr>\n",
       "    <tr>\n",
       "      <th></th>\n",
       "      <th></th>\n",
       "      <th>sum</th>\n",
       "      <th>mean</th>\n",
       "      <th>std</th>\n",
       "      <th>sum</th>\n",
       "      <th>mean</th>\n",
       "      <th>std</th>\n",
       "      <th>sum</th>\n",
       "      <th>sum</th>\n",
       "    </tr>\n",
       "  </thead>\n",
       "  <tbody>\n",
       "    <tr>\n",
       "      <th>0</th>\n",
       "      <td>2009</td>\n",
       "      <td>66116400</td>\n",
       "      <td>293.420317</td>\n",
       "      <td>92.689799</td>\n",
       "      <td>57651265</td>\n",
       "      <td>255.852594</td>\n",
       "      <td>87.161420</td>\n",
       "      <td>436695</td>\n",
       "      <td>714420</td>\n",
       "    </tr>\n",
       "    <tr>\n",
       "      <th>1</th>\n",
       "      <td>2014</td>\n",
       "      <td>70049616</td>\n",
       "      <td>322.583333</td>\n",
       "      <td>101.282211</td>\n",
       "      <td>69841980</td>\n",
       "      <td>321.627155</td>\n",
       "      <td>102.862376</td>\n",
       "      <td>1721733</td>\n",
       "      <td>1404390</td>\n",
       "    </tr>\n",
       "    <tr>\n",
       "      <th>2</th>\n",
       "      <td>2019</td>\n",
       "      <td>74554304</td>\n",
       "      <td>385.476837</td>\n",
       "      <td>107.856491</td>\n",
       "      <td>41428128</td>\n",
       "      <td>214.200695</td>\n",
       "      <td>81.739547</td>\n",
       "      <td>567552</td>\n",
       "      <td>580800</td>\n",
       "    </tr>\n",
       "  </tbody>\n",
       "</table>\n",
       "</div>"
      ],
      "text/plain": [
       "   ANYO  VOTANTES                         ABSTENCIONES              \\\n",
       "              sum        mean         std          sum        mean   \n",
       "0  2009  66116400  293.420317   92.689799     57651265  255.852594   \n",
       "1  2014  70049616  322.583333  101.282211     69841980  321.627155   \n",
       "2  2019  74554304  385.476837  107.856491     41428128  214.200695   \n",
       "\n",
       "                 NULOS  BLANCOS  \n",
       "          std      sum      sum  \n",
       "0   87.161420   436695   714420  \n",
       "1  102.862376  1721733  1404390  \n",
       "2   81.739547   567552   580800  "
      ]
     },
     "metadata": {},
     "output_type": "display_data"
    },
    {
     "data": {
      "text/plain": [
       "<bound method DataFrameGroupBy.aggregate of <pandas.core.groupby.generic.DataFrameGroupBy object at 0x0000019908068FB0>>"
      ]
     },
     "execution_count": 23,
     "metadata": {},
     "output_type": "execute_result"
    }
   ],
   "source": [
    "# Resumen de estadísticas claves:\n",
    "# Hacemos una resumen de los votos, validos, abstenciones, nulos y blancos\n",
    "stats = df_final.groupby(\"ANYO\").agg({\n",
    "    \"VOTANTES\": [\"sum\", \"mean\", \"std\"],\n",
    "    \"ABSTENCIONES\": [\"sum\", \"mean\", \"std\"],\n",
    "    \"NULOS\": [\"sum\"],\n",
    "    \"BLANCOS\": [\"sum\"]\n",
    "}).reset_index()\n",
    "\n",
    "# Mostrar tabla estadística ( dos niveles)\n",
    "#print(stats)\n",
    "display(stats)\n",
    "stats\n",
    "\n",
    "df_final.groupby(\"ANYO\").agg"
   ]
  },
  {
   "cell_type": "markdown",
   "id": "40091465",
   "metadata": {},
   "source": [
    "#### Evolución de los partidos\n",
    "Vamos a hacer ahora el análisis para dos situaciones concretas: \n",
    "1. Para los 10 partidos más votados en cada una de las elecciones \n",
    "2. Para cada uno de esos partidos ver como han evolucionado en cada una de esas elecciones. "
   ]
  },
  {
   "cell_type": "code",
   "execution_count": 25,
   "id": "3a9cc9e8",
   "metadata": {},
   "outputs": [
    {
     "name": "stderr",
     "output_type": "stream",
     "text": [
      "C:\\Users\\Abelardo\\AppData\\Local\\Temp\\ipykernel_24988\\2009112383.py:22: FutureWarning:\n",
      "\n",
      "The behavior of DataFrame concatenation with empty or all-NA entries is deprecated. In a future version, this will no longer exclude empty or all-NA columns when determining the result dtypes. To retain the old behavior, exclude the relevant entries before the concat operation.\n",
      "\n"
     ]
    },
    {
     "data": {
      "text/html": [
       "<div>\n",
       "<style scoped>\n",
       "    .dataframe tbody tr th:only-of-type {\n",
       "        vertical-align: middle;\n",
       "    }\n",
       "\n",
       "    .dataframe tbody tr th {\n",
       "        vertical-align: top;\n",
       "    }\n",
       "\n",
       "    .dataframe thead th {\n",
       "        text-align: right;\n",
       "    }\n",
       "</style>\n",
       "<table border=\"1\" class=\"dataframe\">\n",
       "  <thead>\n",
       "    <tr style=\"text-align: right;\">\n",
       "      <th></th>\n",
       "      <th>CANDIDATO_DESC</th>\n",
       "      <th>Año</th>\n",
       "      <th>VOTOS</th>\n",
       "    </tr>\n",
       "  </thead>\n",
       "  <tbody>\n",
       "    <tr>\n",
       "      <th>0</th>\n",
       "      <td>Ara Repúbliques-Esquerra Republicana del País ...</td>\n",
       "      <td>2009</td>\n",
       "      <td>0.0</td>\n",
       "    </tr>\n",
       "    <tr>\n",
       "      <th>1</th>\n",
       "      <td>Bloc Nacionalista Valencià-Coalició per Europa</td>\n",
       "      <td>2009</td>\n",
       "      <td>18369.0</td>\n",
       "    </tr>\n",
       "    <tr>\n",
       "      <th>2</th>\n",
       "      <td>Ciudadanos-Partido de la Ciudadanía</td>\n",
       "      <td>2009</td>\n",
       "      <td>0.0</td>\n",
       "    </tr>\n",
       "    <tr>\n",
       "      <th>3</th>\n",
       "      <td>Coalició Compromís</td>\n",
       "      <td>2009</td>\n",
       "      <td>0.0</td>\n",
       "    </tr>\n",
       "    <tr>\n",
       "      <th>4</th>\n",
       "      <td>Coalición Verde-Europa Ciudadana</td>\n",
       "      <td>2009</td>\n",
       "      <td>0.0</td>\n",
       "    </tr>\n",
       "    <tr>\n",
       "      <th>...</th>\n",
       "      <td>...</td>\n",
       "      <td>...</td>\n",
       "      <td>...</td>\n",
       "    </tr>\n",
       "    <tr>\n",
       "      <th>18</th>\n",
       "      <td>Podemos-Podem</td>\n",
       "      <td>2019</td>\n",
       "      <td>0.0</td>\n",
       "    </tr>\n",
       "    <tr>\n",
       "      <th>19</th>\n",
       "      <td>Unidas Podemos cambiar Europa/Unides Podem can...</td>\n",
       "      <td>2019</td>\n",
       "      <td>223724.0</td>\n",
       "    </tr>\n",
       "    <tr>\n",
       "      <th>20</th>\n",
       "      <td>Unió Valenciana</td>\n",
       "      <td>2019</td>\n",
       "      <td>0.0</td>\n",
       "    </tr>\n",
       "    <tr>\n",
       "      <th>21</th>\n",
       "      <td>Unión Progreso y Democracia</td>\n",
       "      <td>2019</td>\n",
       "      <td>0.0</td>\n",
       "    </tr>\n",
       "    <tr>\n",
       "      <th>22</th>\n",
       "      <td>VOX</td>\n",
       "      <td>2019</td>\n",
       "      <td>167133.0</td>\n",
       "    </tr>\n",
       "  </tbody>\n",
       "</table>\n",
       "<p>69 rows × 3 columns</p>\n",
       "</div>"
      ],
      "text/plain": [
       "                                       CANDIDATO_DESC   Año     VOTOS\n",
       "0   Ara Repúbliques-Esquerra Republicana del País ...  2009       0.0\n",
       "1      Bloc Nacionalista Valencià-Coalició per Europa  2009   18369.0\n",
       "2                 Ciudadanos-Partido de la Ciudadanía  2009       0.0\n",
       "3                                  Coalició Compromís  2009       0.0\n",
       "4                    Coalición Verde-Europa Ciudadana  2009       0.0\n",
       "..                                                ...   ...       ...\n",
       "18                                      Podemos-Podem  2019       0.0\n",
       "19  Unidas Podemos cambiar Europa/Unides Podem can...  2019  223724.0\n",
       "20                                    Unió Valenciana  2019       0.0\n",
       "21                        Unión Progreso y Democracia  2019       0.0\n",
       "22                                                VOX  2019  167133.0\n",
       "\n",
       "[69 rows x 3 columns]"
      ]
     },
     "execution_count": 25,
     "metadata": {},
     "output_type": "execute_result"
    }
   ],
   "source": [
    "# Agrupar por año y partido para obtener votos acumulados\n",
    "df_agrupado = df_final.groupby([\"Año\", \"CANDIDATO_DESC\"])[\"VOTOS\"].sum().reset_index()\n",
    "\n",
    "# Identificar todos los partidos que alguna vez estuvieron en el Top 10\n",
    "top_partidos_totales = df_agrupado.sort_values([\"Año\", \"VOTOS\"], ascending=[True, False]).groupby(\"Año\").head(10)\n",
    "partidos_relevantes = top_partidos_totales[\"CANDIDATO_DESC\"].unique()\n",
    "\n",
    "# Filtrar el DataFrame original para incluir solo estos partidos en todas las elecciones\n",
    "df_seguimiento = df_agrupado[df_agrupado[\"CANDIDATO_DESC\"].isin(partidos_relevantes)]\n",
    "\n",
    "# Pivotar para estructurar correctamente los datos sin usar `melt()`\n",
    "df_pivot = df_seguimiento.pivot_table(index=\"CANDIDATO_DESC\", columns=\"Año\", values=\"VOTOS\").fillna(0)\n",
    "\n",
    "# Convertir en formato adecuado para gráficos (evitando listas en `x` y `y`)\n",
    "df_pivot.reset_index(inplace=True)\n",
    "df_long = pd.DataFrame(columns=[\"CANDIDATO_DESC\", \"Año\", \"VOTOS\"])\n",
    "\n",
    "for año in df_pivot.columns[1:]:  # Excluir la columna de partido\n",
    "    temp = df_pivot[[\"CANDIDATO_DESC\", año]].copy()\n",
    "    temp.columns = [\"CANDIDATO_DESC\", \"VOTOS\"]\n",
    "    temp[\"Año\"] = año\n",
    "    df_long = pd.concat([df_long, temp])\n",
    "\n",
    "\n",
    "\n",
    "df_long\n"
   ]
  },
  {
   "cell_type": "markdown",
   "id": "084517a7",
   "metadata": {},
   "source": [
    "Es importante destacar que el agrupamiento por  `Año` y partido político (`CANDIDATO_DESC`) en el DataFrame `df_agrupado` es crucial para obtener la evolución de los partidos. Sin embargo, hemos notado que el comportamoiento de los partidos políticos, los cuales son un gran número, es irregular, lo que dificulta una agrupación y selección de los mismos. En un principio se decidió elegir los 10 partidos más votados y hacer un seguimiento de los mismos, sin embargo, su irregularidad hace que estos en muchos casos no entren en el mismo grupo o bien desaparecen del listado por una u otra razón, o bien dejan de ser los más votados o bien desaparece la agrupación política decae a mínimos. En un principio decidimos: Si el grupo político sale del top 10, mantenerlo con los votos que alcance en su periodo de elección y si este no tiene votos, simplemente asignar 0."
   ]
  },
  {
   "cell_type": "code",
   "execution_count": 26,
   "id": "fecf2197",
   "metadata": {},
   "outputs": [
    {
     "data": {
      "application/vnd.plotly.v1+json": {
       "config": {
        "plotlyServerURL": "https://plot.ly"
       },
       "data": [
        {
         "alignmentgroup": "True",
         "hovertemplate": "Partido=Ara Repúbliques-Esquerra Republicana del País Valencià<br>Año=%{x}<br>Total de votos=%{y}<extra></extra>",
         "legendgroup": "Ara Repúbliques-Esquerra Republicana del País Valencià",
         "marker": {
          "color": "#636efa",
          "pattern": {
           "shape": ""
          }
         },
         "name": "Ara Repúbliques-Esquerra Republicana del País Valencià",
         "offsetgroup": "Ara Repúbliques-Esquerra Republicana del País Valencià",
         "orientation": "v",
         "showlegend": true,
         "textposition": "auto",
         "type": "bar",
         "x": [
          2009,
          2014,
          2019
         ],
         "xaxis": "x",
         "y": {
          "bdata": "AAAAAAAAAAAAAAAAAAAAAAAAAACAI8hA",
          "dtype": "f8"
         },
         "yaxis": "y"
        },
        {
         "alignmentgroup": "True",
         "hovertemplate": "Partido=Bloc Nacionalista Valencià-Coalició per Europa<br>Año=%{x}<br>Total de votos=%{y}<extra></extra>",
         "legendgroup": "Bloc Nacionalista Valencià-Coalició per Europa",
         "marker": {
          "color": "#EF553B",
          "pattern": {
           "shape": ""
          }
         },
         "name": "Bloc Nacionalista Valencià-Coalició per Europa",
         "offsetgroup": "Bloc Nacionalista Valencià-Coalició per Europa",
         "orientation": "v",
         "showlegend": true,
         "textposition": "auto",
         "type": "bar",
         "x": [
          2009,
          2014,
          2019
         ],
         "xaxis": "x",
         "y": {
          "bdata": "AAAAAEDw0UAAAAAAAAAAAAAAAAAAAAAA",
          "dtype": "f8"
         },
         "yaxis": "y"
        },
        {
         "alignmentgroup": "True",
         "hovertemplate": "Partido=Ciudadanos-Partido de la Ciudadanía<br>Año=%{x}<br>Total de votos=%{y}<extra></extra>",
         "legendgroup": "Ciudadanos-Partido de la Ciudadanía",
         "marker": {
          "color": "#00cc96",
          "pattern": {
           "shape": ""
          }
         },
         "name": "Ciudadanos-Partido de la Ciudadanía",
         "offsetgroup": "Ciudadanos-Partido de la Ciudadanía",
         "orientation": "v",
         "showlegend": true,
         "textposition": "auto",
         "type": "bar",
         "x": [
          2009,
          2014,
          2019
         ],
         "xaxis": "x",
         "y": {
          "bdata": "AAAAAAAAAAAAAAAAwCDpQAAAAABUHhRB",
          "dtype": "f8"
         },
         "yaxis": "y"
        },
        {
         "alignmentgroup": "True",
         "hovertemplate": "Partido=Coalició Compromís<br>Año=%{x}<br>Total de votos=%{y}<extra></extra>",
         "legendgroup": "Coalició Compromís",
         "marker": {
          "color": "#ab63fa",
          "pattern": {
           "shape": ""
          }
         },
         "name": "Coalició Compromís",
         "offsetgroup": "Coalició Compromís",
         "orientation": "v",
         "showlegend": true,
         "textposition": "auto",
         "type": "bar",
         "x": [
          2009,
          2014,
          2019
         ],
         "xaxis": "x",
         "y": {
          "bdata": "AAAAAAAAAAAAAAAAGAEBQQAAAAAAAAAA",
          "dtype": "f8"
         },
         "yaxis": "y"
        },
        {
         "alignmentgroup": "True",
         "hovertemplate": "Partido=Coalición Verde-Europa Ciudadana<br>Año=%{x}<br>Total de votos=%{y}<extra></extra>",
         "legendgroup": "Coalición Verde-Europa Ciudadana",
         "marker": {
          "color": "#FFA15A",
          "pattern": {
           "shape": ""
          }
         },
         "name": "Coalición Verde-Europa Ciudadana",
         "offsetgroup": "Coalición Verde-Europa Ciudadana",
         "orientation": "v",
         "showlegend": true,
         "textposition": "auto",
         "type": "bar",
         "x": [
          2009,
          2014,
          2019
         ],
         "xaxis": "x",
         "y": {
          "bdata": "AAAAAAAAAAAAAAAAAAAAAAAAAAAAs7xA",
          "dtype": "f8"
         },
         "yaxis": "y"
        },
        {
         "alignmentgroup": "True",
         "hovertemplate": "Partido=Compromís per Europa/Compromiso por Europa<br>Año=%{x}<br>Total de votos=%{y}<extra></extra>",
         "legendgroup": "Compromís per Europa/Compromiso por Europa",
         "marker": {
          "color": "#19d3f3",
          "pattern": {
           "shape": ""
          }
         },
         "name": "Compromís per Europa/Compromiso por Europa",
         "offsetgroup": "Compromís per Europa/Compromiso por Europa",
         "orientation": "v",
         "showlegend": true,
         "textposition": "auto",
         "type": "bar",
         "x": [
          2009,
          2014,
          2019
         ],
         "xaxis": "x",
         "y": {
          "bdata": "AAAAAAAAAAAAAAAAAAAAAAAAAABImgdB",
          "dtype": "f8"
         },
         "yaxis": "y"
        },
        {
         "alignmentgroup": "True",
         "hovertemplate": "Partido=Els Verds-Grup Verd Europeu-Los Verdes-Grupo Verde Europeo<br>Año=%{x}<br>Total de votos=%{y}<extra></extra>",
         "legendgroup": "Els Verds-Grup Verd Europeu-Los Verdes-Grupo Verde Europeo",
         "marker": {
          "color": "#FF6692",
          "pattern": {
           "shape": ""
          }
         },
         "name": "Els Verds-Grup Verd Europeu-Los Verdes-Grupo Verde Europeo",
         "offsetgroup": "Els Verds-Grup Verd Europeu-Los Verdes-Grupo Verde Europeo",
         "orientation": "v",
         "showlegend": true,
         "textposition": "auto",
         "type": "bar",
         "x": [
          2009,
          2014,
          2019
         ],
         "xaxis": "x",
         "y": {
          "bdata": "AAAAAIDNyUAAAAAAAAAAAAAAAAAAAAAA",
          "dtype": "f8"
         },
         "yaxis": "y"
        },
        {
         "alignmentgroup": "True",
         "hovertemplate": "Partido=Esquerra Republicana del País Valencià- Els Verds<br>Año=%{x}<br>Total de votos=%{y}<extra></extra>",
         "legendgroup": "Esquerra Republicana del País Valencià- Els Verds",
         "marker": {
          "color": "#B6E880",
          "pattern": {
           "shape": ""
          }
         },
         "name": "Esquerra Republicana del País Valencià- Els Verds",
         "offsetgroup": "Esquerra Republicana del País Valencià- Els Verds",
         "orientation": "v",
         "showlegend": true,
         "textposition": "auto",
         "type": "bar",
         "x": [
          2009,
          2014,
          2019
         ],
         "xaxis": "x",
         "y": {
          "bdata": "AAAAAIAhw0AAAAAAAAAAAAAAAAAAAAAA",
          "dtype": "f8"
         },
         "yaxis": "y"
        },
        {
         "alignmentgroup": "True",
         "hovertemplate": "Partido=Esquerra Unida País Valencià-Els Verds: L'Esquerra Plural<br>Año=%{x}<br>Total de votos=%{y}<extra></extra>",
         "legendgroup": "Esquerra Unida País Valencià-Els Verds: L'Esquerra Plural",
         "marker": {
          "color": "#FF97FF",
          "pattern": {
           "shape": ""
          }
         },
         "name": "Esquerra Unida País Valencià-Els Verds: L'Esquerra Plural",
         "offsetgroup": "Esquerra Unida País Valencià-Els Verds: L'Esquerra Plural",
         "orientation": "v",
         "showlegend": true,
         "textposition": "auto",
         "type": "bar",
         "x": [
          2009,
          2014,
          2019
         ],
         "xaxis": "x",
         "y": {
          "bdata": "AAAAAAAAAAAAAAAAiCYGQQAAAAAAAAAA",
          "dtype": "f8"
         },
         "yaxis": "y"
        },
        {
         "alignmentgroup": "True",
         "hovertemplate": "Partido=Esquerra Unida del País Valencià: L'Esquerra<br>Año=%{x}<br>Total de votos=%{y}<extra></extra>",
         "legendgroup": "Esquerra Unida del País Valencià: L'Esquerra",
         "marker": {
          "color": "#FECB52",
          "pattern": {
           "shape": ""
          }
         },
         "name": "Esquerra Unida del País Valencià: L'Esquerra",
         "offsetgroup": "Esquerra Unida del País Valencià: L'Esquerra",
         "orientation": "v",
         "showlegend": true,
         "textposition": "auto",
         "type": "bar",
         "x": [
          2009,
          2014,
          2019
         ],
         "xaxis": "x",
         "y": {
          "bdata": "AAAAAIBx6UAAAAAAAAAAAAAAAAAAAAAA",
          "dtype": "f8"
         },
         "yaxis": "y"
        },
        {
         "alignmentgroup": "True",
         "hovertemplate": "Partido=Iniciativa Internacionalista - La Solidaritat entre els Pobles<br>Año=%{x}<br>Total de votos=%{y}<extra></extra>",
         "legendgroup": "Iniciativa Internacionalista - La Solidaritat entre els Pobles",
         "marker": {
          "color": "#636efa",
          "pattern": {
           "shape": ""
          }
         },
         "name": "Iniciativa Internacionalista - La Solidaritat entre els Pobles",
         "offsetgroup": "Iniciativa Internacionalista - La Solidaritat entre els Pobles",
         "orientation": "v",
         "showlegend": true,
         "textposition": "auto",
         "type": "bar",
         "x": [
          2009,
          2014,
          2019
         ],
         "xaxis": "x",
         "y": {
          "bdata": "AAAAAAAMrEAAAAAAAAAAAAAAAAAAAAAA",
          "dtype": "f8"
         },
         "yaxis": "y"
        },
        {
         "alignmentgroup": "True",
         "hovertemplate": "Partido=Lliures per Europa<br>Año=%{x}<br>Total de votos=%{y}<extra></extra>",
         "legendgroup": "Lliures per Europa",
         "marker": {
          "color": "#EF553B",
          "pattern": {
           "shape": ""
          }
         },
         "name": "Lliures per Europa",
         "offsetgroup": "Lliures per Europa",
         "orientation": "v",
         "showlegend": true,
         "textposition": "auto",
         "type": "bar",
         "x": [
          2009,
          2014,
          2019
         ],
         "xaxis": "x",
         "y": {
          "bdata": "AAAAAAAAAAAAAAAAAAAAAAAAAAAA2rpA",
          "dtype": "f8"
         },
         "yaxis": "y"
        },
        {
         "alignmentgroup": "True",
         "hovertemplate": "Partido=Movimiento de Renovación Democrática Ciudadana, Movimiento Red<br>Año=%{x}<br>Total de votos=%{y}<extra></extra>",
         "legendgroup": "Movimiento de Renovación Democrática Ciudadana, Movimiento Red",
         "marker": {
          "color": "#00cc96",
          "pattern": {
           "shape": ""
          }
         },
         "name": "Movimiento de Renovación Democrática Ciudadana, Movimiento Red",
         "offsetgroup": "Movimiento de Renovación Democrática Ciudadana, Movimiento Red",
         "orientation": "v",
         "showlegend": true,
         "textposition": "auto",
         "type": "bar",
         "x": [
          2009,
          2014,
          2019
         ],
         "xaxis": "x",
         "y": {
          "bdata": "AAAAAAAAAAAAAAAAgErOQAAAAAAAAAAA",
          "dtype": "f8"
         },
         "yaxis": "y"
        },
        {
         "alignmentgroup": "True",
         "hovertemplate": "Partido=Partido Animalista contra el Maltrato Animal<br>Año=%{x}<br>Total de votos=%{y}<extra></extra>",
         "legendgroup": "Partido Animalista contra el Maltrato Animal",
         "marker": {
          "color": "#ab63fa",
          "pattern": {
           "shape": ""
          }
         },
         "name": "Partido Animalista contra el Maltrato Animal",
         "offsetgroup": "Partido Animalista contra el Maltrato Animal",
         "orientation": "v",
         "showlegend": true,
         "textposition": "auto",
         "type": "bar",
         "x": [
          2009,
          2014,
          2019
         ],
         "xaxis": "x",
         "y": {
          "bdata": "AAAAAAAAAAAAAAAAAAAAAAAAAAAgsuBA",
          "dtype": "f8"
         },
         "yaxis": "y"
        },
        {
         "alignmentgroup": "True",
         "hovertemplate": "Partido=Partido Antitaurino contra el Maltrato Animal<br>Año=%{x}<br>Total de votos=%{y}<extra></extra>",
         "legendgroup": "Partido Antitaurino contra el Maltrato Animal",
         "marker": {
          "color": "#FFA15A",
          "pattern": {
           "shape": ""
          }
         },
         "name": "Partido Antitaurino contra el Maltrato Animal",
         "offsetgroup": "Partido Antitaurino contra el Maltrato Animal",
         "orientation": "v",
         "showlegend": true,
         "textposition": "auto",
         "type": "bar",
         "x": [
          2009,
          2014,
          2019
         ],
         "xaxis": "x",
         "y": {
          "bdata": "AAAAAABFs0AAAAAAAAAAAAAAAAAAAAAA",
          "dtype": "f8"
         },
         "yaxis": "y"
        },
        {
         "alignmentgroup": "True",
         "hovertemplate": "Partido=Partido Popular<br>Año=%{x}<br>Total de votos=%{y}<extra></extra>",
         "legendgroup": "Partido Popular",
         "marker": {
          "color": "#19d3f3",
          "pattern": {
           "shape": ""
          }
         },
         "name": "Partido Popular",
         "offsetgroup": "Partido Popular",
         "orientation": "v",
         "showlegend": true,
         "textposition": "auto",
         "type": "bar",
         "x": [
          2009,
          2014,
          2019
         ],
         "xaxis": "x",
         "y": {
          "bdata": "AAAAAJ70LUEAAAAAGBwfQQAAAAAg4h9B",
          "dtype": "f8"
         },
         "yaxis": "y"
        },
        {
         "alignmentgroup": "True",
         "hovertemplate": "Partido=Partido Socialista Obrero Español<br>Año=%{x}<br>Total de votos=%{y}<extra></extra>",
         "legendgroup": "Partido Socialista Obrero Español",
         "marker": {
          "color": "#FF6692",
          "pattern": {
           "shape": ""
          }
         },
         "name": "Partido Socialista Obrero Español",
         "offsetgroup": "Partido Socialista Obrero Español",
         "orientation": "v",
         "showlegend": true,
         "textposition": "auto",
         "type": "bar",
         "x": [
          2009,
          2014,
          2019
         ],
         "xaxis": "x",
         "y": {
          "bdata": "AAAAAEhuJUEAAAAA4BwXQQAAAACURCdB",
          "dtype": "f8"
         },
         "yaxis": "y"
        },
        {
         "alignmentgroup": "True",
         "hovertemplate": "Partido=Partido animalista contra el maltrato animal/Partit animalista contra el maltractament animal<br>Año=%{x}<br>Total de votos=%{y}<extra></extra>",
         "legendgroup": "Partido animalista contra el maltrato animal/Partit animalista contra el maltractament animal",
         "marker": {
          "color": "#B6E880",
          "pattern": {
           "shape": ""
          }
         },
         "name": "Partido animalista contra el maltrato animal/Partit animalista contra el maltractament animal",
         "offsetgroup": "Partido animalista contra el maltrato animal/Partit animalista contra el maltractament animal",
         "orientation": "v",
         "showlegend": true,
         "textposition": "auto",
         "type": "bar",
         "x": [
          2009,
          2014,
          2019
         ],
         "xaxis": "x",
         "y": {
          "bdata": "AAAAAAAAAAAAAAAAgFXWQAAAAAAAAAAA",
          "dtype": "f8"
         },
         "yaxis": "y"
        },
        {
         "alignmentgroup": "True",
         "hovertemplate": "Partido=Podemos-Podem<br>Año=%{x}<br>Total de votos=%{y}<extra></extra>",
         "legendgroup": "Podemos-Podem",
         "marker": {
          "color": "#FF97FF",
          "pattern": {
           "shape": ""
          }
         },
         "name": "Podemos-Podem",
         "offsetgroup": "Podemos-Podem",
         "orientation": "v",
         "showlegend": true,
         "textposition": "auto",
         "type": "bar",
         "x": [
          2009,
          2014,
          2019
         ],
         "xaxis": "x",
         "y": {
          "bdata": "AAAAAAAAAAAAAAAASJ4BQQAAAAAAAAAA",
          "dtype": "f8"
         },
         "yaxis": "y"
        },
        {
         "alignmentgroup": "True",
         "hovertemplate": "Partido=Unidas Podemos cambiar Europa/Unides Podem canviar Europa<br>Año=%{x}<br>Total de votos=%{y}<extra></extra>",
         "legendgroup": "Unidas Podemos cambiar Europa/Unides Podem canviar Europa",
         "marker": {
          "color": "#FECB52",
          "pattern": {
           "shape": ""
          }
         },
         "name": "Unidas Podemos cambiar Europa/Unides Podem canviar Europa",
         "offsetgroup": "Unidas Podemos cambiar Europa/Unides Podem canviar Europa",
         "orientation": "v",
         "showlegend": true,
         "textposition": "auto",
         "type": "bar",
         "x": [
          2009,
          2014,
          2019
         ],
         "xaxis": "x",
         "y": {
          "bdata": "AAAAAAAAAAAAAAAAAAAAAAAAAABgTwtB",
          "dtype": "f8"
         },
         "yaxis": "y"
        },
        {
         "alignmentgroup": "True",
         "hovertemplate": "Partido=Unió Valenciana<br>Año=%{x}<br>Total de votos=%{y}<extra></extra>",
         "legendgroup": "Unió Valenciana",
         "marker": {
          "color": "#636efa",
          "pattern": {
           "shape": ""
          }
         },
         "name": "Unió Valenciana",
         "offsetgroup": "Unió Valenciana",
         "orientation": "v",
         "showlegend": true,
         "textposition": "auto",
         "type": "bar",
         "x": [
          2009,
          2014,
          2019
         ],
         "xaxis": "x",
         "y": {
          "bdata": "AAAAAACtsEAAAAAAAAAAAAAAAAAAAAAA",
          "dtype": "f8"
         },
         "yaxis": "y"
        },
        {
         "alignmentgroup": "True",
         "hovertemplate": "Partido=Unión Progreso y Democracia<br>Año=%{x}<br>Total de votos=%{y}<extra></extra>",
         "legendgroup": "Unión Progreso y Democracia",
         "marker": {
          "color": "#EF553B",
          "pattern": {
           "shape": ""
          }
         },
         "name": "Unión Progreso y Democracia",
         "offsetgroup": "Unión Progreso y Democracia",
         "orientation": "v",
         "showlegend": true,
         "textposition": "auto",
         "type": "bar",
         "x": [
          2009,
          2014,
          2019
         ],
         "xaxis": "x",
         "y": {
          "bdata": "AAAAAOCj40AAAAAAMB4CQQAAAAAAAAAA",
          "dtype": "f8"
         },
         "yaxis": "y"
        },
        {
         "alignmentgroup": "True",
         "hovertemplate": "Partido=VOX<br>Año=%{x}<br>Total de votos=%{y}<extra></extra>",
         "legendgroup": "VOX",
         "marker": {
          "color": "#00cc96",
          "pattern": {
           "shape": ""
          }
         },
         "name": "VOX",
         "offsetgroup": "VOX",
         "orientation": "v",
         "showlegend": true,
         "textposition": "auto",
         "type": "bar",
         "x": [
          2009,
          2014,
          2019
         ],
         "xaxis": "x",
         "y": {
          "bdata": "AAAAAAAAAAAAAAAAgFTdQAAAAADoZgRB",
          "dtype": "f8"
         },
         "yaxis": "y"
        }
       ],
       "layout": {
        "barmode": "group",
        "legend": {
         "title": {
          "text": "Partido"
         },
         "tracegroupgap": 0
        },
        "template": {
         "data": {
          "bar": [
           {
            "error_x": {
             "color": "#2a3f5f"
            },
            "error_y": {
             "color": "#2a3f5f"
            },
            "marker": {
             "line": {
              "color": "#E5ECF6",
              "width": 0.5
             },
             "pattern": {
              "fillmode": "overlay",
              "size": 10,
              "solidity": 0.2
             }
            },
            "type": "bar"
           }
          ],
          "barpolar": [
           {
            "marker": {
             "line": {
              "color": "#E5ECF6",
              "width": 0.5
             },
             "pattern": {
              "fillmode": "overlay",
              "size": 10,
              "solidity": 0.2
             }
            },
            "type": "barpolar"
           }
          ],
          "carpet": [
           {
            "aaxis": {
             "endlinecolor": "#2a3f5f",
             "gridcolor": "white",
             "linecolor": "white",
             "minorgridcolor": "white",
             "startlinecolor": "#2a3f5f"
            },
            "baxis": {
             "endlinecolor": "#2a3f5f",
             "gridcolor": "white",
             "linecolor": "white",
             "minorgridcolor": "white",
             "startlinecolor": "#2a3f5f"
            },
            "type": "carpet"
           }
          ],
          "choropleth": [
           {
            "colorbar": {
             "outlinewidth": 0,
             "ticks": ""
            },
            "type": "choropleth"
           }
          ],
          "contour": [
           {
            "colorbar": {
             "outlinewidth": 0,
             "ticks": ""
            },
            "colorscale": [
             [
              0,
              "#0d0887"
             ],
             [
              0.1111111111111111,
              "#46039f"
             ],
             [
              0.2222222222222222,
              "#7201a8"
             ],
             [
              0.3333333333333333,
              "#9c179e"
             ],
             [
              0.4444444444444444,
              "#bd3786"
             ],
             [
              0.5555555555555556,
              "#d8576b"
             ],
             [
              0.6666666666666666,
              "#ed7953"
             ],
             [
              0.7777777777777778,
              "#fb9f3a"
             ],
             [
              0.8888888888888888,
              "#fdca26"
             ],
             [
              1,
              "#f0f921"
             ]
            ],
            "type": "contour"
           }
          ],
          "contourcarpet": [
           {
            "colorbar": {
             "outlinewidth": 0,
             "ticks": ""
            },
            "type": "contourcarpet"
           }
          ],
          "heatmap": [
           {
            "colorbar": {
             "outlinewidth": 0,
             "ticks": ""
            },
            "colorscale": [
             [
              0,
              "#0d0887"
             ],
             [
              0.1111111111111111,
              "#46039f"
             ],
             [
              0.2222222222222222,
              "#7201a8"
             ],
             [
              0.3333333333333333,
              "#9c179e"
             ],
             [
              0.4444444444444444,
              "#bd3786"
             ],
             [
              0.5555555555555556,
              "#d8576b"
             ],
             [
              0.6666666666666666,
              "#ed7953"
             ],
             [
              0.7777777777777778,
              "#fb9f3a"
             ],
             [
              0.8888888888888888,
              "#fdca26"
             ],
             [
              1,
              "#f0f921"
             ]
            ],
            "type": "heatmap"
           }
          ],
          "histogram": [
           {
            "marker": {
             "pattern": {
              "fillmode": "overlay",
              "size": 10,
              "solidity": 0.2
             }
            },
            "type": "histogram"
           }
          ],
          "histogram2d": [
           {
            "colorbar": {
             "outlinewidth": 0,
             "ticks": ""
            },
            "colorscale": [
             [
              0,
              "#0d0887"
             ],
             [
              0.1111111111111111,
              "#46039f"
             ],
             [
              0.2222222222222222,
              "#7201a8"
             ],
             [
              0.3333333333333333,
              "#9c179e"
             ],
             [
              0.4444444444444444,
              "#bd3786"
             ],
             [
              0.5555555555555556,
              "#d8576b"
             ],
             [
              0.6666666666666666,
              "#ed7953"
             ],
             [
              0.7777777777777778,
              "#fb9f3a"
             ],
             [
              0.8888888888888888,
              "#fdca26"
             ],
             [
              1,
              "#f0f921"
             ]
            ],
            "type": "histogram2d"
           }
          ],
          "histogram2dcontour": [
           {
            "colorbar": {
             "outlinewidth": 0,
             "ticks": ""
            },
            "colorscale": [
             [
              0,
              "#0d0887"
             ],
             [
              0.1111111111111111,
              "#46039f"
             ],
             [
              0.2222222222222222,
              "#7201a8"
             ],
             [
              0.3333333333333333,
              "#9c179e"
             ],
             [
              0.4444444444444444,
              "#bd3786"
             ],
             [
              0.5555555555555556,
              "#d8576b"
             ],
             [
              0.6666666666666666,
              "#ed7953"
             ],
             [
              0.7777777777777778,
              "#fb9f3a"
             ],
             [
              0.8888888888888888,
              "#fdca26"
             ],
             [
              1,
              "#f0f921"
             ]
            ],
            "type": "histogram2dcontour"
           }
          ],
          "mesh3d": [
           {
            "colorbar": {
             "outlinewidth": 0,
             "ticks": ""
            },
            "type": "mesh3d"
           }
          ],
          "parcoords": [
           {
            "line": {
             "colorbar": {
              "outlinewidth": 0,
              "ticks": ""
             }
            },
            "type": "parcoords"
           }
          ],
          "pie": [
           {
            "automargin": true,
            "type": "pie"
           }
          ],
          "scatter": [
           {
            "fillpattern": {
             "fillmode": "overlay",
             "size": 10,
             "solidity": 0.2
            },
            "type": "scatter"
           }
          ],
          "scatter3d": [
           {
            "line": {
             "colorbar": {
              "outlinewidth": 0,
              "ticks": ""
             }
            },
            "marker": {
             "colorbar": {
              "outlinewidth": 0,
              "ticks": ""
             }
            },
            "type": "scatter3d"
           }
          ],
          "scattercarpet": [
           {
            "marker": {
             "colorbar": {
              "outlinewidth": 0,
              "ticks": ""
             }
            },
            "type": "scattercarpet"
           }
          ],
          "scattergeo": [
           {
            "marker": {
             "colorbar": {
              "outlinewidth": 0,
              "ticks": ""
             }
            },
            "type": "scattergeo"
           }
          ],
          "scattergl": [
           {
            "marker": {
             "colorbar": {
              "outlinewidth": 0,
              "ticks": ""
             }
            },
            "type": "scattergl"
           }
          ],
          "scattermap": [
           {
            "marker": {
             "colorbar": {
              "outlinewidth": 0,
              "ticks": ""
             }
            },
            "type": "scattermap"
           }
          ],
          "scattermapbox": [
           {
            "marker": {
             "colorbar": {
              "outlinewidth": 0,
              "ticks": ""
             }
            },
            "type": "scattermapbox"
           }
          ],
          "scatterpolar": [
           {
            "marker": {
             "colorbar": {
              "outlinewidth": 0,
              "ticks": ""
             }
            },
            "type": "scatterpolar"
           }
          ],
          "scatterpolargl": [
           {
            "marker": {
             "colorbar": {
              "outlinewidth": 0,
              "ticks": ""
             }
            },
            "type": "scatterpolargl"
           }
          ],
          "scatterternary": [
           {
            "marker": {
             "colorbar": {
              "outlinewidth": 0,
              "ticks": ""
             }
            },
            "type": "scatterternary"
           }
          ],
          "surface": [
           {
            "colorbar": {
             "outlinewidth": 0,
             "ticks": ""
            },
            "colorscale": [
             [
              0,
              "#0d0887"
             ],
             [
              0.1111111111111111,
              "#46039f"
             ],
             [
              0.2222222222222222,
              "#7201a8"
             ],
             [
              0.3333333333333333,
              "#9c179e"
             ],
             [
              0.4444444444444444,
              "#bd3786"
             ],
             [
              0.5555555555555556,
              "#d8576b"
             ],
             [
              0.6666666666666666,
              "#ed7953"
             ],
             [
              0.7777777777777778,
              "#fb9f3a"
             ],
             [
              0.8888888888888888,
              "#fdca26"
             ],
             [
              1,
              "#f0f921"
             ]
            ],
            "type": "surface"
           }
          ],
          "table": [
           {
            "cells": {
             "fill": {
              "color": "#EBF0F8"
             },
             "line": {
              "color": "white"
             }
            },
            "header": {
             "fill": {
              "color": "#C8D4E3"
             },
             "line": {
              "color": "white"
             }
            },
            "type": "table"
           }
          ]
         },
         "layout": {
          "annotationdefaults": {
           "arrowcolor": "#2a3f5f",
           "arrowhead": 0,
           "arrowwidth": 1
          },
          "autotypenumbers": "strict",
          "coloraxis": {
           "colorbar": {
            "outlinewidth": 0,
            "ticks": ""
           }
          },
          "colorscale": {
           "diverging": [
            [
             0,
             "#8e0152"
            ],
            [
             0.1,
             "#c51b7d"
            ],
            [
             0.2,
             "#de77ae"
            ],
            [
             0.3,
             "#f1b6da"
            ],
            [
             0.4,
             "#fde0ef"
            ],
            [
             0.5,
             "#f7f7f7"
            ],
            [
             0.6,
             "#e6f5d0"
            ],
            [
             0.7,
             "#b8e186"
            ],
            [
             0.8,
             "#7fbc41"
            ],
            [
             0.9,
             "#4d9221"
            ],
            [
             1,
             "#276419"
            ]
           ],
           "sequential": [
            [
             0,
             "#0d0887"
            ],
            [
             0.1111111111111111,
             "#46039f"
            ],
            [
             0.2222222222222222,
             "#7201a8"
            ],
            [
             0.3333333333333333,
             "#9c179e"
            ],
            [
             0.4444444444444444,
             "#bd3786"
            ],
            [
             0.5555555555555556,
             "#d8576b"
            ],
            [
             0.6666666666666666,
             "#ed7953"
            ],
            [
             0.7777777777777778,
             "#fb9f3a"
            ],
            [
             0.8888888888888888,
             "#fdca26"
            ],
            [
             1,
             "#f0f921"
            ]
           ],
           "sequentialminus": [
            [
             0,
             "#0d0887"
            ],
            [
             0.1111111111111111,
             "#46039f"
            ],
            [
             0.2222222222222222,
             "#7201a8"
            ],
            [
             0.3333333333333333,
             "#9c179e"
            ],
            [
             0.4444444444444444,
             "#bd3786"
            ],
            [
             0.5555555555555556,
             "#d8576b"
            ],
            [
             0.6666666666666666,
             "#ed7953"
            ],
            [
             0.7777777777777778,
             "#fb9f3a"
            ],
            [
             0.8888888888888888,
             "#fdca26"
            ],
            [
             1,
             "#f0f921"
            ]
           ]
          },
          "colorway": [
           "#636efa",
           "#EF553B",
           "#00cc96",
           "#ab63fa",
           "#FFA15A",
           "#19d3f3",
           "#FF6692",
           "#B6E880",
           "#FF97FF",
           "#FECB52"
          ],
          "font": {
           "color": "#2a3f5f"
          },
          "geo": {
           "bgcolor": "white",
           "lakecolor": "white",
           "landcolor": "#E5ECF6",
           "showlakes": true,
           "showland": true,
           "subunitcolor": "white"
          },
          "hoverlabel": {
           "align": "left"
          },
          "hovermode": "closest",
          "mapbox": {
           "style": "light"
          },
          "paper_bgcolor": "white",
          "plot_bgcolor": "#E5ECF6",
          "polar": {
           "angularaxis": {
            "gridcolor": "white",
            "linecolor": "white",
            "ticks": ""
           },
           "bgcolor": "#E5ECF6",
           "radialaxis": {
            "gridcolor": "white",
            "linecolor": "white",
            "ticks": ""
           }
          },
          "scene": {
           "xaxis": {
            "backgroundcolor": "#E5ECF6",
            "gridcolor": "white",
            "gridwidth": 2,
            "linecolor": "white",
            "showbackground": true,
            "ticks": "",
            "zerolinecolor": "white"
           },
           "yaxis": {
            "backgroundcolor": "#E5ECF6",
            "gridcolor": "white",
            "gridwidth": 2,
            "linecolor": "white",
            "showbackground": true,
            "ticks": "",
            "zerolinecolor": "white"
           },
           "zaxis": {
            "backgroundcolor": "#E5ECF6",
            "gridcolor": "white",
            "gridwidth": 2,
            "linecolor": "white",
            "showbackground": true,
            "ticks": "",
            "zerolinecolor": "white"
           }
          },
          "shapedefaults": {
           "line": {
            "color": "#2a3f5f"
           }
          },
          "ternary": {
           "aaxis": {
            "gridcolor": "white",
            "linecolor": "white",
            "ticks": ""
           },
           "baxis": {
            "gridcolor": "white",
            "linecolor": "white",
            "ticks": ""
           },
           "bgcolor": "#E5ECF6",
           "caxis": {
            "gridcolor": "white",
            "linecolor": "white",
            "ticks": ""
           }
          },
          "title": {
           "x": 0.05
          },
          "xaxis": {
           "automargin": true,
           "gridcolor": "white",
           "linecolor": "white",
           "ticks": "",
           "title": {
            "standoff": 15
           },
           "zerolinecolor": "white",
           "zerolinewidth": 2
          },
          "yaxis": {
           "automargin": true,
           "gridcolor": "white",
           "linecolor": "white",
           "ticks": "",
           "title": {
            "standoff": 15
           },
           "zerolinecolor": "white",
           "zerolinewidth": 2
          }
         }
        },
        "title": {
         "text": "Evolución refinada de partidos con seguimiento completo"
        },
        "xaxis": {
         "anchor": "y",
         "domain": [
          0,
          1
         ],
         "title": {
          "text": "Año"
         }
        },
        "yaxis": {
         "anchor": "x",
         "domain": [
          0,
          1
         ],
         "title": {
          "text": "Total de votos"
         }
        }
       }
      }
     },
     "metadata": {},
     "output_type": "display_data"
    }
   ],
   "source": [
    "# Graficar evolución corregida\n",
    "fig = px.bar(df_long, x=\"Año\", y=\"VOTOS\", color=\"CANDIDATO_DESC\",\n",
    "              title=\"Evolución refinada de partidos con seguimiento completo\",\n",
    "              labels={\"VOTOS\": \"Total de votos\", \"CANDIDATO_DESC\": \"Partido\"},\n",
    "              barmode=\"group\")\n",
    "\n",
    "fig.show()\n"
   ]
  },
  {
   "cell_type": "markdown",
   "id": "bfcb0479",
   "metadata": {},
   "source": [
    "El gráfico muestra los 10 partidos más votados. Obviamente el número de la lista puede crecer o mantenerse, lo cual lo hace bastante complejo para representarse dado el ámbito en el que se presentan los partidos políticos."
   ]
  },
  {
   "cell_type": "markdown",
   "id": "74d81ae7",
   "metadata": {},
   "source": [
    "A continuación pretendemos implementar una visulaización geográfica con las herramientas que nos proporciona python."
   ]
  },
  {
   "cell_type": "code",
   "execution_count": 169,
   "id": "1b4cbb7f",
   "metadata": {},
   "outputs": [
    {
     "name": "stdout",
     "output_type": "stream",
     "text": [
      "39.4697065 -0.3763353\n"
     ]
    }
   ],
   "source": [
    "from geopy.geocoders import Nominatim\n",
    "\n",
    "geolocator = Nominatim(user_agent=\"geo_app\")\n",
    "ubicacion = geolocator.geocode(\"Valencia, España\")\n",
    "\n",
    "print(ubicacion.latitude, ubicacion.longitude)  # Coordenadas de Valencia"
   ]
  },
  {
   "cell_type": "code",
   "execution_count": null,
   "id": "780436f1",
   "metadata": {},
   "outputs": [
    {
     "data": {
      "text/html": [
       "<div>\n",
       "<style scoped>\n",
       "    .dataframe tbody tr th:only-of-type {\n",
       "        vertical-align: middle;\n",
       "    }\n",
       "\n",
       "    .dataframe tbody tr th {\n",
       "        vertical-align: top;\n",
       "    }\n",
       "\n",
       "    .dataframe thead th {\n",
       "        text-align: right;\n",
       "    }\n",
       "</style>\n",
       "<table border=\"1\" class=\"dataframe\">\n",
       "  <thead>\n",
       "    <tr style=\"text-align: right;\">\n",
       "      <th></th>\n",
       "      <th>Año</th>\n",
       "      <th>PROVINCIA</th>\n",
       "      <th>VOTANTES</th>\n",
       "    </tr>\n",
       "  </thead>\n",
       "  <tbody>\n",
       "    <tr>\n",
       "      <th>0</th>\n",
       "      <td>2009</td>\n",
       "      <td>Alicante</td>\n",
       "      <td>21804370</td>\n",
       "    </tr>\n",
       "    <tr>\n",
       "      <th>1</th>\n",
       "      <td>2009</td>\n",
       "      <td>Castellón</td>\n",
       "      <td>7681975</td>\n",
       "    </tr>\n",
       "    <tr>\n",
       "      <th>2</th>\n",
       "      <td>2009</td>\n",
       "      <td>Valencia</td>\n",
       "      <td>36630055</td>\n",
       "    </tr>\n",
       "    <tr>\n",
       "      <th>3</th>\n",
       "      <td>2014</td>\n",
       "      <td>Alicante</td>\n",
       "      <td>22575033</td>\n",
       "    </tr>\n",
       "    <tr>\n",
       "      <th>4</th>\n",
       "      <td>2014</td>\n",
       "      <td>Castellón</td>\n",
       "      <td>8151663</td>\n",
       "    </tr>\n",
       "    <tr>\n",
       "      <th>5</th>\n",
       "      <td>2014</td>\n",
       "      <td>Valencia</td>\n",
       "      <td>39322920</td>\n",
       "    </tr>\n",
       "    <tr>\n",
       "      <th>6</th>\n",
       "      <td>2019</td>\n",
       "      <td>Alicante</td>\n",
       "      <td>24758624</td>\n",
       "    </tr>\n",
       "    <tr>\n",
       "      <th>7</th>\n",
       "      <td>2019</td>\n",
       "      <td>Castellón</td>\n",
       "      <td>8911360</td>\n",
       "    </tr>\n",
       "    <tr>\n",
       "      <th>8</th>\n",
       "      <td>2019</td>\n",
       "      <td>Valencia</td>\n",
       "      <td>40884320</td>\n",
       "    </tr>\n",
       "  </tbody>\n",
       "</table>\n",
       "</div>"
      ],
      "text/plain": [
       "    Año  PROVINCIA  VOTANTES\n",
       "0  2009   Alicante  21804370\n",
       "1  2009  Castellón   7681975\n",
       "2  2009   Valencia  36630055\n",
       "3  2014   Alicante  22575033\n",
       "4  2014  Castellón   8151663\n",
       "5  2014   Valencia  39322920\n",
       "6  2019   Alicante  24758624\n",
       "7  2019  Castellón   8911360\n",
       "8  2019   Valencia  40884320"
      ]
     },
     "execution_count": 35,
     "metadata": {},
     "output_type": "execute_result"
    }
   ],
   "source": [
    "votos_provincia_año = df_final.groupby([\"Año\", \"PROVINCIA\"])[\"VOTANTES\"].sum().reset_index()\n",
    "\n",
    "votos_provincia_año"
   ]
  },
  {
   "cell_type": "code",
   "execution_count": 37,
   "id": "8ee5332b",
   "metadata": {},
   "outputs": [
    {
     "name": "stdout",
     "output_type": "stream",
     "text": [
      "Requirement already satisfied: ipywidgets in c:\\users\\abela\\appdata\\local\\programs\\python\\python313\\lib\\site-packages (8.1.7)\n",
      "Requirement already satisfied: comm>=0.1.3 in c:\\users\\abela\\appdata\\local\\programs\\python\\python313\\lib\\site-packages (from ipywidgets) (0.2.2)\n",
      "Requirement already satisfied: ipython>=6.1.0 in c:\\users\\abela\\appdata\\local\\programs\\python\\python313\\lib\\site-packages (from ipywidgets) (8.32.0)\n",
      "Requirement already satisfied: traitlets>=4.3.1 in c:\\users\\abela\\appdata\\local\\programs\\python\\python313\\lib\\site-packages (from ipywidgets) (5.14.3)\n",
      "Requirement already satisfied: widgetsnbextension~=4.0.14 in c:\\users\\abela\\appdata\\local\\programs\\python\\python313\\lib\\site-packages (from ipywidgets) (4.0.14)\n",
      "Requirement already satisfied: jupyterlab_widgets~=3.0.15 in c:\\users\\abela\\appdata\\local\\programs\\python\\python313\\lib\\site-packages (from ipywidgets) (3.0.15)\n",
      "Requirement already satisfied: colorama in c:\\users\\abela\\appdata\\local\\programs\\python\\python313\\lib\\site-packages (from ipython>=6.1.0->ipywidgets) (0.4.6)\n",
      "Requirement already satisfied: decorator in c:\\users\\abela\\appdata\\local\\programs\\python\\python313\\lib\\site-packages (from ipython>=6.1.0->ipywidgets) (5.1.1)\n",
      "Requirement already satisfied: jedi>=0.16 in c:\\users\\abela\\appdata\\local\\programs\\python\\python313\\lib\\site-packages (from ipython>=6.1.0->ipywidgets) (0.19.2)\n",
      "Requirement already satisfied: matplotlib-inline in c:\\users\\abela\\appdata\\local\\programs\\python\\python313\\lib\\site-packages (from ipython>=6.1.0->ipywidgets) (0.1.7)\n",
      "Requirement already satisfied: prompt_toolkit<3.1.0,>=3.0.41 in c:\\users\\abela\\appdata\\local\\programs\\python\\python313\\lib\\site-packages (from ipython>=6.1.0->ipywidgets) (3.0.50)\n",
      "Requirement already satisfied: pygments>=2.4.0 in c:\\users\\abela\\appdata\\local\\programs\\python\\python313\\lib\\site-packages (from ipython>=6.1.0->ipywidgets) (2.19.1)\n",
      "Requirement already satisfied: stack_data in c:\\users\\abela\\appdata\\local\\programs\\python\\python313\\lib\\site-packages (from ipython>=6.1.0->ipywidgets) (0.6.3)\n",
      "Requirement already satisfied: wcwidth in c:\\users\\abela\\appdata\\local\\programs\\python\\python313\\lib\\site-packages (from prompt_toolkit<3.1.0,>=3.0.41->ipython>=6.1.0->ipywidgets) (0.2.13)\n",
      "Requirement already satisfied: parso<0.9.0,>=0.8.4 in c:\\users\\abela\\appdata\\local\\programs\\python\\python313\\lib\\site-packages (from jedi>=0.16->ipython>=6.1.0->ipywidgets) (0.8.4)\n",
      "Requirement already satisfied: executing>=1.2.0 in c:\\users\\abela\\appdata\\local\\programs\\python\\python313\\lib\\site-packages (from stack_data->ipython>=6.1.0->ipywidgets) (2.2.0)\n",
      "Requirement already satisfied: asttokens>=2.1.0 in c:\\users\\abela\\appdata\\local\\programs\\python\\python313\\lib\\site-packages (from stack_data->ipython>=6.1.0->ipywidgets) (3.0.0)\n",
      "Requirement already satisfied: pure-eval in c:\\users\\abela\\appdata\\local\\programs\\python\\python313\\lib\\site-packages (from stack_data->ipython>=6.1.0->ipywidgets) (0.2.3)\n"
     ]
    },
    {
     "name": "stderr",
     "output_type": "stream",
     "text": [
      "\n",
      "[notice] A new release of pip is available: 25.1 -> 25.1.1\n",
      "[notice] To update, run: python.exe -m pip install --upgrade pip\n"
     ]
    }
   ],
   "source": [
    "#!pip install ipywidgets\n"
   ]
  },
  {
   "cell_type": "code",
   "execution_count": 49,
   "id": "65734450",
   "metadata": {},
   "outputs": [
    {
     "data": {
      "text/html": [
       "<div style=\"width:100%;\"><div style=\"position:relative;width:100%;height:0;padding-bottom:60%;\"><span style=\"color:#565656\">Make this Notebook Trusted to load map: File -> Trust Notebook</span><iframe srcdoc=\"&lt;!DOCTYPE html&gt;\n",
       "&lt;html&gt;\n",
       "&lt;head&gt;\n",
       "    \n",
       "    &lt;meta http-equiv=&quot;content-type&quot; content=&quot;text/html; charset=UTF-8&quot; /&gt;\n",
       "    &lt;script src=&quot;https://cdn.jsdelivr.net/npm/leaflet@1.9.3/dist/leaflet.js&quot;&gt;&lt;/script&gt;\n",
       "    &lt;script src=&quot;https://code.jquery.com/jquery-3.7.1.min.js&quot;&gt;&lt;/script&gt;\n",
       "    &lt;script src=&quot;https://cdn.jsdelivr.net/npm/bootstrap@5.2.2/dist/js/bootstrap.bundle.min.js&quot;&gt;&lt;/script&gt;\n",
       "    &lt;script src=&quot;https://cdnjs.cloudflare.com/ajax/libs/Leaflet.awesome-markers/2.0.2/leaflet.awesome-markers.js&quot;&gt;&lt;/script&gt;\n",
       "    &lt;link rel=&quot;stylesheet&quot; href=&quot;https://cdn.jsdelivr.net/npm/leaflet@1.9.3/dist/leaflet.css&quot;/&gt;\n",
       "    &lt;link rel=&quot;stylesheet&quot; href=&quot;https://cdn.jsdelivr.net/npm/bootstrap@5.2.2/dist/css/bootstrap.min.css&quot;/&gt;\n",
       "    &lt;link rel=&quot;stylesheet&quot; href=&quot;https://netdna.bootstrapcdn.com/bootstrap/3.0.0/css/bootstrap-glyphicons.css&quot;/&gt;\n",
       "    &lt;link rel=&quot;stylesheet&quot; href=&quot;https://cdn.jsdelivr.net/npm/@fortawesome/fontawesome-free@6.2.0/css/all.min.css&quot;/&gt;\n",
       "    &lt;link rel=&quot;stylesheet&quot; href=&quot;https://cdnjs.cloudflare.com/ajax/libs/Leaflet.awesome-markers/2.0.2/leaflet.awesome-markers.css&quot;/&gt;\n",
       "    &lt;link rel=&quot;stylesheet&quot; href=&quot;https://cdn.jsdelivr.net/gh/python-visualization/folium/folium/templates/leaflet.awesome.rotate.min.css&quot;/&gt;\n",
       "    \n",
       "            &lt;meta name=&quot;viewport&quot; content=&quot;width=device-width,\n",
       "                initial-scale=1.0, maximum-scale=1.0, user-scalable=no&quot; /&gt;\n",
       "            &lt;style&gt;\n",
       "                #map_3a996685c6daef2fb99e15c69fc68f98 {\n",
       "                    position: relative;\n",
       "                    width: 100.0%;\n",
       "                    height: 100.0%;\n",
       "                    left: 0.0%;\n",
       "                    top: 0.0%;\n",
       "                }\n",
       "                .leaflet-container { font-size: 1rem; }\n",
       "            &lt;/style&gt;\n",
       "\n",
       "            &lt;style&gt;html, body {\n",
       "                width: 100%;\n",
       "                height: 100%;\n",
       "                margin: 0;\n",
       "                padding: 0;\n",
       "            }\n",
       "            &lt;/style&gt;\n",
       "\n",
       "            &lt;style&gt;#map {\n",
       "                position:absolute;\n",
       "                top:0;\n",
       "                bottom:0;\n",
       "                right:0;\n",
       "                left:0;\n",
       "                }\n",
       "            &lt;/style&gt;\n",
       "\n",
       "            &lt;script&gt;\n",
       "                L_NO_TOUCH = false;\n",
       "                L_DISABLE_3D = false;\n",
       "            &lt;/script&gt;\n",
       "\n",
       "        \n",
       "    &lt;script src=&quot;https://cdn.jsdelivr.net/gh/python-visualization/folium@main/folium/templates/leaflet_heat.min.js&quot;&gt;&lt;/script&gt;\n",
       "&lt;/head&gt;\n",
       "&lt;body&gt;\n",
       "    \n",
       "    \n",
       "            &lt;div class=&quot;folium-map&quot; id=&quot;map_3a996685c6daef2fb99e15c69fc68f98&quot; &gt;&lt;/div&gt;\n",
       "        \n",
       "&lt;/body&gt;\n",
       "&lt;script&gt;\n",
       "    \n",
       "    \n",
       "            var map_3a996685c6daef2fb99e15c69fc68f98 = L.map(\n",
       "                &quot;map_3a996685c6daef2fb99e15c69fc68f98&quot;,\n",
       "                {\n",
       "                    center: [39.4699, -0.3763],\n",
       "                    crs: L.CRS.EPSG3857,\n",
       "                    ...{\n",
       "  &quot;zoom&quot;: 8,\n",
       "  &quot;zoomControl&quot;: true,\n",
       "  &quot;preferCanvas&quot;: false,\n",
       "}\n",
       "\n",
       "                }\n",
       "            );\n",
       "\n",
       "            \n",
       "\n",
       "        \n",
       "    \n",
       "            var tile_layer_b1739a5bf4f0c0251f3e64a0e8042ef0 = L.tileLayer(\n",
       "                &quot;https://{s}.basemaps.cartocdn.com/light_all/{z}/{x}/{y}{r}.png&quot;,\n",
       "                {\n",
       "  &quot;minZoom&quot;: 0,\n",
       "  &quot;maxZoom&quot;: 20,\n",
       "  &quot;maxNativeZoom&quot;: 20,\n",
       "  &quot;noWrap&quot;: false,\n",
       "  &quot;attribution&quot;: &quot;\\u0026copy; \\u003ca href=\\&quot;https://www.openstreetmap.org/copyright\\&quot;\\u003eOpenStreetMap\\u003c/a\\u003e contributors \\u0026copy; \\u003ca href=\\&quot;https://carto.com/attributions\\&quot;\\u003eCARTO\\u003c/a\\u003e&quot;,\n",
       "  &quot;subdomains&quot;: &quot;abcd&quot;,\n",
       "  &quot;detectRetina&quot;: false,\n",
       "  &quot;tms&quot;: false,\n",
       "  &quot;opacity&quot;: 1,\n",
       "}\n",
       "\n",
       "            );\n",
       "        \n",
       "    \n",
       "            tile_layer_b1739a5bf4f0c0251f3e64a0e8042ef0.addTo(map_3a996685c6daef2fb99e15c69fc68f98);\n",
       "        \n",
       "    \n",
       "            var heat_map_f364faa3a35c376cfb276044cc6d8a60 = L.heatLayer(\n",
       "                [[38.3452, -0.481, 21804370], [39.9864, -0.0513, 7681975], [39.4699, -0.3763, 36630055], [38.3452, -0.481, 22575033], [39.9864, -0.0513, 8151663], [39.4699, -0.3763, 39322920], [38.3452, -0.481, 24758624], [39.9864, -0.0513, 8911360], [39.4699, -0.3763, 40884320]],\n",
       "                {\n",
       "  &quot;minOpacity&quot;: 0.5,\n",
       "  &quot;maxZoom&quot;: 18,\n",
       "  &quot;radius&quot;: 20,\n",
       "  &quot;blur&quot;: 15,\n",
       "  &quot;gradient&quot;: {\n",
       "  0.2: &quot;blue&quot;,\n",
       "  0.5: &quot;green&quot;,\n",
       "  0.8: &quot;yellow&quot;,\n",
       "  1: &quot;red&quot;,\n",
       "},\n",
       "}\n",
       "            );\n",
       "        \n",
       "    \n",
       "            heat_map_f364faa3a35c376cfb276044cc6d8a60.addTo(map_3a996685c6daef2fb99e15c69fc68f98);\n",
       "        \n",
       "&lt;/script&gt;\n",
       "&lt;/html&gt;\" style=\"position:absolute;width:100%;height:100%;left:0;top:0;border:none !important;\" allowfullscreen webkitallowfullscreen mozallowfullscreen></iframe></div></div>"
      ],
      "text/plain": [
       "<folium.folium.Map at 0x1e9132c5250>"
      ]
     },
     "execution_count": 49,
     "metadata": {},
     "output_type": "execute_result"
    }
   ],
   "source": [
    "import folium\n",
    "from folium.plugins import HeatMap\n",
    "\n",
    "# Crear mapa centrado en la Comunidad Valenciana\n",
    "mapa = folium.Map(location=[39.4699, -0.3763], zoom_start=8, tiles=\"CartoDB positron\")\n",
    "\n",
    "# Coordenadas de provincias\n",
    "coordenadas_provincias = {\n",
    "    \"Alicante\": [38.3452, -0.4810],\n",
    "    \"Castellón\": [39.9864, -0.0513],\n",
    "    \"Valencia\": [39.4699, -0.3763]\n",
    "}\n",
    "\n",
    "\n",
    "# Obtener datos en formato adecuado\n",
    "datos_calor = []\n",
    "for _, fila in votos_provincia_año.iterrows():\n",
    "    provincia = fila[\"PROVINCIA\"]\n",
    "    año = fila[\"Año\"]\n",
    "    votos = fila[\"VOTANTES\"]\n",
    "    coordenadas = coordenadas_provincias.get(provincia, None)\n",
    "    \n",
    "    if coordenadas:\n",
    "        datos_calor.append([coordenadas[0], coordenadas[1], votos])\n",
    "\n",
    "# Agregar la capa de calor al mapa\n",
    "HeatMap(data=datos_calor, radius=20, gradient={0.2: \"blue\", 0.5: \"green\", 0.8: \"yellow\", 1: \"red\"}).add_to(mapa)\n",
    "\n",
    "# Mostrar el mapa\n",
    "mapa"
   ]
  },
  {
   "cell_type": "markdown",
   "id": "e8fce88a",
   "metadata": {},
   "source": [
    "Mediante este mapa de calor, podemos apreciar que el número de votantes es mayor en el área metropolitana de la Comunidad Valenciana, lo cual es un fenomeno que se da debido a la importancia de la ciudad de Valencia en el contexto de la elección."
   ]
  },
  {
   "cell_type": "code",
   "execution_count": 52,
   "id": "68ef8066",
   "metadata": {},
   "outputs": [
    {
     "ename": "KeyError",
     "evalue": "'Comarca'",
     "output_type": "error",
     "traceback": [
      "\u001b[1;31m---------------------------------------------------------------------------\u001b[0m",
      "\u001b[1;31mKeyError\u001b[0m                                  Traceback (most recent call last)",
      "Cell \u001b[1;32mIn[52], line 8\u001b[0m\n\u001b[0;32m      5\u001b[0m mapa \u001b[38;5;241m=\u001b[39m folium\u001b[38;5;241m.\u001b[39mMap(location\u001b[38;5;241m=\u001b[39m[\u001b[38;5;241m39.4699\u001b[39m, \u001b[38;5;241m-\u001b[39m\u001b[38;5;241m0.3763\u001b[39m], zoom_start\u001b[38;5;241m=\u001b[39m\u001b[38;5;241m8\u001b[39m, tiles\u001b[38;5;241m=\u001b[39m\u001b[38;5;124m\"\u001b[39m\u001b[38;5;124mCartoDB positron\u001b[39m\u001b[38;5;124m\"\u001b[39m)\n\u001b[0;32m      7\u001b[0m \u001b[38;5;66;03m# Datos de comarcas con votos\u001b[39;00m\n\u001b[1;32m----> 8\u001b[0m comarcas_votos \u001b[38;5;241m=\u001b[39m \u001b[43mdf_final\u001b[49m\u001b[38;5;241;43m.\u001b[39;49m\u001b[43mgroupby\u001b[49m\u001b[43m(\u001b[49m\u001b[43m[\u001b[49m\u001b[38;5;124;43m\"\u001b[39;49m\u001b[38;5;124;43mAño\u001b[39;49m\u001b[38;5;124;43m\"\u001b[39;49m\u001b[43m,\u001b[49m\u001b[43m \u001b[49m\u001b[38;5;124;43m\"\u001b[39;49m\u001b[38;5;124;43mComarca\u001b[39;49m\u001b[38;5;124;43m\"\u001b[39;49m\u001b[43m]\u001b[49m\u001b[43m)\u001b[49m[[\u001b[38;5;124m\"\u001b[39m\u001b[38;5;124mLatitud\u001b[39m\u001b[38;5;124m\"\u001b[39m, \u001b[38;5;124m\"\u001b[39m\u001b[38;5;124mLongitud\u001b[39m\u001b[38;5;124m\"\u001b[39m, \u001b[38;5;124m\"\u001b[39m\u001b[38;5;124mVotos_Totales\u001b[39m\u001b[38;5;124m\"\u001b[39m]]\u001b[38;5;241m.\u001b[39msum()\u001b[38;5;241m.\u001b[39mreset_index()\n",
      "File \u001b[1;32mc:\\Users\\abela\\AppData\\Local\\Programs\\Python\\Python313\\Lib\\site-packages\\pandas\\core\\frame.py:9183\u001b[0m, in \u001b[0;36mDataFrame.groupby\u001b[1;34m(self, by, axis, level, as_index, sort, group_keys, observed, dropna)\u001b[0m\n\u001b[0;32m   9180\u001b[0m \u001b[38;5;28;01mif\u001b[39;00m level \u001b[38;5;129;01mis\u001b[39;00m \u001b[38;5;28;01mNone\u001b[39;00m \u001b[38;5;129;01mand\u001b[39;00m by \u001b[38;5;129;01mis\u001b[39;00m \u001b[38;5;28;01mNone\u001b[39;00m:\n\u001b[0;32m   9181\u001b[0m     \u001b[38;5;28;01mraise\u001b[39;00m \u001b[38;5;167;01mTypeError\u001b[39;00m(\u001b[38;5;124m\"\u001b[39m\u001b[38;5;124mYou have to supply one of \u001b[39m\u001b[38;5;124m'\u001b[39m\u001b[38;5;124mby\u001b[39m\u001b[38;5;124m'\u001b[39m\u001b[38;5;124m and \u001b[39m\u001b[38;5;124m'\u001b[39m\u001b[38;5;124mlevel\u001b[39m\u001b[38;5;124m'\u001b[39m\u001b[38;5;124m\"\u001b[39m)\n\u001b[1;32m-> 9183\u001b[0m \u001b[38;5;28;01mreturn\u001b[39;00m \u001b[43mDataFrameGroupBy\u001b[49m\u001b[43m(\u001b[49m\n\u001b[0;32m   9184\u001b[0m \u001b[43m    \u001b[49m\u001b[43mobj\u001b[49m\u001b[38;5;241;43m=\u001b[39;49m\u001b[38;5;28;43mself\u001b[39;49m\u001b[43m,\u001b[49m\n\u001b[0;32m   9185\u001b[0m \u001b[43m    \u001b[49m\u001b[43mkeys\u001b[49m\u001b[38;5;241;43m=\u001b[39;49m\u001b[43mby\u001b[49m\u001b[43m,\u001b[49m\n\u001b[0;32m   9186\u001b[0m \u001b[43m    \u001b[49m\u001b[43maxis\u001b[49m\u001b[38;5;241;43m=\u001b[39;49m\u001b[43maxis\u001b[49m\u001b[43m,\u001b[49m\n\u001b[0;32m   9187\u001b[0m \u001b[43m    \u001b[49m\u001b[43mlevel\u001b[49m\u001b[38;5;241;43m=\u001b[39;49m\u001b[43mlevel\u001b[49m\u001b[43m,\u001b[49m\n\u001b[0;32m   9188\u001b[0m \u001b[43m    \u001b[49m\u001b[43mas_index\u001b[49m\u001b[38;5;241;43m=\u001b[39;49m\u001b[43mas_index\u001b[49m\u001b[43m,\u001b[49m\n\u001b[0;32m   9189\u001b[0m \u001b[43m    \u001b[49m\u001b[43msort\u001b[49m\u001b[38;5;241;43m=\u001b[39;49m\u001b[43msort\u001b[49m\u001b[43m,\u001b[49m\n\u001b[0;32m   9190\u001b[0m \u001b[43m    \u001b[49m\u001b[43mgroup_keys\u001b[49m\u001b[38;5;241;43m=\u001b[39;49m\u001b[43mgroup_keys\u001b[49m\u001b[43m,\u001b[49m\n\u001b[0;32m   9191\u001b[0m \u001b[43m    \u001b[49m\u001b[43mobserved\u001b[49m\u001b[38;5;241;43m=\u001b[39;49m\u001b[43mobserved\u001b[49m\u001b[43m,\u001b[49m\n\u001b[0;32m   9192\u001b[0m \u001b[43m    \u001b[49m\u001b[43mdropna\u001b[49m\u001b[38;5;241;43m=\u001b[39;49m\u001b[43mdropna\u001b[49m\u001b[43m,\u001b[49m\n\u001b[0;32m   9193\u001b[0m \u001b[43m\u001b[49m\u001b[43m)\u001b[49m\n",
      "File \u001b[1;32mc:\\Users\\abela\\AppData\\Local\\Programs\\Python\\Python313\\Lib\\site-packages\\pandas\\core\\groupby\\groupby.py:1329\u001b[0m, in \u001b[0;36mGroupBy.__init__\u001b[1;34m(self, obj, keys, axis, level, grouper, exclusions, selection, as_index, sort, group_keys, observed, dropna)\u001b[0m\n\u001b[0;32m   1326\u001b[0m \u001b[38;5;28mself\u001b[39m\u001b[38;5;241m.\u001b[39mdropna \u001b[38;5;241m=\u001b[39m dropna\n\u001b[0;32m   1328\u001b[0m \u001b[38;5;28;01mif\u001b[39;00m grouper \u001b[38;5;129;01mis\u001b[39;00m \u001b[38;5;28;01mNone\u001b[39;00m:\n\u001b[1;32m-> 1329\u001b[0m     grouper, exclusions, obj \u001b[38;5;241m=\u001b[39m \u001b[43mget_grouper\u001b[49m\u001b[43m(\u001b[49m\n\u001b[0;32m   1330\u001b[0m \u001b[43m        \u001b[49m\u001b[43mobj\u001b[49m\u001b[43m,\u001b[49m\n\u001b[0;32m   1331\u001b[0m \u001b[43m        \u001b[49m\u001b[43mkeys\u001b[49m\u001b[43m,\u001b[49m\n\u001b[0;32m   1332\u001b[0m \u001b[43m        \u001b[49m\u001b[43maxis\u001b[49m\u001b[38;5;241;43m=\u001b[39;49m\u001b[43maxis\u001b[49m\u001b[43m,\u001b[49m\n\u001b[0;32m   1333\u001b[0m \u001b[43m        \u001b[49m\u001b[43mlevel\u001b[49m\u001b[38;5;241;43m=\u001b[39;49m\u001b[43mlevel\u001b[49m\u001b[43m,\u001b[49m\n\u001b[0;32m   1334\u001b[0m \u001b[43m        \u001b[49m\u001b[43msort\u001b[49m\u001b[38;5;241;43m=\u001b[39;49m\u001b[43msort\u001b[49m\u001b[43m,\u001b[49m\n\u001b[0;32m   1335\u001b[0m \u001b[43m        \u001b[49m\u001b[43mobserved\u001b[49m\u001b[38;5;241;43m=\u001b[39;49m\u001b[38;5;28;43;01mFalse\u001b[39;49;00m\u001b[43m \u001b[49m\u001b[38;5;28;43;01mif\u001b[39;49;00m\u001b[43m \u001b[49m\u001b[43mobserved\u001b[49m\u001b[43m \u001b[49m\u001b[38;5;129;43;01mis\u001b[39;49;00m\u001b[43m \u001b[49m\u001b[43mlib\u001b[49m\u001b[38;5;241;43m.\u001b[39;49m\u001b[43mno_default\u001b[49m\u001b[43m \u001b[49m\u001b[38;5;28;43;01melse\u001b[39;49;00m\u001b[43m \u001b[49m\u001b[43mobserved\u001b[49m\u001b[43m,\u001b[49m\n\u001b[0;32m   1336\u001b[0m \u001b[43m        \u001b[49m\u001b[43mdropna\u001b[49m\u001b[38;5;241;43m=\u001b[39;49m\u001b[38;5;28;43mself\u001b[39;49m\u001b[38;5;241;43m.\u001b[39;49m\u001b[43mdropna\u001b[49m\u001b[43m,\u001b[49m\n\u001b[0;32m   1337\u001b[0m \u001b[43m    \u001b[49m\u001b[43m)\u001b[49m\n\u001b[0;32m   1339\u001b[0m \u001b[38;5;28;01mif\u001b[39;00m observed \u001b[38;5;129;01mis\u001b[39;00m lib\u001b[38;5;241m.\u001b[39mno_default:\n\u001b[0;32m   1340\u001b[0m     \u001b[38;5;28;01mif\u001b[39;00m \u001b[38;5;28many\u001b[39m(ping\u001b[38;5;241m.\u001b[39m_passed_categorical \u001b[38;5;28;01mfor\u001b[39;00m ping \u001b[38;5;129;01min\u001b[39;00m grouper\u001b[38;5;241m.\u001b[39mgroupings):\n",
      "File \u001b[1;32mc:\\Users\\abela\\AppData\\Local\\Programs\\Python\\Python313\\Lib\\site-packages\\pandas\\core\\groupby\\grouper.py:1043\u001b[0m, in \u001b[0;36mget_grouper\u001b[1;34m(obj, key, axis, level, sort, observed, validate, dropna)\u001b[0m\n\u001b[0;32m   1041\u001b[0m         in_axis, level, gpr \u001b[38;5;241m=\u001b[39m \u001b[38;5;28;01mFalse\u001b[39;00m, gpr, \u001b[38;5;28;01mNone\u001b[39;00m\n\u001b[0;32m   1042\u001b[0m     \u001b[38;5;28;01melse\u001b[39;00m:\n\u001b[1;32m-> 1043\u001b[0m         \u001b[38;5;28;01mraise\u001b[39;00m \u001b[38;5;167;01mKeyError\u001b[39;00m(gpr)\n\u001b[0;32m   1044\u001b[0m \u001b[38;5;28;01melif\u001b[39;00m \u001b[38;5;28misinstance\u001b[39m(gpr, Grouper) \u001b[38;5;129;01mand\u001b[39;00m gpr\u001b[38;5;241m.\u001b[39mkey \u001b[38;5;129;01mis\u001b[39;00m \u001b[38;5;129;01mnot\u001b[39;00m \u001b[38;5;28;01mNone\u001b[39;00m:\n\u001b[0;32m   1045\u001b[0m     \u001b[38;5;66;03m# Add key to exclusions\u001b[39;00m\n\u001b[0;32m   1046\u001b[0m     exclusions\u001b[38;5;241m.\u001b[39madd(gpr\u001b[38;5;241m.\u001b[39mkey)\n",
      "\u001b[1;31mKeyError\u001b[0m: 'Comarca'"
     ]
    }
   ],
   "source": [
    "import folium\n",
    "from folium.plugins import HeatMap\n",
    "\n",
    "# Crear mapa centrado en la Comunidad Valenciana\n",
    "mapa = folium.Map(location=[39.4699, -0.3763], zoom_start=8, tiles=\"CartoDB positron\")\n",
    "\n",
    "# Datos de comarcas con votos\n",
    "comarcas_votos = df_final.groupby([\"Año\", \"Comarca\"])[[\"Latitud\", \"Longitud\", \"Votos_Totales\"]].sum().reset_index()\n",
    "\n"
   ]
  },
  {
   "cell_type": "code",
   "execution_count": 51,
   "id": "c8ae1aab",
   "metadata": {},
   "outputs": [
    {
     "ename": "NameError",
     "evalue": "name 'comarcas_votos' is not defined",
     "output_type": "error",
     "traceback": [
      "\u001b[1;31m---------------------------------------------------------------------------\u001b[0m",
      "\u001b[1;31mNameError\u001b[0m                                 Traceback (most recent call last)",
      "Cell \u001b[1;32mIn[51], line 24\u001b[0m\n\u001b[0;32m     21\u001b[0m     \u001b[38;5;28;01mreturn\u001b[39;00m mapa\n\u001b[0;32m     23\u001b[0m \u001b[38;5;66;03m# Visualizar el mapa por defecto con los datos de 2009\u001b[39;00m\n\u001b[1;32m---> 24\u001b[0m mapa_comarcas \u001b[38;5;241m=\u001b[39m \u001b[43mactualizar_mapa_comarcas\u001b[49m\u001b[43m(\u001b[49m\u001b[38;5;241;43m2009\u001b[39;49m\u001b[43m)\u001b[49m\n\u001b[0;32m     26\u001b[0m \u001b[38;5;66;03m# Mostrar el mapa\u001b[39;00m\n\u001b[0;32m     27\u001b[0m mapa_comarcas\n",
      "Cell \u001b[1;32mIn[51], line 6\u001b[0m, in \u001b[0;36mactualizar_mapa_comarcas\u001b[1;34m(año)\u001b[0m\n\u001b[0;32m      3\u001b[0m mapa \u001b[38;5;241m=\u001b[39m folium\u001b[38;5;241m.\u001b[39mMap(location\u001b[38;5;241m=\u001b[39m[\u001b[38;5;241m39.4699\u001b[39m, \u001b[38;5;241m-\u001b[39m\u001b[38;5;241m0.3763\u001b[39m], zoom_start\u001b[38;5;241m=\u001b[39m\u001b[38;5;241m8\u001b[39m, tiles\u001b[38;5;241m=\u001b[39m\u001b[38;5;124m\"\u001b[39m\u001b[38;5;124mCartoDB positron\u001b[39m\u001b[38;5;124m\"\u001b[39m)\n\u001b[0;32m      5\u001b[0m datos_calor \u001b[38;5;241m=\u001b[39m []\n\u001b[1;32m----> 6\u001b[0m \u001b[38;5;28;01mfor\u001b[39;00m _, fila \u001b[38;5;129;01min\u001b[39;00m \u001b[43mcomarcas_votos\u001b[49m[comarcas_votos[\u001b[38;5;124m\"\u001b[39m\u001b[38;5;124mAño\u001b[39m\u001b[38;5;124m\"\u001b[39m] \u001b[38;5;241m==\u001b[39m año]\u001b[38;5;241m.\u001b[39miterrows():\n\u001b[0;32m      7\u001b[0m     comarca \u001b[38;5;241m=\u001b[39m fila[\u001b[38;5;124m\"\u001b[39m\u001b[38;5;124mComarca\u001b[39m\u001b[38;5;124m\"\u001b[39m]\n\u001b[0;32m      8\u001b[0m     lat, lon, votos \u001b[38;5;241m=\u001b[39m fila[\u001b[38;5;124m\"\u001b[39m\u001b[38;5;124mLatitud\u001b[39m\u001b[38;5;124m\"\u001b[39m], fila[\u001b[38;5;124m\"\u001b[39m\u001b[38;5;124mLongitud\u001b[39m\u001b[38;5;124m\"\u001b[39m], fila[\u001b[38;5;124m\"\u001b[39m\u001b[38;5;124mVotos_Totales\u001b[39m\u001b[38;5;124m\"\u001b[39m]\n",
      "\u001b[1;31mNameError\u001b[0m: name 'comarcas_votos' is not defined"
     ]
    }
   ],
   "source": [
    "# Función para agregar marcadores y mapa de calor por año\n",
    "def actualizar_mapa_comarcas(año):\n",
    "    mapa = folium.Map(location=[39.4699, -0.3763], zoom_start=8, tiles=\"CartoDB positron\")\n",
    "    \n",
    "    datos_calor = []\n",
    "    for _, fila in comarcas_votos[comarcas_votos[\"Año\"] == año].iterrows():\n",
    "        comarca = fila[\"Comarca\"]\n",
    "        lat, lon, votos = fila[\"Latitud\"], fila[\"Longitud\"], fila[\"Votos_Totales\"]\n",
    "        \n",
    "        folium.Marker(\n",
    "            location=[lat, lon],\n",
    "            popup=f\"{comarca} ({año})\\nVotos: {votos}\",\n",
    "            tooltip=comarca\n",
    "        ).add_to(mapa)\n",
    "        \n",
    "        datos_calor.append([lat, lon, votos])\n",
    "\n",
    "    # Agregar capa de calor\n",
    "    HeatMap(data=datos_calor, radius=15, gradient={0.2: \"blue\", 0.5: \"green\", 0.8: \"yellow\", 1: \"red\"}).add_to(mapa)\n",
    "    \n",
    "    return mapa\n",
    "\n",
    "# Visualizar el mapa por defecto con los datos de 2009\n",
    "mapa_comarcas = actualizar_mapa_comarcas(2009)\n",
    "\n",
    "# Mostrar el mapa\n",
    "mapa_comarcas"
   ]
  },
  {
   "cell_type": "code",
   "execution_count": 172,
   "id": "69a2b736",
   "metadata": {},
   "outputs": [
    {
     "data": {
      "text/html": [
       "<div style=\"width:100%;\"><div style=\"position:relative;width:100%;height:0;padding-bottom:60%;\"><span style=\"color:#565656\">Make this Notebook Trusted to load map: File -> Trust Notebook</span><iframe srcdoc=\"&lt;!DOCTYPE html&gt;\n",
       "&lt;html&gt;\n",
       "&lt;head&gt;\n",
       "    \n",
       "    &lt;meta http-equiv=&quot;content-type&quot; content=&quot;text/html; charset=UTF-8&quot; /&gt;\n",
       "    &lt;script src=&quot;https://cdn.jsdelivr.net/npm/leaflet@1.9.3/dist/leaflet.js&quot;&gt;&lt;/script&gt;\n",
       "    &lt;script src=&quot;https://code.jquery.com/jquery-3.7.1.min.js&quot;&gt;&lt;/script&gt;\n",
       "    &lt;script src=&quot;https://cdn.jsdelivr.net/npm/bootstrap@5.2.2/dist/js/bootstrap.bundle.min.js&quot;&gt;&lt;/script&gt;\n",
       "    &lt;script src=&quot;https://cdnjs.cloudflare.com/ajax/libs/Leaflet.awesome-markers/2.0.2/leaflet.awesome-markers.js&quot;&gt;&lt;/script&gt;\n",
       "    &lt;link rel=&quot;stylesheet&quot; href=&quot;https://cdn.jsdelivr.net/npm/leaflet@1.9.3/dist/leaflet.css&quot;/&gt;\n",
       "    &lt;link rel=&quot;stylesheet&quot; href=&quot;https://cdn.jsdelivr.net/npm/bootstrap@5.2.2/dist/css/bootstrap.min.css&quot;/&gt;\n",
       "    &lt;link rel=&quot;stylesheet&quot; href=&quot;https://netdna.bootstrapcdn.com/bootstrap/3.0.0/css/bootstrap-glyphicons.css&quot;/&gt;\n",
       "    &lt;link rel=&quot;stylesheet&quot; href=&quot;https://cdn.jsdelivr.net/npm/@fortawesome/fontawesome-free@6.2.0/css/all.min.css&quot;/&gt;\n",
       "    &lt;link rel=&quot;stylesheet&quot; href=&quot;https://cdnjs.cloudflare.com/ajax/libs/Leaflet.awesome-markers/2.0.2/leaflet.awesome-markers.css&quot;/&gt;\n",
       "    &lt;link rel=&quot;stylesheet&quot; href=&quot;https://cdn.jsdelivr.net/gh/python-visualization/folium/folium/templates/leaflet.awesome.rotate.min.css&quot;/&gt;\n",
       "    \n",
       "            &lt;meta name=&quot;viewport&quot; content=&quot;width=device-width,\n",
       "                initial-scale=1.0, maximum-scale=1.0, user-scalable=no&quot; /&gt;\n",
       "            &lt;style&gt;\n",
       "                #map_e5ac458db14c50248e9b7c00fd0cc0df {\n",
       "                    position: relative;\n",
       "                    width: 100.0%;\n",
       "                    height: 100.0%;\n",
       "                    left: 0.0%;\n",
       "                    top: 0.0%;\n",
       "                }\n",
       "                .leaflet-container { font-size: 1rem; }\n",
       "            &lt;/style&gt;\n",
       "\n",
       "            &lt;style&gt;html, body {\n",
       "                width: 100%;\n",
       "                height: 100%;\n",
       "                margin: 0;\n",
       "                padding: 0;\n",
       "            }\n",
       "            &lt;/style&gt;\n",
       "\n",
       "            &lt;style&gt;#map {\n",
       "                position:absolute;\n",
       "                top:0;\n",
       "                bottom:0;\n",
       "                right:0;\n",
       "                left:0;\n",
       "                }\n",
       "            &lt;/style&gt;\n",
       "\n",
       "            &lt;script&gt;\n",
       "                L_NO_TOUCH = false;\n",
       "                L_DISABLE_3D = false;\n",
       "            &lt;/script&gt;\n",
       "\n",
       "        \n",
       "    &lt;script src=&quot;https://cdn.jsdelivr.net/gh/python-visualization/folium@main/folium/templates/leaflet_heat.min.js&quot;&gt;&lt;/script&gt;\n",
       "&lt;/head&gt;\n",
       "&lt;body&gt;\n",
       "    \n",
       "    \n",
       "            &lt;div class=&quot;folium-map&quot; id=&quot;map_e5ac458db14c50248e9b7c00fd0cc0df&quot; &gt;&lt;/div&gt;\n",
       "        \n",
       "&lt;/body&gt;\n",
       "&lt;script&gt;\n",
       "    \n",
       "    \n",
       "            var map_e5ac458db14c50248e9b7c00fd0cc0df = L.map(\n",
       "                &quot;map_e5ac458db14c50248e9b7c00fd0cc0df&quot;,\n",
       "                {\n",
       "                    center: [39.4699, -0.3763],\n",
       "                    crs: L.CRS.EPSG3857,\n",
       "                    ...{\n",
       "  &quot;zoom&quot;: 8,\n",
       "  &quot;zoomControl&quot;: true,\n",
       "  &quot;preferCanvas&quot;: false,\n",
       "}\n",
       "\n",
       "                }\n",
       "            );\n",
       "\n",
       "            \n",
       "\n",
       "        \n",
       "    \n",
       "            var tile_layer_3d51143d93e5cc895244f27e610dc7d3 = L.tileLayer(\n",
       "                &quot;https://{s}.basemaps.cartocdn.com/light_all/{z}/{x}/{y}{r}.png&quot;,\n",
       "                {\n",
       "  &quot;minZoom&quot;: 0,\n",
       "  &quot;maxZoom&quot;: 20,\n",
       "  &quot;maxNativeZoom&quot;: 20,\n",
       "  &quot;noWrap&quot;: false,\n",
       "  &quot;attribution&quot;: &quot;\\u0026copy; \\u003ca href=\\&quot;https://www.openstreetmap.org/copyright\\&quot;\\u003eOpenStreetMap\\u003c/a\\u003e contributors \\u0026copy; \\u003ca href=\\&quot;https://carto.com/attributions\\&quot;\\u003eCARTO\\u003c/a\\u003e&quot;,\n",
       "  &quot;subdomains&quot;: &quot;abcd&quot;,\n",
       "  &quot;detectRetina&quot;: false,\n",
       "  &quot;tms&quot;: false,\n",
       "  &quot;opacity&quot;: 1,\n",
       "}\n",
       "\n",
       "            );\n",
       "        \n",
       "    \n",
       "            tile_layer_3d51143d93e5cc895244f27e610dc7d3.addTo(map_e5ac458db14c50248e9b7c00fd0cc0df);\n",
       "        \n",
       "    \n",
       "            var marker_b2049876f1fdf9349744e7c2edeef5a9 = L.marker(\n",
       "                [40.0667, -0.2333],\n",
       "                {\n",
       "}\n",
       "            ).addTo(map_e5ac458db14c50248e9b7c00fd0cc0df);\n",
       "        \n",
       "    \n",
       "        var popup_034f20f3e684f773aa4606391a15758c = L.popup({\n",
       "  &quot;maxWidth&quot;: &quot;100%&quot;,\n",
       "});\n",
       "\n",
       "        \n",
       "            \n",
       "                var html_2f5cd90900b19ab68d353348338ae63b = $(`&lt;div id=&quot;html_2f5cd90900b19ab68d353348338ae63b&quot; style=&quot;width: 100.0%; height: 100.0%;&quot;&gt;L&#x27;Alcalatén - 5000 votos&lt;/div&gt;`)[0];\n",
       "                popup_034f20f3e684f773aa4606391a15758c.setContent(html_2f5cd90900b19ab68d353348338ae63b);\n",
       "            \n",
       "        \n",
       "\n",
       "        marker_b2049876f1fdf9349744e7c2edeef5a9.bindPopup(popup_034f20f3e684f773aa4606391a15758c)\n",
       "        ;\n",
       "\n",
       "        \n",
       "    \n",
       "    \n",
       "            marker_b2049876f1fdf9349744e7c2edeef5a9.bindTooltip(\n",
       "                `&lt;div&gt;\n",
       "                     L&#x27;Alcalatén\n",
       "                 &lt;/div&gt;`,\n",
       "                {\n",
       "  &quot;sticky&quot;: true,\n",
       "}\n",
       "            );\n",
       "        \n",
       "    \n",
       "            var marker_30ccecc666275f26ca1f84a443cf80c0 = L.marker(\n",
       "                [40.3833, -0.1333],\n",
       "                {\n",
       "}\n",
       "            ).addTo(map_e5ac458db14c50248e9b7c00fd0cc0df);\n",
       "        \n",
       "    \n",
       "        var popup_f18bb91f0de2e589b5ce65c5b2eed5af = L.popup({\n",
       "  &quot;maxWidth&quot;: &quot;100%&quot;,\n",
       "});\n",
       "\n",
       "        \n",
       "            \n",
       "                var html_deb2dde8064f5df7925ecd5dd3b41445 = $(`&lt;div id=&quot;html_deb2dde8064f5df7925ecd5dd3b41445&quot; style=&quot;width: 100.0%; height: 100.0%;&quot;&gt;Alt Maestrat - 3000 votos&lt;/div&gt;`)[0];\n",
       "                popup_f18bb91f0de2e589b5ce65c5b2eed5af.setContent(html_deb2dde8064f5df7925ecd5dd3b41445);\n",
       "            \n",
       "        \n",
       "\n",
       "        marker_30ccecc666275f26ca1f84a443cf80c0.bindPopup(popup_f18bb91f0de2e589b5ce65c5b2eed5af)\n",
       "        ;\n",
       "\n",
       "        \n",
       "    \n",
       "    \n",
       "            marker_30ccecc666275f26ca1f84a443cf80c0.bindTooltip(\n",
       "                `&lt;div&gt;\n",
       "                     Alt Maestrat\n",
       "                 &lt;/div&gt;`,\n",
       "                {\n",
       "  &quot;sticky&quot;: true,\n",
       "}\n",
       "            );\n",
       "        \n",
       "    \n",
       "            var marker_e1dd3dbb97fe43979ce8685c14bb8f36 = L.marker(\n",
       "                [39.9167, -0.5667],\n",
       "                {\n",
       "}\n",
       "            ).addTo(map_e5ac458db14c50248e9b7c00fd0cc0df);\n",
       "        \n",
       "    \n",
       "        var popup_f876be6b6bf3e186ff849343ab32fb1f = L.popup({\n",
       "  &quot;maxWidth&quot;: &quot;100%&quot;,\n",
       "});\n",
       "\n",
       "        \n",
       "            \n",
       "                var html_226de4ef00b91c9e494d595b6db775f3 = $(`&lt;div id=&quot;html_226de4ef00b91c9e494d595b6db775f3&quot; style=&quot;width: 100.0%; height: 100.0%;&quot;&gt;Alt Millars - 7000 votos&lt;/div&gt;`)[0];\n",
       "                popup_f876be6b6bf3e186ff849343ab32fb1f.setContent(html_226de4ef00b91c9e494d595b6db775f3);\n",
       "            \n",
       "        \n",
       "\n",
       "        marker_e1dd3dbb97fe43979ce8685c14bb8f36.bindPopup(popup_f876be6b6bf3e186ff849343ab32fb1f)\n",
       "        ;\n",
       "\n",
       "        \n",
       "    \n",
       "    \n",
       "            marker_e1dd3dbb97fe43979ce8685c14bb8f36.bindTooltip(\n",
       "                `&lt;div&gt;\n",
       "                     Alt Millars\n",
       "                 &lt;/div&gt;`,\n",
       "                {\n",
       "  &quot;sticky&quot;: true,\n",
       "}\n",
       "            );\n",
       "        \n",
       "    \n",
       "            var marker_234f9635dfb9bf62a751b0f27fd6a2d6 = L.marker(\n",
       "                [39.85, -0.55],\n",
       "                {\n",
       "}\n",
       "            ).addTo(map_e5ac458db14c50248e9b7c00fd0cc0df);\n",
       "        \n",
       "    \n",
       "        var popup_5cafdeef58dd211e2d5f3ff3db469fec = L.popup({\n",
       "  &quot;maxWidth&quot;: &quot;100%&quot;,\n",
       "});\n",
       "\n",
       "        \n",
       "            \n",
       "                var html_e97034b506e9b027e4fba3e0d78dd82f = $(`&lt;div id=&quot;html_e97034b506e9b027e4fba3e0d78dd82f&quot; style=&quot;width: 100.0%; height: 100.0%;&quot;&gt;Alt Palància - 4500 votos&lt;/div&gt;`)[0];\n",
       "                popup_5cafdeef58dd211e2d5f3ff3db469fec.setContent(html_e97034b506e9b027e4fba3e0d78dd82f);\n",
       "            \n",
       "        \n",
       "\n",
       "        marker_234f9635dfb9bf62a751b0f27fd6a2d6.bindPopup(popup_5cafdeef58dd211e2d5f3ff3db469fec)\n",
       "        ;\n",
       "\n",
       "        \n",
       "    \n",
       "    \n",
       "            marker_234f9635dfb9bf62a751b0f27fd6a2d6.bindTooltip(\n",
       "                `&lt;div&gt;\n",
       "                     Alt Palància\n",
       "                 &lt;/div&gt;`,\n",
       "                {\n",
       "  &quot;sticky&quot;: true,\n",
       "}\n",
       "            );\n",
       "        \n",
       "    \n",
       "            var marker_139c67dbd1e93263c59baa2095cd7ffc = L.marker(\n",
       "                [38.6333, -0.9],\n",
       "                {\n",
       "}\n",
       "            ).addTo(map_e5ac458db14c50248e9b7c00fd0cc0df);\n",
       "        \n",
       "    \n",
       "        var popup_7cc4da462bfbed67ccdd6d77ff0f560e = L.popup({\n",
       "  &quot;maxWidth&quot;: &quot;100%&quot;,\n",
       "});\n",
       "\n",
       "        \n",
       "            \n",
       "                var html_3074a7d99a70417459283a0bb6f52497 = $(`&lt;div id=&quot;html_3074a7d99a70417459283a0bb6f52497&quot; style=&quot;width: 100.0%; height: 100.0%;&quot;&gt;Alt Vinalopó - 6000 votos&lt;/div&gt;`)[0];\n",
       "                popup_7cc4da462bfbed67ccdd6d77ff0f560e.setContent(html_3074a7d99a70417459283a0bb6f52497);\n",
       "            \n",
       "        \n",
       "\n",
       "        marker_139c67dbd1e93263c59baa2095cd7ffc.bindPopup(popup_7cc4da462bfbed67ccdd6d77ff0f560e)\n",
       "        ;\n",
       "\n",
       "        \n",
       "    \n",
       "    \n",
       "            marker_139c67dbd1e93263c59baa2095cd7ffc.bindTooltip(\n",
       "                `&lt;div&gt;\n",
       "                     Alt Vinalopó\n",
       "                 &lt;/div&gt;`,\n",
       "                {\n",
       "  &quot;sticky&quot;: true,\n",
       "}\n",
       "            );\n",
       "        \n",
       "    \n",
       "            var marker_9ae366bd5bb8a9c28a1594af1bea97c4 = L.marker(\n",
       "                [40.5, 0.4167],\n",
       "                {\n",
       "}\n",
       "            ).addTo(map_e5ac458db14c50248e9b7c00fd0cc0df);\n",
       "        \n",
       "    \n",
       "        var popup_b7280f31ee3ecd89051d97f79b99ab65 = L.popup({\n",
       "  &quot;maxWidth&quot;: &quot;100%&quot;,\n",
       "});\n",
       "\n",
       "        \n",
       "            \n",
       "                var html_018fc812470df43702c65d6674627172 = $(`&lt;div id=&quot;html_018fc812470df43702c65d6674627172&quot; style=&quot;width: 100.0%; height: 100.0%;&quot;&gt;Baix Maestrat - 8000 votos&lt;/div&gt;`)[0];\n",
       "                popup_b7280f31ee3ecd89051d97f79b99ab65.setContent(html_018fc812470df43702c65d6674627172);\n",
       "            \n",
       "        \n",
       "\n",
       "        marker_9ae366bd5bb8a9c28a1594af1bea97c4.bindPopup(popup_b7280f31ee3ecd89051d97f79b99ab65)\n",
       "        ;\n",
       "\n",
       "        \n",
       "    \n",
       "    \n",
       "            marker_9ae366bd5bb8a9c28a1594af1bea97c4.bindTooltip(\n",
       "                `&lt;div&gt;\n",
       "                     Baix Maestrat\n",
       "                 &lt;/div&gt;`,\n",
       "                {\n",
       "  &quot;sticky&quot;: true,\n",
       "}\n",
       "            );\n",
       "        \n",
       "    \n",
       "            var marker_6be5260413ff2c425241d15ad2a107ae = L.marker(\n",
       "                [38.2667, -0.7],\n",
       "                {\n",
       "}\n",
       "            ).addTo(map_e5ac458db14c50248e9b7c00fd0cc0df);\n",
       "        \n",
       "    \n",
       "        var popup_249a8406489a47e1e0498b8e07bf1067 = L.popup({\n",
       "  &quot;maxWidth&quot;: &quot;100%&quot;,\n",
       "});\n",
       "\n",
       "        \n",
       "            \n",
       "                var html_b4898f8cd7b3d4eb212c6ed4bf6ee3d9 = $(`&lt;div id=&quot;html_b4898f8cd7b3d4eb212c6ed4bf6ee3d9&quot; style=&quot;width: 100.0%; height: 100.0%;&quot;&gt;Baix Vinalopó - 5500 votos&lt;/div&gt;`)[0];\n",
       "                popup_249a8406489a47e1e0498b8e07bf1067.setContent(html_b4898f8cd7b3d4eb212c6ed4bf6ee3d9);\n",
       "            \n",
       "        \n",
       "\n",
       "        marker_6be5260413ff2c425241d15ad2a107ae.bindPopup(popup_249a8406489a47e1e0498b8e07bf1067)\n",
       "        ;\n",
       "\n",
       "        \n",
       "    \n",
       "    \n",
       "            marker_6be5260413ff2c425241d15ad2a107ae.bindTooltip(\n",
       "                `&lt;div&gt;\n",
       "                     Baix Vinalopó\n",
       "                 &lt;/div&gt;`,\n",
       "                {\n",
       "  &quot;sticky&quot;: true,\n",
       "}\n",
       "            );\n",
       "        \n",
       "    \n",
       "            var marker_f4f44462016b86ce36724d8eed7fc606 = L.marker(\n",
       "                [38.5, -0.4833],\n",
       "                {\n",
       "}\n",
       "            ).addTo(map_e5ac458db14c50248e9b7c00fd0cc0df);\n",
       "        \n",
       "    \n",
       "        var popup_444816b9872b488fb3a34ad28324780f = L.popup({\n",
       "  &quot;maxWidth&quot;: &quot;100%&quot;,\n",
       "});\n",
       "\n",
       "        \n",
       "            \n",
       "                var html_43713bf46f66c5865063ae27dfa7fb90 = $(`&lt;div id=&quot;html_43713bf46f66c5865063ae27dfa7fb90&quot; style=&quot;width: 100.0%; height: 100.0%;&quot;&gt;L&#x27;Alacantí - 9000 votos&lt;/div&gt;`)[0];\n",
       "                popup_444816b9872b488fb3a34ad28324780f.setContent(html_43713bf46f66c5865063ae27dfa7fb90);\n",
       "            \n",
       "        \n",
       "\n",
       "        marker_f4f44462016b86ce36724d8eed7fc606.bindPopup(popup_444816b9872b488fb3a34ad28324780f)\n",
       "        ;\n",
       "\n",
       "        \n",
       "    \n",
       "    \n",
       "            marker_f4f44462016b86ce36724d8eed7fc606.bindTooltip(\n",
       "                `&lt;div&gt;\n",
       "                     L&#x27;Alacantí\n",
       "                 &lt;/div&gt;`,\n",
       "                {\n",
       "  &quot;sticky&quot;: true,\n",
       "}\n",
       "            );\n",
       "        \n",
       "    \n",
       "            var marker_a73a67bf47e73ed23ecb0cde1a3922a7 = L.marker(\n",
       "                [39.6667, -0.2833],\n",
       "                {\n",
       "}\n",
       "            ).addTo(map_e5ac458db14c50248e9b7c00fd0cc0df);\n",
       "        \n",
       "    \n",
       "        var popup_19f4551382546341e5cd197c4c48aebf = L.popup({\n",
       "  &quot;maxWidth&quot;: &quot;100%&quot;,\n",
       "});\n",
       "\n",
       "        \n",
       "            \n",
       "                var html_587cc0bf19ff544a256774925cd8a7c7 = $(`&lt;div id=&quot;html_587cc0bf19ff544a256774925cd8a7c7&quot; style=&quot;width: 100.0%; height: 100.0%;&quot;&gt;Camp de Morvedre - 4000 votos&lt;/div&gt;`)[0];\n",
       "                popup_19f4551382546341e5cd197c4c48aebf.setContent(html_587cc0bf19ff544a256774925cd8a7c7);\n",
       "            \n",
       "        \n",
       "\n",
       "        marker_a73a67bf47e73ed23ecb0cde1a3922a7.bindPopup(popup_19f4551382546341e5cd197c4c48aebf)\n",
       "        ;\n",
       "\n",
       "        \n",
       "    \n",
       "    \n",
       "            marker_a73a67bf47e73ed23ecb0cde1a3922a7.bindTooltip(\n",
       "                `&lt;div&gt;\n",
       "                     Camp de Morvedre\n",
       "                 &lt;/div&gt;`,\n",
       "                {\n",
       "  &quot;sticky&quot;: true,\n",
       "}\n",
       "            );\n",
       "        \n",
       "    \n",
       "            var marker_15f9cf157494b33e28eb0bacb46d1808 = L.marker(\n",
       "                [39.6333, -0.5667],\n",
       "                {\n",
       "}\n",
       "            ).addTo(map_e5ac458db14c50248e9b7c00fd0cc0df);\n",
       "        \n",
       "    \n",
       "        var popup_aee23d6e7cefa7cceecb9abfdd008598 = L.popup({\n",
       "  &quot;maxWidth&quot;: &quot;100%&quot;,\n",
       "});\n",
       "\n",
       "        \n",
       "            \n",
       "                var html_ef8d623a97d6fc4ca4626d6177a80366 = $(`&lt;div id=&quot;html_ef8d623a97d6fc4ca4626d6177a80366&quot; style=&quot;width: 100.0%; height: 100.0%;&quot;&gt;Camp de Túria - 7500 votos&lt;/div&gt;`)[0];\n",
       "                popup_aee23d6e7cefa7cceecb9abfdd008598.setContent(html_ef8d623a97d6fc4ca4626d6177a80366);\n",
       "            \n",
       "        \n",
       "\n",
       "        marker_15f9cf157494b33e28eb0bacb46d1808.bindPopup(popup_aee23d6e7cefa7cceecb9abfdd008598)\n",
       "        ;\n",
       "\n",
       "        \n",
       "    \n",
       "    \n",
       "            marker_15f9cf157494b33e28eb0bacb46d1808.bindTooltip(\n",
       "                `&lt;div&gt;\n",
       "                     Camp de Túria\n",
       "                 &lt;/div&gt;`,\n",
       "                {\n",
       "  &quot;sticky&quot;: true,\n",
       "}\n",
       "            );\n",
       "        \n",
       "    \n",
       "            var marker_f83d3b4aa61bc841b2023a37849e544f = L.marker(\n",
       "                [39.0833, -0.75],\n",
       "                {\n",
       "}\n",
       "            ).addTo(map_e5ac458db14c50248e9b7c00fd0cc0df);\n",
       "        \n",
       "    \n",
       "        var popup_ae5c875c679a5a5c37c93dbb0bc6e649 = L.popup({\n",
       "  &quot;maxWidth&quot;: &quot;100%&quot;,\n",
       "});\n",
       "\n",
       "        \n",
       "            \n",
       "                var html_59fece292cad8034f56fcab61cc5b539 = $(`&lt;div id=&quot;html_59fece292cad8034f56fcab61cc5b539&quot; style=&quot;width: 100.0%; height: 100.0%;&quot;&gt;La Canal de Navarrés - 6200 votos&lt;/div&gt;`)[0];\n",
       "                popup_ae5c875c679a5a5c37c93dbb0bc6e649.setContent(html_59fece292cad8034f56fcab61cc5b539);\n",
       "            \n",
       "        \n",
       "\n",
       "        marker_f83d3b4aa61bc841b2023a37849e544f.bindPopup(popup_ae5c875c679a5a5c37c93dbb0bc6e649)\n",
       "        ;\n",
       "\n",
       "        \n",
       "    \n",
       "    \n",
       "            marker_f83d3b4aa61bc841b2023a37849e544f.bindTooltip(\n",
       "                `&lt;div&gt;\n",
       "                     La Canal de Navarrés\n",
       "                 &lt;/div&gt;`,\n",
       "                {\n",
       "  &quot;sticky&quot;: true,\n",
       "}\n",
       "            );\n",
       "        \n",
       "    \n",
       "            var marker_6da79e0c838b92ebcfe885209d800a95 = L.marker(\n",
       "                [38.75, -0.3333],\n",
       "                {\n",
       "}\n",
       "            ).addTo(map_e5ac458db14c50248e9b7c00fd0cc0df);\n",
       "        \n",
       "    \n",
       "        var popup_dedd81f2d18a840b1547e2d4d789be88 = L.popup({\n",
       "  &quot;maxWidth&quot;: &quot;100%&quot;,\n",
       "});\n",
       "\n",
       "        \n",
       "            \n",
       "                var html_2466c5c4fe17a2a6895e4c77f8d2338f = $(`&lt;div id=&quot;html_2466c5c4fe17a2a6895e4c77f8d2338f&quot; style=&quot;width: 100.0%; height: 100.0%;&quot;&gt;El Comtat - 4800 votos&lt;/div&gt;`)[0];\n",
       "                popup_dedd81f2d18a840b1547e2d4d789be88.setContent(html_2466c5c4fe17a2a6895e4c77f8d2338f);\n",
       "            \n",
       "        \n",
       "\n",
       "        marker_6da79e0c838b92ebcfe885209d800a95.bindPopup(popup_dedd81f2d18a840b1547e2d4d789be88)\n",
       "        ;\n",
       "\n",
       "        \n",
       "    \n",
       "    \n",
       "            marker_6da79e0c838b92ebcfe885209d800a95.bindTooltip(\n",
       "                `&lt;div&gt;\n",
       "                     El Comtat\n",
       "                 &lt;/div&gt;`,\n",
       "                {\n",
       "  &quot;sticky&quot;: true,\n",
       "}\n",
       "            );\n",
       "        \n",
       "    \n",
       "            var marker_d2c57aa025f61c438907ed912b0b9058 = L.marker(\n",
       "                [39.0167, -0.5167],\n",
       "                {\n",
       "}\n",
       "            ).addTo(map_e5ac458db14c50248e9b7c00fd0cc0df);\n",
       "        \n",
       "    \n",
       "        var popup_b068691cd691a34ae4ccae7468d2c2b1 = L.popup({\n",
       "  &quot;maxWidth&quot;: &quot;100%&quot;,\n",
       "});\n",
       "\n",
       "        \n",
       "            \n",
       "                var html_a504b51e127ac915c41124e344fe6a38 = $(`&lt;div id=&quot;html_a504b51e127ac915c41124e344fe6a38&quot; style=&quot;width: 100.0%; height: 100.0%;&quot;&gt;La Costera - 5300 votos&lt;/div&gt;`)[0];\n",
       "                popup_b068691cd691a34ae4ccae7468d2c2b1.setContent(html_a504b51e127ac915c41124e344fe6a38);\n",
       "            \n",
       "        \n",
       "\n",
       "        marker_d2c57aa025f61c438907ed912b0b9058.bindPopup(popup_b068691cd691a34ae4ccae7468d2c2b1)\n",
       "        ;\n",
       "\n",
       "        \n",
       "    \n",
       "    \n",
       "            marker_d2c57aa025f61c438907ed912b0b9058.bindTooltip(\n",
       "                `&lt;div&gt;\n",
       "                     La Costera\n",
       "                 &lt;/div&gt;`,\n",
       "                {\n",
       "  &quot;sticky&quot;: true,\n",
       "}\n",
       "            );\n",
       "        \n",
       "    \n",
       "            var marker_ac14808389141bf7b724f754d32018c1 = L.marker(\n",
       "                [39.5333, -0.3667],\n",
       "                {\n",
       "}\n",
       "            ).addTo(map_e5ac458db14c50248e9b7c00fd0cc0df);\n",
       "        \n",
       "    \n",
       "        var popup_f57edb3358cbdf3c1f0081071974520b = L.popup({\n",
       "  &quot;maxWidth&quot;: &quot;100%&quot;,\n",
       "});\n",
       "\n",
       "        \n",
       "            \n",
       "                var html_65a19a0ff989687e2614070a0c31e8b6 = $(`&lt;div id=&quot;html_65a19a0ff989687e2614070a0c31e8b6&quot; style=&quot;width: 100.0%; height: 100.0%;&quot;&gt;Horta Nord - 8900 votos&lt;/div&gt;`)[0];\n",
       "                popup_f57edb3358cbdf3c1f0081071974520b.setContent(html_65a19a0ff989687e2614070a0c31e8b6);\n",
       "            \n",
       "        \n",
       "\n",
       "        marker_ac14808389141bf7b724f754d32018c1.bindPopup(popup_f57edb3358cbdf3c1f0081071974520b)\n",
       "        ;\n",
       "\n",
       "        \n",
       "    \n",
       "    \n",
       "            marker_ac14808389141bf7b724f754d32018c1.bindTooltip(\n",
       "                `&lt;div&gt;\n",
       "                     Horta Nord\n",
       "                 &lt;/div&gt;`,\n",
       "                {\n",
       "  &quot;sticky&quot;: true,\n",
       "}\n",
       "            );\n",
       "        \n",
       "    \n",
       "            var marker_3d48450b69c9615e855273aba7b25aac = L.marker(\n",
       "                [39.4167, -0.45],\n",
       "                {\n",
       "}\n",
       "            ).addTo(map_e5ac458db14c50248e9b7c00fd0cc0df);\n",
       "        \n",
       "    \n",
       "        var popup_3d2aef194a52be15a3bac7f0abbb5b9b = L.popup({\n",
       "  &quot;maxWidth&quot;: &quot;100%&quot;,\n",
       "});\n",
       "\n",
       "        \n",
       "            \n",
       "                var html_3d2d8291845be677e976fc6b3cdaf1d6 = $(`&lt;div id=&quot;html_3d2d8291845be677e976fc6b3cdaf1d6&quot; style=&quot;width: 100.0%; height: 100.0%;&quot;&gt;Horta Sud - 9200 votos&lt;/div&gt;`)[0];\n",
       "                popup_3d2aef194a52be15a3bac7f0abbb5b9b.setContent(html_3d2d8291845be677e976fc6b3cdaf1d6);\n",
       "            \n",
       "        \n",
       "\n",
       "        marker_3d48450b69c9615e855273aba7b25aac.bindPopup(popup_3d2aef194a52be15a3bac7f0abbb5b9b)\n",
       "        ;\n",
       "\n",
       "        \n",
       "    \n",
       "    \n",
       "            marker_3d48450b69c9615e855273aba7b25aac.bindTooltip(\n",
       "                `&lt;div&gt;\n",
       "                     Horta Sud\n",
       "                 &lt;/div&gt;`,\n",
       "                {\n",
       "  &quot;sticky&quot;: true,\n",
       "}\n",
       "            );\n",
       "        \n",
       "    \n",
       "            var marker_ad11c5fc20c69ed138204162a28b5fd9 = L.marker(\n",
       "                [38.6667, -0.5],\n",
       "                {\n",
       "}\n",
       "            ).addTo(map_e5ac458db14c50248e9b7c00fd0cc0df);\n",
       "        \n",
       "    \n",
       "        var popup_334858b40d370a55cd5d0691eda3b6ea = L.popup({\n",
       "  &quot;maxWidth&quot;: &quot;100%&quot;,\n",
       "});\n",
       "\n",
       "        \n",
       "            \n",
       "                var html_7741cf17a3cc1d43e9de692ad7e1e665 = $(`&lt;div id=&quot;html_7741cf17a3cc1d43e9de692ad7e1e665&quot; style=&quot;width: 100.0%; height: 100.0%;&quot;&gt;L&#x27;Alcoià - 6700 votos&lt;/div&gt;`)[0];\n",
       "                popup_334858b40d370a55cd5d0691eda3b6ea.setContent(html_7741cf17a3cc1d43e9de692ad7e1e665);\n",
       "            \n",
       "        \n",
       "\n",
       "        marker_ad11c5fc20c69ed138204162a28b5fd9.bindPopup(popup_334858b40d370a55cd5d0691eda3b6ea)\n",
       "        ;\n",
       "\n",
       "        \n",
       "    \n",
       "    \n",
       "            marker_ad11c5fc20c69ed138204162a28b5fd9.bindTooltip(\n",
       "                `&lt;div&gt;\n",
       "                     L&#x27;Alcoià\n",
       "                 &lt;/div&gt;`,\n",
       "                {\n",
       "  &quot;sticky&quot;: true,\n",
       "}\n",
       "            );\n",
       "        \n",
       "    \n",
       "            var marker_faff7e1ceb40f8e5d2a75570f7c90eca = L.marker(\n",
       "                [39.4167, -0.75],\n",
       "                {\n",
       "}\n",
       "            ).addTo(map_e5ac458db14c50248e9b7c00fd0cc0df);\n",
       "        \n",
       "    \n",
       "        var popup_df1b1b5939971560802ae6f1ffc3fdd2 = L.popup({\n",
       "  &quot;maxWidth&quot;: &quot;100%&quot;,\n",
       "});\n",
       "\n",
       "        \n",
       "            \n",
       "                var html_bc29853e5dd36e88a12922e1342459d9 = $(`&lt;div id=&quot;html_bc29853e5dd36e88a12922e1342459d9&quot; style=&quot;width: 100.0%; height: 100.0%;&quot;&gt;La Foia de Bunyol - Xiva - 7100 votos&lt;/div&gt;`)[0];\n",
       "                popup_df1b1b5939971560802ae6f1ffc3fdd2.setContent(html_bc29853e5dd36e88a12922e1342459d9);\n",
       "            \n",
       "        \n",
       "\n",
       "        marker_faff7e1ceb40f8e5d2a75570f7c90eca.bindPopup(popup_df1b1b5939971560802ae6f1ffc3fdd2)\n",
       "        ;\n",
       "\n",
       "        \n",
       "    \n",
       "    \n",
       "            marker_faff7e1ceb40f8e5d2a75570f7c90eca.bindTooltip(\n",
       "                `&lt;div&gt;\n",
       "                     La Foia de Bunyol - Xiva\n",
       "                 &lt;/div&gt;`,\n",
       "                {\n",
       "  &quot;sticky&quot;: true,\n",
       "}\n",
       "            );\n",
       "        \n",
       "    \n",
       "            var marker_bca3eb4b89c4cd5f157979cbc5c97e99 = L.marker(\n",
       "                [38.8333, 0.0667],\n",
       "                {\n",
       "}\n",
       "            ).addTo(map_e5ac458db14c50248e9b7c00fd0cc0df);\n",
       "        \n",
       "    \n",
       "        var popup_87d5c52838ab9435f2c0dc658a3653d3 = L.popup({\n",
       "  &quot;maxWidth&quot;: &quot;100%&quot;,\n",
       "});\n",
       "\n",
       "        \n",
       "            \n",
       "                var html_7f212113c5b0cfc6fbe7abf48634f559 = $(`&lt;div id=&quot;html_7f212113c5b0cfc6fbe7abf48634f559&quot; style=&quot;width: 100.0%; height: 100.0%;&quot;&gt;Marina Alta - 5800 votos&lt;/div&gt;`)[0];\n",
       "                popup_87d5c52838ab9435f2c0dc658a3653d3.setContent(html_7f212113c5b0cfc6fbe7abf48634f559);\n",
       "            \n",
       "        \n",
       "\n",
       "        marker_bca3eb4b89c4cd5f157979cbc5c97e99.bindPopup(popup_87d5c52838ab9435f2c0dc658a3653d3)\n",
       "        ;\n",
       "\n",
       "        \n",
       "    \n",
       "    \n",
       "            marker_bca3eb4b89c4cd5f157979cbc5c97e99.bindTooltip(\n",
       "                `&lt;div&gt;\n",
       "                     Marina Alta\n",
       "                 &lt;/div&gt;`,\n",
       "                {\n",
       "  &quot;sticky&quot;: true,\n",
       "}\n",
       "            );\n",
       "        \n",
       "    \n",
       "            var marker_d78a41c0633e966ad7c8e3d6b14765d8 = L.marker(\n",
       "                [38.5667, -0.1167],\n",
       "                {\n",
       "}\n",
       "            ).addTo(map_e5ac458db14c50248e9b7c00fd0cc0df);\n",
       "        \n",
       "    \n",
       "        var popup_e0aca78ae033cf36bd36a980778027b9 = L.popup({\n",
       "  &quot;maxWidth&quot;: &quot;100%&quot;,\n",
       "});\n",
       "\n",
       "        \n",
       "            \n",
       "                var html_7df2d58ac4bc7905cc195f5866c55583 = $(`&lt;div id=&quot;html_7df2d58ac4bc7905cc195f5866c55583&quot; style=&quot;width: 100.0%; height: 100.0%;&quot;&gt;Marina Baixa - 7600 votos&lt;/div&gt;`)[0];\n",
       "                popup_e0aca78ae033cf36bd36a980778027b9.setContent(html_7df2d58ac4bc7905cc195f5866c55583);\n",
       "            \n",
       "        \n",
       "\n",
       "        marker_d78a41c0633e966ad7c8e3d6b14765d8.bindPopup(popup_e0aca78ae033cf36bd36a980778027b9)\n",
       "        ;\n",
       "\n",
       "        \n",
       "    \n",
       "    \n",
       "            marker_d78a41c0633e966ad7c8e3d6b14765d8.bindTooltip(\n",
       "                `&lt;div&gt;\n",
       "                     Marina Baixa\n",
       "                 &lt;/div&gt;`,\n",
       "                {\n",
       "  &quot;sticky&quot;: true,\n",
       "}\n",
       "            );\n",
       "        \n",
       "    \n",
       "            var marker_047b07f1130f84771cc80094138f0234 = L.marker(\n",
       "                [40.0667, -0.05],\n",
       "                {\n",
       "}\n",
       "            ).addTo(map_e5ac458db14c50248e9b7c00fd0cc0df);\n",
       "        \n",
       "    \n",
       "        var popup_b0a8d47ea1816135a532e39843c87db7 = L.popup({\n",
       "  &quot;maxWidth&quot;: &quot;100%&quot;,\n",
       "});\n",
       "\n",
       "        \n",
       "            \n",
       "                var html_7b6189f332cfc3c9edf7a5ca20ce4adc = $(`&lt;div id=&quot;html_7b6189f332cfc3c9edf7a5ca20ce4adc&quot; style=&quot;width: 100.0%; height: 100.0%;&quot;&gt;Plana Alta - 8300 votos&lt;/div&gt;`)[0];\n",
       "                popup_b0a8d47ea1816135a532e39843c87db7.setContent(html_7b6189f332cfc3c9edf7a5ca20ce4adc);\n",
       "            \n",
       "        \n",
       "\n",
       "        marker_047b07f1130f84771cc80094138f0234.bindPopup(popup_b0a8d47ea1816135a532e39843c87db7)\n",
       "        ;\n",
       "\n",
       "        \n",
       "    \n",
       "    \n",
       "            marker_047b07f1130f84771cc80094138f0234.bindTooltip(\n",
       "                `&lt;div&gt;\n",
       "                     Plana Alta\n",
       "                 &lt;/div&gt;`,\n",
       "                {\n",
       "  &quot;sticky&quot;: true,\n",
       "}\n",
       "            );\n",
       "        \n",
       "    \n",
       "            var marker_b14e4cb862ed3eaa6c48e3565c10ba3d = L.marker(\n",
       "                [39.85, -0.0833],\n",
       "                {\n",
       "}\n",
       "            ).addTo(map_e5ac458db14c50248e9b7c00fd0cc0df);\n",
       "        \n",
       "    \n",
       "        var popup_f3a28d3bfe4e91dd55e4c362fb324c72 = L.popup({\n",
       "  &quot;maxWidth&quot;: &quot;100%&quot;,\n",
       "});\n",
       "\n",
       "        \n",
       "            \n",
       "                var html_78f52975ca3b1a6eaed7e31dcc451b98 = $(`&lt;div id=&quot;html_78f52975ca3b1a6eaed7e31dcc451b98&quot; style=&quot;width: 100.0%; height: 100.0%;&quot;&gt;Plana Baixa - 4900 votos&lt;/div&gt;`)[0];\n",
       "                popup_f3a28d3bfe4e91dd55e4c362fb324c72.setContent(html_78f52975ca3b1a6eaed7e31dcc451b98);\n",
       "            \n",
       "        \n",
       "\n",
       "        marker_b14e4cb862ed3eaa6c48e3565c10ba3d.bindPopup(popup_f3a28d3bfe4e91dd55e4c362fb324c72)\n",
       "        ;\n",
       "\n",
       "        \n",
       "    \n",
       "    \n",
       "            marker_b14e4cb862ed3eaa6c48e3565c10ba3d.bindTooltip(\n",
       "                `&lt;div&gt;\n",
       "                     Plana Baixa\n",
       "                 &lt;/div&gt;`,\n",
       "                {\n",
       "  &quot;sticky&quot;: true,\n",
       "}\n",
       "            );\n",
       "        \n",
       "    \n",
       "            var marker_67cc58a7dddd9e67b84fc2729b0c4e29 = L.marker(\n",
       "                [39.5667, -1.2],\n",
       "                {\n",
       "}\n",
       "            ).addTo(map_e5ac458db14c50248e9b7c00fd0cc0df);\n",
       "        \n",
       "    \n",
       "        var popup_114cc2a4576619bbd7688477b562d864 = L.popup({\n",
       "  &quot;maxWidth&quot;: &quot;100%&quot;,\n",
       "});\n",
       "\n",
       "        \n",
       "            \n",
       "                var html_866d8abd3d350fca706d1ef0df7e8905 = $(`&lt;div id=&quot;html_866d8abd3d350fca706d1ef0df7e8905&quot; style=&quot;width: 100.0%; height: 100.0%;&quot;&gt;Plana de Utiel-Requena - 6200 votos&lt;/div&gt;`)[0];\n",
       "                popup_114cc2a4576619bbd7688477b562d864.setContent(html_866d8abd3d350fca706d1ef0df7e8905);\n",
       "            \n",
       "        \n",
       "\n",
       "        marker_67cc58a7dddd9e67b84fc2729b0c4e29.bindPopup(popup_114cc2a4576619bbd7688477b562d864)\n",
       "        ;\n",
       "\n",
       "        \n",
       "    \n",
       "    \n",
       "            marker_67cc58a7dddd9e67b84fc2729b0c4e29.bindTooltip(\n",
       "                `&lt;div&gt;\n",
       "                     Plana de Utiel-Requena\n",
       "                 &lt;/div&gt;`,\n",
       "                {\n",
       "  &quot;sticky&quot;: true,\n",
       "}\n",
       "            );\n",
       "        \n",
       "    \n",
       "            var marker_02201b9be4c3701e2ae2618a625176f3 = L.marker(\n",
       "                [40.0833, -1.3],\n",
       "                {\n",
       "}\n",
       "            ).addTo(map_e5ac458db14c50248e9b7c00fd0cc0df);\n",
       "        \n",
       "    \n",
       "        var popup_e2bdcc56321c472de7af5c02db8c732e = L.popup({\n",
       "  &quot;maxWidth&quot;: &quot;100%&quot;,\n",
       "});\n",
       "\n",
       "        \n",
       "            \n",
       "                var html_4a805cdf53cb0ca0c4b5c7c0186731b1 = $(`&lt;div id=&quot;html_4a805cdf53cb0ca0c4b5c7c0186731b1&quot; style=&quot;width: 100.0%; height: 100.0%;&quot;&gt;Rincón de Ademuz - 3500 votos&lt;/div&gt;`)[0];\n",
       "                popup_e2bdcc56321c472de7af5c02db8c732e.setContent(html_4a805cdf53cb0ca0c4b5c7c0186731b1);\n",
       "            \n",
       "        \n",
       "\n",
       "        marker_02201b9be4c3701e2ae2618a625176f3.bindPopup(popup_e2bdcc56321c472de7af5c02db8c732e)\n",
       "        ;\n",
       "\n",
       "        \n",
       "    \n",
       "    \n",
       "            marker_02201b9be4c3701e2ae2618a625176f3.bindTooltip(\n",
       "                `&lt;div&gt;\n",
       "                     Rincón de Ademuz\n",
       "                 &lt;/div&gt;`,\n",
       "                {\n",
       "  &quot;sticky&quot;: true,\n",
       "}\n",
       "            );\n",
       "        \n",
       "    \n",
       "            var marker_50ee3122d08f85a1b81bb4417efaf14f = L.marker(\n",
       "                [38.8833, -0.1833],\n",
       "                {\n",
       "}\n",
       "            ).addTo(map_e5ac458db14c50248e9b7c00fd0cc0df);\n",
       "        \n",
       "    \n",
       "        var popup_55c4c37028c0d2c524afe3b312391379 = L.popup({\n",
       "  &quot;maxWidth&quot;: &quot;100%&quot;,\n",
       "});\n",
       "\n",
       "        \n",
       "            \n",
       "                var html_b00c80467f17b128740ac2ae840036f3 = $(`&lt;div id=&quot;html_b00c80467f17b128740ac2ae840036f3&quot; style=&quot;width: 100.0%; height: 100.0%;&quot;&gt;La Safor - 9200 votos&lt;/div&gt;`)[0];\n",
       "                popup_55c4c37028c0d2c524afe3b312391379.setContent(html_b00c80467f17b128740ac2ae840036f3);\n",
       "            \n",
       "        \n",
       "\n",
       "        marker_50ee3122d08f85a1b81bb4417efaf14f.bindPopup(popup_55c4c37028c0d2c524afe3b312391379)\n",
       "        ;\n",
       "\n",
       "        \n",
       "    \n",
       "    \n",
       "            marker_50ee3122d08f85a1b81bb4417efaf14f.bindTooltip(\n",
       "                `&lt;div&gt;\n",
       "                     La Safor\n",
       "                 &lt;/div&gt;`,\n",
       "                {\n",
       "  &quot;sticky&quot;: true,\n",
       "}\n",
       "            );\n",
       "        \n",
       "    \n",
       "            var marker_9ea8e54118540fa3ddc8ad8c7c324f3a = L.marker(\n",
       "                [38.8333, -0.55],\n",
       "                {\n",
       "}\n",
       "            ).addTo(map_e5ac458db14c50248e9b7c00fd0cc0df);\n",
       "        \n",
       "    \n",
       "        var popup_4207a801224dabaa87b0a43c39bbd903 = L.popup({\n",
       "  &quot;maxWidth&quot;: &quot;100%&quot;,\n",
       "});\n",
       "\n",
       "        \n",
       "            \n",
       "                var html_076e988f949ba4c2679b1ea59fc63ee3 = $(`&lt;div id=&quot;html_076e988f949ba4c2679b1ea59fc63ee3&quot; style=&quot;width: 100.0%; height: 100.0%;&quot;&gt;La Vall d&#x27;Albaida - 6800 votos&lt;/div&gt;`)[0];\n",
       "                popup_4207a801224dabaa87b0a43c39bbd903.setContent(html_076e988f949ba4c2679b1ea59fc63ee3);\n",
       "            \n",
       "        \n",
       "\n",
       "        marker_9ea8e54118540fa3ddc8ad8c7c324f3a.bindPopup(popup_4207a801224dabaa87b0a43c39bbd903)\n",
       "        ;\n",
       "\n",
       "        \n",
       "    \n",
       "    \n",
       "            marker_9ea8e54118540fa3ddc8ad8c7c324f3a.bindTooltip(\n",
       "                `&lt;div&gt;\n",
       "                     La Vall d&#x27;Albaida\n",
       "                 &lt;/div&gt;`,\n",
       "                {\n",
       "  &quot;sticky&quot;: true,\n",
       "}\n",
       "            );\n",
       "        \n",
       "    \n",
       "            var heat_map_aa2f0917c829c0f8c9119a58cd389080 = L.heatLayer(\n",
       "                [[40.0667, -0.2333, 5000], [40.3833, -0.1333, 3000], [39.9167, -0.5667, 7000], [39.85, -0.55, 4500], [38.6333, -0.9, 6000], [40.5, 0.4167, 8000], [38.2667, -0.7, 5500], [38.5, -0.4833, 9000], [39.6667, -0.2833, 4000], [39.6333, -0.5667, 7500], [39.0833, -0.75, 6200], [38.75, -0.3333, 4800], [39.0167, -0.5167, 5300], [39.5333, -0.3667, 8900], [39.4167, -0.45, 9200], [38.6667, -0.5, 6700], [39.4167, -0.75, 7100], [38.8333, 0.0667, 5800], [38.5667, -0.1167, 7600], [40.0667, -0.05, 8300], [39.85, -0.0833, 4900], [39.5667, -1.2, 6200], [40.0833, -1.3, 3500], [38.8833, -0.1833, 9200], [38.8333, -0.55, 6800]],\n",
       "                {\n",
       "  &quot;minOpacity&quot;: 0.5,\n",
       "  &quot;maxZoom&quot;: 18,\n",
       "  &quot;radius&quot;: 15,\n",
       "  &quot;blur&quot;: 15,\n",
       "}\n",
       "            );\n",
       "        \n",
       "    \n",
       "            heat_map_aa2f0917c829c0f8c9119a58cd389080.addTo(map_e5ac458db14c50248e9b7c00fd0cc0df);\n",
       "        \n",
       "&lt;/script&gt;\n",
       "&lt;/html&gt;\" style=\"position:absolute;width:100%;height:100%;left:0;top:0;border:none !important;\" allowfullscreen webkitallowfullscreen mozallowfullscreen></iframe></div></div>"
      ],
      "text/plain": [
       "<folium.folium.Map at 0x1f08be47d50>"
      ]
     },
     "execution_count": 172,
     "metadata": {},
     "output_type": "execute_result"
    }
   ],
   "source": [
    "import folium\n",
    "from folium.plugins import HeatMap\n",
    "\n",
    "# Crear mapa centrado en la Comunidad Valenciana\n",
    "mapa = folium.Map(location=[39.4699, -0.3763], zoom_start=8, tiles=\"CartoDB positron\")\n",
    "\n",
    "# Lista de comarcas con coordenadas y votos ficticios\n",
    "comarcas = [\n",
    "    [\"L'Alcalatén\", 40.0667, -0.2333, 5000],\n",
    "    [\"Alt Maestrat\", 40.3833, -0.1333, 3000],\n",
    "    [\"Alt Millars\", 39.9167, -0.5667, 7000],\n",
    "    [\"Alt Palància\", 39.85, -0.55, 4500],\n",
    "    [\"Alt Vinalopó\", 38.6333, -0.9, 6000],\n",
    "    [\"Baix Maestrat\", 40.5, 0.4167, 8000],\n",
    "    [\"Baix Vinalopó\", 38.2667, -0.7, 5500],\n",
    "    [\"L'Alacantí\", 38.5, -0.4833, 9000],\n",
    "    [\"Camp de Morvedre\", 39.6667, -0.2833, 4000],\n",
    "    [\"Camp de Túria\", 39.6333, -0.5667, 7500],\n",
    "    [\"La Canal de Navarrés\", 39.0833, -0.75, 6200],\n",
    "    [\"El Comtat\", 38.75, -0.3333, 4800],\n",
    "    [\"La Costera\", 39.0167, -0.5167, 5300],\n",
    "    [\"Horta Nord\", 39.5333, -0.3667, 8900],\n",
    "    [\"Horta Sud\", 39.4167, -0.45, 9200],\n",
    "    [\"L'Alcoià\", 38.6667, -0.5, 6700],\n",
    "    [\"La Foia de Bunyol - Xiva\", 39.4167, -0.75, 7100],\n",
    "    [\"Marina Alta\", 38.8333, 0.0667, 5800],\n",
    "    [\"Marina Baixa\", 38.5667, -0.1167, 7600],\n",
    "    [\"Plana Alta\", 40.0667, -0.05, 8300],\n",
    "    [\"Plana Baixa\", 39.85, -0.0833, 4900],\n",
    "    [\"Plana de Utiel-Requena\", 39.5667, -1.2, 6200],\n",
    "    [\"Rincón de Ademuz\", 40.0833, -1.3, 3500],\n",
    "    [\"La Safor\", 38.8833, -0.1833, 9200],\n",
    "    [\"La Vall d'Albaida\", 38.8333, -0.55, 6800]\n",
    "]\n",
    "\n",
    "# Agregar marcadores de comarcas\n",
    "for comarca in comarcas:\n",
    "    folium.Marker(\n",
    "        location=[comarca[1], comarca[2]],\n",
    "        popup=f\"{comarca[0]} - {comarca[3]} votos\",\n",
    "        tooltip=comarca[0]\n",
    "    ).add_to(mapa)\n",
    "\n",
    "# Agregar capa de calor\n",
    "HeatMap([[c[1], c[2], c[3]] for c in comarcas], radius=15).add_to(mapa)\n",
    "\n",
    "# Mostrar el mapa\n",
    "mapa\n",
    "\n"
   ]
  },
  {
   "cell_type": "code",
   "execution_count": 156,
   "id": "ac4e83a3",
   "metadata": {},
   "outputs": [
    {
     "data": {
      "text/plain": [
       "'https://gist.githubusercontent.com/josemamira/ba6811e98859fdf6a734f670207ef1cc/raw/59fb33a131151771ddaf9b5913ea6dc1d7109dcc/cv_municipios.geojson'"
      ]
     },
     "execution_count": 156,
     "metadata": {},
     "output_type": "execute_result"
    }
   ],
   "source": [
    "import folium\n",
    "import pandas as pd\n",
    "\n",
    "# Cargar archivo GeoJSON de la Comunidad Valenciana\n",
    "geojson_url = \"https://gist.githubusercontent.com/josemamira/ba6811e98859fdf6a734f670207ef1cc/raw/59fb33a131151771ddaf9b5913ea6dc1d7109dcc/cv_municipios.geojson\"  # Reemplaza con la URL real\n",
    "\n",
    "geojson_url"
   ]
  },
  {
   "cell_type": "code",
   "execution_count": 175,
   "id": "06d79de1",
   "metadata": {},
   "outputs": [
    {
     "name": "stdout",
     "output_type": "stream",
     "text": [
      "         Año  PROVINCIA CANDIDATO_SIGLAS  VOTANTES\n",
      "58135   2009   Alicante              MSR       514\n",
      "112607  2009  Castellón              UNA       668\n",
      "190330  2009   Valencia               RC       783\n",
      "250109  2014   Alicante         P.C.P.E.       534\n",
      "331308  2014  Castellón            I.FEM       781\n",
      "         Año           COMARCA   CANDIDATO_SIGLAS  VOTANTES\n",
      "103740  2009   El Alto Mijares                 IF       320\n",
      "94605   2009  El Alto Palancia           LIBERTAS       641\n",
      "78932   2009  El Alto Vinalopó                UNA       404\n",
      "106715  2009  El Baix Maestrat               BLOC       560\n",
      "45838   2009  El Baix Vinalopó  EXTREMADURA UNIDA       429\n"
     ]
    }
   ],
   "source": [
    "# Obtener el partido más votado en cada provincia por año\n",
    "top_partidos_provincia = df_final.loc[df_final.groupby([\"Año\", \"PROVINCIA\"])[\"VOTANTES\"].idxmax(), [\"Año\", \"PROVINCIA\", \"CANDIDATO_SIGLAS\", \"VOTANTES\"]]\n",
    "\n",
    "# Obtener el partido más votado en cada comarca por año\n",
    "top_partidos_comarca = df_final.loc[df_final.groupby([\"Año\", \"COMARCA\"])[\"VOTANTES\"].idxmax(), [\"Año\", \"COMARCA\", \"CANDIDATO_SIGLAS\", \"VOTANTES\"]]\n",
    "\n",
    "# Verificar los datos\n",
    "print(top_partidos_provincia.head())\n",
    "print(top_partidos_comarca.head())\n"
   ]
  },
  {
   "cell_type": "code",
   "execution_count": 182,
   "id": "6bd72e22",
   "metadata": {},
   "outputs": [],
   "source": [
    "\n",
    "color_partidos = {\n",
    "    \"Partido A\": \"#ff0000\",\n",
    "    \"Partido B\": \"#00ff00\",\n",
    "    \"Partido C\": \"#0000ff\",\n",
    "    \"Partido D\": \"#ffff00\",\n",
    "    \"Partido E\": \"#ff00ff\",\n",
    "    \"Partido F\": \"#00ffff\",\n",
    "    \"Partido G\": \"#800000\",\n",
    "    \"Partido H\": \"#808000\",\n",
    "    \"Partido I\": \"#008080\",\n",
    "    \"Partido J\": \"#800080\"\n",
    "}\n",
    "\n",
    "\n",
    "\n",
    "\n"
   ]
  },
  {
   "cell_type": "code",
   "execution_count": 183,
   "id": "36733347",
   "metadata": {},
   "outputs": [
    {
     "name": "stdout",
     "output_type": "stream",
     "text": [
      "{\n",
      "    \"type\": \"Feature\",\n",
      "    \"properties\": {\n",
      "        \"cpro\": \"46\",\n",
      "        \"name_3\": \"Horta Sud\",\n",
      "        \"provincia\": \"Valencia\",\n",
      "        \"communidad_autonoma\": \"Comunidad Valenciana\",\n",
      "        \"cmun\": \"094\",\n",
      "        \"codigo_postal\": \"46094\",\n",
      "        \"engtype_4\": \"Municipality\",\n",
      "        \"geo_point_2d\": [\n",
      "            39.396417947314305,\n",
      "            -0.394658359703133\n",
      "        ],\n",
      "        \"dc\": \"5\",\n",
      "        \"id_2\": 37,\n",
      "        \"id_3\": 274,\n",
      "        \"id_0\": 215,\n",
      "        \"id_1\": 10,\n",
      "        \"iso\": \"ESP\",\n",
      "        \"id_4\": 6730,\n",
      "        \"type_4\": \"Municipality\",\n",
      "        \"pais\": \"Spain\",\n",
      "        \"ccn_4\": 0,\n",
      "        \"municipio\": \"Catarroja\",\n",
      "        \"codine\": \"46094\",\n",
      "        \"nombre\": \"Catarroja\",\n",
      "        \"pop\": 28120,\n",
      "        \"CodMunicipio\": 46094\n",
      "    },\n",
      "    \"geometry\": {\n",
      "        \"type\": \"Polygon\",\n",
      "        \"coordinates\": [\n",
      "            [\n",
      "                [\n",
      "                    -0.405613005161285,\n",
      "                    39.41287994384771\n",
      "                ],\n",
      "                [\n",
      "                    -0.395680010318699,\n",
      "                    39.40390777587896\n",
      "                ],\n",
      "                [\n",
      "                    -0.378459006547814,\n",
      "                    39.40081787109375\n",
      "                ],\n",
      "                [\n",
      "                    -0.369892001152039,\n",
      "                    39.398284912109375\n",
      "                ],\n",
      "                [\n",
      "                    -0.365447998046818,\n",
      "                    39.39511871337896\n",
      "                ],\n",
      "                [\n",
      "                    -0.357104003429356,\n",
      "                    39.37868881225597\n",
      "                ],\n",
      "                [\n",
      "                    -0.347211986780167,\n",
      "                    39.36985397338873\n",
      "                ],\n",
      "                [\n",
      "                    -0.355677008628788,\n",
      "                    39.364852905273544\n",
      "                ],\n",
      "                [\n",
      "                    -0.372994005679971,\n",
      "                    39.380588531494254\n",
      "                ],\n",
      "                [\n",
      "                    -0.391012996435165,\n",
      "                    39.387668609619254\n",
      "                ],\n",
      "                [\n",
      "                    -0.393867999315262,\n",
      "                    39.39300537109381\n",
      "                ],\n",
      "                [\n",
      "                    -0.403010010719242,\n",
      "                    39.39662551879894\n",
      "                ],\n",
      "                [\n",
      "                    -0.407068997621536,\n",
      "                    39.40180587768549\n",
      "                ],\n",
      "                [\n",
      "                    -0.431428998708725,\n",
      "                    39.401226043701115\n",
      "                ],\n",
      "                [\n",
      "                    -0.4369620084762,\n",
      "                    39.40360260009777\n",
      "                ],\n",
      "                [\n",
      "                    -0.450031012296677,\n",
      "                    39.40090560913085\n",
      "                ],\n",
      "                [\n",
      "                    -0.45071700215334,\n",
      "                    39.40282440185558\n",
      "                ],\n",
      "                [\n",
      "                    -0.438167989253941,\n",
      "                    39.41058349609381\n",
      "                ],\n",
      "                [\n",
      "                    -0.434929013252201,\n",
      "                    39.412651062011776\n",
      "                ],\n",
      "                [\n",
      "                    -0.426322996616364,\n",
      "                    39.418140411377\n",
      "                ],\n",
      "                [\n",
      "                    -0.420953989028874,\n",
      "                    39.41949844360363\n",
      "                ],\n",
      "                [\n",
      "                    -0.416732996702194,\n",
      "                    39.413982391357536\n",
      "                ],\n",
      "                [\n",
      "                    -0.406691014766693,\n",
      "                    39.415752410888665\n",
      "                ],\n",
      "                [\n",
      "                    -0.405613005161285,\n",
      "                    39.41287994384771\n",
      "                ]\n",
      "            ]\n",
      "        ]\n",
      "    }\n",
      "}\n"
     ]
    }
   ],
   "source": [
    "import json\n",
    "\n",
    "# Cargar GeoJSON de Comunidad Valenciana\n",
    "geojson_path = \"cv_municipios.geojson.json\"\n",
    "with open(geojson_path, \"r\", encoding=\"utf-8\") as f:\n",
    "    geojson_data = json.load(f)\n",
    "\n",
    "# Ver estructura del archivo\n",
    "print(json.dumps(geojson_data[\"features\"][0], indent=4))\n"
   ]
  },
  {
   "cell_type": "code",
   "execution_count": 189,
   "id": "4cb8f900",
   "metadata": {},
   "outputs": [
    {
     "ename": "KeyError",
     "evalue": "'NOMBRE'",
     "output_type": "error",
     "traceback": [
      "\u001b[1;31m---------------------------------------------------------------------------\u001b[0m",
      "\u001b[1;31mKeyError\u001b[0m                                  Traceback (most recent call last)",
      "Cell \u001b[1;32mIn[189], line 19\u001b[0m\n\u001b[0;32m     17\u001b[0m \u001b[38;5;66;03m# Agregar provincias coloreadas para cada año\u001b[39;00m\n\u001b[0;32m     18\u001b[0m \u001b[38;5;28;01mfor\u001b[39;00m año \u001b[38;5;129;01min\u001b[39;00m [\u001b[38;5;241m2009\u001b[39m, \u001b[38;5;241m2014\u001b[39m, \u001b[38;5;241m2019\u001b[39m]:\n\u001b[1;32m---> 19\u001b[0m     \u001b[43mfolium\u001b[49m\u001b[38;5;241;43m.\u001b[39;49m\u001b[43mGeoJson\u001b[49m\u001b[43m(\u001b[49m\n\u001b[0;32m     20\u001b[0m \u001b[43m        \u001b[49m\u001b[43mgeojson_data\u001b[49m\u001b[43m,\u001b[49m\n\u001b[0;32m     21\u001b[0m \u001b[43m        \u001b[49m\u001b[43mstyle_function\u001b[49m\u001b[38;5;241;43m=\u001b[39;49m\u001b[38;5;28;43;01mlambda\u001b[39;49;00m\u001b[43m \u001b[49m\u001b[43mfeature\u001b[49m\u001b[43m:\u001b[49m\u001b[43m \u001b[49m\u001b[43m{\u001b[49m\n\u001b[0;32m     22\u001b[0m \u001b[43m            \u001b[49m\u001b[38;5;124;43m\"\u001b[39;49m\u001b[38;5;124;43mfillColor\u001b[39;49m\u001b[38;5;124;43m\"\u001b[39;49m\u001b[43m:\u001b[49m\u001b[43m \u001b[49m\u001b[43mget_fill_color\u001b[49m\u001b[43m(\u001b[49m\u001b[43mfeature\u001b[49m\u001b[43m,\u001b[49m\u001b[43m \u001b[49m\u001b[38;5;124;43m\"\u001b[39;49m\u001b[38;5;124;43mPROVINCIA\u001b[39;49m\u001b[38;5;124;43m\"\u001b[39;49m\u001b[43m,\u001b[49m\u001b[43m \u001b[49m\u001b[43maño\u001b[49m\u001b[43m)\u001b[49m\u001b[43m,\u001b[49m\n\u001b[0;32m     23\u001b[0m \u001b[43m            \u001b[49m\u001b[38;5;124;43m\"\u001b[39;49m\u001b[38;5;124;43mcolor\u001b[39;49m\u001b[38;5;124;43m\"\u001b[39;49m\u001b[43m:\u001b[49m\u001b[43m \u001b[49m\u001b[38;5;124;43m\"\u001b[39;49m\u001b[38;5;124;43mblack\u001b[39;49m\u001b[38;5;124;43m\"\u001b[39;49m\u001b[43m,\u001b[49m\n\u001b[0;32m     24\u001b[0m \u001b[43m            \u001b[49m\u001b[38;5;124;43m\"\u001b[39;49m\u001b[38;5;124;43mweight\u001b[39;49m\u001b[38;5;124;43m\"\u001b[39;49m\u001b[43m:\u001b[49m\u001b[43m \u001b[49m\u001b[38;5;241;43m1\u001b[39;49m\u001b[43m,\u001b[49m\n\u001b[0;32m     25\u001b[0m \u001b[43m            \u001b[49m\u001b[38;5;124;43m\"\u001b[39;49m\u001b[38;5;124;43mfillOpacity\u001b[39;49m\u001b[38;5;124;43m\"\u001b[39;49m\u001b[43m:\u001b[49m\u001b[43m \u001b[49m\u001b[38;5;241;43m0.6\u001b[39;49m\n\u001b[0;32m     26\u001b[0m \u001b[43m        \u001b[49m\u001b[43m}\u001b[49m\u001b[43m,\u001b[49m\n\u001b[0;32m     27\u001b[0m \u001b[43m        \u001b[49m\u001b[43mtooltip\u001b[49m\u001b[38;5;241;43m=\u001b[39;49m\u001b[43mfolium\u001b[49m\u001b[38;5;241;43m.\u001b[39;49m\u001b[43mGeoJsonTooltip\u001b[49m\u001b[43m(\u001b[49m\u001b[43mfields\u001b[49m\u001b[38;5;241;43m=\u001b[39;49m\u001b[43m[\u001b[49m\u001b[38;5;124;43m\"\u001b[39;49m\u001b[38;5;124;43mCANDIDATO_SIGLAS\u001b[39;49m\u001b[38;5;124;43m\"\u001b[39;49m\u001b[43m]\u001b[49m\u001b[43m,\u001b[49m\u001b[43m \u001b[49m\u001b[43mlabels\u001b[49m\u001b[38;5;241;43m=\u001b[39;49m\u001b[38;5;28;43;01mTrue\u001b[39;49;00m\u001b[43m,\u001b[49m\u001b[43m \u001b[49m\u001b[43msticky\u001b[49m\u001b[38;5;241;43m=\u001b[39;49m\u001b[38;5;28;43;01mTrue\u001b[39;49;00m\u001b[43m)\u001b[49m\n\u001b[0;32m     28\u001b[0m \u001b[43m    \u001b[49m\u001b[43m)\u001b[49m\u001b[38;5;241m.\u001b[39madd_to(mapa)\n\u001b[0;32m     30\u001b[0m \u001b[38;5;66;03m# Agregar comarcas coloreadas para cada año\u001b[39;00m\n\u001b[0;32m     31\u001b[0m \u001b[38;5;28;01mfor\u001b[39;00m año \u001b[38;5;129;01min\u001b[39;00m [\u001b[38;5;241m2009\u001b[39m, \u001b[38;5;241m2014\u001b[39m, \u001b[38;5;241m2019\u001b[39m]:\n",
      "File \u001b[1;32mc:\\Users\\abela\\AppData\\Local\\Programs\\Python\\Python313\\Lib\\site-packages\\folium\\features.py:738\u001b[0m, in \u001b[0;36mGeoJson.__init__\u001b[1;34m(self, data, style_function, highlight_function, popup_keep_highlighted, name, overlay, control, show, smooth_factor, tooltip, embed, popup, zoom_on_click, on_each_feature, marker, **kwargs)\u001b[0m\n\u001b[0;32m    736\u001b[0m \u001b[38;5;28mself\u001b[39m\u001b[38;5;241m.\u001b[39mconvert_to_feature_collection()\n\u001b[0;32m    737\u001b[0m \u001b[38;5;28;01mif\u001b[39;00m style_function \u001b[38;5;129;01mis\u001b[39;00m \u001b[38;5;129;01mnot\u001b[39;00m \u001b[38;5;28;01mNone\u001b[39;00m:\n\u001b[1;32m--> 738\u001b[0m     \u001b[38;5;28;43mself\u001b[39;49m\u001b[38;5;241;43m.\u001b[39;49m\u001b[43m_validate_function\u001b[49m\u001b[43m(\u001b[49m\u001b[43mstyle_function\u001b[49m\u001b[43m,\u001b[49m\u001b[43m \u001b[49m\u001b[38;5;124;43m\"\u001b[39;49m\u001b[38;5;124;43mstyle_function\u001b[39;49m\u001b[38;5;124;43m\"\u001b[39;49m\u001b[43m)\u001b[49m\n\u001b[0;32m    739\u001b[0m     \u001b[38;5;28mself\u001b[39m\u001b[38;5;241m.\u001b[39mstyle_function \u001b[38;5;241m=\u001b[39m style_function\n\u001b[0;32m    740\u001b[0m     \u001b[38;5;28mself\u001b[39m\u001b[38;5;241m.\u001b[39mstyle_map: \u001b[38;5;28mdict\u001b[39m \u001b[38;5;241m=\u001b[39m {}\n",
      "File \u001b[1;32mc:\\Users\\abela\\AppData\\Local\\Programs\\Python\\Python313\\Lib\\site-packages\\folium\\features.py:813\u001b[0m, in \u001b[0;36mGeoJson._validate_function\u001b[1;34m(self, func, name)\u001b[0m\n\u001b[0;32m    810\u001b[0m     \u001b[38;5;28;01mreturn\u001b[39;00m\n\u001b[0;32m    812\u001b[0m test_feature \u001b[38;5;241m=\u001b[39m \u001b[38;5;28mself\u001b[39m\u001b[38;5;241m.\u001b[39mdata[\u001b[38;5;124m\"\u001b[39m\u001b[38;5;124mfeatures\u001b[39m\u001b[38;5;124m\"\u001b[39m][\u001b[38;5;241m0\u001b[39m]\n\u001b[1;32m--> 813\u001b[0m \u001b[38;5;28;01mif\u001b[39;00m \u001b[38;5;129;01mnot\u001b[39;00m \u001b[38;5;28mcallable\u001b[39m(func) \u001b[38;5;129;01mor\u001b[39;00m \u001b[38;5;129;01mnot\u001b[39;00m \u001b[38;5;28misinstance\u001b[39m(\u001b[43mfunc\u001b[49m\u001b[43m(\u001b[49m\u001b[43mtest_feature\u001b[49m\u001b[43m)\u001b[49m, \u001b[38;5;28mdict\u001b[39m):\n\u001b[0;32m    814\u001b[0m     \u001b[38;5;28;01mraise\u001b[39;00m \u001b[38;5;167;01mValueError\u001b[39;00m(\n\u001b[0;32m    815\u001b[0m         \u001b[38;5;124mf\u001b[39m\u001b[38;5;124m\"\u001b[39m\u001b[38;5;132;01m{\u001b[39;00mname\u001b[38;5;132;01m}\u001b[39;00m\u001b[38;5;124m should be a function that accepts items from \u001b[39m\u001b[38;5;124m\"\u001b[39m\n\u001b[0;32m    816\u001b[0m         \u001b[38;5;124m\"\u001b[39m\u001b[38;5;124mdata[\u001b[39m\u001b[38;5;124m'\u001b[39m\u001b[38;5;124mfeatures\u001b[39m\u001b[38;5;124m'\u001b[39m\u001b[38;5;124m] and returns a dictionary.\u001b[39m\u001b[38;5;124m\"\u001b[39m\n\u001b[0;32m    817\u001b[0m     )\n",
      "Cell \u001b[1;32mIn[189], line 22\u001b[0m, in \u001b[0;36m<lambda>\u001b[1;34m(feature)\u001b[0m\n\u001b[0;32m     17\u001b[0m \u001b[38;5;66;03m# Agregar provincias coloreadas para cada año\u001b[39;00m\n\u001b[0;32m     18\u001b[0m \u001b[38;5;28;01mfor\u001b[39;00m año \u001b[38;5;129;01min\u001b[39;00m [\u001b[38;5;241m2009\u001b[39m, \u001b[38;5;241m2014\u001b[39m, \u001b[38;5;241m2019\u001b[39m]:\n\u001b[0;32m     19\u001b[0m     folium\u001b[38;5;241m.\u001b[39mGeoJson(\n\u001b[0;32m     20\u001b[0m         geojson_data,\n\u001b[0;32m     21\u001b[0m         style_function\u001b[38;5;241m=\u001b[39m\u001b[38;5;28;01mlambda\u001b[39;00m feature: {\n\u001b[1;32m---> 22\u001b[0m             \u001b[38;5;124m\"\u001b[39m\u001b[38;5;124mfillColor\u001b[39m\u001b[38;5;124m\"\u001b[39m: \u001b[43mget_fill_color\u001b[49m\u001b[43m(\u001b[49m\u001b[43mfeature\u001b[49m\u001b[43m,\u001b[49m\u001b[43m \u001b[49m\u001b[38;5;124;43m\"\u001b[39;49m\u001b[38;5;124;43mPROVINCIA\u001b[39;49m\u001b[38;5;124;43m\"\u001b[39;49m\u001b[43m,\u001b[49m\u001b[43m \u001b[49m\u001b[43maño\u001b[49m\u001b[43m)\u001b[49m,\n\u001b[0;32m     23\u001b[0m             \u001b[38;5;124m\"\u001b[39m\u001b[38;5;124mcolor\u001b[39m\u001b[38;5;124m\"\u001b[39m: \u001b[38;5;124m\"\u001b[39m\u001b[38;5;124mblack\u001b[39m\u001b[38;5;124m\"\u001b[39m,\n\u001b[0;32m     24\u001b[0m             \u001b[38;5;124m\"\u001b[39m\u001b[38;5;124mweight\u001b[39m\u001b[38;5;124m\"\u001b[39m: \u001b[38;5;241m1\u001b[39m,\n\u001b[0;32m     25\u001b[0m             \u001b[38;5;124m\"\u001b[39m\u001b[38;5;124mfillOpacity\u001b[39m\u001b[38;5;124m\"\u001b[39m: \u001b[38;5;241m0.6\u001b[39m\n\u001b[0;32m     26\u001b[0m         },\n\u001b[0;32m     27\u001b[0m         tooltip\u001b[38;5;241m=\u001b[39mfolium\u001b[38;5;241m.\u001b[39mGeoJsonTooltip(fields\u001b[38;5;241m=\u001b[39m[\u001b[38;5;124m\"\u001b[39m\u001b[38;5;124mCANDIDATO_SIGLAS\u001b[39m\u001b[38;5;124m\"\u001b[39m], labels\u001b[38;5;241m=\u001b[39m\u001b[38;5;28;01mTrue\u001b[39;00m, sticky\u001b[38;5;241m=\u001b[39m\u001b[38;5;28;01mTrue\u001b[39;00m)\n\u001b[0;32m     28\u001b[0m     )\u001b[38;5;241m.\u001b[39madd_to(mapa)\n\u001b[0;32m     30\u001b[0m \u001b[38;5;66;03m# Agregar comarcas coloreadas para cada año\u001b[39;00m\n\u001b[0;32m     31\u001b[0m \u001b[38;5;28;01mfor\u001b[39;00m año \u001b[38;5;129;01min\u001b[39;00m [\u001b[38;5;241m2009\u001b[39m, \u001b[38;5;241m2014\u001b[39m, \u001b[38;5;241m2019\u001b[39m]:\n",
      "Cell \u001b[1;32mIn[189], line 8\u001b[0m, in \u001b[0;36mget_fill_color\u001b[1;34m(feature, tipo, año)\u001b[0m\n\u001b[0;32m      7\u001b[0m \u001b[38;5;28;01mdef\u001b[39;00m\u001b[38;5;250m \u001b[39m\u001b[38;5;21mget_fill_color\u001b[39m(feature, tipo, año):\n\u001b[1;32m----> 8\u001b[0m     nombre_zona \u001b[38;5;241m=\u001b[39m \u001b[43mfeature\u001b[49m\u001b[43m[\u001b[49m\u001b[38;5;124;43m\"\u001b[39;49m\u001b[38;5;124;43mproperties\u001b[39;49m\u001b[38;5;124;43m\"\u001b[39;49m\u001b[43m]\u001b[49m\u001b[43m[\u001b[49m\u001b[38;5;124;43m\"\u001b[39;49m\u001b[38;5;124;43mNOMBRE\u001b[39;49m\u001b[38;5;124;43m\"\u001b[39;49m\u001b[43m]\u001b[49m  \u001b[38;5;66;03m# Cambia si el campo tiene otro nombre\u001b[39;00m\n\u001b[0;32m     10\u001b[0m     \u001b[38;5;28;01mif\u001b[39;00m tipo \u001b[38;5;241m==\u001b[39m \u001b[38;5;124m\"\u001b[39m\u001b[38;5;124mPROVINCIA\u001b[39m\u001b[38;5;124m\"\u001b[39m:\n\u001b[0;32m     11\u001b[0m         partido_ganador \u001b[38;5;241m=\u001b[39m top_partidos_provincia[(top_partidos_provincia[\u001b[38;5;124m\"\u001b[39m\u001b[38;5;124mPROVINCIA\u001b[39m\u001b[38;5;124m\"\u001b[39m] \u001b[38;5;241m==\u001b[39m nombre_zona) \u001b[38;5;241m&\u001b[39m (top_partidos_provincia[\u001b[38;5;124m\"\u001b[39m\u001b[38;5;124mAño\u001b[39m\u001b[38;5;124m\"\u001b[39m] \u001b[38;5;241m==\u001b[39m año)][\u001b[38;5;124m\"\u001b[39m\u001b[38;5;124mCANDIDATO_SIGLAS\u001b[39m\u001b[38;5;124m\"\u001b[39m]\u001b[38;5;241m.\u001b[39mvalues[\u001b[38;5;241m0\u001b[39m]\n",
      "\u001b[1;31mKeyError\u001b[0m: 'NOMBRE'"
     ]
    }
   ],
   "source": [
    "import folium\n",
    "\n",
    "# Crear mapa centrado en la Comunidad Valenciana\n",
    "mapa = folium.Map(location=[39.4699, -0.3763], zoom_start=8, tiles=\"CartoDB positron\")\n",
    "\n",
    "# Función para asignar colores según el partido más votado en un año específico\n",
    "def get_fill_color(feature, tipo, año):\n",
    "    nombre_zona = feature[\"properties\"][\"NOMBRE\"]  # Cambia si el campo tiene otro nombre\n",
    "\n",
    "    if tipo == \"PROVINCIA\":\n",
    "        partido_ganador = top_partidos_provincia[(top_partidos_provincia[\"PROVINCIA\"] == nombre_zona) & (top_partidos_provincia[\"Año\"] == año)][\"CANDIDATO_SIGLAS\"].values[0]\n",
    "    else:\n",
    "        partido_ganador = top_partidos_comarca[(top_partidos_comarca[\"COMARCA\"] == nombre_zona) & (top_partidos_comarca[\"Año\"] == año)][\"CANDIDATO_SIGLAS\"].values[0]\n",
    "\n",
    "    return color_partidos.get(partido_ganador, \"#cccccc\")  # Color gris si no hay partido asignado\n",
    "\n",
    "# Agregar provincias coloreadas para cada año\n",
    "for año in [2009, 2014, 2019]:\n",
    "    folium.GeoJson(\n",
    "        geojson_data,\n",
    "        style_function=lambda feature: {\n",
    "            \"fillColor\": get_fill_color(feature, \"PROVINCIA\", año),\n",
    "            \"color\": \"black\",\n",
    "            \"weight\": 1,\n",
    "            \"fillOpacity\": 0.6\n",
    "        },\n",
    "        tooltip=folium.GeoJsonTooltip(fields=[\"CANDIDATO_SIGLAS\"], labels=True, sticky=True)\n",
    "    ).add_to(mapa)\n",
    "\n",
    "# Agregar comarcas coloreadas para cada año\n",
    "for año in [2009, 2014, 2019]:\n",
    "    folium.GeoJson(\n",
    "        geojson_data,\n",
    "        style_function=lambda feature: {\n",
    "            \"fillColor\": get_fill_color(feature, \"COMARCA\", año),\n",
    "            \"color\": \"black\",\n",
    "            \"weight\": 1,\n",
    "            \"fillOpacity\": 0.6\n",
    "        },\n",
    "        tooltip=folium.GeoJsonTooltip(fields=[\"CANDIDATO_SIGLAS\"], labels=True, sticky=True)\n",
    "    ).add_to(mapa)\n",
    "\n",
    "# Mostrar el mapa\n",
    "mapa\n"
   ]
  },
  {
   "cell_type": "code",
   "execution_count": null,
   "id": "cd0997d6",
   "metadata": {},
   "outputs": [
    {
     "name": "stdout",
     "output_type": "stream",
     "text": [
      "Requirement already satisfied: geopandas in c:\\users\\abela\\appdata\\local\\programs\\python\\python313\\lib\\site-packages (1.0.1)\n",
      "Requirement already satisfied: folium in c:\\users\\abela\\appdata\\local\\programs\\python\\python313\\lib\\site-packages (0.19.6)\n",
      "Requirement already satisfied: plotly in c:\\users\\abela\\appdata\\local\\programs\\python\\python313\\lib\\site-packages (6.0.1)\n",
      "Requirement already satisfied: pandas in c:\\users\\abela\\appdata\\local\\programs\\python\\python313\\lib\\site-packages (2.2.3)\n",
      "Requirement already satisfied: numpy>=1.22 in c:\\users\\abela\\appdata\\local\\programs\\python\\python313\\lib\\site-packages (from geopandas) (2.2.2)\n",
      "Requirement already satisfied: pyogrio>=0.7.2 in c:\\users\\abela\\appdata\\local\\programs\\python\\python313\\lib\\site-packages (from geopandas) (0.11.0)\n",
      "Requirement already satisfied: packaging in c:\\users\\abela\\appdata\\local\\programs\\python\\python313\\lib\\site-packages (from geopandas) (24.2)\n",
      "Requirement already satisfied: pyproj>=3.3.0 in c:\\users\\abela\\appdata\\local\\programs\\python\\python313\\lib\\site-packages (from geopandas) (3.7.1)\n",
      "Requirement already satisfied: shapely>=2.0.0 in c:\\users\\abela\\appdata\\local\\programs\\python\\python313\\lib\\site-packages (from geopandas) (2.1.1)\n",
      "Requirement already satisfied: branca>=0.6.0 in c:\\users\\abela\\appdata\\local\\programs\\python\\python313\\lib\\site-packages (from folium) (0.8.1)\n",
      "Requirement already satisfied: jinja2>=2.9 in c:\\users\\abela\\appdata\\local\\programs\\python\\python313\\lib\\site-packages (from folium) (3.1.5)\n",
      "Requirement already satisfied: requests in c:\\users\\abela\\appdata\\local\\programs\\python\\python313\\lib\\site-packages (from folium) (2.32.3)\n",
      "Requirement already satisfied: xyzservices in c:\\users\\abela\\appdata\\local\\programs\\python\\python313\\lib\\site-packages (from folium) (2025.4.0)\n",
      "Requirement already satisfied: narwhals>=1.15.1 in c:\\users\\abela\\appdata\\local\\programs\\python\\python313\\lib\\site-packages (from plotly) (1.35.0)\n",
      "Requirement already satisfied: python-dateutil>=2.8.2 in c:\\users\\abela\\appdata\\local\\programs\\python\\python313\\lib\\site-packages (from pandas) (2.9.0.post0)\n",
      "Requirement already satisfied: pytz>=2020.1 in c:\\users\\abela\\appdata\\local\\programs\\python\\python313\\lib\\site-packages (from pandas) (2025.1)\n",
      "Requirement already satisfied: tzdata>=2022.7 in c:\\users\\abela\\appdata\\local\\programs\\python\\python313\\lib\\site-packages (from pandas) (2025.1)\n",
      "Requirement already satisfied: MarkupSafe>=2.0 in c:\\users\\abela\\appdata\\local\\programs\\python\\python313\\lib\\site-packages (from jinja2>=2.9->folium) (3.0.2)\n",
      "Requirement already satisfied: certifi in c:\\users\\abela\\appdata\\local\\programs\\python\\python313\\lib\\site-packages (from pyogrio>=0.7.2->geopandas) (2025.1.31)\n",
      "Requirement already satisfied: six>=1.5 in c:\\users\\abela\\appdata\\local\\programs\\python\\python313\\lib\\site-packages (from python-dateutil>=2.8.2->pandas) (1.17.0)\n",
      "Requirement already satisfied: charset-normalizer<4,>=2 in c:\\users\\abela\\appdata\\local\\programs\\python\\python313\\lib\\site-packages (from requests->folium) (3.4.1)\n",
      "Requirement already satisfied: idna<4,>=2.5 in c:\\users\\abela\\appdata\\local\\programs\\python\\python313\\lib\\site-packages (from requests->folium) (3.10)\n",
      "Requirement already satisfied: urllib3<3,>=1.21.1 in c:\\users\\abela\\appdata\\local\\programs\\python\\python313\\lib\\site-packages (from requests->folium) (2.3.0)\n"
     ]
    },
    {
     "name": "stderr",
     "output_type": "stream",
     "text": [
      "\n",
      "[notice] A new release of pip is available: 25.1 -> 25.1.1\n",
      "[notice] To update, run: python.exe -m pip install --upgrade pip\n"
     ]
    }
   ],
   "source": [
    "#!pip install geopandas folium plotly pandas"
   ]
  },
  {
   "cell_type": "code",
   "execution_count": 174,
   "id": "792c7f0c",
   "metadata": {},
   "outputs": [
    {
     "name": "stdout",
     "output_type": "stream",
     "text": [
      "        PROVINCIA      CANDIDATO_SIGLAS  VOTANTES\n",
      "469178   Alicante                 PACMA       647\n",
      "331308  Castellón                 I.FEM       781\n",
      "559378   Valencia  ARA REPÚBLIQUES-ERPV       852\n",
      "                 COMARCA     CANDIDATO_SIGLAS  VOTANTES\n",
      "532818   El Alto Mijares        CEX-CREX-PREX       381\n",
      "326847  El Alto Palancia  PARTIDO ANDALUCISTA       760\n",
      "463270  El Alto Vinalopó                 SAIn       630\n",
      "513856  El Baix Maestrat                 SAIn       621\n",
      "481377  El Baix Vinalopó                 MIEL       592\n"
     ]
    }
   ],
   "source": [
    "top_partidos_comarca = df_final.loc[df_final.groupby(\"COMARCA\")[\"VOTANTES\"].idxmax(), [\"COMARCA\", \"CANDIDATO_SIGLAS\", \"VOTANTES\"]]\n",
    "top_partidos_provincia = df_final.loc[df_final.groupby(\"PROVINCIA\")[\"VOTANTES\"].idxmax(), [\"PROVINCIA\", \"CANDIDATO_SIGLAS\", \"VOTANTES\"]]\n",
    "\n",
    "\n",
    "# Verificar los datos\n",
    "print(top_partidos_provincia.head())\n",
    "print(top_partidos_comarca.head())\n"
   ]
  },
  {
   "cell_type": "code",
   "execution_count": 99,
   "id": "b092f5b7",
   "metadata": {},
   "outputs": [
    {
     "data": {
      "text/html": [
       "<div>\n",
       "<style scoped>\n",
       "    .dataframe tbody tr th:only-of-type {\n",
       "        vertical-align: middle;\n",
       "    }\n",
       "\n",
       "    .dataframe tbody tr th {\n",
       "        vertical-align: top;\n",
       "    }\n",
       "\n",
       "    .dataframe thead th {\n",
       "        text-align: right;\n",
       "    }\n",
       "</style>\n",
       "<table border=\"1\" class=\"dataframe\">\n",
       "  <thead>\n",
       "    <tr style=\"text-align: right;\">\n",
       "      <th>PROVINCIA</th>\n",
       "      <th>Alicante</th>\n",
       "      <th>Castellón</th>\n",
       "      <th>Valencia</th>\n",
       "    </tr>\n",
       "    <tr>\n",
       "      <th>ANYO</th>\n",
       "      <th></th>\n",
       "      <th></th>\n",
       "      <th></th>\n",
       "    </tr>\n",
       "  </thead>\n",
       "  <tbody>\n",
       "    <tr>\n",
       "      <th>2009</th>\n",
       "      <td>21665420</td>\n",
       "      <td>7622475</td>\n",
       "      <td>36391810</td>\n",
       "    </tr>\n",
       "    <tr>\n",
       "      <th>2014</th>\n",
       "      <td>21932469</td>\n",
       "      <td>7869849</td>\n",
       "      <td>38525565</td>\n",
       "    </tr>\n",
       "    <tr>\n",
       "      <th>2019</th>\n",
       "      <td>24554528</td>\n",
       "      <td>8821088</td>\n",
       "      <td>40611136</td>\n",
       "    </tr>\n",
       "  </tbody>\n",
       "</table>\n",
       "</div>"
      ],
      "text/plain": [
       "PROVINCIA  Alicante  Castellón  Valencia\n",
       "ANYO                                    \n",
       "2009       21665420    7622475  36391810\n",
       "2014       21932469    7869849  38525565\n",
       "2019       24554528    8821088  40611136"
      ]
     },
     "execution_count": 99,
     "metadata": {},
     "output_type": "execute_result"
    }
   ],
   "source": [
    "df_final.pivot_table(index=\"ANYO\", columns=\"PROVINCIA\", values=\"VALIDOS\", aggfunc=\"sum\")"
   ]
  },
  {
   "cell_type": "markdown",
   "id": "eb442b2d",
   "metadata": {},
   "source": [
    "## 2. Obtención de los datos mediante API\n",
    "\n",
    "En esta sección intentaremos acceder al conunto de datos a partir de la API de la web del gobierno.\n",
    "Este es otro medio por el que los Data SCience pueden obtener los datos. EL éxito al aplicar este método dependerá de tener la API con su dirección lo más correcta posible."
   ]
  },
  {
   "cell_type": "code",
   "execution_count": 23,
   "id": "41aaedbd",
   "metadata": {},
   "outputs": [],
   "source": [
    "### 2. Obtención de datos mediante API\n",
    "from fake_useragent import UserAgent\n",
    "import json\n",
    "\n",
    "# Identificador de la Generalitat Valenciana\n",
    "gv_id = \"A10002983\"  # Puedes confirmar este identificador según los datos que extrajiste antes\n",
    "\n",
    "ua = UserAgent()\n",
    "headers = {'User-Agent': ua.random}"
   ]
  },
  {
   "cell_type": "code",
   "execution_count": 29,
   "id": "932ff0ab",
   "metadata": {},
   "outputs": [
    {
     "name": "stdout",
     "output_type": "stream",
     "text": [
      "Estructura de la respuesta:\n",
      "{\n",
      "  \"format\": \"linked-data-api\",\n",
      "  \"version\": \"0.2\",\n",
      "  \"result\": {\n",
      "    \"_about\": \"http://datos.gob.es/apidata/catalog/dataset.json?_pageSize=20&_sort=title\",\n",
      "    \"definition\": \"http://datos.gob.es/apidata/catalog/meta/dataset.json?_sort=title\",\n",
      "    \"extendedMetadataVersion\": \"http://datos.gob.es/apidata/catalog/dataset.json?_pageSize=20&_metadata=all&_sort=title\",\n",
      "    \"first\": \"http://datos.gob.es/apidata/catalog/dataset.json?_page=0&_sort=title\",\n",
      "    \"isPartOf\": {\n",
      "      \"_about\": \"http://datos.gob.es/apidata/catalog/dataset.json?_sort=title\",\n",
      "      \"definition\": \"http://datos.gob.es/apidata/catalog/meta/dataset.json?_sort=title\",\n",
      "      \"hasPart\": \"http://datos.gob.es/apidata/catalog/dataset.json?_pageSize=20&_sort=title\",\n",
      "      \"type\": \"http://purl.org/linked-data/api/vocab#ListEndpoint\"\n",
      "    },\n",
      "    \"items\": [\n",
      "      {\n",
      "        \"_about\": \"https://datos.gob.es/catalogo/l01431482-actividades\",\n",
      "        \"accrualPeriodicity\": {\n",
      "          \"_about\": \"https://datos.gob.es/catalogo/l01431482-actividades/Frequency\",\n",
      "          \"value\": {\n",
      "            \"_about\": \"https://datos.gob.es/catalogo/l01431482-actividades/DurationDescription\",\n",
      "            \"days\": 1.0\n",
      "          }\n",
      "        },\n",
      "        \"description\": [\n",
      "          {\n",
      "            \"_value\": \" Agenda d'Activitats Ciutat de Tarragona\",\n",
      "            \"_lang\": \"ca\"\n",
      "          },\n",
      "          {\n",
      "            \"_value\": \" Agenda of Activities City of Tarragona\",\n",
      "            \"_lang\": \"en\"\n",
      "          },\n",
      "          {\n",
      "            \"_value\": \" Axenda de Actividades Cidade de Tarragona\",\n",
      "            \"_lang\": \"gl\"\n",
      "          },\n",
      "          {\n",
      "            \"_value\": \"Agenda de Actividades Ciudad de Tarragona\",\n",
      "            \"_lang\": \"es\"\n",
      "          },\n",
      "          {\n",
      "            \"_value\": \"Jardueren agenda Tarragonako Udala\",\n",
      "            \"_lang\": \"eu\"\n",
      "          }\n",
      "        ],\n",
      "        \"distribution\": [\n",
      "          {\n",
      "            \"_about\": \"https://datos.gob.es/catalogo/l01431482-actividades/resource/16c04e07-30ce-4dfc-9345-b8939cce1923\",\n",
      "            \"accessURL\": \"http://dadesobertes.seu-e.cat/api/aoc/action/odata/5368e11e-cfe3-4a8d-b3e9-936df0550d5b?$format=json\",\n",
      "            \"format\": {\n",
      "              \"_about\": \"https://datos.gob.es/catalogo/l01431482-actividades/resource/16c04e07-30ce-4dfc-9345-b8939cce1923/format\",\n",
      "              \"type\": \"http://purl.org/dc/terms/IMT\",\n",
      "              \"value\": \"application/json\"\n",
      "            },\n",
      "            \"title\": [\n",
      "              {\n",
      "                \"_value\": \"Agenda Actividades\",\n",
      "                \"_lang\": \"es\"\n",
      "              },\n",
      "              {\n",
      "                \"_value\": \"Agenda d'Activitats\",\n",
      "                \"_lang\": \"en\"\n",
      "              }\n",
      "            ],\n",
      "            \"type\": \"http://www.w3.org/ns/dcat#Distribution\"\n",
      "          },\n",
      "          {\n",
      "            \"_about\": \"https://datos.gob.es/catalogo/l01431482-actividades/resource/7ffa51f5-594e-4c21-8849-58a2c2e0e76a\",\n",
      "            \"accessURL\": \"http://dadesobertes.seu-e.cat/csv/tarragona/00302.csv\",\n",
      "            \"format\": {\n",
      "              \"_about\": \"https://datos.gob.es/catalogo/l01431482-actividades/resource/7ffa51f5-594e-4c21-8849-58a2c2e0e76a/format\",\n",
      "              \"type\": \"http://purl.org/dc/terms/IMT\",\n",
      "              \"value\": \"text/csv\"\n",
      "            },\n",
      "            \"title\": [\n",
      "              {\n",
      "                \"_value\": \"Agenda Actividades\",\n",
      "                \"_lang\": \"es\"\n",
      "              },\n",
      "              {\n",
      "                \"_value\": \"Agenda d'Activitats\",\n",
      "                \"_lang\": \"ca\"\n",
      "              }\n",
      "            ],\n",
      "            \"type\": \"http://www.w3.org/ns/dcat#Distribution\"\n",
      "          }\n",
      "        ],\n",
      "        \"keyword\": [\n",
      "          {\n",
      "            \"_value\": \"Agenda\",\n",
      "            \"_lang\": \"es\"\n",
      "          },\n",
      "          {\n",
      "            \"_value\": \"actividades\",\n",
      "            \"_lang\": \"es\"\n",
      "          },\n",
      "          {\n",
      "            \"_value\": \"cultura\",\n",
      "            \"_lang\": \"es\"\n",
      "          }\n",
      "        ],\n",
      "        \"language\": [\n",
      "          \"ca\",\n",
      "          \"es\"\n",
      "        ],\n",
      "        \"license\": \"https://www.boe.es/diario_boe/txt.php?id=BOE-A-2011-17560\",\n",
      "        \"publisher\": \"http://datos.gob.es/recurso/sector-publico/org/Organismo/L01431482\",\n",
      "        \"spatial\": \"http://datos.gob.es/recurso/sector-publico/territorio/Provincia/Tarragona\",\n",
      "        \"theme\": \"http://datos.gob.es/kos/sector-publico/sector/cultura-ocio\",\n",
      "        \"title\": [\n",
      "          {\n",
      "            \"_value\": \" Agenda d'Activitats Ciutat de Tarragona\",\n",
      "            \"_lang\": \"ca\"\n",
      "          },\n",
      "          {\n",
      "            \"_value\": \" Agenda of Activities City of Tarragona\",\n",
      "            \"_lang\": \"en\"\n",
      "          },\n",
      "          {\n",
      "            \"_value\": \" Axenda de Actividades Cidade de Tarragona\",\n",
      "            \"_lang\": \"gl\"\n",
      "          },\n",
      "          {\n",
      "            \"_value\": \" Jardueren agenda Tarragonako Udala\",\n",
      "            \"_lang\": \"eu\"\n",
      "          },\n",
      "          {\n",
      "            \"_value\": \"Agenda de Actividades Ciudad de Tarragona\",\n",
      "            \"_lang\": \"es\"\n",
      "          }\n",
      "        ],\n",
      "        \"type\": \"http://www.w3.org/ns/dcat#Dataset\"\n",
      "      },\n",
      "      {\n",
      "        \"_about\": \"https://datos.gob.es/catalogo/a09002970-catala947-la-lengua-catalana-en-los-municipios-de-cataluna\",\n",
      "        \"description\": [\n",
      "          {\n",
      "            \"_value\": \"#catal\\u00e0947 \\u00e9s un projecte de la Secretaria de Pol\\u00edtica Ling\\u00fc\\u00edstica per posar a disposici\\u00f3 de les institucions, dels recercadors i de la ciutadania tota la informaci\\u00f3 socioling\\u00fc\\u00edstica i de pol\\u00edtica ling\\u00fc\\u00edstica disponible de cada municipi de Catalunya.\",\n",
      "            \"_lang\": \"es\"\n",
      "          },\n",
      "          {\n",
      "            \"_value\": \"#catal\\u00e0947 \\u00e9s un projecte de la Secretaria de Pol\\u00edtica Ling\\u00fc\\u00edstica per posar a disposici\\u00f3 de les institucions, dels recercadors i de la ciutadania tota la informaci\\u00f3 socioling\\u00fc\\u00edstica i de pol\\u00edtica ling\\u00fc\\u00edstica disponible de cada municipi de Catalunya.\",\n",
      "            \"_lang\": \"en\"\n",
      "          },\n",
      "          {\n",
      "            \"_value\": \"#catal\\u00e0947 \\u00e9s un projecte de la Secretaria de Pol\\u00edtica Ling\\u00fc\\u00edstica per posar a disposici\\u00f3 de les institucions, dels recercadors i de la ciutadania tota la informaci\\u00f3 socioling\\u00fc\\u00edstica i de pol\\u00edtica ling\\u00fc\\u00edstica disponible de cada municipi de Catalunya.\",\n",
      "            \"_lang\": \"ca\"\n",
      "          }\n",
      "        ],\n",
      "        \"distribution\": [\n",
      "          {\n",
      "            \"_about\": \"https://datos.gob.es/catalogo/a09002970-catala947-la-lengua-catalana-en-los-municipios-de-cataluna/resource/822f4185-4e8e-4716-b288-28dcf1fa311e\",\n",
      "            \"accessURL\": \"https://analisi.transparenciacatalunya.cat/api/views/374c-85cu/rows.rdf?accessType=DOWNLOAD\",\n",
      "            \"format\": {\n",
      "              \"_about\": \"https://datos.gob.es/catalogo/a09002970-catala947-la-lengua-catalana-en-los-municipios-de-cataluna/resource/822f4185-4e8e-4716-b288-28dcf1fa311e/format\",\n",
      "              \"type\": \"http://purl.org/dc/terms/IMT\",\n",
      "              \"value\": \"application/rdf+xml\"\n",
      "            },\n",
      "            \"identifier\": \"https://analisi.transparenciacatalunya.cat/d/374c-85cu\",\n",
      "            \"title\": [\n",
      "              {\n",
      "                \"_value\": \"#catal\\u00e0947. La lengua catalana en los municipios de Catalu\\u00f1a\",\n",
      "                \"_lang\": \"es\"\n",
      "              },\n",
      "              {\n",
      "                \"_value\": \"#catal\\u00e0947. La llengua catalana als municipis de Catalunya\",\n",
      "                \"_lang\": \"ca\"\n",
      "              },\n",
      "              {\n",
      "                \"_value\": \"#catal\\u00e0947. The Catalan language in the municipalities of Catalonia\",\n",
      "                \"_lang\": \"en\"\n",
      "              }\n",
      "            ],\n",
      "            \"type\": \"http://www.w3.org/ns/dcat#Distribution\"\n",
      "          },\n",
      "          {\n",
      "            \"_about\": \"https://datos.gob.es/catalogo/a09002970-catala947-la-lengua-catalana-en-los-municipios-de-cataluna/resource/92ad94e7-9a83-437f-badf-e022c4f01fc4\",\n",
      "            \"accessURL\": \"https://analisi.transparenciacatalunya.cat/api/views/374c-85cu/rows.csv?accessType=DOWNLOAD\",\n",
      "            \"format\": {\n",
      "              \"_about\": \"https://datos.gob.es/catalogo/a09002970-catala947-la-lengua-catalana-en-los-municipios-de-cataluna/resource/92ad94e7-9a83-437f-badf-e022c4f01fc4/format\",\n",
      "              \"type\": \"http://purl.org/dc/terms/IMT\",\n",
      "              \"value\": \"text/csv\"\n",
      "            },\n",
      "            \"identifier\": \"https://analisi.transparenciacatalunya.cat/d/374c-85cu\",\n",
      "            \"title\": [\n",
      "              {\n",
      "                \"_value\": \"#catal\\u00e0947. La lengua catalana en los municipios de Catalu\\u00f1a\",\n",
      "                \"_lang\": \"es\"\n",
      "              },\n",
      "              {\n",
      "                \"_value\": \"#catal\\u00e0947. La llengua catalana als municipis de Catalunya\",\n",
      "                \"_lang\": \"ca\"\n",
      "              },\n",
      "              {\n",
      "                \"_value\": \"#catal\\u00e0947. The Catalan language in the municipalities of Catalonia\",\n",
      "                \"_lang\": \"en\"\n",
      "              }\n",
      "            ],\n",
      "            \"type\": \"http://www.w3.org/ns/dcat#Distribution\"\n",
      "          },\n",
      "          {\n",
      "            \"_about\": \"https://datos.gob.es/catalogo/a09002970-catala947-la-lengua-catalana-en-los-municipios-de-cataluna/resource/b8947ebe-3bc2-45bb-9771-b98caf219eae\",\n",
      "            \"accessURL\": \"https://analisi.transparenciacatalunya.cat/api/views/374c-85cu/rows.json?accessType=DOWNLOAD\",\n",
      "            \"format\": {\n",
      "              \"_about\": \"https://datos.gob.es/catalogo/a09002970-catala947-la-lengua-catalana-en-los-municipios-de-cataluna/resource/b8947ebe-3bc2-45bb-9771-b98caf219eae/format\",\n",
      "              \"type\": \"http://purl.org/dc/terms/IMT\",\n",
      "              \"value\": \"application/json\"\n",
      "            },\n",
      "            \"identifier\": \"https://analisi.transparenciacatalunya.cat/d/374c-85cu\",\n",
      "            \"title\": [\n",
      "              {\n",
      "                \"_value\": \"#catal\\u00e0947. La lengua catalana en los municipios de Catalu\\u00f1a\",\n",
      "                \"_lang\": \"es\"\n",
      "              },\n",
      "              {\n",
      "                \"_value\": \"#catal\\u00e0947. La llengua catalana als municipis de Catalunya\",\n",
      "                \"_lang\": \"ca\"\n",
      "              },\n",
      "              {\n",
      "                \"_value\": \"#catal\\u00e0947. The Catalan language in the municipalities of Catalonia\",\n",
      "                \"_lang\": \"en\"\n",
      "              }\n",
      "            ],\n",
      "            \"type\": \"http://www.w3.org/ns/dcat#Distribution\"\n",
      "          },\n",
      "          {\n",
      "            \"_about\": \"https://datos.gob.es/catalogo/a09002970-catala947-la-lengua-catalana-en-los-municipios-de-cataluna/resource/d02fe445-8ae0-4d56-abf4-579c4c8bbb4c\",\n",
      "            \"accessURL\": \"https://analisi.transparenciacatalunya.cat/api/views/374c-85cu/rows.xml?accessType=DOWNLOAD\",\n",
      "            \"format\": {\n",
      "              \"_about\": \"https://datos.gob.es/catalogo/a09002970-catala947-la-lengua-catalana-en-los-municipios-de-cataluna/resource/d02fe445-8ae0-4d56-abf4-579c4c8bbb4c/format\",\n",
      "              \"type\": \"http://purl.org/dc/terms/IMT\",\n",
      "              \"value\": \"application/xml\"\n",
      "            },\n",
      "            \"identifier\": \"https://analisi.transparenciacatalunya.cat/d/374c-85cu\",\n",
      "            \"title\": [\n",
      "              {\n",
      "                \"_value\": \"#catal\\u00e0947. La lengua catalana en los municipios de Catalu\\u00f1a\",\n",
      "                \"_lang\": \"es\"\n",
      "              },\n",
      "              {\n",
      "                \"_value\": \"#catal\\u00e0947. La llengua catalana als municipis de Catalunya\",\n",
      "                \"_lang\": \"ca\"\n",
      "              },\n",
      "              {\n",
      "                \"_value\": \"#catal\\u00e0947. The Catalan language in the municipalities of Catalonia\",\n",
      "                \"_lang\": \"en\"\n",
      "              }\n",
      "            ],\n",
      "            \"type\": \"http://www.w3.org/ns/dcat#Distribution\"\n",
      "          }\n",
      "        ],\n",
      "        \"identifier\": \"https://analisi.transparenciacatalunya.cat/api/views/374c-85cu\",\n",
      "        \"issued\": \"mar, 30 may 2023 22:00:00 GMT+0000\",\n",
      "        \"keyword\": [\n",
      "          {\n",
      "            \"_value\": \"catal\\u00e0947\",\n",
      "            \"_lang\": \"es\"\n",
      "          },\n",
      "          {\n",
      "            \"_value\": \"coneixementsiusosling\\u00fc\\u00edstics\",\n",
      "            \"_lang\": \"es\"\n",
      "          },\n",
      "          {\n",
      "            \"_value\": \"llengua\",\n",
      "            \"_lang\": \"es\"\n",
      "          },\n",
      "          {\n",
      "            \"_value\": \"mapasocioling\\u00fc\\u00edstic\",\n",
      "            \"_lang\": \"es\"\n",
      "          },\n",
      "          {\n",
      "            \"_value\": \"municipis\",\n",
      "            \"_lang\": \"es\"\n",
      "          },\n",
      "          {\n",
      "            \"_value\": \"ods11_ciutats i comunitats sostenibles\",\n",
      "            \"_lang\": \"es\"\n",
      "          },\n",
      "          {\n",
      "            \"_value\": \"ods4_educaci\\u00f3 de qualitat\",\n",
      "            \"_lang\": \"es\"\n",
      "          },\n",
      "          {\n",
      "            \"_value\": \"situaci\\u00f3catal\\u00e0\",\n",
      "            \"_lang\": \"es\"\n",
      "          },\n",
      "          {\n",
      "            \"_value\": \"situaci\\u00f3socioling\\u00fc\\u00edstica\",\n",
      "            \"_lang\": \"es\"\n",
      "          },\n",
      "          {\n",
      "            \"_value\": \"territori\",\n",
      "            \"_lang\": \"es\"\n",
      "          }\n",
      "        ],\n",
      "        \"language\": \"ca\",\n",
      "        \"license\": \"https://administraciodigital.gencat.cat/ca/dades/dades-obertes/informacio-practica/llicencies/\",\n",
      "        \"modified\": \"dom, 06 abr 2025 22:00:00 GMT+0000\",\n",
      "        \"publisher\": \"http://datos.gob.es/recurso/sector-publico/org/Organismo/A09002970\",\n",
      "        \"references\": \"https://analisi.transparenciacatalunya.cat/d/374c-85cu\",\n",
      "        \"spatial\": \"http://datos.gob.es/recurso/sector-publico/territorio/Autonomia/Cataluna\",\n",
      "        \"theme\": \"http://datos.gob.es/kos/sector-publico/sector/sociedad-bienestar\",\n",
      "        \"title\": [\n",
      "          {\n",
      "            \"_value\": \"#catal\\u00e0947. La lengua catalana en los municipios de Catalu\\u00f1a\",\n",
      "            \"_lang\": \"es\"\n",
      "          },\n",
      "          {\n",
      "            \"_value\": \"#catal\\u00e0947. La llengua catalana als municipis de Catalunya\",\n",
      "            \"_lang\": \"ca\"\n",
      "          },\n",
      "          {\n",
      "            \"_value\": \"#catal\\u00e0947. The Catalan language in the municipalities of Catalonia\",\n",
      "            \"_lang\": \"en\"\n",
      "          }\n",
      "        ],\n",
      "        \"type\": \"http://www.w3.org/ns/dcat#Dataset\"\n",
      "      },\n",
      "      {\n",
      "        \"_about\": \"https://datos.gob.es/catalogo/a04003003-area-prevencion-riesgos-erosion\",\n",
      "        \"description\": [\n",
      "          {\n",
      "            \"_value\": \"Area Prevenci\\u00f3n Riesgos Erosi\\u00f3n\",\n",
      "            \"_lang\": \"es\"\n",
      "          },\n",
      "          {\n",
      "            \"_value\": \"Capa que delimita les \\u00e0rees de prevenci\\u00f3 de riscs d'erosi\\u00f3 d'acord amb les determinacions de la normativa territorial i urban\\u00edstica.\",\n",
      "            \"_lang\": \"ca\"\n",
      "          },\n",
      "          {\n",
      "            \"_value\": \"Erosion Risk Prevention Area\",\n",
      "            \"_lang\": \"en\"\n",
      "          }\n",
      "        ],\n",
      "        \"distribution\": [\n",
      "          {\n",
      "            \"_about\": \"https://datos.gob.es/catalogo/a04003003-area-prevencion-riesgos-erosion/resource/022bdff1-4ee0-456d-8788-11f9f69bcd57\",\n",
      "            \"accessURL\": \"https://catalegdades.caib.cat/api/views/74pf-baf9/rows.xml?accessType=DOWNLOAD\",\n",
      "            \"format\": {\n",
      "              \"_about\": \"https://datos.gob.es/catalogo/a04003003-area-prevencion-riesgos-erosion/resource/022bdff1-4ee0-456d-8788-11f9f69bcd57/format\",\n",
      "              \"type\": \"http://purl.org/dc/terms/IMT\",\n",
      "              \"value\": \"application/xml\"\n",
      "            },\n",
      "            \"identifier\": \"https://catalegdades.caib.cat/api/views/74pf-baf9/rows.xml?accessType=DOWNLOAD\",\n",
      "            \"title\": [\n",
      "              {\n",
      "                \"_value\": \"APR Erosi\\u00f3\",\n",
      "                \"_lang\": \"ca\"\n",
      "              },\n",
      "              {\n",
      "                \"_value\": \"Area Prevenci\\u00f3n Riesgos Erosi\\u00f3n\",\n",
      "                \"_lang\": \"es\"\n",
      "              },\n",
      "              {\n",
      "                \"_value\": \"Erosion Risk Prevention Area\",\n",
      "                \"_lang\": \"en\"\n",
      "              }\n",
      "            ],\n",
      "            \"type\": \"http://www.w3.org/ns/dcat#Distribution\"\n",
      "          },\n",
      "          {\n",
      "            \"_about\": \"https://datos.gob.es/catalogo/a04003003-area-prevencion-riesgos-erosion/resource/208fe17b-45dc-4bfa-b872-53ae7b3fa2eb\",\n",
      "            \"accessURL\": \"https://catalegdades.caib.cat/api/views/74pf-baf9/rows.csv?accessType=DOWNLOAD\",\n",
      "            \"format\": {\n",
      "              \"_about\": \"https://datos.gob.es/catalogo/a04003003-area-prevencion-riesgos-erosion/resource/208fe17b-45dc-4bfa-b872-53ae7b3fa2eb/format\",\n",
      "              \"type\": \"http://purl.org/dc/terms/IMT\",\n",
      "              \"value\": \"text/csv\"\n",
      "            },\n",
      "            \"identifier\": \"https://catalegdades.caib.cat/api/views/74pf-baf9/rows.csv?accessType=DOWNLOAD\",\n",
      "            \"title\": [\n",
      "              {\n",
      "                \"_value\": \"APR Erosi\\u00f3\",\n",
      "                \"_lang\": \"ca\"\n",
      "              },\n",
      "              {\n",
      "                \"_value\": \"Area Prevenci\\u00f3n Riesgos Erosi\\u00f3n\",\n",
      "                \"_lang\": \"es\"\n",
      "              },\n",
      "              {\n",
      "                \"_value\": \"Erosion Risk Prevention Area\",\n",
      "                \"_lang\": \"en\"\n",
      "              }\n",
      "            ],\n",
      "            \"type\": \"http://www.w3.org/ns/dcat#Distribution\"\n",
      "          },\n",
      "          {\n",
      "            \"_about\": \"https://datos.gob.es/catalogo/a04003003-area-prevencion-riesgos-erosion/resource/cd9e39a1-53b2-4bb4-a092-d67c30e9b52d\",\n",
      "            \"accessURL\": \"https://catalegdades.caib.cat/api/views/74pf-baf9/rows.json?accessType=DOWNLOAD\",\n",
      "            \"format\": {\n",
      "              \"_about\": \"https://datos.gob.es/catalogo/a04003003-area-prevencion-riesgos-erosion/resource/cd9e39a1-53b2-4bb4-a092-d67c30e9b52d/format\",\n",
      "              \"type\": \"http://purl.org/dc/terms/IMT\",\n",
      "              \"value\": \"application/json\"\n",
      "            },\n",
      "            \"identifier\": \"https://catalegdades.caib.cat/api/views/74pf-baf9/rows.json?accessType=DOWNLOAD\",\n",
      "            \"title\": [\n",
      "              {\n",
      "                \"_value\": \"APR Erosi\\u00f3\",\n",
      "                \"_lang\": \"ca\"\n",
      "              },\n",
      "              {\n",
      "                \"_value\": \"Area Prevenci\\u00f3n Riesgos Erosi\\u00f3n\",\n",
      "                \"_lang\": \"es\"\n",
      "              },\n",
      "              {\n",
      "                \"_value\": \"Erosion Risk Prevention Area\",\n",
      "                \"_lang\": \"en\"\n",
      "              }\n",
      "            ],\n",
      "            \"type\": \"http://www.w3.org/ns/dcat#Distribution\"\n",
      "          },\n",
      "          {\n",
      "            \"_about\": \"https://datos.gob.es/catalogo/a04003003-area-prevencion-riesgos-erosion/resource/e6f0312c-4e36-4703-9a32-4b36d5656ec2\",\n",
      "            \"accessURL\": \"https://catalegdades.caib.cat/api/views/74pf-baf9/rows.rdf?accessType=DOWNLOAD\",\n",
      "            \"format\": {\n",
      "              \"_about\": \"https://datos.gob.es/catalogo/a04003003-area-prevencion-riesgos-erosion/resource/e6f0312c-4e36-4703-9a32-4b36d5656ec2/format\",\n",
      "              \"type\": \"http://purl.org/dc/terms/IMT\",\n",
      "              \"value\": \"application/rdf+xml\"\n",
      "            },\n",
      "            \"identifier\": \"https://catalegdades.caib.cat/api/views/74pf-baf9/rows.rdf?accessType=DOWNLOAD\",\n",
      "            \"title\": [\n",
      "              {\n",
      "                \"_value\": \"APR Erosi\\u00f3\",\n",
      "                \"_lang\": \"ca\"\n",
      "              },\n",
      "              {\n",
      "                \"_value\": \"Area Prevenci\\u00f3n Riesgos Erosi\\u00f3n\",\n",
      "                \"_lang\": \"es\"\n",
      "              },\n",
      "              {\n",
      "                \"_value\": \"Erosion Risk Prevention Area\",\n",
      "                \"_lang\": \"en\"\n",
      "              }\n",
      "            ],\n",
      "            \"type\": \"http://www.w3.org/ns/dcat#Distribution\"\n",
      "          }\n",
      "        ],\n",
      "        \"identifier\": \"https://catalegdades.caib.cat/d/74pf-baf9\",\n",
      "        \"issued\": \"mi\\u00e9, 13 abr 2022 22:00:00 GMT+0000\",\n",
      "        \"keyword\": [\n",
      "          {\n",
      "            \"_value\": \"erosion\",\n",
      "            \"_lang\": \"es\"\n",
      "          },\n",
      "          {\n",
      "            \"_value\": \"erosi\\u00f3\",\n",
      "            \"_lang\": \"es\"\n",
      "          },\n",
      "          {\n",
      "            \"_value\": \"erosi\\u00f3n\",\n",
      "            \"_lang\": \"es\"\n",
      "          },\n",
      "          {\n",
      "            \"_value\": \"illes balears\",\n",
      "            \"_lang\": \"es\"\n",
      "          },\n",
      "          {\n",
      "            \"_value\": \"risk prevention areas\",\n",
      "            \"_lang\": \"es\"\n",
      "          },\n",
      "          {\n",
      "            \"_value\": \"\\u00e1rea prevenci\\u00f3 riscs\",\n",
      "            \"_lang\": \"es\"\n",
      "          },\n",
      "          {\n",
      "            \"_value\": \"\\u00e1reas prevenci\\u00f3n riesgos\",\n",
      "            \"_lang\": \"es\"\n",
      "          }\n",
      "        ],\n",
      "        \"language\": [\n",
      "          \"ca\",\n",
      "          \"en\",\n",
      "          \"es\"\n",
      "        ],\n",
      "        \"license\": \"http://creativecommons.org/licenses/by/4.0/legalcode\",\n",
      "        \"modified\": \"vie, 14 jun 2024 22:00:00 GMT+0000\",\n",
      "        \"publisher\": \"http://datos.gob.es/recurso/sector-publico/org/Organismo/A04003003\",\n",
      "        \"spatial\": \"http://datos.gob.es/recurso/sector-publico/territorio/Autonomia/Illes-Balears\",\n",
      "        \"theme\": \"http://datos.gob.es/kos/sector-publico/sector/medio-ambiente\",\n",
      "        \"title\": [\n",
      "          {\n",
      "            \"_value\": \"APR Erosi\\u00f3\",\n",
      "            \"_lang\": \"ca\"\n",
      "          },\n",
      "          {\n",
      "            \"_value\": \"Area Prevenci\\u00f3n Riesgos Erosi\\u00f3n\",\n",
      "            \"_lang\": \"es\"\n",
      "          },\n",
      "          {\n",
      "            \"_value\": \"Erosion Risk Prevention Area\",\n",
      "            \"_lang\": \"en\"\n",
      "          }\n",
      "        ],\n",
      "        \"type\": \"http://www.w3.org/ns/dcat#Dataset\"\n",
      "      },\n",
      "      {\n",
      "        \"_about\": \"https://datos.gob.es/catalogo/a04003003-areas-prevencion-riesgos-desprendimientos\",\n",
      "        \"description\": [\n",
      "          {\n",
      "            \"_value\": \"Capa que delimita les \\u00e0rees de prevenci\\u00f3 de riscs d'esllavissaments d'acord amb les determinacions de la normativa territorial i urban\\u00edstica.\",\n",
      "            \"_lang\": \"ca\"\n",
      "          },\n",
      "          {\n",
      "            \"_value\": \"Landslide risk prevention areas\",\n",
      "            \"_lang\": \"en\"\n",
      "          },\n",
      "          {\n",
      "            \"_value\": \"\\u00c1reas Prevenci\\u00f3n Riesgos Desprendimientos\",\n",
      "            \"_lang\": \"es\"\n",
      "          }\n",
      "        ],\n",
      "        \"distribution\": [\n",
      "          {\n",
      "            \"_about\": \"https://datos.gob.es/catalogo/a04003003-areas-prevencion-riesgos-desprendimientos/resource/15d65cb1-d65a-483f-bb9a-662944f439ec\",\n",
      "            \"accessURL\": \"https://catalegdades.caib.cat/api/views/mr7i-5p69/rows.csv?accessType=DOWNLOAD\",\n",
      "            \"format\": {\n",
      "              \"_about\": \"https://datos.gob.es/catalogo/a04003003-areas-prevencion-riesgos-desprendimientos/resource/15d65cb1-d65a-483f-bb9a-662944f439ec/format\",\n",
      "              \"type\": \"http://purl.org/dc/terms/IMT\",\n",
      "              \"value\": \"text/csv\"\n",
      "            },\n",
      "            \"identifier\": \"https://catalegdades.caib.cat/api/views/mr7i-5p69/rows.csv?accessType=DOWNLOAD\",\n",
      "            \"title\": [\n",
      "              {\n",
      "                \"_value\": \"APR Esllevissaments\",\n",
      "                \"_lang\": \"ca\"\n",
      "              },\n",
      "              {\n",
      "                \"_value\": \"Landslide risk prevention areas\",\n",
      "                \"_lang\": \"en\"\n",
      "              },\n",
      "              {\n",
      "                \"_value\": \"\\u00c1reas Prevenci\\u00f3n Riesgos Desprendimientos\",\n",
      "                \"_lang\": \"es\"\n",
      "              }\n",
      "            ],\n",
      "            \"type\": \"http://www.w3.org/ns/dcat#Distribution\"\n",
      "          },\n",
      "          {\n",
      "            \"_about\": \"https://datos.gob.es/catalogo/a04003003-areas-prevencion-riesgos-desprendimientos/resource/3a898275-2f36-431d-b699-fc1a0f8653b2\",\n",
      "            \"accessURL\": \"https://catalegdades.caib.cat/api/views/mr7i-5p69/rows.json?accessType=DOWNLOAD\",\n",
      "            \"format\": {\n",
      "              \"_about\": \"https://datos.gob.es/catalogo/a04003003-areas-prevencion-riesgos-desprendimientos/resource/3a898275-2f36-431d-b699-fc1a0f8653b2/format\",\n",
      "              \"type\": \"http://purl.org/dc/terms/IMT\",\n",
      "              \"value\": \"application/json\"\n",
      "            },\n",
      "            \"identifier\": \"https://catalegdades.caib.cat/api/views/mr7i-5p69/rows.json?accessType=DOWNLOAD\",\n",
      "            \"title\": [\n",
      "              {\n",
      "                \"_value\": \"APR Esllevissaments\",\n",
      "                \"_lang\": \"ca\"\n",
      "              },\n",
      "              {\n",
      "                \"_value\": \"Landslide risk prevention areas\",\n",
      "                \"_lang\": \"en\"\n",
      "              },\n",
      "              {\n",
      "                \"_value\": \"\\u00c1reas Prevenci\\u00f3n Riesgos Desprendimientos\",\n",
      "                \"_lang\": \"es\"\n",
      "              }\n",
      "            ],\n",
      "            \"type\": \"http://www.w3.org/ns/dcat#Distribution\"\n",
      "          },\n",
      "          {\n",
      "            \"_about\": \"https://datos.gob.es/catalogo/a04003003-areas-prevencion-riesgos-desprendimientos/resource/3ec7c2b1-5fcb-4337-b6b0-8c7422ec91c1\",\n",
      "            \"accessURL\": \"https://catalegdades.caib.cat/api/views/mr7i-5p69/rows.rdf?accessType=DOWNLOAD\",\n",
      "            \"format\": {\n",
      "              \"_about\": \"https://datos.gob.es/catalogo/a04003003-areas-prevencion-riesgos-desprendimientos/resource/3ec7c2b1-5fcb-4337-b6b0-8c7422ec91c1/format\",\n",
      "              \"type\": \"http://purl.org/dc/terms/IMT\",\n",
      "              \"value\": \"application/rdf+xml\"\n",
      "            },\n",
      "            \"identifier\": \"https://catalegdades.caib.cat/api/views/mr7i-5p69/rows.rdf?accessType=DOWNLOAD\",\n",
      "            \"title\": [\n",
      "              {\n",
      "                \"_value\": \"APR Esllevissaments\",\n",
      "                \"_lang\": \"ca\"\n",
      "              },\n",
      "              {\n",
      "                \"_value\": \"Landslide risk prevention areas\",\n",
      "                \"_lang\": \"en\"\n",
      "              },\n",
      "              {\n",
      "                \"_value\": \"\\u00c1reas Prevenci\\u00f3n Riesgos Desprendimientos\",\n",
      "                \"_lang\": \"es\"\n",
      "              }\n",
      "            ],\n",
      "            \"type\": \"http://www.w3.org/ns/dcat#Distribution\"\n",
      "          },\n",
      "          {\n",
      "            \"_about\": \"https://datos.gob.es/catalogo/a04003003-areas-prevencion-riesgos-desprendimientos/resource/595bdd5d-bc43-4ca0-9bbd-57fcf3f31400\",\n",
      "            \"accessURL\": \"https://catalegdades.caib.cat/api/views/mr7i-5p69/rows.xml?accessType=DOWNLOAD\",\n",
      "            \"format\": {\n",
      "              \"_about\": \"https://datos.gob.es/catalogo/a04003003-areas-prevencion-riesgos-desprendimientos/resource/595bdd5d-bc43-4ca0-9bbd-57fcf3f31400/format\",\n",
      "              \"type\": \"http://purl.org/dc/terms/IMT\",\n",
      "              \"value\": \"application/xml\"\n",
      "            },\n",
      "            \"identifier\": \"https://catalegdades.caib.cat/api/views/mr7i-5p69/rows.xml?accessType=DOWNLOAD\",\n",
      "            \"title\": [\n",
      "              {\n",
      "                \"_value\": \"APR Esllevissaments\",\n",
      "                \"_lang\": \"ca\"\n",
      "              },\n",
      "              {\n",
      "                \"_value\": \"Landslide risk prevention areas\",\n",
      "                \"_lang\": \"en\"\n",
      "              },\n",
      "              {\n",
      "                \"_value\": \"\\u00c1reas Prevenci\\u00f3n Riesgos Desprendimientos\",\n",
      "                \"_lang\": \"es\"\n",
      "              }\n",
      "            ],\n",
      "            \"type\": \"http://www.w3.org/ns/dcat#Distribution\"\n",
      "          }\n",
      "        ],\n",
      "        \"identifier\": \"https://catalegdades.caib.cat/d/mr7i-5p69\",\n",
      "        \"issued\": \"mi\\u00e9, 13 abr 2022 22:00:00 GMT+0000\",\n",
      "        \"keyword\": [\n",
      "          {\n",
      "            \"_value\": \"desprendimientos\",\n",
      "            \"_lang\": \"es\"\n",
      "          },\n",
      "          {\n",
      "            \"_value\": \"esllevissaments\",\n",
      "            \"_lang\": \"es\"\n",
      "          },\n",
      "          {\n",
      "            \"_value\": \"illes balears\",\n",
      "            \"_lang\": \"es\"\n",
      "          },\n",
      "          {\n",
      "            \"_value\": \"landslide\",\n",
      "            \"_lang\": \"es\"\n",
      "          },\n",
      "          {\n",
      "            \"_value\": \"risk prevention areas\",\n",
      "            \"_lang\": \"es\"\n",
      "          },\n",
      "          {\n",
      "            \"_value\": \"\\u00e1rea prevenci\\u00f3 riscs\",\n",
      "            \"_lang\": \"es\"\n",
      "          },\n",
      "          {\n",
      "            \"_value\": \"\\u00e1reas prevenci\\u00f3n riesgos\",\n",
      "            \"_lang\": \"es\"\n",
      "          }\n",
      "        ],\n",
      "        \"language\": [\n",
      "          \"ca\",\n",
      "          \"en\",\n",
      "          \"es\"\n",
      "        ],\n",
      "        \"license\": \"http://creativecommons.org/licenses/by/4.0/legalcode\",\n",
      "        \"modified\": \"vie, 14 jun 2024 22:00:00 GMT+0000\",\n",
      "        \"publisher\": \"http://datos.gob.es/recurso/sector-publico/org/Organismo/A04003003\",\n",
      "        \"spatial\": \"http://datos.gob.es/recurso/sector-publico/territorio/Autonomia/Illes-Balears\",\n",
      "        \"theme\": \"http://datos.gob.es/kos/sector-publico/sector/medio-ambiente\",\n",
      "        \"title\": [\n",
      "          {\n",
      "            \"_value\": \"APR Esllevissaments\",\n",
      "            \"_lang\": \"ca\"\n",
      "          },\n",
      "          {\n",
      "            \"_value\": \"Landslide risk prevention areas\",\n",
      "            \"_lang\": \"en\"\n",
      "          },\n",
      "          {\n",
      "            \"_value\": \"\\u00c1reas Prevenci\\u00f3n Riesgos Desprendimientos\",\n",
      "            \"_lang\": \"es\"\n",
      "          }\n",
      "        ],\n",
      "        \"type\": \"http://www.w3.org/ns/dcat#Dataset\"\n",
      "      },\n",
      "      {\n",
      "        \"_about\": \"https://datos.gob.es/catalogo/a04003003-area-prevencion-riesgos-inundaciones\",\n",
      "        \"description\": [\n",
      "          {\n",
      "            \"_value\": \"Area Prevenci\\u00f3n Riesgos Inundaciones\",\n",
      "            \"_lang\": \"es\"\n",
      "          },\n",
      "          {\n",
      "            \"_value\": \"Capa que delimita les \\u00e0rees de prevenci\\u00f3 de riscs d'inundaci\\u00f3 d'acord amb les determinacions de la normativa territorial i urban\\u00edstica.\",\n",
      "            \"_lang\": \"ca\"\n",
      "          },\n",
      "          {\n",
      "            \"_value\": \"Flood Risk Prevention Area\",\n",
      "            \"_lang\": \"en\"\n",
      "          }\n",
      "        ],\n",
      "        \"distribution\": [\n",
      "          {\n",
      "            \"_about\": \"https://datos.gob.es/catalogo/a04003003-area-prevencion-riesgos-inundaciones/resource/43c55844-1538-4696-9367-29d6384abde3\",\n",
      "            \"accessURL\": \"https://catalegdades.caib.cat/api/views/ngdb-fd8p/rows.csv?accessType=DOWNLOAD\",\n",
      "            \"format\": {\n",
      "              \"_about\": \"https://datos.gob.es/catalogo/a04003003-area-prevencion-riesgos-inundaciones/resource/43c55844-1538-4696-9367-29d6384abde3/format\",\n",
      "              \"type\": \"http://purl.org/dc/terms/IMT\",\n",
      "              \"value\": \"text/csv\"\n",
      "            },\n",
      "            \"identifier\": \"https://catalegdades.caib.cat/api/views/ngdb-fd8p/rows.csv?accessType=DOWNLOAD\",\n",
      "            \"title\": [\n",
      "              {\n",
      "                \"_value\": \"APR Inundaci\\u00f3\",\n",
      "                \"_lang\": \"ca\"\n",
      "              },\n",
      "              {\n",
      "                \"_value\": \"Area Prevenci\\u00f3n Riesgos Inundaciones\",\n",
      "                \"_lang\": \"es\"\n",
      "              },\n",
      "              {\n",
      "                \"_value\": \"Flood Risk Prevention Area\",\n",
      "                \"_lang\": \"en\"\n",
      "              }\n",
      "            ],\n",
      "            \"type\": \"http://www.w3.org/ns/dcat#Distribution\"\n",
      "          },\n",
      "          {\n",
      "            \"_about\": \"https://datos.gob.es/catalogo/a04003003-area-prevencion-riesgos-inundaciones/resource/83951dd8-da20-4583-a38f-d5361bb1f2d5\",\n",
      "            \"accessURL\": \"https://catalegdades.caib.cat/api/views/ngdb-fd8p/rows.json?accessType=DOWNLOAD\",\n",
      "            \"format\": {\n",
      "              \"_about\": \"https://datos.gob.es/catalogo/a04003003-area-prevencion-riesgos-inundaciones/resource/83951dd8-da20-4583-a38f-d5361bb1f2d5/format\",\n",
      "              \"type\": \"http://purl.org/dc/terms/IMT\",\n",
      "              \"value\": \"application/json\"\n",
      "            },\n",
      "            \"identifier\": \"https://catalegdades.caib.cat/api/views/ngdb-fd8p/rows.json?accessType=DOWNLOAD\",\n",
      "            \"title\": [\n",
      "              {\n",
      "                \"_value\": \"APR Inundaci\\u00f3\",\n",
      "                \"_lang\": \"ca\"\n",
      "              },\n",
      "              {\n",
      "                \"_value\": \"Area Prevenci\\u00f3n Riesgos Inundaciones\",\n",
      "                \"_lang\": \"es\"\n",
      "              },\n",
      "              {\n",
      "                \"_value\": \"Flood Risk Prevention Area\",\n",
      "                \"_lang\": \"en\"\n",
      "              }\n",
      "            ],\n",
      "            \"type\": \"http://www.w3.org/ns/dcat#Distribution\"\n",
      "          },\n",
      "          {\n",
      "            \"_about\": \"https://datos.gob.es/catalogo/a04003003-area-prevencion-riesgos-inundaciones/resource/8f39b1f8-07a4-4274-8606-ebddbf6c2418\",\n",
      "            \"accessURL\": \"https://catalegdades.caib.cat/api/views/ngdb-fd8p/rows.xml?accessType=DOWNLOAD\",\n",
      "            \"format\": {\n",
      "              \"_about\": \"https://datos.gob.es/catalogo/a04003003-area-prevencion-riesgos-inundaciones/resource/8f39b1f8-07a4-4274-8606-ebddbf6c2418/format\",\n",
      "              \"type\": \"http://purl.org/dc/terms/IMT\",\n",
      "              \"value\": \"application/xml\"\n",
      "            },\n",
      "            \"identifier\": \"https://catalegdades.caib.cat/api/views/ngdb-fd8p/rows.xml?accessType=DOWNLOAD\",\n",
      "            \"title\": [\n",
      "              {\n",
      "                \"_value\": \"APR Inundaci\\u00f3\",\n",
      "                \"_lang\": \"ca\"\n",
      "              },\n",
      "              {\n",
      "                \"_value\": \"Area Prevenci\\u00f3n Riesgos Inundaciones\",\n",
      "                \"_lang\": \"es\"\n",
      "              },\n",
      "              {\n",
      "                \"_value\": \"Flood Risk Prevention Area\",\n",
      "                \"_lang\": \"en\"\n",
      "              }\n",
      "            ],\n",
      "            \"type\": \"http://www.w3.org/ns/dcat#Distribution\"\n",
      "          },\n",
      "          {\n",
      "            \"_about\": \"https://datos.gob.es/catalogo/a04003003-area-prevencion-riesgos-inundaciones/resource/f2054054-40a4-49c3-ad0d-48e53c81b1ae\",\n",
      "            \"accessURL\": \"https://catalegdades.caib.cat/api/views/ngdb-fd8p/rows.rdf?accessType=DOWNLOAD\",\n",
      "            \"format\": {\n",
      "              \"_about\": \"https://datos.gob.es/catalogo/a04003003-area-prevencion-riesgos-inundaciones/resource/f2054054-40a4-49c3-ad0d-48e53c81b1ae/format\",\n",
      "              \"type\": \"http://purl.org/dc/terms/IMT\",\n",
      "              \"value\": \"application/rdf+xml\"\n",
      "            },\n",
      "            \"identifier\": \"https://catalegdades.caib.cat/api/views/ngdb-fd8p/rows.rdf?accessType=DOWNLOAD\",\n",
      "            \"title\": [\n",
      "              {\n",
      "                \"_value\": \"APR Inundaci\\u00f3\",\n",
      "                \"_lang\": \"ca\"\n",
      "              },\n",
      "              {\n",
      "                \"_value\": \"Area Prevenci\\u00f3n Riesgos Inundaciones\",\n",
      "                \"_lang\": \"es\"\n",
      "              },\n",
      "              {\n",
      "                \"_value\": \"Flood Risk Prevention Area\",\n",
      "                \"_lang\": \"en\"\n",
      "              }\n",
      "            ],\n",
      "            \"type\": \"http://www.w3.org/ns/dcat#Distribution\"\n",
      "          }\n",
      "        ],\n",
      "        \"identifier\": \"https://catalegdades.caib.cat/d/ngdb-fd8p\",\n",
      "        \"issued\": \"mi\\u00e9, 13 abr 2022 22:00:00 GMT+0000\",\n",
      "        \"keyword\": [\n",
      "          {\n",
      "            \"_value\": \"flood\",\n",
      "            \"_lang\": \"es\"\n",
      "          },\n",
      "          {\n",
      "            \"_value\": \"illes balears\",\n",
      "            \"_lang\": \"es\"\n",
      "          },\n",
      "          {\n",
      "            \"_value\": \"inundaci\\u00f3\",\n",
      "            \"_lang\": \"es\"\n",
      "          },\n",
      "          {\n",
      "            \"_value\": \"inundaci\\u00f3n\",\n",
      "            \"_lang\": \"es\"\n",
      "          },\n",
      "          {\n",
      "            \"_value\": \"risk prevention areas\",\n",
      "            \"_lang\": \"es\"\n",
      "          },\n",
      "          {\n",
      "            \"_value\": \"\\u00e1rea prevenci\\u00f3 riscs\",\n",
      "            \"_lang\": \"es\"\n",
      "          },\n",
      "          {\n",
      "            \"_value\": \"\\u00e1reas prevenci\\u00f3n riesgos\",\n",
      "            \"_lang\": \"es\"\n",
      "          }\n",
      "        ],\n",
      "        \"language\": [\n",
      "          \"ca\",\n",
      "          \"en\",\n",
      "          \"es\"\n",
      "        ],\n",
      "        \"license\": \"http://creativecommons.org/licenses/by/4.0/legalcode\",\n",
      "        \"modified\": \"vie, 14 jun 2024 22:00:00 GMT+0000\",\n",
      "        \"publisher\": \"http://datos.gob.es/recurso/sector-publico/org/Organismo/A04003003\",\n",
      "        \"spatial\": \"http://datos.gob.es/recurso/sector-publico/territorio/Autonomia/Illes-Balears\",\n",
      "        \"theme\": \"http://datos.gob.es/kos/sector-publico/sector/medio-ambiente\",\n",
      "        \"title\": [\n",
      "          {\n",
      "            \"_value\": \"APR Inundaci\\u00f3\",\n",
      "            \"_lang\": \"ca\"\n",
      "          },\n",
      "          {\n",
      "            \"_value\": \"Area Prevenci\\u00f3n Riesgos Inundaciones\",\n",
      "            \"_lang\": \"es\"\n",
      "          },\n",
      "          {\n",
      "            \"_value\": \"Flood Risk Prevention Area\",\n",
      "            \"_lang\": \"en\"\n",
      "          }\n",
      "        ],\n",
      "        \"type\": \"http://www.w3.org/ns/dcat#Dataset\"\n",
      "      },\n",
      "      {\n",
      "        \"_about\": \"https://datos.gob.es/catalogo/a04003003-apt\",\n",
      "        \"description\": [\n",
      "          {\n",
      "            \"_value\": \"APT\",\n",
      "            \"_lang\": \"en\"\n",
      "          },\n",
      "          {\n",
      "            \"_value\": \"APT\",\n",
      "            \"_lang\": \"es\"\n",
      "          },\n",
      "          {\n",
      "            \"_value\": \"Capa que delimita les \\u00e0rees de protecci\\u00f3 territorial d'acord amb les determinacions de la normativa territorial i urban\\u00edstica\",\n",
      "            \"_lang\": \"ca\"\n",
      "          }\n",
      "        ],\n",
      "        \"distribution\": [\n",
      "          {\n",
      "            \"_about\": \"https://datos.gob.es/catalogo/a04003003-apt/resource/00c270c1-9d0f-47c0-9b52-c483a3ae7acf\",\n",
      "            \"accessURL\": \"https://catalegdades.caib.cat/api/views/nsmi-29dr/rows.json?accessType=DOWNLOAD\",\n",
      "            \"format\": {\n",
      "              \"_about\": \"https://datos.gob.es/catalogo/a04003003-apt/resource/00c270c1-9d0f-47c0-9b52-c483a3ae7acf/format\",\n",
      "              \"type\": \"http://purl.org/dc/terms/IMT\",\n",
      "              \"value\": \"application/json\"\n",
      "            },\n",
      "            \"identifier\": \"https://catalegdades.caib.cat/api/views/nsmi-29dr/rows.json?accessType=DOWNLOAD\",\n",
      "            \"title\": [\n",
      "              {\n",
      "                \"_value\": \"APT\",\n",
      "                \"_lang\": \"ca\"\n",
      "              },\n",
      "              {\n",
      "                \"_value\": \"APT\",\n",
      "                \"_lang\": \"en\"\n",
      "              },\n",
      "              {\n",
      "                \"_value\": \"APT\",\n",
      "                \"_lang\": \"es\"\n",
      "              }\n",
      "            ],\n",
      "            \"type\": \"http://www.w3.org/ns/dcat#Distribution\"\n",
      "          },\n",
      "          {\n",
      "            \"_about\": \"https://datos.gob.es/catalogo/a04003003-apt/resource/1cbfba66-4f77-4bfc-b436-bafcc229a9d0\",\n",
      "            \"accessURL\": \"https://catalegdades.caib.cat/api/views/nsmi-29dr/rows.xml?accessType=DOWNLOAD\",\n",
      "            \"format\": {\n",
      "              \"_about\": \"https://datos.gob.es/catalogo/a04003003-apt/resource/1cbfba66-4f77-4bfc-b436-bafcc229a9d0/format\",\n",
      "              \"type\": \"http://purl.org/dc/terms/IMT\",\n",
      "              \"value\": \"application/xml\"\n",
      "            },\n",
      "            \"identifier\": \"https://catalegdades.caib.cat/api/views/nsmi-29dr/rows.xml?accessType=DOWNLOAD\",\n",
      "            \"title\": [\n",
      "              {\n",
      "                \"_value\": \"APT\",\n",
      "                \"_lang\": \"ca\"\n",
      "              },\n",
      "              {\n",
      "                \"_value\": \"APT\",\n",
      "                \"_lang\": \"en\"\n",
      "              },\n",
      "              {\n",
      "                \"_value\": \"APT\",\n",
      "                \"_lang\": \"es\"\n",
      "              }\n",
      "            ],\n",
      "            \"type\": \"http://www.w3.org/ns/dcat#Distribution\"\n",
      "          },\n",
      "          {\n",
      "            \"_about\": \"https://datos.gob.es/catalogo/a04003003-apt/resource/bb1b3a68-6b21-4681-b80d-5bbb43c90cff\",\n",
      "            \"accessURL\": \"https://catalegdades.caib.cat/api/views/nsmi-29dr/rows.rdf?accessType=DOWNLOAD\",\n",
      "            \"format\": {\n",
      "              \"_about\": \"https://datos.gob.es/catalogo/a04003003-apt/resource/bb1b3a68-6b21-4681-b80d-5bbb43c90cff/format\",\n",
      "              \"type\": \"http://purl.org/dc/terms/IMT\",\n",
      "              \"value\": \"application/rdf+xml\"\n",
      "            },\n",
      "            \"identifier\": \"https://catalegdades.caib.cat/api/views/nsmi-29dr/rows.rdf?accessType=DOWNLOAD\",\n",
      "            \"title\": [\n",
      "              {\n",
      "                \"_value\": \"APT\",\n",
      "                \"_lang\": \"ca\"\n",
      "              },\n",
      "              {\n",
      "                \"_value\": \"APT\",\n",
      "                \"_lang\": \"en\"\n",
      "              },\n",
      "              {\n",
      "                \"_value\": \"APT\",\n",
      "                \"_lang\": \"es\"\n",
      "              }\n",
      "            ],\n",
      "            \"type\": \"http://www.w3.org/ns/dcat#Distribution\"\n",
      "          },\n",
      "          {\n",
      "            \"_about\": \"https://datos.gob.es/catalogo/a04003003-apt/resource/d9b07d28-bb6e-4755-8cea-1faf1f7a482d\",\n",
      "            \"accessURL\": \"https://catalegdades.caib.cat/api/views/nsmi-29dr/rows.csv?accessType=DOWNLOAD\",\n",
      "            \"format\": {\n",
      "              \"_about\": \"https://datos.gob.es/catalogo/a04003003-apt/resource/d9b07d28-bb6e-4755-8cea-1faf1f7a482d/format\",\n",
      "              \"type\": \"http://purl.org/dc/terms/IMT\",\n",
      "              \"value\": \"text/csv\"\n",
      "            },\n",
      "            \"identifier\": \"https://catalegdades.caib.cat/api/views/nsmi-29dr/rows.csv?accessType=DOWNLOAD\",\n",
      "            \"title\": [\n",
      "              {\n",
      "                \"_value\": \"APT\",\n",
      "                \"_lang\": \"ca\"\n",
      "              },\n",
      "              {\n",
      "                \"_value\": \"APT\",\n",
      "                \"_lang\": \"en\"\n",
      "              },\n",
      "              {\n",
      "                \"_value\": \"APT\",\n",
      "                \"_lang\": \"es\"\n",
      "              }\n",
      "            ],\n",
      "            \"type\": \"http://www.w3.org/ns/dcat#Distribution\"\n",
      "          }\n",
      "        ],\n",
      "        \"identifier\": \"https://catalegdades.caib.cat/d/nsmi-29dr\",\n",
      "        \"issued\": \"mi\\u00e9, 13 abr 2022 22:00:00 GMT+0000\",\n",
      "        \"language\": [\n",
      "          \"ca\",\n",
      "          \"en\",\n",
      "          \"es\"\n",
      "        ],\n",
      "        \"license\": \"http://creativecommons.org/licenses/by/4.0/legalcode\",\n",
      "        \"modified\": \"vie, 14 jun 2024 22:00:00 GMT+0000\",\n",
      "        \"publisher\": \"http://datos.gob.es/recurso/sector-publico/org/Organismo/A04003003\",\n",
      "        \"spatial\": \"http://datos.gob.es/recurso/sector-publico/territorio/Autonomia/Illes-Balears\",\n",
      "        \"theme\": \"http://datos.gob.es/kos/sector-publico/sector/urbanismo-infraestructuras\",\n",
      "        \"title\": [\n",
      "          {\n",
      "            \"_value\": \"APT\",\n",
      "            \"_lang\": \"en\"\n",
      "          },\n",
      "          {\n",
      "            \"_value\": \"APT\",\n",
      "            \"_lang\": \"es\"\n",
      "          },\n",
      "          {\n",
      "            \"_value\": \"APT\",\n",
      "            \"_lang\": \"ca\"\n",
      "          }\n",
      "        ],\n",
      "        \"type\": \"http://www.w3.org/ns/dcat#Dataset\"\n",
      "      },\n",
      "      {\n",
      "        \"_about\": \"https://datos.gob.es/catalogo/a04003003-arpsi-avinguda-10-anys\",\n",
      "        \"description\": [\n",
      "          {\n",
      "            \"_value\": \"<DIV STYLE=\\\"text-align:Left;font-size:12pt\\\"><P><SPAN>Avinguda 10 anys de la delimitaci\\u00f3 gr\\u00e0fica de la superf\\u00edcie negada per les aig\\u00fces per l'ocurr\\u00e8ncia d'avingudes amb per\\u00edodes de retorn de 10, 100 i 500 anys, valors que s'han convingut com a refer\\u00e8ncia per als esdeveniments d'alta, mitja i baixa probabilitat, respectivament (en aplicaci\\u00f3 de l'article 8.1 del Reial Decret 903/2010). Aquesta informaci\\u00f3, acompanyada de l'estimaci\\u00f3 de les variables que caracteritzen l'efecte potencial advers de les crescudes, permet establir el grau d'exposici\\u00f3 al fen\\u00f2men de les diferents parts del territori.Aquest CDE est\\u00e0 format perles zones d'avinguda i els calats per avinguda. Els 11 trams ARPSI s\\u00f3n dels torrents de Na B\\u00e0rbara (Palma), Gros (Palma), Coanegre (Palma/Marratx\\u00ed), Campos, Es Riuet (Manacor/Sant Lloren\\u00e7 des Cardassar), ses Planes (Sant Lloren\\u00e7 des Cardassar), Vall den Marc/Sant Jordi (Pollen\\u00e7a), Major de S\\u00f3ller, Peguera (Calvi\\u00e0), Santa Pon\\u00e7a (Calvi\\u00e0) i Llavanera (Eivissa/Santa Eul\\u00e0ria del Riu).</SPAN></P></DIV>\",\n",
      "            \"_lang\": \"es\"\n",
      "          },\n",
      "          {\n",
      "            \"_value\": \"<DIV STYLE=\\\"text-align:Left;font-size:12pt\\\"><P><SPAN>Avinguda 10 anys de la delimitaci\\u00f3 gr\\u00e0fica de la superf\\u00edcie negada per les aig\\u00fces per l'ocurr\\u00e8ncia d'avingudes amb per\\u00edodes de retorn de 10, 100 i 500 anys, valors que s'han convingut com a refer\\u00e8ncia per als esdeveniments d'alta, mitja i baixa probabilitat, respectivament (en aplicaci\\u00f3 de l'article 8.1 del Reial Decret 903/2010). Aquesta informaci\\u00f3, acompanyada de l'estimaci\\u00f3 de les variables que caracteritzen l'efecte potencial advers de les crescudes, permet establir el grau d'exposici\\u00f3 al fen\\u00f2men de les diferents parts del territori.Aquest CDE est\\u00e0 format perles zones d'avinguda i els calats per avinguda. Els 11 trams ARPSI s\\u00f3n dels torrents de Na B\\u00e0rbara (Palma), Gros (Palma), Coanegre (Palma/Marratx\\u00ed), Campos, Es Riuet (Manacor/Sant Lloren\\u00e7 des Cardassar), ses Planes (Sant Lloren\\u00e7 des Cardassar), Vall den Marc/Sant Jordi (Pollen\\u00e7a), Major de S\\u00f3ller, Peguera (Calvi\\u00e0), Santa Pon\\u00e7a (Calvi\\u00e0) i Llavanera (Eivissa/Santa Eul\\u00e0ria del Riu).</SPAN></P></DIV>\",\n",
      "            \"_lang\": \"ca\"\n",
      "          },\n",
      "          {\n",
      "            \"_value\": \"<DIV STYLE=\\\"text-align:Left;font-size:12pt\\\"><P><SPAN>Avinguda 10 anys de la delimitaci\\u00f3 gr\\u00e0fica de la superf\\u00edcie negada per les aig\\u00fces per l'ocurr\\u00e8ncia d'avingudes amb per\\u00edodes de retorn de 10, 100 i 500 anys, valors que s'han convingut com a refer\\u00e8ncia per als esdeveniments d'alta, mitja i baixa probabilitat, respectivament (en aplicaci\\u00f3 de l'article 8.1 del Reial Decret 903/2010). Aquesta informaci\\u00f3, acompanyada de l'estimaci\\u00f3 de les variables que caracteritzen l'efecte potencial advers de les crescudes, permet establir el grau d'exposici\\u00f3 al fen\\u00f2men de les diferents parts del territori.Aquest CDE est\\u00e0 format perles zones d'avinguda i els calats per avinguda. Els 11 trams ARPSI s\\u00f3n dels torrents de Na B\\u00e0rbara (Palma), Gros (Palma), Coanegre (Palma/Marratx\\u00ed), Campos, Es Riuet (Manacor/Sant Lloren\\u00e7 des Cardassar), ses Planes (Sant Lloren\\u00e7 des Cardassar), Vall den Marc/Sant Jordi (Pollen\\u00e7a), Major de S\\u00f3ller, Peguera (Calvi\\u00e0), Santa Pon\\u00e7a (Calvi\\u00e0) i Llavanera (Eivissa/Santa Eul\\u00e0ria del Riu).</SPAN></P></DIV>\",\n",
      "            \"_lang\": \"en\"\n",
      "          }\n",
      "        ],\n",
      "        \"distribution\": [\n",
      "          {\n",
      "            \"_about\": \"https://datos.gob.es/catalogo/a04003003-arpsi-avinguda-10-anys/resource/22f7444e-a107-4a88-8d4a-999ba253b4e1\",\n",
      "            \"accessURL\": \"https://catalegdades.caib.cat/api/views/8zk4-j2w5/rows.xml?accessType=DOWNLOAD\",\n",
      "            \"format\": {\n",
      "              \"_about\": \"https://datos.gob.es/catalogo/a04003003-arpsi-avinguda-10-anys/resource/22f7444e-a107-4a88-8d4a-999ba253b4e1/format\",\n",
      "              \"type\": \"http://purl.org/dc/terms/IMT\",\n",
      "              \"value\": \"application/xml\"\n",
      "            },\n",
      "            \"identifier\": \"https://catalegdades.caib.cat/api/views/8zk4-j2w5/rows.xml?accessType=DOWNLOAD\",\n",
      "            \"title\": [\n",
      "              {\n",
      "                \"_value\": \"ARPSI Avinguda 10 anys\",\n",
      "                \"_lang\": \"en\"\n",
      "              },\n",
      "              {\n",
      "                \"_value\": \"ARPSI Avinguda 10 anys\",\n",
      "                \"_lang\": \"es\"\n",
      "              },\n",
      "              {\n",
      "                \"_value\": \"ARPSI Avinguda 10 anys\",\n",
      "                \"_lang\": \"ca\"\n",
      "              }\n",
      "            ],\n",
      "            \"type\": \"http://www.w3.org/ns/dcat#Distribution\"\n",
      "          },\n",
      "          {\n",
      "            \"_about\": \"https://datos.gob.es/catalogo/a04003003-arpsi-avinguda-10-anys/resource/523cffcb-851f-4bce-bab0-82f15aaeb9a3\",\n",
      "            \"accessURL\": \"https://catalegdades.caib.cat/api/views/8zk4-j2w5/rows.csv?accessType=DOWNLOAD\",\n",
      "            \"format\": {\n",
      "              \"_about\": \"https://datos.gob.es/catalogo/a04003003-arpsi-avinguda-10-anys/resource/523cffcb-851f-4bce-bab0-82f15aaeb9a3/format\",\n",
      "              \"type\": \"http://purl.org/dc/terms/IMT\",\n",
      "              \"value\": \"text/csv\"\n",
      "            },\n",
      "            \"identifier\": \"https://catalegdades.caib.cat/api/views/8zk4-j2w5/rows.csv?accessType=DOWNLOAD\",\n",
      "            \"title\": [\n",
      "              {\n",
      "                \"_value\": \"ARPSI Avinguda 10 anys\",\n",
      "                \"_lang\": \"en\"\n",
      "              },\n",
      "              {\n",
      "                \"_value\": \"ARPSI Avinguda 10 anys\",\n",
      "                \"_lang\": \"es\"\n",
      "              },\n",
      "              {\n",
      "                \"_value\": \"ARPSI Avinguda 10 anys\",\n",
      "                \"_lang\": \"ca\"\n",
      "              }\n",
      "            ],\n",
      "            \"type\": \"http://www.w3.org/ns/dcat#Distribution\"\n",
      "          },\n",
      "          {\n",
      "            \"_about\": \"https://datos.gob.es/catalogo/a04003003-arpsi-avinguda-10-anys/resource/6bea5f58-6201-4998-93ec-84b99e3f5cde\",\n",
      "            \"accessURL\": \"https://catalegdades.caib.cat/api/views/8zk4-j2w5/rows.json?accessType=DOWNLOAD\",\n",
      "            \"format\": {\n",
      "              \"_about\": \"https://datos.gob.es/catalogo/a04003003-arpsi-avinguda-10-anys/resource/6bea5f58-6201-4998-93ec-84b99e3f5cde/format\",\n",
      "              \"type\": \"http://purl.org/dc/terms/IMT\",\n",
      "              \"value\": \"application/json\"\n",
      "            },\n",
      "            \"identifier\": \"https://catalegdades.caib.cat/api/views/8zk4-j2w5/rows.json?accessType=DOWNLOAD\",\n",
      "            \"title\": [\n",
      "              {\n",
      "                \"_value\": \"ARPSI Avinguda 10 anys\",\n",
      "                \"_lang\": \"en\"\n",
      "              },\n",
      "              {\n",
      "                \"_value\": \"ARPSI Avinguda 10 anys\",\n",
      "                \"_lang\": \"es\"\n",
      "              },\n",
      "              {\n",
      "                \"_value\": \"ARPSI Avinguda 10 anys\",\n",
      "                \"_lang\": \"ca\"\n",
      "              }\n",
      "            ],\n",
      "            \"type\": \"http://www.w3.org/ns/dcat#Distribution\"\n",
      "          },\n",
      "          {\n",
      "            \"_about\": \"https://datos.gob.es/catalogo/a04003003-arpsi-avinguda-10-anys/resource/d93a3474-ea8e-4958-a078-c5899ba72c99\",\n",
      "            \"accessURL\": \"https://catalegdades.caib.cat/api/views/8zk4-j2w5/rows.rdf?accessType=DOWNLOAD\",\n",
      "            \"format\": {\n",
      "              \"_about\": \"https://datos.gob.es/catalogo/a04003003-arpsi-avinguda-10-anys/resource/d93a3474-ea8e-4958-a078-c5899ba72c99/format\",\n",
      "              \"type\": \"http://purl.org/dc/terms/IMT\",\n",
      "              \"value\": \"application/rdf+xml\"\n",
      "            },\n",
      "            \"identifier\": \"https://catalegdades.caib.cat/api/views/8zk4-j2w5/rows.rdf?accessType=DOWNLOAD\",\n",
      "            \"title\": [\n",
      "              {\n",
      "                \"_value\": \"ARPSI Avinguda 10 anys\",\n",
      "                \"_lang\": \"en\"\n",
      "              },\n",
      "              {\n",
      "                \"_value\": \"ARPSI Avinguda 10 anys\",\n",
      "                \"_lang\": \"es\"\n",
      "              },\n",
      "              {\n",
      "                \"_value\": \"ARPSI Avinguda 10 anys\",\n",
      "                \"_lang\": \"ca\"\n",
      "              }\n",
      "            ],\n",
      "            \"type\": \"http://www.w3.org/ns/dcat#Distribution\"\n",
      "          }\n",
      "        ],\n",
      "        \"identifier\": \"https://catalegdades.caib.cat/d/8zk4-j2w5\",\n",
      "        \"issued\": \"mar, 27 jun 2023 22:00:00 GMT+0000\",\n",
      "        \"keyword\": [\n",
      "          {\n",
      "            \"_value\": \"illes balears\",\n",
      "            \"_lang\": \"es\"\n",
      "          },\n",
      "          {\n",
      "            \"_value\": \"recursos h\\u00eddrics\",\n",
      "            \"_lang\": \"es\"\n",
      "          }\n",
      "        ],\n",
      "        \"language\": [\n",
      "          \"ca\",\n",
      "          \"en\",\n",
      "          \"es\"\n",
      "        ],\n",
      "        \"license\": \"http://creativecommons.org/licenses/by/4.0/legalcode\",\n",
      "        \"modified\": \"mar, 27 jun 2023 22:00:00 GMT+0000\",\n",
      "        \"publisher\": \"http://datos.gob.es/recurso/sector-publico/org/Organismo/A04003003\",\n",
      "        \"spatial\": \"http://datos.gob.es/recurso/sector-publico/territorio/Autonomia/Illes-Balears\",\n",
      "        \"theme\": \"http://datos.gob.es/kos/sector-publico/sector/medio-ambiente\",\n",
      "        \"title\": [\n",
      "          {\n",
      "            \"_value\": \"ARPSI Avinguda 10 anys\",\n",
      "            \"_lang\": \"ca\"\n",
      "          },\n",
      "          {\n",
      "            \"_value\": \"ARPSI Avinguda 10 anys\",\n",
      "            \"_lang\": \"en\"\n",
      "          },\n",
      "          {\n",
      "            \"_value\": \"ARPSI Avinguda 10 anys\",\n",
      "            \"_lang\": \"es\"\n",
      "          }\n",
      "        ],\n",
      "        \"type\": \"http://www.w3.org/ns/dcat#Dataset\"\n",
      "      },\n",
      "      {\n",
      "        \"_about\": \"https://datos.gob.es/catalogo/a04003003-arpsi-avinguda-100-anys\",\n",
      "        \"description\": [\n",
      "          {\n",
      "            \"_value\": \"<DIV STYLE=\\\"text-align:Left;font-size:12pt\\\"><P><SPAN>Avinguda 100 anys de la delimitaci\\u00f3 gr\\u00e0fica de la superf\\u00edcie negada per les aig\\u00fces per l'ocurr\\u00e8ncia d'avingudes amb per\\u00edodes de retorn de 10, 100 i 500 anys, valors que s'han convingut com a refer\\u00e8ncia per als esdeveniments d'alta, mitja i baixa probabilitat, respectivament (en aplicaci\\u00f3 de l'article 8.1 del Reial Decret 903/2010). Aquesta informaci\\u00f3, acompanyada de l'estimaci\\u00f3 de les variables que caracteritzen l'efecte potencial advers de les crescudes, permet establir el grau d'exposici\\u00f3 al fen\\u00f2men de les diferents parts del territori.Aquest CDE est\\u00e0 format perles zones d'avinguda i els calats per avinguda. Els 11 trams ARPSI s\\u00f3n dels torrents de Na B\\u00e0rbara (Palma), Gros (Palma), Coanegre (Palma/Marratx\\u00ed), Campos, Es Riuet (Manacor/Sant Lloren\\u00e7 des Cardassar), ses Planes (Sant Lloren\\u00e7 des Cardassar), Vall den Marc/Sant Jordi (Pollen\\u00e7a), Major de S\\u00f3ller, Peguera (Calvi\\u00e0), Santa Pon\\u00e7a (Calvi\\u00e0) i Llavanera (Eivissa/Santa Eul\\u00e0ria del Riu).</SPAN></P></DIV>\",\n",
      "            \"_lang\": \"ca\"\n",
      "          },\n",
      "          {\n",
      "            \"_value\": \"<DIV STYLE=\\\"text-align:Left;font-size:12pt\\\"><P><SPAN>Avinguda 100 anys de la delimitaci\\u00f3 gr\\u00e0fica de la superf\\u00edcie negada per les aig\\u00fces per l'ocurr\\u00e8ncia d'avingudes amb per\\u00edodes de retorn de 10, 100 i 500 anys, valors que s'han convingut com a refer\\u00e8ncia per als esdeveniments d'alta, mitja i baixa probabilitat, respectivament (en aplicaci\\u00f3 de l'article 8.1 del Reial Decret 903/2010). Aquesta informaci\\u00f3, acompanyada de l'estimaci\\u00f3 de les variables que caracteritzen l'efecte potencial advers de les crescudes, permet establir el grau d'exposici\\u00f3 al fen\\u00f2men de les diferents parts del territori.Aquest CDE est\\u00e0 format perles zones d'avinguda i els calats per avinguda. Els 11 trams ARPSI s\\u00f3n dels torrents de Na B\\u00e0rbara (Palma), Gros (Palma), Coanegre (Palma/Marratx\\u00ed), Campos, Es Riuet (Manacor/Sant Lloren\\u00e7 des Cardassar), ses Planes (Sant Lloren\\u00e7 des Cardassar), Vall den Marc/Sant Jordi (Pollen\\u00e7a), Major de S\\u00f3ller, Peguera (Calvi\\u00e0), Santa Pon\\u00e7a (Calvi\\u00e0) i Llavanera (Eivissa/Santa Eul\\u00e0ria del Riu).</SPAN></P></DIV>\",\n",
      "            \"_lang\": \"en\"\n",
      "          },\n",
      "          {\n",
      "            \"_value\": \"<DIV STYLE=\\\"text-align:Left;font-size:12pt\\\"><P><SPAN>Avinguda 100 anys de la delimitaci\\u00f3 gr\\u00e0fica de la superf\\u00edcie negada per les aig\\u00fces per l'ocurr\\u00e8ncia d'avingudes amb per\\u00edodes de retorn de 10, 100 i 500 anys, valors que s'han convingut com a refer\\u00e8ncia per als esdeveniments d'alta, mitja i baixa probabilitat, respectivament (en aplicaci\\u00f3 de l'article 8.1 del Reial Decret 903/2010). Aquesta informaci\\u00f3, acompanyada de l'estimaci\\u00f3 de les variables que caracteritzen l'efecte potencial advers de les crescudes, permet establir el grau d'exposici\\u00f3 al fen\\u00f2men de les diferents parts del territori.Aquest CDE est\\u00e0 format perles zones d'avinguda i els calats per avinguda. Els 11 trams ARPSI s\\u00f3n dels torrents de Na B\\u00e0rbara (Palma), Gros (Palma), Coanegre (Palma/Marratx\\u00ed), Campos, Es Riuet (Manacor/Sant Lloren\\u00e7 des Cardassar), ses Planes (Sant Lloren\\u00e7 des Cardassar), Vall den Marc/Sant Jordi (Pollen\\u00e7a), Major de S\\u00f3ller, Peguera (Calvi\\u00e0), Santa Pon\\u00e7a (Calvi\\u00e0) i Llavanera (Eivissa/Santa Eul\\u00e0ria del Riu).</SPAN></P></DIV>\",\n",
      "            \"_lang\": \"es\"\n",
      "          }\n",
      "        ],\n",
      "        \"distribution\": [\n",
      "          {\n",
      "            \"_about\": \"https://datos.gob.es/catalogo/a04003003-arpsi-avinguda-100-anys/resource/6616ab04-c042-4ea4-8e13-c5b367502fd7\",\n",
      "            \"accessURL\": \"https://catalegdades.caib.cat/api/views/9bsd-2732/rows.xml?accessType=DOWNLOAD\",\n",
      "            \"format\": {\n",
      "              \"_about\": \"https://datos.gob.es/catalogo/a04003003-arpsi-avinguda-100-anys/resource/6616ab04-c042-4ea4-8e13-c5b367502fd7/format\",\n",
      "              \"type\": \"http://purl.org/dc/terms/IMT\",\n",
      "              \"value\": \"application/xml\"\n",
      "            },\n",
      "            \"identifier\": \"https://catalegdades.caib.cat/api/views/9bsd-2732/rows.xml?accessType=DOWNLOAD\",\n",
      "            \"title\": [\n",
      "              {\n",
      "                \"_value\": \"ARPSI Avinguda 100 anys\",\n",
      "                \"_lang\": \"es\"\n",
      "              },\n",
      "              {\n",
      "                \"_value\": \"ARPSI Avinguda 100 anys\",\n",
      "                \"_lang\": \"en\"\n",
      "              },\n",
      "              {\n",
      "                \"_value\": \"ARPSI Avinguda 100 anys\",\n",
      "                \"_lang\": \"ca\"\n",
      "              }\n",
      "            ],\n",
      "            \"type\": \"http://www.w3.org/ns/dcat#Distribution\"\n",
      "          },\n",
      "          {\n",
      "            \"_about\": \"https://datos.gob.es/catalogo/a04003003-arpsi-avinguda-100-anys/resource/916eb83c-69d1-402e-8a01-5ccff334ec27\",\n",
      "            \"accessURL\": \"https://catalegdades.caib.cat/api/views/9bsd-2732/rows.csv?accessType=DOWNLOAD\",\n",
      "            \"format\": {\n",
      "              \"_about\": \"https://datos.gob.es/catalogo/a04003003-arpsi-avinguda-100-anys/resource/916eb83c-69d1-402e-8a01-5ccff334ec27/format\",\n",
      "              \"type\": \"http://purl.org/dc/terms/IMT\",\n",
      "              \"value\": \"text/csv\"\n",
      "            },\n",
      "            \"identifier\": \"https://catalegdades.caib.cat/api/views/9bsd-2732/rows.csv?accessType=DOWNLOAD\",\n",
      "            \"title\": [\n",
      "              {\n",
      "                \"_value\": \"ARPSI Avinguda 100 anys\",\n",
      "                \"_lang\": \"es\"\n",
      "              },\n",
      "              {\n",
      "                \"_value\": \"ARPSI Avinguda 100 anys\",\n",
      "                \"_lang\": \"en\"\n",
      "              },\n",
      "              {\n",
      "                \"_value\": \"ARPSI Avinguda 100 anys\",\n",
      "                \"_lang\": \"ca\"\n",
      "              }\n",
      "            ],\n",
      "            \"type\": \"http://www.w3.org/ns/dcat#Distribution\"\n",
      "          },\n",
      "          {\n",
      "            \"_about\": \"https://datos.gob.es/catalogo/a04003003-arpsi-avinguda-100-anys/resource/d308335e-6b44-49ec-9d60-b0215b9efae9\",\n",
      "            \"accessURL\": \"https://catalegdades.caib.cat/api/views/9bsd-2732/rows.rdf?accessType=DOWNLOAD\",\n",
      "            \"format\": {\n",
      "              \"_about\": \"https://datos.gob.es/catalogo/a04003003-arpsi-avinguda-100-anys/resource/d308335e-6b44-49ec-9d60-b0215b9efae9/format\",\n",
      "              \"type\": \"http://purl.org/dc/terms/IMT\",\n",
      "              \"value\": \"application/rdf+xml\"\n",
      "            },\n",
      "            \"identifier\": \"https://catalegdades.caib.cat/api/views/9bsd-2732/rows.rdf?accessType=DOWNLOAD\",\n",
      "            \"title\": [\n",
      "              {\n",
      "                \"_value\": \"ARPSI Avinguda 100 anys\",\n",
      "                \"_lang\": \"es\"\n",
      "              },\n",
      "              {\n",
      "                \"_value\": \"ARPSI Avinguda 100 anys\",\n",
      "                \"_lang\": \"en\"\n",
      "              },\n",
      "              {\n",
      "                \"_value\": \"ARPSI Avinguda 100 anys\",\n",
      "                \"_lang\": \"ca\"\n",
      "              }\n",
      "            ],\n",
      "            \"type\": \"http://www.w3.org/ns/dcat#Distribution\"\n",
      "          },\n",
      "          {\n",
      "            \"_about\": \"https://datos.gob.es/catalogo/a04003003-arpsi-avinguda-100-anys/resource/db5c4a51-888c-4f59-ad45-06a3c1891ec8\",\n",
      "            \"accessURL\": \"https://catalegdades.caib.cat/api/views/9bsd-2732/rows.json?accessType=DOWNLOAD\",\n",
      "            \"format\": {\n",
      "              \"_about\": \"https://datos.gob.es/catalogo/a04003003-arpsi-avinguda-100-anys/resource/db5c4a51-888c-4f59-ad45-06a3c1891ec8/format\",\n",
      "              \"type\": \"http://purl.org/dc/terms/IMT\",\n",
      "              \"value\": \"application/json\"\n",
      "            },\n",
      "            \"identifier\": \"https://catalegdades.caib.cat/api/views/9bsd-2732/rows.json?accessType=DOWNLOAD\",\n",
      "            \"title\": [\n",
      "              {\n",
      "                \"_value\": \"ARPSI Avinguda 100 anys\",\n",
      "                \"_lang\": \"es\"\n",
      "              },\n",
      "              {\n",
      "                \"_value\": \"ARPSI Avinguda 100 anys\",\n",
      "                \"_lang\": \"en\"\n",
      "              },\n",
      "              {\n",
      "                \"_value\": \"ARPSI Avinguda 100 anys\",\n",
      "                \"_lang\": \"ca\"\n",
      "              }\n",
      "            ],\n",
      "            \"type\": \"http://www.w3.org/ns/dcat#Distribution\"\n",
      "          }\n",
      "        ],\n",
      "        \"identifier\": \"https://catalegdades.caib.cat/d/9bsd-2732\",\n",
      "        \"issued\": \"mar, 27 jun 2023 22:00:00 GMT+0000\",\n",
      "        \"language\": [\n",
      "          \"ca\",\n",
      "          \"en\",\n",
      "          \"es\"\n",
      "        ],\n",
      "        \"license\": \"http://creativecommons.org/licenses/by/4.0/legalcode\",\n",
      "        \"modified\": \"mar, 27 jun 2023 22:00:00 GMT+0000\",\n",
      "        \"publisher\": \"http://datos.gob.es/recurso/sector-publico/org/Organismo/A04003003\",\n",
      "        \"spatial\": \"http://datos.gob.es/recurso/sector-publico/territorio/Autonomia/Illes-Balears\",\n",
      "        \"theme\": \"http://datos.gob.es/kos/sector-publico/sector/medio-ambiente\",\n",
      "        \"title\": [\n",
      "          {\n",
      "            \"_value\": \"ARPSI Avinguda 100 anys\",\n",
      "            \"_lang\": \"es\"\n",
      "          },\n",
      "          {\n",
      "            \"_value\": \"ARPSI Avinguda 100 anys\",\n",
      "            \"_lang\": \"en\"\n",
      "          },\n",
      "          {\n",
      "            \"_value\": \"ARPSI Avinguda 100 anys\",\n",
      "            \"_lang\": \"ca\"\n",
      "          }\n",
      "        ],\n",
      "        \"type\": \"http://www.w3.org/ns/dcat#Dataset\"\n",
      "      },\n",
      "      {\n",
      "        \"_about\": \"https://datos.gob.es/catalogo/a04003003-arpsi-avinguda-500-anys\",\n",
      "        \"description\": [\n",
      "          {\n",
      "            \"_value\": \"<DIV STYLE=\\\"text-align:Left;font-size:12pt\\\"><P><SPAN>Avinguda 500 anys de la delimitaci\\u00f3 gr\\u00e0fica de la superf\\u00edcie negada per les aig\\u00fces per l'ocurr\\u00e8ncia d'avingudes amb per\\u00edodes de retorn de 10, 100 i 500 anys, valors que s'han convingut com a refer\\u00e8ncia per als esdeveniments d'alta, mitja i baixa probabilitat, respectivament (en aplicaci\\u00f3 de l'article 8.1 del Reial Decret 903/2010). Aquesta informaci\\u00f3, acompanyada de l'estimaci\\u00f3 de les variables que caracteritzen l'efecte potencial advers de les crescudes, permet establir el grau d'exposici\\u00f3 al fen\\u00f2men de les diferents parts del territori.Aquest CDE est\\u00e0 format perles zones d'avinguda i els calats per avinguda. Els 11 trams ARPSI s\\u00f3n dels torrents de Na B\\u00e0rbara (Palma), Gros (Palma), Coanegre (Palma/Marratx\\u00ed), Campos, Es Riuet (Manacor/Sant Lloren\\u00e7 des Cardassar), ses Planes (Sant Lloren\\u00e7 des Cardassar), Vall den Marc/Sant Jordi (Pollen\\u00e7a), Major de S\\u00f3ller, Peguera (Calvi\\u00e0), Santa Pon\\u00e7a (Calvi\\u00e0) i Llavanera (Eivissa/Santa Eul\\u00e0ria del Riu).</SPAN></P></DIV>\",\n",
      "            \"_lang\": \"es\"\n",
      "          },\n",
      "          {\n",
      "            \"_value\": \"<DIV STYLE=\\\"text-align:Left;font-size:12pt\\\"><P><SPAN>Avinguda 500 anys de la delimitaci\\u00f3 gr\\u00e0fica de la superf\\u00edcie negada per les aig\\u00fces per l'ocurr\\u00e8ncia d'avingudes amb per\\u00edodes de retorn de 10, 100 i 500 anys, valors que s'han convingut com a refer\\u00e8ncia per als esdeveniments d'alta, mitja i baixa probabilitat, respectivament (en aplicaci\\u00f3 de l'article 8.1 del Reial Decret 903/2010). Aquesta informaci\\u00f3, acompanyada de l'estimaci\\u00f3 de les variables que caracteritzen l'efecte potencial advers de les crescudes, permet establir el grau d'exposici\\u00f3 al fen\\u00f2men de les diferents parts del territori.Aquest CDE est\\u00e0 format perles zones d'avinguda i els calats per avinguda. Els 11 trams ARPSI s\\u00f3n dels torrents de Na B\\u00e0rbara (Palma), Gros (Palma), Coanegre (Palma/Marratx\\u00ed), Campos, Es Riuet (Manacor/Sant Lloren\\u00e7 des Cardassar), ses Planes (Sant Lloren\\u00e7 des Cardassar), Vall den Marc/Sant Jordi (Pollen\\u00e7a), Major de S\\u00f3ller, Peguera (Calvi\\u00e0), Santa Pon\\u00e7a (Calvi\\u00e0) i Llavanera (Eivissa/Santa Eul\\u00e0ria del Riu).</SPAN></P></DIV>\",\n",
      "            \"_lang\": \"ca\"\n",
      "          },\n",
      "          {\n",
      "            \"_value\": \"<DIV STYLE=\\\"text-align:Left;font-size:12pt\\\"><P><SPAN>Avinguda 500 anys de la delimitaci\\u00f3 gr\\u00e0fica de la superf\\u00edcie negada per les aig\\u00fces per l'ocurr\\u00e8ncia d'avingudes amb per\\u00edodes de retorn de 10, 100 i 500 anys, valors que s'han convingut com a refer\\u00e8ncia per als esdeveniments d'alta, mitja i baixa probabilitat, respectivament (en aplicaci\\u00f3 de l'article 8.1 del Reial Decret 903/2010). Aquesta informaci\\u00f3, acompanyada de l'estimaci\\u00f3 de les variables que caracteritzen l'efecte potencial advers de les crescudes, permet establir el grau d'exposici\\u00f3 al fen\\u00f2men de les diferents parts del territori.Aquest CDE est\\u00e0 format perles zones d'avinguda i els calats per avinguda. Els 11 trams ARPSI s\\u00f3n dels torrents de Na B\\u00e0rbara (Palma), Gros (Palma), Coanegre (Palma/Marratx\\u00ed), Campos, Es Riuet (Manacor/Sant Lloren\\u00e7 des Cardassar), ses Planes (Sant Lloren\\u00e7 des Cardassar), Vall den Marc/Sant Jordi (Pollen\\u00e7a), Major de S\\u00f3ller, Peguera (Calvi\\u00e0), Santa Pon\\u00e7a (Calvi\\u00e0) i Llavanera (Eivissa/Santa Eul\\u00e0ria del Riu).</SPAN></P></DIV>\",\n",
      "            \"_lang\": \"en\"\n",
      "          }\n",
      "        ],\n",
      "        \"distribution\": [\n",
      "          {\n",
      "            \"_about\": \"https://datos.gob.es/catalogo/a04003003-arpsi-avinguda-500-anys/resource/299afd86-9324-4a42-8151-cd6b70d414e9\",\n",
      "            \"accessURL\": \"https://catalegdades.caib.cat/api/views/8tqv-3caf/rows.xml?accessType=DOWNLOAD\",\n",
      "            \"format\": {\n",
      "              \"_about\": \"https://datos.gob.es/catalogo/a04003003-arpsi-avinguda-500-anys/resource/299afd86-9324-4a42-8151-cd6b70d414e9/format\",\n",
      "              \"type\": \"http://purl.org/dc/terms/IMT\",\n",
      "              \"value\": \"application/xml\"\n",
      "            },\n",
      "            \"identifier\": \"https://catalegdades.caib.cat/api/views/8tqv-3caf/rows.xml?accessType=DOWNLOAD\",\n",
      "            \"title\": [\n",
      "              {\n",
      "                \"_value\": \"ARPSI Avinguda 500 anys\",\n",
      "                \"_lang\": \"en\"\n",
      "              },\n",
      "              {\n",
      "                \"_value\": \"ARPSI Avinguda 500 anys\",\n",
      "                \"_lang\": \"es\"\n",
      "              },\n",
      "              {\n",
      "                \"_value\": \"ARPSI Avinguda 500 anys\",\n",
      "                \"_lang\": \"ca\"\n",
      "              }\n",
      "            ],\n",
      "            \"type\": \"http://www.w3.org/ns/dcat#Distribution\"\n",
      "          },\n",
      "          {\n",
      "            \"_about\": \"https://datos.gob.es/catalogo/a04003003-arpsi-avinguda-500-anys/resource/46e39495-4304-4c7a-b5ba-9207971adf24\",\n",
      "            \"accessURL\": \"https://catalegdades.caib.cat/api/views/8tqv-3caf/rows.csv?accessType=DOWNLOAD\",\n",
      "            \"format\": {\n",
      "              \"_about\": \"https://datos.gob.es/catalogo/a04003003-arpsi-avinguda-500-anys/resource/46e39495-4304-4c7a-b5ba-9207971adf24/format\",\n",
      "              \"type\": \"http://purl.org/dc/terms/IMT\",\n",
      "              \"value\": \"text/csv\"\n",
      "            },\n",
      "            \"identifier\": \"https://catalegdades.caib.cat/api/views/8tqv-3caf/rows.csv?accessType=DOWNLOAD\",\n",
      "            \"title\": [\n",
      "              {\n",
      "                \"_value\": \"ARPSI Avinguda 500 anys\",\n",
      "                \"_lang\": \"en\"\n",
      "              },\n",
      "              {\n",
      "                \"_value\": \"ARPSI Avinguda 500 anys\",\n",
      "                \"_lang\": \"es\"\n",
      "              },\n",
      "              {\n",
      "                \"_value\": \"ARPSI Avinguda 500 anys\",\n",
      "                \"_lang\": \"ca\"\n",
      "              }\n",
      "            ],\n",
      "            \"type\": \"http://www.w3.org/ns/dcat#Distribution\"\n",
      "          },\n",
      "          {\n",
      "            \"_about\": \"https://datos.gob.es/catalogo/a04003003-arpsi-avinguda-500-anys/resource/c30615ac-6924-4267-ac1e-ac7d93155c5c\",\n",
      "            \"accessURL\": \"https://catalegdades.caib.cat/api/views/8tqv-3caf/rows.json?accessType=DOWNLOAD\",\n",
      "            \"format\": {\n",
      "              \"_about\": \"https://datos.gob.es/catalogo/a04003003-arpsi-avinguda-500-anys/resource/c30615ac-6924-4267-ac1e-ac7d93155c5c/format\",\n",
      "              \"type\": \"http://purl.org/dc/terms/IMT\",\n",
      "              \"value\": \"application/json\"\n",
      "            },\n",
      "            \"identifier\": \"https://catalegdades.caib.cat/api/views/8tqv-3caf/rows.json?accessType=DOWNLOAD\",\n",
      "            \"title\": [\n",
      "              {\n",
      "                \"_value\": \"ARPSI Avinguda 500 anys\",\n",
      "                \"_lang\": \"en\"\n",
      "              },\n",
      "              {\n",
      "                \"_value\": \"ARPSI Avinguda 500 anys\",\n",
      "                \"_lang\": \"es\"\n",
      "              },\n",
      "              {\n",
      "                \"_value\": \"ARPSI Avinguda 500 anys\",\n",
      "                \"_lang\": \"ca\"\n",
      "              }\n",
      "            ],\n",
      "            \"type\": \"http://www.w3.org/ns/dcat#Distribution\"\n",
      "          },\n",
      "          {\n",
      "            \"_about\": \"https://datos.gob.es/catalogo/a04003003-arpsi-avinguda-500-anys/resource/f5a9b2d9-a7f0-47fb-bb63-503cc5c48dd3\",\n",
      "            \"accessURL\": \"https://catalegdades.caib.cat/api/views/8tqv-3caf/rows.rdf?accessType=DOWNLOAD\",\n",
      "            \"format\": {\n",
      "              \"_about\": \"https://datos.gob.es/catalogo/a04003003-arpsi-avinguda-500-anys/resource/f5a9b2d9-a7f0-47fb-bb63-503cc5c48dd3/format\",\n",
      "              \"type\": \"http://purl.org/dc/terms/IMT\",\n",
      "              \"value\": \"application/rdf+xml\"\n",
      "            },\n",
      "            \"identifier\": \"https://catalegdades.caib.cat/api/views/8tqv-3caf/rows.rdf?accessType=DOWNLOAD\",\n",
      "            \"title\": [\n",
      "              {\n",
      "                \"_value\": \"ARPSI Avinguda 500 anys\",\n",
      "                \"_lang\": \"en\"\n",
      "              },\n",
      "              {\n",
      "                \"_value\": \"ARPSI Avinguda 500 anys\",\n",
      "                \"_lang\": \"es\"\n",
      "              },\n",
      "              {\n",
      "                \"_value\": \"ARPSI Avinguda 500 anys\",\n",
      "                \"_lang\": \"ca\"\n",
      "              }\n",
      "            ],\n",
      "            \"type\": \"http://www.w3.org/ns/dcat#Distribution\"\n",
      "          }\n",
      "        ],\n",
      "        \"identifier\": \"https://catalegdades.caib.cat/d/8tqv-3caf\",\n",
      "        \"issued\": \"mar, 27 jun 2023 22:00:00 GMT+0000\",\n",
      "        \"keyword\": [\n",
      "          {\n",
      "            \"_value\": \"illes balears\",\n",
      "            \"_lang\": \"es\"\n",
      "          },\n",
      "          {\n",
      "            \"_value\": \"recursos h\\u00eddrics\",\n",
      "            \"_lang\": \"es\"\n",
      "          }\n",
      "        ],\n",
      "        \"language\": [\n",
      "          \"ca\",\n",
      "          \"en\",\n",
      "          \"es\"\n",
      "        ],\n",
      "        \"license\": \"http://creativecommons.org/licenses/by/4.0/legalcode\",\n",
      "        \"modified\": \"mar, 27 jun 2023 22:00:00 GMT+0000\",\n",
      "        \"publisher\": \"http://datos.gob.es/recurso/sector-publico/org/Organismo/A04003003\",\n",
      "        \"spatial\": \"http://datos.gob.es/recurso/sector-publico/territorio/Autonomia/Illes-Balears\",\n",
      "        \"theme\": \"http://datos.gob.es/kos/sector-publico/sector/medio-ambiente\",\n",
      "        \"title\": [\n",
      "          {\n",
      "            \"_value\": \"ARPSI Avinguda 500 anys\",\n",
      "            \"_lang\": \"en\"\n",
      "          },\n",
      "          {\n",
      "            \"_value\": \"ARPSI Avinguda 500 anys\",\n",
      "            \"_lang\": \"es\"\n",
      "          },\n",
      "          {\n",
      "            \"_value\": \"ARPSI Avinguda 500 anys\",\n",
      "            \"_lang\": \"ca\"\n",
      "          }\n",
      "        ],\n",
      "        \"type\": \"http://www.w3.org/ns/dcat#Dataset\"\n",
      "      },\n",
      "      {\n",
      "        \"_about\": \"https://datos.gob.es/catalogo/a04003003-arpsi-domini-public-hidraulic-cartografic\",\n",
      "        \"description\": [\n",
      "          {\n",
      "            \"_value\": \"<DIV STYLE=\\\"text-align:Left;font-size:12pt\\\"><P><SPAN>Domini p\\u00fablic hidr\\u00e0ulic cartogr\\u00e0fic de la delimitaci\\u00f3 gr\\u00e0fica de la superf\\u00edcie negada per les aig\\u00fces per l'ocurr\\u00e8ncia d'avingudes amb per\\u00edodes de retorn de 10, 100 i 500 anys, valors que s'han convingut com a refer\\u00e8ncia per als esdeveniments d'alta, mitja i baixa probabilitat, respectivament (en aplicaci\\u00f3 de l'article 8.1 del Reial Decret 903/2010). Aquesta informaci\\u00f3, acompanyada de l'estimaci\\u00f3 de les variables que caracteritzen l'efecte potencial advers de les crescudes, permet establir el grau d'exposici\\u00f3 al fen\\u00f2men de les diferents parts del territori.Aquest CDE est\\u00e0 format perles zones d'avinguda i els calats per avinguda. Els 11 trams ARPSI s\\u00f3n dels torrents de Na B\\u00e0rbara (Palma), Gros (Palma), Coanegre (Palma/Marratx\\u00ed), Campos, Es Riuet (Manacor/Sant Lloren\\u00e7 des Cardassar), ses Planes (Sant Lloren\\u00e7 des Cardassar), Vall den Marc/Sant Jordi (Pollen\\u00e7a), Major de S\\u00f3ller, Peguera (Calvi\\u00e0), Santa Pon\\u00e7a (Calvi\\u00e0) i Llavanera (Eivissa/Santa Eul\\u00e0ria del Riu).</SPAN></P></DIV>\",\n",
      "            \"_lang\": \"es\"\n",
      "          },\n",
      "          {\n",
      "            \"_value\": \"<DIV STYLE=\\\"text-align:Left;font-size:12pt\\\"><P><SPAN>Domini p\\u00fablic hidr\\u00e0ulic cartogr\\u00e0fic de la delimitaci\\u00f3 gr\\u00e0fica de la superf\\u00edcie negada per les aig\\u00fces per l'ocurr\\u00e8ncia d'avingudes amb per\\u00edodes de retorn de 10, 100 i 500 anys, valors que s'han convingut com a refer\\u00e8ncia per als esdeveniments d'alta, mitja i baixa probabilitat, respectivament (en aplicaci\\u00f3 de l'article 8.1 del Reial Decret 903/2010). Aquesta informaci\\u00f3, acompanyada de l'estimaci\\u00f3 de les variables que caracteritzen l'efecte potencial advers de les crescudes, permet establir el grau d'exposici\\u00f3 al fen\\u00f2men de les diferents parts del territori.Aquest CDE est\\u00e0 format perles zones d'avinguda i els calats per avinguda. Els 11 trams ARPSI s\\u00f3n dels torrents de Na B\\u00e0rbara (Palma), Gros (Palma), Coanegre (Palma/Marratx\\u00ed), Campos, Es Riuet (Manacor/Sant Lloren\\u00e7 des Cardassar), ses Planes (Sant Lloren\\u00e7 des Cardassar), Vall den Marc/Sant Jordi (Pollen\\u00e7a), Major de S\\u00f3ller, Peguera (Calvi\\u00e0), Santa Pon\\u00e7a (Calvi\\u00e0) i Llavanera (Eivissa/Santa Eul\\u00e0ria del Riu).</SPAN></P></DIV>\",\n",
      "            \"_lang\": \"ca\"\n",
      "          },\n",
      "          {\n",
      "            \"_value\": \"<DIV STYLE=\\\"text-align:Left;font-size:12pt\\\"><P><SPAN>Domini p\\u00fablic hidr\\u00e0ulic cartogr\\u00e0fic de la delimitaci\\u00f3 gr\\u00e0fica de la superf\\u00edcie negada per les aig\\u00fces per l'ocurr\\u00e8ncia d'avingudes amb per\\u00edodes de retorn de 10, 100 i 500 anys, valors que s'han convingut com a refer\\u00e8ncia per als esdeveniments d'alta, mitja i baixa probabilitat, respectivament (en aplicaci\\u00f3 de l'article 8.1 del Reial Decret 903/2010). Aquesta informaci\\u00f3, acompanyada de l'estimaci\\u00f3 de les variables que caracteritzen l'efecte potencial advers de les crescudes, permet establir el grau d'exposici\\u00f3 al fen\\u00f2men de les diferents parts del territori.Aquest CDE est\\u00e0 format perles zones d'avinguda i els calats per avinguda. Els 11 trams ARPSI s\\u00f3n dels torrents de Na B\\u00e0rbara (Palma), Gros (Palma), Coanegre (Palma/Marratx\\u00ed), Campos, Es Riuet (Manacor/Sant Lloren\\u00e7 des Cardassar), ses Planes (Sant Lloren\\u00e7 des Cardassar), Vall den Marc/Sant Jordi (Pollen\\u00e7a), Major de S\\u00f3ller, Peguera (Calvi\\u00e0), Santa Pon\\u00e7a (Calvi\\u00e0) i Llavanera (Eivissa/Santa Eul\\u00e0ria del Riu).</SPAN></P></DIV>\",\n",
      "            \"_lang\": \"en\"\n",
      "          }\n",
      "        ],\n",
      "        \"distribution\": [\n",
      "          {\n",
      "            \"_about\": \"https://datos.gob.es/catalogo/a04003003-arpsi-domini-public-hidraulic-cartografic/resource/0e024903-913c-49b9-b7a5-ea9cedb97efb\",\n",
      "            \"accessURL\": \"https://catalegdades.caib.cat/api/views/5vcb-psjt/rows.csv?accessType=DOWNLOAD\",\n",
      "            \"format\": {\n",
      "              \"_about\": \"https://datos.gob.es/catalogo/a04003003-arpsi-domini-public-hidraulic-cartografic/resource/0e024903-913c-49b9-b7a5-ea9cedb97efb/format\",\n",
      "              \"type\": \"http://purl.org/dc/terms/IMT\",\n",
      "              \"value\": \"text/csv\"\n",
      "            },\n",
      "            \"identifier\": \"https://catalegdades.caib.cat/api/views/5vcb-psjt/rows.csv?accessType=DOWNLOAD\",\n",
      "            \"title\": [\n",
      "              {\n",
      "                \"_value\": \"ARPSI Domini P\\u00fablic Hidr\\u00e0ulic Cartogr\\u00e0fic\",\n",
      "                \"_lang\": \"es\"\n",
      "              },\n",
      "              {\n",
      "                \"_value\": \"ARPSI Domini P\\u00fablic Hidr\\u00e0ulic Cartogr\\u00e0fic\",\n",
      "                \"_lang\": \"ca\"\n",
      "              },\n",
      "              {\n",
      "                \"_value\": \"ARPSI Domini P\\u00fablic Hidr\\u00e0ulic Cartogr\\u00e0fic\",\n",
      "                \"_lang\": \"en\"\n",
      "              }\n",
      "            ],\n",
      "            \"type\": \"http://www.w3.org/ns/dcat#Distribution\"\n",
      "          },\n",
      "          {\n",
      "            \"_about\": \"https://datos.gob.es/catalogo/a04003003-arpsi-domini-public-hidraulic-cartografic/resource/21f98ad5-95f4-40b3-890e-c35c6039e5cc\",\n",
      "            \"accessURL\": \"https://catalegdades.caib.cat/api/views/5vcb-psjt/rows.xml?accessType=DOWNLOAD\",\n",
      "            \"format\": {\n",
      "              \"_about\": \"https://datos.gob.es/catalogo/a04003003-arpsi-domini-public-hidraulic-cartografic/resource/21f98ad5-95f4-40b3-890e-c35c6039e5cc/format\",\n",
      "              \"type\": \"http://purl.org/dc/terms/IMT\",\n",
      "              \"value\": \"application/xml\"\n",
      "            },\n",
      "            \"identifier\": \"https://catalegdades.caib.cat/api/views/5vcb-psjt/rows.xml?accessType=DOWNLOAD\",\n",
      "            \"title\": [\n",
      "              {\n",
      "                \"_value\": \"ARPSI Domini P\\u00fablic Hidr\\u00e0ulic Cartogr\\u00e0fic\",\n",
      "                \"_lang\": \"es\"\n",
      "              },\n",
      "              {\n",
      "                \"_value\": \"ARPSI Domini P\\u00fablic Hidr\\u00e0ulic Cartogr\\u00e0fic\",\n",
      "                \"_lang\": \"ca\"\n",
      "              },\n",
      "              {\n",
      "                \"_value\": \"ARPSI Domini P\\u00fablic Hidr\\u00e0ulic Cartogr\\u00e0fic\",\n",
      "                \"_lang\": \"en\"\n",
      "              }\n",
      "            ],\n",
      "            \"type\": \"http://www.w3.org/ns/dcat#Distribution\"\n",
      "          },\n",
      "          {\n",
      "            \"_about\": \"https://datos.gob.es/catalogo/a04003003-arpsi-domini-public-hidraulic-cartografic/resource/3fb88d05-4d41-4229-915c-33683f5fab02\",\n",
      "            \"accessURL\": \"https://catalegdades.caib.cat/api/views/5vcb-psjt/rows.rdf?accessType=DOWNLOAD\",\n",
      "            \"format\": {\n",
      "              \"_about\": \"https://datos.gob.es/catalogo/a04003003-arpsi-domini-public-hidraulic-cartografic/resource/3fb88d05-4d41-4229-915c-33683f5fab02/format\",\n",
      "              \"type\": \"http://purl.org/dc/terms/IMT\",\n",
      "              \"value\": \"application/rdf+xml\"\n",
      "            },\n",
      "            \"identifier\": \"https://catalegdades.caib.cat/api/views/5vcb-psjt/rows.rdf?accessType=DOWNLOAD\",\n",
      "            \"title\": [\n",
      "              {\n",
      "                \"_value\": \"ARPSI Domini P\\u00fablic Hidr\\u00e0ulic Cartogr\\u00e0fic\",\n",
      "                \"_lang\": \"es\"\n",
      "              },\n",
      "              {\n",
      "                \"_value\": \"ARPSI Domini P\\u00fablic Hidr\\u00e0ulic Cartogr\\u00e0fic\",\n",
      "                \"_lang\": \"ca\"\n",
      "              },\n",
      "              {\n",
      "                \"_value\": \"ARPSI Domini P\\u00fablic Hidr\\u00e0ulic Cartogr\\u00e0fic\",\n",
      "                \"_lang\": \"en\"\n",
      "              }\n",
      "            ],\n",
      "            \"type\": \"http://www.w3.org/ns/dcat#Distribution\"\n",
      "          },\n",
      "          {\n",
      "            \"_about\": \"https://datos.gob.es/catalogo/a04003003-arpsi-domini-public-hidraulic-cartografic/resource/8fc1e1fd-4f52-46bd-b0ab-0f6008b1ef4d\",\n",
      "            \"accessURL\": \"https://catalegdades.caib.cat/api/views/5vcb-psjt/rows.json?accessType=DOWNLOAD\",\n",
      "            \"format\": {\n",
      "              \"_about\": \"https://datos.gob.es/catalogo/a04003003-arpsi-domini-public-hidraulic-cartografic/resource/8fc1e1fd-4f52-46bd-b0ab-0f6008b1ef4d/format\",\n",
      "              \"type\": \"http://purl.org/dc/terms/IMT\",\n",
      "              \"value\": \"application/json\"\n",
      "            },\n",
      "            \"identifier\": \"https://catalegdades.caib.cat/api/views/5vcb-psjt/rows.json?accessType=DOWNLOAD\",\n",
      "            \"title\": [\n",
      "              {\n",
      "                \"_value\": \"ARPSI Domini P\\u00fablic Hidr\\u00e0ulic Cartogr\\u00e0fic\",\n",
      "                \"_lang\": \"es\"\n",
      "              },\n",
      "              {\n",
      "                \"_value\": \"ARPSI Domini P\\u00fablic Hidr\\u00e0ulic Cartogr\\u00e0fic\",\n",
      "                \"_lang\": \"ca\"\n",
      "              },\n",
      "              {\n",
      "                \"_value\": \"ARPSI Domini P\\u00fablic Hidr\\u00e0ulic Cartogr\\u00e0fic\",\n",
      "                \"_lang\": \"en\"\n",
      "              }\n",
      "            ],\n",
      "            \"type\": \"http://www.w3.org/ns/dcat#Distribution\"\n",
      "          }\n",
      "        ],\n",
      "        \"identifier\": \"https://catalegdades.caib.cat/d/5vcb-psjt\",\n",
      "        \"issued\": \"mar, 27 jun 2023 22:00:00 GMT+0000\",\n",
      "        \"keyword\": [\n",
      "          {\n",
      "            \"_value\": \"illes balears\",\n",
      "            \"_lang\": \"es\"\n",
      "          },\n",
      "          {\n",
      "            \"_value\": \"recursos h\\u00eddrics\",\n",
      "            \"_lang\": \"es\"\n",
      "          }\n",
      "        ],\n",
      "        \"language\": [\n",
      "          \"ca\",\n",
      "          \"en\",\n",
      "          \"es\"\n",
      "        ],\n",
      "        \"license\": \"http://creativecommons.org/licenses/by/4.0/legalcode\",\n",
      "        \"modified\": \"mar, 27 jun 2023 22:00:00 GMT+0000\",\n",
      "        \"publisher\": \"http://datos.gob.es/recurso/sector-publico/org/Organismo/A04003003\",\n",
      "        \"spatial\": \"http://datos.gob.es/recurso/sector-publico/territorio/Autonomia/Illes-Balears\",\n",
      "        \"theme\": \"http://datos.gob.es/kos/sector-publico/sector/medio-ambiente\",\n",
      "        \"title\": [\n",
      "          {\n",
      "            \"_value\": \"ARPSI Domini P\\u00fablic Hidr\\u00e0ulic Cartogr\\u00e0fic\",\n",
      "            \"_lang\": \"ca\"\n",
      "          },\n",
      "          {\n",
      "            \"_value\": \"ARPSI Domini P\\u00fablic Hidr\\u00e0ulic Cartogr\\u00e0fic\",\n",
      "            \"_lang\": \"en\"\n",
      "          },\n",
      "          {\n",
      "            \"_value\": \"ARPSI Domini P\\u00fablic Hidr\\u00e0ulic Cartogr\\u00e0fic\",\n",
      "            \"_lang\": \"es\"\n",
      "          }\n",
      "        ],\n",
      "        \"type\": \"http://www.w3.org/ns/dcat#Dataset\"\n",
      "      },\n",
      "      {\n",
      "        \"_about\": \"https://datos.gob.es/catalogo/a04003003-arpsi-trams-illes-balears\",\n",
      "        \"description\": [\n",
      "          {\n",
      "            \"_value\": \"<DIV STYLE=\\\"text-align:Left;font-size:12pt\\\"><DIV><DIV><P><SPAN>Trams emprats per la delimitaci\\u00f3 gr\\u00e0fica de la superf\\u00edcie negada per les aig\\u00fces per l'ocurr\\u00e8ncia d'avingudes amb per\\u00edodes de retorn de 10, 100 i 500 anys, valors que s'han convingut com a refer\\u00e8ncia per als esdeveniments d'alta, mitja i baixa probabilitat, respectivament (en aplicaci\\u00f3 de l'article 8.1 del Reial Decret 903/2010). Aquesta informaci\\u00f3, acompanyada de l'estimaci\\u00f3 de les variables que caracteritzen l'efecte potencial advers de les crescudes, permet establir el grau d'exposici\\u00f3 al fen\\u00f2men de les diferents parts del territori.Aquest CDE est\\u00e0 format perles zones d'avinguda i els calats per avinguda. Els 11 trams ARPSI s\\u00f3n dels torrents de Na B\\u00e0rbara (Palma), Gros (Palma), Coanegre (Palma/Marratx\\u00ed), Campos, Es Riuet (Manacor/Sant Lloren\\u00e7 des Cardassar), ses Planes (Sant Lloren\\u00e7 des Cardassar), Vall den Marc/Sant Jordi (Pollen\\u00e7a), Major de S\\u00f3ller, Peguera (Calvi\\u00e0), Santa Pon\\u00e7a (Calvi\\u00e0) i Llavanera (Eivissa/Santa Eul\\u00e0ria del Riu).</SPAN></P></DIV></DIV></DIV>\",\n",
      "            \"_lang\": \"es\"\n",
      "          },\n",
      "          {\n",
      "            \"_value\": \"<DIV STYLE=\\\"text-align:Left;font-size:12pt\\\"><DIV><DIV><P><SPAN>Trams emprats per la delimitaci\\u00f3 gr\\u00e0fica de la superf\\u00edcie negada per les aig\\u00fces per l'ocurr\\u00e8ncia d'avingudes amb per\\u00edodes de retorn de 10, 100 i 500 anys, valors que s'han convingut com a refer\\u00e8ncia per als esdeveniments d'alta, mitja i baixa probabilitat, respectivament (en aplicaci\\u00f3 de l'article 8.1 del Reial Decret 903/2010). Aquesta informaci\\u00f3, acompanyada de l'estimaci\\u00f3 de les variables que caracteritzen l'efecte potencial advers de les crescudes, permet establir el grau d'exposici\\u00f3 al fen\\u00f2men de les diferents parts del territori.Aquest CDE est\\u00e0 format perles zones d'avinguda i els calats per avinguda. Els 11 trams ARPSI s\\u00f3n dels torrents de Na B\\u00e0rbara (Palma), Gros (Palma), Coanegre (Palma/Marratx\\u00ed), Campos, Es Riuet (Manacor/Sant Lloren\\u00e7 des Cardassar), ses Planes (Sant Lloren\\u00e7 des Cardassar), Vall den Marc/Sant Jordi (Pollen\\u00e7a), Major de S\\u00f3ller, Peguera (Calvi\\u00e0), Santa Pon\\u00e7a (Calvi\\u00e0) i Llavanera (Eivissa/Santa Eul\\u00e0ria del Riu).</SPAN></P></DIV></DIV></DIV>\",\n",
      "            \"_lang\": \"ca\"\n",
      "          },\n",
      "          {\n",
      "            \"_value\": \"<DIV STYLE=\\\"text-align:Left;font-size:12pt\\\"><DIV><DIV><P><SPAN>Trams emprats per la delimitaci\\u00f3 gr\\u00e0fica de la superf\\u00edcie negada per les aig\\u00fces per l'ocurr\\u00e8ncia d'avingudes amb per\\u00edodes de retorn de 10, 100 i 500 anys, valors que s'han convingut com a refer\\u00e8ncia per als esdeveniments d'alta, mitja i baixa probabilitat, respectivament (en aplicaci\\u00f3 de l'article 8.1 del Reial Decret 903/2010). Aquesta informaci\\u00f3, acompanyada de l'estimaci\\u00f3 de les variables que caracteritzen l'efecte potencial advers de les crescudes, permet establir el grau d'exposici\\u00f3 al fen\\u00f2men de les diferents parts del territori.Aquest CDE est\\u00e0 format perles zones d'avinguda i els calats per avinguda. Els 11 trams ARPSI s\\u00f3n dels torrents de Na B\\u00e0rbara (Palma), Gros (Palma), Coanegre (Palma/Marratx\\u00ed), Campos, Es Riuet (Manacor/Sant Lloren\\u00e7 des Cardassar), ses Planes (Sant Lloren\\u00e7 des Cardassar), Vall den Marc/Sant Jordi (Pollen\\u00e7a), Major de S\\u00f3ller, Peguera (Calvi\\u00e0), Santa Pon\\u00e7a (Calvi\\u00e0) i Llavanera (Eivissa/Santa Eul\\u00e0ria del Riu).</SPAN></P></DIV></DIV></DIV>\",\n",
      "            \"_lang\": \"en\"\n",
      "          }\n",
      "        ],\n",
      "        \"distribution\": [\n",
      "          {\n",
      "            \"_about\": \"https://datos.gob.es/catalogo/a04003003-arpsi-trams-illes-balears/resource/5f0f6e87-8361-4758-8c7e-e368bbc5b532\",\n",
      "            \"accessURL\": \"https://catalegdades.caib.cat/api/views/2r6b-bpib/rows.csv?accessType=DOWNLOAD\",\n",
      "            \"format\": {\n",
      "              \"_about\": \"https://datos.gob.es/catalogo/a04003003-arpsi-trams-illes-balears/resource/5f0f6e87-8361-4758-8c7e-e368bbc5b532/format\",\n",
      "              \"type\": \"http://purl.org/dc/terms/IMT\",\n",
      "              \"value\": \"text/csv\"\n",
      "            },\n",
      "            \"identifier\": \"https://catalegdades.caib.cat/api/views/2r6b-bpib/rows.csv?accessType=DOWNLOAD\",\n",
      "            \"title\": [\n",
      "              {\n",
      "                \"_value\": \"ARPSI Trams Illes Balears\",\n",
      "                \"_lang\": \"en\"\n",
      "              },\n",
      "              {\n",
      "                \"_value\": \"ARPSI Trams Illes Balears\",\n",
      "                \"_lang\": \"es\"\n",
      "              },\n",
      "              {\n",
      "                \"_value\": \"ARPSI Trams Illes Balears\",\n",
      "                \"_lang\": \"ca\"\n",
      "              }\n",
      "            ],\n",
      "            \"type\": \"http://www.w3.org/ns/dcat#Distribution\"\n",
      "          },\n",
      "          {\n",
      "            \"_about\": \"https://datos.gob.es/catalogo/a04003003-arpsi-trams-illes-balears/resource/abccaa9b-fd98-4140-b46d-3a84c93696d7\",\n",
      "            \"accessURL\": \"https://catalegdades.caib.cat/api/views/2r6b-bpib/rows.json?accessType=DOWNLOAD\",\n",
      "            \"format\": {\n",
      "              \"_about\": \"https://datos.gob.es/catalogo/a04003003-arpsi-trams-illes-balears/resource/abccaa9b-fd98-4140-b46d-3a84c93696d7/format\",\n",
      "              \"type\": \"http://purl.org/dc/terms/IMT\",\n",
      "              \"value\": \"application/json\"\n",
      "            },\n",
      "            \"identifier\": \"https://catalegdades.caib.cat/api/views/2r6b-bpib/rows.json?accessType=DOWNLOAD\",\n",
      "            \"title\": [\n",
      "              {\n",
      "                \"_value\": \"ARPSI Trams Illes Balears\",\n",
      "                \"_lang\": \"en\"\n",
      "              },\n",
      "              {\n",
      "                \"_value\": \"ARPSI Trams Illes Balears\",\n",
      "                \"_lang\": \"es\"\n",
      "              },\n",
      "              {\n",
      "                \"_value\": \"ARPSI Trams Illes Balears\",\n",
      "                \"_lang\": \"ca\"\n",
      "              }\n",
      "            ],\n",
      "            \"type\": \"http://www.w3.org/ns/dcat#Distribution\"\n",
      "          },\n",
      "          {\n",
      "            \"_about\": \"https://datos.gob.es/catalogo/a04003003-arpsi-trams-illes-balears/resource/d78a5b25-3308-4b37-b70b-a61005021f1b\",\n",
      "            \"accessURL\": \"https://catalegdades.caib.cat/api/views/2r6b-bpib/rows.xml?accessType=DOWNLOAD\",\n",
      "            \"format\": {\n",
      "              \"_about\": \"https://datos.gob.es/catalogo/a04003003-arpsi-trams-illes-balears/resource/d78a5b25-3308-4b37-b70b-a61005021f1b/format\",\n",
      "              \"type\": \"http://purl.org/dc/terms/IMT\",\n",
      "              \"value\": \"application/xml\"\n",
      "            },\n",
      "            \"identifier\": \"https://catalegdades.caib.cat/api/views/2r6b-bpib/rows.xml?accessType=DOWNLOAD\",\n",
      "            \"title\": [\n",
      "              {\n",
      "                \"_value\": \"ARPSI Trams Illes Balears\",\n",
      "                \"_lang\": \"en\"\n",
      "              },\n",
      "              {\n",
      "                \"_value\": \"ARPSI Trams Illes Balears\",\n",
      "                \"_lang\": \"es\"\n",
      "              },\n",
      "              {\n",
      "                \"_value\": \"ARPSI Trams Illes Balears\",\n",
      "                \"_lang\": \"ca\"\n",
      "              }\n",
      "            ],\n",
      "            \"type\": \"http://www.w3.org/ns/dcat#Distribution\"\n",
      "          },\n",
      "          {\n",
      "            \"_about\": \"https://datos.gob.es/catalogo/a04003003-arpsi-trams-illes-balears/resource/f4db2c18-fa87-49dd-a139-15c218a78a55\",\n",
      "            \"accessURL\": \"https://catalegdades.caib.cat/api/views/2r6b-bpib/rows.rdf?accessType=DOWNLOAD\",\n",
      "            \"format\": {\n",
      "              \"_about\": \"https://datos.gob.es/catalogo/a04003003-arpsi-trams-illes-balears/resource/f4db2c18-fa87-49dd-a139-15c218a78a55/format\",\n",
      "              \"type\": \"http://purl.org/dc/terms/IMT\",\n",
      "              \"value\": \"application/rdf+xml\"\n",
      "            },\n",
      "            \"identifier\": \"https://catalegdades.caib.cat/api/views/2r6b-bpib/rows.rdf?accessType=DOWNLOAD\",\n",
      "            \"title\": [\n",
      "              {\n",
      "                \"_value\": \"ARPSI Trams Illes Balears\",\n",
      "                \"_lang\": \"en\"\n",
      "              },\n",
      "              {\n",
      "                \"_value\": \"ARPSI Trams Illes Balears\",\n",
      "                \"_lang\": \"es\"\n",
      "              },\n",
      "              {\n",
      "                \"_value\": \"ARPSI Trams Illes Balears\",\n",
      "                \"_lang\": \"ca\"\n",
      "              }\n",
      "            ],\n",
      "            \"type\": \"http://www.w3.org/ns/dcat#Distribution\"\n",
      "          }\n",
      "        ],\n",
      "        \"identifier\": \"https://catalegdades.caib.cat/d/2r6b-bpib\",\n",
      "        \"issued\": \"mar, 27 jun 2023 22:00:00 GMT+0000\",\n",
      "        \"keyword\": [\n",
      "          {\n",
      "            \"_value\": \"illes balears\",\n",
      "            \"_lang\": \"es\"\n",
      "          },\n",
      "          {\n",
      "            \"_value\": \"recursos h\\u00eddrics\",\n",
      "            \"_lang\": \"es\"\n",
      "          }\n",
      "        ],\n",
      "        \"language\": [\n",
      "          \"ca\",\n",
      "          \"en\",\n",
      "          \"es\"\n",
      "        ],\n",
      "        \"license\": \"http://creativecommons.org/licenses/by/4.0/legalcode\",\n",
      "        \"modified\": \"mar, 27 jun 2023 22:00:00 GMT+0000\",\n",
      "        \"publisher\": \"http://datos.gob.es/recurso/sector-publico/org/Organismo/A04003003\",\n",
      "        \"spatial\": \"http://datos.gob.es/recurso/sector-publico/territorio/Autonomia/Illes-Balears\",\n",
      "        \"theme\": \"http://datos.gob.es/kos/sector-publico/sector/medio-ambiente\",\n",
      "        \"title\": [\n",
      "          {\n",
      "            \"_value\": \"ARPSI Trams Illes Balears\",\n",
      "            \"_lang\": \"ca\"\n",
      "          },\n",
      "          {\n",
      "            \"_value\": \"ARPSI Trams Illes Balears\",\n",
      "            \"_lang\": \"en\"\n",
      "          },\n",
      "          {\n",
      "            \"_value\": \"ARPSI Trams Illes Balears\",\n",
      "            \"_lang\": \"es\"\n",
      "          }\n",
      "        ],\n",
      "        \"type\": \"http://www.w3.org/ns/dcat#Dataset\"\n",
      "      },\n",
      "      {\n",
      "        \"_about\": \"https://datos.gob.es/catalogo/a04003003-arpsi-zona-fluxe-preferent\",\n",
      "        \"description\": [\n",
      "          {\n",
      "            \"_value\": \"<DIV STYLE=\\\"text-align:Left;font-size:12pt\\\"><P><SPAN>Zona de fluxe preferent de la delimitaci\\u00f3 gr\\u00e0fica de la superf\\u00edcie negada per les aig\\u00fces per l'ocurr\\u00e8ncia d'avingudes amb per\\u00edodes de retorn de 10, 100 i 500 anys, valors que s'han convingut com a refer\\u00e8ncia per als esdeveniments d'alta, mitja i baixa probabilitat, respectivament (en aplicaci\\u00f3 de l'article 8.1 del Reial Decret 903/2010). Aquesta informaci\\u00f3, acompanyada de l'estimaci\\u00f3 de les variables que caracteritzen l'efecte potencial advers de les crescudes, permet establir el grau d'exposici\\u00f3 al fen\\u00f2men de les diferents parts del territori.Aquest CDE est\\u00e0 format perles zones d'avinguda i els calats per avinguda. Els 11 trams ARPSI s\\u00f3n dels torrents de Na B\\u00e0rbara (Palma), Gros (Palma), Coanegre (Palma/Marratx\\u00ed), Campos, Es Riuet (Manacor/Sant Lloren\\u00e7 des Cardassar), ses Planes (Sant Lloren\\u00e7 des Cardassar), Vall den Marc/Sant Jordi (Pollen\\u00e7a), Major de S\\u00f3ller, Peguera (Calvi\\u00e0), Santa Pon\\u00e7a (Calvi\\u00e0) i Llavanera (Eivissa/Santa Eul\\u00e0ria del Riu).</SPAN></P></DIV>\",\n",
      "            \"_lang\": \"ca\"\n",
      "          },\n",
      "          {\n",
      "            \"_value\": \"<DIV STYLE=\\\"text-align:Left;font-size:12pt\\\"><P><SPAN>Zona de fluxe preferent de la delimitaci\\u00f3 gr\\u00e0fica de la superf\\u00edcie negada per les aig\\u00fces per l'ocurr\\u00e8ncia d'avingudes amb per\\u00edodes de retorn de 10, 100 i 500 anys, valors que s'han convingut com a refer\\u00e8ncia per als esdeveniments d'alta, mitja i baixa probabilitat, respectivament (en aplicaci\\u00f3 de l'article 8.1 del Reial Decret 903/2010). Aquesta informaci\\u00f3, acompanyada de l'estimaci\\u00f3 de les variables que caracteritzen l'efecte potencial advers de les crescudes, permet establir el grau d'exposici\\u00f3 al fen\\u00f2men de les diferents parts del territori.Aquest CDE est\\u00e0 format perles zones d'avinguda i els calats per avinguda. Els 11 trams ARPSI s\\u00f3n dels torrents de Na B\\u00e0rbara (Palma), Gros (Palma), Coanegre (Palma/Marratx\\u00ed), Campos, Es Riuet (Manacor/Sant Lloren\\u00e7 des Cardassar), ses Planes (Sant Lloren\\u00e7 des Cardassar), Vall den Marc/Sant Jordi (Pollen\\u00e7a), Major de S\\u00f3ller, Peguera (Calvi\\u00e0), Santa Pon\\u00e7a (Calvi\\u00e0) i Llavanera (Eivissa/Santa Eul\\u00e0ria del Riu).</SPAN></P></DIV>\",\n",
      "            \"_lang\": \"en\"\n",
      "          },\n",
      "          {\n",
      "            \"_value\": \"<DIV STYLE=\\\"text-align:Left;font-size:12pt\\\"><P><SPAN>Zona de fluxe preferent de la delimitaci\\u00f3 gr\\u00e0fica de la superf\\u00edcie negada per les aig\\u00fces per l'ocurr\\u00e8ncia d'avingudes amb per\\u00edodes de retorn de 10, 100 i 500 anys, valors que s'han convingut com a refer\\u00e8ncia per als esdeveniments d'alta, mitja i baixa probabilitat, respectivament (en aplicaci\\u00f3 de l'article 8.1 del Reial Decret 903/2010). Aquesta informaci\\u00f3, acompanyada de l'estimaci\\u00f3 de les variables que caracteritzen l'efecte potencial advers de les crescudes, permet establir el grau d'exposici\\u00f3 al fen\\u00f2men de les diferents parts del territori.Aquest CDE est\\u00e0 format perles zones d'avinguda i els calats per avinguda. Els 11 trams ARPSI s\\u00f3n dels torrents de Na B\\u00e0rbara (Palma), Gros (Palma), Coanegre (Palma/Marratx\\u00ed), Campos, Es Riuet (Manacor/Sant Lloren\\u00e7 des Cardassar), ses Planes (Sant Lloren\\u00e7 des Cardassar), Vall den Marc/Sant Jordi (Pollen\\u00e7a), Major de S\\u00f3ller, Peguera (Calvi\\u00e0), Santa Pon\\u00e7a (Calvi\\u00e0) i Llavanera (Eivissa/Santa Eul\\u00e0ria del Riu).</SPAN></P></DIV>\",\n",
      "            \"_lang\": \"es\"\n",
      "          }\n",
      "        ],\n",
      "        \"distribution\": [\n",
      "          {\n",
      "            \"_about\": \"https://datos.gob.es/catalogo/a04003003-arpsi-zona-fluxe-preferent/resource/26868e9e-dae9-4005-9b59-8597c9130096\",\n",
      "            \"accessURL\": \"https://catalegdades.caib.cat/api/views/vinp-zcu3/rows.json?accessType=DOWNLOAD\",\n",
      "            \"format\": {\n",
      "              \"_about\": \"https://datos.gob.es/catalogo/a04003003-arpsi-zona-fluxe-preferent/resource/26868e9e-dae9-4005-9b59-8597c9130096/format\",\n",
      "              \"type\": \"http://purl.org/dc/terms/IMT\",\n",
      "              \"value\": \"application/json\"\n",
      "            },\n",
      "            \"identifier\": \"https://catalegdades.caib.cat/api/views/vinp-zcu3/rows.json?accessType=DOWNLOAD\",\n",
      "            \"title\": [\n",
      "              {\n",
      "                \"_value\": \"ARPSI Zona Fluxe Preferent\",\n",
      "                \"_lang\": \"es\"\n",
      "              },\n",
      "              {\n",
      "                \"_value\": \"ARPSI Zona Fluxe Preferent\",\n",
      "                \"_lang\": \"ca\"\n",
      "              },\n",
      "              {\n",
      "                \"_value\": \"ARPSI Zona Fluxe Preferent\",\n",
      "                \"_lang\": \"en\"\n",
      "              }\n",
      "            ],\n",
      "            \"type\": \"http://www.w3.org/ns/dcat#Distribution\"\n",
      "          },\n",
      "          {\n",
      "            \"_about\": \"https://datos.gob.es/catalogo/a04003003-arpsi-zona-fluxe-preferent/resource/4178bdd5-6cee-48f3-b383-8fa9ff4d5430\",\n",
      "            \"accessURL\": \"https://catalegdades.caib.cat/api/views/vinp-zcu3/rows.xml?accessType=DOWNLOAD\",\n",
      "            \"format\": {\n",
      "              \"_about\": \"https://datos.gob.es/catalogo/a04003003-arpsi-zona-fluxe-preferent/resource/4178bdd5-6cee-48f3-b383-8fa9ff4d5430/format\",\n",
      "              \"type\": \"http://purl.org/dc/terms/IMT\",\n",
      "              \"value\": \"application/xml\"\n",
      "            },\n",
      "            \"identifier\": \"https://catalegdades.caib.cat/api/views/vinp-zcu3/rows.xml?accessType=DOWNLOAD\",\n",
      "            \"title\": [\n",
      "              {\n",
      "                \"_value\": \"ARPSI Zona Fluxe Preferent\",\n",
      "                \"_lang\": \"es\"\n",
      "              },\n",
      "              {\n",
      "                \"_value\": \"ARPSI Zona Fluxe Preferent\",\n",
      "                \"_lang\": \"ca\"\n",
      "              },\n",
      "              {\n",
      "                \"_value\": \"ARPSI Zona Fluxe Preferent\",\n",
      "                \"_lang\": \"en\"\n",
      "              }\n",
      "            ],\n",
      "            \"type\": \"http://www.w3.org/ns/dcat#Distribution\"\n",
      "          },\n",
      "          {\n",
      "            \"_about\": \"https://datos.gob.es/catalogo/a04003003-arpsi-zona-fluxe-preferent/resource/d3e7be5d-9a85-4563-9ee5-0d56ab83a842\",\n",
      "            \"accessURL\": \"https://catalegdades.caib.cat/api/views/vinp-zcu3/rows.rdf?accessType=DOWNLOAD\",\n",
      "            \"format\": {\n",
      "              \"_about\": \"https://datos.gob.es/catalogo/a04003003-arpsi-zona-fluxe-preferent/resource/d3e7be5d-9a85-4563-9ee5-0d56ab83a842/format\",\n",
      "              \"type\": \"http://purl.org/dc/terms/IMT\",\n",
      "              \"value\": \"application/rdf+xml\"\n",
      "            },\n",
      "            \"identifier\": \"https://catalegdades.caib.cat/api/views/vinp-zcu3/rows.rdf?accessType=DOWNLOAD\",\n",
      "            \"title\": [\n",
      "              {\n",
      "                \"_value\": \"ARPSI Zona Fluxe Preferent\",\n",
      "                \"_lang\": \"es\"\n",
      "              },\n",
      "              {\n",
      "                \"_value\": \"ARPSI Zona Fluxe Preferent\",\n",
      "                \"_lang\": \"ca\"\n",
      "              },\n",
      "              {\n",
      "                \"_value\": \"ARPSI Zona Fluxe Preferent\",\n",
      "                \"_lang\": \"en\"\n",
      "              }\n",
      "            ],\n",
      "            \"type\": \"http://www.w3.org/ns/dcat#Distribution\"\n",
      "          },\n",
      "          {\n",
      "            \"_about\": \"https://datos.gob.es/catalogo/a04003003-arpsi-zona-fluxe-preferent/resource/f63a1bb1-e1e7-424a-a97e-739445189b2c\",\n",
      "            \"accessURL\": \"https://catalegdades.caib.cat/api/views/vinp-zcu3/rows.csv?accessType=DOWNLOAD\",\n",
      "            \"format\": {\n",
      "              \"_about\": \"https://datos.gob.es/catalogo/a04003003-arpsi-zona-fluxe-preferent/resource/f63a1bb1-e1e7-424a-a97e-739445189b2c/format\",\n",
      "              \"type\": \"http://purl.org/dc/terms/IMT\",\n",
      "              \"value\": \"text/csv\"\n",
      "            },\n",
      "            \"identifier\": \"https://catalegdades.caib.cat/api/views/vinp-zcu3/rows.csv?accessType=DOWNLOAD\",\n",
      "            \"title\": [\n",
      "              {\n",
      "                \"_value\": \"ARPSI Zona Fluxe Preferent\",\n",
      "                \"_lang\": \"es\"\n",
      "              },\n",
      "              {\n",
      "                \"_value\": \"ARPSI Zona Fluxe Preferent\",\n",
      "                \"_lang\": \"ca\"\n",
      "              },\n",
      "              {\n",
      "                \"_value\": \"ARPSI Zona Fluxe Preferent\",\n",
      "                \"_lang\": \"en\"\n",
      "              }\n",
      "            ],\n",
      "            \"type\": \"http://www.w3.org/ns/dcat#Distribution\"\n",
      "          }\n",
      "        ],\n",
      "        \"identifier\": \"https://catalegdades.caib.cat/d/vinp-zcu3\",\n",
      "        \"issued\": \"mar, 27 jun 2023 22:00:00 GMT+0000\",\n",
      "        \"keyword\": [\n",
      "          {\n",
      "            \"_value\": \"illes balears\",\n",
      "            \"_lang\": \"es\"\n",
      "          },\n",
      "          {\n",
      "            \"_value\": \"recursos h\\u00eddrics\",\n",
      "            \"_lang\": \"es\"\n",
      "          }\n",
      "        ],\n",
      "        \"language\": [\n",
      "          \"ca\",\n",
      "          \"en\",\n",
      "          \"es\"\n",
      "        ],\n",
      "        \"license\": \"http://creativecommons.org/licenses/by/4.0/legalcode\",\n",
      "        \"modified\": \"mar, 27 jun 2023 22:00:00 GMT+0000\",\n",
      "        \"publisher\": \"http://datos.gob.es/recurso/sector-publico/org/Organismo/A04003003\",\n",
      "        \"spatial\": \"http://datos.gob.es/recurso/sector-publico/territorio/Autonomia/Illes-Balears\",\n",
      "        \"theme\": \"http://datos.gob.es/kos/sector-publico/sector/medio-ambiente\",\n",
      "        \"title\": [\n",
      "          {\n",
      "            \"_value\": \"ARPSI Zona Fluxe Preferent\",\n",
      "            \"_lang\": \"ca\"\n",
      "          },\n",
      "          {\n",
      "            \"_value\": \"ARPSI Zona Fluxe Preferent\",\n",
      "            \"_lang\": \"en\"\n",
      "          },\n",
      "          {\n",
      "            \"_value\": \"ARPSI Zona Fluxe Preferent\",\n",
      "            \"_lang\": \"es\"\n",
      "          }\n",
      "        ],\n",
      "        \"type\": \"http://www.w3.org/ns/dcat#Dataset\"\n",
      "      },\n",
      "      {\n",
      "        \"_about\": \"https://datos.gob.es/catalogo/l01080193-accidentes-segun-causa-conductor-gestionados-por-la-guardia-urbana-a-la-ciutat-de-barcelona\",\n",
      "        \"accrualPeriodicity\": {\n",
      "          \"_about\": \"https://datos.gob.es/catalogo/l01080193-accidentes-segun-causa-conductor-gestionados-por-la-guardia-urbana-a-la-ciutat-de-barcelona/Frequency\",\n",
      "          \"value\": {\n",
      "            \"_about\": \"https://datos.gob.es/catalogo/l01080193-accidentes-segun-causa-conductor-gestionados-por-la-guardia-urbana-a-la-ciutat-de-barcelona/DurationDescription\",\n",
      "            \"years\": 1.0\n",
      "          }\n",
      "        },\n",
      "        \"description\": [\n",
      "          {\n",
      "            \"_value\": \"Accidentes  seg\\u00fan causa conductor gestionados por la Gu\\u00e0rdia Urbana a la ciutat de Barcelona\",\n",
      "            \"_lang\": \"es\"\n",
      "          },\n",
      "          {\n",
      "            \"_value\": \"Accidents by driver cause managed by the Gu\\u00e0rdia Urbana in the city of Barcelona\",\n",
      "            \"_lang\": \"en\"\n",
      "          },\n",
      "          {\n",
      "            \"_value\": \"Accidents segons causa conductor  gestionats per la Gu\\u00e0rdia Urbana a la ciutat de Barcelona\",\n",
      "            \"_lang\": \"ca\"\n",
      "          }\n",
      "        ],\n",
      "        \"distribution\": [\n",
      "          {\n",
      "            \"_about\": \"https://datos.gob.es/catalogo/l01080193-accidentes-segun-causa-conductor-gestionados-por-la-guardia-urbana-a-la-ciutat-de-barcelona/resource/1fa7d507-d111-4927-ac00-93f5b89067a2\",\n",
      "            \"accessURL\": \"https://opendata-ajuntament.barcelona.cat/data/dataset/29d1b774-a83e-4c1e-91f7-1b9ad042ea83/resource/1a05cdd4-4844-41a5-872d-a0824d11b517/download\",\n",
      "            \"format\": {\n",
      "              \"_about\": \"https://datos.gob.es/catalogo/l01080193-accidentes-segun-causa-conductor-gestionados-por-la-guardia-urbana-a-la-ciutat-de-barcelona/resource/1fa7d507-d111-4927-ac00-93f5b89067a2/format\",\n",
      "              \"type\": \"http://purl.org/dc/terms/IMT\",\n",
      "              \"value\": \"text/csv\"\n",
      "            },\n",
      "            \"identifier\": \"https://opendata-ajuntament.barcelona.cat/data/dataset/accidents_causa_conductor_gu_bcn/resource/1a05cdd4-4844-41a5-872d-a0824d11b517\",\n",
      "            \"title\": [\n",
      "              {\n",
      "                \"_value\": \"2017_ACCIDENTS_CAUSA_CONDUCTOR_GU_BCN_.csv\",\n",
      "                \"_lang\": \"es\"\n",
      "              },\n",
      "              {\n",
      "                \"_value\": \"2017_ACCIDENTS_CAUSA_CONDUCTOR_GU_BCN_.csv\",\n",
      "                \"_lang\": \"en\"\n",
      "              },\n",
      "              {\n",
      "                \"_value\": \"2017_ACCIDENTS_CAUSA_CONDUCTOR_GU_BCN_.csv\",\n",
      "                \"_lang\": \"ca\"\n",
      "              }\n",
      "            ],\n",
      "            \"type\": \"http://www.w3.org/ns/dcat#Distribution\"\n",
      "          },\n",
      "          {\n",
      "            \"_about\": \"https://datos.gob.es/catalogo/l01080193-accidentes-segun-causa-conductor-gestionados-por-la-guardia-urbana-a-la-ciutat-de-barcelona/resource/6f1e23ca-2d07-42c3-adf3-91158ea2b55a\",\n",
      "            \"accessURL\": \"https://opendata-ajuntament.barcelona.cat/data/dataset/29d1b774-a83e-4c1e-91f7-1b9ad042ea83/resource/3d856a5d-30e8-494c-8390-c039e5c8919b/download\",\n",
      "            \"format\": {\n",
      "              \"_about\": \"https://datos.gob.es/catalogo/l01080193-accidentes-segun-causa-conductor-gestionados-por-la-guardia-urbana-a-la-ciutat-de-barcelona/resource/6f1e23ca-2d07-42c3-adf3-91158ea2b55a/format\",\n",
      "              \"type\": \"http://purl.org/dc/terms/IMT\",\n",
      "              \"value\": \"text/csv\"\n",
      "            },\n",
      "            \"identifier\": \"https://opendata-ajuntament.barcelona.cat/data/dataset/accidents_causa_conductor_gu_bcn/resource/3d856a5d-30e8-494c-8390-c039e5c8919b\",\n",
      "            \"title\": [\n",
      "              {\n",
      "                \"_value\": \"2018_ACCIDENTS_CAUSA_CONDUCTOR_GU_BCN_.csv\",\n",
      "                \"_lang\": \"es\"\n",
      "              },\n",
      "              {\n",
      "                \"_value\": \"2018_ACCIDENTS_CAUSA_CONDUCTOR_GU_BCN_.csv\",\n",
      "                \"_lang\": \"en\"\n",
      "              },\n",
      "              {\n",
      "                \"_value\": \"2018_ACCIDENTS_CAUSA_CONDUCTOR_GU_BCN_.csv\",\n",
      "                \"_lang\": \"ca\"\n",
      "              }\n",
      "            ],\n",
      "            \"type\": \"http://www.w3.org/ns/dcat#Distribution\"\n",
      "          },\n",
      "          {\n",
      "            \"_about\": \"https://datos.gob.es/catalogo/l01080193-accidentes-segun-causa-conductor-gestionados-por-la-guardia-urbana-a-la-ciutat-de-barcelona/resource/82748073-6c21-4662-a21c-c9ea8f7239bd\",\n",
      "            \"accessURL\": \"https://opendata-ajuntament.barcelona.cat/data/dataset/29d1b774-a83e-4c1e-91f7-1b9ad042ea83/resource/b384d295-5aec-49b1-86de-c3096ee39209/download\",\n",
      "            \"format\": {\n",
      "              \"_about\": \"https://datos.gob.es/catalogo/l01080193-accidentes-segun-causa-conductor-gestionados-por-la-guardia-urbana-a-la-ciutat-de-barcelona/resource/82748073-6c21-4662-a21c-c9ea8f7239bd/format\",\n",
      "              \"type\": \"http://purl.org/dc/terms/IMT\",\n",
      "              \"value\": \"text/csv\"\n",
      "            },\n",
      "            \"identifier\": \"https://opendata-ajuntament.barcelona.cat/data/dataset/accidents_causa_conductor_gu_bcn/resource/b384d295-5aec-49b1-86de-c3096ee39209\",\n",
      "            \"title\": [\n",
      "              {\n",
      "                \"_value\": \"2021_ACCIDENTS_CAUSA_CONDUCTOR_GU_BCN_.csv\",\n",
      "                \"_lang\": \"es\"\n",
      "              },\n",
      "              {\n",
      "                \"_value\": \"2021_ACCIDENTS_CAUSA_CONDUCTOR_GU_BCN_.csv\",\n",
      "                \"_lang\": \"en\"\n",
      "              },\n",
      "              {\n",
      "                \"_value\": \"2021_ACCIDENTS_CAUSA_CONDUCTOR_GU_BCN_.csv\",\n",
      "                \"_lang\": \"ca\"\n",
      "              }\n",
      "            ],\n",
      "            \"type\": \"http://www.w3.org/ns/dcat#Distribution\"\n",
      "          },\n",
      "          {\n",
      "            \"_about\": \"https://datos.gob.es/catalogo/l01080193-accidentes-segun-causa-conductor-gestionados-por-la-guardia-urbana-a-la-ciutat-de-barcelona/resource/85b5010d-7722-4fca-b10c-8ef627bc7473\",\n",
      "            \"accessURL\": \"https://opendata-ajuntament.barcelona.cat/data/dataset/29d1b774-a83e-4c1e-91f7-1b9ad042ea83/resource/87a8aeda-d3eb-4ba5-bcad-b9ab0c296df5/download\",\n",
      "            \"format\": {\n",
      "              \"_about\": \"https://datos.gob.es/catalogo/l01080193-accidentes-segun-causa-conductor-gestionados-por-la-guardia-urbana-a-la-ciutat-de-barcelona/resource/85b5010d-7722-4fca-b10c-8ef627bc7473/format\",\n",
      "              \"type\": \"http://purl.org/dc/terms/IMT\",\n",
      "              \"value\": \"text/csv\"\n",
      "            },\n",
      "            \"identifier\": \"https://opendata-ajuntament.barcelona.cat/data/dataset/accidents_causa_conductor_gu_bcn/resource/87a8aeda-d3eb-4ba5-bcad-b9ab0c296df5\",\n",
      "            \"title\": [\n",
      "              {\n",
      "                \"_value\": \"2022_ACCIDENTS_CAUSA_CONDUCTOR_GU_BCN_.csv\",\n",
      "                \"_lang\": \"en\"\n",
      "              },\n",
      "              {\n",
      "                \"_value\": \"2022_ACCIDENTS_CAUSA_CONDUCTOR_GU_BCN_.csv\",\n",
      "                \"_lang\": \"ca\"\n",
      "              },\n",
      "              {\n",
      "                \"_value\": \"2022_ACCIDENTS_CAUSA_CONDUCTOR_GU_BCN_.csv\",\n",
      "                \"_lang\": \"es\"\n",
      "              }\n",
      "            ],\n",
      "            \"type\": \"http://www.w3.org/ns/dcat#Distribution\"\n",
      "          },\n",
      "          {\n",
      "            \"_about\": \"https://datos.gob.es/catalogo/l01080193-accidentes-segun-causa-conductor-gestionados-por-la-guardia-urbana-a-la-ciutat-de-barcelona/resource/89fc71fb-27d4-4b09-99d6-2280a76a2c19\",\n",
      "            \"accessURL\": \"https://opendata-ajuntament.barcelona.cat/data/dataset/29d1b774-a83e-4c1e-91f7-1b9ad042ea83/resource/f464ffc3-b6c0-4bce-9749-a8ed53bcc9fa/download\",\n",
      "            \"format\": {\n",
      "              \"_about\": \"https://datos.gob.es/catalogo/l01080193-accidentes-segun-causa-conductor-gestionados-por-la-guardia-urbana-a-la-ciutat-de-barcelona/resource/89fc71fb-27d4-4b09-99d6-2280a76a2c19/format\",\n",
      "              \"type\": \"http://purl.org/dc/terms/IMT\",\n",
      "              \"value\": \"text/csv\"\n",
      "            },\n",
      "            \"identifier\": \"https://opendata-ajuntament.barcelona.cat/data/dataset/accidents_causa_conductor_gu_bcn/resource/f464ffc3-b6c0-4bce-9749-a8ed53bcc9fa\",\n",
      "            \"title\": [\n",
      "              {\n",
      "                \"_value\": \"2016_ACCIDENTS_CAUSA_CONDUCTOR_GU_BCN_.csv\",\n",
      "                \"_lang\": \"es\"\n",
      "              },\n",
      "              {\n",
      "                \"_value\": \"2016_ACCIDENTS_CAUSA_CONDUCTOR_GU_BCN_.csv\",\n",
      "                \"_lang\": \"en\"\n",
      "              },\n",
      "              {\n",
      "                \"_value\": \"2016_ACCIDENTS_CAUSA_CONDUCTOR_GU_BCN_.csv\",\n",
      "                \"_lang\": \"ca\"\n",
      "              }\n",
      "            ],\n",
      "            \"type\": \"http://www.w3.org/ns/dcat#Distribution\"\n",
      "          },\n",
      "          {\n",
      "            \"_about\": \"https://datos.gob.es/catalogo/l01080193-accidentes-segun-causa-conductor-gestionados-por-la-guardia-urbana-a-la-ciutat-de-barcelona/resource/9ec951f8-c84b-4c1d-98fd-e228c031c987\",\n",
      "            \"accessURL\": \"https://opendata-ajuntament.barcelona.cat/data/dataset/29d1b774-a83e-4c1e-91f7-1b9ad042ea83/resource/5a040155-38b3-4b19-a4b0-c84a0618d363/download\",\n",
      "            \"format\": {\n",
      "              \"_about\": \"https://datos.gob.es/catalogo/l01080193-accidentes-segun-causa-conductor-gestionados-por-la-guardia-urbana-a-la-ciutat-de-barcelona/resource/9ec951f8-c84b-4c1d-98fd-e228c031c987/format\",\n",
      "              \"type\": \"http://purl.org/dc/terms/IMT\",\n",
      "              \"value\": \"text/csv\"\n",
      "            },\n",
      "            \"identifier\": \"https://opendata-ajuntament.barcelona.cat/data/dataset/accidents_causa_conductor_gu_bcn/resource/5a040155-38b3-4b19-a4b0-c84a0618d363\",\n",
      "            \"title\": [\n",
      "              {\n",
      "                \"_value\": \"2023_ACCIDENTS_CAUSA_CONDUCTOR_GU_BCN_.csv\",\n",
      "                \"_lang\": \"en\"\n",
      "              },\n",
      "              {\n",
      "                \"_value\": \"2023_ACCIDENTS_CAUSA_CONDUCTOR_GU_BCN_.csv\",\n",
      "                \"_lang\": \"ca\"\n",
      "              },\n",
      "              {\n",
      "                \"_value\": \"2023_ACCIDENTS_CAUSA_CONDUCTOR_GU_BCN_.csv\",\n",
      "                \"_lang\": \"es\"\n",
      "              }\n",
      "            ],\n",
      "            \"type\": \"http://www.w3.org/ns/dcat#Distribution\"\n",
      "          },\n",
      "          {\n",
      "            \"_about\": \"https://datos.gob.es/catalogo/l01080193-accidentes-segun-causa-conductor-gestionados-por-la-guardia-urbana-a-la-ciutat-de-barcelona/resource/b603bda3-8d5d-4413-b40c-33c23b4a936c\",\n",
      "            \"accessURL\": \"https://opendata-ajuntament.barcelona.cat/data/dataset/29d1b774-a83e-4c1e-91f7-1b9ad042ea83/resource/240bbe6f-b01e-4c7c-8f5f-69ce317a1d01/download\",\n",
      "            \"format\": {\n",
      "              \"_about\": \"https://datos.gob.es/catalogo/l01080193-accidentes-segun-causa-conductor-gestionados-por-la-guardia-urbana-a-la-ciutat-de-barcelona/resource/b603bda3-8d5d-4413-b40c-33c23b4a936c/format\",\n",
      "              \"type\": \"http://purl.org/dc/terms/IMT\",\n",
      "              \"value\": \"text/csv\"\n",
      "            },\n",
      "            \"identifier\": \"https://opendata-ajuntament.barcelona.cat/data/dataset/accidents_causa_conductor_gu_bcn/resource/240bbe6f-b01e-4c7c-8f5f-69ce317a1d01\",\n",
      "            \"title\": [\n",
      "              {\n",
      "                \"_value\": \"2019_ACCIDENTS_CAUSA_CONDUCTOR_GU_BCN_.csv\",\n",
      "                \"_lang\": \"es\"\n",
      "              },\n",
      "              {\n",
      "                \"_value\": \"2019_ACCIDENTS_CAUSA_CONDUCTOR_GU_BCN_.csv\",\n",
      "                \"_lang\": \"ca\"\n",
      "              },\n",
      "              {\n",
      "                \"_value\": \"2019_ACCIDENTS_CAUSA_CONDUCTOR_GU_BCN_.csv\",\n",
      "                \"_lang\": \"en\"\n",
      "              }\n",
      "            ],\n",
      "            \"type\": \"http://www.w3.org/ns/dcat#Distribution\"\n",
      "          },\n",
      "          {\n",
      "            \"_about\": \"https://datos.gob.es/catalogo/l01080193-accidentes-segun-causa-conductor-gestionados-por-la-guardia-urbana-a-la-ciutat-de-barcelona/resource/d68712cf-76db-426d-b16c-dec67639d76a\",\n",
      "            \"accessURL\": \"https://opendata-ajuntament.barcelona.cat/data/dataset/29d1b774-a83e-4c1e-91f7-1b9ad042ea83/resource/8cfddcbe-3403-4a6c-8897-c13238da900e/download\",\n",
      "            \"format\": {\n",
      "              \"_about\": \"https://datos.gob.es/catalogo/l01080193-accidentes-segun-causa-conductor-gestionados-por-la-guardia-urbana-a-la-ciutat-de-barcelona/resource/d68712cf-76db-426d-b16c-dec67639d76a/format\",\n",
      "              \"type\": \"http://purl.org/dc/terms/IMT\",\n",
      "              \"value\": \"text/csv\"\n",
      "            },\n",
      "            \"identifier\": \"https://opendata-ajuntament.barcelona.cat/data/dataset/accidents_causa_conductor_gu_bcn/resource/8cfddcbe-3403-4a6c-8897-c13238da900e\",\n",
      "            \"title\": [\n",
      "              {\n",
      "                \"_value\": \"2024_accidents_causa_conductor_gu_bcn.csv\",\n",
      "                \"_lang\": \"en\"\n",
      "              },\n",
      "              {\n",
      "                \"_value\": \"2024_accidents_causa_conductor_gu_bcn.csv\",\n",
      "                \"_lang\": \"es\"\n",
      "              },\n",
      "              {\n",
      "                \"_value\": \"2024_accidents_causa_conductor_gu_bcn.csv\",\n",
      "                \"_lang\": \"ca\"\n",
      "              }\n",
      "            ],\n",
      "            \"type\": \"http://www.w3.org/ns/dcat#Distribution\"\n",
      "          },\n",
      "          {\n",
      "            \"_about\": \"https://datos.gob.es/catalogo/l01080193-accidentes-segun-causa-conductor-gestionados-por-la-guardia-urbana-a-la-ciutat-de-barcelona/resource/dc731b03-8b36-4950-b6a0-44b116816050\",\n",
      "            \"accessURL\": \"https://opendata-ajuntament.barcelona.cat/data/dataset/29d1b774-a83e-4c1e-91f7-1b9ad042ea83/resource/ab22b7f9-a780-4c8b-8605-eb0e35b4094c/download\",\n",
      "            \"format\": {\n",
      "              \"_about\": \"https://datos.gob.es/catalogo/l01080193-accidentes-segun-causa-conductor-gestionados-por-la-guardia-urbana-a-la-ciutat-de-barcelona/resource/dc731b03-8b36-4950-b6a0-44b116816050/format\",\n",
      "              \"type\": \"http://purl.org/dc/terms/IMT\",\n",
      "              \"value\": \"text/csv\"\n",
      "            },\n",
      "            \"identifier\": \"https://opendata-ajuntament.barcelona.cat/data/dataset/accidents_causa_conductor_gu_bcn/resource/ab22b7f9-a780-4c8b-8605-eb0e35b4094c\",\n",
      "            \"title\": [\n",
      "              {\n",
      "                \"_value\": \"2020_ACCIDENTS_CAUSA_CONDUCTOR_GU_BCN_.csv\",\n",
      "                \"_lang\": \"en\"\n",
      "              },\n",
      "              {\n",
      "                \"_value\": \"2020_ACCIDENTS_CAUSA_CONDUCTOR_GU_BCN_.csv\",\n",
      "                \"_lang\": \"ca\"\n",
      "              },\n",
      "              {\n",
      "                \"_value\": \"2020_ACCIDENTS_CAUSA_CONDUCTOR_GU_BCN_.csv\",\n",
      "                \"_lang\": \"es\"\n",
      "              }\n",
      "            ],\n",
      "            \"type\": \"http://www.w3.org/ns/dcat#Distribution\"\n",
      "          }\n",
      "        ],\n",
      "        \"identifier\": \"https://opendata-ajuntament.barcelona.cat/data/dataset/accidents_causa_conductor_gu_bcn\",\n",
      "        \"issued\": \"lun, 13 feb 2023 23:00:00 GMT+0000\",\n",
      "        \"keyword\": [\n",
      "          {\n",
      "            \"_value\": \"Accidentalidad\",\n",
      "            \"_lang\": \"es\"\n",
      "          },\n",
      "          {\n",
      "            \"_value\": \"A\\u00f1o 2016\",\n",
      "            \"_lang\": \"es\"\n",
      "          },\n",
      "          {\n",
      "            \"_value\": \"A\\u00f1o 2017\",\n",
      "            \"_lang\": \"es\"\n",
      "          },\n",
      "          {\n",
      "            \"_value\": \"A\\u00f1o 2018\",\n",
      "            \"_lang\": \"es\"\n",
      "          },\n",
      "          {\n",
      "            \"_value\": \"A\\u00f1o 2019\",\n",
      "            \"_lang\": \"es\"\n",
      "          },\n",
      "          {\n",
      "            \"_value\": \"A\\u00f1o 2020\",\n",
      "            \"_lang\": \"es\"\n",
      "          },\n",
      "          {\n",
      "            \"_value\": \"A\\u00f1o 2021\",\n",
      "            \"_lang\": \"es\"\n",
      "          },\n",
      "          {\n",
      "            \"_value\": \"A\\u00f1o 2022\",\n",
      "            \"_lang\": \"es\"\n",
      "          },\n",
      "          {\n",
      "            \"_value\": \"A\\u00f1o 2023\",\n",
      "            \"_lang\": \"es\"\n",
      "          },\n",
      "          {\n",
      "            \"_value\": \"A\\u00f1o 2024\",\n",
      "            \"_lang\": \"es\"\n",
      "          },\n",
      "          {\n",
      "            \"_value\": \"Causa conductor\",\n",
      "            \"_lang\": \"es\"\n",
      "          },\n",
      "          {\n",
      "            \"_value\": \"Guardia Urbana\",\n",
      "            \"_lang\": \"es\"\n",
      "          }\n",
      "        ],\n",
      "        \"language\": [\n",
      "          \"ca\",\n",
      "          \"en\",\n",
      "          \"es\"\n",
      "        ],\n",
      "        \"license\": \"https://creativecommons.org/licenses/by/4.0/deed.es_ES\",\n",
      "        \"publisher\": \"http://datos.gob.es/recurso/sector-publico/org/Organismo/L01080193\",\n",
      "        \"references\": [\n",
      "          \"https://opendata-ajuntament.barcelona.cat/data/ca/dataset/accidents_causa_conductor_gu_bcn\",\n",
      "          \"https://opendata-ajuntament.barcelona.cat/data/en/dataset/accidents_causa_conductor_gu_bcn\",\n",
      "          \"https://opendata-ajuntament.barcelona.cat/data/es/dataset/accidents_causa_conductor_gu_bcn\"\n",
      "        ],\n",
      "        \"theme\": \"http://datos.gob.es/kos/sector-publico/sector/seguridad\",\n",
      "        \"title\": [\n",
      "          {\n",
      "            \"_value\": \"Accidentes  seg\\u00fan causa conductor gestionados por la Gu\\u00e0rdia Urbana a la ciutat de Barcelona\",\n",
      "            \"_lang\": \"es\"\n",
      "          },\n",
      "          {\n",
      "            \"_value\": \"Accidents by driver cause managed by the Gu\\u00e0rdia Urbana in the city of Barcelona\",\n",
      "            \"_lang\": \"en\"\n",
      "          },\n",
      "          {\n",
      "            \"_value\": \"Accidents segons causa conductor  gestionats per la Gu\\u00e0rdia Urbana a la ciutat de Barcelona\",\n",
      "            \"_lang\": \"ca\"\n",
      "          }\n",
      "        ],\n",
      "        \"type\": \"http://www.w3.org/ns/dcat#Dataset\"\n",
      "      },\n",
      "      {\n",
      "        \"_about\": \"https://datos.gob.es/catalogo/a09002970-acuerdos-del-gobierno\",\n",
      "        \"accrualPeriodicity\": {\n",
      "          \"_about\": \"https://datos.gob.es/catalogo/a09002970-acuerdos-del-gobierno/Frequency\",\n",
      "          \"value\": {\n",
      "            \"_about\": \"https://datos.gob.es/catalogo/a09002970-acuerdos-del-gobierno/DurationDescription\",\n",
      "            \"weeks\": 1.0\n",
      "          }\n",
      "        },\n",
      "        \"description\": [\n",
      "          {\n",
      "            \"_value\": \"La publicaci\\u00f3 dels Acords del Govern permet veure l'acci\\u00f3 completa del Govern, i es poden visualitzar tots els acords que el Govern pren a les reunions setmanals del Consell Executiu. En aquest dataset podeu consultar els acords del Govern des de l'any 2014 fins a l'actualitat.\",\n",
      "            \"_lang\": \"en\"\n",
      "          },\n",
      "          {\n",
      "            \"_value\": \"La publicaci\\u00f3 dels Acords del Govern permet veure l'acci\\u00f3 completa del Govern, i es poden visualitzar tots els acords que el Govern pren a les reunions setmanals del Consell Executiu. En aquest dataset podeu consultar els acords del Govern des de l'any 2014 fins a l'actualitat.\",\n",
      "            \"_lang\": \"ca\"\n",
      "          },\n",
      "          {\n",
      "            \"_value\": \"La publicaci\\u00f3 dels Acords del Govern permet veure l'acci\\u00f3 completa del Govern, i es poden visualitzar tots els acords que el Govern pren a les reunions setmanals del Consell Executiu. En aquest dataset podeu consultar els acords del Govern des de l'any 2014 fins a l'actualitat.\",\n",
      "            \"_lang\": \"es\"\n",
      "          }\n",
      "        ],\n",
      "        \"distribution\": [\n",
      "          {\n",
      "            \"_about\": \"https://datos.gob.es/catalogo/a09002970-acuerdos-del-gobierno/resource/4cd5b92f-9ac8-4f02-9bdc-2e4db0ad5096\",\n",
      "            \"accessURL\": \"https://analisi.transparenciacatalunya.cat/api/views/ub8p-uqwj/rows.csv?accessType=DOWNLOAD\",\n",
      "            \"format\": {\n",
      "              \"_about\": \"https://datos.gob.es/catalogo/a09002970-acuerdos-del-gobierno/resource/4cd5b92f-9ac8-4f02-9bdc-2e4db0ad5096/format\",\n",
      "              \"type\": \"http://purl.org/dc/terms/IMT\",\n",
      "              \"value\": \"text/csv\"\n",
      "            },\n",
      "            \"identifier\": \"https://analisi.transparenciacatalunya.cat/d/ub8p-uqwj\",\n",
      "            \"title\": [\n",
      "              {\n",
      "                \"_value\": \"Acords del Govern\",\n",
      "                \"_lang\": \"ca\"\n",
      "              },\n",
      "              {\n",
      "                \"_value\": \"Acuerdos del Gobierno\",\n",
      "                \"_lang\": \"es\"\n",
      "              },\n",
      "              {\n",
      "                \"_value\": \"Government Agreements\",\n",
      "                \"_lang\": \"en\"\n",
      "              }\n",
      "            ],\n",
      "            \"type\": \"http://www.w3.org/ns/dcat#Distribution\"\n",
      "          },\n",
      "          {\n",
      "            \"_about\": \"https://datos.gob.es/catalogo/a09002970-acuerdos-del-gobierno/resource/5e71871a-545e-4cce-95c5-51d30408e859\",\n",
      "            \"accessURL\": \"https://analisi.transparenciacatalunya.cat/api/views/ub8p-uqwj/rows.rdf?accessType=DOWNLOAD\",\n",
      "            \"format\": {\n",
      "              \"_about\": \"https://datos.gob.es/catalogo/a09002970-acuerdos-del-gobierno/resource/5e71871a-545e-4cce-95c5-51d30408e859/format\",\n",
      "              \"type\": \"http://purl.org/dc/terms/IMT\",\n",
      "              \"value\": \"application/rdf+xml\"\n",
      "            },\n",
      "            \"identifier\": \"https://analisi.transparenciacatalunya.cat/d/ub8p-uqwj\",\n",
      "            \"title\": [\n",
      "              {\n",
      "                \"_value\": \"Acords del Govern\",\n",
      "                \"_lang\": \"ca\"\n",
      "              },\n",
      "              {\n",
      "                \"_value\": \"Acuerdos del Gobierno\",\n",
      "                \"_lang\": \"es\"\n",
      "              },\n",
      "              {\n",
      "                \"_value\": \"Government Agreements\",\n",
      "                \"_lang\": \"en\"\n",
      "              }\n",
      "            ],\n",
      "            \"type\": \"http://www.w3.org/ns/dcat#Distribution\"\n",
      "          },\n",
      "          {\n",
      "            \"_about\": \"https://datos.gob.es/catalogo/a09002970-acuerdos-del-gobierno/resource/c2c44370-71ef-4fa0-9c84-48311d9de89a\",\n",
      "            \"accessURL\": \"https://analisi.transparenciacatalunya.cat/api/views/ub8p-uqwj/rows.json?accessType=DOWNLOAD\",\n",
      "            \"format\": {\n",
      "              \"_about\": \"https://datos.gob.es/catalogo/a09002970-acuerdos-del-gobierno/resource/c2c44370-71ef-4fa0-9c84-48311d9de89a/format\",\n",
      "              \"type\": \"http://purl.org/dc/terms/IMT\",\n",
      "              \"value\": \"application/json\"\n",
      "            },\n",
      "            \"identifier\": \"https://analisi.transparenciacatalunya.cat/d/ub8p-uqwj\",\n",
      "            \"title\": [\n",
      "              {\n",
      "                \"_value\": \"Acords del Govern\",\n",
      "                \"_lang\": \"ca\"\n",
      "              },\n",
      "              {\n",
      "                \"_value\": \"Acuerdos del Gobierno\",\n",
      "                \"_lang\": \"es\"\n",
      "              },\n",
      "              {\n",
      "                \"_value\": \"Government Agreements\",\n",
      "                \"_lang\": \"en\"\n",
      "              }\n",
      "            ],\n",
      "            \"type\": \"http://www.w3.org/ns/dcat#Distribution\"\n",
      "          },\n",
      "          {\n",
      "            \"_about\": \"https://datos.gob.es/catalogo/a09002970-acuerdos-del-gobierno/resource/ebc1bc48-e204-428f-8732-f865ffe1ebb2\",\n",
      "            \"accessURL\": \"https://analisi.transparenciacatalunya.cat/api/views/ub8p-uqwj/rows.xml?accessType=DOWNLOAD\",\n",
      "            \"format\": {\n",
      "              \"_about\": \"https://datos.gob.es/catalogo/a09002970-acuerdos-del-gobierno/resource/ebc1bc48-e204-428f-8732-f865ffe1ebb2/format\",\n",
      "              \"type\": \"http://purl.org/dc/terms/IMT\",\n",
      "              \"value\": \"application/xml\"\n",
      "            },\n",
      "            \"identifier\": \"https://analisi.transparenciacatalunya.cat/d/ub8p-uqwj\",\n",
      "            \"title\": [\n",
      "              {\n",
      "                \"_value\": \"Acords del Govern\",\n",
      "                \"_lang\": \"ca\"\n",
      "              },\n",
      "              {\n",
      "                \"_value\": \"Acuerdos del Gobierno\",\n",
      "                \"_lang\": \"es\"\n",
      "              },\n",
      "              {\n",
      "                \"_value\": \"Government Agreements\",\n",
      "                \"_lang\": \"en\"\n",
      "              }\n",
      "            ],\n",
      "            \"type\": \"http://www.w3.org/ns/dcat#Distribution\"\n",
      "          }\n",
      "        ],\n",
      "        \"identifier\": \"https://analisi.transparenciacatalunya.cat/api/views/ub8p-uqwj\",\n",
      "        \"issued\": \"dom, 26 abr 2020 22:00:00 GMT+0000\",\n",
      "        \"keyword\": [\n",
      "          {\n",
      "            \"_value\": \"acord\",\n",
      "            \"_lang\": \"es\"\n",
      "          },\n",
      "          {\n",
      "            \"_value\": \"consell executiu\",\n",
      "            \"_lang\": \"es\"\n",
      "          },\n",
      "          {\n",
      "            \"_value\": \"govern\",\n",
      "            \"_lang\": \"es\"\n",
      "          },\n",
      "          {\n",
      "            \"_value\": \"ods16_pau just\\u00edcies i institucions s\\u00f2lides\",\n",
      "            \"_lang\": \"es\"\n",
      "          }\n",
      "        ],\n",
      "        \"language\": \"ca\",\n",
      "        \"license\": \"https://administraciodigital.gencat.cat/ca/dades/dades-obertes/informacio-practica/llicencies/\",\n",
      "        \"modified\": \"mi\\u00e9, 21 may 2025 22:00:00 GMT+0000\",\n",
      "        \"publisher\": \"http://datos.gob.es/recurso/sector-publico/org/Organismo/A09002970\",\n",
      "        \"references\": \"https://analisi.transparenciacatalunya.cat/d/ub8p-uqwj\",\n",
      "        \"spatial\": \"http://datos.gob.es/recurso/sector-publico/territorio/Autonomia/Cataluna\",\n",
      "        \"theme\": \"http://datos.gob.es/kos/sector-publico/sector/legislacion-justicia\",\n",
      "        \"title\": [\n",
      "          {\n",
      "            \"_value\": \"Acords del Govern\",\n",
      "            \"_lang\": \"ca\"\n",
      "          },\n",
      "          {\n",
      "            \"_value\": \"Acuerdos del Gobierno\",\n",
      "            \"_lang\": \"es\"\n",
      "          },\n",
      "          {\n",
      "            \"_value\": \"Government Agreements\",\n",
      "            \"_lang\": \"en\"\n",
      "          }\n",
      "        ],\n",
      "        \"type\": \"http://www.w3.org/ns/dcat#Dataset\"\n",
      "      },\n",
      "      {\n",
      "        \"_about\": \"https://datos.gob.es/catalogo/a09002970-acuerdos-de-los-organos-bilaterales-generalitat-estado\",\n",
      "        \"description\": [\n",
      "          {\n",
      "            \"_value\": \"Aquest dataset recull informaci\\u00f3 sobre els acords presos adoptats pels \\u00f2rgans bilaterals que actuen com a espais de relaci\\u00f3 paritaris entre la Generalitat de Catalunya i l'Estat espanyol.\\n\\nAquests \\u00f2rgans, establerts en el marc de l'Estatut d'autonomia de Catalunya, es caracteritzen per una composici\\u00f3 i un \\u00e0mbit funcional espec\\u00edfic, adaptats a les mat\\u00e8ries que tracten. Es poden estructurar en subcomissions o grups de treball per abordar temes concrets amb major profunditat i efic\\u00e0cia\",\n",
      "            \"_lang\": \"ca\"\n",
      "          },\n",
      "          {\n",
      "            \"_value\": \"Aquest dataset recull informaci\\u00f3 sobre els acords presos adoptats pels \\u00f2rgans bilaterals que actuen com a espais de relaci\\u00f3 paritaris entre la Generalitat de Catalunya i l'Estat espanyol.\\n\\nAquests \\u00f2rgans, establerts en el marc de l'Estatut d'autonomia de Catalunya, es caracteritzen per una composici\\u00f3 i un \\u00e0mbit funcional espec\\u00edfic, adaptats a les mat\\u00e8ries que tracten. Es poden estructurar en subcomissions o grups de treball per abordar temes concrets amb major profunditat i efic\\u00e0cia\",\n",
      "            \"_lang\": \"es\"\n",
      "          },\n",
      "          {\n",
      "            \"_value\": \"Aquest dataset recull informaci\\u00f3 sobre els acords presos adoptats pels \\u00f2rgans bilaterals que actuen com a espais de relaci\\u00f3 paritaris entre la Generalitat de Catalunya i l'Estat espanyol.\\n\\nAquests \\u00f2rgans, establerts en el marc de l'Estatut d'autonomia de Catalunya, es caracteritzen per una composici\\u00f3 i un \\u00e0mbit funcional espec\\u00edfic, adaptats a les mat\\u00e8ries que tracten. Es poden estructurar en subcomissions o grups de treball per abordar temes concrets amb major profunditat i efic\\u00e0cia\",\n",
      "            \"_lang\": \"en\"\n",
      "          }\n",
      "        ],\n",
      "        \"distribution\": [\n",
      "          {\n",
      "            \"_about\": \"https://datos.gob.es/catalogo/a09002970-acuerdos-de-los-organos-bilaterales-generalitat-estado/resource/001d7e4c-190c-43bb-9a82-529c9ffb3052\",\n",
      "            \"accessURL\": \"https://analisi.transparenciacatalunya.cat/api/views/7e6e-u9wr/rows.csv?accessType=DOWNLOAD\",\n",
      "            \"format\": {\n",
      "              \"_about\": \"https://datos.gob.es/catalogo/a09002970-acuerdos-de-los-organos-bilaterales-generalitat-estado/resource/001d7e4c-190c-43bb-9a82-529c9ffb3052/format\",\n",
      "              \"type\": \"http://purl.org/dc/terms/IMT\",\n",
      "              \"value\": \"text/csv\"\n",
      "            },\n",
      "            \"identifier\": \"https://analisi.transparenciacatalunya.cat/d/7e6e-u9wr\",\n",
      "            \"title\": [\n",
      "              {\n",
      "                \"_value\": \"Acords dels \\u00f2rgans bilaterals Generalitat-Estat\",\n",
      "                \"_lang\": \"ca\"\n",
      "              },\n",
      "              {\n",
      "                \"_value\": \"Acuerdos de los \\u00d3rganos Bilaterales Generalitat-Estado\",\n",
      "                \"_lang\": \"es\"\n",
      "              },\n",
      "              {\n",
      "                \"_value\": \"Agreements of the Bilateral Comissions between de Catalan Government and the Spanish Government\",\n",
      "                \"_lang\": \"en\"\n",
      "              }\n",
      "            ],\n",
      "            \"type\": \"http://www.w3.org/ns/dcat#Distribution\"\n",
      "          },\n",
      "          {\n",
      "            \"_about\": \"https://datos.gob.es/catalogo/a09002970-acuerdos-de-los-organos-bilaterales-generalitat-estado/resource/d39b92e3-98ec-49ad-980c-6979a755592b\",\n",
      "            \"accessURL\": \"https://analisi.transparenciacatalunya.cat/api/views/7e6e-u9wr/rows.xml?accessType=DOWNLOAD\",\n",
      "            \"format\": {\n",
      "              \"_about\": \"https://datos.gob.es/catalogo/a09002970-acuerdos-de-los-organos-bilaterales-generalitat-estado/resource/d39b92e3-98ec-49ad-980c-6979a755592b/format\",\n",
      "              \"type\": \"http://purl.org/dc/terms/IMT\",\n",
      "              \"value\": \"application/xml\"\n",
      "            },\n",
      "            \"identifier\": \"https://analisi.transparenciacatalunya.cat/d/7e6e-u9wr\",\n",
      "            \"title\": [\n",
      "              {\n",
      "                \"_value\": \"Acords dels \\u00f2rgans bilaterals Generalitat-Estat\",\n",
      "                \"_lang\": \"ca\"\n",
      "              },\n",
      "              {\n",
      "                \"_value\": \"Acuerdos de los \\u00d3rganos Bilaterales Generalitat-Estado\",\n",
      "                \"_lang\": \"es\"\n",
      "              },\n",
      "              {\n",
      "                \"_value\": \"Agreements of the Bilateral Comissions between de Catalan Government and the Spanish Government\",\n",
      "                \"_lang\": \"en\"\n",
      "              }\n",
      "            ],\n",
      "            \"type\": \"http://www.w3.org/ns/dcat#Distribution\"\n",
      "          },\n",
      "          {\n",
      "            \"_about\": \"https://datos.gob.es/catalogo/a09002970-acuerdos-de-los-organos-bilaterales-generalitat-estado/resource/d7160d58-3779-4814-bc8d-88a15f152284\",\n",
      "            \"accessURL\": \"https://analisi.transparenciacatalunya.cat/api/views/7e6e-u9wr/rows.json?accessType=DOWNLOAD\",\n",
      "            \"format\": {\n",
      "              \"_about\": \"https://datos.gob.es/catalogo/a09002970-acuerdos-de-los-organos-bilaterales-generalitat-estado/resource/d7160d58-3779-4814-bc8d-88a15f152284/format\",\n",
      "              \"type\": \"http://purl.org/dc/terms/IMT\",\n",
      "              \"value\": \"application/json\"\n",
      "            },\n",
      "            \"identifier\": \"https://analisi.transparenciacatalunya.cat/d/7e6e-u9wr\",\n",
      "            \"title\": [\n",
      "              {\n",
      "                \"_value\": \"Acords dels \\u00f2rgans bilaterals Generalitat-Estat\",\n",
      "                \"_lang\": \"ca\"\n",
      "              },\n",
      "              {\n",
      "                \"_value\": \"Acuerdos de los \\u00d3rganos Bilaterales Generalitat-Estado\",\n",
      "                \"_lang\": \"es\"\n",
      "              },\n",
      "              {\n",
      "                \"_value\": \"Agreements of the Bilateral Comissions between de Catalan Government and the Spanish Government\",\n",
      "                \"_lang\": \"en\"\n",
      "              }\n",
      "            ],\n",
      "            \"type\": \"http://www.w3.org/ns/dcat#Distribution\"\n",
      "          },\n",
      "          {\n",
      "            \"_about\": \"https://datos.gob.es/catalogo/a09002970-acuerdos-de-los-organos-bilaterales-generalitat-estado/resource/f84ffb42-d846-40e3-93db-7f54e1404db3\",\n",
      "            \"accessURL\": \"https://analisi.transparenciacatalunya.cat/api/views/7e6e-u9wr/rows.rdf?accessType=DOWNLOAD\",\n",
      "            \"format\": {\n",
      "              \"_about\": \"https://datos.gob.es/catalogo/a09002970-acuerdos-de-los-organos-bilaterales-generalitat-estado/resource/f84ffb42-d846-40e3-93db-7f54e1404db3/format\",\n",
      "              \"type\": \"http://purl.org/dc/terms/IMT\",\n",
      "              \"value\": \"application/rdf+xml\"\n",
      "            },\n",
      "            \"identifier\": \"https://analisi.transparenciacatalunya.cat/d/7e6e-u9wr\",\n",
      "            \"title\": [\n",
      "              {\n",
      "                \"_value\": \"Acords dels \\u00f2rgans bilaterals Generalitat-Estat\",\n",
      "                \"_lang\": \"ca\"\n",
      "              },\n",
      "              {\n",
      "                \"_value\": \"Acuerdos de los \\u00d3rganos Bilaterales Generalitat-Estado\",\n",
      "                \"_lang\": \"es\"\n",
      "              },\n",
      "              {\n",
      "                \"_value\": \"Agreements of the Bilateral Comissions between de Catalan Government and the Spanish Government\",\n",
      "                \"_lang\": \"en\"\n",
      "              }\n",
      "            ],\n",
      "            \"type\": \"http://www.w3.org/ns/dcat#Distribution\"\n",
      "          }\n",
      "        ],\n",
      "        \"identifier\": \"https://analisi.transparenciacatalunya.cat/api/views/7e6e-u9wr\",\n",
      "        \"issued\": \"dom, 29 dic 2024 23:00:00 GMT+0000\",\n",
      "        \"keyword\": [\n",
      "          {\n",
      "            \"_value\": \"comissions bilaterals\",\n",
      "            \"_lang\": \"es\"\n",
      "          },\n",
      "          {\n",
      "            \"_value\": \"comissi\\u00f3 bilateral d'infraestructures\",\n",
      "            \"_lang\": \"es\"\n",
      "          },\n",
      "          {\n",
      "            \"_value\": \"comissi\\u00f3 bilateral generalitat-estat\",\n",
      "            \"_lang\": \"es\"\n",
      "          },\n",
      "          {\n",
      "            \"_value\": \"comissi\\u00f3 mixta d'afers econ\\u00f2mics i fiscals estat-generalitat de catalunya\",\n",
      "            \"_lang\": \"es\"\n",
      "          },\n",
      "          {\n",
      "            \"_value\": \"comissi\\u00f3 mixta de transfer\\u00e8ncies\",\n",
      "            \"_lang\": \"es\"\n",
      "          },\n",
      "          {\n",
      "            \"_value\": \"ods16_pau just\\u00edcies i institucions s\\u00f2lides\",\n",
      "            \"_lang\": \"es\"\n",
      "          },\n",
      "          {\n",
      "            \"_value\": \"subcomissions\",\n",
      "            \"_lang\": \"es\"\n",
      "          }\n",
      "        ],\n",
      "        \"language\": \"ca\",\n",
      "        \"license\": \"https://administraciodigital.gencat.cat/ca/dades/dades-obertes/informacio-practica/llicencies/\",\n",
      "        \"modified\": \"dom, 06 abr 2025 22:00:00 GMT+0000\",\n",
      "        \"publisher\": \"http://datos.gob.es/recurso/sector-publico/org/Organismo/A09002970\",\n",
      "        \"references\": \"https://analisi.transparenciacatalunya.cat/d/7e6e-u9wr\",\n",
      "        \"spatial\": \"http://datos.gob.es/recurso/sector-publico/territorio/Autonomia/Cataluna\",\n",
      "        \"theme\": \"http://datos.gob.es/kos/sector-publico/sector/sector-publico\",\n",
      "        \"title\": [\n",
      "          {\n",
      "            \"_value\": \"Acords dels \\u00f2rgans bilaterals Generalitat-Estat\",\n",
      "            \"_lang\": \"ca\"\n",
      "          },\n",
      "          {\n",
      "            \"_value\": \"Acuerdos de los \\u00d3rganos Bilaterales Generalitat-Estado\",\n",
      "            \"_lang\": \"es\"\n",
      "          },\n",
      "          {\n",
      "            \"_value\": \"Agreements of the Bilateral Comissions between de Catalan Government and the Spanish Government\",\n",
      "            \"_lang\": \"en\"\n",
      "          }\n",
      "        ],\n",
      "        \"type\": \"http://www.w3.org/ns/dcat#Dataset\"\n",
      "      },\n",
      "      {\n",
      "        \"_about\": \"https://datos.gob.es/catalogo/a09002970-actos-del-govierno\",\n",
      "        \"accrualPeriodicity\": {\n",
      "          \"_about\": \"https://datos.gob.es/catalogo/a09002970-actos-del-govierno/Frequency\",\n",
      "          \"value\": {\n",
      "            \"_about\": \"https://datos.gob.es/catalogo/a09002970-actos-del-govierno/DurationDescription\",\n",
      "            \"days\": 1.0\n",
      "          }\n",
      "        },\n",
      "        \"description\": [\n",
      "          {\n",
      "            \"_value\": \"Agenda dels actes del Govern de la Generalitat de Catalunya\",\n",
      "            \"_lang\": \"ca\"\n",
      "          },\n",
      "          {\n",
      "            \"_value\": \"Agenda dels actes del Govern de la Generalitat de Catalunya\",\n",
      "            \"_lang\": \"es\"\n",
      "          },\n",
      "          {\n",
      "            \"_value\": \"Agenda dels actes del Govern de la Generalitat de Catalunya\",\n",
      "            \"_lang\": \"en\"\n",
      "          }\n",
      "        ],\n",
      "        \"distribution\": [\n",
      "          {\n",
      "            \"_about\": \"https://datos.gob.es/catalogo/a09002970-actos-del-govierno/resource/2a19b11f-65f5-4f91-ad9d-7d99124ad9a1\",\n",
      "            \"accessURL\": \"https://analisi.transparenciacatalunya.cat/api/views/wf87-e34n/rows.csv?accessType=DOWNLOAD\",\n",
      "            \"format\": {\n",
      "              \"_about\": \"https://datos.gob.es/catalogo/a09002970-actos-del-govierno/resource/2a19b11f-65f5-4f91-ad9d-7d99124ad9a1/format\",\n",
      "              \"type\": \"http://purl.org/dc/terms/IMT\",\n",
      "              \"value\": \"text/csv\"\n",
      "            },\n",
      "            \"identifier\": \"https://analisi.transparenciacatalunya.cat/d/wf87-e34n\",\n",
      "            \"title\": [\n",
      "              {\n",
      "                \"_value\": \"Actes del Govern\",\n",
      "                \"_lang\": \"ca\"\n",
      "              },\n",
      "              {\n",
      "                \"_value\": \"Actos del Govierno\",\n",
      "                \"_lang\": \"es\"\n",
      "              },\n",
      "              {\n",
      "                \"_value\": \"Government Acts\",\n",
      "                \"_lang\": \"en\"\n",
      "              }\n",
      "            ],\n",
      "            \"type\": \"http://www.w3.org/ns/dcat#Distribution\"\n",
      "          },\n",
      "          {\n",
      "            \"_about\": \"https://datos.gob.es/catalogo/a09002970-actos-del-govierno/resource/5fbce62e-7deb-4120-9f29-cae2f8072aa5\",\n",
      "            \"accessURL\": \"https://analisi.transparenciacatalunya.cat/api/views/wf87-e34n/rows.xml?accessType=DOWNLOAD\",\n",
      "            \"format\": {\n",
      "              \"_about\": \"https://datos.gob.es/catalogo/a09002970-actos-del-govierno/resource/5fbce62e-7deb-4120-9f29-cae2f8072aa5/format\",\n",
      "              \"type\": \"http://purl.org/dc/terms/IMT\",\n",
      "              \"value\": \"application/xml\"\n",
      "            },\n",
      "            \"identifier\": \"https://analisi.transparenciacatalunya.cat/d/wf87-e34n\",\n",
      "            \"title\": [\n",
      "              {\n",
      "                \"_value\": \"Actes del Govern\",\n",
      "                \"_lang\": \"ca\"\n",
      "              },\n",
      "              {\n",
      "                \"_value\": \"Actos del Govierno\",\n",
      "                \"_lang\": \"es\"\n",
      "              },\n",
      "              {\n",
      "                \"_value\": \"Government Acts\",\n",
      "                \"_lang\": \"en\"\n",
      "              }\n",
      "            ],\n",
      "            \"type\": \"http://www.w3.org/ns/dcat#Distribution\"\n",
      "          },\n",
      "          {\n",
      "            \"_about\": \"https://datos.gob.es/catalogo/a09002970-actos-del-govierno/resource/dde0e624-07ed-489d-8525-aa55fdb17d87\",\n",
      "            \"accessURL\": \"https://analisi.transparenciacatalunya.cat/api/views/wf87-e34n/rows.rdf?accessType=DOWNLOAD\",\n",
      "            \"format\": {\n",
      "              \"_about\": \"https://datos.gob.es/catalogo/a09002970-actos-del-govierno/resource/dde0e624-07ed-489d-8525-aa55fdb17d87/format\",\n",
      "              \"type\": \"http://purl.org/dc/terms/IMT\",\n",
      "              \"value\": \"application/rdf+xml\"\n",
      "            },\n",
      "            \"identifier\": \"https://analisi.transparenciacatalunya.cat/d/wf87-e34n\",\n",
      "            \"title\": [\n",
      "              {\n",
      "                \"_value\": \"Actes del Govern\",\n",
      "                \"_lang\": \"ca\"\n",
      "              },\n",
      "              {\n",
      "                \"_value\": \"Actos del Govierno\",\n",
      "                \"_lang\": \"es\"\n",
      "              },\n",
      "              {\n",
      "                \"_value\": \"Government Acts\",\n",
      "                \"_lang\": \"en\"\n",
      "              }\n",
      "            ],\n",
      "            \"type\": \"http://www.w3.org/ns/dcat#Distribution\"\n",
      "          },\n",
      "          {\n",
      "            \"_about\": \"https://datos.gob.es/catalogo/a09002970-actos-del-govierno/resource/f4411845-b3c7-47e7-9f37-68de6b36f62c\",\n",
      "            \"accessURL\": \"https://analisi.transparenciacatalunya.cat/api/views/wf87-e34n/rows.json?accessType=DOWNLOAD\",\n",
      "            \"format\": {\n",
      "              \"_about\": \"https://datos.gob.es/catalogo/a09002970-actos-del-govierno/resource/f4411845-b3c7-47e7-9f37-68de6b36f62c/format\",\n",
      "              \"type\": \"http://purl.org/dc/terms/IMT\",\n",
      "              \"value\": \"application/json\"\n",
      "            },\n",
      "            \"identifier\": \"https://analisi.transparenciacatalunya.cat/d/wf87-e34n\",\n",
      "            \"title\": [\n",
      "              {\n",
      "                \"_value\": \"Actes del Govern\",\n",
      "                \"_lang\": \"ca\"\n",
      "              },\n",
      "              {\n",
      "                \"_value\": \"Actos del Govierno\",\n",
      "                \"_lang\": \"es\"\n",
      "              },\n",
      "              {\n",
      "                \"_value\": \"Government Acts\",\n",
      "                \"_lang\": \"en\"\n",
      "              }\n",
      "            ],\n",
      "            \"type\": \"http://www.w3.org/ns/dcat#Distribution\"\n",
      "          }\n",
      "        ],\n",
      "        \"identifier\": \"https://analisi.transparenciacatalunya.cat/api/views/wf87-e34n\",\n",
      "        \"issued\": \"mar, 13 jun 2023 22:00:00 GMT+0000\",\n",
      "        \"keyword\": [\n",
      "          {\n",
      "            \"_value\": \"actes\",\n",
      "            \"_lang\": \"es\"\n",
      "          },\n",
      "          {\n",
      "            \"_value\": \"agenda\",\n",
      "            \"_lang\": \"es\"\n",
      "          },\n",
      "          {\n",
      "            \"_value\": \"govern\",\n",
      "            \"_lang\": \"es\"\n",
      "          },\n",
      "          {\n",
      "            \"_value\": \"ods16_pau just\\u00edcies i institucions s\\u00f2lides\",\n",
      "            \"_lang\": \"es\"\n",
      "          },\n",
      "          {\n",
      "            \"_value\": \"president\",\n",
      "            \"_lang\": \"es\"\n",
      "          }\n",
      "        ],\n",
      "        \"language\": \"ca\",\n",
      "        \"license\": \"https://administraciodigital.gencat.cat/ca/dades/dades-obertes/informacio-practica/llicencies/\",\n",
      "        \"modified\": \"jue, 22 may 2025 22:00:00 GMT+0000\",\n",
      "        \"publisher\": \"http://datos.gob.es/recurso/sector-publico/org/Organismo/A09002970\",\n",
      "        \"references\": \"https://analisi.transparenciacatalunya.cat/d/wf87-e34n\",\n",
      "        \"spatial\": \"http://datos.gob.es/recurso/sector-publico/territorio/Autonomia/Cataluna\",\n",
      "        \"theme\": \"http://datos.gob.es/kos/sector-publico/sector/sector-publico\",\n",
      "        \"title\": [\n",
      "          {\n",
      "            \"_value\": \"Actes del Govern\",\n",
      "            \"_lang\": \"ca\"\n",
      "          },\n",
      "          {\n",
      "            \"_value\": \"Actos del Govierno\",\n",
      "            \"_lang\": \"es\"\n",
      "          },\n",
      "          {\n",
      "            \"_value\": \"Government Acts\",\n",
      "            \"_lang\": \"en\"\n",
      "          }\n",
      "        ],\n",
      "        \"type\": \"http://www.w3.org/ns/dcat#Dataset\"\n",
      "      },\n",
      "      {\n",
      "        \"_about\": \"https://datos.gob.es/catalogo/l01080193-actividades-de-difusion-de-los-centros-civicos-de-la-ciutat-de-barcelona\",\n",
      "        \"accrualPeriodicity\": {\n",
      "          \"_about\": \"https://datos.gob.es/catalogo/l01080193-actividades-de-difusion-de-los-centros-civicos-de-la-ciutat-de-barcelona/Frequency\",\n",
      "          \"value\": {\n",
      "            \"_about\": \"https://datos.gob.es/catalogo/l01080193-actividades-de-difusion-de-los-centros-civicos-de-la-ciutat-de-barcelona/DurationDescription\",\n",
      "            \"years\": 1.0\n",
      "          }\n",
      "        },\n",
      "        \"description\": [\n",
      "          {\n",
      "            \"_value\": \"Actividades de difusi\\u00f3n de los centros c\\u00edvicos de la ciutat de Barcelona\",\n",
      "            \"_lang\": \"es\"\n",
      "          },\n",
      "          {\n",
      "            \"_value\": \"Activitats de difusi\\u00f3 dels centres c\\u00edvics de la ciutat de Barcelona\",\n",
      "            \"_lang\": \"ca\"\n",
      "          },\n",
      "          {\n",
      "            \"_value\": \"Diffusion activities at civic centres in the city of Barcelona\",\n",
      "            \"_lang\": \"en\"\n",
      "          }\n",
      "        ],\n",
      "        \"distribution\": [\n",
      "          {\n",
      "            \"_about\": \"https://datos.gob.es/catalogo/l01080193-actividades-de-difusion-de-los-centros-civicos-de-la-ciutat-de-barcelona/resource/02188e6a-fe1b-4450-be38-1cf2ca370ca0\",\n",
      "            \"accessURL\": \"https://opendata-ajuntament.barcelona.cat/data/dataset/c3574255-c2bf-47fd-b83e-147d73614c2d/resource/182e5122-adad-41ab-8fe6-fe3c9d7468d6/download\",\n",
      "            \"format\": {\n",
      "              \"_about\": \"https://datos.gob.es/catalogo/l01080193-actividades-de-difusion-de-los-centros-civicos-de-la-ciutat-de-barcelona/resource/02188e6a-fe1b-4450-be38-1cf2ca370ca0/format\",\n",
      "              \"type\": \"http://purl.org/dc/terms/IMT\",\n",
      "              \"value\": \"text/csv\"\n",
      "            },\n",
      "            \"identifier\": \"https://opendata-ajuntament.barcelona.cat/data/dataset/centres-civics-activitatsdifusio/resource/182e5122-adad-41ab-8fe6-fe3c9d7468d6\",\n",
      "            \"title\": [\n",
      "              {\n",
      "                \"_value\": \"2023_centres_civics_activitats_difusio.csv\",\n",
      "                \"_lang\": \"ca\"\n",
      "              },\n",
      "              {\n",
      "                \"_value\": \"2023_centres_civics_activitats_difusio.csv\",\n",
      "                \"_lang\": \"es\"\n",
      "              },\n",
      "              {\n",
      "                \"_value\": \"2023_centres_civics_activitats_difusio.csv\",\n",
      "                \"_lang\": \"en\"\n",
      "              }\n",
      "            ],\n",
      "            \"type\": \"http://www.w3.org/ns/dcat#Distribution\"\n",
      "          },\n",
      "          {\n",
      "            \"_about\": \"https://datos.gob.es/catalogo/l01080193-actividades-de-difusion-de-los-centros-civicos-de-la-ciutat-de-barcelona/resource/152510bb-0879-4108-a386-22eaa3318d67\",\n",
      "            \"accessURL\": \"https://opendata-ajuntament.barcelona.cat/data/dataset/c3574255-c2bf-47fd-b83e-147d73614c2d/resource/ea029cb2-5df3-4309-95e3-c872d714c322/download\",\n",
      "            \"format\": {\n",
      "              \"_about\": \"https://datos.gob.es/catalogo/l01080193-actividades-de-difusion-de-los-centros-civicos-de-la-ciutat-de-barcelona/resource/152510bb-0879-4108-a386-22eaa3318d67/format\",\n",
      "              \"type\": \"http://purl.org/dc/terms/IMT\",\n",
      "              \"value\": \"application/xml\"\n",
      "            },\n",
      "            \"identifier\": \"https://opendata-ajuntament.barcelona.cat/data/dataset/centres-civics-activitatsdifusio/resource/ea029cb2-5df3-4309-95e3-c872d714c322\",\n",
      "            \"title\": [\n",
      "              {\n",
      "                \"_value\": \"2020_centres_civics_activitats_difusio.xml\",\n",
      "                \"_lang\": \"es\"\n",
      "              },\n",
      "              {\n",
      "                \"_value\": \"2020_centres_civics_activitats_difusio.xml\",\n",
      "                \"_lang\": \"en\"\n",
      "              },\n",
      "              {\n",
      "                \"_value\": \"2020_centres_civics_activitats_difusio.xml\",\n",
      "                \"_lang\": \"ca\"\n",
      "              }\n",
      "            ],\n",
      "            \"type\": \"http://www.w3.org/ns/dcat#Distribution\"\n",
      "          },\n",
      "          {\n",
      "            \"_about\": \"https://datos.gob.es/catalogo/l01080193-actividades-de-difusion-de-los-centros-civicos-de-la-ciutat-de-barcelona/resource/1ae17822-dc40-42b5-ba71-33f470d1f53a\",\n",
      "            \"accessURL\": \"https://opendata-ajuntament.barcelona.cat/data/dataset/c3574255-c2bf-47fd-b83e-147d73614c2d/resource/33151b18-e486-4869-a3ce-28ba87a11942/download\",\n",
      "            \"format\": {\n",
      "              \"_about\": \"https://datos.gob.es/catalogo/l01080193-actividades-de-difusion-de-los-centros-civicos-de-la-ciutat-de-barcelona/resource/1ae17822-dc40-42b5-ba71-33f470d1f53a/format\",\n",
      "              \"type\": \"http://purl.org/dc/terms/IMT\",\n",
      "              \"value\": \"text/csv\"\n",
      "            },\n",
      "            \"identifier\": \"https://opendata-ajuntament.barcelona.cat/data/dataset/centres-civics-activitatsdifusio/resource/33151b18-e486-4869-a3ce-28ba87a11942\",\n",
      "            \"title\": [\n",
      "              {\n",
      "                \"_value\": \"2014_centrescivics-activitatsdifusio.csv\",\n",
      "                \"_lang\": \"es\"\n",
      "              },\n",
      "              {\n",
      "                \"_value\": \"2014_centrescivics-activitatsdifusio.csv\",\n",
      "                \"_lang\": \"en\"\n",
      "              },\n",
      "              {\n",
      "                \"_value\": \"2014_centrescivics-activitatsdifusio.csv\",\n",
      "                \"_lang\": \"ca\"\n",
      "              }\n",
      "            ],\n",
      "            \"type\": \"http://www.w3.org/ns/dcat#Distribution\"\n",
      "          },\n",
      "          {\n",
      "            \"_about\": \"https://datos.gob.es/catalogo/l01080193-actividades-de-difusion-de-los-centros-civicos-de-la-ciutat-de-barcelona/resource/308d1f87-bffe-4bae-8d31-8e9df9e6c4a7\",\n",
      "            \"accessURL\": \"https://opendata-ajuntament.barcelona.cat/data/dataset/c3574255-c2bf-47fd-b83e-147d73614c2d/resource/7310b758-7f1a-471b-8a03-5f5e679262d8/download\",\n",
      "            \"format\": {\n",
      "              \"_about\": \"https://datos.gob.es/catalogo/l01080193-actividades-de-difusion-de-los-centros-civicos-de-la-ciutat-de-barcelona/resource/308d1f87-bffe-4bae-8d31-8e9df9e6c4a7/format\",\n",
      "              \"type\": \"http://purl.org/dc/terms/IMT\",\n",
      "              \"value\": \"application/xml\"\n",
      "            },\n",
      "            \"identifier\": \"https://opendata-ajuntament.barcelona.cat/data/dataset/centres-civics-activitatsdifusio/resource/7310b758-7f1a-471b-8a03-5f5e679262d8\",\n",
      "            \"title\": [\n",
      "              {\n",
      "                \"_value\": \"2021_centres_civics_activitats_difusio.xml\",\n",
      "                \"_lang\": \"en\"\n",
      "              },\n",
      "              {\n",
      "                \"_value\": \"2021_centres_civics_activitats_difusio.xml\",\n",
      "                \"_lang\": \"ca\"\n",
      "              },\n",
      "              {\n",
      "                \"_value\": \"2021_centres_civics_activitats_difusio.xml\",\n",
      "                \"_lang\": \"es\"\n",
      "              }\n",
      "            ],\n",
      "            \"type\": \"http://www.w3.org/ns/dcat#Distribution\"\n",
      "          },\n",
      "          {\n",
      "            \"_about\": \"https://datos.gob.es/catalogo/l01080193-actividades-de-difusion-de-los-centros-civicos-de-la-ciutat-de-barcelona/resource/609409b5-6020-4ecb-a6b2-7dc642357beb\",\n",
      "            \"accessURL\": \"https://opendata-ajuntament.barcelona.cat/data/dataset/c3574255-c2bf-47fd-b83e-147d73614c2d/resource/85b02bc4-593c-4fd2-9508-ceb706868a64/download\",\n",
      "            \"format\": {\n",
      "              \"_about\": \"https://datos.gob.es/catalogo/l01080193-actividades-de-difusion-de-los-centros-civicos-de-la-ciutat-de-barcelona/resource/609409b5-6020-4ecb-a6b2-7dc642357beb/format\",\n",
      "              \"type\": \"http://purl.org/dc/terms/IMT\",\n",
      "              \"value\": \"text/csv\"\n",
      "            },\n",
      "            \"identifier\": \"https://opendata-ajuntament.barcelona.cat/data/dataset/centres-civics-activitatsdifusio/resource/85b02bc4-593c-4fd2-9508-ceb706868a64\",\n",
      "            \"title\": [\n",
      "              {\n",
      "                \"_value\": \"2019_centres_civics_activitats_difusio.csv\",\n",
      "                \"_lang\": \"en\"\n",
      "              },\n",
      "              {\n",
      "                \"_value\": \"2019_centres_civics_activitats_difusio.csv\",\n",
      "                \"_lang\": \"es\"\n",
      "              },\n",
      "              {\n",
      "                \"_value\": \"2019_centres_civics_activitats_difusio.csv\",\n",
      "                \"_lang\": \"ca\"\n",
      "              }\n",
      "            ],\n",
      "            \"type\": \"http://www.w3.org/ns/dcat#Distribution\"\n",
      "          },\n",
      "          {\n",
      "            \"_about\": \"https://datos.gob.es/catalogo/l01080193-actividades-de-difusion-de-los-centros-civicos-de-la-ciutat-de-barcelona/resource/62e145f1-7034-4913-b34b-46e2d4ef2759\",\n",
      "            \"accessURL\": \"https://opendata-ajuntament.barcelona.cat/data/dataset/c3574255-c2bf-47fd-b83e-147d73614c2d/resource/dad79d4a-aa22-484d-9c16-3b4d60b2c1e9/download\",\n",
      "            \"format\": {\n",
      "              \"_about\": \"https://datos.gob.es/catalogo/l01080193-actividades-de-difusion-de-los-centros-civicos-de-la-ciutat-de-barcelona/resource/62e145f1-7034-4913-b34b-46e2d4ef2759/format\",\n",
      "              \"type\": \"http://purl.org/dc/terms/IMT\",\n",
      "              \"value\": \"text/csv\"\n",
      "            },\n",
      "            \"identifier\": \"https://opendata-ajuntament.barcelona.cat/data/dataset/centres-civics-activitatsdifusio/resource/dad79d4a-aa22-484d-9c16-3b4d60b2c1e9\",\n",
      "            \"title\": [\n",
      "              {\n",
      "                \"_value\": \"2021_centres_civics_activitats_difusio.csv\",\n",
      "                \"_lang\": \"en\"\n",
      "              },\n",
      "              {\n",
      "                \"_value\": \"2021_centres_civics_activitats_difusio.csv\",\n",
      "                \"_lang\": \"ca\"\n",
      "              },\n",
      "              {\n",
      "                \"_value\": \"2021_centres_civics_activitats_difusio.csv\",\n",
      "                \"_lang\": \"es\"\n",
      "              }\n",
      "            ],\n",
      "            \"type\": \"http://www.w3.org/ns/dcat#Distribution\"\n",
      "          },\n",
      "          {\n",
      "            \"_about\": \"https://datos.gob.es/catalogo/l01080193-actividades-de-difusion-de-los-centros-civicos-de-la-ciutat-de-barcelona/resource/653d9587-cf8c-4400-8ae1-86f0cdb83938\",\n",
      "            \"accessURL\": \"https://opendata-ajuntament.barcelona.cat/data/dataset/c3574255-c2bf-47fd-b83e-147d73614c2d/resource/852d8fe9-7b3d-40ae-8f16-0d50662c809a/download\",\n",
      "            \"format\": {\n",
      "              \"_about\": \"https://datos.gob.es/catalogo/l01080193-actividades-de-difusion-de-los-centros-civicos-de-la-ciutat-de-barcelona/resource/653d9587-cf8c-4400-8ae1-86f0cdb83938/format\",\n",
      "              \"type\": \"http://purl.org/dc/terms/IMT\",\n",
      "              \"value\": \"text/csv\"\n",
      "            },\n",
      "            \"identifier\": \"https://opendata-ajuntament.barcelona.cat/data/dataset/centres-civics-activitatsdifusio/resource/852d8fe9-7b3d-40ae-8f16-0d50662c809a\",\n",
      "            \"title\": [\n",
      "              {\n",
      "                \"_value\": \"2022_centres_civics_activitats_difusio.csv\",\n",
      "                \"_lang\": \"ca\"\n",
      "              },\n",
      "              {\n",
      "                \"_value\": \"2022_centres_civics_activitats_difusio.csv\",\n",
      "                \"_lang\": \"es\"\n",
      "              },\n",
      "              {\n",
      "                \"_value\": \"2022_centres_civics_activitats_difusio.csv\",\n",
      "                \"_lang\": \"en\"\n",
      "              }\n",
      "            ],\n",
      "            \"type\": \"http://www.w3.org/ns/dcat#Distribution\"\n",
      "          },\n",
      "          {\n",
      "            \"_about\": \"https://datos.gob.es/catalogo/l01080193-actividades-de-difusion-de-los-centros-civicos-de-la-ciutat-de-barcelona/resource/6e8a1d84-d2af-4eba-b44b-c3aefd6bc359\",\n",
      "            \"accessURL\": \"https://opendata-ajuntament.barcelona.cat/data/dataset/c3574255-c2bf-47fd-b83e-147d73614c2d/resource/9e9c675a-b15c-453d-8640-27e6ba1c9a5f/download\",\n",
      "            \"format\": {\n",
      "              \"_about\": \"https://datos.gob.es/catalogo/l01080193-actividades-de-difusion-de-los-centros-civicos-de-la-ciutat-de-barcelona/resource/6e8a1d84-d2af-4eba-b44b-c3aefd6bc359/format\",\n",
      "              \"type\": \"http://purl.org/dc/terms/IMT\",\n",
      "              \"value\": \"application/xml\"\n",
      "            },\n",
      "            \"identifier\": \"https://opendata-ajuntament.barcelona.cat/data/dataset/centres-civics-activitatsdifusio/resource/9e9c675a-b15c-453d-8640-27e6ba1c9a5f\",\n",
      "            \"title\": [\n",
      "              {\n",
      "                \"_value\": \"2023_centres_civics_activitats_difusio.xml\",\n",
      "                \"_lang\": \"es\"\n",
      "              },\n",
      "              {\n",
      "                \"_value\": \"2023_centres_civics_activitats_difusio.xml\",\n",
      "                \"_lang\": \"en\"\n",
      "              },\n",
      "              {\n",
      "                \"_value\": \"2023_centres_civics_activitats_difusio.xml\",\n",
      "                \"_lang\": \"ca\"\n",
      "              }\n",
      "            ],\n",
      "            \"type\": \"http://www.w3.org/ns/dcat#Distribution\"\n",
      "          },\n",
      "          {\n",
      "            \"_about\": \"https://datos.gob.es/catalogo/l01080193-actividades-de-difusion-de-los-centros-civicos-de-la-ciutat-de-barcelona/resource/8a7d5b7f-6c00-4c68-b0fd-f006ccc41967\",\n",
      "            \"accessURL\": \"https://opendata-ajuntament.barcelona.cat/data/dataset/c3574255-c2bf-47fd-b83e-147d73614c2d/resource/8c5e3ba7-4ee0-431e-9072-03dacf6f1773/download\",\n",
      "            \"format\": {\n",
      "              \"_about\": \"https://datos.gob.es/catalogo/l01080193-actividades-de-difusion-de-los-centros-civicos-de-la-ciutat-de-barcelona/resource/8a7d5b7f-6c00-4c68-b0fd-f006ccc41967/format\",\n",
      "              \"type\": \"http://purl.org/dc/terms/IMT\",\n",
      "              \"value\": \"text/csv\"\n",
      "            },\n",
      "            \"identifier\": \"https://opendata-ajuntament.barcelona.cat/data/dataset/centres-civics-activitatsdifusio/resource/8c5e3ba7-4ee0-431e-9072-03dacf6f1773\",\n",
      "            \"title\": [\n",
      "              {\n",
      "                \"_value\": \"2017_centrescivics-activitatsdifusio.csv\",\n",
      "                \"_lang\": \"en\"\n",
      "              },\n",
      "              {\n",
      "                \"_value\": \"2017_centrescivics-activitatsdifusio.csv\",\n",
      "                \"_lang\": \"es\"\n",
      "              },\n",
      "              {\n",
      "                \"_value\": \"2017_centrescivics-activitatsdifusio.csv\",\n",
      "                \"_lang\": \"ca\"\n",
      "              }\n",
      "            ],\n",
      "            \"type\": \"http://www.w3.org/ns/dcat#Distribution\"\n",
      "          },\n",
      "          {\n",
      "            \"_about\": \"https://datos.gob.es/catalogo/l01080193-actividades-de-difusion-de-los-centros-civicos-de-la-ciutat-de-barcelona/resource/8da3ab34-356e-4034-a493-bff511419a83\",\n",
      "            \"accessURL\": \"https://opendata-ajuntament.barcelona.cat/data/dataset/c3574255-c2bf-47fd-b83e-147d73614c2d/resource/2ffecd42-fb6e-427c-b5a3-2ba0a59bfc2f/download\",\n",
      "            \"format\": {\n",
      "              \"_about\": \"https://datos.gob.es/catalogo/l01080193-actividades-de-difusion-de-los-centros-civicos-de-la-ciutat-de-barcelona/resource/8da3ab34-356e-4034-a493-bff511419a83/format\",\n",
      "              \"type\": \"http://purl.org/dc/terms/IMT\",\n",
      "              \"value\": \"text/csv\"\n",
      "            },\n",
      "            \"identifier\": \"https://opendata-ajuntament.barcelona.cat/data/dataset/centres-civics-activitatsdifusio/resource/2ffecd42-fb6e-427c-b5a3-2ba0a59bfc2f\",\n",
      "            \"title\": [\n",
      "              {\n",
      "                \"_value\": \"2020_centres_civics_activitats_difusio.csv\",\n",
      "                \"_lang\": \"es\"\n",
      "              },\n",
      "              {\n",
      "                \"_value\": \"2020_centres_civics_activitats_difusio.csv\",\n",
      "                \"_lang\": \"ca\"\n",
      "              },\n",
      "              {\n",
      "                \"_value\": \"2020_centres_civics_activitats_difusio.csv\",\n",
      "                \"_lang\": \"en\"\n",
      "              }\n",
      "            ],\n",
      "            \"type\": \"http://www.w3.org/ns/dcat#Distribution\"\n",
      "          },\n",
      "          {\n",
      "            \"_about\": \"https://datos.gob.es/catalogo/l01080193-actividades-de-difusion-de-los-centros-civicos-de-la-ciutat-de-barcelona/resource/8ebf80b2-f2e0-4686-bfc6-d386ebd9cdb9\",\n",
      "            \"accessURL\": \"https://opendata-ajuntament.barcelona.cat/data/dataset/c3574255-c2bf-47fd-b83e-147d73614c2d/resource/076100c2-cdd3-4cd4-a43e-a1828a820a3a/download\",\n",
      "            \"format\": {\n",
      "              \"_about\": \"https://datos.gob.es/catalogo/l01080193-actividades-de-difusion-de-los-centros-civicos-de-la-ciutat-de-barcelona/resource/8ebf80b2-f2e0-4686-bfc6-d386ebd9cdb9/format\",\n",
      "              \"type\": \"http://purl.org/dc/terms/IMT\",\n",
      "              \"value\": \"text/csv\"\n",
      "            },\n",
      "            \"identifier\": \"https://opendata-ajuntament.barcelona.cat/data/dataset/centres-civics-activitatsdifusio/resource/076100c2-cdd3-4cd4-a43e-a1828a820a3a\",\n",
      "            \"title\": [\n",
      "              {\n",
      "                \"_value\": \"2016_centrescivics-activitatsdifusio.csv\",\n",
      "                \"_lang\": \"ca\"\n",
      "              },\n",
      "              {\n",
      "                \"_value\": \"2016_centrescivics-activitatsdifusio.csv\",\n",
      "                \"_lang\": \"es\"\n",
      "              },\n",
      "              {\n",
      "                \"_value\": \"2016_centrescivics-activitatsdifusio.csv\",\n",
      "                \"_lang\": \"en\"\n",
      "              }\n",
      "            ],\n",
      "            \"type\": \"http://www.w3.org/ns/dcat#Distribution\"\n",
      "          },\n",
      "          {\n",
      "            \"_about\": \"https://datos.gob.es/catalogo/l01080193-actividades-de-difusion-de-los-centros-civicos-de-la-ciutat-de-barcelona/resource/903a8a19-a9aa-4098-8e16-707f79129496\",\n",
      "            \"accessURL\": \"https://opendata-ajuntament.barcelona.cat/data/dataset/c3574255-c2bf-47fd-b83e-147d73614c2d/resource/2616eee2-6689-4bee-9ee8-7e0deb8a782e/download\",\n",
      "            \"format\": {\n",
      "              \"_about\": \"https://datos.gob.es/catalogo/l01080193-actividades-de-difusion-de-los-centros-civicos-de-la-ciutat-de-barcelona/resource/903a8a19-a9aa-4098-8e16-707f79129496/format\",\n",
      "              \"type\": \"http://purl.org/dc/terms/IMT\",\n",
      "              \"value\": \"application/xml\"\n",
      "            },\n",
      "            \"identifier\": \"https://opendata-ajuntament.barcelona.cat/data/dataset/centres-civics-activitatsdifusio/resource/2616eee2-6689-4bee-9ee8-7e0deb8a782e\",\n",
      "            \"title\": [\n",
      "              {\n",
      "                \"_value\": \"2014_centrescivics-activitatsdifusio.xml\",\n",
      "                \"_lang\": \"en\"\n",
      "              },\n",
      "              {\n",
      "                \"_value\": \"2014_centrescivics-activitatsdifusio.xml\",\n",
      "                \"_lang\": \"ca\"\n",
      "              },\n",
      "              {\n",
      "                \"_value\": \"2014_centrescivics-activitatsdifusio.xml\",\n",
      "                \"_lang\": \"es\"\n",
      "              }\n",
      "            ],\n",
      "            \"type\": \"http://www.w3.org/ns/dcat#Distribution\"\n",
      "          },\n",
      "          {\n",
      "            \"_about\": \"https://datos.gob.es/catalogo/l01080193-actividades-de-difusion-de-los-centros-civicos-de-la-ciutat-de-barcelona/resource/91849ed8-f52d-4d2a-83c3-c89f29c4cd02\",\n",
      "            \"accessURL\": \"https://opendata-ajuntament.barcelona.cat/data/dataset/c3574255-c2bf-47fd-b83e-147d73614c2d/resource/6a57d729-7341-404f-afa6-1bca7dc0d331/download\",\n",
      "            \"format\": {\n",
      "              \"_about\": \"https://datos.gob.es/catalogo/l01080193-actividades-de-difusion-de-los-centros-civicos-de-la-ciutat-de-barcelona/resource/91849ed8-f52d-4d2a-83c3-c89f29c4cd02/format\",\n",
      "              \"type\": \"http://purl.org/dc/terms/IMT\",\n",
      "              \"value\": \"text/csv\"\n",
      "            },\n",
      "            \"identifier\": \"https://opendata-ajuntament.barcelona.cat/data/dataset/centres-civics-activitatsdifusio/resource/6a57d729-7341-404f-afa6-1bca7dc0d331\",\n",
      "            \"title\": [\n",
      "              {\n",
      "                \"_value\": \"2018_centrescivics-activitatsdifusio.csv\",\n",
      "                \"_lang\": \"ca\"\n",
      "              },\n",
      "              {\n",
      "                \"_value\": \"2018_centrescivics-activitatsdifusio.csv\",\n",
      "                \"_lang\": \"es\"\n",
      "              },\n",
      "              {\n",
      "                \"_value\": \"2018_centrescivics-activitatsdifusio.csv\",\n",
      "                \"_lang\": \"en\"\n",
      "              }\n",
      "            ],\n",
      "            \"type\": \"http://www.w3.org/ns/dcat#Distribution\"\n",
      "          },\n",
      "          {\n",
      "            \"_about\": \"https://datos.gob.es/catalogo/l01080193-actividades-de-difusion-de-los-centros-civicos-de-la-ciutat-de-barcelona/resource/95d8891c-0bec-4114-89f5-f04eb7d941f6\",\n",
      "            \"accessURL\": \"https://opendata-ajuntament.barcelona.cat/data/dataset/c3574255-c2bf-47fd-b83e-147d73614c2d/resource/da3fb11c-76f7-41c7-97aa-22169f6fec32/download\",\n",
      "            \"format\": {\n",
      "              \"_about\": \"https://datos.gob.es/catalogo/l01080193-actividades-de-difusion-de-los-centros-civicos-de-la-ciutat-de-barcelona/resource/95d8891c-0bec-4114-89f5-f04eb7d941f6/format\",\n",
      "              \"type\": \"http://purl.org/dc/terms/IMT\",\n",
      "              \"value\": \"application/xml\"\n",
      "            },\n",
      "            \"identifier\": \"https://opendata-ajuntament.barcelona.cat/data/dataset/centres-civics-activitatsdifusio/resource/da3fb11c-76f7-41c7-97aa-22169f6fec32\",\n",
      "            \"title\": [\n",
      "              {\n",
      "                \"_value\": \"2018_centrescivics-activitatsdifusio.xml\",\n",
      "                \"_lang\": \"ca\"\n",
      "              },\n",
      "              {\n",
      "                \"_value\": \"2018_centrescivics-activitatsdifusio.xml\",\n",
      "                \"_lang\": \"es\"\n",
      "              },\n",
      "              {\n",
      "                \"_value\": \"2018_centrescivics-activitatsdifusio.xml\",\n",
      "                \"_lang\": \"en\"\n",
      "              }\n",
      "            ],\n",
      "            \"type\": \"http://www.w3.org/ns/dcat#Distribution\"\n",
      "          },\n",
      "          {\n",
      "            \"_about\": \"https://datos.gob.es/catalogo/l01080193-actividades-de-difusion-de-los-centros-civicos-de-la-ciutat-de-barcelona/resource/a7098da0-8f3f-49da-a581-791cb11b25fd\",\n",
      "            \"accessURL\": \"https://opendata-ajuntament.barcelona.cat/data/dataset/c3574255-c2bf-47fd-b83e-147d73614c2d/resource/61d71320-a32a-4749-954c-268554cea585/download\",\n",
      "            \"format\": {\n",
      "              \"_about\": \"https://datos.gob.es/catalogo/l01080193-actividades-de-difusion-de-los-centros-civicos-de-la-ciutat-de-barcelona/resource/a7098da0-8f3f-49da-a581-791cb11b25fd/format\",\n",
      "              \"type\": \"http://purl.org/dc/terms/IMT\",\n",
      "              \"value\": \"application/xml\"\n",
      "            },\n",
      "            \"identifier\": \"https://opendata-ajuntament.barcelona.cat/data/dataset/centres-civics-activitatsdifusio/resource/61d71320-a32a-4749-954c-268554cea585\",\n",
      "            \"title\": [\n",
      "              {\n",
      "                \"_value\": \"2019_centres_civics_activitats_difusio.xml\",\n",
      "                \"_lang\": \"ca\"\n",
      "              },\n",
      "              {\n",
      "                \"_value\": \"2019_centres_civics_activitats_difusio.xml\",\n",
      "                \"_lang\": \"es\"\n",
      "              },\n",
      "              {\n",
      "                \"_value\": \"2019_centres_civics_activitats_difusio.xml\",\n",
      "                \"_lang\": \"en\"\n",
      "              }\n",
      "            ],\n",
      "            \"type\": \"http://www.w3.org/ns/dcat#Distribution\"\n",
      "          },\n",
      "          {\n",
      "            \"_about\": \"https://datos.gob.es/catalogo/l01080193-actividades-de-difusion-de-los-centros-civicos-de-la-ciutat-de-barcelona/resource/b0ff459d-5727-4474-877e-f4706dfc11a2\",\n",
      "            \"accessURL\": \"https://opendata-ajuntament.barcelona.cat/data/dataset/c3574255-c2bf-47fd-b83e-147d73614c2d/resource/936563e6-3c66-4a0d-9826-89671c5a04a8/download\",\n",
      "            \"format\": {\n",
      "              \"_about\": \"https://datos.gob.es/catalogo/l01080193-actividades-de-difusion-de-los-centros-civicos-de-la-ciutat-de-barcelona/resource/b0ff459d-5727-4474-877e-f4706dfc11a2/format\",\n",
      "              \"type\": \"http://purl.org/dc/terms/IMT\",\n",
      "              \"value\": \"text/csv\"\n",
      "            },\n",
      "            \"identifier\": \"https://opendata-ajuntament.barcelona.cat/data/dataset/centres-civics-activitatsdifusio/resource/936563e6-3c66-4a0d-9826-89671c5a04a8\",\n",
      "            \"title\": [\n",
      "              {\n",
      "                \"_value\": \"2015_centrescivics-activitatsdifusio.csv\",\n",
      "                \"_lang\": \"en\"\n",
      "              },\n",
      "              {\n",
      "                \"_value\": \"2015_centrescivics-activitatsdifusio.csv\",\n",
      "                \"_lang\": \"ca\"\n",
      "              },\n",
      "              {\n",
      "                \"_value\": \"2015_centrescivics-activitatsdifusio.csv\",\n",
      "                \"_lang\": \"es\"\n",
      "              }\n",
      "            ],\n",
      "            \"type\": \"http://www.w3.org/ns/dcat#Distribution\"\n",
      "          },\n",
      "          {\n",
      "            \"_about\": \"https://datos.gob.es/catalogo/l01080193-actividades-de-difusion-de-los-centros-civicos-de-la-ciutat-de-barcelona/resource/c6022ccb-bf0a-4374-a808-1ecd62fcb7e2\",\n",
      "            \"accessURL\": \"https://opendata-ajuntament.barcelona.cat/data/dataset/c3574255-c2bf-47fd-b83e-147d73614c2d/resource/02da6581-40ca-4a91-b3e7-679a8befc8fb/download\",\n",
      "            \"format\": {\n",
      "              \"_about\": \"https://datos.gob.es/catalogo/l01080193-actividades-de-difusion-de-los-centros-civicos-de-la-ciutat-de-barcelona/resource/c6022ccb-bf0a-4374-a808-1ecd62fcb7e2/format\",\n",
      "              \"type\": \"http://purl.org/dc/terms/IMT\",\n",
      "              \"value\": \"application/xml\"\n",
      "            },\n",
      "            \"identifier\": \"https://opendata-ajuntament.barcelona.cat/data/dataset/centres-civics-activitatsdifusio/resource/02da6581-40ca-4a91-b3e7-679a8befc8fb\",\n",
      "            \"title\": [\n",
      "              {\n",
      "                \"_value\": \"2022_centres_civics_activitats_difusio.xml\",\n",
      "                \"_lang\": \"es\"\n",
      "              },\n",
      "              {\n",
      "                \"_value\": \"2022_centres_civics_activitats_difusio.xml\",\n",
      "                \"_lang\": \"en\"\n",
      "              },\n",
      "              {\n",
      "                \"_value\": \"2022_centres_civics_activitats_difusio.xml\",\n",
      "                \"_lang\": \"ca\"\n",
      "              }\n",
      "            ],\n",
      "            \"type\": \"http://www.w3.org/ns/dcat#Distribution\"\n",
      "          },\n",
      "          {\n",
      "            \"_about\": \"https://datos.gob.es/catalogo/l01080193-actividades-de-difusion-de-los-centros-civicos-de-la-ciutat-de-barcelona/resource/c69fcb0a-cdc6-42bd-ae4f-dab5c2730a71\",\n",
      "            \"accessURL\": \"https://opendata-ajuntament.barcelona.cat/data/dataset/c3574255-c2bf-47fd-b83e-147d73614c2d/resource/99067c00-a043-4f02-814f-d4cb833eea8e/download\",\n",
      "            \"format\": {\n",
      "              \"_about\": \"https://datos.gob.es/catalogo/l01080193-actividades-de-difusion-de-los-centros-civicos-de-la-ciutat-de-barcelona/resource/c69fcb0a-cdc6-42bd-ae4f-dab5c2730a71/format\",\n",
      "              \"type\": \"http://purl.org/dc/terms/IMT\",\n",
      "              \"value\": \"application/xml\"\n",
      "            },\n",
      "            \"identifier\": \"https://opendata-ajuntament.barcelona.cat/data/dataset/centres-civics-activitatsdifusio/resource/99067c00-a043-4f02-814f-d4cb833eea8e\",\n",
      "            \"title\": [\n",
      "              {\n",
      "                \"_value\": \"2015_centrescivics-activitatsdifusio.xml\",\n",
      "                \"_lang\": \"en\"\n",
      "              },\n",
      "              {\n",
      "                \"_value\": \"2015_centrescivics-activitatsdifusio.xml\",\n",
      "                \"_lang\": \"ca\"\n",
      "              },\n",
      "              {\n",
      "                \"_value\": \"2015_centrescivics-activitatsdifusio.xml\",\n",
      "                \"_lang\": \"es\"\n",
      "              }\n",
      "            ],\n",
      "            \"type\": \"http://www.w3.org/ns/dcat#Distribution\"\n",
      "          },\n",
      "          {\n",
      "            \"_about\": \"https://datos.gob.es/catalogo/l01080193-actividades-de-difusion-de-los-centros-civicos-de-la-ciutat-de-barcelona/resource/f4ea73f9-02a1-4f33-9413-c7b8f9397e03\",\n",
      "            \"accessURL\": \"https://opendata-ajuntament.barcelona.cat/data/dataset/c3574255-c2bf-47fd-b83e-147d73614c2d/resource/ac18797d-d1bd-461b-8ac9-4b823cc7c045/download\",\n",
      "            \"format\": {\n",
      "              \"_about\": \"https://datos.gob.es/catalogo/l01080193-actividades-de-difusion-de-los-centros-civicos-de-la-ciutat-de-barcelona/resource/f4ea73f9-02a1-4f33-9413-c7b8f9397e03/format\",\n",
      "              \"type\": \"http://purl.org/dc/terms/IMT\",\n",
      "              \"value\": \"application/xml\"\n",
      "            },\n",
      "            \"identifier\": \"https://opendata-ajuntament.barcelona.cat/data/dataset/centres-civics-activitatsdifusio/resource/ac18797d-d1bd-461b-8ac9-4b823cc7c045\",\n",
      "            \"title\": [\n",
      "              {\n",
      "                \"_value\": \"2016_centrescivics-activitatsdifusio.xml\",\n",
      "                \"_lang\": \"en\"\n",
      "              },\n",
      "              {\n",
      "                \"_value\": \"2016_centrescivics-activitatsdifusio.xml\",\n",
      "                \"_lang\": \"ca\"\n",
      "              },\n",
      "              {\n",
      "                \"_value\": \"2016_centrescivics-activitatsdifusio.xml\",\n",
      "                \"_lang\": \"es\"\n",
      "              }\n",
      "            ],\n",
      "            \"type\": \"http://www.w3.org/ns/dcat#Distribution\"\n",
      "          },\n",
      "          {\n",
      "            \"_about\": \"https://datos.gob.es/catalogo/l01080193-actividades-de-difusion-de-los-centros-civicos-de-la-ciutat-de-barcelona/resource/fc845293-6ae8-485e-8b99-4c5d63cf135e\",\n",
      "            \"accessURL\": \"https://opendata-ajuntament.barcelona.cat/data/dataset/c3574255-c2bf-47fd-b83e-147d73614c2d/resource/c0cc1ced-ca2f-42d6-bd84-f1a418fc5804/download\",\n",
      "            \"format\": {\n",
      "              \"_about\": \"https://datos.gob.es/catalogo/l01080193-actividades-de-difusion-de-los-centros-civicos-de-la-ciutat-de-barcelona/resource/fc845293-6ae8-485e-8b99-4c5d63cf135e/format\",\n",
      "              \"type\": \"http://purl.org/dc/terms/IMT\",\n",
      "              \"value\": \"application/xml\"\n",
      "            },\n",
      "            \"identifier\": \"https://opendata-ajuntament.barcelona.cat/data/dataset/centres-civics-activitatsdifusio/resource/c0cc1ced-ca2f-42d6-bd84-f1a418fc5804\",\n",
      "            \"title\": [\n",
      "              {\n",
      "                \"_value\": \"2017_centrescivics-activitatsdifusio.xml\",\n",
      "                \"_lang\": \"ca\"\n",
      "              },\n",
      "              {\n",
      "                \"_value\": \"2017_centrescivics-activitatsdifusio.xml\",\n",
      "                \"_lang\": \"es\"\n",
      "              },\n",
      "              {\n",
      "                \"_value\": \"2017_centrescivics-activitatsdifusio.xml\",\n",
      "                \"_lang\": \"en\"\n",
      "              }\n",
      "            ],\n",
      "            \"type\": \"http://www.w3.org/ns/dcat#Distribution\"\n",
      "          }\n",
      "        ],\n",
      "        \"identifier\": \"https://opendata-ajuntament.barcelona.cat/data/dataset/centres-civics-activitatsdifusio\",\n",
      "        \"issued\": \"dom, 12 jun 2016 22:00:00 GMT+0000\",\n",
      "        \"keyword\": [\n",
      "          {\n",
      "            \"_value\": \"A\\u00f1o 2014\",\n",
      "            \"_lang\": \"es\"\n",
      "          },\n",
      "          {\n",
      "            \"_value\": \"A\\u00f1o 2015\",\n",
      "            \"_lang\": \"es\"\n",
      "          },\n",
      "          {\n",
      "            \"_value\": \"A\\u00f1o 2016\",\n",
      "            \"_lang\": \"es\"\n",
      "          },\n",
      "          {\n",
      "            \"_value\": \"A\\u00f1o 2017\",\n",
      "            \"_lang\": \"es\"\n",
      "          },\n",
      "          {\n",
      "            \"_value\": \"A\\u00f1o 2018\",\n",
      "            \"_lang\": \"es\"\n",
      "          },\n",
      "          {\n",
      "            \"_value\": \"A\\u00f1o 2019\",\n",
      "            \"_lang\": \"es\"\n",
      "          },\n",
      "          {\n",
      "            \"_value\": \"A\\u00f1o 2020\",\n",
      "            \"_lang\": \"es\"\n",
      "          },\n",
      "          {\n",
      "            \"_value\": \"A\\u00f1o 2021\",\n",
      "            \"_lang\": \"es\"\n",
      "          },\n",
      "          {\n",
      "            \"_value\": \"A\\u00f1o 2022\",\n",
      "            \"_lang\": \"es\"\n",
      "          },\n",
      "          {\n",
      "            \"_value\": \"A\\u00f1o 2023\",\n",
      "            \"_lang\": \"es\"\n",
      "          },\n",
      "          {\n",
      "            \"_value\": \"Centros c\\u00edvicos\",\n",
      "            \"_lang\": \"es\"\n",
      "          },\n",
      "          {\n",
      "            \"_value\": \"Cultura\",\n",
      "            \"_lang\": \"es\"\n",
      "          },\n",
      "          {\n",
      "            \"_value\": \"Difusi\\u00f3n\",\n",
      "            \"_lang\": \"es\"\n",
      "          }\n",
      "        ],\n",
      "        \"language\": [\n",
      "          \"ca\",\n",
      "          \"en\",\n",
      "          \"es\"\n",
      "        ],\n",
      "        \"license\": \"https://creativecommons.org/licenses/by/4.0/deed.es_ES\",\n",
      "        \"publisher\": \"http://datos.gob.es/recurso/sector-publico/org/Organismo/L01080193\",\n",
      "        \"references\": [\n",
      "          \"https://opendata-ajuntament.barcelona.cat/data/ca/dataset/centres-civics-activitatsdifusio\",\n",
      "          \"https://opendata-ajuntament.barcelona.cat/data/en/dataset/centres-civics-activitatsdifusio\",\n",
      "          \"https://opendata-ajuntament.barcelona.cat/data/es/dataset/centres-civics-activitatsdifusio\"\n",
      "        ],\n",
      "        \"theme\": \"http://datos.gob.es/kos/sector-publico/sector/cultura-ocio\",\n",
      "        \"title\": [\n",
      "          {\n",
      "            \"_value\": \"Actividades de difusi\\u00f3n de los centros c\\u00edvicos de la ciutat de Barcelona\",\n",
      "            \"_lang\": \"es\"\n",
      "          },\n",
      "          {\n",
      "            \"_value\": \"Activitats de difusi\\u00f3 dels centres c\\u00edvics de la ciutat de Barcelona\",\n",
      "            \"_lang\": \"ca\"\n",
      "          },\n",
      "          {\n",
      "            \"_value\": \"Diffusion activities at civic centres in the city of Barcelona\",\n",
      "            \"_lang\": \"en\"\n",
      "          }\n",
      "        ],\n",
      "        \"type\": \"http://www.w3.org/ns/dcat#Dataset\"\n",
      "      },\n",
      "      {\n",
      "        \"_about\": \"https://datos.gob.es/catalogo/l01080193-actividades-de-formacion-para-profesionales-en-las-fabricas-de-creacion-de-la-ciudad-de-barcelona\",\n",
      "        \"accrualPeriodicity\": {\n",
      "          \"_about\": \"https://datos.gob.es/catalogo/l01080193-actividades-de-formacion-para-profesionales-en-las-fabricas-de-creacion-de-la-ciudad-de-barcelona/Frequency\",\n",
      "          \"value\": {\n",
      "            \"_about\": \"https://datos.gob.es/catalogo/l01080193-actividades-de-formacion-para-profesionales-en-las-fabricas-de-creacion-de-la-ciudad-de-barcelona/DurationDescription\",\n",
      "            \"years\": 1.0\n",
      "          }\n",
      "        },\n",
      "        \"description\": [\n",
      "          {\n",
      "            \"_value\": \"Actividades de formaci\\u00f3n para profesionales en las F\\u00e1bricas de Creaci\\u00f3n de la ciudad de Barcelona\",\n",
      "            \"_lang\": \"es\"\n",
      "          },\n",
      "          {\n",
      "            \"_value\": \"Activitats de formaci\\u00f3 per a professionals a les F\\u00e0briques de Creaci\\u00f3 de la ciutat de Barcelona\",\n",
      "            \"_lang\": \"ca\"\n",
      "          },\n",
      "          {\n",
      "            \"_value\": \"Training activities for professionals at Creation Factories in the city of Barcelona\",\n",
      "            \"_lang\": \"en\"\n",
      "          }\n",
      "        ],\n",
      "        \"distribution\": [\n",
      "          {\n",
      "            \"_about\": \"https://datos.gob.es/catalogo/l01080193-actividades-de-formacion-para-profesionales-en-las-fabricas-de-creacion-de-la-ciudad-de-barcelona/resource/2aa48205-9944-45a6-abb2-a1067d059e19\",\n",
      "            \"accessURL\": \"https://opendata-ajuntament.barcelona.cat/data/dataset/a604e3f7-c0ce-4477-8e7d-cbe4c39743f6/resource/89709c4b-07f0-4416-b5ab-76a113f5f0e1/download\",\n",
      "            \"format\": {\n",
      "              \"_about\": \"https://datos.gob.es/catalogo/l01080193-actividades-de-formacion-para-profesionales-en-las-fabricas-de-creacion-de-la-ciudad-de-barcelona/resource/2aa48205-9944-45a6-abb2-a1067d059e19/format\",\n",
      "              \"type\": \"http://purl.org/dc/terms/IMT\",\n",
      "              \"value\": \"text/csv\"\n",
      "            },\n",
      "            \"identifier\": \"https://opendata-ajuntament.barcelona.cat/data/dataset/espais-creacio-formacio-professionals/resource/89709c4b-07f0-4416-b5ab-76a113f5f0e1\",\n",
      "            \"title\": [\n",
      "              {\n",
      "                \"_value\": \"2021_fabriques_creacio_formacio.csv\",\n",
      "                \"_lang\": \"ca\"\n",
      "              },\n",
      "              {\n",
      "                \"_value\": \"2021_fabriques_creacio_formacio.csv\",\n",
      "                \"_lang\": \"es\"\n",
      "              },\n",
      "              {\n",
      "                \"_value\": \"2021_fabriques_creacio_formacio.csv\",\n",
      "                \"_lang\": \"en\"\n",
      "              }\n",
      "            ],\n",
      "            \"type\": \"http://www.w3.org/ns/dcat#Distribution\"\n",
      "          },\n",
      "          {\n",
      "            \"_about\": \"https://datos.gob.es/catalogo/l01080193-actividades-de-formacion-para-profesionales-en-las-fabricas-de-creacion-de-la-ciudad-de-barcelona/resource/359d9def-f3e1-4032-a9b0-a875003f5786\",\n",
      "            \"accessURL\": \"https://opendata-ajuntament.barcelona.cat/data/dataset/a604e3f7-c0ce-4477-8e7d-cbe4c39743f6/resource/3339b765-8cba-43ab-bd80-b12ca0560664/download\",\n",
      "            \"format\": {\n",
      "              \"_about\": \"https://datos.gob.es/catalogo/l01080193-actividades-de-formacion-para-profesionales-en-las-fabricas-de-creacion-de-la-ciudad-de-barcelona/resource/359d9def-f3e1-4032-a9b0-a875003f5786/format\",\n",
      "              \"type\": \"http://purl.org/dc/terms/IMT\",\n",
      "              \"value\": \"application/xml\"\n",
      "            },\n",
      "            \"identifier\": \"https://opendata-ajuntament.barcelona.cat/data/dataset/espais-creacio-formacio-professionals/resource/3339b765-8cba-43ab-bd80-b12ca0560664\",\n",
      "            \"title\": [\n",
      "              {\n",
      "                \"_value\": \"2016_fabriquescreacio-formaci\\u00f3.xml\",\n",
      "                \"_lang\": \"ca\"\n",
      "              },\n",
      "              {\n",
      "                \"_value\": \"2016_fabriquescreacio-formaci\\u00f3.xml\",\n",
      "                \"_lang\": \"es\"\n",
      "              },\n",
      "              {\n",
      "                \"_value\": \"2016_fabriquescreacio-formaci\\u00f3.xml\",\n",
      "                \"_lang\": \"en\"\n",
      "              }\n",
      "            ],\n",
      "            \"type\": \"http://www.w3.org/ns/dcat#Distribution\"\n",
      "          },\n",
      "          {\n",
      "            \"_about\": \"https://datos.gob.es/catalogo/l01080193-actividades-de-formacion-para-profesionales-en-las-fabricas-de-creacion-de-la-ciudad-de-barcelona/resource/380089a0-28d4-42df-b4fd-95c73acfc417\",\n",
      "            \"accessURL\": \"https://opendata-ajuntament.barcelona.cat/data/dataset/a604e3f7-c0ce-4477-8e7d-cbe4c39743f6/resource/5fc55fce-5f49-4e2f-925a-ec27f9ac66ab/download\",\n",
      "            \"format\": {\n",
      "              \"_about\": \"https://datos.gob.es/catalogo/l01080193-actividades-de-formacion-para-profesionales-en-las-fabricas-de-creacion-de-la-ciudad-de-barcelona/resource/380089a0-28d4-42df-b4fd-95c73acfc417/format\",\n",
      "              \"type\": \"http://purl.org/dc/terms/IMT\",\n",
      "              \"value\": \"text/csv\"\n",
      "            },\n",
      "            \"identifier\": \"https://opendata-ajuntament.barcelona.cat/data/dataset/espais-creacio-formacio-professionals/resource/5fc55fce-5f49-4e2f-925a-ec27f9ac66ab\",\n",
      "            \"title\": [\n",
      "              {\n",
      "                \"_value\": \"2023_fabriques_creacio_formacio.csv\",\n",
      "                \"_lang\": \"es\"\n",
      "              },\n",
      "              {\n",
      "                \"_value\": \"2023_fabriques_creacio_formacio.csv\",\n",
      "                \"_lang\": \"en\"\n",
      "              },\n",
      "              {\n",
      "                \"_value\": \"2023_fabriques_creacio_formacio.csv\",\n",
      "                \"_lang\": \"ca\"\n",
      "              }\n",
      "            ],\n",
      "            \"type\": \"http://www.w3.org/ns/dcat#Distribution\"\n",
      "          },\n",
      "          {\n",
      "            \"_about\": \"https://datos.gob.es/catalogo/l01080193-actividades-de-formacion-para-profesionales-en-las-fabricas-de-creacion-de-la-ciudad-de-barcelona/resource/388771af-6b05-4801-b6f1-198d26662124\",\n",
      "            \"accessURL\": \"https://opendata-ajuntament.barcelona.cat/data/dataset/a604e3f7-c0ce-4477-8e7d-cbe4c39743f6/resource/b21d8acb-803d-40f8-86f3-25a26f8942b1/download\",\n",
      "            \"format\": {\n",
      "              \"_about\": \"https://datos.gob.es/catalogo/l01080193-actividades-de-formacion-para-profesionales-en-las-fabricas-de-creacion-de-la-ciudad-de-barcelona/resource/388771af-6b05-4801-b6f1-198d26662124/format\",\n",
      "              \"type\": \"http://purl.org/dc/terms/IMT\",\n",
      "              \"value\": \"application/xml\"\n",
      "            },\n",
      "            \"identifier\": \"https://opendata-ajuntament.barcelona.cat/data/dataset/espais-creacio-formacio-professionals/resource/b21d8acb-803d-40f8-86f3-25a26f8942b1\",\n",
      "            \"title\": [\n",
      "              {\n",
      "                \"_value\": \"2019_fabriques_creacio_formacio.xml\",\n",
      "                \"_lang\": \"ca\"\n",
      "              },\n",
      "              {\n",
      "                \"_value\": \"2019_fabriques_creacio_formacio.xml\",\n",
      "                \"_lang\": \"es\"\n",
      "              },\n",
      "              {\n",
      "                \"_value\": \"2019_fabriques_creacio_formacio.xml\",\n",
      "                \"_lang\": \"en\"\n",
      "              }\n",
      "            ],\n",
      "            \"type\": \"http://www.w3.org/ns/dcat#Distribution\"\n",
      "          },\n",
      "          {\n",
      "            \"_about\": \"https://datos.gob.es/catalogo/l01080193-actividades-de-formacion-para-profesionales-en-las-fabricas-de-creacion-de-la-ciudad-de-barcelona/resource/4393a144-b006-49a1-b954-15c2d6e5a22c\",\n",
      "            \"accessURL\": \"https://opendata-ajuntament.barcelona.cat/data/dataset/a604e3f7-c0ce-4477-8e7d-cbe4c39743f6/resource/5542153c-a6a2-4bf7-af0b-ac0e7abf2156/download\",\n",
      "            \"format\": {\n",
      "              \"_about\": \"https://datos.gob.es/catalogo/l01080193-actividades-de-formacion-para-profesionales-en-las-fabricas-de-creacion-de-la-ciudad-de-barcelona/resource/4393a144-b006-49a1-b954-15c2d6e5a22c/format\",\n",
      "              \"type\": \"http://purl.org/dc/terms/IMT\",\n",
      "              \"value\": \"text/csv\"\n",
      "            },\n",
      "            \"identifier\": \"https://opendata-ajuntament.barcelona.cat/data/dataset/espais-creacio-formacio-professionals/resource/5542153c-a6a2-4bf7-af0b-ac0e7abf2156\",\n",
      "            \"title\": [\n",
      "              {\n",
      "                \"_value\": \"2020_fabriques_creacio_formacio.csv\",\n",
      "                \"_lang\": \"es\"\n",
      "              },\n",
      "              {\n",
      "                \"_value\": \"2020_fabriques_creacio_formacio.csv\",\n",
      "                \"_lang\": \"en\"\n",
      "              },\n",
      "              {\n",
      "                \"_value\": \"2020_fabriques_creacio_formacio.csv\",\n",
      "                \"_lang\": \"ca\"\n",
      "              }\n",
      "            ],\n",
      "            \"type\": \"http://www.w3.org/ns/dcat#Distribution\"\n",
      "          },\n",
      "          {\n",
      "            \"_about\": \"https://datos.gob.es/catalogo/l01080193-actividades-de-formacion-para-profesionales-en-las-fabricas-de-creacion-de-la-ciudad-de-barcelona/resource/43c4f2c4-3927-4bb8-8d32-fe5ce6199fcc\",\n",
      "            \"accessURL\": \"https://opendata-ajuntament.barcelona.cat/data/dataset/a604e3f7-c0ce-4477-8e7d-cbe4c39743f6/resource/2d0540a2-28a4-4444-9806-e02e568f1c91/download\",\n",
      "            \"format\": {\n",
      "              \"_about\": \"https://datos.gob.es/catalogo/l01080193-actividades-de-formacion-para-profesionales-en-las-fabricas-de-creacion-de-la-ciudad-de-barcelona/resource/43c4f2c4-3927-4bb8-8d32-fe5ce6199fcc/format\",\n",
      "              \"type\": \"http://purl.org/dc/terms/IMT\",\n",
      "              \"value\": \"application/xml\"\n",
      "            },\n",
      "            \"identifier\": \"https://opendata-ajuntament.barcelona.cat/data/dataset/espais-creacio-formacio-professionals/resource/2d0540a2-28a4-4444-9806-e02e568f1c91\",\n",
      "            \"title\": [\n",
      "              {\n",
      "                \"_value\": \"2015_fabriquescreacio-formaci\\u00f3.xml\",\n",
      "                \"_lang\": \"en\"\n",
      "              },\n",
      "              {\n",
      "                \"_value\": \"2015_fabriquescreacio-formaci\\u00f3.xml\",\n",
      "                \"_lang\": \"ca\"\n",
      "              },\n",
      "              {\n",
      "                \"_value\": \"2015_fabriquescreacio-formaci\\u00f3.xml\",\n",
      "                \"_lang\": \"es\"\n",
      "              }\n",
      "            ],\n",
      "            \"type\": \"http://www.w3.org/ns/dcat#Distribution\"\n",
      "          },\n",
      "          {\n",
      "            \"_about\": \"https://datos.gob.es/catalogo/l01080193-actividades-de-formacion-para-profesionales-en-las-fabricas-de-creacion-de-la-ciudad-de-barcelona/resource/6576caf6-492f-4221-a469-6f9e1e107253\",\n",
      "            \"accessURL\": \"https://opendata-ajuntament.barcelona.cat/data/dataset/a604e3f7-c0ce-4477-8e7d-cbe4c39743f6/resource/6e79c454-3295-48c9-a39c-e1ce1657b1d2/download\",\n",
      "            \"format\": {\n",
      "              \"_about\": \"https://datos.gob.es/catalogo/l01080193-actividades-de-formacion-para-profesionales-en-las-fabricas-de-creacion-de-la-ciudad-de-barcelona/resource/6576caf6-492f-4221-a469-6f9e1e107253/format\",\n",
      "              \"type\": \"http://purl.org/dc/terms/IMT\",\n",
      "              \"value\": \"text/csv\"\n",
      "            },\n",
      "            \"identifier\": \"https://opendata-ajuntament.barcelona.cat/data/dataset/espais-creacio-formacio-professionals/resource/6e79c454-3295-48c9-a39c-e1ce1657b1d2\",\n",
      "            \"title\": [\n",
      "              {\n",
      "                \"_value\": \"2017_fabriquescreacio-formaci\\u00f3.csv\",\n",
      "                \"_lang\": \"es\"\n",
      "              },\n",
      "              {\n",
      "                \"_value\": \"2017_fabriquescreacio-formaci\\u00f3.csv\",\n",
      "                \"_lang\": \"en\"\n",
      "              },\n",
      "              {\n",
      "                \"_value\": \"2017_fabriquescreacio-formaci\\u00f3.csv\",\n",
      "                \"_lang\": \"ca\"\n",
      "              }\n",
      "            ],\n",
      "            \"type\": \"http://www.w3.org/ns/dcat#Distribution\"\n",
      "          },\n",
      "          {\n",
      "            \"_about\": \"https://datos.gob.es/catalogo/l01080193-actividades-de-formacion-para-profesionales-en-las-fabricas-de-creacion-de-la-ciudad-de-barcelona/resource/6bff4a97-0c90-47f4-a4e0-bdcb53bfa2d2\",\n",
      "            \"accessURL\": \"https://opendata-ajuntament.barcelona.cat/data/dataset/a604e3f7-c0ce-4477-8e7d-cbe4c39743f6/resource/8d4a6645-fe09-4fa6-b196-1c93acc29ff1/download\",\n",
      "            \"format\": {\n",
      "              \"_about\": \"https://datos.gob.es/catalogo/l01080193-actividades-de-formacion-para-profesionales-en-las-fabricas-de-creacion-de-la-ciudad-de-barcelona/resource/6bff4a97-0c90-47f4-a4e0-bdcb53bfa2d2/format\",\n",
      "              \"type\": \"http://purl.org/dc/terms/IMT\",\n",
      "              \"value\": \"text/csv\"\n",
      "            },\n",
      "            \"identifier\": \"https://opendata-ajuntament.barcelona.cat/data/dataset/espais-creacio-formacio-professionals/resource/8d4a6645-fe09-4fa6-b196-1c93acc29ff1\",\n",
      "            \"title\": [\n",
      "              {\n",
      "                \"_value\": \"2019_fabriques_creacio_formacio.csv\",\n",
      "                \"_lang\": \"ca\"\n",
      "              },\n",
      "              {\n",
      "                \"_value\": \"2019_fabriques_creacio_formacio.csv\",\n",
      "                \"_lang\": \"es\"\n",
      "              },\n",
      "              {\n",
      "                \"_value\": \"2019_fabriques_creacio_formacio.csv\",\n",
      "                \"_lang\": \"en\"\n",
      "              }\n",
      "            ],\n",
      "            \"type\": \"http://www.w3.org/ns/dcat#Distribution\"\n",
      "          },\n",
      "          {\n",
      "            \"_about\": \"https://datos.gob.es/catalogo/l01080193-actividades-de-formacion-para-profesionales-en-las-fabricas-de-creacion-de-la-ciudad-de-barcelona/resource/6d600c49-40dd-4590-a4f3-a7f0b6a2cd94\",\n",
      "            \"accessURL\": \"https://opendata-ajuntament.barcelona.cat/data/dataset/a604e3f7-c0ce-4477-8e7d-cbe4c39743f6/resource/164c0031-317f-444a-910b-250010574fcf/download\",\n",
      "            \"format\": {\n",
      "              \"_about\": \"https://datos.gob.es/catalogo/l01080193-actividades-de-formacion-para-profesionales-en-las-fabricas-de-creacion-de-la-ciudad-de-barcelona/resource/6d600c49-40dd-4590-a4f3-a7f0b6a2cd94/format\",\n",
      "              \"type\": \"http://purl.org/dc/terms/IMT\",\n",
      "              \"value\": \"application/xml\"\n",
      "            },\n",
      "            \"identifier\": \"https://opendata-ajuntament.barcelona.cat/data/dataset/espais-creacio-formacio-professionals/resource/164c0031-317f-444a-910b-250010574fcf\",\n",
      "            \"title\": [\n",
      "              {\n",
      "                \"_value\": \"2017_fabriquescreacio-formaci\\u00f3.xml\",\n",
      "                \"_lang\": \"es\"\n",
      "              },\n",
      "              {\n",
      "                \"_value\": \"2017_fabriquescreacio-formaci\\u00f3.xml\",\n",
      "                \"_lang\": \"ca\"\n",
      "              },\n",
      "              {\n",
      "                \"_value\": \"2017_fabriquescreacio-formaci\\u00f3.xml\",\n",
      "                \"_lang\": \"en\"\n",
      "              }\n",
      "            ],\n",
      "            \"type\": \"http://www.w3.org/ns/dcat#Distribution\"\n",
      "          },\n",
      "          {\n",
      "            \"_about\": \"https://datos.gob.es/catalogo/l01080193-actividades-de-formacion-para-profesionales-en-las-fabricas-de-creacion-de-la-ciudad-de-barcelona/resource/79a840b6-73c3-4dd3-a01b-534879c87e2a\",\n",
      "            \"accessURL\": \"https://opendata-ajuntament.barcelona.cat/data/dataset/a604e3f7-c0ce-4477-8e7d-cbe4c39743f6/resource/aa5dc78d-2bff-4dba-8ef2-ce87e5b2a4bf/download\",\n",
      "            \"format\": {\n",
      "              \"_about\": \"https://datos.gob.es/catalogo/l01080193-actividades-de-formacion-para-profesionales-en-las-fabricas-de-creacion-de-la-ciudad-de-barcelona/resource/79a840b6-73c3-4dd3-a01b-534879c87e2a/format\",\n",
      "              \"type\": \"http://purl.org/dc/terms/IMT\",\n",
      "              \"value\": \"text/csv\"\n",
      "            },\n",
      "            \"identifier\": \"https://opendata-ajuntament.barcelona.cat/data/dataset/espais-creacio-formacio-professionals/resource/aa5dc78d-2bff-4dba-8ef2-ce87e5b2a4bf\",\n",
      "            \"title\": [\n",
      "              {\n",
      "                \"_value\": \"2016_fabriquescreacio-formaci\\u00f3.csv\",\n",
      "                \"_lang\": \"es\"\n",
      "              },\n",
      "              {\n",
      "                \"_value\": \"2016_fabriquescreacio-formaci\\u00f3.csv\",\n",
      "                \"_lang\": \"ca\"\n",
      "              },\n",
      "              {\n",
      "                \"_value\": \"2016_fabriquescreacio-formaci\\u00f3.csv\",\n",
      "                \"_lang\": \"en\"\n",
      "              }\n",
      "            ],\n",
      "            \"type\": \"http://www.w3.org/ns/dcat#Distribution\"\n",
      "          },\n",
      "          {\n",
      "            \"_about\": \"https://datos.gob.es/catalogo/l01080193-actividades-de-formacion-para-profesionales-en-las-fabricas-de-creacion-de-la-ciudad-de-barcelona/resource/912a70a6-82df-4aef-9a1e-78b8d7c000d8\",\n",
      "            \"accessURL\": \"https://opendata-ajuntament.barcelona.cat/data/dataset/a604e3f7-c0ce-4477-8e7d-cbe4c39743f6/resource/9ddb5f18-243b-492c-ae5e-1fb436e5f35d/download\",\n",
      "            \"format\": {\n",
      "              \"_about\": \"https://datos.gob.es/catalogo/l01080193-actividades-de-formacion-para-profesionales-en-las-fabricas-de-creacion-de-la-ciudad-de-barcelona/resource/912a70a6-82df-4aef-9a1e-78b8d7c000d8/format\",\n",
      "              \"type\": \"http://purl.org/dc/terms/IMT\",\n",
      "              \"value\": \"text/csv\"\n",
      "            },\n",
      "            \"identifier\": \"https://opendata-ajuntament.barcelona.cat/data/dataset/espais-creacio-formacio-professionals/resource/9ddb5f18-243b-492c-ae5e-1fb436e5f35d\",\n",
      "            \"title\": [\n",
      "              {\n",
      "                \"_value\": \"2022_fabriques_creacio_formacio.csv\",\n",
      "                \"_lang\": \"en\"\n",
      "              },\n",
      "              {\n",
      "                \"_value\": \"2022_fabriques_creacio_formacio.csv\",\n",
      "                \"_lang\": \"es\"\n",
      "              },\n",
      "              {\n",
      "                \"_value\": \"2022_fabriques_creacio_formacio.csv\",\n",
      "                \"_lang\": \"ca\"\n",
      "              }\n",
      "            ],\n",
      "            \"type\": \"http://www.w3.org/ns/dcat#Distribution\"\n",
      "          },\n",
      "          {\n",
      "            \"_about\": \"https://datos.gob.es/catalogo/l01080193-actividades-de-formacion-para-profesionales-en-las-fabricas-de-creacion-de-la-ciudad-de-barcelona/resource/96a4d285-86d9-486d-9fd3-01eee7d9a4f9\",\n",
      "            \"accessURL\": \"https://opendata-ajuntament.barcelona.cat/data/dataset/a604e3f7-c0ce-4477-8e7d-cbe4c39743f6/resource/3edfc4f1-a4ad-477f-9184-644566a46c4f/download\",\n",
      "            \"format\": {\n",
      "              \"_about\": \"https://datos.gob.es/catalogo/l01080193-actividades-de-formacion-para-profesionales-en-las-fabricas-de-creacion-de-la-ciudad-de-barcelona/resource/96a4d285-86d9-486d-9fd3-01eee7d9a4f9/format\",\n",
      "              \"type\": \"http://purl.org/dc/terms/IMT\",\n",
      "              \"value\": \"application/xml\"\n",
      "            },\n",
      "            \"identifier\": \"https://opendata-ajuntament.barcelona.cat/data/dataset/espais-creacio-formacio-professionals/resource/3edfc4f1-a4ad-477f-9184-644566a46c4f\",\n",
      "            \"title\": [\n",
      "              {\n",
      "                \"_value\": \"2014_fabriquescreacio-formaci\\u00f3.xml\",\n",
      "                \"_lang\": \"ca\"\n",
      "              },\n",
      "              {\n",
      "                \"_value\": \"2014_fabriquescreacio-formaci\\u00f3.xml\",\n",
      "                \"_lang\": \"en\"\n",
      "              },\n",
      "              {\n",
      "                \"_value\": \"2014_fabriquescreacio-formaci\\u00f3.xml\",\n",
      "                \"_lang\": \"es\"\n",
      "              }\n",
      "            ],\n",
      "            \"type\": \"http://www.w3.org/ns/dcat#Distribution\"\n",
      "          },\n",
      "          {\n",
      "            \"_about\": \"https://datos.gob.es/catalogo/l01080193-actividades-de-formacion-para-profesionales-en-las-fabricas-de-creacion-de-la-ciudad-de-barcelona/resource/b48cac04-85f9-43e3-a8ec-c47c1979380b\",\n",
      "            \"accessURL\": \"https://opendata-ajuntament.barcelona.cat/data/dataset/a604e3f7-c0ce-4477-8e7d-cbe4c39743f6/resource/8e1e00b6-fc7b-4e91-b42c-3a333ffa71c7/download\",\n",
      "            \"format\": {\n",
      "              \"_about\": \"https://datos.gob.es/catalogo/l01080193-actividades-de-formacion-para-profesionales-en-las-fabricas-de-creacion-de-la-ciudad-de-barcelona/resource/b48cac04-85f9-43e3-a8ec-c47c1979380b/format\",\n",
      "              \"type\": \"http://purl.org/dc/terms/IMT\",\n",
      "              \"value\": \"text/csv\"\n",
      "            },\n",
      "            \"identifier\": \"https://opendata-ajuntament.barcelona.cat/data/dataset/espais-creacio-formacio-professionals/resource/8e1e00b6-fc7b-4e91-b42c-3a333ffa71c7\",\n",
      "            \"title\": [\n",
      "              {\n",
      "                \"_value\": \"2014_fabriquescreacio-formaci\\u00f3.csv\",\n",
      "                \"_lang\": \"ca\"\n",
      "              },\n",
      "              {\n",
      "                \"_value\": \"2014_fabriquescreacio-formaci\\u00f3.csv\",\n",
      "                \"_lang\": \"es\"\n",
      "              },\n",
      "              {\n",
      "                \"_value\": \"2014_fabriquescreacio-formaci\\u00f3.csv\",\n",
      "                \"_lang\": \"en\"\n",
      "              }\n",
      "            ],\n",
      "            \"type\": \"http://www.w3.org/ns/dcat#Distribution\"\n",
      "          },\n",
      "          {\n",
      "            \"_about\": \"https://datos.gob.es/catalogo/l01080193-actividades-de-formacion-para-profesionales-en-las-fabricas-de-creacion-de-la-ciudad-de-barcelona/resource/c4585091-25d5-4c95-b207-dacd2f82c0a3\",\n",
      "            \"accessURL\": \"https://opendata-ajuntament.barcelona.cat/data/dataset/a604e3f7-c0ce-4477-8e7d-cbe4c39743f6/resource/842e63c7-8b0d-4e29-ba15-08e989a6082d/download\",\n",
      "            \"format\": {\n",
      "              \"_about\": \"https://datos.gob.es/catalogo/l01080193-actividades-de-formacion-para-profesionales-en-las-fabricas-de-creacion-de-la-ciudad-de-barcelona/resource/c4585091-25d5-4c95-b207-dacd2f82c0a3/format\",\n",
      "              \"type\": \"http://purl.org/dc/terms/IMT\",\n",
      "              \"value\": \"text/csv\"\n",
      "            },\n",
      "            \"identifier\": \"https://opendata-ajuntament.barcelona.cat/data/dataset/espais-creacio-formacio-professionals/resource/842e63c7-8b0d-4e29-ba15-08e989a6082d\",\n",
      "            \"title\": [\n",
      "              {\n",
      "                \"_value\": \"2018_fabriquescreacio-formaci\\u00f3.csv\",\n",
      "                \"_lang\": \"ca\"\n",
      "              },\n",
      "              {\n",
      "                \"_value\": \"2018_fabriquescreacio-formaci\\u00f3.csv\",\n",
      "                \"_lang\": \"es\"\n",
      "              },\n",
      "              {\n",
      "                \"_value\": \"2018_fabriquescreacio-formaci\\u00f3.csv\",\n",
      "                \"_lang\": \"en\"\n",
      "              }\n",
      "            ],\n",
      "            \"type\": \"http://www.w3.org/ns/dcat#Distribution\"\n",
      "          },\n",
      "          {\n",
      "            \"_about\": \"https://datos.gob.es/catalogo/l01080193-actividades-de-formacion-para-profesionales-en-las-fabricas-de-creacion-de-la-ciudad-de-barcelona/resource/c55f5735-9ab5-431f-8dc9-16f1b54b79e6\",\n",
      "            \"accessURL\": \"https://opendata-ajuntament.barcelona.cat/data/dataset/a604e3f7-c0ce-4477-8e7d-cbe4c39743f6/resource/0e1de139-cf56-4f2b-9d72-b56c0bae8959/download\",\n",
      "            \"format\": {\n",
      "              \"_about\": \"https://datos.gob.es/catalogo/l01080193-actividades-de-formacion-para-profesionales-en-las-fabricas-de-creacion-de-la-ciudad-de-barcelona/resource/c55f5735-9ab5-431f-8dc9-16f1b54b79e6/format\",\n",
      "              \"type\": \"http://purl.org/dc/terms/IMT\",\n",
      "              \"value\": \"application/xml\"\n",
      "            },\n",
      "            \"identifier\": \"https://opendata-ajuntament.barcelona.cat/data/dataset/espais-creacio-formacio-professionals/resource/0e1de139-cf56-4f2b-9d72-b56c0bae8959\",\n",
      "            \"title\": [\n",
      "              {\n",
      "                \"_value\": \"2023_fabriques_creacio_formacio.xml\",\n",
      "                \"_lang\": \"en\"\n",
      "              },\n",
      "              {\n",
      "                \"_value\": \"2023_fabriques_creacio_formacio.xml\",\n",
      "                \"_lang\": \"ca\"\n",
      "              },\n",
      "              {\n",
      "                \"_value\": \"2023_fabriques_creacio_formacio.xml\",\n",
      "                \"_lang\": \"es\"\n",
      "              }\n",
      "            ],\n",
      "            \"type\": \"http://www.w3.org/ns/dcat#Distribution\"\n",
      "          },\n",
      "          {\n",
      "            \"_about\": \"https://datos.gob.es/catalogo/l01080193-actividades-de-formacion-para-profesionales-en-las-fabricas-de-creacion-de-la-ciudad-de-barcelona/resource/ce5ed0f3-7482-4182-a4e1-7bdff9100952\",\n",
      "            \"accessURL\": \"https://opendata-ajuntament.barcelona.cat/data/dataset/a604e3f7-c0ce-4477-8e7d-cbe4c39743f6/resource/fd8a2dd7-f395-421a-99e5-4f421b4ea7d9/download\",\n",
      "            \"format\": {\n",
      "              \"_about\": \"https://datos.gob.es/catalogo/l01080193-actividades-de-formacion-para-profesionales-en-las-fabricas-de-creacion-de-la-ciudad-de-barcelona/resource/ce5ed0f3-7482-4182-a4e1-7bdff9100952/format\",\n",
      "              \"type\": \"http://purl.org/dc/terms/IMT\",\n",
      "              \"value\": \"text/csv\"\n",
      "            },\n",
      "            \"identifier\": \"https://opendata-ajuntament.barcelona.cat/data/dataset/espais-creacio-formacio-professionals/resource/fd8a2dd7-f395-421a-99e5-4f421b4ea7d9\",\n",
      "            \"title\": [\n",
      "              {\n",
      "                \"_value\": \"2015_fabriquescreacio-formaci\\u00f3.csv\",\n",
      "                \"_lang\": \"en\"\n",
      "              },\n",
      "              {\n",
      "                \"_value\": \"2015_fabriquescreacio-formaci\\u00f3.csv\",\n",
      "                \"_lang\": \"es\"\n",
      "              },\n",
      "              {\n",
      "                \"_value\": \"2015_fabriquescreacio-formaci\\u00f3.csv\",\n",
      "                \"_lang\": \"ca\"\n",
      "              }\n",
      "            ],\n",
      "            \"type\": \"http://www.w3.org/ns/dcat#Distribution\"\n",
      "          },\n",
      "          {\n",
      "            \"_about\": \"https://datos.gob.es/catalogo/l01080193-actividades-de-formacion-para-profesionales-en-las-fabricas-de-creacion-de-la-ciudad-de-barcelona/resource/e71ae67a-62c2-4cf5-b362-aa1cbdf5a946\",\n",
      "            \"accessURL\": \"https://opendata-ajuntament.barcelona.cat/data/dataset/a604e3f7-c0ce-4477-8e7d-cbe4c39743f6/resource/8683de1d-b395-4d5f-b02f-3840aec27ea6/download\",\n",
      "            \"format\": {\n",
      "              \"_about\": \"https://datos.gob.es/catalogo/l01080193-actividades-de-formacion-para-profesionales-en-las-fabricas-de-creacion-de-la-ciudad-de-barcelona/resource/e71ae67a-62c2-4cf5-b362-aa1cbdf5a946/format\",\n",
      "              \"type\": \"http://purl.org/dc/terms/IMT\",\n",
      "              \"value\": \"application/xml\"\n",
      "            },\n",
      "            \"identifier\": \"https://opendata-ajuntament.barcelona.cat/data/dataset/espais-creacio-formacio-professionals/resource/8683de1d-b395-4d5f-b02f-3840aec27ea6\",\n",
      "            \"title\": [\n",
      "              {\n",
      "                \"_value\": \"2022_fabriques_creacio_formacio.xml\",\n",
      "                \"_lang\": \"ca\"\n",
      "              },\n",
      "              {\n",
      "                \"_value\": \"2022_fabriques_creacio_formacio.xml\",\n",
      "                \"_lang\": \"es\"\n",
      "              },\n",
      "              {\n",
      "                \"_value\": \"2022_fabriques_creacio_formacio.xml\",\n",
      "                \"_lang\": \"en\"\n",
      "              }\n",
      "            ],\n",
      "            \"type\": \"http://www.w3.org/ns/dcat#Distribution\"\n",
      "          },\n",
      "          {\n",
      "            \"_about\": \"https://datos.gob.es/catalogo/l01080193-actividades-de-formacion-para-profesionales-en-las-fabricas-de-creacion-de-la-ciudad-de-barcelona/resource/f4932653-5205-4f81-b343-b401c9f1b7e7\",\n",
      "            \"accessURL\": \"https://opendata-ajuntament.barcelona.cat/data/dataset/a604e3f7-c0ce-4477-8e7d-cbe4c39743f6/resource/c8f9f832-c7bb-4536-a537-8c65dfea74e2/download\",\n",
      "            \"format\": {\n",
      "              \"_about\": \"https://datos.gob.es/catalogo/l01080193-actividades-de-formacion-para-profesionales-en-las-fabricas-de-creacion-de-la-ciudad-de-barcelona/resource/f4932653-5205-4f81-b343-b401c9f1b7e7/format\",\n",
      "              \"type\": \"http://purl.org/dc/terms/IMT\",\n",
      "              \"value\": \"application/xml\"\n",
      "            },\n",
      "            \"identifier\": \"https://opendata-ajuntament.barcelona.cat/data/dataset/espais-creacio-formacio-professionals/resource/c8f9f832-c7bb-4536-a537-8c65dfea74e2\",\n",
      "            \"title\": [\n",
      "              {\n",
      "                \"_value\": \"2021_fabriques_creacio_formacio.xml\",\n",
      "                \"_lang\": \"en\"\n",
      "              },\n",
      "              {\n",
      "                \"_value\": \"2021_fabriques_creacio_formacio.xml\",\n",
      "                \"_lang\": \"ca\"\n",
      "              },\n",
      "              {\n",
      "                \"_value\": \"2021_fabriques_creacio_formacio.xml\",\n",
      "                \"_lang\": \"es\"\n",
      "              }\n",
      "            ],\n",
      "            \"type\": \"http://www.w3.org/ns/dcat#Distribution\"\n",
      "          },\n",
      "          {\n",
      "            \"_about\": \"https://datos.gob.es/catalogo/l01080193-actividades-de-formacion-para-profesionales-en-las-fabricas-de-creacion-de-la-ciudad-de-barcelona/resource/f4a61568-1a42-435b-8a39-2bc5b8da5319\",\n",
      "            \"accessURL\": \"https://opendata-ajuntament.barcelona.cat/data/dataset/a604e3f7-c0ce-4477-8e7d-cbe4c39743f6/resource/54125240-dfb8-43b6-8215-830ab5e5c7ae/download\",\n",
      "            \"format\": {\n",
      "              \"_about\": \"https://datos.gob.es/catalogo/l01080193-actividades-de-formacion-para-profesionales-en-las-fabricas-de-creacion-de-la-ciudad-de-barcelona/resource/f4a61568-1a42-435b-8a39-2bc5b8da5319/format\",\n",
      "              \"type\": \"http://purl.org/dc/terms/IMT\",\n",
      "              \"value\": \"application/xml\"\n",
      "            },\n",
      "            \"identifier\": \"https://opendata-ajuntament.barcelona.cat/data/dataset/espais-creacio-formacio-professionals/resource/54125240-dfb8-43b6-8215-830ab5e5c7ae\",\n",
      "            \"title\": [\n",
      "              {\n",
      "                \"_value\": \"2020_fabriques_creacio_formacio.xml\",\n",
      "                \"_lang\": \"en\"\n",
      "              },\n",
      "              {\n",
      "                \"_value\": \"2020_fabriques_creacio_formacio.xml\",\n",
      "                \"_lang\": \"ca\"\n",
      "              },\n",
      "              {\n",
      "                \"_value\": \"2020_fabriques_creacio_formacio.xml\",\n",
      "                \"_lang\": \"es\"\n",
      "              }\n",
      "            ],\n",
      "            \"type\": \"http://www.w3.org/ns/dcat#Distribution\"\n",
      "          },\n",
      "          {\n",
      "            \"_about\": \"https://datos.gob.es/catalogo/l01080193-actividades-de-formacion-para-profesionales-en-las-fabricas-de-creacion-de-la-ciudad-de-barcelona/resource/fc59f72c-a503-45d0-973b-fccaa3bc70cb\",\n",
      "            \"accessURL\": \"https://opendata-ajuntament.barcelona.cat/data/dataset/a604e3f7-c0ce-4477-8e7d-cbe4c39743f6/resource/3d645219-51d8-4eda-8b30-004b6e56bba6/download\",\n",
      "            \"format\": {\n",
      "              \"_about\": \"https://datos.gob.es/catalogo/l01080193-actividades-de-formacion-para-profesionales-en-las-fabricas-de-creacion-de-la-ciudad-de-barcelona/resource/fc59f72c-a503-45d0-973b-fccaa3bc70cb/format\",\n",
      "              \"type\": \"http://purl.org/dc/terms/IMT\",\n",
      "              \"value\": \"application/xml\"\n",
      "            },\n",
      "            \"identifier\": \"https://opendata-ajuntament.barcelona.cat/data/dataset/espais-creacio-formacio-professionals/resource/3d645219-51d8-4eda-8b30-004b6e56bba6\",\n",
      "            \"title\": [\n",
      "              {\n",
      "                \"_value\": \"2018_fabriquescreacio-formaci\\u00f3.xml\",\n",
      "                \"_lang\": \"en\"\n",
      "              },\n",
      "              {\n",
      "                \"_value\": \"2018_fabriquescreacio-formaci\\u00f3.xml\",\n",
      "                \"_lang\": \"es\"\n",
      "              },\n",
      "              {\n",
      "                \"_value\": \"2018_fabriquescreacio-formaci\\u00f3.xml\",\n",
      "                \"_lang\": \"ca\"\n",
      "              }\n",
      "            ],\n",
      "            \"type\": \"http://www.w3.org/ns/dcat#Distribution\"\n",
      "          }\n",
      "        ],\n",
      "        \"identifier\": \"https://opendata-ajuntament.barcelona.cat/data/dataset/espais-creacio-formacio-professionals\",\n",
      "        \"issued\": \"mi\\u00e9, 08 jun 2016 22:00:00 GMT+0000\",\n",
      "        \"keyword\": [\n",
      "          {\n",
      "            \"_value\": \"A\\u00f1o 2014\",\n",
      "            \"_lang\": \"es\"\n",
      "          },\n",
      "          {\n",
      "            \"_value\": \"A\\u00f1o 2015\",\n",
      "            \"_lang\": \"es\"\n",
      "          },\n",
      "          {\n",
      "            \"_value\": \"A\\u00f1o 2016\",\n",
      "            \"_lang\": \"es\"\n",
      "          },\n",
      "          {\n",
      "            \"_value\": \"A\\u00f1o 2017\",\n",
      "            \"_lang\": \"es\"\n",
      "          },\n",
      "          {\n",
      "            \"_value\": \"A\\u00f1o 2018\",\n",
      "            \"_lang\": \"es\"\n",
      "          },\n",
      "          {\n",
      "            \"_value\": \"A\\u00f1o 2019\",\n",
      "            \"_lang\": \"es\"\n",
      "          },\n",
      "          {\n",
      "            \"_value\": \"A\\u00f1o 2020\",\n",
      "            \"_lang\": \"es\"\n",
      "          },\n",
      "          {\n",
      "            \"_value\": \"A\\u00f1o 2021\",\n",
      "            \"_lang\": \"es\"\n",
      "          },\n",
      "          {\n",
      "            \"_value\": \"A\\u00f1o 2022\",\n",
      "            \"_lang\": \"es\"\n",
      "          },\n",
      "          {\n",
      "            \"_value\": \"A\\u00f1o 2023\",\n",
      "            \"_lang\": \"es\"\n",
      "          },\n",
      "          {\n",
      "            \"_value\": \"Formaci\\u00f3n\",\n",
      "            \"_lang\": \"es\"\n",
      "          },\n",
      "          {\n",
      "            \"_value\": \"F\\u00e1bricas Creaci\\u00f3n\",\n",
      "            \"_lang\": \"es\"\n",
      "          }\n",
      "        ],\n",
      "        \"language\": [\n",
      "          \"ca\",\n",
      "          \"en\",\n",
      "          \"es\"\n",
      "        ],\n",
      "        \"license\": \"https://creativecommons.org/licenses/by/4.0/deed.es_ES\",\n",
      "        \"publisher\": \"http://datos.gob.es/recurso/sector-publico/org/Organismo/L01080193\",\n",
      "        \"references\": [\n",
      "          \"https://opendata-ajuntament.barcelona.cat/data/ca/dataset/espais-creacio-formacio-professionals\",\n",
      "          \"https://opendata-ajuntament.barcelona.cat/data/en/dataset/espais-creacio-formacio-professionals\",\n",
      "          \"https://opendata-ajuntament.barcelona.cat/data/es/dataset/espais-creacio-formacio-professionals\"\n",
      "        ],\n",
      "        \"theme\": \"http://datos.gob.es/kos/sector-publico/sector/cultura-ocio\",\n",
      "        \"title\": [\n",
      "          {\n",
      "            \"_value\": \"Actividades de formaci\\u00f3n para profesionales en las F\\u00e1bricas de Creaci\\u00f3n de la ciudad de Barcelona\",\n",
      "            \"_lang\": \"es\"\n",
      "          },\n",
      "          {\n",
      "            \"_value\": \"Activitats de formaci\\u00f3 per a professionals a les F\\u00e0briques de Creaci\\u00f3 de la ciutat de Barcelona\",\n",
      "            \"_lang\": \"ca\"\n",
      "          },\n",
      "          {\n",
      "            \"_value\": \"Training activities for professionals at Creation factories in the city of Barcelona\",\n",
      "            \"_lang\": \"en\"\n",
      "          }\n",
      "        ],\n",
      "        \"type\": \"http://www.w3.org/ns/dcat#Dataset\"\n",
      "      },\n",
      "      {\n",
      "        \"_about\": \"https://datos.gob.es/catalogo/a04003003-actuaciones-de-conservacion-y-mantenimiento-de-cauces\",\n",
      "        \"description\": [\n",
      "          {\n",
      "            \"_value\": \"<DIV STYLE=\\\"text-align:Left;\\\"><DIV><DIV><P STYLE=\\\"font-size:12pt\\\"><SPAN>(CA) Trams de torrents als que s' han fet treballs de conservaci\\u00f3 (treballs executats que han consistit en el desbrossament, neteja i retirada de materials diversos en les lleres dels torrents de les Illes Balears) extreta del Sistema d'Informaci\\u00f3 Geogr\\u00e0fica de gesti\\u00f3 dels treballs de conservaci\\u00f3 de la xarxa hidrol\\u00f2gica de les Illes Balears realitzats per la Direcci\\u00f3 General de Recursos H\\u00eddrics del Govern de les Illes Balears</SPAN></P><P STYLE=\\\"font-size:12pt\\\"><SPAN /></P><P STYLE=\\\"font-size:12pt\\\"><SPAN>(ES) Tramos de torrentes a los que se han hecho trabajos de conservaci\\u00f3n (trabajos ejecutados que han consistido en el desbroce, limpieza y retirada de materiales diversos en los cauces de los torrentes de las Islas Baleares) extra\\u00edda del Sistema de Informaci\\u00f3n Geogr\\u00e1fica de gesti\\u00f3n de los trabajos de conservaci\\u00f3n de la red hidrol\\u00f3gica de las Islas Baleares realizados por la Direcci\\u00f3 General de Recursos H\\u00eddrics del Govern de les Illes Balears</SPAN></P><P STYLE=\\\"font-size:12pt\\\"><SPAN /></P><P STYLE=\\\"font-size:12pt\\\"><SPAN>(EN) Conservation works on water courses (Executed works that have consisted of the clearing, cleaning and removal of various materials in the channels of the torrents of the Balearic Islands) extracted from the Geographic Information System of management of the conservation works of the hydrological network of the Balearic Islands carried out by the Direcci\\u00f3 General de Recursos H\\u00eddrics del Govern de les Illes Balears</SPAN></P></DIV></DIV></DIV>\",\n",
      "            \"_lang\": \"ca\"\n",
      "          },\n",
      "          {\n",
      "            \"_value\": \"Actuaciones de Conservaci\\u00f3n y Mantenimiento de Cauces\",\n",
      "            \"_lang\": \"es\"\n",
      "          },\n",
      "          {\n",
      "            \"_value\": \"Conservation and Maintenance Actions of Watercourses\",\n",
      "            \"_lang\": \"en\"\n",
      "          }\n",
      "        ],\n",
      "        \"distribution\": [\n",
      "          {\n",
      "            \"_about\": \"https://datos.gob.es/catalogo/a04003003-actuaciones-de-conservacion-y-mantenimiento-de-cauces/resource/7a768c9d-dba2-4ac9-b78a-88d17dfb3144\",\n",
      "            \"accessURL\": \"https://catalegdades.caib.cat/api/views/i4m5-f48c/rows.rdf?accessType=DOWNLOAD\",\n",
      "            \"format\": {\n",
      "              \"_about\": \"https://datos.gob.es/catalogo/a04003003-actuaciones-de-conservacion-y-mantenimiento-de-cauces/resource/7a768c9d-dba2-4ac9-b78a-88d17dfb3144/format\",\n",
      "              \"type\": \"http://purl.org/dc/terms/IMT\",\n",
      "              \"value\": \"application/rdf+xml\"\n",
      "            },\n",
      "            \"identifier\": \"https://catalegdades.caib.cat/api/views/i4m5-f48c/rows.rdf?accessType=DOWNLOAD\",\n",
      "            \"title\": [\n",
      "              {\n",
      "                \"_value\": \"Actuaciones de Conservaci\\u00f3n y Mantenimiento de Cauces\",\n",
      "                \"_lang\": \"es\"\n",
      "              },\n",
      "              {\n",
      "                \"_value\": \"Actuacions de Conservaci\\u00f3 i Manteniment de Lleres\",\n",
      "                \"_lang\": \"ca\"\n",
      "              },\n",
      "              {\n",
      "                \"_value\": \"Conservation and Maintenance Actions of Watercourses\",\n",
      "                \"_lang\": \"en\"\n",
      "              }\n",
      "            ],\n",
      "            \"type\": \"http://www.w3.org/ns/dcat#Distribution\"\n",
      "          },\n",
      "          {\n",
      "            \"_about\": \"https://datos.gob.es/catalogo/a04003003-actuaciones-de-conservacion-y-mantenimiento-de-cauces/resource/89d88910-4a92-4593-ab14-23282e505036\",\n",
      "            \"accessURL\": \"https://catalegdades.caib.cat/api/views/i4m5-f48c/rows.csv?accessType=DOWNLOAD\",\n",
      "            \"format\": {\n",
      "              \"_about\": \"https://datos.gob.es/catalogo/a04003003-actuaciones-de-conservacion-y-mantenimiento-de-cauces/resource/89d88910-4a92-4593-ab14-23282e505036/format\",\n",
      "              \"type\": \"http://purl.org/dc/terms/IMT\",\n",
      "              \"value\": \"text/csv\"\n",
      "            },\n",
      "            \"identifier\": \"https://catalegdades.caib.cat/api/views/i4m5-f48c/rows.csv?accessType=DOWNLOAD\",\n",
      "            \"title\": [\n",
      "              {\n",
      "                \"_value\": \"Actuaciones de Conservaci\\u00f3n y Mantenimiento de Cauces\",\n",
      "                \"_lang\": \"es\"\n",
      "              },\n",
      "              {\n",
      "                \"_value\": \"Actuacions de Conservaci\\u00f3 i Manteniment de Lleres\",\n",
      "                \"_lang\": \"ca\"\n",
      "              },\n",
      "              {\n",
      "                \"_value\": \"Conservation and Maintenance Actions of Watercourses\",\n",
      "                \"_lang\": \"en\"\n",
      "              }\n",
      "            ],\n",
      "            \"type\": \"http://www.w3.org/ns/dcat#Distribution\"\n",
      "          },\n",
      "          {\n",
      "            \"_about\": \"https://datos.gob.es/catalogo/a04003003-actuaciones-de-conservacion-y-mantenimiento-de-cauces/resource/968b64ec-f72d-4051-a9d7-79b52a49d97b\",\n",
      "            \"accessURL\": \"https://catalegdades.caib.cat/api/views/i4m5-f48c/rows.xml?accessType=DOWNLOAD\",\n",
      "            \"format\": {\n",
      "              \"_about\": \"https://datos.gob.es/catalogo/a04003003-actuaciones-de-conservacion-y-mantenimiento-de-cauces/resource/968b64ec-f72d-4051-a9d7-79b52a49d97b/format\",\n",
      "              \"type\": \"http://purl.org/dc/terms/IMT\",\n",
      "              \"value\": \"application/xml\"\n",
      "            },\n",
      "            \"identifier\": \"https://catalegdades.caib.cat/api/views/i4m5-f48c/rows.xml?accessType=DOWNLOAD\",\n",
      "            \"title\": [\n",
      "              {\n",
      "                \"_value\": \"Actuaciones de Conservaci\\u00f3n y Mantenimiento de Cauces\",\n",
      "                \"_lang\": \"es\"\n",
      "              },\n",
      "              {\n",
      "                \"_value\": \"Actuacions de Conservaci\\u00f3 i Manteniment de Lleres\",\n",
      "                \"_lang\": \"ca\"\n",
      "              },\n",
      "              {\n",
      "                \"_value\": \"Conservation and Maintenance Actions of Watercourses\",\n",
      "                \"_lang\": \"en\"\n",
      "              }\n",
      "            ],\n",
      "            \"type\": \"http://www.w3.org/ns/dcat#Distribution\"\n",
      "          },\n",
      "          {\n",
      "            \"_about\": \"https://datos.gob.es/catalogo/a04003003-actuaciones-de-conservacion-y-mantenimiento-de-cauces/resource/cd85c120-f070-43bd-bbd0-e3ba2b20ff82\",\n",
      "            \"accessURL\": \"https://catalegdades.caib.cat/api/views/i4m5-f48c/rows.json?accessType=DOWNLOAD\",\n",
      "            \"format\": {\n",
      "              \"_about\": \"https://datos.gob.es/catalogo/a04003003-actuaciones-de-conservacion-y-mantenimiento-de-cauces/resource/cd85c120-f070-43bd-bbd0-e3ba2b20ff82/format\",\n",
      "              \"type\": \"http://purl.org/dc/terms/IMT\",\n",
      "              \"value\": \"application/json\"\n",
      "            },\n",
      "            \"identifier\": \"https://catalegdades.caib.cat/api/views/i4m5-f48c/rows.json?accessType=DOWNLOAD\",\n",
      "            \"title\": [\n",
      "              {\n",
      "                \"_value\": \"Actuaciones de Conservaci\\u00f3n y Mantenimiento de Cauces\",\n",
      "                \"_lang\": \"es\"\n",
      "              },\n",
      "              {\n",
      "                \"_value\": \"Actuacions de Conservaci\\u00f3 i Manteniment de Lleres\",\n",
      "                \"_lang\": \"ca\"\n",
      "              },\n",
      "              {\n",
      "                \"_value\": \"Conservation and Maintenance Actions of Watercourses\",\n",
      "                \"_lang\": \"en\"\n",
      "              }\n",
      "            ],\n",
      "            \"type\": \"http://www.w3.org/ns/dcat#Distribution\"\n",
      "          }\n",
      "        ],\n",
      "        \"identifier\": \"https://catalegdades.caib.cat/d/i4m5-f48c\",\n",
      "        \"issued\": \"dom, 12 jun 2022 22:00:00 GMT+0000\",\n",
      "        \"keyword\": [\n",
      "          {\n",
      "            \"_value\": \"illes balears\",\n",
      "            \"_lang\": \"es\"\n",
      "          },\n",
      "          {\n",
      "            \"_value\": \"recursos h\\u00eddrics\",\n",
      "            \"_lang\": \"es\"\n",
      "          }\n",
      "        ],\n",
      "        \"language\": [\n",
      "          \"ca\",\n",
      "          \"en\",\n",
      "          \"es\"\n",
      "        ],\n",
      "        \"license\": \"http://creativecommons.org/licenses/by/4.0/legalcode\",\n",
      "        \"modified\": \"mar, 08 oct 2024 22:00:00 GMT+0000\",\n",
      "        \"publisher\": \"http://datos.gob.es/recurso/sector-publico/org/Organismo/A04003003\",\n",
      "        \"spatial\": \"http://datos.gob.es/recurso/sector-publico/territorio/Autonomia/Illes-Balears\",\n",
      "        \"theme\": \"http://datos.gob.es/kos/sector-publico/sector/medio-ambiente\",\n",
      "        \"title\": [\n",
      "          {\n",
      "            \"_value\": \"Actuaciones de Conservaci\\u00f3n y Mantenimiento de Cauces\",\n",
      "            \"_lang\": \"es\"\n",
      "          },\n",
      "          {\n",
      "            \"_value\": \"Actuacions de Conservaci\\u00f3 i Manteniment de Lleres\",\n",
      "            \"_lang\": \"ca\"\n",
      "          },\n",
      "          {\n",
      "            \"_value\": \"Conservation and Maintenance Actions of Watercourses\",\n",
      "            \"_lang\": \"en\"\n",
      "          }\n",
      "        ],\n",
      "        \"type\": \"http://www.w3.org/ns/dcat#Dataset\"\n",
      "      },\n",
      "      {\n",
      "        \"_about\": \"https://datos.gob.es/catalogo/a09002970-actualidad-del-departamento-de-agricultura-ganaderia-pesca-y-alimentacion\",\n",
      "        \"accrualPeriodicity\": {\n",
      "          \"_about\": \"https://datos.gob.es/catalogo/a09002970-actualidad-del-departamento-de-agricultura-ganaderia-pesca-y-alimentacion/Frequency\",\n",
      "          \"value\": {\n",
      "            \"_about\": \"https://datos.gob.es/catalogo/a09002970-actualidad-del-departamento-de-agricultura-ganaderia-pesca-y-alimentacion/DurationDescription\",\n",
      "            \"days\": 1.0\n",
      "          }\n",
      "        },\n",
      "        \"description\": [\n",
      "          {\n",
      "            \"_value\": \"Darreres not\\u00edcies que es publiquen a la p\\u00e0gina d'inici del portal del Departament d'Agricultura.\",\n",
      "            \"_lang\": \"es\"\n",
      "          },\n",
      "          {\n",
      "            \"_value\": \"Darreres not\\u00edcies que es publiquen a la p\\u00e0gina d'inici del portal del Departament d'Agricultura.\",\n",
      "            \"_lang\": \"en\"\n",
      "          },\n",
      "          {\n",
      "            \"_value\": \"Darreres not\\u00edcies que es publiquen a la p\\u00e0gina d'inici del portal del Departament d'Agricultura.\",\n",
      "            \"_lang\": \"ca\"\n",
      "          }\n",
      "        ],\n",
      "        \"distribution\": {\n",
      "          \"_about\": \"https://datos.gob.es/catalogo/a09002970-actualidad-del-departamento-de-agricultura-ganaderia-pesca-y-alimentacion/resource/ea3be287-d3cf-45f3-9815-eabbd6bfa347\",\n",
      "          \"accessURL\": \"http://agricultura.gencat.cat/ca/rss/\",\n",
      "          \"format\": {\n",
      "            \"_about\": \"https://datos.gob.es/catalogo/a09002970-actualidad-del-departamento-de-agricultura-ganaderia-pesca-y-alimentacion/resource/ea3be287-d3cf-45f3-9815-eabbd6bfa347/format\",\n",
      "            \"type\": \"http://purl.org/dc/terms/IMT\",\n",
      "            \"value\": \"text/html\"\n",
      "          },\n",
      "          \"identifier\": \"https://analisi.transparenciacatalunya.cat/d/9n3i-z5mw\",\n",
      "          \"title\": [\n",
      "            {\n",
      "              \"_value\": \"Actualidad del Departamento de Agricultura, Ganader\\u00eda, Pesca y Alimentaci\\u00f3n\",\n",
      "              \"_lang\": \"es\"\n",
      "            },\n",
      "            {\n",
      "              \"_value\": \"Actualitat del Departament d'Agricultura, Ramaderia, Pesca i Alimentaci\\u00f3\",\n",
      "              \"_lang\": \"ca\"\n",
      "            },\n",
      "            {\n",
      "              \"_value\": \"News from the Department of Agriculture, Livestock, Fisheries and Food\",\n",
      "              \"_lang\": \"en\"\n",
      "            }\n",
      "          ],\n",
      "          \"type\": \"http://www.w3.org/ns/dcat#Distribution\"\n",
      "        },\n",
      "        \"identifier\": \"https://analisi.transparenciacatalunya.cat/api/views/9n3i-z5mw\",\n",
      "        \"issued\": \"mi\\u00e9, 22 feb 2017 23:00:00 GMT+0000\",\n",
      "        \"keyword\": [\n",
      "          {\n",
      "            \"_value\": \"agricultura\",\n",
      "            \"_lang\": \"es\"\n",
      "          },\n",
      "          {\n",
      "            \"_value\": \"not\\u00edcies\",\n",
      "            \"_lang\": \"es\"\n",
      "          },\n",
      "          {\n",
      "            \"_value\": \"ods12_producci\\u00f3 i consum responsable\",\n",
      "            \"_lang\": \"es\"\n",
      "          },\n",
      "          {\n",
      "            \"_value\": \"ods13_acci\\u00f3 pel clima\",\n",
      "            \"_lang\": \"es\"\n",
      "          },\n",
      "          {\n",
      "            \"_value\": \"ods4_educaci\\u00f3 de qualitat\",\n",
      "            \"_lang\": \"es\"\n",
      "          }\n",
      "        ],\n",
      "        \"language\": \"ca\",\n",
      "        \"license\": \"https://administraciodigital.gencat.cat/ca/dades/dades-obertes/informacio-practica/llicencies/\",\n",
      "        \"modified\": \"dom, 06 abr 2025 22:00:00 GMT+0000\",\n",
      "        \"publisher\": \"http://datos.gob.es/recurso/sector-publico/org/Organismo/A09002970\",\n",
      "        \"references\": \"https://analisi.transparenciacatalunya.cat/d/9n3i-z5mw\",\n",
      "        \"spatial\": \"http://datos.gob.es/recurso/sector-publico/territorio/Autonomia/Cataluna\",\n",
      "        \"theme\": \"http://datos.gob.es/kos/sector-publico/sector/medio-rural-pesca\",\n",
      "        \"title\": [\n",
      "          {\n",
      "            \"_value\": \"Actualidad del Departamento de Agricultura, Ganader\\u00eda, Pesca y Alimentaci\\u00f3n\",\n",
      "            \"_lang\": \"es\"\n",
      "          },\n",
      "          {\n",
      "            \"_value\": \"Actualitat del Departament d'Agricultura, Ramaderia, Pesca i Alimentaci\\u00f3\",\n",
      "            \"_lang\": \"ca\"\n",
      "          },\n",
      "          {\n",
      "            \"_value\": \"News from the Department of Agriculture, Livestock, Fisheries and Food\",\n",
      "            \"_lang\": \"en\"\n",
      "          }\n",
      "        ],\n",
      "        \"type\": \"http://www.w3.org/ns/dcat#Dataset\"\n",
      "      }\n",
      "    ],\n",
      "    \"itemsPerPage\": 20,\n",
      "    \"next\": \"http://datos.gob.es/apidata/catalog/dataset.json?_page=1&_sort=title\",\n",
      "    \"page\": 0,\n",
      "    \"startIndex\": 1,\n",
      "    \"type\": \"http://purl.org/linked-data/api/vocab#Page\"\n",
      "  }\n",
      "}\n"
     ]
    }
   ],
   "source": [
    "#url = \"https://datos.gob.es/apidata/catalog/dataset/a10002983-resultados-de-elecciones-europeas?\"\n",
    "#/a10002983\n",
    "#url = \"https://datos.gob.es/apidata/catalog/publisher?_sort=notation&_pageSize=10&_page=1\"\n",
    "#url = f\"https://datos.gob.es/apidata/catalog/dataset?_sort=title&_publisher={gv_id}\"\n",
    "url = \"https://datos.gob.es/apidata/catalog/dataset?_sort=title&_pageSize=10\"\n",
    "url = \"https://datos.gob.es/apidata/catalog/dataset?_sort=title&_pageSize=20\"\n",
    "\n",
    "\n",
    "ua = UserAgent()\n",
    "headers = {'User-Agent': ua.random}\n",
    "response = requests.get(url, headers=headers)\n",
    "\n",
    "\n",
    "if response.status_code == 200:\n",
    "    data = response.json()\n",
    "\n",
    "    # Imprimir toda la estructura del JSON para inspección manual\n",
    "    print(\"Estructura de la respuesta:\")\n",
    "    print(json.dumps(data, indent=2))\n",
    "\n",
    "else:\n",
    "    print(\"Error al obtener los datasets:\", response.status_code)\n",
    "\n",
    "\n"
   ]
  },
  {
   "cell_type": "code",
   "execution_count": 30,
   "id": "9f030268",
   "metadata": {},
   "outputs": [
    {
     "ename": "KeyError",
     "evalue": "'prefLabel'",
     "output_type": "error",
     "traceback": [
      "\u001b[1;31m---------------------------------------------------------------------------\u001b[0m",
      "\u001b[1;31mKeyError\u001b[0m                                  Traceback (most recent call last)",
      "Cell \u001b[1;32mIn[30], line 5\u001b[0m\n\u001b[0;32m      2\u001b[0m data \u001b[38;5;241m=\u001b[39m response\u001b[38;5;241m.\u001b[39mjson()\n\u001b[0;32m      4\u001b[0m \u001b[38;5;66;03m# Filtrar los resultados para encontrar la Generalitat Valenciana\u001b[39;00m\n\u001b[1;32m----> 5\u001b[0m gv_publisher \u001b[38;5;241m=\u001b[39m [item \u001b[38;5;28;01mfor\u001b[39;00m item \u001b[38;5;129;01min\u001b[39;00m data[\u001b[38;5;124m\"\u001b[39m\u001b[38;5;124mresult\u001b[39m\u001b[38;5;124m\"\u001b[39m][\u001b[38;5;124m\"\u001b[39m\u001b[38;5;124mitems\u001b[39m\u001b[38;5;124m\"\u001b[39m] \u001b[38;5;28;01mif\u001b[39;00m \u001b[38;5;124m\"\u001b[39m\u001b[38;5;124mGeneralitat Valenciana\u001b[39m\u001b[38;5;124m\"\u001b[39m \u001b[38;5;129;01min\u001b[39;00m \u001b[43mitem\u001b[49m\u001b[43m[\u001b[49m\u001b[38;5;124;43m\"\u001b[39;49m\u001b[38;5;124;43mprefLabel\u001b[39;49m\u001b[38;5;124;43m\"\u001b[39;49m\u001b[43m]\u001b[49m]\n\u001b[0;32m      7\u001b[0m \u001b[38;5;28;01mif\u001b[39;00m gv_publisher:\n\u001b[0;32m      8\u001b[0m     \u001b[38;5;28mprint\u001b[39m(\u001b[38;5;124m\"\u001b[39m\u001b[38;5;124mPublicador encontrado:\u001b[39m\u001b[38;5;124m\"\u001b[39m)\n",
      "\u001b[1;31mKeyError\u001b[0m: 'prefLabel'"
     ]
    }
   ],
   "source": [
    "if response.status_code == 200:\n",
    "    data = response.json()\n",
    "\n",
    "    # Filtrar los resultados para encontrar la Generalitat Valenciana\n",
    "    gv_publisher = [item for item in data[\"result\"][\"items\"] if \"Generalitat Valenciana\" in item[\"prefLabel\"]]\n",
    "\n",
    "    if gv_publisher:\n",
    "        print(\"Publicador encontrado:\")\n",
    "        print(gv_publisher)\n",
    "    else:\n",
    "        print(\"No se encontraron resultados para la Generalitat Valenciana.\")\n",
    "else:\n",
    "    print(\"Error al obtener los datos:\", response.status_code)\n"
   ]
  },
  {
   "cell_type": "code",
   "execution_count": 31,
   "id": "aa94018a",
   "metadata": {},
   "outputs": [
    {
     "ename": "KeyError",
     "evalue": "'prefLabel'",
     "output_type": "error",
     "traceback": [
      "\u001b[1;31m---------------------------------------------------------------------------\u001b[0m",
      "\u001b[1;31mKeyError\u001b[0m                                  Traceback (most recent call last)",
      "Cell \u001b[1;32mIn[31], line 5\u001b[0m\n\u001b[0;32m      2\u001b[0m data \u001b[38;5;241m=\u001b[39m response\u001b[38;5;241m.\u001b[39mjson()\n\u001b[0;32m      4\u001b[0m \u001b[38;5;66;03m# Filtrar los resultados para encontrar la Generalitat Valenciana\u001b[39;00m\n\u001b[1;32m----> 5\u001b[0m gv_publisher \u001b[38;5;241m=\u001b[39m [item \u001b[38;5;28;01mfor\u001b[39;00m item \u001b[38;5;129;01min\u001b[39;00m data[\u001b[38;5;124m\"\u001b[39m\u001b[38;5;124mresult\u001b[39m\u001b[38;5;124m\"\u001b[39m][\u001b[38;5;124m\"\u001b[39m\u001b[38;5;124mitems\u001b[39m\u001b[38;5;124m\"\u001b[39m] \u001b[38;5;28;01mif\u001b[39;00m \u001b[38;5;124m\"\u001b[39m\u001b[38;5;124mGeneralitat Valenciana\u001b[39m\u001b[38;5;124m\"\u001b[39m \u001b[38;5;129;01min\u001b[39;00m \u001b[43mitem\u001b[49m\u001b[43m[\u001b[49m\u001b[38;5;124;43m\"\u001b[39;49m\u001b[38;5;124;43mprefLabel\u001b[39;49m\u001b[38;5;124;43m\"\u001b[39;49m\u001b[43m]\u001b[49m]\n\u001b[0;32m      7\u001b[0m \u001b[38;5;28;01mif\u001b[39;00m gv_publisher:\n\u001b[0;32m      8\u001b[0m     \u001b[38;5;66;03m# Obtener el identificador de la Generalitat Valenciana\u001b[39;00m\n\u001b[0;32m      9\u001b[0m     gv_id \u001b[38;5;241m=\u001b[39m gv_publisher[\u001b[38;5;241m0\u001b[39m][\u001b[38;5;124m\"\u001b[39m\u001b[38;5;124mnotation\u001b[39m\u001b[38;5;124m\"\u001b[39m]\n",
      "\u001b[1;31mKeyError\u001b[0m: 'prefLabel'"
     ]
    }
   ],
   "source": [
    "if response.status_code == 200:\n",
    "    data = response.json()\n",
    "    \n",
    "    # Filtrar los resultados para encontrar la Generalitat Valenciana\n",
    "    gv_publisher = [item for item in data[\"result\"][\"items\"] if \"Generalitat Valenciana\" in item[\"prefLabel\"]]\n",
    "\n",
    "    if gv_publisher:\n",
    "        # Obtener el identificador de la Generalitat Valenciana\n",
    "        gv_id = gv_publisher[0][\"notation\"]\n",
    "        print(\"Identificador de la Generalitat Valenciana:\", gv_id)\n",
    "\n",
    "        # Construir la URL para consultar los datasets de la Generalitat Valenciana\n",
    "        datasets_url = f\"https://datos.gob.es/apidata/catalog/dataset?_sort=title&_publisher={gv_id}\"\n",
    "\n",
    "        # Obtener los datasets\n",
    "        datasets_response = requests.get(datasets_url)\n",
    "\n",
    "        if datasets_response.status_code == 200:\n",
    "            datasets_data = datasets_response.json()\n",
    "            print(\"Datasets disponibles:\")\n",
    "            \n",
    "            for item in datasets_data[\"result\"][\"items\"]:\n",
    "                print(f\"Título: {item.get('title', 'No disponible')}\")\n",
    "                print(f\"Enlace al dataset: {item['_about']}\\n\")\n",
    "        else:\n",
    "            print(\"Error al obtener los datasets:\", datasets_response.status_code)\n",
    "    else:\n",
    "        print(\"No se encontraron resultados para la Generalitat Valenciana.\")\n",
    "else:\n",
    "    print(\"Error al obtener los datos:\", response.status_code)"
   ]
  },
  {
   "cell_type": "markdown",
   "id": "46e2945b",
   "metadata": {},
   "source": [
    "Finalmente, después de varios intentos, no hemos podido conseguir la dirección API correcta. Probablemente alguna de las que hemos intentado o no es la correcta o hay algun problema de acceso a la API correcta."
   ]
  },
  {
   "cell_type": "markdown",
   "id": "e07401a8",
   "metadata": {},
   "source": [
    "### 3. Obtención de datos mediante SQLALCHEMY"
   ]
  },
  {
   "cell_type": "code",
   "execution_count": 32,
   "id": "d0c3ed5e",
   "metadata": {},
   "outputs": [],
   "source": [
    "import sqlite3\n",
    "from sqlalchemy import create_engine\n"
   ]
  },
  {
   "cell_type": "code",
   "execution_count": null,
   "id": "781ffd32",
   "metadata": {},
   "outputs": [],
   "source": [
    "# Datos de conexión (reemplaza con los tuyos)\n",
    "\n",
    "\n",
    "# Crear la cadena de conexión\n",
    "bbdd_aiven_sql = f\"mysql+pymysql://{DB_USER}:{DB_PASSWORD}@{DB_HOST}:{DB_PORT}/{DB_NAME}\"\n",
    "engine = create_engine(bbdd_aiven_sql, echo=False)\n"
   ]
  },
  {
   "cell_type": "code",
   "execution_count": 34,
   "id": "16bb4d70",
   "metadata": {},
   "outputs": [
    {
     "data": {
      "text/html": [
       "<div>\n",
       "<style scoped>\n",
       "    .dataframe tbody tr th:only-of-type {\n",
       "        vertical-align: middle;\n",
       "    }\n",
       "\n",
       "    .dataframe tbody tr th {\n",
       "        vertical-align: top;\n",
       "    }\n",
       "\n",
       "    .dataframe thead th {\n",
       "        text-align: right;\n",
       "    }\n",
       "</style>\n",
       "<table border=\"1\" class=\"dataframe\">\n",
       "  <thead>\n",
       "    <tr style=\"text-align: right;\">\n",
       "      <th></th>\n",
       "      <th>AÑOSID</th>\n",
       "      <th>AÑO</th>\n",
       "    </tr>\n",
       "  </thead>\n",
       "  <tbody>\n",
       "    <tr>\n",
       "      <th>0</th>\n",
       "      <td>1</td>\n",
       "      <td>2019</td>\n",
       "    </tr>\n",
       "    <tr>\n",
       "      <th>1</th>\n",
       "      <td>2</td>\n",
       "      <td>2014</td>\n",
       "    </tr>\n",
       "    <tr>\n",
       "      <th>2</th>\n",
       "      <td>3</td>\n",
       "      <td>2009</td>\n",
       "    </tr>\n",
       "  </tbody>\n",
       "</table>\n",
       "</div>"
      ],
      "text/plain": [
       "   AÑOSID   AÑO\n",
       "0       1  2019\n",
       "1       2  2014\n",
       "2       3  2009"
      ]
     },
     "execution_count": 34,
     "metadata": {},
     "output_type": "execute_result"
    }
   ],
   "source": [
    "elecciones_df = pd.read_sql_table(\"AÑOS\", con=engine)\n",
    "elecciones_df"
   ]
  }
 ],
 "metadata": {
  "kernelspec": {
   "display_name": "Python 3",
   "language": "python",
   "name": "python3"
  },
  "language_info": {
   "codemirror_mode": {
    "name": "ipython",
    "version": 3
   },
   "file_extension": ".py",
   "mimetype": "text/x-python",
   "name": "python",
   "nbconvert_exporter": "python",
   "pygments_lexer": "ipython3",
   "version": "3.12.9"
  }
 },
 "nbformat": 4,
 "nbformat_minor": 5
}
